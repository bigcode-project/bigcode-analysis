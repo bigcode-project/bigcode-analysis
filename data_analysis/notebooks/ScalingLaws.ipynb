{
 "cells": [
  {
   "cell_type": "code",
   "execution_count": 1,
   "id": "17489800-2e64-45c1-a3ea-6c900d5562a0",
   "metadata": {},
   "outputs": [],
   "source": [
    "from datasets import load_dataset\n",
    "import pandas as pd"
   ]
  },
  {
   "cell_type": "code",
   "execution_count": 2,
   "id": "add2a8de-af74-4275-b885-afbb2e56b499",
   "metadata": {},
   "outputs": [],
   "source": [
    "lang = \"py\"\n",
    "run_lang = \"python\""
   ]
  },
  {
   "cell_type": "code",
   "execution_count": 192,
   "id": "1a3578a4-52d2-4e2f-a81d-ee852be2cc40",
   "metadata": {
    "scrolled": true
   },
   "outputs": [
    {
     "data": {
      "text/html": [
       "<div>\n",
       "<style scoped>\n",
       "    .dataframe tbody tr th:only-of-type {\n",
       "        vertical-align: middle;\n",
       "    }\n",
       "\n",
       "    .dataframe tbody tr th {\n",
       "        vertical-align: top;\n",
       "    }\n",
       "\n",
       "    .dataframe thead th {\n",
       "        text-align: right;\n",
       "    }\n",
       "</style>\n",
       "<table border=\"1\" class=\"dataframe\">\n",
       "  <thead>\n",
       "    <tr style=\"text-align: right;\">\n",
       "      <th></th>\n",
       "      <th>name</th>\n",
       "      <th>_timestamp</th>\n",
       "      <th>loss-scale</th>\n",
       "      <th>learning-rate</th>\n",
       "      <th>_step</th>\n",
       "      <th>lm loss</th>\n",
       "      <th>samples</th>\n",
       "      <th>_runtime</th>\n",
       "      <th>grad-norm</th>\n",
       "      <th>lm loss validation</th>\n",
       "      <th>...</th>\n",
       "      <th>train_weighted_split_paths</th>\n",
       "      <th>valid_weighted_split_names</th>\n",
       "      <th>valid_weighted_split_paths</th>\n",
       "      <th>train_weighted_split_splits</th>\n",
       "      <th>valid_weighted_split_splits</th>\n",
       "      <th>train_weighted_split_weights</th>\n",
       "      <th>valid_weighted_split_weights</th>\n",
       "      <th>test_weighted_split_paths_path</th>\n",
       "      <th>train_weighted_split_paths_path</th>\n",
       "      <th>valid_weighted_split_paths_path</th>\n",
       "    </tr>\n",
       "  </thead>\n",
       "  <tbody>\n",
       "    <tr>\n",
       "      <th>11</th>\n",
       "      <td>run_7302.6M_6e+19_bs1_idx_69-pp2-8</td>\n",
       "      <td>1.679240e+09</td>\n",
       "      <td>1.0</td>\n",
       "      <td>4.467839e-09</td>\n",
       "      <td>1305.0</td>\n",
       "      <td>1.779671</td>\n",
       "      <td>665600.0</td>\n",
       "      <td>10447.029247</td>\n",
       "      <td>0.22727</td>\n",
       "      <td>NaN</td>\n",
       "      <td>...</td>\n",
       "      <td>[[/fsx/loubna/data/stack_new/code/css/gpt2-pre...</td>\n",
       "      <td>[VALID_css, VALID_prolog, VALID_c, VALID_fortr...</td>\n",
       "      <td>[[/fsx/loubna/data/stack_new/code/css/gpt2-pre...</td>\n",
       "      <td>[[0:0.969, 0:0.969, 0:0.969, 0:0.969, 0:0.969,...</td>\n",
       "      <td>[[0.969:0.999], [0.969:0.999], [0.969:0.999], ...</td>\n",
       "      <td>[[3.0, 0.01, 53.89, 1.78, 0.85, 5.68, 0.01, 1....</td>\n",
       "      <td>[[1], [1], [1], [1], [1], [1], [1], [1], [1], ...</td>\n",
       "      <td>NaN</td>\n",
       "      <td>NaN</td>\n",
       "      <td>NaN</td>\n",
       "    </tr>\n",
       "    <tr>\n",
       "      <th>12</th>\n",
       "      <td>run_7302.6M_3e+20_bs1_idx_96-pp2-16</td>\n",
       "      <td>1.679259e+09</td>\n",
       "      <td>1.0</td>\n",
       "      <td>5.786455e-10</td>\n",
       "      <td>6529.0</td>\n",
       "      <td>1.241626</td>\n",
       "      <td>3338240.0</td>\n",
       "      <td>29714.369224</td>\n",
       "      <td>0.140716</td>\n",
       "      <td>NaN</td>\n",
       "      <td>...</td>\n",
       "      <td>[[/fsx/loubna/data/stack_new/code/css/gpt2-pre...</td>\n",
       "      <td>[VALID_css, VALID_prolog, VALID_c, VALID_fortr...</td>\n",
       "      <td>[[/fsx/loubna/data/stack_new/code/css/gpt2-pre...</td>\n",
       "      <td>[[0:0.969, 0:0.969, 0:0.969, 0:0.969, 0:0.969,...</td>\n",
       "      <td>[[0.969:0.999], [0.969:0.999], [0.969:0.999], ...</td>\n",
       "      <td>[[3.0, 0.01, 53.89, 1.78, 0.85, 5.68, 0.01, 1....</td>\n",
       "      <td>[[1], [1], [1], [1], [1], [1], [1], [1], [1], ...</td>\n",
       "      <td>NaN</td>\n",
       "      <td>NaN</td>\n",
       "      <td>NaN</td>\n",
       "    </tr>\n",
       "  </tbody>\n",
       "</table>\n",
       "<p>2 rows × 317 columns</p>\n",
       "</div>"
      ],
      "text/plain": [
       "                                   name    _timestamp  loss-scale  \\\n",
       "11   run_7302.6M_6e+19_bs1_idx_69-pp2-8  1.679240e+09         1.0   \n",
       "12  run_7302.6M_3e+20_bs1_idx_96-pp2-16  1.679259e+09         1.0   \n",
       "\n",
       "    learning-rate   _step   lm loss    samples      _runtime grad-norm  \\\n",
       "11   4.467839e-09  1305.0  1.779671   665600.0  10447.029247   0.22727   \n",
       "12   5.786455e-10  6529.0  1.241626  3338240.0  29714.369224  0.140716   \n",
       "\n",
       "    lm loss validation  ...  \\\n",
       "11                 NaN  ...   \n",
       "12                 NaN  ...   \n",
       "\n",
       "                           train_weighted_split_paths  \\\n",
       "11  [[/fsx/loubna/data/stack_new/code/css/gpt2-pre...   \n",
       "12  [[/fsx/loubna/data/stack_new/code/css/gpt2-pre...   \n",
       "\n",
       "                           valid_weighted_split_names  \\\n",
       "11  [VALID_css, VALID_prolog, VALID_c, VALID_fortr...   \n",
       "12  [VALID_css, VALID_prolog, VALID_c, VALID_fortr...   \n",
       "\n",
       "                           valid_weighted_split_paths  \\\n",
       "11  [[/fsx/loubna/data/stack_new/code/css/gpt2-pre...   \n",
       "12  [[/fsx/loubna/data/stack_new/code/css/gpt2-pre...   \n",
       "\n",
       "                          train_weighted_split_splits  \\\n",
       "11  [[0:0.969, 0:0.969, 0:0.969, 0:0.969, 0:0.969,...   \n",
       "12  [[0:0.969, 0:0.969, 0:0.969, 0:0.969, 0:0.969,...   \n",
       "\n",
       "                          valid_weighted_split_splits  \\\n",
       "11  [[0.969:0.999], [0.969:0.999], [0.969:0.999], ...   \n",
       "12  [[0.969:0.999], [0.969:0.999], [0.969:0.999], ...   \n",
       "\n",
       "                         train_weighted_split_weights  \\\n",
       "11  [[3.0, 0.01, 53.89, 1.78, 0.85, 5.68, 0.01, 1....   \n",
       "12  [[3.0, 0.01, 53.89, 1.78, 0.85, 5.68, 0.01, 1....   \n",
       "\n",
       "                         valid_weighted_split_weights  \\\n",
       "11  [[1], [1], [1], [1], [1], [1], [1], [1], [1], ...   \n",
       "12  [[1], [1], [1], [1], [1], [1], [1], [1], [1], ...   \n",
       "\n",
       "    test_weighted_split_paths_path  train_weighted_split_paths_path  \\\n",
       "11                             NaN                              NaN   \n",
       "12                             NaN                              NaN   \n",
       "\n",
       "    valid_weighted_split_paths_path  \n",
       "11                              NaN  \n",
       "12                              NaN  \n",
       "\n",
       "[2 rows x 317 columns]"
      ]
     },
     "execution_count": 192,
     "metadata": {},
     "output_type": "execute_result"
    }
   ],
   "source": [
    "import wandb\n",
    "\n",
    "api = wandb.Api()\n",
    "entity, project = \"loubnabnl\", \"scaling_laws\"  # set to your entity and project \n",
    "runs = api.runs(entity + \"/\" + project) \n",
    "\n",
    "summary_list, config_list, name_list = [], [], []\n",
    "for run in runs: \n",
    "    # .summary contains the output keys/values for metrics like accuracy.\n",
    "    #  We call ._json_dict to omit large files \n",
    "    summary_list.append(run.summary._json_dict)\n",
    "\n",
    "    # .config contains the hyperparameters.\n",
    "    #  We remove special values that start with _.\n",
    "    config_list.append(\n",
    "        {k: v for k,v in run.config.items()\n",
    "         if not k.startswith('_')})\n",
    "\n",
    "    # .name is the human-readable name of the run.\n",
    "    name_list.append(run.name)\n",
    "\n",
    "orig_runs_df = pd.DataFrame({\n",
    "    \"summary\": summary_list,\n",
    "    \"config\": config_list,\n",
    "    \"name\": name_list\n",
    "    })\n",
    "\n",
    "def expand_dict_to_columns(df, col):\n",
    "    return pd.concat([df.drop([col], axis=1),  pd.json_normalize(df[col])], axis=1)\n",
    "\n",
    "run_df = expand_dict_to_columns(orig_runs_df, \"summary\")\n",
    "run_df = expand_dict_to_columns(run_df, \"config\")\n",
    "\n",
    "keep_cols = [c for c in run_df if \"lm-loss-validation/TEST_\" not in c]\n",
    "run_df = run_df[keep_cols]\n",
    "\n",
    "df_run = run_df[run_df[\"_step\"] >= .99 * run_df[\"train_iters\"]]\n",
    "df_run.head(2)"
   ]
  },
  {
   "cell_type": "code",
   "execution_count": 193,
   "id": "495e3bc0-df77-4ba0-b77d-099ed31b8cdc",
   "metadata": {},
   "outputs": [
    {
     "name": "stderr",
     "output_type": "stream",
     "text": [
      "Using custom data configuration nuprl--pass_k_with_MultiPL-E-c92221ca283a18dd\n",
      "Found cached dataset parquet (/Users/harm.devries/.cache/huggingface/datasets/nuprl___parquet/nuprl--pass_k_with_MultiPL-E-c92221ca283a18dd/0.0.0/2a3b91fbd88a2c90d1dbbb32b460cf621d31bd5b05b934492fdef7d8d6f236ec)\n",
      "Loading cached processed dataset at /Users/harm.devries/.cache/huggingface/datasets/nuprl___parquet/nuprl--pass_k_with_MultiPL-E-c92221ca283a18dd/0.0.0/2a3b91fbd88a2c90d1dbbb32b460cf621d31bd5b05b934492fdef7d8d6f236ec/cache-6a54d5e1c55fe093.arrow\n",
      "Loading cached processed dataset at /Users/harm.devries/.cache/huggingface/datasets/nuprl___parquet/nuprl--pass_k_with_MultiPL-E-c92221ca283a18dd/0.0.0/2a3b91fbd88a2c90d1dbbb32b460cf621d31bd5b05b934492fdef7d8d6f236ec/cache-19425d89520c9fdd.arrow\n",
      "Loading cached processed dataset at /Users/harm.devries/.cache/huggingface/datasets/nuprl___parquet/nuprl--pass_k_with_MultiPL-E-c92221ca283a18dd/0.0.0/2a3b91fbd88a2c90d1dbbb32b460cf621d31bd5b05b934492fdef7d8d6f236ec/cache-863f7e9397bfb317.arrow\n",
      "Loading cached processed dataset at /Users/harm.devries/.cache/huggingface/datasets/nuprl___parquet/nuprl--pass_k_with_MultiPL-E-c92221ca283a18dd/0.0.0/2a3b91fbd88a2c90d1dbbb32b460cf621d31bd5b05b934492fdef7d8d6f236ec/cache-6c814bb71a218bd3.arrow\n"
     ]
    }
   ],
   "source": [
    "scores = load_dataset(\"nuprl/pass_k_with_MultiPL-E\", split=\"train\", use_auth_token=True, revision=\"bigcode_scaling_laws\")\n",
    "\n",
    "scores = scores.map(lambda x: {\"idx\": int(x[\"Experiment\"].split(\"idx_\")[1].split(\"-\")[0])})\n",
    "scores = scores.map(lambda x: {\"lang\": x[\"Experiment\"].split(\"humaneval-\")[1].split(\"-\")[0]})\n",
    "\n",
    "scores = scores.filter(lambda x: x[\"k\"]==100)\n",
    "scores = scores.filter(lambda x: x[\"lang\"]==lang)\n",
    "\n",
    "df_scores = scores.to_pandas()"
   ]
  },
  {
   "cell_type": "code",
   "execution_count": 194,
   "id": "58a98cd3-83ca-412a-9090-9ae1af4a8d52",
   "metadata": {},
   "outputs": [
    {
     "data": {
      "text/html": [
       "<div>\n",
       "<style scoped>\n",
       "    .dataframe tbody tr th:only-of-type {\n",
       "        vertical-align: middle;\n",
       "    }\n",
       "\n",
       "    .dataframe tbody tr th {\n",
       "        vertical-align: top;\n",
       "    }\n",
       "\n",
       "    .dataframe thead th {\n",
       "        text-align: right;\n",
       "    }\n",
       "</style>\n",
       "<table border=\"1\" class=\"dataframe\">\n",
       "  <thead>\n",
       "    <tr style=\"text-align: right;\">\n",
       "      <th></th>\n",
       "      <th>Experiment</th>\n",
       "      <th>k</th>\n",
       "      <th>PassRate</th>\n",
       "      <th>idx</th>\n",
       "      <th>lang</th>\n",
       "    </tr>\n",
       "  </thead>\n",
       "  <tbody>\n",
       "    <tr>\n",
       "      <th>0</th>\n",
       "      <td>humaneval-py-bigcode_scalinglaws_run_1124.9M_1...</td>\n",
       "      <td>100</td>\n",
       "      <td>0.158044</td>\n",
       "      <td>79</td>\n",
       "      <td>py</td>\n",
       "    </tr>\n",
       "    <tr>\n",
       "      <th>1</th>\n",
       "      <td>humaneval-py-bigcode_scalinglaws_run_1124.9M_6...</td>\n",
       "      <td>100</td>\n",
       "      <td>0.131404</td>\n",
       "      <td>64</td>\n",
       "      <td>py</td>\n",
       "    </tr>\n",
       "    <tr>\n",
       "      <th>2</th>\n",
       "      <td>humaneval-py-bigcode_scalinglaws_run_15.9M_3e+...</td>\n",
       "      <td>100</td>\n",
       "      <td>0.010788</td>\n",
       "      <td>39</td>\n",
       "      <td>py</td>\n",
       "    </tr>\n",
       "    <tr>\n",
       "      <th>3</th>\n",
       "      <td>humaneval-py-bigcode_scalinglaws_run_111.5M_1e...</td>\n",
       "      <td>100</td>\n",
       "      <td>0.050874</td>\n",
       "      <td>30</td>\n",
       "      <td>py</td>\n",
       "    </tr>\n",
       "    <tr>\n",
       "      <th>4</th>\n",
       "      <td>humaneval-py-bigcode_scalinglaws_run_3026.4M_6...</td>\n",
       "      <td>100</td>\n",
       "      <td>0.065264</td>\n",
       "      <td>67</td>\n",
       "      <td>py</td>\n",
       "    </tr>\n",
       "    <tr>\n",
       "      <th>...</th>\n",
       "      <td>...</td>\n",
       "      <td>...</td>\n",
       "      <td>...</td>\n",
       "      <td>...</td>\n",
       "      <td>...</td>\n",
       "    </tr>\n",
       "    <tr>\n",
       "      <th>92</th>\n",
       "      <td>humaneval-py-bigcode_scalinglaws_run_6.9M_6e+1...</td>\n",
       "      <td>100</td>\n",
       "      <td>0.000000</td>\n",
       "      <td>11</td>\n",
       "      <td>py</td>\n",
       "    </tr>\n",
       "    <tr>\n",
       "      <th>93</th>\n",
       "      <td>humaneval-py-bigcode_scalinglaws_run_286.4M_3e...</td>\n",
       "      <td>100</td>\n",
       "      <td>0.208808</td>\n",
       "      <td>87</td>\n",
       "      <td>py</td>\n",
       "    </tr>\n",
       "    <tr>\n",
       "      <th>94</th>\n",
       "      <td>humaneval-py-bigcode_scalinglaws_run_286.4M_1e...</td>\n",
       "      <td>100</td>\n",
       "      <td>0.168398</td>\n",
       "      <td>75</td>\n",
       "      <td>py</td>\n",
       "    </tr>\n",
       "    <tr>\n",
       "      <th>95</th>\n",
       "      <td>humaneval-py-bigcode_scalinglaws_run_6.9M_3e+1...</td>\n",
       "      <td>100</td>\n",
       "      <td>0.000000</td>\n",
       "      <td>0</td>\n",
       "      <td>py</td>\n",
       "    </tr>\n",
       "    <tr>\n",
       "      <th>96</th>\n",
       "      <td>humaneval-py-bigcode_scalinglaws_run_111.5M_6e...</td>\n",
       "      <td>100</td>\n",
       "      <td>0.041556</td>\n",
       "      <td>17</td>\n",
       "      <td>py</td>\n",
       "    </tr>\n",
       "  </tbody>\n",
       "</table>\n",
       "<p>97 rows × 5 columns</p>\n",
       "</div>"
      ],
      "text/plain": [
       "                                           Experiment    k  PassRate  idx lang\n",
       "0   humaneval-py-bigcode_scalinglaws_run_1124.9M_1...  100  0.158044   79   py\n",
       "1   humaneval-py-bigcode_scalinglaws_run_1124.9M_6...  100  0.131404   64   py\n",
       "2   humaneval-py-bigcode_scalinglaws_run_15.9M_3e+...  100  0.010788   39   py\n",
       "3   humaneval-py-bigcode_scalinglaws_run_111.5M_1e...  100  0.050874   30   py\n",
       "4   humaneval-py-bigcode_scalinglaws_run_3026.4M_6...  100  0.065264   67   py\n",
       "..                                                ...  ...       ...  ...  ...\n",
       "92  humaneval-py-bigcode_scalinglaws_run_6.9M_6e+1...  100  0.000000   11   py\n",
       "93  humaneval-py-bigcode_scalinglaws_run_286.4M_3e...  100  0.208808   87   py\n",
       "94  humaneval-py-bigcode_scalinglaws_run_286.4M_1e...  100  0.168398   75   py\n",
       "95  humaneval-py-bigcode_scalinglaws_run_6.9M_3e+1...  100  0.000000    0   py\n",
       "96  humaneval-py-bigcode_scalinglaws_run_111.5M_6e...  100  0.041556   17   py\n",
       "\n",
       "[97 rows x 5 columns]"
      ]
     },
     "execution_count": 194,
     "metadata": {},
     "output_type": "execute_result"
    }
   ],
   "source": [
    "df_scores"
   ]
  },
  {
   "cell_type": "code",
   "execution_count": 195,
   "id": "957d4787-7227-48a7-a3e4-e6ca81a4724f",
   "metadata": {},
   "outputs": [],
   "source": [
    "df_experiments = pd.read_csv(\"scaling_laws.csv\")"
   ]
  },
  {
   "cell_type": "code",
   "execution_count": 196,
   "id": "55e595ba-b389-474d-b9db-f61c65ea83c5",
   "metadata": {},
   "outputs": [],
   "source": [
    "df = df_scores.merge(df_experiments, how=\"left\", on=\"idx\")"
   ]
  },
  {
   "cell_type": "code",
   "execution_count": 197,
   "id": "9fd9a066-f54d-4cf5-b4d9-3d3142a09c8d",
   "metadata": {},
   "outputs": [
    {
     "data": {
      "text/html": [
       "<div>\n",
       "<style scoped>\n",
       "    .dataframe tbody tr th:only-of-type {\n",
       "        vertical-align: middle;\n",
       "    }\n",
       "\n",
       "    .dataframe tbody tr th {\n",
       "        vertical-align: top;\n",
       "    }\n",
       "\n",
       "    .dataframe thead th {\n",
       "        text-align: right;\n",
       "    }\n",
       "</style>\n",
       "<table border=\"1\" class=\"dataframe\">\n",
       "  <thead>\n",
       "    <tr style=\"text-align: right;\">\n",
       "      <th></th>\n",
       "      <th>Experiment</th>\n",
       "      <th>k</th>\n",
       "      <th>PassRate</th>\n",
       "      <th>idx</th>\n",
       "      <th>lang</th>\n",
       "      <th>num_layer</th>\n",
       "      <th>hidden_size</th>\n",
       "      <th>num_heads</th>\n",
       "      <th>param_count</th>\n",
       "      <th>compute</th>\n",
       "      <th>...</th>\n",
       "      <th>attention_head_type</th>\n",
       "      <th>sequence_length</th>\n",
       "      <th>batch_size_tokens</th>\n",
       "      <th>global_batch_size</th>\n",
       "      <th>learning_rate</th>\n",
       "      <th>num_gpu</th>\n",
       "      <th>training_time</th>\n",
       "      <th>micro_batch_size</th>\n",
       "      <th>training_iters</th>\n",
       "      <th>lr_warmup_iters</th>\n",
       "    </tr>\n",
       "  </thead>\n",
       "  <tbody>\n",
       "    <tr>\n",
       "      <th>26</th>\n",
       "      <td>humaneval-py-bigcode_scalinglaws_run_1124.9M_1...</td>\n",
       "      <td>100</td>\n",
       "      <td>0.315121</td>\n",
       "      <td>110</td>\n",
       "      <td>py</td>\n",
       "      <td>24</td>\n",
       "      <td>2048</td>\n",
       "      <td>16</td>\n",
       "      <td>1124.9</td>\n",
       "      <td>1.000000e+21</td>\n",
       "      <td>...</td>\n",
       "      <td>multiquery</td>\n",
       "      <td>2048</td>\n",
       "      <td>524000.0</td>\n",
       "      <td>256</td>\n",
       "      <td>0.00020</td>\n",
       "      <td>32</td>\n",
       "      <td>2.898</td>\n",
       "      <td>8</td>\n",
       "      <td>282599</td>\n",
       "      <td>1000</td>\n",
       "    </tr>\n",
       "    <tr>\n",
       "      <th>69</th>\n",
       "      <td>humaneval-py-bigcode_scalinglaws_run_874.2M_1e...</td>\n",
       "      <td>100</td>\n",
       "      <td>0.312185</td>\n",
       "      <td>109</td>\n",
       "      <td>py</td>\n",
       "      <td>24</td>\n",
       "      <td>1792</td>\n",
       "      <td>14</td>\n",
       "      <td>874.2</td>\n",
       "      <td>1.000000e+21</td>\n",
       "      <td>...</td>\n",
       "      <td>multiquery</td>\n",
       "      <td>2048</td>\n",
       "      <td>524000.0</td>\n",
       "      <td>256</td>\n",
       "      <td>0.00020</td>\n",
       "      <td>32</td>\n",
       "      <td>2.898</td>\n",
       "      <td>8</td>\n",
       "      <td>363648</td>\n",
       "      <td>1000</td>\n",
       "    </tr>\n",
       "    <tr>\n",
       "      <th>20</th>\n",
       "      <td>humaneval-py-bigcode_scalinglaws_run_2118.0M_1...</td>\n",
       "      <td>100</td>\n",
       "      <td>0.304948</td>\n",
       "      <td>112</td>\n",
       "      <td>py</td>\n",
       "      <td>30</td>\n",
       "      <td>2560</td>\n",
       "      <td>20</td>\n",
       "      <td>2118.0</td>\n",
       "      <td>1.000000e+21</td>\n",
       "      <td>...</td>\n",
       "      <td>multiquery</td>\n",
       "      <td>2048</td>\n",
       "      <td>524000.0</td>\n",
       "      <td>256</td>\n",
       "      <td>0.00015</td>\n",
       "      <td>32</td>\n",
       "      <td>2.898</td>\n",
       "      <td>8</td>\n",
       "      <td>150090</td>\n",
       "      <td>1000</td>\n",
       "    </tr>\n",
       "  </tbody>\n",
       "</table>\n",
       "<p>3 rows × 21 columns</p>\n",
       "</div>"
      ],
      "text/plain": [
       "                                           Experiment    k  PassRate  idx  \\\n",
       "26  humaneval-py-bigcode_scalinglaws_run_1124.9M_1...  100  0.315121  110   \n",
       "69  humaneval-py-bigcode_scalinglaws_run_874.2M_1e...  100  0.312185  109   \n",
       "20  humaneval-py-bigcode_scalinglaws_run_2118.0M_1...  100  0.304948  112   \n",
       "\n",
       "   lang  num_layer  hidden_size  num_heads  param_count       compute  ...  \\\n",
       "26   py         24         2048         16       1124.9  1.000000e+21  ...   \n",
       "69   py         24         1792         14        874.2  1.000000e+21  ...   \n",
       "20   py         30         2560         20       2118.0  1.000000e+21  ...   \n",
       "\n",
       "    attention_head_type sequence_length  batch_size_tokens  global_batch_size  \\\n",
       "26           multiquery            2048           524000.0                256   \n",
       "69           multiquery            2048           524000.0                256   \n",
       "20           multiquery            2048           524000.0                256   \n",
       "\n",
       "    learning_rate  num_gpu  training_time  micro_batch_size  training_iters  \\\n",
       "26        0.00020       32          2.898                 8          282599   \n",
       "69        0.00020       32          2.898                 8          363648   \n",
       "20        0.00015       32          2.898                 8          150090   \n",
       "\n",
       "    lr_warmup_iters  \n",
       "26             1000  \n",
       "69             1000  \n",
       "20             1000  \n",
       "\n",
       "[3 rows x 21 columns]"
      ]
     },
     "execution_count": 197,
     "metadata": {},
     "output_type": "execute_result"
    }
   ],
   "source": [
    "df.sort_values(by=\"PassRate\", ascending=False).head(3)"
   ]
  },
  {
   "cell_type": "code",
   "execution_count": 198,
   "id": "396d7d1e-fd73-4dca-8b7b-bce288126b06",
   "metadata": {},
   "outputs": [
    {
     "data": {
      "text/html": [
       "<div>\n",
       "<style scoped>\n",
       "    .dataframe tbody tr th:only-of-type {\n",
       "        vertical-align: middle;\n",
       "    }\n",
       "\n",
       "    .dataframe tbody tr th {\n",
       "        vertical-align: top;\n",
       "    }\n",
       "\n",
       "    .dataframe thead th {\n",
       "        text-align: right;\n",
       "    }\n",
       "</style>\n",
       "<table border=\"1\" class=\"dataframe\">\n",
       "  <thead>\n",
       "    <tr style=\"text-align: right;\">\n",
       "      <th></th>\n",
       "      <th>Experiment</th>\n",
       "      <th>k</th>\n",
       "      <th>PassRate</th>\n",
       "      <th>idx</th>\n",
       "      <th>lang</th>\n",
       "      <th>num_layer</th>\n",
       "      <th>hidden_size</th>\n",
       "      <th>num_heads</th>\n",
       "      <th>param_count</th>\n",
       "      <th>compute</th>\n",
       "      <th>...</th>\n",
       "      <th>sequence_length</th>\n",
       "      <th>batch_size_tokens</th>\n",
       "      <th>global_batch_size</th>\n",
       "      <th>learning_rate</th>\n",
       "      <th>num_gpu</th>\n",
       "      <th>training_time</th>\n",
       "      <th>micro_batch_size</th>\n",
       "      <th>training_iters</th>\n",
       "      <th>lr_warmup_iters</th>\n",
       "      <th>name</th>\n",
       "    </tr>\n",
       "  </thead>\n",
       "  <tbody>\n",
       "    <tr>\n",
       "      <th>0</th>\n",
       "      <td>humaneval-py-bigcode_scalinglaws_run_1124.9M_1...</td>\n",
       "      <td>100</td>\n",
       "      <td>0.158044</td>\n",
       "      <td>79</td>\n",
       "      <td>py</td>\n",
       "      <td>24</td>\n",
       "      <td>2048</td>\n",
       "      <td>16</td>\n",
       "      <td>1124.9</td>\n",
       "      <td>1.000000e+20</td>\n",
       "      <td>...</td>\n",
       "      <td>2048</td>\n",
       "      <td>524000.0</td>\n",
       "      <td>256</td>\n",
       "      <td>0.00020</td>\n",
       "      <td>8</td>\n",
       "      <td>1.159</td>\n",
       "      <td>32</td>\n",
       "      <td>28259</td>\n",
       "      <td>1000</td>\n",
       "      <td>run_1124.9M_1e+20_bs8_idx_79</td>\n",
       "    </tr>\n",
       "    <tr>\n",
       "      <th>1</th>\n",
       "      <td>humaneval-py-bigcode_scalinglaws_run_1124.9M_6...</td>\n",
       "      <td>100</td>\n",
       "      <td>0.131404</td>\n",
       "      <td>64</td>\n",
       "      <td>py</td>\n",
       "      <td>24</td>\n",
       "      <td>2048</td>\n",
       "      <td>16</td>\n",
       "      <td>1124.9</td>\n",
       "      <td>6.000000e+19</td>\n",
       "      <td>...</td>\n",
       "      <td>2048</td>\n",
       "      <td>524000.0</td>\n",
       "      <td>256</td>\n",
       "      <td>0.00020</td>\n",
       "      <td>8</td>\n",
       "      <td>0.696</td>\n",
       "      <td>32</td>\n",
       "      <td>16955</td>\n",
       "      <td>1000</td>\n",
       "      <td>run_1124.9M_6e+19_bs8_idx_64</td>\n",
       "    </tr>\n",
       "    <tr>\n",
       "      <th>2</th>\n",
       "      <td>humaneval-py-bigcode_scalinglaws_run_15.9M_3e+...</td>\n",
       "      <td>100</td>\n",
       "      <td>0.010788</td>\n",
       "      <td>39</td>\n",
       "      <td>py</td>\n",
       "      <td>4</td>\n",
       "      <td>256</td>\n",
       "      <td>4</td>\n",
       "      <td>15.9</td>\n",
       "      <td>3.000000e+19</td>\n",
       "      <td>...</td>\n",
       "      <td>2048</td>\n",
       "      <td>524000.0</td>\n",
       "      <td>256</td>\n",
       "      <td>0.00030</td>\n",
       "      <td>8</td>\n",
       "      <td>0.348</td>\n",
       "      <td>32</td>\n",
       "      <td>599634</td>\n",
       "      <td>1000</td>\n",
       "      <td>run_15.9M_3e+19_bs32_idx_39</td>\n",
       "    </tr>\n",
       "    <tr>\n",
       "      <th>3</th>\n",
       "      <td>humaneval-py-bigcode_scalinglaws_run_111.5M_1e...</td>\n",
       "      <td>100</td>\n",
       "      <td>0.050874</td>\n",
       "      <td>30</td>\n",
       "      <td>py</td>\n",
       "      <td>12</td>\n",
       "      <td>768</td>\n",
       "      <td>12</td>\n",
       "      <td>111.5</td>\n",
       "      <td>1.000000e+19</td>\n",
       "      <td>...</td>\n",
       "      <td>2048</td>\n",
       "      <td>524000.0</td>\n",
       "      <td>256</td>\n",
       "      <td>0.00030</td>\n",
       "      <td>2</td>\n",
       "      <td>0.464</td>\n",
       "      <td>128</td>\n",
       "      <td>28515</td>\n",
       "      <td>1000</td>\n",
       "      <td>run_111.5M_1e+19_bs32_idx_30</td>\n",
       "    </tr>\n",
       "    <tr>\n",
       "      <th>4</th>\n",
       "      <td>humaneval-py-bigcode_scalinglaws_run_3026.4M_6...</td>\n",
       "      <td>100</td>\n",
       "      <td>0.065264</td>\n",
       "      <td>67</td>\n",
       "      <td>py</td>\n",
       "      <td>36</td>\n",
       "      <td>2816</td>\n",
       "      <td>22</td>\n",
       "      <td>3026.4</td>\n",
       "      <td>6.000000e+19</td>\n",
       "      <td>...</td>\n",
       "      <td>2048</td>\n",
       "      <td>524000.0</td>\n",
       "      <td>256</td>\n",
       "      <td>0.00015</td>\n",
       "      <td>8</td>\n",
       "      <td>0.696</td>\n",
       "      <td>32</td>\n",
       "      <td>6302</td>\n",
       "      <td>630</td>\n",
       "      <td>run_3026.4M_6e+19_bs2_idx_67</td>\n",
       "    </tr>\n",
       "  </tbody>\n",
       "</table>\n",
       "<p>5 rows × 22 columns</p>\n",
       "</div>"
      ],
      "text/plain": [
       "                                          Experiment    k  PassRate  idx lang  \\\n",
       "0  humaneval-py-bigcode_scalinglaws_run_1124.9M_1...  100  0.158044   79   py   \n",
       "1  humaneval-py-bigcode_scalinglaws_run_1124.9M_6...  100  0.131404   64   py   \n",
       "2  humaneval-py-bigcode_scalinglaws_run_15.9M_3e+...  100  0.010788   39   py   \n",
       "3  humaneval-py-bigcode_scalinglaws_run_111.5M_1e...  100  0.050874   30   py   \n",
       "4  humaneval-py-bigcode_scalinglaws_run_3026.4M_6...  100  0.065264   67   py   \n",
       "\n",
       "   num_layer  hidden_size  num_heads  param_count       compute  ...  \\\n",
       "0         24         2048         16       1124.9  1.000000e+20  ...   \n",
       "1         24         2048         16       1124.9  6.000000e+19  ...   \n",
       "2          4          256          4         15.9  3.000000e+19  ...   \n",
       "3         12          768         12        111.5  1.000000e+19  ...   \n",
       "4         36         2816         22       3026.4  6.000000e+19  ...   \n",
       "\n",
       "   sequence_length batch_size_tokens  global_batch_size  learning_rate  \\\n",
       "0             2048          524000.0                256        0.00020   \n",
       "1             2048          524000.0                256        0.00020   \n",
       "2             2048          524000.0                256        0.00030   \n",
       "3             2048          524000.0                256        0.00030   \n",
       "4             2048          524000.0                256        0.00015   \n",
       "\n",
       "   num_gpu  training_time  micro_batch_size  training_iters  lr_warmup_iters  \\\n",
       "0        8          1.159                32           28259             1000   \n",
       "1        8          0.696                32           16955             1000   \n",
       "2        8          0.348                32          599634             1000   \n",
       "3        2          0.464               128           28515             1000   \n",
       "4        8          0.696                32            6302              630   \n",
       "\n",
       "                           name  \n",
       "0  run_1124.9M_1e+20_bs8_idx_79  \n",
       "1  run_1124.9M_6e+19_bs8_idx_64  \n",
       "2   run_15.9M_3e+19_bs32_idx_39  \n",
       "3  run_111.5M_1e+19_bs32_idx_30  \n",
       "4  run_3026.4M_6e+19_bs2_idx_67  \n",
       "\n",
       "[5 rows x 22 columns]"
      ]
     },
     "execution_count": 198,
     "metadata": {},
     "output_type": "execute_result"
    }
   ],
   "source": [
    "df[\"name\"] = df[\"Experiment\"].apply(lambda x: x.split(\"bigcode_scalinglaws_\")[1].split(\"-0.8\")[0])\n",
    "\n",
    "df.head()"
   ]
  },
  {
   "cell_type": "code",
   "execution_count": 199,
   "id": "a07254f7-18af-4cc1-a717-f54e1e3f99fa",
   "metadata": {},
   "outputs": [
    {
     "data": {
      "text/html": [
       "<div>\n",
       "<style scoped>\n",
       "    .dataframe tbody tr th:only-of-type {\n",
       "        vertical-align: middle;\n",
       "    }\n",
       "\n",
       "    .dataframe tbody tr th {\n",
       "        vertical-align: top;\n",
       "    }\n",
       "\n",
       "    .dataframe thead th {\n",
       "        text-align: right;\n",
       "    }\n",
       "</style>\n",
       "<table border=\"1\" class=\"dataframe\">\n",
       "  <thead>\n",
       "    <tr style=\"text-align: right;\">\n",
       "      <th></th>\n",
       "      <th>Experiment</th>\n",
       "      <th>k</th>\n",
       "      <th>PassRate</th>\n",
       "      <th>idx</th>\n",
       "      <th>lang</th>\n",
       "      <th>num_layer</th>\n",
       "      <th>hidden_size</th>\n",
       "      <th>num_heads</th>\n",
       "      <th>param_count</th>\n",
       "      <th>compute</th>\n",
       "      <th>...</th>\n",
       "      <th>batch_size_tokens</th>\n",
       "      <th>global_batch_size</th>\n",
       "      <th>learning_rate</th>\n",
       "      <th>num_gpu</th>\n",
       "      <th>training_time</th>\n",
       "      <th>micro_batch_size</th>\n",
       "      <th>training_iters</th>\n",
       "      <th>lr_warmup_iters</th>\n",
       "      <th>name</th>\n",
       "      <th>valid_loss</th>\n",
       "    </tr>\n",
       "  </thead>\n",
       "  <tbody>\n",
       "    <tr>\n",
       "      <th>0</th>\n",
       "      <td>humaneval-py-bigcode_scalinglaws_run_1124.9M_1...</td>\n",
       "      <td>100</td>\n",
       "      <td>0.158044</td>\n",
       "      <td>79</td>\n",
       "      <td>py</td>\n",
       "      <td>24</td>\n",
       "      <td>2048</td>\n",
       "      <td>16</td>\n",
       "      <td>1124.9</td>\n",
       "      <td>1.000000e+20</td>\n",
       "      <td>...</td>\n",
       "      <td>524000.0</td>\n",
       "      <td>256</td>\n",
       "      <td>0.00020</td>\n",
       "      <td>8</td>\n",
       "      <td>1.159</td>\n",
       "      <td>32</td>\n",
       "      <td>28259</td>\n",
       "      <td>1000</td>\n",
       "      <td>run_1124.9M_1e+20_bs8_idx_79</td>\n",
       "      <td>1.158141</td>\n",
       "    </tr>\n",
       "    <tr>\n",
       "      <th>1</th>\n",
       "      <td>humaneval-py-bigcode_scalinglaws_run_1124.9M_6...</td>\n",
       "      <td>100</td>\n",
       "      <td>0.131404</td>\n",
       "      <td>64</td>\n",
       "      <td>py</td>\n",
       "      <td>24</td>\n",
       "      <td>2048</td>\n",
       "      <td>16</td>\n",
       "      <td>1124.9</td>\n",
       "      <td>6.000000e+19</td>\n",
       "      <td>...</td>\n",
       "      <td>524000.0</td>\n",
       "      <td>256</td>\n",
       "      <td>0.00020</td>\n",
       "      <td>8</td>\n",
       "      <td>0.696</td>\n",
       "      <td>32</td>\n",
       "      <td>16955</td>\n",
       "      <td>1000</td>\n",
       "      <td>run_1124.9M_6e+19_bs8_idx_64</td>\n",
       "      <td>1.213946</td>\n",
       "    </tr>\n",
       "    <tr>\n",
       "      <th>2</th>\n",
       "      <td>humaneval-py-bigcode_scalinglaws_run_15.9M_3e+...</td>\n",
       "      <td>100</td>\n",
       "      <td>0.010788</td>\n",
       "      <td>39</td>\n",
       "      <td>py</td>\n",
       "      <td>4</td>\n",
       "      <td>256</td>\n",
       "      <td>4</td>\n",
       "      <td>15.9</td>\n",
       "      <td>3.000000e+19</td>\n",
       "      <td>...</td>\n",
       "      <td>524000.0</td>\n",
       "      <td>256</td>\n",
       "      <td>0.00030</td>\n",
       "      <td>8</td>\n",
       "      <td>0.348</td>\n",
       "      <td>32</td>\n",
       "      <td>599634</td>\n",
       "      <td>1000</td>\n",
       "      <td>run_15.9M_3e+19_bs32_idx_39</td>\n",
       "      <td>1.904096</td>\n",
       "    </tr>\n",
       "    <tr>\n",
       "      <th>3</th>\n",
       "      <td>humaneval-py-bigcode_scalinglaws_run_111.5M_1e...</td>\n",
       "      <td>100</td>\n",
       "      <td>0.050874</td>\n",
       "      <td>30</td>\n",
       "      <td>py</td>\n",
       "      <td>12</td>\n",
       "      <td>768</td>\n",
       "      <td>12</td>\n",
       "      <td>111.5</td>\n",
       "      <td>1.000000e+19</td>\n",
       "      <td>...</td>\n",
       "      <td>524000.0</td>\n",
       "      <td>256</td>\n",
       "      <td>0.00030</td>\n",
       "      <td>2</td>\n",
       "      <td>0.464</td>\n",
       "      <td>128</td>\n",
       "      <td>28515</td>\n",
       "      <td>1000</td>\n",
       "      <td>run_111.5M_1e+19_bs32_idx_30</td>\n",
       "      <td>1.389879</td>\n",
       "    </tr>\n",
       "    <tr>\n",
       "      <th>4</th>\n",
       "      <td>humaneval-py-bigcode_scalinglaws_run_3026.4M_6...</td>\n",
       "      <td>100</td>\n",
       "      <td>0.065264</td>\n",
       "      <td>67</td>\n",
       "      <td>py</td>\n",
       "      <td>36</td>\n",
       "      <td>2816</td>\n",
       "      <td>22</td>\n",
       "      <td>3026.4</td>\n",
       "      <td>6.000000e+19</td>\n",
       "      <td>...</td>\n",
       "      <td>524000.0</td>\n",
       "      <td>256</td>\n",
       "      <td>0.00015</td>\n",
       "      <td>8</td>\n",
       "      <td>0.696</td>\n",
       "      <td>32</td>\n",
       "      <td>6302</td>\n",
       "      <td>630</td>\n",
       "      <td>run_3026.4M_6e+19_bs2_idx_67</td>\n",
       "      <td>1.359987</td>\n",
       "    </tr>\n",
       "  </tbody>\n",
       "</table>\n",
       "<p>5 rows × 23 columns</p>\n",
       "</div>"
      ],
      "text/plain": [
       "                                          Experiment    k  PassRate  idx lang  \\\n",
       "0  humaneval-py-bigcode_scalinglaws_run_1124.9M_1...  100  0.158044   79   py   \n",
       "1  humaneval-py-bigcode_scalinglaws_run_1124.9M_6...  100  0.131404   64   py   \n",
       "2  humaneval-py-bigcode_scalinglaws_run_15.9M_3e+...  100  0.010788   39   py   \n",
       "3  humaneval-py-bigcode_scalinglaws_run_111.5M_1e...  100  0.050874   30   py   \n",
       "4  humaneval-py-bigcode_scalinglaws_run_3026.4M_6...  100  0.065264   67   py   \n",
       "\n",
       "   num_layer  hidden_size  num_heads  param_count       compute  ...  \\\n",
       "0         24         2048         16       1124.9  1.000000e+20  ...   \n",
       "1         24         2048         16       1124.9  6.000000e+19  ...   \n",
       "2          4          256          4         15.9  3.000000e+19  ...   \n",
       "3         12          768         12        111.5  1.000000e+19  ...   \n",
       "4         36         2816         22       3026.4  6.000000e+19  ...   \n",
       "\n",
       "   batch_size_tokens global_batch_size  learning_rate  num_gpu  training_time  \\\n",
       "0           524000.0               256        0.00020        8          1.159   \n",
       "1           524000.0               256        0.00020        8          0.696   \n",
       "2           524000.0               256        0.00030        8          0.348   \n",
       "3           524000.0               256        0.00030        2          0.464   \n",
       "4           524000.0               256        0.00015        8          0.696   \n",
       "\n",
       "   micro_batch_size  training_iters  lr_warmup_iters  \\\n",
       "0                32           28259             1000   \n",
       "1                32           16955             1000   \n",
       "2                32          599634             1000   \n",
       "3               128           28515             1000   \n",
       "4                32            6302              630   \n",
       "\n",
       "                           name  valid_loss  \n",
       "0  run_1124.9M_1e+20_bs8_idx_79    1.158141  \n",
       "1  run_1124.9M_6e+19_bs8_idx_64    1.213946  \n",
       "2   run_15.9M_3e+19_bs32_idx_39    1.904096  \n",
       "3  run_111.5M_1e+19_bs32_idx_30    1.389879  \n",
       "4  run_3026.4M_6e+19_bs2_idx_67    1.359987  \n",
       "\n",
       "[5 rows x 23 columns]"
      ]
     },
     "execution_count": 199,
     "metadata": {},
     "output_type": "execute_result"
    }
   ],
   "source": [
    "df = df.merge(df_run[[\"name\", f\"lm-loss-validation/VALID_{run_lang}/lm loss validation\"]], left_on=\"name\", right_on=\"name\")\n",
    "df = df.rename(columns={f\"lm-loss-validation/VALID_{run_lang}/lm loss validation\": \"valid_loss\"})\n",
    "df.head()"
   ]
  },
  {
   "cell_type": "code",
   "execution_count": 200,
   "id": "81186893-a3d8-4b16-b46c-36d955ac1552",
   "metadata": {},
   "outputs": [],
   "source": [
    "import torch\n",
    "import numpy as np\n",
    "\n",
    "def loss(inp, params):\n",
    "    a, b, e, alpha, beta = params[0], params[1], params[2], params[3], params[4]\n",
    "    pre_lse = torch.stack([a - alpha*torch.log(inp[:, 0]), b - beta*torch.log(inp[:, 1]), e.expand((inp.shape[0]))])\n",
    "    post_lse = torch.logsumexp(pre_lse, dim=0)\n",
    "    huber_loss = torch.nn.functional.huber_loss(post_lse, torch.log(inp[:, 2]), delta=1e-3, reduction='none')\n",
    "    return huber_loss.sum()\n",
    "\n",
    "def minimize_loss(inp, init_params=[6, 6, -1, 0.28, 0.32], steps=50):\n",
    "    params = torch.nn.Parameter(data=torch.Tensor(init_params))\n",
    "    \n",
    "    lbfgs = torch.optim.LBFGS([params],\n",
    "                    lr=1e-1,\n",
    "                    history_size=10, \n",
    "                    max_iter=20, \n",
    "                    line_search_fn=\"strong_wolfe\")\n",
    "\n",
    "    def closure():\n",
    "        lbfgs.zero_grad()\n",
    "        l = loss(inp, params)\n",
    "        l.backward()\n",
    "        return l\n",
    "\n",
    "    history_lbfgs = []\n",
    "    for i in range(steps):\n",
    "        l = lbfgs.step(closure)\n",
    "    return l, params"
   ]
  },
  {
   "cell_type": "code",
   "execution_count": 207,
   "id": "863beed0",
   "metadata": {},
   "outputs": [
    {
     "name": "stderr",
     "output_type": "stream",
     "text": [
      "100%|█████████████████████████████████████████████| 4/4 [02:31<00:00, 37.93s/it]"
     ]
    },
    {
     "name": "stdout",
     "output_type": "stream",
     "text": [
      "tensor(0.0007, grad_fn=<SumBackward0>)\n",
      "[10.144976   10.020467   -0.15036352  0.6096702   0.49244583]\n"
     ]
    },
    {
     "name": "stderr",
     "output_type": "stream",
     "text": [
      "\n"
     ]
    }
   ],
   "source": [
    "df_c = df[df['param_count'] > 50]\n",
    "# df_c = df_c[df_c['compute'] >= 3e+19]\n",
    "inp = torch.Tensor([[N*1e6, D, L] for N, D, L in \n",
    "                    zip(df_c[\"param_count\"], df_c[\"training_tokens\"], df_c[\"valid_loss\"])])\n",
    "inp.require_grad = True\n",
    "\n",
    "min_loss = 1e10\n",
    "for a in tqdm(np.linspace(0, 12, 4)):\n",
    "    for b in np.linspace(0, 12, 4):\n",
    "        for e in np.linspace(-1, 1, 4):\n",
    "            for alpha in np.linspace(0, 1, 4):\n",
    "                for beta in np.linspace(0, 1, 4):\n",
    "                    l, params = minimize_loss(inp, [a, b, e, alpha, beta])\n",
    "                    if l < min_loss:\n",
    "                        min_loss = l\n",
    "                        best_params = params.detach().numpy()\n",
    "\n",
    "print(min_loss)\n",
    "print(best_params)"
   ]
  },
  {
   "cell_type": "code",
   "execution_count": 208,
   "id": "783e448c-3a8d-487f-b5da-42f5a2cfbd57",
   "metadata": {},
   "outputs": [
    {
     "name": "stdout",
     "output_type": "stream",
     "text": [
      "a 0.44681847\n",
      "b 0.55318147\n",
      "G 1.3589624065171104\n"
     ]
    }
   ],
   "source": [
    "opt_alpha = best_params[-2]\n",
    "opt_beta = best_params[-1]\n",
    "\n",
    "opt_a =  opt_beta / (opt_alpha+opt_beta)\n",
    "opt_b =  opt_alpha / (opt_alpha+opt_beta)\n",
    "\n",
    "A = np.exp(best_params[0])\n",
    "B = np.exp(best_params[1])\n",
    "G = ((opt_alpha*A)/(opt_beta*B))**(1/(opt_alpha+opt_beta))\n",
    "\n",
    "print(\"a\", opt_a)\n",
    "print(\"b\", opt_b)\n",
    "print(\"G\", G)"
   ]
  },
  {
   "cell_type": "code",
   "execution_count": 209,
   "id": "8f440fb8-4a22-4f23-abe5-f017557d5a78",
   "metadata": {},
   "outputs": [],
   "source": [
    "def opt_N_D(C):\n",
    "    opt_N = G*(C/6)**opt_a\n",
    "    opt_D = (1/G)*(C/6)**opt_b\n",
    "    return opt_N, opt_D"
   ]
  },
  {
   "cell_type": "code",
   "execution_count": 222,
   "id": "7b4743c8-4ea3-4459-8957-d8e4e1e0e715",
   "metadata": {},
   "outputs": [
    {
     "data": {
      "text/html": [
       "<div>\n",
       "<style scoped>\n",
       "    .dataframe tbody tr th:only-of-type {\n",
       "        vertical-align: middle;\n",
       "    }\n",
       "\n",
       "    .dataframe tbody tr th {\n",
       "        vertical-align: top;\n",
       "    }\n",
       "\n",
       "    .dataframe thead th {\n",
       "        text-align: right;\n",
       "    }\n",
       "</style>\n",
       "<table border=\"1\" class=\"dataframe\">\n",
       "  <thead>\n",
       "    <tr style=\"text-align: right;\">\n",
       "      <th></th>\n",
       "      <th>compute</th>\n",
       "      <th>parameters (B)</th>\n",
       "      <th>tokens (B)</th>\n",
       "    </tr>\n",
       "  </thead>\n",
       "  <tbody>\n",
       "    <tr>\n",
       "      <th>0</th>\n",
       "      <td>1.920000e+19</td>\n",
       "      <td>0.25</td>\n",
       "      <td>12.69</td>\n",
       "    </tr>\n",
       "    <tr>\n",
       "      <th>1</th>\n",
       "      <td>1.210000e+20</td>\n",
       "      <td>0.57</td>\n",
       "      <td>35.14</td>\n",
       "    </tr>\n",
       "    <tr>\n",
       "      <th>2</th>\n",
       "      <td>1.230000e+22</td>\n",
       "      <td>4.53</td>\n",
       "      <td>452.96</td>\n",
       "    </tr>\n",
       "    <tr>\n",
       "      <th>3</th>\n",
       "      <td>5.760000e+23</td>\n",
       "      <td>25.24</td>\n",
       "      <td>3803.29</td>\n",
       "    </tr>\n",
       "    <tr>\n",
       "      <th>4</th>\n",
       "      <td>3.850000e+24</td>\n",
       "      <td>58.99</td>\n",
       "      <td>10878.15</td>\n",
       "    </tr>\n",
       "    <tr>\n",
       "      <th>5</th>\n",
       "      <td>9.900000e+24</td>\n",
       "      <td>89.96</td>\n",
       "      <td>18342.39</td>\n",
       "    </tr>\n",
       "    <tr>\n",
       "      <th>6</th>\n",
       "      <td>3.430000e+25</td>\n",
       "      <td>156.73</td>\n",
       "      <td>36474.15</td>\n",
       "    </tr>\n",
       "    <tr>\n",
       "      <th>7</th>\n",
       "      <td>1.270000e+26</td>\n",
       "      <td>281.30</td>\n",
       "      <td>75244.40</td>\n",
       "    </tr>\n",
       "    <tr>\n",
       "      <th>8</th>\n",
       "      <td>1.300000e+28</td>\n",
       "      <td>2225.07</td>\n",
       "      <td>973747.15</td>\n",
       "    </tr>\n",
       "  </tbody>\n",
       "</table>\n",
       "</div>"
      ],
      "text/plain": [
       "        compute parameters (B) tokens (B)\n",
       "0  1.920000e+19           0.25      12.69\n",
       "1  1.210000e+20           0.57      35.14\n",
       "2  1.230000e+22           4.53     452.96\n",
       "3  5.760000e+23          25.24    3803.29\n",
       "4  3.850000e+24          58.99   10878.15\n",
       "5  9.900000e+24          89.96   18342.39\n",
       "6  3.430000e+25         156.73   36474.15\n",
       "7  1.270000e+26         281.30   75244.40\n",
       "8  1.300000e+28        2225.07  973747.15"
      ]
     },
     "execution_count": 222,
     "metadata": {},
     "output_type": "execute_result"
    }
   ],
   "source": [
    "scaling = []\n",
    "\n",
    "for C in [1.92e19, 1.21e20, 1.23e22, 5.76e23, 3.85e24, 9.90e24, 3.43e25, 1.27e26, 1.30e28]:\n",
    "    N, D = opt_N_D(C)\n",
    "    scaling.append(\n",
    "        {\"compute\": f\"{C:e}\",\n",
    "         \"parameters (B)\": f\"{N/1e9:.2f}\",\n",
    "         \"tokens (B)\": f\"{D/1e9:.2f}\",\n",
    "        }\n",
    "    )\n",
    "     \n",
    "pd.DataFrame(scaling)"
   ]
  },
  {
   "cell_type": "code",
   "execution_count": 180,
   "id": "4c212f76-b895-4952-927e-a6136df583d4",
   "metadata": {},
   "outputs": [],
   "source": [
    "def scaling_law(N, D, params):\n",
    "    a, b, e, alpha, beta = params\n",
    "    A = np.exp(a)\n",
    "    B = np.exp(b)\n",
    "    E = np.exp(e)\n",
    "    \n",
    "    L =  E + (A / (N**alpha)) + (B /(D**beta))\n",
    "    \n",
    "    return L"
   ]
  },
  {
   "cell_type": "code",
   "execution_count": 211,
   "id": "a79cf1ae-a61f-4204-ae71-f981afc9cf65",
   "metadata": {},
   "outputs": [
    {
     "data": {
      "text/plain": [
       "0.9668605288501972"
      ]
     },
     "execution_count": 211,
     "metadata": {},
     "output_type": "execute_result"
    }
   ],
   "source": [
    "scaling_law(1e10, 100e9, best_params)"
   ]
  },
  {
   "cell_type": "code",
   "execution_count": 221,
   "id": "c7d2e3d1",
   "metadata": {},
   "outputs": [
    {
     "name": "stderr",
     "output_type": "stream",
     "text": [
      "/var/folders/s8/cwrpf2_518x38_5_9_lzmw2r0000gp/T/ipykernel_9611/2928962758.py:17: SettingWithCopyWarning:\n",
      "\n",
      "\n",
      "A value is trying to be set on a copy of a slice from a DataFrame.\n",
      "Try using .loc[row_indexer,col_indexer] = value instead\n",
      "\n",
      "See the caveats in the documentation: https://pandas.pydata.org/pandas-docs/stable/user_guide/indexing.html#returning-a-view-versus-a-copy\n",
      "\n"
     ]
    },
    {
     "data": {
      "application/vnd.plotly.v1+json": {
       "config": {
        "plotlyServerURL": "https://plot.ly"
       },
       "data": [
        {
         "hovertemplate": "compute=1e+20<br>param_count=%{x}<br>valid_loss=%{y}<extra></extra>",
         "legendgroup": "1e+20",
         "marker": {
          "color": "blue",
          "symbol": "circle"
         },
         "mode": "markers",
         "name": "1e+20",
         "orientation": "v",
         "showlegend": true,
         "type": "scatter",
         "x": [
          1124.9,
          209,
          74.7,
          3026.4,
          433.7,
          159.5,
          111.5,
          1514.4,
          606.9,
          2118,
          874.2,
          286.4
         ],
         "xaxis": "x",
         "y": [
          1.1581408977508545,
          1.1686991453170776,
          1.352197527885437,
          1.24945330619812,
          1.1411123275756836,
          1.1912950277328491,
          1.2547334432601929,
          1.199920415878296,
          1.1387418508529663,
          1.214289307594299,
          1.1524382829666138,
          1.155721664428711
         ],
         "yaxis": "y"
        },
        {
         "hovertemplate": "compute=6e+19<br>param_count=%{x}<br>valid_loss=%{y}<extra></extra>",
         "legendgroup": "6e+19",
         "marker": {
          "color": "red",
          "symbol": "circle"
         },
         "mode": "markers",
         "name": "6e+19",
         "orientation": "v",
         "showlegend": true,
         "type": "scatter",
         "x": [
          1124.9,
          3026.4,
          286.4,
          74.7,
          433.7,
          874.2,
          111.5,
          2118,
          209,
          1514.4,
          606.9,
          159.5
         ],
         "xaxis": "x",
         "y": [
          1.213945984840393,
          1.3599871397018433,
          1.1660078763961792,
          1.3511956930160522,
          1.198521852493286,
          1.2046045064926147,
          1.2658185958862305,
          1.316487193107605,
          1.2156327962875366,
          1.265722155570984,
          1.197037696838379,
          1.22256600856781
         ],
         "yaxis": "y"
        },
        {
         "hovertemplate": "compute=1e+19<br>param_count=%{x}<br>valid_loss=%{y}<extra></extra>",
         "legendgroup": "1e+19",
         "marker": {
          "color": "green",
          "symbol": "circle"
         },
         "mode": "markers",
         "name": "1e+19",
         "orientation": "v",
         "showlegend": true,
         "type": "scatter",
         "x": [
          111.5,
          433.7,
          874.2,
          209,
          159.5,
          74.7,
          606.9,
          286.4,
          1514.4,
          1124.9
         ],
         "xaxis": "x",
         "y": [
          1.3898792266845703,
          1.452593207359314,
          1.5506194829940796,
          1.3554481267929075,
          1.3442760705947876,
          1.4535109996795654,
          1.492902398109436,
          1.3613760471343994,
          1.7542660236358645,
          1.602468490600586
         ],
         "yaxis": "y"
        },
        {
         "hovertemplate": "compute=3e+19<br>param_count=%{x}<br>valid_loss=%{y}<extra></extra>",
         "legendgroup": "3e+19",
         "marker": {
          "color": "purple",
          "symbol": "circle"
         },
         "mode": "markers",
         "name": "3e+19",
         "orientation": "v",
         "showlegend": true,
         "type": "scatter",
         "x": [
          1124.9,
          1514.4,
          111.5,
          2118,
          433.7,
          209,
          159.5,
          74.7,
          874.2,
          606.9,
          286.4
         ],
         "xaxis": "x",
         "y": [
          1.341161847114563,
          1.4121683835983276,
          1.3268449306488037,
          1.4566209316253662,
          1.2623265981674194,
          1.254496455192566,
          1.2516134977340698,
          1.4026483297348022,
          1.2960655689239502,
          1.269046664237976,
          1.2386001348495483
         ],
         "yaxis": "y"
        },
        {
         "hovertemplate": "compute=3e+18<br>param_count=%{x}<br>valid_loss=%{y}<extra></extra>",
         "legendgroup": "3e+18",
         "marker": {
          "color": "brown",
          "symbol": "circle"
         },
         "mode": "markers",
         "name": "3e+18",
         "orientation": "v",
         "showlegend": true,
         "type": "scatter",
         "x": [
          74.7,
          209,
          159.5,
          433.7,
          286.4,
          111.5
         ],
         "xaxis": "x",
         "y": [
          1.5701278448104858,
          1.6134837865829468,
          1.5751720666885376,
          1.8284797668457031,
          1.661352038383484,
          1.581485152244568
         ],
         "yaxis": "y"
        },
        {
         "hovertemplate": "compute=6e+18<br>param_count=%{x}<br>valid_loss=%{y}<extra></extra>",
         "legendgroup": "6e+18",
         "marker": {
          "color": "black",
          "symbol": "circle"
         },
         "mode": "markers",
         "name": "6e+18",
         "orientation": "v",
         "showlegend": true,
         "type": "scatter",
         "x": [
          874.2,
          433.7,
          74.7,
          159.5,
          286.4,
          209,
          606.9,
          111.5
         ],
         "xaxis": "x",
         "y": [
          1.7296860218048096,
          1.5688772201538086,
          1.4857414960861206,
          1.415510654449463,
          1.479480862617493,
          1.460118293762207,
          1.6331332921981812,
          1.4392836093902588
         ],
         "yaxis": "y"
        },
        {
         "hovertemplate": "compute=1e+21<br>param_count=%{x}<br>valid_loss=%{y}<extra></extra>",
         "legendgroup": "1e+21",
         "marker": {
          "color": "silver",
          "symbol": "circle"
         },
         "mode": "markers",
         "name": "1e+21",
         "orientation": "v",
         "showlegend": true,
         "type": "scatter",
         "x": [
          2118,
          1124.9,
          874.2,
          1514.4,
          606.9
         ],
         "xaxis": "x",
         "y": [
          0.9842329025268556,
          0.996461033821106,
          1.0038191080093384,
          0.9985095262527466,
          1.0239683389663696
         ],
         "yaxis": "y"
        },
        {
         "hovertemplate": "compute=3e+20<br>param_count=%{x}<br>valid_loss=%{y}<extra></extra>",
         "legendgroup": "3e+20",
         "marker": {
          "color": "pink",
          "symbol": "circle"
         },
         "mode": "markers",
         "name": "3e+20",
         "orientation": "v",
         "showlegend": true,
         "type": "scatter",
         "x": [
          433.7,
          606.9,
          3026.4,
          874.2,
          1514.4,
          2118,
          286.4
         ],
         "xaxis": "x",
         "y": [
          1.0946296453475952,
          1.061234474182129,
          1.1119054555892944,
          1.0720962285995483,
          1.0637372732162476,
          1.101626753807068,
          1.104595422744751
         ],
         "yaxis": "y"
        },
        {
         "hovertemplate": "compute=6e+20<br>param_count=%{x}<br>valid_loss=%{y}<extra></extra>",
         "legendgroup": "6e+20",
         "marker": {
          "color": "gold",
          "symbol": "circle"
         },
         "mode": "markers",
         "name": "6e+20",
         "orientation": "v",
         "showlegend": true,
         "type": "scatter",
         "x": [
          606.9,
          3026.4,
          1124.9,
          1514.4,
          433.7,
          2118,
          874.2
         ],
         "xaxis": "x",
         "y": [
          1.0457773208618164,
          1.0452818870544434,
          1.0121862888336182,
          1.0468186140060425,
          1.0416734218597412,
          1.022161841392517,
          1.032560110092163
         ],
         "yaxis": "y"
        },
        {
         "hovertemplate": "param_count=%{x}<br>prediction=%{y}<extra></extra>",
         "legendgroup": "",
         "line": {
          "color": "brown",
          "dash": "solid",
          "width": 2
         },
         "mode": "lines",
         "name": "",
         "orientation": "v",
         "showlegend": false,
         "type": "scatter",
         "x": [
          74.7,
          111.5,
          159.5,
          209,
          286.4,
          433.7
         ],
         "xaxis": "x",
         "y": [
          1.5899285165774577,
          1.5732700959545083,
          1.5884654926718742,
          1.6172055714281521,
          1.6693572290485315,
          1.774578819264836
         ],
         "yaxis": "y"
        },
        {
         "hovertemplate": "param_count=%{x}<br>prediction=%{y}<extra></extra>",
         "legendgroup": "",
         "line": {
          "color": "black",
          "dash": "solid",
          "width": 2
         },
         "mode": "lines",
         "name": "",
         "orientation": "v",
         "showlegend": false,
         "type": "scatter",
         "x": [
          74.7,
          111.5,
          159.5,
          209,
          286.4,
          433.7,
          606.9,
          874.2
         ],
         "xaxis": "x",
         "y": [
          1.4954577821564083,
          1.4586638048185643,
          1.4511245738117844,
          1.4606565828306461,
          1.4874709842881666,
          1.5489614076530815,
          1.6225956123620902,
          1.7299112048759477
         ],
         "yaxis": "y"
        },
        {
         "hovertemplate": "param_count=%{x}<br>prediction=%{y}<extra></extra>",
         "legendgroup": "",
         "line": {
          "color": "green",
          "dash": "solid",
          "width": 2
         },
         "mode": "lines",
         "name": "",
         "orientation": "v",
         "showlegend": false,
         "type": "scatter",
         "x": [
          74.7,
          111.5,
          159.5,
          209,
          286.4,
          433.7,
          606.9,
          874.2,
          1124.9,
          1514.4
         ],
         "xaxis": "x",
         "y": [
          1.4440752370046697,
          1.395530126049591,
          1.3768644107039176,
          1.3750112749779801,
          1.3874506395318595,
          1.4270728701009041,
          1.4780937980198123,
          1.5549860635277732,
          1.6230628879524391,
          1.718110020097078
         ],
         "yaxis": "y"
        },
        {
         "hovertemplate": "param_count=%{x}<br>prediction=%{y}<extra></extra>",
         "legendgroup": "",
         "line": {
          "color": "purple",
          "dash": "solid",
          "width": 2
         },
         "mode": "lines",
         "name": "",
         "orientation": "v",
         "showlegend": false,
         "type": "scatter",
         "x": [
          74.7,
          111.5,
          159.5,
          209,
          286.4,
          433.7,
          606.9,
          874.2,
          1124.9,
          1514.4,
          2118
         ],
         "xaxis": "x",
         "y": [
          1.3687635909732676,
          1.3041179096358468,
          1.2669772020150785,
          1.25004720125806,
          1.2412911372132858,
          1.24819382259655,
          1.2671726954328109,
          1.3026876504623794,
          1.3366552660324114,
          1.3866389827708545,
          1.457627070357847
         ],
         "yaxis": "y"
        },
        {
         "hovertemplate": "param_count=%{x}<br>prediction=%{y}<extra></extra>",
         "legendgroup": "",
         "line": {
          "color": "red",
          "dash": "solid",
          "width": 2
         },
         "mode": "lines",
         "name": "",
         "orientation": "v",
         "showlegend": false,
         "type": "scatter",
         "x": [
          74.7,
          111.5,
          159.5,
          209,
          286.4,
          433.7,
          606.9,
          874.2,
          1124.9,
          1514.4,
          2118,
          3026.4
         ],
         "xaxis": "x",
         "y": [
          1.338365139200316,
          1.267240311135918,
          1.22278413710448,
          1.1996734330307923,
          1.1827644381948508,
          1.175595466628969,
          1.1819445314649868,
          1.201257422420682,
          1.2211023822311413,
          1.2530868870121905,
          1.3001012413965214,
          1.3644585007972614
         ],
         "yaxis": "y"
        },
        {
         "hovertemplate": "param_count=%{x}<br>prediction=%{y}<extra></extra>",
         "legendgroup": "",
         "line": {
          "color": "blue",
          "dash": "solid",
          "width": 2
         },
         "mode": "lines",
         "name": "",
         "orientation": "v",
         "showlegend": false,
         "type": "scatter",
         "x": [
          74.7,
          111.5,
          159.5,
          209,
          286.4,
          433.7,
          606.9,
          874.2,
          1124.9,
          1514.4,
          2118,
          3026.4
         ],
         "xaxis": "x",
         "y": [
          1.3218314493720442,
          1.2469253839675307,
          1.1988889699850525,
          1.1721147951489768,
          1.1505802528487574,
          1.1363746131745904,
          1.1354472594652782,
          1.1449706421205548,
          1.158173931790749,
          1.1800753703647169,
          1.213920732562868,
          1.2614227645394835
         ],
         "yaxis": "y"
        },
        {
         "hovertemplate": "param_count=%{x}<br>prediction=%{y}<extra></extra>",
         "legendgroup": "",
         "line": {
          "color": "pink",
          "dash": "solid",
          "width": 2
         },
         "mode": "lines",
         "name": "",
         "orientation": "v",
         "showlegend": false,
         "type": "scatter",
         "x": [
          286.4,
          433.7,
          606.9,
          874.2,
          1514.4,
          2118,
          3026.4
         ],
         "xaxis": "x",
         "y": [
          1.1035495759982148,
          1.0788155592297204,
          1.067577828744941,
          1.0637869698546196,
          1.0734158169692434,
          1.0881776913533352,
          1.1116922310427764
         ],
         "yaxis": "y"
        },
        {
         "hovertemplate": "param_count=%{x}<br>prediction=%{y}<extra></extra>",
         "legendgroup": "",
         "line": {
          "color": "gold",
          "dash": "solid",
          "width": 2
         },
         "mode": "lines",
         "name": "",
         "orientation": "v",
         "showlegend": false,
         "type": "scatter",
         "x": [
          433.7,
          606.9,
          874.2,
          1124.9,
          1514.4,
          2118,
          3026.4
         ],
         "xaxis": "x",
         "y": [
          1.0554551224108406,
          1.040153417916016,
          1.0311491173562692,
          1.0288325318039433,
          1.0304419058741707,
          1.037489598961326,
          1.0512353349956503
         ],
         "yaxis": "y"
        },
        {
         "hovertemplate": "param_count=%{x}<br>prediction=%{y}<extra></extra>",
         "legendgroup": "",
         "line": {
          "color": "silver",
          "dash": "solid",
          "width": 2
         },
         "mode": "lines",
         "name": "",
         "orientation": "v",
         "showlegend": false,
         "type": "scatter",
         "x": [
          606.9,
          874.2,
          1124.9,
          1514.4,
          2118
         ],
         "xaxis": "x",
         "y": [
          1.0251916936410954,
          1.013037360451933,
          1.0085836422660144,
          1.0069485237037048,
          1.009758746040545
         ],
         "yaxis": "y"
        }
       ],
       "layout": {
        "template": {
         "data": {
          "bar": [
           {
            "error_x": {
             "color": "#2a3f5f"
            },
            "error_y": {
             "color": "#2a3f5f"
            },
            "marker": {
             "line": {
              "color": "#E5ECF6",
              "width": 0.5
             }
            },
            "type": "bar"
           }
          ],
          "barpolar": [
           {
            "marker": {
             "line": {
              "color": "#E5ECF6",
              "width": 0.5
             }
            },
            "type": "barpolar"
           }
          ],
          "carpet": [
           {
            "aaxis": {
             "endlinecolor": "#2a3f5f",
             "gridcolor": "white",
             "linecolor": "white",
             "minorgridcolor": "white",
             "startlinecolor": "#2a3f5f"
            },
            "baxis": {
             "endlinecolor": "#2a3f5f",
             "gridcolor": "white",
             "linecolor": "white",
             "minorgridcolor": "white",
             "startlinecolor": "#2a3f5f"
            },
            "type": "carpet"
           }
          ],
          "choropleth": [
           {
            "colorbar": {
             "outlinewidth": 0,
             "ticks": ""
            },
            "type": "choropleth"
           }
          ],
          "contour": [
           {
            "colorbar": {
             "outlinewidth": 0,
             "ticks": ""
            },
            "colorscale": [
             [
              0,
              "#0d0887"
             ],
             [
              0.1111111111111111,
              "#46039f"
             ],
             [
              0.2222222222222222,
              "#7201a8"
             ],
             [
              0.3333333333333333,
              "#9c179e"
             ],
             [
              0.4444444444444444,
              "#bd3786"
             ],
             [
              0.5555555555555556,
              "#d8576b"
             ],
             [
              0.6666666666666666,
              "#ed7953"
             ],
             [
              0.7777777777777778,
              "#fb9f3a"
             ],
             [
              0.8888888888888888,
              "#fdca26"
             ],
             [
              1,
              "#f0f921"
             ]
            ],
            "type": "contour"
           }
          ],
          "contourcarpet": [
           {
            "colorbar": {
             "outlinewidth": 0,
             "ticks": ""
            },
            "type": "contourcarpet"
           }
          ],
          "heatmap": [
           {
            "colorbar": {
             "outlinewidth": 0,
             "ticks": ""
            },
            "colorscale": [
             [
              0,
              "#0d0887"
             ],
             [
              0.1111111111111111,
              "#46039f"
             ],
             [
              0.2222222222222222,
              "#7201a8"
             ],
             [
              0.3333333333333333,
              "#9c179e"
             ],
             [
              0.4444444444444444,
              "#bd3786"
             ],
             [
              0.5555555555555556,
              "#d8576b"
             ],
             [
              0.6666666666666666,
              "#ed7953"
             ],
             [
              0.7777777777777778,
              "#fb9f3a"
             ],
             [
              0.8888888888888888,
              "#fdca26"
             ],
             [
              1,
              "#f0f921"
             ]
            ],
            "type": "heatmap"
           }
          ],
          "heatmapgl": [
           {
            "colorbar": {
             "outlinewidth": 0,
             "ticks": ""
            },
            "colorscale": [
             [
              0,
              "#0d0887"
             ],
             [
              0.1111111111111111,
              "#46039f"
             ],
             [
              0.2222222222222222,
              "#7201a8"
             ],
             [
              0.3333333333333333,
              "#9c179e"
             ],
             [
              0.4444444444444444,
              "#bd3786"
             ],
             [
              0.5555555555555556,
              "#d8576b"
             ],
             [
              0.6666666666666666,
              "#ed7953"
             ],
             [
              0.7777777777777778,
              "#fb9f3a"
             ],
             [
              0.8888888888888888,
              "#fdca26"
             ],
             [
              1,
              "#f0f921"
             ]
            ],
            "type": "heatmapgl"
           }
          ],
          "histogram": [
           {
            "marker": {
             "colorbar": {
              "outlinewidth": 0,
              "ticks": ""
             }
            },
            "type": "histogram"
           }
          ],
          "histogram2d": [
           {
            "colorbar": {
             "outlinewidth": 0,
             "ticks": ""
            },
            "colorscale": [
             [
              0,
              "#0d0887"
             ],
             [
              0.1111111111111111,
              "#46039f"
             ],
             [
              0.2222222222222222,
              "#7201a8"
             ],
             [
              0.3333333333333333,
              "#9c179e"
             ],
             [
              0.4444444444444444,
              "#bd3786"
             ],
             [
              0.5555555555555556,
              "#d8576b"
             ],
             [
              0.6666666666666666,
              "#ed7953"
             ],
             [
              0.7777777777777778,
              "#fb9f3a"
             ],
             [
              0.8888888888888888,
              "#fdca26"
             ],
             [
              1,
              "#f0f921"
             ]
            ],
            "type": "histogram2d"
           }
          ],
          "histogram2dcontour": [
           {
            "colorbar": {
             "outlinewidth": 0,
             "ticks": ""
            },
            "colorscale": [
             [
              0,
              "#0d0887"
             ],
             [
              0.1111111111111111,
              "#46039f"
             ],
             [
              0.2222222222222222,
              "#7201a8"
             ],
             [
              0.3333333333333333,
              "#9c179e"
             ],
             [
              0.4444444444444444,
              "#bd3786"
             ],
             [
              0.5555555555555556,
              "#d8576b"
             ],
             [
              0.6666666666666666,
              "#ed7953"
             ],
             [
              0.7777777777777778,
              "#fb9f3a"
             ],
             [
              0.8888888888888888,
              "#fdca26"
             ],
             [
              1,
              "#f0f921"
             ]
            ],
            "type": "histogram2dcontour"
           }
          ],
          "mesh3d": [
           {
            "colorbar": {
             "outlinewidth": 0,
             "ticks": ""
            },
            "type": "mesh3d"
           }
          ],
          "parcoords": [
           {
            "line": {
             "colorbar": {
              "outlinewidth": 0,
              "ticks": ""
             }
            },
            "type": "parcoords"
           }
          ],
          "pie": [
           {
            "automargin": true,
            "type": "pie"
           }
          ],
          "scatter": [
           {
            "marker": {
             "colorbar": {
              "outlinewidth": 0,
              "ticks": ""
             }
            },
            "type": "scatter"
           }
          ],
          "scatter3d": [
           {
            "line": {
             "colorbar": {
              "outlinewidth": 0,
              "ticks": ""
             }
            },
            "marker": {
             "colorbar": {
              "outlinewidth": 0,
              "ticks": ""
             }
            },
            "type": "scatter3d"
           }
          ],
          "scattercarpet": [
           {
            "marker": {
             "colorbar": {
              "outlinewidth": 0,
              "ticks": ""
             }
            },
            "type": "scattercarpet"
           }
          ],
          "scattergeo": [
           {
            "marker": {
             "colorbar": {
              "outlinewidth": 0,
              "ticks": ""
             }
            },
            "type": "scattergeo"
           }
          ],
          "scattergl": [
           {
            "marker": {
             "colorbar": {
              "outlinewidth": 0,
              "ticks": ""
             }
            },
            "type": "scattergl"
           }
          ],
          "scattermapbox": [
           {
            "marker": {
             "colorbar": {
              "outlinewidth": 0,
              "ticks": ""
             }
            },
            "type": "scattermapbox"
           }
          ],
          "scatterpolar": [
           {
            "marker": {
             "colorbar": {
              "outlinewidth": 0,
              "ticks": ""
             }
            },
            "type": "scatterpolar"
           }
          ],
          "scatterpolargl": [
           {
            "marker": {
             "colorbar": {
              "outlinewidth": 0,
              "ticks": ""
             }
            },
            "type": "scatterpolargl"
           }
          ],
          "scatterternary": [
           {
            "marker": {
             "colorbar": {
              "outlinewidth": 0,
              "ticks": ""
             }
            },
            "type": "scatterternary"
           }
          ],
          "surface": [
           {
            "colorbar": {
             "outlinewidth": 0,
             "ticks": ""
            },
            "colorscale": [
             [
              0,
              "#0d0887"
             ],
             [
              0.1111111111111111,
              "#46039f"
             ],
             [
              0.2222222222222222,
              "#7201a8"
             ],
             [
              0.3333333333333333,
              "#9c179e"
             ],
             [
              0.4444444444444444,
              "#bd3786"
             ],
             [
              0.5555555555555556,
              "#d8576b"
             ],
             [
              0.6666666666666666,
              "#ed7953"
             ],
             [
              0.7777777777777778,
              "#fb9f3a"
             ],
             [
              0.8888888888888888,
              "#fdca26"
             ],
             [
              1,
              "#f0f921"
             ]
            ],
            "type": "surface"
           }
          ],
          "table": [
           {
            "cells": {
             "fill": {
              "color": "#EBF0F8"
             },
             "line": {
              "color": "white"
             }
            },
            "header": {
             "fill": {
              "color": "#C8D4E3"
             },
             "line": {
              "color": "white"
             }
            },
            "type": "table"
           }
          ]
         },
         "layout": {
          "annotationdefaults": {
           "arrowcolor": "#2a3f5f",
           "arrowhead": 0,
           "arrowwidth": 1
          },
          "autotypenumbers": "strict",
          "coloraxis": {
           "colorbar": {
            "outlinewidth": 0,
            "ticks": ""
           }
          },
          "colorscale": {
           "diverging": [
            [
             0,
             "#8e0152"
            ],
            [
             0.1,
             "#c51b7d"
            ],
            [
             0.2,
             "#de77ae"
            ],
            [
             0.3,
             "#f1b6da"
            ],
            [
             0.4,
             "#fde0ef"
            ],
            [
             0.5,
             "#f7f7f7"
            ],
            [
             0.6,
             "#e6f5d0"
            ],
            [
             0.7,
             "#b8e186"
            ],
            [
             0.8,
             "#7fbc41"
            ],
            [
             0.9,
             "#4d9221"
            ],
            [
             1,
             "#276419"
            ]
           ],
           "sequential": [
            [
             0,
             "#0d0887"
            ],
            [
             0.1111111111111111,
             "#46039f"
            ],
            [
             0.2222222222222222,
             "#7201a8"
            ],
            [
             0.3333333333333333,
             "#9c179e"
            ],
            [
             0.4444444444444444,
             "#bd3786"
            ],
            [
             0.5555555555555556,
             "#d8576b"
            ],
            [
             0.6666666666666666,
             "#ed7953"
            ],
            [
             0.7777777777777778,
             "#fb9f3a"
            ],
            [
             0.8888888888888888,
             "#fdca26"
            ],
            [
             1,
             "#f0f921"
            ]
           ],
           "sequentialminus": [
            [
             0,
             "#0d0887"
            ],
            [
             0.1111111111111111,
             "#46039f"
            ],
            [
             0.2222222222222222,
             "#7201a8"
            ],
            [
             0.3333333333333333,
             "#9c179e"
            ],
            [
             0.4444444444444444,
             "#bd3786"
            ],
            [
             0.5555555555555556,
             "#d8576b"
            ],
            [
             0.6666666666666666,
             "#ed7953"
            ],
            [
             0.7777777777777778,
             "#fb9f3a"
            ],
            [
             0.8888888888888888,
             "#fdca26"
            ],
            [
             1,
             "#f0f921"
            ]
           ]
          },
          "colorway": [
           "#636efa",
           "#EF553B",
           "#00cc96",
           "#ab63fa",
           "#FFA15A",
           "#19d3f3",
           "#FF6692",
           "#B6E880",
           "#FF97FF",
           "#FECB52"
          ],
          "font": {
           "color": "#2a3f5f"
          },
          "geo": {
           "bgcolor": "white",
           "lakecolor": "white",
           "landcolor": "#E5ECF6",
           "showlakes": true,
           "showland": true,
           "subunitcolor": "white"
          },
          "hoverlabel": {
           "align": "left"
          },
          "hovermode": "closest",
          "mapbox": {
           "style": "light"
          },
          "paper_bgcolor": "white",
          "plot_bgcolor": "#E5ECF6",
          "polar": {
           "angularaxis": {
            "gridcolor": "white",
            "linecolor": "white",
            "ticks": ""
           },
           "bgcolor": "#E5ECF6",
           "radialaxis": {
            "gridcolor": "white",
            "linecolor": "white",
            "ticks": ""
           }
          },
          "scene": {
           "xaxis": {
            "backgroundcolor": "#E5ECF6",
            "gridcolor": "white",
            "gridwidth": 2,
            "linecolor": "white",
            "showbackground": true,
            "ticks": "",
            "zerolinecolor": "white"
           },
           "yaxis": {
            "backgroundcolor": "#E5ECF6",
            "gridcolor": "white",
            "gridwidth": 2,
            "linecolor": "white",
            "showbackground": true,
            "ticks": "",
            "zerolinecolor": "white"
           },
           "zaxis": {
            "backgroundcolor": "#E5ECF6",
            "gridcolor": "white",
            "gridwidth": 2,
            "linecolor": "white",
            "showbackground": true,
            "ticks": "",
            "zerolinecolor": "white"
           }
          },
          "shapedefaults": {
           "line": {
            "color": "#2a3f5f"
           }
          },
          "ternary": {
           "aaxis": {
            "gridcolor": "white",
            "linecolor": "white",
            "ticks": ""
           },
           "baxis": {
            "gridcolor": "white",
            "linecolor": "white",
            "ticks": ""
           },
           "bgcolor": "#E5ECF6",
           "caxis": {
            "gridcolor": "white",
            "linecolor": "white",
            "ticks": ""
           }
          },
          "title": {
           "x": 0.05
          },
          "xaxis": {
           "automargin": true,
           "gridcolor": "white",
           "linecolor": "white",
           "ticks": "",
           "title": {
            "standoff": 15
           },
           "zerolinecolor": "white",
           "zerolinewidth": 2
          },
          "yaxis": {
           "automargin": true,
           "gridcolor": "white",
           "linecolor": "white",
           "ticks": "",
           "title": {
            "standoff": 15
           },
           "zerolinecolor": "white",
           "zerolinewidth": 2
          }
         }
        }
       }
      },
      "text/html": [
       "<div>                            <div id=\"0ff0dbe7-a0d8-4b4b-8bc6-3f68dd8dab9c\" class=\"plotly-graph-div\" style=\"height:525px; width:100%;\"></div>            <script type=\"text/javascript\">                require([\"plotly\"], function(Plotly) {                    window.PLOTLYENV=window.PLOTLYENV || {};                                    if (document.getElementById(\"0ff0dbe7-a0d8-4b4b-8bc6-3f68dd8dab9c\")) {                    Plotly.newPlot(                        \"0ff0dbe7-a0d8-4b4b-8bc6-3f68dd8dab9c\",                        [{\"hovertemplate\": \"compute=1e+20<br>param_count=%{x}<br>valid_loss=%{y}<extra></extra>\", \"legendgroup\": \"1e+20\", \"marker\": {\"color\": \"blue\", \"symbol\": \"circle\"}, \"mode\": \"markers\", \"name\": \"1e+20\", \"orientation\": \"v\", \"showlegend\": true, \"type\": \"scatter\", \"x\": [1124.9, 209.0, 74.7, 3026.4, 433.7, 159.5, 111.5, 1514.4, 606.9, 2118.0, 874.2, 286.4], \"xaxis\": \"x\", \"y\": [1.1581408977508545, 1.1686991453170776, 1.352197527885437, 1.24945330619812, 1.1411123275756836, 1.1912950277328491, 1.2547334432601929, 1.199920415878296, 1.1387418508529663, 1.214289307594299, 1.1524382829666138, 1.155721664428711], \"yaxis\": \"y\"}, {\"hovertemplate\": \"compute=6e+19<br>param_count=%{x}<br>valid_loss=%{y}<extra></extra>\", \"legendgroup\": \"6e+19\", \"marker\": {\"color\": \"red\", \"symbol\": \"circle\"}, \"mode\": \"markers\", \"name\": \"6e+19\", \"orientation\": \"v\", \"showlegend\": true, \"type\": \"scatter\", \"x\": [1124.9, 3026.4, 286.4, 74.7, 433.7, 874.2, 111.5, 2118.0, 209.0, 1514.4, 606.9, 159.5], \"xaxis\": \"x\", \"y\": [1.213945984840393, 1.3599871397018433, 1.1660078763961792, 1.3511956930160522, 1.198521852493286, 1.2046045064926147, 1.2658185958862305, 1.316487193107605, 1.2156327962875366, 1.265722155570984, 1.197037696838379, 1.22256600856781], \"yaxis\": \"y\"}, {\"hovertemplate\": \"compute=1e+19<br>param_count=%{x}<br>valid_loss=%{y}<extra></extra>\", \"legendgroup\": \"1e+19\", \"marker\": {\"color\": \"green\", \"symbol\": \"circle\"}, \"mode\": \"markers\", \"name\": \"1e+19\", \"orientation\": \"v\", \"showlegend\": true, \"type\": \"scatter\", \"x\": [111.5, 433.7, 874.2, 209.0, 159.5, 74.7, 606.9, 286.4, 1514.4, 1124.9], \"xaxis\": \"x\", \"y\": [1.3898792266845703, 1.452593207359314, 1.5506194829940796, 1.3554481267929075, 1.3442760705947876, 1.4535109996795654, 1.492902398109436, 1.3613760471343994, 1.7542660236358645, 1.602468490600586], \"yaxis\": \"y\"}, {\"hovertemplate\": \"compute=3e+19<br>param_count=%{x}<br>valid_loss=%{y}<extra></extra>\", \"legendgroup\": \"3e+19\", \"marker\": {\"color\": \"purple\", \"symbol\": \"circle\"}, \"mode\": \"markers\", \"name\": \"3e+19\", \"orientation\": \"v\", \"showlegend\": true, \"type\": \"scatter\", \"x\": [1124.9, 1514.4, 111.5, 2118.0, 433.7, 209.0, 159.5, 74.7, 874.2, 606.9, 286.4], \"xaxis\": \"x\", \"y\": [1.341161847114563, 1.4121683835983276, 1.3268449306488037, 1.4566209316253662, 1.2623265981674194, 1.254496455192566, 1.2516134977340698, 1.4026483297348022, 1.2960655689239502, 1.269046664237976, 1.2386001348495483], \"yaxis\": \"y\"}, {\"hovertemplate\": \"compute=3e+18<br>param_count=%{x}<br>valid_loss=%{y}<extra></extra>\", \"legendgroup\": \"3e+18\", \"marker\": {\"color\": \"brown\", \"symbol\": \"circle\"}, \"mode\": \"markers\", \"name\": \"3e+18\", \"orientation\": \"v\", \"showlegend\": true, \"type\": \"scatter\", \"x\": [74.7, 209.0, 159.5, 433.7, 286.4, 111.5], \"xaxis\": \"x\", \"y\": [1.5701278448104858, 1.6134837865829468, 1.5751720666885376, 1.8284797668457031, 1.661352038383484, 1.581485152244568], \"yaxis\": \"y\"}, {\"hovertemplate\": \"compute=6e+18<br>param_count=%{x}<br>valid_loss=%{y}<extra></extra>\", \"legendgroup\": \"6e+18\", \"marker\": {\"color\": \"black\", \"symbol\": \"circle\"}, \"mode\": \"markers\", \"name\": \"6e+18\", \"orientation\": \"v\", \"showlegend\": true, \"type\": \"scatter\", \"x\": [874.2, 433.7, 74.7, 159.5, 286.4, 209.0, 606.9, 111.5], \"xaxis\": \"x\", \"y\": [1.7296860218048096, 1.5688772201538086, 1.4857414960861206, 1.415510654449463, 1.479480862617493, 1.460118293762207, 1.6331332921981812, 1.4392836093902588], \"yaxis\": \"y\"}, {\"hovertemplate\": \"compute=1e+21<br>param_count=%{x}<br>valid_loss=%{y}<extra></extra>\", \"legendgroup\": \"1e+21\", \"marker\": {\"color\": \"silver\", \"symbol\": \"circle\"}, \"mode\": \"markers\", \"name\": \"1e+21\", \"orientation\": \"v\", \"showlegend\": true, \"type\": \"scatter\", \"x\": [2118.0, 1124.9, 874.2, 1514.4, 606.9], \"xaxis\": \"x\", \"y\": [0.9842329025268556, 0.996461033821106, 1.0038191080093384, 0.9985095262527466, 1.0239683389663696], \"yaxis\": \"y\"}, {\"hovertemplate\": \"compute=3e+20<br>param_count=%{x}<br>valid_loss=%{y}<extra></extra>\", \"legendgroup\": \"3e+20\", \"marker\": {\"color\": \"pink\", \"symbol\": \"circle\"}, \"mode\": \"markers\", \"name\": \"3e+20\", \"orientation\": \"v\", \"showlegend\": true, \"type\": \"scatter\", \"x\": [433.7, 606.9, 3026.4, 874.2, 1514.4, 2118.0, 286.4], \"xaxis\": \"x\", \"y\": [1.0946296453475952, 1.061234474182129, 1.1119054555892944, 1.0720962285995483, 1.0637372732162476, 1.101626753807068, 1.104595422744751], \"yaxis\": \"y\"}, {\"hovertemplate\": \"compute=6e+20<br>param_count=%{x}<br>valid_loss=%{y}<extra></extra>\", \"legendgroup\": \"6e+20\", \"marker\": {\"color\": \"gold\", \"symbol\": \"circle\"}, \"mode\": \"markers\", \"name\": \"6e+20\", \"orientation\": \"v\", \"showlegend\": true, \"type\": \"scatter\", \"x\": [606.9, 3026.4, 1124.9, 1514.4, 433.7, 2118.0, 874.2], \"xaxis\": \"x\", \"y\": [1.0457773208618164, 1.0452818870544434, 1.0121862888336182, 1.0468186140060425, 1.0416734218597412, 1.022161841392517, 1.032560110092163], \"yaxis\": \"y\"}, {\"hovertemplate\": \"param_count=%{x}<br>prediction=%{y}<extra></extra>\", \"legendgroup\": \"\", \"line\": {\"color\": \"brown\", \"dash\": \"solid\", \"width\": 2}, \"mode\": \"lines\", \"name\": \"\", \"orientation\": \"v\", \"showlegend\": false, \"type\": \"scatter\", \"x\": [74.7, 111.5, 159.5, 209.0, 286.4, 433.7], \"xaxis\": \"x\", \"y\": [1.5899285165774577, 1.5732700959545083, 1.5884654926718742, 1.6172055714281521, 1.6693572290485315, 1.774578819264836], \"yaxis\": \"y\"}, {\"hovertemplate\": \"param_count=%{x}<br>prediction=%{y}<extra></extra>\", \"legendgroup\": \"\", \"line\": {\"color\": \"black\", \"dash\": \"solid\", \"width\": 2}, \"mode\": \"lines\", \"name\": \"\", \"orientation\": \"v\", \"showlegend\": false, \"type\": \"scatter\", \"x\": [74.7, 111.5, 159.5, 209.0, 286.4, 433.7, 606.9, 874.2], \"xaxis\": \"x\", \"y\": [1.4954577821564083, 1.4586638048185643, 1.4511245738117844, 1.4606565828306461, 1.4874709842881666, 1.5489614076530815, 1.6225956123620902, 1.7299112048759477], \"yaxis\": \"y\"}, {\"hovertemplate\": \"param_count=%{x}<br>prediction=%{y}<extra></extra>\", \"legendgroup\": \"\", \"line\": {\"color\": \"green\", \"dash\": \"solid\", \"width\": 2}, \"mode\": \"lines\", \"name\": \"\", \"orientation\": \"v\", \"showlegend\": false, \"type\": \"scatter\", \"x\": [74.7, 111.5, 159.5, 209.0, 286.4, 433.7, 606.9, 874.2, 1124.9, 1514.4], \"xaxis\": \"x\", \"y\": [1.4440752370046697, 1.395530126049591, 1.3768644107039176, 1.3750112749779801, 1.3874506395318595, 1.4270728701009041, 1.4780937980198123, 1.5549860635277732, 1.6230628879524391, 1.718110020097078], \"yaxis\": \"y\"}, {\"hovertemplate\": \"param_count=%{x}<br>prediction=%{y}<extra></extra>\", \"legendgroup\": \"\", \"line\": {\"color\": \"purple\", \"dash\": \"solid\", \"width\": 2}, \"mode\": \"lines\", \"name\": \"\", \"orientation\": \"v\", \"showlegend\": false, \"type\": \"scatter\", \"x\": [74.7, 111.5, 159.5, 209.0, 286.4, 433.7, 606.9, 874.2, 1124.9, 1514.4, 2118.0], \"xaxis\": \"x\", \"y\": [1.3687635909732676, 1.3041179096358468, 1.2669772020150785, 1.25004720125806, 1.2412911372132858, 1.24819382259655, 1.2671726954328109, 1.3026876504623794, 1.3366552660324114, 1.3866389827708545, 1.457627070357847], \"yaxis\": \"y\"}, {\"hovertemplate\": \"param_count=%{x}<br>prediction=%{y}<extra></extra>\", \"legendgroup\": \"\", \"line\": {\"color\": \"red\", \"dash\": \"solid\", \"width\": 2}, \"mode\": \"lines\", \"name\": \"\", \"orientation\": \"v\", \"showlegend\": false, \"type\": \"scatter\", \"x\": [74.7, 111.5, 159.5, 209.0, 286.4, 433.7, 606.9, 874.2, 1124.9, 1514.4, 2118.0, 3026.4], \"xaxis\": \"x\", \"y\": [1.338365139200316, 1.267240311135918, 1.22278413710448, 1.1996734330307923, 1.1827644381948508, 1.175595466628969, 1.1819445314649868, 1.201257422420682, 1.2211023822311413, 1.2530868870121905, 1.3001012413965214, 1.3644585007972614], \"yaxis\": \"y\"}, {\"hovertemplate\": \"param_count=%{x}<br>prediction=%{y}<extra></extra>\", \"legendgroup\": \"\", \"line\": {\"color\": \"blue\", \"dash\": \"solid\", \"width\": 2}, \"mode\": \"lines\", \"name\": \"\", \"orientation\": \"v\", \"showlegend\": false, \"type\": \"scatter\", \"x\": [74.7, 111.5, 159.5, 209.0, 286.4, 433.7, 606.9, 874.2, 1124.9, 1514.4, 2118.0, 3026.4], \"xaxis\": \"x\", \"y\": [1.3218314493720442, 1.2469253839675307, 1.1988889699850525, 1.1721147951489768, 1.1505802528487574, 1.1363746131745904, 1.1354472594652782, 1.1449706421205548, 1.158173931790749, 1.1800753703647169, 1.213920732562868, 1.2614227645394835], \"yaxis\": \"y\"}, {\"hovertemplate\": \"param_count=%{x}<br>prediction=%{y}<extra></extra>\", \"legendgroup\": \"\", \"line\": {\"color\": \"pink\", \"dash\": \"solid\", \"width\": 2}, \"mode\": \"lines\", \"name\": \"\", \"orientation\": \"v\", \"showlegend\": false, \"type\": \"scatter\", \"x\": [286.4, 433.7, 606.9, 874.2, 1514.4, 2118.0, 3026.4], \"xaxis\": \"x\", \"y\": [1.1035495759982148, 1.0788155592297204, 1.067577828744941, 1.0637869698546196, 1.0734158169692434, 1.0881776913533352, 1.1116922310427764], \"yaxis\": \"y\"}, {\"hovertemplate\": \"param_count=%{x}<br>prediction=%{y}<extra></extra>\", \"legendgroup\": \"\", \"line\": {\"color\": \"gold\", \"dash\": \"solid\", \"width\": 2}, \"mode\": \"lines\", \"name\": \"\", \"orientation\": \"v\", \"showlegend\": false, \"type\": \"scatter\", \"x\": [433.7, 606.9, 874.2, 1124.9, 1514.4, 2118.0, 3026.4], \"xaxis\": \"x\", \"y\": [1.0554551224108406, 1.040153417916016, 1.0311491173562692, 1.0288325318039433, 1.0304419058741707, 1.037489598961326, 1.0512353349956503], \"yaxis\": \"y\"}, {\"hovertemplate\": \"param_count=%{x}<br>prediction=%{y}<extra></extra>\", \"legendgroup\": \"\", \"line\": {\"color\": \"silver\", \"dash\": \"solid\", \"width\": 2}, \"mode\": \"lines\", \"name\": \"\", \"orientation\": \"v\", \"showlegend\": false, \"type\": \"scatter\", \"x\": [606.9, 874.2, 1124.9, 1514.4, 2118.0], \"xaxis\": \"x\", \"y\": [1.0251916936410954, 1.013037360451933, 1.0085836422660144, 1.0069485237037048, 1.009758746040545], \"yaxis\": \"y\"}],                        {\"template\": {\"data\": {\"bar\": [{\"error_x\": {\"color\": \"#2a3f5f\"}, \"error_y\": {\"color\": \"#2a3f5f\"}, \"marker\": {\"line\": {\"color\": \"#E5ECF6\", \"width\": 0.5}}, \"type\": \"bar\"}], \"barpolar\": [{\"marker\": {\"line\": {\"color\": \"#E5ECF6\", \"width\": 0.5}}, \"type\": \"barpolar\"}], \"carpet\": [{\"aaxis\": {\"endlinecolor\": \"#2a3f5f\", \"gridcolor\": \"white\", \"linecolor\": \"white\", \"minorgridcolor\": \"white\", \"startlinecolor\": \"#2a3f5f\"}, \"baxis\": {\"endlinecolor\": \"#2a3f5f\", \"gridcolor\": \"white\", \"linecolor\": \"white\", \"minorgridcolor\": \"white\", \"startlinecolor\": \"#2a3f5f\"}, \"type\": \"carpet\"}], \"choropleth\": [{\"colorbar\": {\"outlinewidth\": 0, \"ticks\": \"\"}, \"type\": \"choropleth\"}], \"contour\": [{\"colorbar\": {\"outlinewidth\": 0, \"ticks\": \"\"}, \"colorscale\": [[0.0, \"#0d0887\"], [0.1111111111111111, \"#46039f\"], [0.2222222222222222, \"#7201a8\"], [0.3333333333333333, \"#9c179e\"], [0.4444444444444444, \"#bd3786\"], [0.5555555555555556, \"#d8576b\"], [0.6666666666666666, \"#ed7953\"], [0.7777777777777778, \"#fb9f3a\"], [0.8888888888888888, \"#fdca26\"], [1.0, \"#f0f921\"]], \"type\": \"contour\"}], \"contourcarpet\": [{\"colorbar\": {\"outlinewidth\": 0, \"ticks\": \"\"}, \"type\": \"contourcarpet\"}], \"heatmap\": [{\"colorbar\": {\"outlinewidth\": 0, \"ticks\": \"\"}, \"colorscale\": [[0.0, \"#0d0887\"], [0.1111111111111111, \"#46039f\"], [0.2222222222222222, \"#7201a8\"], [0.3333333333333333, \"#9c179e\"], [0.4444444444444444, \"#bd3786\"], [0.5555555555555556, \"#d8576b\"], [0.6666666666666666, \"#ed7953\"], [0.7777777777777778, \"#fb9f3a\"], [0.8888888888888888, \"#fdca26\"], [1.0, \"#f0f921\"]], \"type\": \"heatmap\"}], \"heatmapgl\": [{\"colorbar\": {\"outlinewidth\": 0, \"ticks\": \"\"}, \"colorscale\": [[0.0, \"#0d0887\"], [0.1111111111111111, \"#46039f\"], [0.2222222222222222, \"#7201a8\"], [0.3333333333333333, \"#9c179e\"], [0.4444444444444444, \"#bd3786\"], [0.5555555555555556, \"#d8576b\"], [0.6666666666666666, \"#ed7953\"], [0.7777777777777778, \"#fb9f3a\"], [0.8888888888888888, \"#fdca26\"], [1.0, \"#f0f921\"]], \"type\": \"heatmapgl\"}], \"histogram\": [{\"marker\": {\"colorbar\": {\"outlinewidth\": 0, \"ticks\": \"\"}}, \"type\": \"histogram\"}], \"histogram2d\": [{\"colorbar\": {\"outlinewidth\": 0, \"ticks\": \"\"}, \"colorscale\": [[0.0, \"#0d0887\"], [0.1111111111111111, \"#46039f\"], [0.2222222222222222, \"#7201a8\"], [0.3333333333333333, \"#9c179e\"], [0.4444444444444444, \"#bd3786\"], [0.5555555555555556, \"#d8576b\"], [0.6666666666666666, \"#ed7953\"], [0.7777777777777778, \"#fb9f3a\"], [0.8888888888888888, \"#fdca26\"], [1.0, \"#f0f921\"]], \"type\": \"histogram2d\"}], \"histogram2dcontour\": [{\"colorbar\": {\"outlinewidth\": 0, \"ticks\": \"\"}, \"colorscale\": [[0.0, \"#0d0887\"], [0.1111111111111111, \"#46039f\"], [0.2222222222222222, \"#7201a8\"], [0.3333333333333333, \"#9c179e\"], [0.4444444444444444, \"#bd3786\"], [0.5555555555555556, \"#d8576b\"], [0.6666666666666666, \"#ed7953\"], [0.7777777777777778, \"#fb9f3a\"], [0.8888888888888888, \"#fdca26\"], [1.0, \"#f0f921\"]], \"type\": \"histogram2dcontour\"}], \"mesh3d\": [{\"colorbar\": {\"outlinewidth\": 0, \"ticks\": \"\"}, \"type\": \"mesh3d\"}], \"parcoords\": [{\"line\": {\"colorbar\": {\"outlinewidth\": 0, \"ticks\": \"\"}}, \"type\": \"parcoords\"}], \"pie\": [{\"automargin\": true, \"type\": \"pie\"}], \"scatter\": [{\"marker\": {\"colorbar\": {\"outlinewidth\": 0, \"ticks\": \"\"}}, \"type\": \"scatter\"}], \"scatter3d\": [{\"line\": {\"colorbar\": {\"outlinewidth\": 0, \"ticks\": \"\"}}, \"marker\": {\"colorbar\": {\"outlinewidth\": 0, \"ticks\": \"\"}}, \"type\": \"scatter3d\"}], \"scattercarpet\": [{\"marker\": {\"colorbar\": {\"outlinewidth\": 0, \"ticks\": \"\"}}, \"type\": \"scattercarpet\"}], \"scattergeo\": [{\"marker\": {\"colorbar\": {\"outlinewidth\": 0, \"ticks\": \"\"}}, \"type\": \"scattergeo\"}], \"scattergl\": [{\"marker\": {\"colorbar\": {\"outlinewidth\": 0, \"ticks\": \"\"}}, \"type\": \"scattergl\"}], \"scattermapbox\": [{\"marker\": {\"colorbar\": {\"outlinewidth\": 0, \"ticks\": \"\"}}, \"type\": \"scattermapbox\"}], \"scatterpolar\": [{\"marker\": {\"colorbar\": {\"outlinewidth\": 0, \"ticks\": \"\"}}, \"type\": \"scatterpolar\"}], \"scatterpolargl\": [{\"marker\": {\"colorbar\": {\"outlinewidth\": 0, \"ticks\": \"\"}}, \"type\": \"scatterpolargl\"}], \"scatterternary\": [{\"marker\": {\"colorbar\": {\"outlinewidth\": 0, \"ticks\": \"\"}}, \"type\": \"scatterternary\"}], \"surface\": [{\"colorbar\": {\"outlinewidth\": 0, \"ticks\": \"\"}, \"colorscale\": [[0.0, \"#0d0887\"], [0.1111111111111111, \"#46039f\"], [0.2222222222222222, \"#7201a8\"], [0.3333333333333333, \"#9c179e\"], [0.4444444444444444, \"#bd3786\"], [0.5555555555555556, \"#d8576b\"], [0.6666666666666666, \"#ed7953\"], [0.7777777777777778, \"#fb9f3a\"], [0.8888888888888888, \"#fdca26\"], [1.0, \"#f0f921\"]], \"type\": \"surface\"}], \"table\": [{\"cells\": {\"fill\": {\"color\": \"#EBF0F8\"}, \"line\": {\"color\": \"white\"}}, \"header\": {\"fill\": {\"color\": \"#C8D4E3\"}, \"line\": {\"color\": \"white\"}}, \"type\": \"table\"}]}, \"layout\": {\"annotationdefaults\": {\"arrowcolor\": \"#2a3f5f\", \"arrowhead\": 0, \"arrowwidth\": 1}, \"autotypenumbers\": \"strict\", \"coloraxis\": {\"colorbar\": {\"outlinewidth\": 0, \"ticks\": \"\"}}, \"colorscale\": {\"diverging\": [[0, \"#8e0152\"], [0.1, \"#c51b7d\"], [0.2, \"#de77ae\"], [0.3, \"#f1b6da\"], [0.4, \"#fde0ef\"], [0.5, \"#f7f7f7\"], [0.6, \"#e6f5d0\"], [0.7, \"#b8e186\"], [0.8, \"#7fbc41\"], [0.9, \"#4d9221\"], [1, \"#276419\"]], \"sequential\": [[0.0, \"#0d0887\"], [0.1111111111111111, \"#46039f\"], [0.2222222222222222, \"#7201a8\"], [0.3333333333333333, \"#9c179e\"], [0.4444444444444444, \"#bd3786\"], [0.5555555555555556, \"#d8576b\"], [0.6666666666666666, \"#ed7953\"], [0.7777777777777778, \"#fb9f3a\"], [0.8888888888888888, \"#fdca26\"], [1.0, \"#f0f921\"]], \"sequentialminus\": [[0.0, \"#0d0887\"], [0.1111111111111111, \"#46039f\"], [0.2222222222222222, \"#7201a8\"], [0.3333333333333333, \"#9c179e\"], [0.4444444444444444, \"#bd3786\"], [0.5555555555555556, \"#d8576b\"], [0.6666666666666666, \"#ed7953\"], [0.7777777777777778, \"#fb9f3a\"], [0.8888888888888888, \"#fdca26\"], [1.0, \"#f0f921\"]]}, \"colorway\": [\"#636efa\", \"#EF553B\", \"#00cc96\", \"#ab63fa\", \"#FFA15A\", \"#19d3f3\", \"#FF6692\", \"#B6E880\", \"#FF97FF\", \"#FECB52\"], \"font\": {\"color\": \"#2a3f5f\"}, \"geo\": {\"bgcolor\": \"white\", \"lakecolor\": \"white\", \"landcolor\": \"#E5ECF6\", \"showlakes\": true, \"showland\": true, \"subunitcolor\": \"white\"}, \"hoverlabel\": {\"align\": \"left\"}, \"hovermode\": \"closest\", \"mapbox\": {\"style\": \"light\"}, \"paper_bgcolor\": \"white\", \"plot_bgcolor\": \"#E5ECF6\", \"polar\": {\"angularaxis\": {\"gridcolor\": \"white\", \"linecolor\": \"white\", \"ticks\": \"\"}, \"bgcolor\": \"#E5ECF6\", \"radialaxis\": {\"gridcolor\": \"white\", \"linecolor\": \"white\", \"ticks\": \"\"}}, \"scene\": {\"xaxis\": {\"backgroundcolor\": \"#E5ECF6\", \"gridcolor\": \"white\", \"gridwidth\": 2, \"linecolor\": \"white\", \"showbackground\": true, \"ticks\": \"\", \"zerolinecolor\": \"white\"}, \"yaxis\": {\"backgroundcolor\": \"#E5ECF6\", \"gridcolor\": \"white\", \"gridwidth\": 2, \"linecolor\": \"white\", \"showbackground\": true, \"ticks\": \"\", \"zerolinecolor\": \"white\"}, \"zaxis\": {\"backgroundcolor\": \"#E5ECF6\", \"gridcolor\": \"white\", \"gridwidth\": 2, \"linecolor\": \"white\", \"showbackground\": true, \"ticks\": \"\", \"zerolinecolor\": \"white\"}}, \"shapedefaults\": {\"line\": {\"color\": \"#2a3f5f\"}}, \"ternary\": {\"aaxis\": {\"gridcolor\": \"white\", \"linecolor\": \"white\", \"ticks\": \"\"}, \"baxis\": {\"gridcolor\": \"white\", \"linecolor\": \"white\", \"ticks\": \"\"}, \"bgcolor\": \"#E5ECF6\", \"caxis\": {\"gridcolor\": \"white\", \"linecolor\": \"white\", \"ticks\": \"\"}}, \"title\": {\"x\": 0.05}, \"xaxis\": {\"automargin\": true, \"gridcolor\": \"white\", \"linecolor\": \"white\", \"ticks\": \"\", \"title\": {\"standoff\": 15}, \"zerolinecolor\": \"white\", \"zerolinewidth\": 2}, \"yaxis\": {\"automargin\": true, \"gridcolor\": \"white\", \"linecolor\": \"white\", \"ticks\": \"\", \"title\": {\"standoff\": 15}, \"zerolinecolor\": \"white\", \"zerolinewidth\": 2}}}},                        {\"responsive\": true}                    ).then(function(){\n",
       "                            \n",
       "var gd = document.getElementById('0ff0dbe7-a0d8-4b4b-8bc6-3f68dd8dab9c');\n",
       "var x = new MutationObserver(function (mutations, observer) {{\n",
       "        var display = window.getComputedStyle(gd).display;\n",
       "        if (!display || display === 'none') {{\n",
       "            console.log([gd, 'removed!']);\n",
       "            Plotly.purge(gd);\n",
       "            observer.disconnect();\n",
       "        }}\n",
       "}});\n",
       "\n",
       "// Listen for the removal of the full notebook cells\n",
       "var notebookContainer = gd.closest('#notebook-container');\n",
       "if (notebookContainer) {{\n",
       "    x.observe(notebookContainer, {childList: true});\n",
       "}}\n",
       "\n",
       "// Listen for the clearing of the current output cell\n",
       "var outputEl = gd.closest('.output');\n",
       "if (outputEl) {{\n",
       "    x.observe(outputEl, {childList: true});\n",
       "}}\n",
       "\n",
       "                        })                };                });            </script>        </div>"
      ]
     },
     "metadata": {},
     "output_type": "display_data"
    }
   ],
   "source": [
    "import plotly.express as px\n",
    "import plotly.graph_objects as go\n",
    "\n",
    "color_map={\n",
    "           \"3e+18\": \"orange\",\n",
    "           \"6e+18\": \"black\",\n",
    "           \"3e+18\": \"brown\",\n",
    "           \"1e+19\": \"green\",\n",
    "           \"3e+19\": \"purple\",\n",
    "           \"6e+19\": \"red\",\n",
    "           \"1e+20\": \"blue\",\n",
    "           \"3e+20\": \"pink\",\n",
    "           \"6e+20\": \"gold\",\n",
    "           \"1e+21\": \"silver\",\n",
    "          }\n",
    "\n",
    "df_c['compute'] = df_c['compute'].astype(str)\n",
    "fig = px.scatter(df_c, x='param_count', y='valid_loss', color='compute', \n",
    "                 log_x=True, color_discrete_map=color_map)\n",
    "\n",
    "for compute in color_map.keys():\n",
    "    tmp_df = df_c[df_c['compute'] == compute]\n",
    "    df_d = list() \n",
    "    for _, row in tmp_df.iterrows():\n",
    "        pred = scaling_law(row['param_count']*1e6, row['training_tokens'], best_params)\n",
    "        df_d.append({'prediction': pred, 'param_count': row['param_count'], 'training_tokens': row['training_tokens']})\n",
    "    fig2 = px.line(pd.DataFrame(df_d).sort_values('param_count'), \n",
    "                   x='param_count', y='prediction', log_x=True)\n",
    "    fig2.update_traces(line_color=color_map[compute], line_width=2)\n",
    "    fig = go.Figure(data=fig.data + fig2.data)\n",
    "\n",
    "fig.show()"
   ]
  },
  {
   "cell_type": "markdown",
   "id": "4f9a9685-b123-4548-8abb-a9ffa8486324",
   "metadata": {},
   "source": [
    "# Inverse Pass Rate"
   ]
  },
  {
   "cell_type": "code",
   "execution_count": 467,
   "id": "1f1682b4-5715-49fb-b54a-15d44d6c7372",
   "metadata": {},
   "outputs": [],
   "source": [
    "df = df[df[\"PassRate\"]>0.0]"
   ]
  },
  {
   "cell_type": "code",
   "execution_count": 468,
   "id": "6ded1357-ebef-4d68-b1ab-904b614ab2a7",
   "metadata": {},
   "outputs": [],
   "source": [
    "def function(x):\n",
    "    a, b, e, alpha, beta = x\n",
    "    overall_sum = 0\n",
    "    for N, D, L in zip(df[\"training_tokens\"], df[\"param_count\"], df[\"PassRate\"]):\n",
    "        L = 1/L\n",
    "        element = huber(0.001, logsumexp([a - alpha*np.log(N),b -  beta*np.log(D), e]) - np.log(L))\n",
    "        overall_sum+=element\n",
    "    return overall_sum"
   ]
  },
  {
   "cell_type": "code",
   "execution_count": 469,
   "id": "fe05acde-5836-47d5-8523-6b51d5ebc6e3",
   "metadata": {},
   "outputs": [
    {
     "name": "stderr",
     "output_type": "stream",
     "text": [
      "100%|████████████████████████████████████████████████████████████████████████████████████████████████████████████████████████████████████████████████| 6/6 [00:08<00:00,  1.45s/it]\n"
     ]
    },
    {
     "data": {
      "text/plain": [
       "(25.0, 10.0, 0.5, 1.0, 1.5)"
      ]
     },
     "execution_count": 469,
     "metadata": {},
     "output_type": "execute_result"
    }
   ],
   "source": [
    "min_value = 1e10\n",
    "\n",
    "from tqdm import tqdm\n",
    "\n",
    "for a in tqdm(np.linspace(0, 25, 6)):\n",
    "    for b in np.linspace(0, 25, 6):\n",
    "        for e in np.linspace(-1, 1, 5):\n",
    "            for alpha in np.linspace(0, 2,5):\n",
    "                for beta in np.linspace(0,2,5):\n",
    "                    value = function((a, b, e, alpha, beta))\n",
    "                    if value<min_value:\n",
    "                        best_config = (a, b, e, alpha, beta)\n",
    "                        min_value = value\n",
    "best_config"
   ]
  },
  {
   "cell_type": "code",
   "execution_count": 470,
   "id": "e93ed1d7-5a01-4c19-91bc-e3db197cb822",
   "metadata": {},
   "outputs": [
    {
     "data": {
      "text/plain": [
       "      fun: 0.01583050510669054\n",
       " hess_inv: <5x5 LbfgsInvHessProduct with dtype=float64>\n",
       "      jac: array([ 4.34027778e-07,  6.93889333e-07, -3.14678837e-07, -9.97361910e-06,\n",
       "       -2.41091870e-06])\n",
       "  message: 'CONVERGENCE: NORM_OF_PROJECTED_GRADIENT_<=_PGTOL'\n",
       "     nfev: 954\n",
       "      nit: 93\n",
       "     njev: 159\n",
       "   status: 0\n",
       "  success: True\n",
       "        x: array([19.98268472,  9.17922333,  0.75080129,  0.78776087,  1.46806481])"
      ]
     },
     "execution_count": 470,
     "metadata": {},
     "output_type": "execute_result"
    }
   ],
   "source": [
    "params = minimize(function, best_config, method=\"L-BFGS-B\")\n",
    "params"
   ]
  },
  {
   "cell_type": "code",
   "execution_count": 471,
   "id": "87dae747-a094-4919-be4d-7c7786ec526a",
   "metadata": {},
   "outputs": [],
   "source": [
    "def scaling_law(N, D, params):\n",
    "    a, b, e, alpha, beta = params\n",
    "    A = np.exp(a)\n",
    "    B = np.exp(b)\n",
    "    E = np.exp(e)\n",
    "    L =  E + (A / (N**alpha)) + (B /(D**beta))\n",
    "    \n",
    "    return 1/L"
   ]
  },
  {
   "cell_type": "code",
   "execution_count": 473,
   "id": "a0cc00e5-656c-49a8-a55e-18b3cf4a90f1",
   "metadata": {},
   "outputs": [
    {
     "data": {
      "text/plain": [
       "0.4348434064946986"
      ]
     },
     "execution_count": 473,
     "metadata": {},
     "output_type": "execute_result"
    }
   ],
   "source": [
    "scaling_law(1e12, 10_000, params.x)"
   ]
  },
  {
   "cell_type": "code",
   "execution_count": 474,
   "id": "921ebd67-1c21-44b5-b674-665837079e34",
   "metadata": {},
   "outputs": [
    {
     "data": {
      "text/plain": [
       "Text(0, 0.5, 'Pass@100')"
      ]
     },
     "execution_count": 474,
     "metadata": {},
     "output_type": "execute_result"
    },
    {
     "data": {
      "image/png": "[encoded data removed]",
      "text/plain": [
       "<Figure size 432x288 with 1 Axes>"
      ]
     },
     "metadata": {
      "needs_background": "light"
     },
     "output_type": "display_data"
    }
   ],
   "source": [
    "import matplotlib.pyplot as plt\n",
    "\n",
    "x = np.linspace(1, 30, 30)\n",
    "\n",
    "plt.plot(x, [scaling_law(1e12, i*1000, params.x) for i in x])\n",
    "plt.title(\"Pass@100 for 1T token training\")\n",
    "plt.xlabel(\"Model size (B)\")\n",
    "plt.ylabel(\"Pass@100\")"
   ]
  },
  {
   "cell_type": "code",
   "execution_count": 475,
   "id": "df0776c1-1f13-4aa5-b8a0-5b7de297c596",
   "metadata": {},
   "outputs": [
    {
     "name": "stderr",
     "output_type": "stream",
     "text": [
      "/var/folders/l4/2905jygx4tx5jv8_kn03vxsw0000gn/T/ipykernel_67683/1369441161.py:6: RuntimeWarning: divide by zero encountered in double_scalars\n",
      "  L =  E + (A / (N**alpha)) + (B /(D**beta))\n"
     ]
    },
    {
     "data": {
      "text/plain": [
       "Text(0, 0.5, 'Pass@100')"
      ]
     },
     "execution_count": 475,
     "metadata": {},
     "output_type": "execute_result"
    },
    {
     "data": {
      "image/png": "[encoded data removed]",
      "text/plain": [
       "<Figure size 432x288 with 1 Axes>"
      ]
     },
     "metadata": {
      "needs_background": "light"
     },
     "output_type": "display_data"
    }
   ],
   "source": [
    "x = np.linspace(0, 1000, 100)\n",
    "\n",
    "plt.plot(x, [scaling_law(i*1e9, 10_000, params.x) for i in x])\n",
    "plt.title(\"Pass@100 for 10B parameter model\")\n",
    "plt.xlabel(\"Training tokens (B)\")\n",
    "plt.ylabel(\"Pass@100\")"
   ]
  },
  {
   "cell_type": "code",
   "execution_count": 255,
   "id": "8ac182bd-753e-451b-8d8d-2c6410f74f29",
   "metadata": {},
   "outputs": [],
   "source": []
  },
  {
   "cell_type": "code",
   "execution_count": 329,
   "id": "0a704df4-4b4c-48b2-a73b-44051fede183",
   "metadata": {},
   "outputs": [
    {
     "name": "stderr",
     "output_type": "stream",
     "text": [
      "100it [00:00, 1591.24it/s]\n"
     ]
    }
   ],
   "source": [
    "pass_rate = np.zeros((100, 100))\n",
    "sizes = np.linspace(1, 15, 100)\n",
    "tokens = np.linspace(1, 1000, 100)\n",
    "\n",
    "for i, s in tqdm(enumerate(sizes)):\n",
    "    for j, t in enumerate(tokens):\n",
    "        pass_rate[i, j] = scaling_law(t*1e9, s*1_000, params.x)\n"
   ]
  },
  {
   "cell_type": "code",
   "execution_count": 330,
   "id": "2e243f59-4c44-4e47-8d66-9f7054c8a683",
   "metadata": {},
   "outputs": [
    {
     "data": {
      "image/png": "[encoded data removed]",
      "text/plain": [
       "<Figure size 900x600 with 2 Axes>"
      ]
     },
     "metadata": {
      "needs_background": "light"
     },
     "output_type": "display_data"
    }
   ],
   "source": [
    "plt.figure(figsize=(6, 4), dpi=150)\n",
    "\n",
    "plt.imshow(pass_rate.T, aspect=\"auto\", extent=[1,15,1,1000], origin=\"lower\")\n",
    "plt.colorbar(label=\"pass@100 (Java)\")\n",
    "\n",
    "X, Y = np.meshgrid(sizes, tokens)\n",
    "CS = plt.contour(X, Y, pass_rate.T, colors='k', levels=np.linspace(0.2, 0.9, 29))\n",
    "plt.clabel(CS, fontsize=9, inline=1)\n",
    "\n",
    "plt.xlabel(\"Model Size (B)\")\n",
    "plt.ylabel(\"Training tokens (B)\")\n",
    "plt.grid(visible=True)"
   ]
  },
  {
   "cell_type": "code",
   "execution_count": 265,
   "id": "373c1025-8aa6-4daa-9896-bb6be87a1cbc",
   "metadata": {},
   "outputs": [
    {
     "data": {
      "text/plain": [
       "array([  1.,   2.,   3.,   4.,   5.,   6.,   7.,   8.,   9.,  10.,  11.,\n",
       "        12.,  13.,  14.,  15.,  16.,  17.,  18.,  19.,  20.,  21.,  22.,\n",
       "        23.,  24.,  25.,  26.,  27.,  28.,  29.,  30.,  31.,  32.,  33.,\n",
       "        34.,  35.,  36.,  37.,  38.,  39.,  40.,  41.,  42.,  43.,  44.,\n",
       "        45.,  46.,  47.,  48.,  49.,  50.,  51.,  52.,  53.,  54.,  55.,\n",
       "        56.,  57.,  58.,  59.,  60.,  61.,  62.,  63.,  64.,  65.,  66.,\n",
       "        67.,  68.,  69.,  70.,  71.,  72.,  73.,  74.,  75.,  76.,  77.,\n",
       "        78.,  79.,  80.,  81.,  82.,  83.,  84.,  85.,  86.,  87.,  88.,\n",
       "        89.,  90.,  91.,  92.,  93.,  94.,  95.,  96.,  97.,  98.,  99.,\n",
       "       100.])"
      ]
     },
     "execution_count": 265,
     "metadata": {},
     "output_type": "execute_result"
    }
   ],
   "source": [
    "sizes"
   ]
  },
  {
   "cell_type": "code",
   "execution_count": null,
   "id": "9c5073ff-2d1e-488e-977e-1ad06c904576",
   "metadata": {},
   "outputs": [],
   "source": []
  }
 ],
 "metadata": {
  "kernelspec": {
   "display_name": "Python 3 (ipykernel)",
   "language": "python",
   "name": "python3"
  },
  "language_info": {
   "codemirror_mode": {
    "name": "ipython",
    "version": 3
   },
   "file_extension": ".py",
   "mimetype": "text/x-python",
   "name": "python",
   "nbconvert_exporter": "python",
   "pygments_lexer": "ipython3",
   "version": "3.9.12"
  }
 },
 "nbformat": 4,
 "nbformat_minor": 5
}
