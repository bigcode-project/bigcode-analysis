{
 "cells": [
  {
   "cell_type": "markdown",
   "metadata": {},
   "source": [
    "# Analysis of natural language in the docstrings/comments of Python code"
   ]
  },
  {
   "cell_type": "markdown",
   "metadata": {},
   "source": [
    "### Docstring and comment extraction from Python code"
   ]
  },
  {
   "cell_type": "code",
   "execution_count": 50,
   "metadata": {},
   "outputs": [
    {
     "name": "stdout",
     "output_type": "stream",
     "text": [
      "class docstring\n",
      "function docstring\n",
      "\n",
      "general comment first comment second comment\n"
     ]
    }
   ],
   "source": [
    "from text_extraction import get_text\n",
    "\n",
    "example = \"\"\"\n",
    "#general comment\n",
    "class foo():\n",
    "    '''\n",
    "    class docstring\n",
    "    '''\n",
    "    \n",
    "    some_value = 2\n",
    "    def bar(arg1, arg2):\n",
    "        ''' function docstring'''\n",
    "        if arg1 == 2:\n",
    "            # first comment\n",
    "            print(arg1)\n",
    "        else:\n",
    "            # second comment\n",
    "            arg2 += 3\n",
    "        return arg1 + arg2\n",
    "\"\"\"\n",
    "\n",
    "print(get_text(example))"
   ]
  },
  {
   "cell_type": "markdown",
   "metadata": {},
   "source": [
    "### Language identification\n",
    "\n",
    "We analyze a 2,000 subset of codeparrot data. \n",
    "\n",
    "Note: During docstring extraction, the order of the docstrings in code may not respected, and comments are added at the end without the # sign"
   ]
  },
  {
   "cell_type": "code",
   "execution_count": 52,
   "metadata": {},
   "outputs": [
    {
     "name": "stderr",
     "output_type": "stream",
     "text": [
      "Using custom data configuration codeparrot--codeparrot-clean-valid-acf5bb840ba0029c\n",
      "Reusing dataset json (/Users/loubnabenallal/.cache/huggingface/datasets/codeparrot___json/codeparrot--codeparrot-clean-valid-acf5bb840ba0029c/0.0.0/da492aad5680612e4028e7f6ddc04b1dfcec4b64db470ed7cc5f2bb265b9b6b5)\n"
     ]
    }
   ],
   "source": [
    "from datasets import load_dataset\n",
    "\n",
    "ds = load_dataset(\"codeparrot/codeparrot-clean-valid\", split=\"train\")"
   ]
  },
  {
   "cell_type": "code",
   "execution_count": 58,
   "metadata": {},
   "outputs": [
    {
     "name": "stdout",
     "output_type": "stream",
     "text": [
      "Displays a MX Dataset and associated information.\n",
      "\n",
      "Shows a full (hundreds of images) dataset its metadata and a list\n",
      "of associated files with the option to show metadata of each file\n",
      "and ways to download those files.  With write permission this page\n",
      "also allows uploading and metadata editing.\n",
      "\n",
      "Settings for this view:\n",
      "INSTALLED_APPS += (\"tardis.apps.mx_views\",)\n",
      "DATASET_VIEWS = [(\"http://synchrotron.org.au/views/dataset/full\",\n",
      "                  \"tardis.apps.mx_views.views.view_full_dataset\"),]\n",
      "\n",
      " pagination was removed by someone in the interface but not here. need to fix. If page request (9999) is out of range, deliver last page of results. take 4 evenly spaced images from the set\n"
     ]
    }
   ],
   "source": [
    "print(get_text(ds[0][\"content\"], comments=True, clean_comments=True))"
   ]
  },
  {
   "cell_type": "code",
   "execution_count": 57,
   "metadata": {},
   "outputs": [
    {
     "name": "stdout",
     "output_type": "stream",
     "text": [
      "from django.conf import settings\n",
      "from django.core.paginator import Paginator, InvalidPage, EmptyPage\n",
      "from django.http import HttpResponse\n",
      "\n",
      "from tardis.tardis_portal.auth import decorators as authz\n",
      "from tardis.tardis_portal.models import Dataset\n",
      "from tardis.tardis_portal.shortcuts import get_experiment_referer\n",
      "from tardis.tardis_portal.shortcuts import render_response_index\n",
      "\n",
      "\n",
      "@authz.dataset_access_required\n",
      "def view_full_dataset(request, dataset_id):\n",
      "    \"\"\"Displays a MX Dataset and associated information.\n",
      "\n",
      "    Shows a full (hundreds of images) dataset its metadata and a list\n",
      "    of associated files with the option to show metadata of each file\n",
      "    and ways to download those files.  With write permission this page\n",
      "    also allows uploading and metadata editing.\n",
      "\n",
      "    Settings for this view:\n",
      "    INSTALLED_APPS += (\"tardis.apps.mx_views\",)\n",
      "    DATASET_VIEWS = [(\"http://synchrotron.org.au/views/dataset/full\",\n",
      "                      \"tardis.apps.mx_views.views.view_full_dataset\"),]\n",
      "\n",
      "    \"\"\"\n",
      "    dataset = Dataset.objects.get(id=dataset_id)\n",
      "\n",
      "    def get_datafiles_page():\n",
      "        # pagination was removed by someone in the interface but not here.\n",
      "        # need to fix.\n",
      "        pgresults = 100\n",
      "\n",
      "        paginator = Paginator(dataset.datafile_set.all(), pgresults)\n",
      "\n",
      "        try:\n",
      "            page = int(request.GET.get('page', '1'))\n",
      "        except ValueError:\n",
      "            page = 1\n",
      "\n",
      "        # If page request (9999) is out of range, deliver last page of results.\n",
      "\n",
      "        try:\n",
      "            return paginator.page(page)\n",
      "        except (EmptyPage, InvalidPage):\n",
      "            return paginator.page(paginator.num_pages)\n",
      "\n",
      "    display_images = dataset.get_images()\n",
      "    image_count = len(display_images)\n",
      "    if image_count > 4:\n",
      "        # take 4 evenly spaced images from the set\n",
      "        display_images = display_images[0::image_count / 4][:4]\n",
      "\n",
      "    upload_method = getattr(settings, \"UPLOAD_METHOD\", \"uploadify\")\n",
      "\n",
      "    c = {\n",
      "        'dataset': dataset,\n",
      "        'datafiles': get_datafiles_page(),\n",
      "        'parametersets': dataset.getParameterSets()\n",
      "                                .exclude(schema__hidden=True),\n",
      "        'has_download_permissions':\n",
      "            authz.has_dataset_download_access(request, dataset_id),\n",
      "        'has_write_permissions':\n",
      "            authz.has_dataset_write(request, dataset_id),\n",
      "        'from_experiment': \\\n",
      "            get_experiment_referer(request, dataset_id),\n",
      "        'other_experiments': \\\n",
      "            authz.get_accessible_experiments_for_dataset(request, dataset_id),\n",
      "        'display_images': display_images,\n",
      "        'upload_method': upload_method,\n",
      "        'default_organization':\n",
      "            getattr(settings, 'DEFAULT_ARCHIVE_ORGANIZATION', 'classic'),\n",
      "        'default_format':\n",
      "            getattr(settings, 'DEFAULT_ARCHIVE_FORMATS', ['tgz', 'tar'])[0]\n",
      "    }\n",
      "    return HttpResponse(render_response_index(\n",
      "        request, 'mx_views/view_full_dataset.html', c))\n",
      "\n"
     ]
    }
   ],
   "source": [
    "print(ds[0][\"content\"])"
   ]
  },
  {
   "cell_type": "code",
   "execution_count": 59,
   "metadata": {},
   "outputs": [],
   "source": [
    "from language_identifier import extract_nl_text, FunctionDatasetModifyingDocuments"
   ]
  },
  {
   "cell_type": "code",
   "execution_count": 60,
   "metadata": {},
   "outputs": [
    {
     "data": {
      "application/vnd.jupyter.widget-view+json": {
       "model_id": "3e8d859db179472aa7ff68d64410f47f",
       "version_major": 2,
       "version_minor": 0
      },
      "text/plain": [
       "  0%|          | 0/2000 [00:00<?, ?ex/s]"
      ]
     },
     "metadata": {},
     "output_type": "display_data"
    },
    {
     "name": "stderr",
     "output_type": "stream",
     "text": [
      "/Users/loubnabenallal/Desktop/bigcode/text_extraction.py:79: UserWarning: code couldn't be parsed due to compilation failure, no docstring is extracted\n",
      "  warnings.warn(\"code couldn't be parsed due to compilation failure, no docstring is extracted\")\n",
      "/Users/loubnabenallal/Desktop/bigcode/text_extraction.py:86: UserWarning: tokenization error, no comment is extracted\n",
      "  warnings.warn(\"tokenization error, no comment is extracted\")\n"
     ]
    }
   ],
   "source": [
    "dataset = ds.select([i for i in range(2000)])\n",
    "# extraction of NL\n",
    "dataset = dataset.map(extract_nl_text)"
   ]
  },
  {
   "cell_type": "markdown",
   "metadata": {},
   "source": [
    "Two new columns in the dataset: nl_text with a string where the extracted dosctrings and comments are concatenated, nl_size: size of nl_text"
   ]
  },
  {
   "cell_type": "code",
   "execution_count": 62,
   "metadata": {},
   "outputs": [
    {
     "data": {
      "text/plain": [
       "Dataset({\n",
       "    features: ['repo_name', 'path', 'copies', 'size', 'content', 'license', 'hash', 'line_mean', 'line_max', 'alpha_frac', 'autogenerated', 'nl_text', 'nl_size'],\n",
       "    num_rows: 2000\n",
       "})"
      ]
     },
     "execution_count": 62,
     "metadata": {},
     "output_type": "execute_result"
    }
   ],
   "source": [
    "dataset"
   ]
  },
  {
   "cell_type": "code",
   "execution_count": 65,
   "metadata": {},
   "outputs": [
    {
     "data": {
      "text/plain": [
       "Text(0.5, 1.0, 'distribution of the size of extracted doctrings+comments (on a 2k subset)')"
      ]
     },
     "execution_count": 65,
     "metadata": {},
     "output_type": "execute_result"
    },
    {
     "data": {
      "image/png": "[encoded data removed]",
      "text/plain": [
       "<Figure size 900x600 with 1 Axes>"
      ]
     },
     "metadata": {},
     "output_type": "display_data"
    }
   ],
   "source": [
    "from matplotlib import pyplot as plt\n",
    "import numpy as np\n",
    "\n",
    "plt.figure(figsize=(9,6))\n",
    "plt.hist(dataset['nl_size'], bins=np.linspace(0, 10_000, 200), alpha=0.4, label=\"length \")\n",
    "plt.legend(prop ={'size': 10})\n",
    "#truncated distribution\n",
    "plt.title(\"distribution of the size of extracted doctrings+comments (on a 2k subset)\")\n",
    "# 7% of the files have empty (or almost empty) nl_text columns"
   ]
  },
  {
   "cell_type": "markdown",
   "metadata": {},
   "source": [
    "Now let's identify languages"
   ]
  },
  {
   "cell_type": "code",
   "execution_count": 67,
   "metadata": {},
   "outputs": [
    {
     "name": "stderr",
     "output_type": "stream",
     "text": [
      "Warning : `load_model` does not return WordVectorModel or SupervisedModel any more, but a `FastText` object which is very similar.\n"
     ]
    }
   ],
   "source": [
    "path_fasttext_model = \"fasttext_model/lid.176.bin\"\n",
    "func_dataset_modifying_documents = FunctionDatasetModifyingDocuments(\n",
    "    path_fasttext_model\n",
    ")"
   ]
  },
  {
   "cell_type": "code",
   "execution_count": 68,
   "metadata": {},
   "outputs": [
    {
     "data": {
      "text/plain": [
       "'Displays a MX Dataset and associated information.\\n\\nShows a full (hundreds of images) dataset its metadata and a list\\nof associated files with the option to show metadata of each file\\nand ways to download those files.  With write permission this page\\nalso allows uploading and metadata editing.\\n\\nSettings for this view:\\nINSTALLED_APPS += (\"tardis.apps.mx_views\",)\\nDATASET_VIEWS = [(\"http://synchrotron.org.au/views/dataset/full\",\\n                  \"tardis.apps.mx_views.views.view_full_dataset\"),]\\n\\n pagination was removed by someone in the interface but not here. need to fix. If page request (9999) is out of range, deliver last page of results. take 4 evenly spaced images from the set'"
      ]
     },
     "execution_count": 68,
     "metadata": {},
     "output_type": "execute_result"
    }
   ],
   "source": [
    "dataset[0][\"nl_text\"]"
   ]
  },
  {
   "cell_type": "code",
   "execution_count": 70,
   "metadata": {},
   "outputs": [],
   "source": [
    "output = func_dataset_modifying_documents(dataset[0])"
   ]
  },
  {
   "cell_type": "code",
   "execution_count": 73,
   "metadata": {},
   "outputs": [
    {
     "data": {
      "text/plain": [
       "dict_keys(['repo_name', 'path', 'copies', 'size', 'content', 'license', 'hash', 'line_mean', 'line_max', 'alpha_frac', 'autogenerated', 'nl_text', 'nl_size', 'nl_language', 'nl_language_score'])"
      ]
     },
     "execution_count": 73,
     "metadata": {},
     "output_type": "execute_result"
    }
   ],
   "source": [
    "output.keys()"
   ]
  },
  {
   "cell_type": "code",
   "execution_count": 72,
   "metadata": {},
   "outputs": [
    {
     "name": "stdout",
     "output_type": "stream",
     "text": [
      "detected language id is: en\n",
      "Model prediction score of the language: 0.873705267906189\n"
     ]
    }
   ],
   "source": [
    "print(f\"detected language id is: {output['nl_language']}\")\n",
    "print(f\"Model prediction score of the language: {output['nl_language_score']}\")"
   ]
  },
  {
   "cell_type": "code",
   "execution_count": 76,
   "metadata": {},
   "outputs": [
    {
     "data": {
      "text/plain": [
       "\"-*- coding: utf-8 -*- im = cv2.imread('test.jpg') im = cv2.imread('poker5hearts.jpg') im = cv2.imread('../data/black-white-rect.png')contour.jpg 需要注意的是cv2.findContours()函数接受的参数为二值图，即黑白的（不是灰度图） 所以读取的图像要先转成灰度的，再转成二值图 ret, thresh = cv2.threshold(imgray, 0, 25, 0) ret, thresh = cv2.threshold(imgray, 0, 100, 0)src, thresh, maxval, type轮廓提取模式 Contour_Retrieval_Mode img = cv2.drawContours(im, contours, 3, (255, 0, 0), 3)\""
      ]
     },
     "execution_count": 76,
     "metadata": {},
     "output_type": "execute_result"
    }
   ],
   "source": [
    "dataset[4][\"nl_text\"]"
   ]
  },
  {
   "cell_type": "code",
   "execution_count": 77,
   "metadata": {},
   "outputs": [
    {
     "name": "stdout",
     "output_type": "stream",
     "text": [
      "detected language id is: zh\n",
      "Model prediction score of the language: 0.1867564469575882\n"
     ]
    }
   ],
   "source": [
    "output2 = func_dataset_modifying_documents(dataset[4])\n",
    "print(f\"detected language id is: {output2['nl_language']}\")\n",
    "# zh stands for Chinese\n",
    "print(f\"Model prediction score of the language: {output2['nl_language_score']}\")"
   ]
  },
  {
   "cell_type": "code",
   "execution_count": null,
   "metadata": {},
   "outputs": [],
   "source": [
    "dataset[0][\"nl_text\"]"
   ]
  },
  {
   "cell_type": "markdown",
   "metadata": {},
   "source": [
    "Now let's run language detection on the full 2,000 samples subset"
   ]
  },
  {
   "cell_type": "code",
   "execution_count": 78,
   "metadata": {},
   "outputs": [
    {
     "data": {
      "application/vnd.jupyter.widget-view+json": {
       "model_id": "1cadb9a3c8b14cc0aa6fc0ef3ace41cb",
       "version_major": 2,
       "version_minor": 0
      },
      "text/plain": [
       "  0%|          | 0/2000 [00:00<?, ?ex/s]"
      ]
     },
     "metadata": {},
     "output_type": "display_data"
    },
    {
     "name": "stdout",
     "output_type": "stream",
     "text": [
      "Fasttext done\n"
     ]
    }
   ],
   "source": [
    "# Could be improved by allowing multiprocessing with map (currently doesn't work)\n",
    "dataset_language = dataset.map(\n",
    "    func_dataset_modifying_documents, num_proc=1\n",
    ")  # num_proc=cpu_count()\n",
    "print(\"Fasttext done\")"
   ]
  },
  {
   "cell_type": "code",
   "execution_count": 79,
   "metadata": {},
   "outputs": [
    {
     "data": {
      "text/plain": [
       "Dataset({\n",
       "    features: ['repo_name', 'path', 'copies', 'size', 'content', 'license', 'hash', 'line_mean', 'line_max', 'alpha_frac', 'autogenerated', 'nl_text', 'nl_size', 'nl_language', 'nl_language_score'],\n",
       "    num_rows: 2000\n",
       "})"
      ]
     },
     "execution_count": 79,
     "metadata": {},
     "output_type": "execute_result"
    }
   ],
   "source": [
    "dataset_language"
   ]
  },
  {
   "cell_type": "code",
   "execution_count": 111,
   "metadata": {},
   "outputs": [
    {
     "name": "stdout",
     "output_type": "stream",
     "text": [
      "percentage of non english detected languages 3.95%\n"
     ]
    }
   ],
   "source": [
    "ratio = sum([1 if dataset_language[\"nl_language\"][i] != \"en\" else 0 for i in range(len(dataset))])/len(dataset)\n",
    "print(f\"percentage of non english detected languages {ratio*100}%\")"
   ]
  },
  {
   "cell_type": "code",
   "execution_count": 87,
   "metadata": {},
   "outputs": [
    {
     "name": "stdout",
     "output_type": "stream",
     "text": [
      "4\n",
      "11\n",
      "23\n",
      "52\n",
      "56\n",
      "72\n",
      "75\n",
      "77\n",
      "79\n",
      "110\n",
      "126\n",
      "138\n",
      "139\n",
      "143\n"
     ]
    }
   ],
   "source": [
    "#languages that are'n english in the first 200 samples = 8%\n",
    "L = []\n",
    "for i in range(200):\n",
    "    if dataset_language[\"nl_language\"][i] != \"en\":\n",
    "        L.append(i)\n",
    "        print(i)"
   ]
  },
  {
   "cell_type": "markdown",
   "metadata": {},
   "source": [
    "### successful detections"
   ]
  },
  {
   "cell_type": "code",
   "execution_count": 109,
   "metadata": {},
   "outputs": [
    {
     "name": "stdout",
     "output_type": "stream",
     "text": [
      "de\n",
      "0.8126402497291565\n",
      "-*- coding: UTF-8 -*-reply.add('deine mutter hat gefailed.')return \"OHFUCKOHFUCKOHFUCK Etwas lief schief! Datenbankfehler\"return \"Error 555!\"reply.add('Deine Mutter hat die Datenbank gefressen')\n"
     ]
    }
   ],
   "source": [
    "print(dataset_language[\"nl_language\"][23])\n",
    "print(dataset_language[\"nl_language_score\"][23])\n",
    "print(dataset_language[\"nl_text\"][23])"
   ]
  },
  {
   "cell_type": "code",
   "execution_count": 108,
   "metadata": {},
   "outputs": [
    {
     "name": "stdout",
     "output_type": "stream",
     "text": [
      "zh\n",
      "0.2926284968852997\n",
      "测试的主入口类\n",
      "       接口的测试 - 主方法\n",
      "       :param name: case 名称\n",
      "       :param desc: case的详细描述\n",
      "       :param method: GET/POST\n",
      "       :param url: 调用的接口\n",
      "       :param headers: h1: v1\n",
      "h2: v2\n",
      "       :param cookies: c1: v1\n",
      "c2: v2\n",
      "       :param param: key1=value1&key2=value2\n",
      "       :param expect_value: 预计返回值\n",
      "       :param func:assert_equal - 预计返回值和实际返回值相等/assert_in - 实际返回值包含预计返回值\n",
      "       :param proxies_proxy - 代理设置\n",
      "       \n",
      "\n",
      "!/usr/bin/env python -*- coding: utf-8 -*-    Meng xiangguo <mxgnene01@gmail.com>              _____               ______     ____====  ]OO|_n_n__][.      |    |]    [________]_|__|________)<     |MENG|     oo    oo  'oo OOOO-| oo\\_   ~o~~~o~' +--+--+--+--+--+--+--+--+--+--+--+--+--+                        2017/10/16  下午5:47 params 为json格式\n"
     ]
    }
   ],
   "source": [
    "print(dataset_language[\"nl_language\"][52])\n",
    "print(dataset_language[\"nl_language_score\"][52])\n",
    "print(dataset_language[\"nl_text\"][52])"
   ]
  },
  {
   "cell_type": "code",
   "execution_count": 107,
   "metadata": {},
   "outputs": [
    {
     "name": "stdout",
     "output_type": "stream",
     "text": [
      "zh\n",
      "0.1798248142004013\n",
      "!/usr/bin/python -*- coding: utf-8 -*-statisticalArbitrageMultiple.py------------------------------继承重载函数------------------------------自定义初始化函数行情数据触发函数计算S自动保存缓存触发函数----------------------实现函数体----------------------self.sendS(S, parameter[\"stocks\"][0], data[\"dateTime\"], Pa, Pb)还没开仓正反已经开仓正平止损反平止损正反\n"
     ]
    }
   ],
   "source": [
    "print(dataset_language[\"nl_language\"][75])\n",
    "print(dataset_language[\"nl_language_score\"][75])\n",
    "print(dataset_language[\"nl_text\"][75])"
   ]
  },
  {
   "cell_type": "code",
   "execution_count": 106,
   "metadata": {},
   "outputs": [
    {
     "name": "stdout",
     "output_type": "stream",
     "text": [
      "de\n",
      "0.2548050284385681\n",
      "TODO: inelegant vim: tabstop=8 expandtab shiftwidth=4 softtabstop=4\n"
     ]
    }
   ],
   "source": [
    "print(dataset_language[\"nl_language\"][77])\n",
    "print(dataset_language[\"nl_language_score\"][77])\n",
    "print(dataset_language[\"nl_text\"][77])"
   ]
  },
  {
   "cell_type": "code",
   "execution_count": 105,
   "metadata": {},
   "outputs": [
    {
     "name": "stdout",
     "output_type": "stream",
     "text": [
      "zh\n",
      "0.9402592182159424\n",
      "-*- coding:utf-8 -*- Email Address Username password Md5 Hash Role 鍏宠仈 Role table 鐪熷疄濮撳悕 鍦板潃 职位 鍏充簬鎴� 手机号码 QQ号码 娉ㄥ唽鏃堕棿 鏈�鍚庣櫥褰曟椂闂� 璐︽埛鐘舵�� 澶村儚 杩滄帶鍗P鍦板潃 鏄惁鍒犻櫎 澶囨敞 褰曞叆浜� 褰曞叆鏃堕棿 所属业务 褰曞叆浜� 褰曞叆鏃堕棿 澶囨敞 Hostname SN 璁惧搴忓垪鍙� os绫诲瀷 鐢熶骇鍟� 鍝佺墝 鍨嬪彿 CPU 鍨嬪彿 CPU 鏍告暟 鍐呭瓨瀹归噺 所属业务 电源状态 浣跨敤鐘舵�� 浣跨敤閮ㄩ棬 閮ㄩ棬浣跨敤浜� 涓昏鐢ㄩ�� 褰曞叆浜� 褰曞叆鏃堕棿 澶囨敞 褰曞叆浜� 褰曞叆鏃堕棿 澶囨敞 褰曞叆浜� 褰曞叆鏃堕棿 澶囨敞 是否启用 褰曞叆浜� 褰曞叆鏃堕棿 澶囨敞 任务名称 脚本名称 脚本类型   python  shell  playbook  perl 系统架构   避免脚本运行出错 脚本md5码   防止被修改 脚本uuid 脚本版本 启用 录入人 录入时间 备注 设备id  通过cmdb读取设备 设备IP地址 选择设备后自动获取设备IP  在正式安装时判断是否与设备一致 系统版本 部署方式  IPMI  DHCP 任务列表   安装系统后需要执行的 录入人 录入时间 备注 录入人 录入时间 备注 录入人 录入时间 备注 录入人 录入时间 备注 对比类型,   文件或目录 录入人 录入时间 备注 录入人 录入时间 备注 录入人 录入时间 备注 命令记录 录入时间 备注 录入时间 action  [ 1: add , 2: edit, 3: del ]\n"
     ]
    }
   ],
   "source": [
    "print(dataset_language[\"nl_language\"][138])\n",
    "print(dataset_language[\"nl_language_score\"][138])\n",
    "print(dataset_language[\"nl_text\"][138])"
   ]
  },
  {
   "cell_type": "code",
   "execution_count": 104,
   "metadata": {},
   "outputs": [
    {
     "name": "stdout",
     "output_type": "stream",
     "text": [
      "ru\n",
      "0.3809477984905243\n",
      "Партнер, авторизованный без логина/пароля (на доверии).\n",
      "\n",
      "@ivar domain: корневой домен партнера\n",
      "@type domain: L{BaseDomain}\n",
      "Провайдер авторизации партнеров без логина/пароля (на доверии).\n",
      "\n",
      "В этой ситуации доступ к СпамоБорцу ограничен с помощью других средств\n",
      "(HTTP-proxy, firewall).\n",
      "\n",
      "@ivar partner: единственный партнер, который обеспечивает весь доступ\n",
      "@type partner: L{NullPartner}\n",
      "Конструктор.\n",
      "Конструктор.\n",
      "Выполнить авторизацию партнера.\n",
      "\n",
      "@param partner_info: информация о партнере\n",
      "@return: Deferred, партнер (L{IPartner})\n",
      "@rtype: C{twisted.internet.defer.Deferred} \n",
      "Получить корневой домен партнера.\n",
      "\n",
      "@return: Deferred, корневой домен (L{IDomain})\n",
      "@rtype: C{twisted.internet.defer.Deferred} \n",
      "Модуль авторизации партнеров без логинов/паролей (на доверии).\n",
      "\n",
      " -*- coding: utf-8 -*- SpamFighter, Copyright 2008, 2009 NetStream LLC (http://netstream.ru/, we@netstream.ru) This file is part of SpamFighter. SpamFighter is free software: you can redistribute it and/or modify it under the terms of the GNU General Public License as published by the Free Software Foundation, either version 3 of the License, or (at your option) any later version. SpamFighter is distributed in the hope that it will be useful, but WITHOUT ANY WARRANTY; without even the implied warranty of MERCHANTABILITY or FITNESS FOR A PARTICULAR PURPOSE.  See the GNU General Public License for more details. You should have received a copy of the GNU General Public License along with SpamFighter.  If not, see <http://www.gnu.org/licenses/>.\n"
     ]
    }
   ],
   "source": [
    "print(dataset_language[\"nl_language\"][143])\n",
    "print(dataset_language[\"nl_language_score\"][143])\n",
    "print(dataset_language[\"nl_text\"][143])"
   ]
  },
  {
   "cell_type": "markdown",
   "metadata": {},
   "source": [
    "### failures:"
   ]
  },
  {
   "cell_type": "code",
   "execution_count": 103,
   "metadata": {},
   "outputs": [
    {
     "name": "stdout",
     "output_type": "stream",
     "text": [
      "fa\n",
      "0.09532743692398071\n",
      "Remove newlines\n",
      "\n",
      "\n",
      "fr\n",
      "0.2886621654033661\n",
      "coding: utf-8============================================================================================================================================================================================html_doc = '<?xml version=\"1.0\" encoding=\"UTF-8\" ?>\\n<html>' + content.encode('utf-8') + '\\n</html>'==========================================================================================================================================================================================================================================================================================\t==============================================================================================\t============================================================================================================================================================================================ \t\td\tu' 30-09-2012'\tunicodedate = ' 30-09-2012'==============================================================================================debug('---')debug(text)debug('---') else: \tdt = self.date_added_duration() \tif dt and dt.days <= 14: \t\treturn Falsedebug(page.text.encode('utf-8'))\n",
      "\n",
      "\n",
      "ru\n",
      "0.1980433613061905\n",
      "Add Input Add Variable Parse Pars Copying Nothing\n",
      "\n",
      "\n",
      "fr\n",
      "0.2253723293542862\n",
      "!/usr/bin/env python\n"
     ]
    }
   ],
   "source": [
    "print(dataset_language[\"nl_language\"][79])\n",
    "print(dataset_language[\"nl_language_score\"][79])\n",
    "print(dataset_language[\"nl_text\"][79])\n",
    "print(\"\\n\")\n",
    "print(dataset_language[\"nl_language\"][11])\n",
    "print(dataset_language[\"nl_language_score\"][11])\n",
    "print(dataset_language[\"nl_text\"][11])\n",
    "print(\"\\n\")\n",
    "print(dataset_language[\"nl_language\"][110])\n",
    "print(dataset_language[\"nl_language_score\"][110])\n",
    "print(dataset_language[\"nl_text\"][110])\n",
    "print(\"\\n\")\n",
    "print(dataset_language[\"nl_language\"][139])\n",
    "print(dataset_language[\"nl_language_score\"][139])\n",
    "print(dataset_language[\"nl_text\"][139])"
   ]
  },
  {
   "cell_type": "code",
   "execution_count": null,
   "metadata": {},
   "outputs": [],
   "source": [
    "#distribution of langauges\n",
    "\n",
    "from matplotlib import pyplot as plt\n",
    "import numpy as np\n",
    "\n",
    "plt.figure(figsize=(9,6))\n",
    "plt.hist(dataset['nl_size'], bins=np.linspace(0, 10_000, 200), alpha=0.4, label=\"length \")\n",
    "plt.legend(prop ={'size': 10})\n",
    "#truncated distribution\n",
    "plt.title(\"distribution of the size of extracted doctrings+comments (on a 2k subset)\")\n",
    "# 7% of the files have empty (or almost empty) nl_text columns"
   ]
  },
  {
   "cell_type": "code",
   "execution_count": 113,
   "metadata": {},
   "outputs": [
    {
     "data": {
      "text/plain": [
       "list"
      ]
     },
     "execution_count": 113,
     "metadata": {},
     "output_type": "execute_result"
    }
   ],
   "source": [
    "type(dataset_language[\"nl_language\"])"
   ]
  },
  {
   "cell_type": "code",
   "execution_count": 120,
   "metadata": {},
   "outputs": [
    {
     "data": {
      "text/plain": [
       "<AxesSubplot:title={'center':'NL language distribution in Python code (2k subset)'}>"
      ]
     },
     "execution_count": 120,
     "metadata": {},
     "output_type": "execute_result"
    },
    {
     "data": {
      "image/png": "[encoded data removed]",
      "text/plain": [
       "<Figure size 640x480 with 1 Axes>"
      ]
     },
     "metadata": {},
     "output_type": "display_data"
    }
   ],
   "source": [
    "import pandas\n",
    "from collections import Counter\n",
    "letter_counts = Counter(dataset_language[\"nl_language\"])\n",
    "df = pandas.DataFrame.from_dict(letter_counts, orient='index')\n",
    "df.plot(kind='bar', title=\"NL language distribution in Python code (2k subset)\")"
   ]
  },
  {
   "cell_type": "code",
   "execution_count": null,
   "metadata": {},
   "outputs": [],
   "source": []
  }
 ],
 "metadata": {
  "interpreter": {
   "hash": "fd8fde6f83dada9276d12fdb71d773558994168ed1b3bea457b8db38c02aa2e1"
  },
  "kernelspec": {
   "display_name": "Python 3.10.4 ('venv')",
   "language": "python",
   "name": "python3"
  },
  "language_info": {
   "codemirror_mode": {
    "name": "ipython",
    "version": 3
   },
   "file_extension": ".py",
   "mimetype": "text/x-python",
   "name": "python",
   "nbconvert_exporter": "python",
   "pygments_lexer": "ipython3",
   "version": "3.10.4"
  },
  "orig_nbformat": 4
 },
 "nbformat": 4,
 "nbformat_minor": 2
}
