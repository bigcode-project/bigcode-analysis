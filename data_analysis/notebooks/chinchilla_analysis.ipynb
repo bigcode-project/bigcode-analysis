{
 "cells": [
  {
   "cell_type": "code",
   "execution_count": 60,
   "id": "414da14c",
   "metadata": {},
   "outputs": [
    {
     "name": "stdout",
     "output_type": "stream",
     "text": [
      "0.45718901453957994\n",
      "0.5428109854604201\n"
     ]
    }
   ],
   "source": [
    "# parameters from chinchilla paper\n",
    "A = 406.4\n",
    "B = 410.7\n",
    "E = 1.62\n",
    "alpha = 0.336\n",
    "beta = 0.283\n",
    "\n",
    "print((beta)/(alpha+beta))\n",
    "print((alpha)/(alpha+beta))"
   ]
  },
  {
   "cell_type": "code",
   "execution_count": 61,
   "id": "190b41c3",
   "metadata": {},
   "outputs": [
    {
     "data": {
      "text/plain": [
       "1.8963581331216426"
      ]
     },
     "execution_count": 61,
     "metadata": {},
     "output_type": "execute_result"
    }
   ],
   "source": [
    "N = 40e9\n",
    "D = 1000e9\n",
    "\n",
    "def loss(N, D):\n",
    "    L = E + A/(N**alpha) + B/(D**beta)\n",
    "    return L\n",
    "loss(N, D)"
   ]
  },
  {
   "cell_type": "code",
   "execution_count": 62,
   "id": "93121400",
   "metadata": {},
   "outputs": [
    {
     "name": "stdout",
     "output_type": "stream",
     "text": [
      "0.9928012883225557 27.19577453975649\n"
     ]
    }
   ],
   "source": [
    "G = ((alpha*A)/(beta*B))**(1/(alpha+beta))\n",
    "def optimal_N(C):\n",
    "    a = (beta)/(alpha+beta)\n",
    "#     a = 0.454\n",
    "    N_opt = G*(C/6)**a\n",
    "    return N_opt\n",
    "\n",
    "def optimal_D(C):\n",
    "    b = (alpha)/(alpha+beta)\n",
    "#     b = 0.543\n",
    "    D_opt = (1/G)*(C/6)**b\n",
    "    return D_opt\n",
    "    \n",
    "C = 1.62e+20\n",
    "N_opt = optimal_N(C)\n",
    "D_opt = optimal_D(C)\n",
    "print(N_opt/1e9, D_opt/1e9)"
   ]
  },
  {
   "cell_type": "code",
   "execution_count": 63,
   "id": "15c53b16",
   "metadata": {},
   "outputs": [
    {
     "name": "stdout",
     "output_type": "stream",
     "text": [
      "(2.4156451150039597, 1.2078225575019799)\n"
     ]
    }
   ],
   "source": [
    "N = 1e9\n",
    "D = 20e9\n",
    "\n",
    "def calc_compute_increase(C, parameter_fraction):\n",
    "    \"\"\"Starting from optimal N, D, multiply N by `parameter_fraction` and \n",
    "    calculate how much we need to increase D to achieve the same loss. \n",
    "    Return the compute budget increase for doing so. \"\"\"\n",
    "    \n",
    "    N = optimal_N(C)\n",
    "    D = optimal_D(C)\n",
    "    \n",
    "    factor = (parameter_fraction)**(-alpha)\n",
    "    A_term = A/(N**alpha)\n",
    "    B_term = B/(D**beta)\n",
    "    \n",
    "    # print((N**(-1.*alpha))/(D**(-1.*beta)), G**(-1.*alpha)*(G**(-1.*beta)))\n",
    "    \n",
    "    c_d = (1 - ((factor - 1)*A_term/B_term))**(1/-beta)\n",
    "    new_C = 6*N*parameter_fraction*D*c_d\n",
    "    C_increase = new_C/C\n",
    "    return c_d, C_increase\n",
    "\n",
    "print(calc_compute_increase(1e22, 0.5))"
   ]
  },
  {
   "cell_type": "code",
   "execution_count": null,
   "id": "25bba47b",
   "metadata": {},
   "outputs": [],
   "source": []
  },
  {
   "cell_type": "code",
   "execution_count": 64,
   "id": "18544424",
   "metadata": {},
   "outputs": [
    {
     "data": {
      "application/vnd.plotly.v1+json": {
       "config": {
        "plotlyServerURL": "https://plot.ly"
       },
       "data": [
        {
         "hovertemplate": "model_fraction=%{x}<br>compute_overhead=%{y}<extra></extra>",
         "legendgroup": "",
         "line": {
          "color": "#636efa",
          "dash": "solid"
         },
         "mode": "markers+lines",
         "name": "",
         "orientation": "v",
         "showlegend": false,
         "type": "scatter",
         "x": [
          0.175,
          0.25,
          0.3052,
          0.4,
          0.5,
          0.75,
          1,
          1.5,
          2,
          3,
          4,
          5
         ],
         "xaxis": "x",
         "y": [
          785.0858667914,
          188.88266689009936,
          100.12670891141049,
          43.70156182650042,
          20.782255750198008,
          2.845569584278995,
          2.220446049250313e-14,
          4.643803344473785,
          13.124298002336786,
          32.580975381561636,
          52.556106249980814,
          72.33219879157087
         ],
         "yaxis": "y"
        }
       ],
       "layout": {
        "annotations": [
         {
          "arrowhead": 1,
          "ax": 1,
          "axref": "x",
          "ay": 80,
          "ayref": "y",
          "text": "Chinchilla",
          "x": 1,
          "xanchor": "left",
          "y": 0
         },
         {
          "arrowhead": 1,
          "ax": 0.6,
          "axref": "x",
          "ay": 160,
          "ayref": "y",
          "text": "LLaMA-7B",
          "x": 0.6,
          "xanchor": "left",
          "y": 11
         },
         {
          "arrowhead": 1,
          "ax": 0.46,
          "axref": "x",
          "ay": 240,
          "ayref": "y",
          "text": "SantaCoder",
          "x": 0.46,
          "xanchor": "left",
          "y": 26
         },
         {
          "arrowhead": 1,
          "ax": 0.31,
          "axref": "x",
          "ay": 300,
          "ayref": "y",
          "font": {
           "color": "red",
           "size": 16
          },
          "text": "Critical model size",
          "x": 0.31,
          "xanchor": "left",
          "y": 100
         }
        ],
        "legend": {
         "tracegroupgap": 0
        },
        "margin": {
         "t": 60
        },
        "template": {
         "data": {
          "bar": [
           {
            "error_x": {
             "color": "#2a3f5f"
            },
            "error_y": {
             "color": "#2a3f5f"
            },
            "marker": {
             "line": {
              "color": "#E5ECF6",
              "width": 0.5
             }
            },
            "type": "bar"
           }
          ],
          "barpolar": [
           {
            "marker": {
             "line": {
              "color": "#E5ECF6",
              "width": 0.5
             }
            },
            "type": "barpolar"
           }
          ],
          "carpet": [
           {
            "aaxis": {
             "endlinecolor": "#2a3f5f",
             "gridcolor": "white",
             "linecolor": "white",
             "minorgridcolor": "white",
             "startlinecolor": "#2a3f5f"
            },
            "baxis": {
             "endlinecolor": "#2a3f5f",
             "gridcolor": "white",
             "linecolor": "white",
             "minorgridcolor": "white",
             "startlinecolor": "#2a3f5f"
            },
            "type": "carpet"
           }
          ],
          "choropleth": [
           {
            "colorbar": {
             "outlinewidth": 0,
             "ticks": ""
            },
            "type": "choropleth"
           }
          ],
          "contour": [
           {
            "colorbar": {
             "outlinewidth": 0,
             "ticks": ""
            },
            "colorscale": [
             [
              0,
              "#0d0887"
             ],
             [
              0.1111111111111111,
              "#46039f"
             ],
             [
              0.2222222222222222,
              "#7201a8"
             ],
             [
              0.3333333333333333,
              "#9c179e"
             ],
             [
              0.4444444444444444,
              "#bd3786"
             ],
             [
              0.5555555555555556,
              "#d8576b"
             ],
             [
              0.6666666666666666,
              "#ed7953"
             ],
             [
              0.7777777777777778,
              "#fb9f3a"
             ],
             [
              0.8888888888888888,
              "#fdca26"
             ],
             [
              1,
              "#f0f921"
             ]
            ],
            "type": "contour"
           }
          ],
          "contourcarpet": [
           {
            "colorbar": {
             "outlinewidth": 0,
             "ticks": ""
            },
            "type": "contourcarpet"
           }
          ],
          "heatmap": [
           {
            "colorbar": {
             "outlinewidth": 0,
             "ticks": ""
            },
            "colorscale": [
             [
              0,
              "#0d0887"
             ],
             [
              0.1111111111111111,
              "#46039f"
             ],
             [
              0.2222222222222222,
              "#7201a8"
             ],
             [
              0.3333333333333333,
              "#9c179e"
             ],
             [
              0.4444444444444444,
              "#bd3786"
             ],
             [
              0.5555555555555556,
              "#d8576b"
             ],
             [
              0.6666666666666666,
              "#ed7953"
             ],
             [
              0.7777777777777778,
              "#fb9f3a"
             ],
             [
              0.8888888888888888,
              "#fdca26"
             ],
             [
              1,
              "#f0f921"
             ]
            ],
            "type": "heatmap"
           }
          ],
          "heatmapgl": [
           {
            "colorbar": {
             "outlinewidth": 0,
             "ticks": ""
            },
            "colorscale": [
             [
              0,
              "#0d0887"
             ],
             [
              0.1111111111111111,
              "#46039f"
             ],
             [
              0.2222222222222222,
              "#7201a8"
             ],
             [
              0.3333333333333333,
              "#9c179e"
             ],
             [
              0.4444444444444444,
              "#bd3786"
             ],
             [
              0.5555555555555556,
              "#d8576b"
             ],
             [
              0.6666666666666666,
              "#ed7953"
             ],
             [
              0.7777777777777778,
              "#fb9f3a"
             ],
             [
              0.8888888888888888,
              "#fdca26"
             ],
             [
              1,
              "#f0f921"
             ]
            ],
            "type": "heatmapgl"
           }
          ],
          "histogram": [
           {
            "marker": {
             "colorbar": {
              "outlinewidth": 0,
              "ticks": ""
             }
            },
            "type": "histogram"
           }
          ],
          "histogram2d": [
           {
            "colorbar": {
             "outlinewidth": 0,
             "ticks": ""
            },
            "colorscale": [
             [
              0,
              "#0d0887"
             ],
             [
              0.1111111111111111,
              "#46039f"
             ],
             [
              0.2222222222222222,
              "#7201a8"
             ],
             [
              0.3333333333333333,
              "#9c179e"
             ],
             [
              0.4444444444444444,
              "#bd3786"
             ],
             [
              0.5555555555555556,
              "#d8576b"
             ],
             [
              0.6666666666666666,
              "#ed7953"
             ],
             [
              0.7777777777777778,
              "#fb9f3a"
             ],
             [
              0.8888888888888888,
              "#fdca26"
             ],
             [
              1,
              "#f0f921"
             ]
            ],
            "type": "histogram2d"
           }
          ],
          "histogram2dcontour": [
           {
            "colorbar": {
             "outlinewidth": 0,
             "ticks": ""
            },
            "colorscale": [
             [
              0,
              "#0d0887"
             ],
             [
              0.1111111111111111,
              "#46039f"
             ],
             [
              0.2222222222222222,
              "#7201a8"
             ],
             [
              0.3333333333333333,
              "#9c179e"
             ],
             [
              0.4444444444444444,
              "#bd3786"
             ],
             [
              0.5555555555555556,
              "#d8576b"
             ],
             [
              0.6666666666666666,
              "#ed7953"
             ],
             [
              0.7777777777777778,
              "#fb9f3a"
             ],
             [
              0.8888888888888888,
              "#fdca26"
             ],
             [
              1,
              "#f0f921"
             ]
            ],
            "type": "histogram2dcontour"
           }
          ],
          "mesh3d": [
           {
            "colorbar": {
             "outlinewidth": 0,
             "ticks": ""
            },
            "type": "mesh3d"
           }
          ],
          "parcoords": [
           {
            "line": {
             "colorbar": {
              "outlinewidth": 0,
              "ticks": ""
             }
            },
            "type": "parcoords"
           }
          ],
          "pie": [
           {
            "automargin": true,
            "type": "pie"
           }
          ],
          "scatter": [
           {
            "marker": {
             "colorbar": {
              "outlinewidth": 0,
              "ticks": ""
             }
            },
            "type": "scatter"
           }
          ],
          "scatter3d": [
           {
            "line": {
             "colorbar": {
              "outlinewidth": 0,
              "ticks": ""
             }
            },
            "marker": {
             "colorbar": {
              "outlinewidth": 0,
              "ticks": ""
             }
            },
            "type": "scatter3d"
           }
          ],
          "scattercarpet": [
           {
            "marker": {
             "colorbar": {
              "outlinewidth": 0,
              "ticks": ""
             }
            },
            "type": "scattercarpet"
           }
          ],
          "scattergeo": [
           {
            "marker": {
             "colorbar": {
              "outlinewidth": 0,
              "ticks": ""
             }
            },
            "type": "scattergeo"
           }
          ],
          "scattergl": [
           {
            "marker": {
             "colorbar": {
              "outlinewidth": 0,
              "ticks": ""
             }
            },
            "type": "scattergl"
           }
          ],
          "scattermapbox": [
           {
            "marker": {
             "colorbar": {
              "outlinewidth": 0,
              "ticks": ""
             }
            },
            "type": "scattermapbox"
           }
          ],
          "scatterpolar": [
           {
            "marker": {
             "colorbar": {
              "outlinewidth": 0,
              "ticks": ""
             }
            },
            "type": "scatterpolar"
           }
          ],
          "scatterpolargl": [
           {
            "marker": {
             "colorbar": {
              "outlinewidth": 0,
              "ticks": ""
             }
            },
            "type": "scatterpolargl"
           }
          ],
          "scatterternary": [
           {
            "marker": {
             "colorbar": {
              "outlinewidth": 0,
              "ticks": ""
             }
            },
            "type": "scatterternary"
           }
          ],
          "surface": [
           {
            "colorbar": {
             "outlinewidth": 0,
             "ticks": ""
            },
            "colorscale": [
             [
              0,
              "#0d0887"
             ],
             [
              0.1111111111111111,
              "#46039f"
             ],
             [
              0.2222222222222222,
              "#7201a8"
             ],
             [
              0.3333333333333333,
              "#9c179e"
             ],
             [
              0.4444444444444444,
              "#bd3786"
             ],
             [
              0.5555555555555556,
              "#d8576b"
             ],
             [
              0.6666666666666666,
              "#ed7953"
             ],
             [
              0.7777777777777778,
              "#fb9f3a"
             ],
             [
              0.8888888888888888,
              "#fdca26"
             ],
             [
              1,
              "#f0f921"
             ]
            ],
            "type": "surface"
           }
          ],
          "table": [
           {
            "cells": {
             "fill": {
              "color": "#EBF0F8"
             },
             "line": {
              "color": "white"
             }
            },
            "header": {
             "fill": {
              "color": "#C8D4E3"
             },
             "line": {
              "color": "white"
             }
            },
            "type": "table"
           }
          ]
         },
         "layout": {
          "annotationdefaults": {
           "arrowcolor": "#2a3f5f",
           "arrowhead": 0,
           "arrowwidth": 1
          },
          "autotypenumbers": "strict",
          "coloraxis": {
           "colorbar": {
            "outlinewidth": 0,
            "ticks": ""
           }
          },
          "colorscale": {
           "diverging": [
            [
             0,
             "#8e0152"
            ],
            [
             0.1,
             "#c51b7d"
            ],
            [
             0.2,
             "#de77ae"
            ],
            [
             0.3,
             "#f1b6da"
            ],
            [
             0.4,
             "#fde0ef"
            ],
            [
             0.5,
             "#f7f7f7"
            ],
            [
             0.6,
             "#e6f5d0"
            ],
            [
             0.7,
             "#b8e186"
            ],
            [
             0.8,
             "#7fbc41"
            ],
            [
             0.9,
             "#4d9221"
            ],
            [
             1,
             "#276419"
            ]
           ],
           "sequential": [
            [
             0,
             "#0d0887"
            ],
            [
             0.1111111111111111,
             "#46039f"
            ],
            [
             0.2222222222222222,
             "#7201a8"
            ],
            [
             0.3333333333333333,
             "#9c179e"
            ],
            [
             0.4444444444444444,
             "#bd3786"
            ],
            [
             0.5555555555555556,
             "#d8576b"
            ],
            [
             0.6666666666666666,
             "#ed7953"
            ],
            [
             0.7777777777777778,
             "#fb9f3a"
            ],
            [
             0.8888888888888888,
             "#fdca26"
            ],
            [
             1,
             "#f0f921"
            ]
           ],
           "sequentialminus": [
            [
             0,
             "#0d0887"
            ],
            [
             0.1111111111111111,
             "#46039f"
            ],
            [
             0.2222222222222222,
             "#7201a8"
            ],
            [
             0.3333333333333333,
             "#9c179e"
            ],
            [
             0.4444444444444444,
             "#bd3786"
            ],
            [
             0.5555555555555556,
             "#d8576b"
            ],
            [
             0.6666666666666666,
             "#ed7953"
            ],
            [
             0.7777777777777778,
             "#fb9f3a"
            ],
            [
             0.8888888888888888,
             "#fdca26"
            ],
            [
             1,
             "#f0f921"
            ]
           ]
          },
          "colorway": [
           "#636efa",
           "#EF553B",
           "#00cc96",
           "#ab63fa",
           "#FFA15A",
           "#19d3f3",
           "#FF6692",
           "#B6E880",
           "#FF97FF",
           "#FECB52"
          ],
          "font": {
           "color": "#2a3f5f"
          },
          "geo": {
           "bgcolor": "white",
           "lakecolor": "white",
           "landcolor": "#E5ECF6",
           "showlakes": true,
           "showland": true,
           "subunitcolor": "white"
          },
          "hoverlabel": {
           "align": "left"
          },
          "hovermode": "closest",
          "mapbox": {
           "style": "light"
          },
          "paper_bgcolor": "white",
          "plot_bgcolor": "#E5ECF6",
          "polar": {
           "angularaxis": {
            "gridcolor": "white",
            "linecolor": "white",
            "ticks": ""
           },
           "bgcolor": "#E5ECF6",
           "radialaxis": {
            "gridcolor": "white",
            "linecolor": "white",
            "ticks": ""
           }
          },
          "scene": {
           "xaxis": {
            "backgroundcolor": "#E5ECF6",
            "gridcolor": "white",
            "gridwidth": 2,
            "linecolor": "white",
            "showbackground": true,
            "ticks": "",
            "zerolinecolor": "white"
           },
           "yaxis": {
            "backgroundcolor": "#E5ECF6",
            "gridcolor": "white",
            "gridwidth": 2,
            "linecolor": "white",
            "showbackground": true,
            "ticks": "",
            "zerolinecolor": "white"
           },
           "zaxis": {
            "backgroundcolor": "#E5ECF6",
            "gridcolor": "white",
            "gridwidth": 2,
            "linecolor": "white",
            "showbackground": true,
            "ticks": "",
            "zerolinecolor": "white"
           }
          },
          "shapedefaults": {
           "line": {
            "color": "#2a3f5f"
           }
          },
          "ternary": {
           "aaxis": {
            "gridcolor": "white",
            "linecolor": "white",
            "ticks": ""
           },
           "baxis": {
            "gridcolor": "white",
            "linecolor": "white",
            "ticks": ""
           },
           "bgcolor": "#E5ECF6",
           "caxis": {
            "gridcolor": "white",
            "linecolor": "white",
            "ticks": ""
           }
          },
          "title": {
           "x": 0.05
          },
          "xaxis": {
           "automargin": true,
           "gridcolor": "white",
           "linecolor": "white",
           "ticks": "",
           "title": {
            "standoff": 15
           },
           "zerolinecolor": "white",
           "zerolinewidth": 2
          },
          "yaxis": {
           "automargin": true,
           "gridcolor": "white",
           "linecolor": "white",
           "ticks": "",
           "title": {
            "standoff": 15
           },
           "zerolinecolor": "white",
           "zerolinewidth": 2
          }
         }
        },
        "xaxis": {
         "anchor": "y",
         "domain": [
          0,
          1
         ],
         "range": [
          0,
          5.1
         ],
         "title": {
          "text": "Fraction of optimal model size k_N"
         }
        },
        "yaxis": {
         "anchor": "x",
         "domain": [
          0,
          1
         ],
         "dtick": 100,
         "range": [
          -30,
          850
         ],
         "tick0": 0,
         "tickmode": "linear",
         "title": {
          "text": "Compute overhead (%)"
         }
        }
       }
      },
      "text/html": [
       "<div>                            <div id=\"7e17fd21-3795-46f5-9130-f7544d6d8665\" class=\"plotly-graph-div\" style=\"height:525px; width:100%;\"></div>            <script type=\"text/javascript\">                require([\"plotly\"], function(Plotly) {                    window.PLOTLYENV=window.PLOTLYENV || {};                                    if (document.getElementById(\"7e17fd21-3795-46f5-9130-f7544d6d8665\")) {                    Plotly.newPlot(                        \"7e17fd21-3795-46f5-9130-f7544d6d8665\",                        [{\"hovertemplate\": \"model_fraction=%{x}<br>compute_overhead=%{y}<extra></extra>\", \"legendgroup\": \"\", \"line\": {\"color\": \"#636efa\", \"dash\": \"solid\"}, \"mode\": \"markers+lines\", \"name\": \"\", \"orientation\": \"v\", \"showlegend\": false, \"type\": \"scatter\", \"x\": [0.175, 0.25, 0.3052, 0.4, 0.5, 0.75, 1.0, 1.5, 2.0, 3.0, 4.0, 5.0], \"xaxis\": \"x\", \"y\": [785.0858667914, 188.88266689009936, 100.12670891141049, 43.70156182650042, 20.782255750198008, 2.845569584278995, 2.220446049250313e-14, 4.643803344473785, 13.124298002336786, 32.580975381561636, 52.556106249980814, 72.33219879157087], \"yaxis\": \"y\"}],                        {\"annotations\": [{\"arrowhead\": 1, \"ax\": 1, \"axref\": \"x\", \"ay\": 80, \"ayref\": \"y\", \"text\": \"Chinchilla\", \"x\": 1, \"xanchor\": \"left\", \"y\": 0}, {\"arrowhead\": 1, \"ax\": 0.6, \"axref\": \"x\", \"ay\": 160, \"ayref\": \"y\", \"text\": \"LLaMA-7B\", \"x\": 0.6, \"xanchor\": \"left\", \"y\": 11}, {\"arrowhead\": 1, \"ax\": 0.46, \"axref\": \"x\", \"ay\": 240, \"ayref\": \"y\", \"text\": \"SantaCoder\", \"x\": 0.46, \"xanchor\": \"left\", \"y\": 26}, {\"arrowhead\": 1, \"ax\": 0.31, \"axref\": \"x\", \"ay\": 300, \"ayref\": \"y\", \"font\": {\"color\": \"red\", \"size\": 16}, \"text\": \"Critical model size\", \"x\": 0.31, \"xanchor\": \"left\", \"y\": 100}], \"legend\": {\"tracegroupgap\": 0}, \"margin\": {\"t\": 60}, \"template\": {\"data\": {\"bar\": [{\"error_x\": {\"color\": \"#2a3f5f\"}, \"error_y\": {\"color\": \"#2a3f5f\"}, \"marker\": {\"line\": {\"color\": \"#E5ECF6\", \"width\": 0.5}}, \"type\": \"bar\"}], \"barpolar\": [{\"marker\": {\"line\": {\"color\": \"#E5ECF6\", \"width\": 0.5}}, \"type\": \"barpolar\"}], \"carpet\": [{\"aaxis\": {\"endlinecolor\": \"#2a3f5f\", \"gridcolor\": \"white\", \"linecolor\": \"white\", \"minorgridcolor\": \"white\", \"startlinecolor\": \"#2a3f5f\"}, \"baxis\": {\"endlinecolor\": \"#2a3f5f\", \"gridcolor\": \"white\", \"linecolor\": \"white\", \"minorgridcolor\": \"white\", \"startlinecolor\": \"#2a3f5f\"}, \"type\": \"carpet\"}], \"choropleth\": [{\"colorbar\": {\"outlinewidth\": 0, \"ticks\": \"\"}, \"type\": \"choropleth\"}], \"contour\": [{\"colorbar\": {\"outlinewidth\": 0, \"ticks\": \"\"}, \"colorscale\": [[0.0, \"#0d0887\"], [0.1111111111111111, \"#46039f\"], [0.2222222222222222, \"#7201a8\"], [0.3333333333333333, \"#9c179e\"], [0.4444444444444444, \"#bd3786\"], [0.5555555555555556, \"#d8576b\"], [0.6666666666666666, \"#ed7953\"], [0.7777777777777778, \"#fb9f3a\"], [0.8888888888888888, \"#fdca26\"], [1.0, \"#f0f921\"]], \"type\": \"contour\"}], \"contourcarpet\": [{\"colorbar\": {\"outlinewidth\": 0, \"ticks\": \"\"}, \"type\": \"contourcarpet\"}], \"heatmap\": [{\"colorbar\": {\"outlinewidth\": 0, \"ticks\": \"\"}, \"colorscale\": [[0.0, \"#0d0887\"], [0.1111111111111111, \"#46039f\"], [0.2222222222222222, \"#7201a8\"], [0.3333333333333333, \"#9c179e\"], [0.4444444444444444, \"#bd3786\"], [0.5555555555555556, \"#d8576b\"], [0.6666666666666666, \"#ed7953\"], [0.7777777777777778, \"#fb9f3a\"], [0.8888888888888888, \"#fdca26\"], [1.0, \"#f0f921\"]], \"type\": \"heatmap\"}], \"heatmapgl\": [{\"colorbar\": {\"outlinewidth\": 0, \"ticks\": \"\"}, \"colorscale\": [[0.0, \"#0d0887\"], [0.1111111111111111, \"#46039f\"], [0.2222222222222222, \"#7201a8\"], [0.3333333333333333, \"#9c179e\"], [0.4444444444444444, \"#bd3786\"], [0.5555555555555556, \"#d8576b\"], [0.6666666666666666, \"#ed7953\"], [0.7777777777777778, \"#fb9f3a\"], [0.8888888888888888, \"#fdca26\"], [1.0, \"#f0f921\"]], \"type\": \"heatmapgl\"}], \"histogram\": [{\"marker\": {\"colorbar\": {\"outlinewidth\": 0, \"ticks\": \"\"}}, \"type\": \"histogram\"}], \"histogram2d\": [{\"colorbar\": {\"outlinewidth\": 0, \"ticks\": \"\"}, \"colorscale\": [[0.0, \"#0d0887\"], [0.1111111111111111, \"#46039f\"], [0.2222222222222222, \"#7201a8\"], [0.3333333333333333, \"#9c179e\"], [0.4444444444444444, \"#bd3786\"], [0.5555555555555556, \"#d8576b\"], [0.6666666666666666, \"#ed7953\"], [0.7777777777777778, \"#fb9f3a\"], [0.8888888888888888, \"#fdca26\"], [1.0, \"#f0f921\"]], \"type\": \"histogram2d\"}], \"histogram2dcontour\": [{\"colorbar\": {\"outlinewidth\": 0, \"ticks\": \"\"}, \"colorscale\": [[0.0, \"#0d0887\"], [0.1111111111111111, \"#46039f\"], [0.2222222222222222, \"#7201a8\"], [0.3333333333333333, \"#9c179e\"], [0.4444444444444444, \"#bd3786\"], [0.5555555555555556, \"#d8576b\"], [0.6666666666666666, \"#ed7953\"], [0.7777777777777778, \"#fb9f3a\"], [0.8888888888888888, \"#fdca26\"], [1.0, \"#f0f921\"]], \"type\": \"histogram2dcontour\"}], \"mesh3d\": [{\"colorbar\": {\"outlinewidth\": 0, \"ticks\": \"\"}, \"type\": \"mesh3d\"}], \"parcoords\": [{\"line\": {\"colorbar\": {\"outlinewidth\": 0, \"ticks\": \"\"}}, \"type\": \"parcoords\"}], \"pie\": [{\"automargin\": true, \"type\": \"pie\"}], \"scatter\": [{\"marker\": {\"colorbar\": {\"outlinewidth\": 0, \"ticks\": \"\"}}, \"type\": \"scatter\"}], \"scatter3d\": [{\"line\": {\"colorbar\": {\"outlinewidth\": 0, \"ticks\": \"\"}}, \"marker\": {\"colorbar\": {\"outlinewidth\": 0, \"ticks\": \"\"}}, \"type\": \"scatter3d\"}], \"scattercarpet\": [{\"marker\": {\"colorbar\": {\"outlinewidth\": 0, \"ticks\": \"\"}}, \"type\": \"scattercarpet\"}], \"scattergeo\": [{\"marker\": {\"colorbar\": {\"outlinewidth\": 0, \"ticks\": \"\"}}, \"type\": \"scattergeo\"}], \"scattergl\": [{\"marker\": {\"colorbar\": {\"outlinewidth\": 0, \"ticks\": \"\"}}, \"type\": \"scattergl\"}], \"scattermapbox\": [{\"marker\": {\"colorbar\": {\"outlinewidth\": 0, \"ticks\": \"\"}}, \"type\": \"scattermapbox\"}], \"scatterpolar\": [{\"marker\": {\"colorbar\": {\"outlinewidth\": 0, \"ticks\": \"\"}}, \"type\": \"scatterpolar\"}], \"scatterpolargl\": [{\"marker\": {\"colorbar\": {\"outlinewidth\": 0, \"ticks\": \"\"}}, \"type\": \"scatterpolargl\"}], \"scatterternary\": [{\"marker\": {\"colorbar\": {\"outlinewidth\": 0, \"ticks\": \"\"}}, \"type\": \"scatterternary\"}], \"surface\": [{\"colorbar\": {\"outlinewidth\": 0, \"ticks\": \"\"}, \"colorscale\": [[0.0, \"#0d0887\"], [0.1111111111111111, \"#46039f\"], [0.2222222222222222, \"#7201a8\"], [0.3333333333333333, \"#9c179e\"], [0.4444444444444444, \"#bd3786\"], [0.5555555555555556, \"#d8576b\"], [0.6666666666666666, \"#ed7953\"], [0.7777777777777778, \"#fb9f3a\"], [0.8888888888888888, \"#fdca26\"], [1.0, \"#f0f921\"]], \"type\": \"surface\"}], \"table\": [{\"cells\": {\"fill\": {\"color\": \"#EBF0F8\"}, \"line\": {\"color\": \"white\"}}, \"header\": {\"fill\": {\"color\": \"#C8D4E3\"}, \"line\": {\"color\": \"white\"}}, \"type\": \"table\"}]}, \"layout\": {\"annotationdefaults\": {\"arrowcolor\": \"#2a3f5f\", \"arrowhead\": 0, \"arrowwidth\": 1}, \"autotypenumbers\": \"strict\", \"coloraxis\": {\"colorbar\": {\"outlinewidth\": 0, \"ticks\": \"\"}}, \"colorscale\": {\"diverging\": [[0, \"#8e0152\"], [0.1, \"#c51b7d\"], [0.2, \"#de77ae\"], [0.3, \"#f1b6da\"], [0.4, \"#fde0ef\"], [0.5, \"#f7f7f7\"], [0.6, \"#e6f5d0\"], [0.7, \"#b8e186\"], [0.8, \"#7fbc41\"], [0.9, \"#4d9221\"], [1, \"#276419\"]], \"sequential\": [[0.0, \"#0d0887\"], [0.1111111111111111, \"#46039f\"], [0.2222222222222222, \"#7201a8\"], [0.3333333333333333, \"#9c179e\"], [0.4444444444444444, \"#bd3786\"], [0.5555555555555556, \"#d8576b\"], [0.6666666666666666, \"#ed7953\"], [0.7777777777777778, \"#fb9f3a\"], [0.8888888888888888, \"#fdca26\"], [1.0, \"#f0f921\"]], \"sequentialminus\": [[0.0, \"#0d0887\"], [0.1111111111111111, \"#46039f\"], [0.2222222222222222, \"#7201a8\"], [0.3333333333333333, \"#9c179e\"], [0.4444444444444444, \"#bd3786\"], [0.5555555555555556, \"#d8576b\"], [0.6666666666666666, \"#ed7953\"], [0.7777777777777778, \"#fb9f3a\"], [0.8888888888888888, \"#fdca26\"], [1.0, \"#f0f921\"]]}, \"colorway\": [\"#636efa\", \"#EF553B\", \"#00cc96\", \"#ab63fa\", \"#FFA15A\", \"#19d3f3\", \"#FF6692\", \"#B6E880\", \"#FF97FF\", \"#FECB52\"], \"font\": {\"color\": \"#2a3f5f\"}, \"geo\": {\"bgcolor\": \"white\", \"lakecolor\": \"white\", \"landcolor\": \"#E5ECF6\", \"showlakes\": true, \"showland\": true, \"subunitcolor\": \"white\"}, \"hoverlabel\": {\"align\": \"left\"}, \"hovermode\": \"closest\", \"mapbox\": {\"style\": \"light\"}, \"paper_bgcolor\": \"white\", \"plot_bgcolor\": \"#E5ECF6\", \"polar\": {\"angularaxis\": {\"gridcolor\": \"white\", \"linecolor\": \"white\", \"ticks\": \"\"}, \"bgcolor\": \"#E5ECF6\", \"radialaxis\": {\"gridcolor\": \"white\", \"linecolor\": \"white\", \"ticks\": \"\"}}, \"scene\": {\"xaxis\": {\"backgroundcolor\": \"#E5ECF6\", \"gridcolor\": \"white\", \"gridwidth\": 2, \"linecolor\": \"white\", \"showbackground\": true, \"ticks\": \"\", \"zerolinecolor\": \"white\"}, \"yaxis\": {\"backgroundcolor\": \"#E5ECF6\", \"gridcolor\": \"white\", \"gridwidth\": 2, \"linecolor\": \"white\", \"showbackground\": true, \"ticks\": \"\", \"zerolinecolor\": \"white\"}, \"zaxis\": {\"backgroundcolor\": \"#E5ECF6\", \"gridcolor\": \"white\", \"gridwidth\": 2, \"linecolor\": \"white\", \"showbackground\": true, \"ticks\": \"\", \"zerolinecolor\": \"white\"}}, \"shapedefaults\": {\"line\": {\"color\": \"#2a3f5f\"}}, \"ternary\": {\"aaxis\": {\"gridcolor\": \"white\", \"linecolor\": \"white\", \"ticks\": \"\"}, \"baxis\": {\"gridcolor\": \"white\", \"linecolor\": \"white\", \"ticks\": \"\"}, \"bgcolor\": \"#E5ECF6\", \"caxis\": {\"gridcolor\": \"white\", \"linecolor\": \"white\", \"ticks\": \"\"}}, \"title\": {\"x\": 0.05}, \"xaxis\": {\"automargin\": true, \"gridcolor\": \"white\", \"linecolor\": \"white\", \"ticks\": \"\", \"title\": {\"standoff\": 15}, \"zerolinecolor\": \"white\", \"zerolinewidth\": 2}, \"yaxis\": {\"automargin\": true, \"gridcolor\": \"white\", \"linecolor\": \"white\", \"ticks\": \"\", \"title\": {\"standoff\": 15}, \"zerolinecolor\": \"white\", \"zerolinewidth\": 2}}}, \"xaxis\": {\"anchor\": \"y\", \"domain\": [0.0, 1.0], \"range\": [0, 5.1], \"title\": {\"text\": \"Fraction of optimal model size k_N\"}}, \"yaxis\": {\"anchor\": \"x\", \"domain\": [0.0, 1.0], \"dtick\": 100, \"range\": [-30, 850], \"tick0\": 0, \"tickmode\": \"linear\", \"title\": {\"text\": \"Compute overhead (%)\"}}},                        {\"responsive\": true}                    ).then(function(){\n",
       "                            \n",
       "var gd = document.getElementById('7e17fd21-3795-46f5-9130-f7544d6d8665');\n",
       "var x = new MutationObserver(function (mutations, observer) {{\n",
       "        var display = window.getComputedStyle(gd).display;\n",
       "        if (!display || display === 'none') {{\n",
       "            console.log([gd, 'removed!']);\n",
       "            Plotly.purge(gd);\n",
       "            observer.disconnect();\n",
       "        }}\n",
       "}});\n",
       "\n",
       "// Listen for the removal of the full notebook cells\n",
       "var notebookContainer = gd.closest('#notebook-container');\n",
       "if (notebookContainer) {{\n",
       "    x.observe(notebookContainer, {childList: true});\n",
       "}}\n",
       "\n",
       "// Listen for the clearing of the current output cell\n",
       "var outputEl = gd.closest('.output');\n",
       "if (outputEl) {{\n",
       "    x.observe(outputEl, {childList: true});\n",
       "}}\n",
       "\n",
       "                        })                };                });            </script>        </div>"
      ]
     },
     "metadata": {},
     "output_type": "display_data"
    }
   ],
   "source": [
    "import plotly.express as px\n",
    "import pandas\n",
    "\n",
    "C = 1.23e+18\n",
    "data = list()\n",
    "\n",
    "factors = [0.175, 0.25, 0.3052, 0.4, 0.5, 0.75, 1, 1.5, 2, 3, 4, 5]\n",
    "for factor in factors:\n",
    "    data_fraction, C_increase = calc_compute_increase(C, factor)\n",
    "    data.append({'model_fraction': factor, 'compute_overhead': (C_increase - 1)*100})\n",
    "    \n",
    "df = pandas.DataFrame(data)\n",
    "fig = px.line(df, x=\"model_fraction\", y=\"compute_overhead\")\n",
    "fig.update_layout(yaxis_title=\"Compute overhead (%)\", \n",
    "                  xaxis_title=\"Fraction of optimal model size k_N\", \n",
    "                  xaxis_range=[0, 5.1],\n",
    "                  yaxis_range=[-30, 850],\n",
    "                  yaxis=dict(tickmode='linear', tick0=0, dtick=100))\n",
    "fig.update_traces(mode='markers+lines')\n",
    "fig.add_annotation({\n",
    "            \"x\": 1,\n",
    "            \"y\": 0,\n",
    "            \"ayref\": \"y\",\n",
    "            \"ay\": 80,\n",
    "            \"axref\": \"x\",\n",
    "            \"ax\": 1,\n",
    "            \"xanchor\": \"left\",\n",
    "            \"text\": \"Chinchilla\",\n",
    "            \"arrowhead\": 1,\n",
    "})\n",
    "fig.add_annotation({\n",
    "            \"x\": 0.6,\n",
    "            \"y\": 11,\n",
    "            \"ayref\": \"y\",\n",
    "            \"ay\": 160,\n",
    "            \"axref\": \"x\",\n",
    "            \"ax\": 0.6,\n",
    "            \"xanchor\": \"left\",\n",
    "            \"text\": \"LLaMA-7B\",\n",
    "            \"arrowhead\": 1,\n",
    "})\n",
    "fig.add_annotation({\n",
    "            \"x\": 0.46,\n",
    "            \"y\": 26,\n",
    "            \"ayref\": \"y\",\n",
    "            \"ay\": 240,\n",
    "            \"axref\": \"x\",\n",
    "            \"ax\": 0.46,\n",
    "            \"xanchor\": \"left\",\n",
    "            \"text\": \"SantaCoder\",\n",
    "            \"arrowhead\": 1,\n",
    "})\n",
    "\n",
    "fig.add_annotation({\n",
    "            \"x\": 0.31,\n",
    "            \"y\": 100,\n",
    "            \"ayref\": \"y\",\n",
    "            \"ay\": 300,\n",
    "            \"axref\": \"x\",\n",
    "            \"ax\": 0.31,\n",
    "            \"xanchor\": \"left\",\n",
    "            \"text\": \"Critical model size\",\n",
    "            \"arrowhead\": 1,\n",
    "            \"font\": dict(size=16, color=\"red\")\n",
    "})\n",
    "fig.show()"
   ]
  },
  {
   "cell_type": "code",
   "execution_count": 65,
   "id": "bcf9340d",
   "metadata": {},
   "outputs": [
    {
     "name": "stdout",
     "output_type": "stream",
     "text": [
      "0.3 0.8382496468967309 636.6199603958831\n",
      "0.31 0.8661913017932886 585.7602207937458\n",
      "0.32 0.8941329566898464 541.8340046725356\n",
      "0.32999999999999996 0.9220746115864039 503.59823900048104\n",
      "0.33999999999999997 0.9500162664829617 470.0789242212514\n",
      "0.35 0.9779579213795193 440.50398036067816\n",
      "0.36 1.0058995762760772 414.25486393369357\n",
      "0.37 1.0338412311726348 390.8311957450166\n",
      "0.38 1.0617828860691925 369.82455184741184\n",
      "0.39 1.08972454096575 350.8988028984032\n",
      "0.4 1.117666195862308 333.7751968187406\n",
      "0.41 1.1456078507588656 318.22092034849936\n",
      "0.42 1.1735495056554233 304.0402418228724\n",
      "0.43 1.201491160551981 291.0675898301918\n",
      "0.44 1.2294328154485388 279.16209838745715\n",
      "0.44999999999999996 1.2573744703450964 268.2032735261029\n",
      "0.45999999999999996 1.2853161252416538 258.08752494988335\n",
      "0.47 1.3132577801382117 248.72537053912953\n",
      "0.48 1.3411994350347696 240.03916825664368\n",
      "0.49 1.3691410899313272 231.96126447555747\n",
      "0.5 1.3970827448278849 224.43247337232143\n",
      "0.51 1.4250243997244427 217.40082124081263\n",
      "0.52 1.4529660546210004 210.82050410691866\n",
      "0.53 1.480907709517558 204.65101808580013\n",
      "0.54 1.5088493644141159 198.85643041227934\n",
      "0.55 1.5367910193106735 193.40476563259043\n",
      "0.56 1.5647326742072314 188.26748654539688\n",
      "0.5700000000000001 1.592674329103789 183.41905347048325\n",
      "0.5800000000000001 1.6206159840003467 178.83654856470994\n",
      "0.59 1.648557638896904 174.4993543914647\n",
      "0.6 1.6764992937934617 170.38887792900405\n",
      "0.61 1.7044409486900196 166.48831278649436\n",
      "0.62 1.7323826035865773 162.78243366961016\n",
      "0.63 1.760324258483135 159.257418165955\n",
      "0.64 1.7882659133796928 155.9006917550865\n",
      "0.65 1.8162075682762504 152.70079262809446\n",
      "0.6599999999999999 1.8441492231728078 149.64725345834245\n",
      "0.6699999999999999 1.8720908780693655 146.7304977224086\n",
      "0.6799999999999999 1.9000325329659233 143.9417485476001\n",
      "0.69 1.9279741878624812 141.27294837482702\n",
      "0.7 1.9559158427590386 138.71668798523208\n",
      "0.71 1.9838574976555965 136.2661436554274\n",
      "0.72 2.0117991525521544 133.91502138727353\n",
      "0.73 2.039740807448712 131.6575073101196\n",
      "0.74 2.0676824623452696 129.48822348136738\n",
      "0.75 2.0956241172418273 127.40218841925982\n",
      "0.76 2.123565772138385 125.39478179328894\n",
      "0.77 2.1515074270349426 123.46171277530753\n",
      "0.78 2.1794490819315 121.59899162059166\n",
      "0.79 2.2073907368280583 119.80290410457914\n"
     ]
    }
   ],
   "source": [
    "def get_N_D(C, fraction):\n",
    "    N_opt = optimal_N(C)\n",
    "    D_opt = optimal_D(C)\n",
    "    data_increase, comp_increase = calc_compute_increase(C, fraction)\n",
    "    new_N = fraction * N_opt\n",
    "    new_D = data_increase*D_opt\n",
    "    return new_N, new_D\n",
    "\n",
    "# Santacoder analysis\n",
    "N_santa = 1.1e9\n",
    "D_santa = 236e9\n",
    "C_santa = N_santa*D_santa*6\n",
    "\n",
    "for i in range(50):\n",
    "    fraction = 0.3 + i*0.01\n",
    "    pred_N, pred_D = get_N_D(C_santa, fraction)\n",
    "    print(fraction, pred_N/1e9, pred_D/1e9)"
   ]
  },
  {
   "cell_type": "code",
   "execution_count": 58,
   "id": "0e299bb5",
   "metadata": {},
   "outputs": [
    {
     "name": "stdout",
     "output_type": "stream",
     "text": [
      "0.3 3.7554279201144802 3776.9270985919716\n",
      "0.31 3.8806088507849625 3475.187378380889\n",
      "0.32 4.005789781455446 3214.5827377352557\n",
      "0.32999999999999996 4.130970712125928 2987.7382960177965\n",
      "0.33999999999999997 4.256151642796411 2788.875526717914\n",
      "0.35 4.381332573466893 2613.413848078631\n",
      "0.36 4.506513504137375 2457.683576779059\n",
      "0.37 4.631694434807859 2318.7160724060786\n",
      "0.38 4.756875365478342 2194.0882449374017\n",
      "0.39 4.882056296148825 2081.805912441561\n",
      "0.4 5.007237226819307 1980.2152997506334\n",
      "0.41 5.132418157489789 1887.935176672317\n",
      "0.42 5.257599088160272 1803.8043100143573\n",
      "0.43 5.382780018830755 1726.8404007751772\n",
      "0.44 5.507960949501238 1656.207721862381\n",
      "0.44999999999999996 5.63314188017172 1591.1914088931283\n",
      "0.45999999999999996 5.758322810842202 1531.176883278336\n",
      "0.47 5.883503741512686 1475.633267157362\n",
      "0.48 6.008684672183168 1424.0999272913434\n",
      "0.49 6.133865602853651 1376.1754894970422\n",
      "0.5 6.259046533524134 1331.5088172177634\n",
      "0.51 6.384227464194616 1289.7915618133738\n",
      "0.52 6.509408394865099 1250.7519783154291\n",
      "0.53 6.634589325535582 1214.1497660268658\n",
      "0.54 6.759770256206065 1179.7717437046035\n",
      "0.55 6.884951186876548 1147.4282079693394\n",
      "0.56 7.01013211754703 1116.949853842043\n",
      "0.5700000000000001 7.135313048217513 1088.1851599814177\n",
      "0.5800000000000001 7.260493978887996 1060.9981598325644\n",
      "0.59 7.385674909558477 1035.2665346497813\n",
      "0.6 7.5108558402289605 1010.8799760983687\n",
      "0.61 7.636036770899443 987.7387755343667\n",
      "0.62 7.761217701569925 965.7526046138664\n",
      "0.63 7.886398632240409 944.8394579848591\n",
      "0.64 8.011579562910892 924.9247337655861\n",
      "0.65 8.136760493581374 905.9404315486377\n",
      "0.6599999999999999 8.261941424251855 887.8244509726022\n",
      "0.6699999999999999 8.387122354922338 870.5199766168631\n",
      "0.6799999999999999 8.512303285592822 853.9749372138255\n",
      "0.69 8.637484216263303 838.1415290263011\n",
      "0.7 8.762665146933786 822.9757947780151\n",
      "0.71 8.88784607760427 808.4372508093581\n",
      "0.72 9.01302700827475 794.4885562048544\n",
      "0.73 9.138207938945234 781.0952185404913\n",
      "0.74 9.263388869615717 768.2253316581249\n",
      "0.75 9.388569800286202 755.8493415151398\n",
      "0.76 9.513750730956684 743.9398367003556\n",
      "0.77 9.638931661627167 732.4713606680891\n",
      "0.78 9.76411259229765 721.4202431348093\n",
      "0.79 9.889293522968131 710.7644484178923\n"
     ]
    }
   ],
   "source": [
    "# LLaMA 7B analysis\n",
    "N_LLaMA_7B = 6.9e9\n",
    "D_LLaMA_7B = 1000e9\n",
    "C = 6*N_LLaMA_7B*D_LLaMA_7B\n",
    "for i in range(50):\n",
    "    fraction = 0.3 + i*0.01\n",
    "    pred_N, pred_D = get_N_D(C, fraction)\n",
    "    print(fraction, pred_N/1e9, pred_D/1e9)"
   ]
  },
  {
   "cell_type": "code",
   "execution_count": 67,
   "id": "971d86bf",
   "metadata": {},
   "outputs": [
    {
     "name": "stdout",
     "output_type": "stream",
     "text": [
      "              C  N_opt    D_opt  N_{k=0.5}  D_{k=0.5}  N_{k=0.305}  \\\n",
      "0  2.210000e+19   0.40     9.22       0.20      22.28         0.12   \n",
      "1  1.620000e+20   0.99    27.20       0.50      65.70         0.30   \n",
      "2  2.460000e+22   9.87   415.53       4.93    1003.77         3.01   \n",
      "3  1.710000e+23  23.94  1190.37      11.97    2875.50         7.30   \n",
      "\n",
      "   D_{k=0.305}  \n",
      "0        60.58  \n",
      "1       178.63  \n",
      "2      2729.25  \n",
      "3      7818.50  \n"
     ]
    }
   ],
   "source": [
    "import pandas\n",
    "Cs = [2.21e+19, 1.62e+20, 2.46e+22, 1.71e+23]\n",
    "\n",
    "data = list()\n",
    "for C in Cs:\n",
    "    N_opt = optimal_N(C)\n",
    "    D_opt = optimal_D(C)\n",
    "    D_inc, _ = calc_compute_increase(C, 0.5)\n",
    "    new_D = D_inc*D_opt\n",
    "    new_N = 0.5*optimal_N(C)\n",
    "    D_inc2, _ = calc_compute_increase(C, 0.305)\n",
    "    new_D2 = D_inc2*D_opt\n",
    "    new_N2 = 0.305*optimal_N(C)\n",
    "    data.append(\n",
    "    {'C': round(C, 2),\n",
    "     'N_opt': round(optimal_N(C)/1e9, 2),\n",
    "     'D_opt': round(optimal_D(C)/1e9, 2),\n",
    "     'N_{k=0.5}': round(new_N/1e9, 2),\n",
    "     'D_{k=0.5}': round(new_D/1e9, 2),\n",
    "     'N_{k=0.305}': round(new_N2/1e9, 2),\n",
    "     'D_{k=0.305}': round(new_D2/1e9, 2)})\n",
    "    \n",
    "print(pandas.DataFrame(data))"
   ]
  }
 ],
 "metadata": {
  "kernelspec": {
   "display_name": "Python 3 (ipykernel)",
   "language": "python",
   "name": "python3"
  },
  "language_info": {
   "codemirror_mode": {
    "name": "ipython",
    "version": 3
   },
   "file_extension": ".py",
   "mimetype": "text/x-python",
   "name": "python",
   "nbconvert_exporter": "python",
   "pygments_lexer": "ipython3",
   "version": "3.9.12"
  }
 },
 "nbformat": 4,
 "nbformat_minor": 5
}
