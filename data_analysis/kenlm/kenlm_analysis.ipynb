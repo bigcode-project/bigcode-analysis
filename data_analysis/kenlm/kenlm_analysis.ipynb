{
 "cells": [
  {
   "cell_type": "code",
   "execution_count": 1,
   "metadata": {
    "tags": []
   },
   "outputs": [
    {
     "name": "stderr",
     "output_type": "stream",
     "text": [
      "/opt/conda/envs/venv/lib/python3.9/site-packages/tqdm/auto.py:22: TqdmWarning: IProgress not found. Please update jupyter and ipywidgets. See https://ipywidgets.readthedocs.io/en/stable/user_install.html\n",
      "  from .autonotebook import tqdm as notebook_tqdm\n"
     ]
    }
   ],
   "source": [
    "from datasets import load_dataset\n",
    "from transformers import AutoTokenizer\n",
    "\n",
    "tokenizer = AutoTokenizer.from_pretrained(\"bigcode/digit-bytelevel-bpe-jss-v1.1-49152\", use_auth_token=True, slow=True)"
   ]
  },
  {
   "cell_type": "code",
   "execution_count": 2,
   "metadata": {},
   "outputs": [
    {
     "name": "stderr",
     "output_type": "stream",
     "text": [
      "Using custom data configuration bigcode--the-stack-smol-7b51f8bde3058781\n",
      "Found cached dataset json (/home/loubna_huggingface_co/.cache/huggingface/datasets/bigcode___json/bigcode--the-stack-smol-7b51f8bde3058781/0.0.0/e6070c77f18f01a5ad4551a8b7edfba20b8438b7cad4d94e6ad9378022ce4aab)\n",
      "Using custom data configuration bigcode--the-stack-smol-848a30ee7bac5c92\n",
      "Found cached dataset json (/home/loubna_huggingface_co/.cache/huggingface/datasets/bigcode___json/bigcode--the-stack-smol-848a30ee7bac5c92/0.0.0/e6070c77f18f01a5ad4551a8b7edfba20b8438b7cad4d94e6ad9378022ce4aab)\n",
      "Using custom data configuration bigcode--the-stack-smol-95a2b7de57a7cb35\n",
      "Found cached dataset json (/home/loubna_huggingface_co/.cache/huggingface/datasets/bigcode___json/bigcode--the-stack-smol-95a2b7de57a7cb35/0.0.0/e6070c77f18f01a5ad4551a8b7edfba20b8438b7cad4d94e6ad9378022ce4aab)\n"
     ]
    }
   ],
   "source": [
    "ds_py = load_dataset(\"bigcode/the-stack-smol\", data_dir=\"data/python\", use_auth_token=True, split=\"train\")\n",
    "ds_js = load_dataset(\"bigcode/the-stack-smol\", data_dir=\"data/javascript\", use_auth_token=True, split=\"train\")\n",
    "ds_java = load_dataset(\"bigcode/the-stack-smol\", data_dir=\"data/java\", use_auth_token=True, split=\"train\")"
   ]
  },
  {
   "cell_type": "code",
   "execution_count": 3,
   "metadata": {},
   "outputs": [],
   "source": [
    "# load KenLM\n",
    "import kenlm\n",
    "\n",
    "kenlm_path = \"/home/loubna_huggingface_co/bigcode-analysis/kenlm_data/gram.binary\"\n",
    "model = kenlm.LanguageModel(kenlm_path)"
   ]
  },
  {
   "cell_type": "code",
   "execution_count": 4,
   "metadata": {},
   "outputs": [
    {
     "data": {
      "text/plain": [
       "<Model from b'gram.binary'>"
      ]
     },
     "execution_count": 4,
     "metadata": {},
     "output_type": "execute_result"
    }
   ],
   "source": [
    "model"
   ]
  },
  {
   "cell_type": "code",
   "execution_count": 59,
   "metadata": {},
   "outputs": [],
   "source": [
    "def perplexity(examples):\n",
    "    \"\"\"convert the content of each file into one line after tokenization and compute perplexity\n",
    "    source: https://github.com/facebookresearch/cc_net/blob/\n",
    "    bda555bd1cf1ee2e0b925363e62a61cd46c8b60d/cc_net/tools/expand_corpus.py#L116\"\"\"\n",
    "    tokenized_content = tokenizer(examples[\"content\"])\n",
    "    lines = []\n",
    "    lengths = []\n",
    "    ppls = []\n",
    "    for input_ids in tokenized_content.input_ids:\n",
    "        pieces = tokenizer.convert_ids_to_tokens(input_ids)\n",
    "        line = (\" \".join(pieces))\n",
    "        log_score = model.score(line)\n",
    "        pp_score = 10.0 ** (-log_score / len(pieces))\n",
    "        pp_score = round(pp_score, 1)\n",
    "        lines.append(line)\n",
    "        lengths.append(len(pieces))\n",
    "        ppls.append(pp_score)\n",
    "    return {\"content_ppl\": lines, \"length\": lengths, \"perplexity\": ppls}"
   ]
  },
  {
   "cell_type": "code",
   "execution_count": 60,
   "metadata": {},
   "outputs": [],
   "source": [
    "examples = ['def count_lines(filename):\\n    with open(filename, \"r\") as file:\\n \\\n",
    "            count = 0\\n        for line in file:\\n            count += 1\\n    return count', \\\n",
    "            'def is_in_list(L, e):\\n    \"\"\"Find if list L contains the element e.\"\"\"\\n    return e in L', \\\n",
    "            'We can use KenLM to train a trigram language model with Kneser-Ney smoothing with the following commands',\\\n",
    "            'https://github.com/bigcode-project/bigcode-analysis', \\\n",
    "            'hsbysht汉字测试这是一个测试 sell flowers:', 'x12x34c56,C67,VG(65FVDDGVNJ defdefedefsbs',]\n",
    "contents = {\"content\": examples}"
   ]
  },
  {
   "cell_type": "code",
   "execution_count": 61,
   "metadata": {},
   "outputs": [],
   "source": [
    "contents = perplexity(contents)"
   ]
  },
  {
   "cell_type": "code",
   "execution_count": 62,
   "metadata": {},
   "outputs": [
    {
     "data": {
      "text/plain": [
       "{'content_ppl': ['def Ġcount _ lines ( filename ): ĊĠĠĠ Ġwith Ġopen ( filename , Ġ\" r \") Ġas Ġfile : ĊĠĠĠĠĠĠĠĠĠĠĠĠ Ġcount Ġ= Ġ 0 ĊĠĠĠĠĠĠĠ Ġfor Ġline Ġin Ġfile : ĊĠĠĠĠĠĠĠĠĠĠĠ Ġcount Ġ+= Ġ 1 ĊĠĠĠ Ġreturn Ġcount',\n",
       "  'def Ġis _ in _ list ( L , Ġe ): ĊĠĠĠ Ġ\"\"\" Find Ġif Ġlist ĠL Ġcontains Ġthe Ġelement Ġe .\"\"\" ĊĠĠĠ Ġreturn Ġe Ġin ĠL',\n",
       "  'We Ġcan Ġuse ĠK en LM Ġto Ġtrain Ġa Ġtr igram Ġlanguage Ġmodel Ġwith ĠK nes er - N ey Ġsmoothing Ġwith Ġthe Ġfollowing Ġcommands',\n",
       "  'https :// github . com / big code - project / big code - analysis',\n",
       "  'hs b ys ht æ± ī åŃĹ æµĭè¯ķ è¿Ļ æĺ¯ä¸Ģä¸ª æµĭè¯ķ Ġsell Ġflow ers :',\n",
       "  'x 1 2 x 3 4 c 5 6 , C 6 7 , VG ( 6 5 FV DD GV NJ Ġdef def e defs bs'],\n",
       " 'length': [38, 27, 25, 15, 15, 27],\n",
       " 'perplexity': [13.0, 348.7, 339.8, 574.6, 8053.7, 2683.5]}"
      ]
     },
     "execution_count": 62,
     "metadata": {},
     "output_type": "execute_result"
    }
   ],
   "source": [
    "contents"
   ]
  },
  {
   "cell_type": "code",
   "execution_count": 66,
   "metadata": {},
   "outputs": [
    {
     "data": {
      "image/png": "[encoded data removed]",
      "text/plain": [
       "<Figure size 576x432 with 1 Axes>"
      ]
     },
     "metadata": {},
     "output_type": "display_data"
    }
   ],
   "source": [
    "import matplotlib.pyplot as plt\n",
    "import numpy as np\n",
    "\n",
    "plt.style.use('ggplot')\n",
    "plt.figure(figsize=(8, 6))\n",
    "\n",
    "plt.bar(np.arange(6), contents[\"perplexity\"])\n",
    "plt.show()"
   ]
  },
  {
   "cell_type": "markdown",
   "metadata": {},
   "source": [
    "## Python"
   ]
  },
  {
   "cell_type": "code",
   "execution_count": 67,
   "metadata": {},
   "outputs": [
    {
     "name": "stderr",
     "output_type": "stream",
     "text": [
      "100%|███████████████████████████████████████████| 10/10 [00:33<00:00,  3.36s/ba]\n"
     ]
    }
   ],
   "source": [
    "ds_ppl = ds_py.map(perplexity, batched=True, batch_size=1000)"
   ]
  },
  {
   "cell_type": "code",
   "execution_count": 68,
   "metadata": {},
   "outputs": [
    {
     "name": "stdout",
     "output_type": "stream",
     "text": [
      "Mean perplexity : 4.74\n",
      "Median perplexity: 4.60\n",
      "Min perplexity: 1.30\n",
      "Max perplexity: 389.30\n",
      "Percentiles of perplexity  60th, 80th, 90th, 95th, 99th: [4.9 5.7 6.3 7.  9.8]\n"
     ]
    }
   ],
   "source": [
    "import numpy as np\n",
    "\n",
    "# get stats for peprlexity\n",
    "print(f\"Mean perplexity : {np.mean(ds_ppl['perplexity']):.2f}\")\n",
    "print(f\"Median perplexity: {np.median(ds_ppl['perplexity']):.2f}\")\n",
    "print(f\"Min perplexity: {np.min(ds_ppl['perplexity']):.2f}\")\n",
    "print(f\"Max perplexity: {np.max(ds_ppl['perplexity']):.2f}\")\n",
    "print(f\"Percentiles of perplexity  60th, 80th, 90th, 95th, 99th: {np.round(np.percentile(ds_ppl['perplexity'], [60, 80, 90, 95, 99]), 2)}\")"
   ]
  },
  {
   "cell_type": "code",
   "execution_count": 81,
   "metadata": {},
   "outputs": [
    {
     "name": "stderr",
     "output_type": "stream",
     "text": [
      "100%|███████████████████████████████████████████| 10/10 [00:00<00:00, 19.34ba/s]"
     ]
    },
    {
     "name": "stdout",
     "output_type": "stream",
     "text": [
      "percentage samples with perplexity > 7: 4.88\n"
     ]
    },
    {
     "name": "stderr",
     "output_type": "stream",
     "text": [
      "\n"
     ]
    }
   ],
   "source": [
    "ds_high_ppl = ds_ppl.filter(lambda x: x['perplexity'] > 7)\n",
    "print(f\"percentage samples with perplexity > 7: {len(ds_high_ppl)*100/len(ds_ppl)}\")"
   ]
  },
  {
   "cell_type": "code",
   "execution_count": 82,
   "metadata": {},
   "outputs": [
    {
     "data": {
      "text/plain": [
       "Dataset({\n",
       "    features: ['content', 'avg_line_length', 'max_line_length', 'alphanum_fraction', 'licenses', 'repository_name', 'path', 'size', 'lang', 'content_ppl', 'length', 'perplexity'],\n",
       "    num_rows: 488\n",
       "})"
      ]
     },
     "execution_count": 82,
     "metadata": {},
     "output_type": "execute_result"
    }
   ],
   "source": [
    "ds_high_ppl"
   ]
  },
  {
   "cell_type": "code",
   "execution_count": 83,
   "metadata": {},
   "outputs": [
    {
     "name": "stdout",
     "output_type": "stream",
     "text": [
      "import hashlib\n",
      "\n",
      "from fastecdsa import keys, curve, ecdsa\n",
      "from hashlib import sha256\n",
      "from uuid import uuid4\n",
      "\n",
      "\n",
      "class Transaction:\n",
      "    def __init__(self, from_address, to_address, amount):\n",
      "        self.from_address = from_address\n",
      "        self.to_address = to_address\n",
      "        self.amount = amount\n",
      "        self.id = str(uuid4()).replace('-', '')\n",
      "        self.signature = None\n",
      "\n",
      "    def calculate_hash(self):\n",
      "        return sha256((str(self.from_address) + str(self.to_address) + str(self.amount) + self.id).encode()).hexdigest()\n",
      "\n",
      "    def sign_tx(self, priv_key):\n",
      "        hash_tx = self.calculate_hash()\n",
      "        self.signature = ecdsa.sign(hash_tx, priv_key, hashfunc=sha256)\n",
      "\n",
      "    def is_valid(self):\n",
      "        if self.signature is None:\n",
      "            return True\n",
      "        if len(self.signature) == 0 and self.to_address is None:\n",
      "            return False\n",
      "        hash_tx = self.calculate_hash()\n",
      "        pubkey = keys.get_public_keys_from_sig(self.signature, hash_tx, curve=curve.P256, hashfunc=sha256)\n",
      "        valid = ecdsa.verify(self.signature, hash_tx, pubkey[0], hashfunc=sha256)\n",
      "        return valid\n",
      "\n",
      "    def serialize(self):\n",
      "        return {\n",
      "            'id': self.id,\n",
      "            'from_address': self.from_address,\n",
      "            'to_address': self.to_address,\n",
      "            'amount': self.amount\n",
      "        }\n",
      "\n",
      "\n",
      "\n"
     ]
    }
   ],
   "source": [
    "print(ds_high_ppl[0][\"content\"])"
   ]
  },
  {
   "cell_type": "code",
   "execution_count": 84,
   "metadata": {
    "tags": []
   },
   "outputs": [
    {
     "name": "stdout",
     "output_type": "stream",
     "text": [
      "def number_of_occurrences(s, xs):\n",
      "    return xs.count(s)\n"
     ]
    }
   ],
   "source": [
    "print(ds_high_ppl[1][\"content\"])"
   ]
  },
  {
   "cell_type": "code",
   "execution_count": 85,
   "metadata": {},
   "outputs": [
    {
     "name": "stdout",
     "output_type": "stream",
     "text": [
      "#Python program to get the size of an object in bytes\n",
      "import sys\n",
      "Object = input(\"Enter any object: \")\n",
      "\n",
      "print(f'The size of the object {Object} is {sys.getsizeof(Object)} bytes')\n",
      "\n"
     ]
    }
   ],
   "source": [
    "print(ds_high_ppl[2][\"content\"])"
   ]
  },
  {
   "cell_type": "code",
   "execution_count": 86,
   "metadata": {},
   "outputs": [
    {
     "name": "stdout",
     "output_type": "stream",
     "text": [
      "from .chain import *\n",
      "from .element import *\n",
      "\n"
     ]
    }
   ],
   "source": [
    "print(ds_high_ppl[3][\"content\"])"
   ]
  },
  {
   "cell_type": "code",
   "execution_count": 87,
   "metadata": {},
   "outputs": [
    {
     "name": "stdout",
     "output_type": "stream",
     "text": [
      "def dif(x, y):\n",
      "    q = 0\n",
      "    for i in range(len(x)):\n",
      "        if x[i] != y[i]: q += 1\n",
      "    return q\n",
      "\n",
      "e = str(input())\n",
      "n = int(input())\n",
      "v = []\n",
      "for i in range(5): v.append(dif(e, str(input())))\n",
      "if min(v) > n: print(-1)\n",
      "else:\n",
      "    print(v.index(min(v))+1)\n",
      "    print(min(v))\n",
      "\n"
     ]
    }
   ],
   "source": [
    "print(ds_high_ppl[12][\"content\"])"
   ]
  },
  {
   "cell_type": "code",
   "execution_count": 75,
   "metadata": {},
   "outputs": [
    {
     "name": "stderr",
     "output_type": "stream",
     "text": [
      "100%|███████████████████████████████████████████| 10/10 [00:00<00:00, 19.61ba/s]"
     ]
    },
    {
     "name": "stdout",
     "output_type": "stream",
     "text": [
      "percentage samples with perplexity > 20: 0.19\n"
     ]
    },
    {
     "name": "stderr",
     "output_type": "stream",
     "text": [
      "\n"
     ]
    }
   ],
   "source": [
    "ds_vhigh_ppl = ds_ppl.filter(lambda x: x['perplexity'] > 20)\n",
    "print(f\"percentage samples with perplexity > 20: {len(ds_vhigh_ppl)*100/len(ds_ppl)}\")"
   ]
  },
  {
   "cell_type": "code",
   "execution_count": 76,
   "metadata": {},
   "outputs": [
    {
     "data": {
      "text/plain": [
       "Dataset({\n",
       "    features: ['content', 'avg_line_length', 'max_line_length', 'alphanum_fraction', 'licenses', 'repository_name', 'path', 'size', 'lang', 'content_ppl', 'length', 'perplexity'],\n",
       "    num_rows: 19\n",
       "})"
      ]
     },
     "execution_count": 76,
     "metadata": {},
     "output_type": "execute_result"
    }
   ],
   "source": [
    "ds_vhigh_ppl"
   ]
  },
  {
   "cell_type": "code",
   "execution_count": 77,
   "metadata": {},
   "outputs": [
    {
     "name": "stdout",
     "output_type": "stream",
     "text": [
      "df['A']\n",
      "\n",
      "#         A\n",
      "# ---------\n",
      "# -0.613035\n",
      "# -1.265520\n",
      "#  0.763851\n",
      "# -1.248425\n",
      "#  2.105805\n",
      "#  1.763502\n",
      "# -0.781973\n",
      "#  1.400853\n",
      "# -0.746025\n",
      "# -1.120648\n",
      "# \n",
      "# [100 rows x 1 column]\n"
     ]
    }
   ],
   "source": [
    "print(ds_vhigh_ppl[0][\"content\"])"
   ]
  },
  {
   "cell_type": "code",
   "execution_count": 78,
   "metadata": {},
   "outputs": [
    {
     "name": "stdout",
     "output_type": "stream",
     "text": [
      "from .gui import *\n"
     ]
    }
   ],
   "source": [
    "print(ds_vhigh_ppl[1][\"content\"])"
   ]
  },
  {
   "cell_type": "code",
   "execution_count": 79,
   "metadata": {},
   "outputs": [
    {
     "name": "stdout",
     "output_type": "stream",
     "text": [
      "class Action():\n",
      "    ()\n",
      "\n"
     ]
    }
   ],
   "source": [
    "print(ds_vhigh_ppl[2][\"content\"])"
   ]
  },
  {
   "cell_type": "code",
   "execution_count": 80,
   "metadata": {},
   "outputs": [
    {
     "name": "stdout",
     "output_type": "stream",
     "text": [
      "#for fixture loading\n",
      "\n"
     ]
    }
   ],
   "source": [
    "print(ds_vhigh_ppl[3][\"content\"])"
   ]
  },
  {
   "cell_type": "code",
   "execution_count": 88,
   "metadata": {},
   "outputs": [
    {
     "data": {
      "image/png": "[encoded data removed]",
      "text/plain": [
       "<Figure size 864x720 with 1 Axes>"
      ]
     },
     "metadata": {},
     "output_type": "display_data"
    }
   ],
   "source": [
    "import matplotlib.pyplot as plt\n",
    "\n",
    "plt.style.use('ggplot')\n",
    "plt.figure(figsize=(12, 10))\n",
    "# plot hist of perplexity\n",
    "plt.hist(ds_ppl['perplexity'], bins=1000)\n",
    "plt.title(\"Perplexity distribution\")\n",
    "plt.xlabel(\"Perplexity\")\n",
    "plt.ylabel(\"Frequency\")\n",
    "plt.show()"
   ]
  },
  {
   "cell_type": "code",
   "execution_count": 89,
   "metadata": {},
   "outputs": [
    {
     "data": {
      "image/png": "[encoded data removed]",
      "text/plain": [
       "<Figure size 864x720 with 1 Axes>"
      ]
     },
     "metadata": {},
     "output_type": "display_data"
    }
   ],
   "source": [
    "import matplotlib.pyplot as plt\n",
    "\n",
    "plt.style.use('ggplot')\n",
    "plt.figure(figsize=(12, 10))\n",
    "# plot hist of perplexity\n",
    "plt.hist(ds_ppl['perplexity'], bins=1500)\n",
    "plt.xlim(0, 50)\n",
    "plt.title(\"Perplexity distribution (truncated at ppl=50)\")\n",
    "plt.xlabel(\"Perplexity\")\n",
    "plt.ylabel(\"Frequency\")\n",
    "plt.show()"
   ]
  },
  {
   "cell_type": "code",
   "execution_count": 90,
   "metadata": {},
   "outputs": [
    {
     "data": {
      "image/png": "[encoded data removed]",
      "text/plain": [
       "<Figure size 864x720 with 1 Axes>"
      ]
     },
     "metadata": {},
     "output_type": "display_data"
    }
   ],
   "source": [
    "# plot different percentiles from 10 to 99\n",
    "import matplotlib.pyplot as plt\n",
    "\n",
    "plt.style.use('ggplot')\n",
    "plt.figure(figsize=(12, 10))\n",
    "plt.hist(ds_ppl['perplexity'], bins=1000, color=\"#FF0000\", alpha=0.5, density=True, cumulative=True)\n",
    "#plt.xticks(np.arange(0, 2000, 200))\n",
    "#plt.yticks(np.arange(0, 1.1, 0.1))\n",
    "plt.xlabel(\"Perplexity\")\n",
    "plt.ylabel(\"Cumulative distribution\")\n",
    "plt.title(\"Cumulative distribution of perplexity\")\n",
    "plt.show()"
   ]
  },
  {
   "cell_type": "code",
   "execution_count": 91,
   "metadata": {},
   "outputs": [
    {
     "data": {
      "image/png": "[encoded data removed]",
      "text/plain": [
       "<Figure size 864x720 with 1 Axes>"
      ]
     },
     "metadata": {},
     "output_type": "display_data"
    }
   ],
   "source": [
    "# plot different percentiles from 10 to 99\n",
    "import matplotlib.pyplot as plt\n",
    "\n",
    "plt.style.use('ggplot')\n",
    "plt.figure(figsize=(12, 10))\n",
    "plt.hist(ds_ppl['perplexity'], bins=2000, color=\"#FF0000\", alpha=0.5, density=True, cumulative=True)\n",
    "plt.xlim(0, 10)\n",
    "plt.xlabel(\"Perplexity\")\n",
    "plt.ylabel(\"Cumulative distribution\")\n",
    "plt.title(\"Cumulative distribution of perplexity (truncated at ppl=10)\")\n",
    "plt.show()"
   ]
  }
 ],
 "metadata": {
  "kernelspec": {
   "display_name": "venv",
   "language": "python",
   "name": "venv"
  },
  "language_info": {
   "codemirror_mode": {
    "name": "ipython",
    "version": 3
   },
   "file_extension": ".py",
   "mimetype": "text/x-python",
   "name": "python",
   "nbconvert_exporter": "python",
   "pygments_lexer": "ipython3",
   "version": "3.9.13"
  },
  "vscode": {
   "interpreter": {
    "hash": "fd8fde6f83dada9276d12fdb71d773558994168ed1b3bea457b8db38c02aa2e1"
   }
  }
 },
 "nbformat": 4,
 "nbformat_minor": 4
}
