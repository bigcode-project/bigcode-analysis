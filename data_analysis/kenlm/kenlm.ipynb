{
 "cells": [
  {
   "cell_type": "markdown",
   "id": "c62f3811-73a4-4de2-9800-84c148508838",
   "metadata": {},
   "source": [
    "## Install KenLM\n",
    "\n",
    "```bash\n",
    "sudo apt -y install build-essential cmake libboost-system-dev libboost-thread-dev libboost-program-options-dev libboost-test-dev libeigen3-dev zlib1g-dev libbz2-dev liblzma-dev\n",
    "wget -O - https://kheafield.com/code/kenlm.tar.gz | tar xz\n",
    "mkdir kenlm/build && cd kenlm/build && cmake .. && make -j2\n",
    "ls kenlm/build/bin\n",
    "```"
   ]
  },
  {
   "cell_type": "code",
   "execution_count": 1,
   "id": "7a73b1c0-1349-48d6-930d-b6b1dd6e76cb",
   "metadata": {},
   "outputs": [],
   "source": [
    "from datasets import load_dataset"
   ]
  },
  {
   "cell_type": "code",
   "execution_count": 2,
   "id": "4361baf4-75d2-4dbe-9dab-2a6bacdc3008",
   "metadata": {},
   "outputs": [
    {
     "data": {
      "application/vnd.jupyter.widget-view+json": {
       "model_id": "4382dfdd8a1542518b8f65f27d755bf9",
       "version_major": 2,
       "version_minor": 0
      },
      "text/plain": [
       "VBox(children=(HTML(value='<center> <img\\nsrc=https://huggingface.co/front/assets/huggingface_logo-noborder.sv…"
      ]
     },
     "metadata": {},
     "output_type": "display_data"
    }
   ],
   "source": [
    "from huggingface_hub import notebook_login\n",
    "notebook_login()"
   ]
  },
  {
   "cell_type": "code",
   "execution_count": 6,
   "id": "34a67c7e-41a6-41c3-a647-da1362267782",
   "metadata": {},
   "outputs": [
    {
     "name": "stderr",
     "output_type": "stream",
     "text": [
      "Using custom data configuration bigcode--the-stack-pjjs-medium-d5c5ce7928f966c0\n",
      "Found cached dataset json (/home/leandro/.cache/huggingface/datasets/bigcode___json/bigcode--the-stack-pjjs-medium-d5c5ce7928f966c0/0.0.0/e6070c77f18f01a5ad4551a8b7edfba20b8438b7cad4d94e6ad9378022ce4aab)\n"
     ]
    }
   ],
   "source": [
    "ds = load_dataset(\"bigcode/the-stack-pjjs-medium\", use_auth_token=True, split=\"train\")"
   ]
  },
  {
   "cell_type": "code",
   "execution_count": 8,
   "id": "9486011f-471f-4a9e-bce6-fc57fc0f9c9c",
   "metadata": {},
   "outputs": [],
   "source": [
    "from transformers import AutoTokenizer"
   ]
  },
  {
   "cell_type": "code",
   "execution_count": 70,
   "id": "569ea610-e50b-400b-89cf-3243dce69790",
   "metadata": {},
   "outputs": [],
   "source": [
    "tokenizer = AutoTokenizer.from_pretrained(\"bigcode/digit-bytelevel-bpe-jss-v1.1-49152\", use_auth_token=True, slow=True)"
   ]
  },
  {
   "cell_type": "code",
   "execution_count": 7,
   "id": "6bc0b647-2a01-4261-ac7f-a63b53d4f618",
   "metadata": {},
   "outputs": [
    {
     "data": {
      "text/plain": [
       "Dataset({\n",
       "    features: ['content', 'avg_line_length', 'max_line_length', 'alphanum_fraction', 'licenses', 'repository_name', 'path', 'size', 'lang'],\n",
       "    num_rows: 600000\n",
       "})"
      ]
     },
     "execution_count": 7,
     "metadata": {},
     "output_type": "execute_result"
    }
   ],
   "source": [
    "ds"
   ]
  },
  {
   "cell_type": "code",
   "execution_count": 80,
   "id": "eca86f94-6649-4832-8eec-29a46aedc3f9",
   "metadata": {},
   "outputs": [
    {
     "name": "stdout",
     "output_type": "stream",
     "text": [
      "huggingface/tokenizers: The current process just got forked, after parallelism has already been used. Disabling parallelism to avoid deadlocks...\n",
      "To disable this warning, you can either:\n",
      "\t- Avoid using `tokenizers` before the fork if possible\n",
      "\t- Explicitly set the environment variable TOKENIZERS_PARALLELISM=(true | false)\n"
     ]
    }
   ],
   "source": [
    "!rm samples.txt"
   ]
  },
  {
   "cell_type": "code",
   "execution_count": 81,
   "id": "fa4c22f1-ab16-400d-bcc1-03b56c1b5799",
   "metadata": {},
   "outputs": [],
   "source": [
    "def save_tokens(examples):\n",
    "    tokenized_content = tokenizer(examples[\"content\"])\n",
    "    with open('samples.txt', 'a') as f:\n",
    "        for input_ids in tokenized_content.input_ids:\n",
    "            f.write(\" \".join(tokenizer.convert_ids_to_tokens(input_ids)))\n",
    "            f.write(\"\\n\")"
   ]
  },
  {
   "cell_type": "code",
   "execution_count": 82,
   "id": "bab27429-4a89-4f8c-991c-30178dfe6d64",
   "metadata": {
    "scrolled": true,
    "tags": []
   },
   "outputs": [
    {
     "data": {
      "application/vnd.jupyter.widget-view+json": {
       "model_id": "747b638d559d42e7990387d38e958f8a",
       "version_major": 2,
       "version_minor": 0
      },
      "text/plain": [
       "  0%|          | 0/600 [00:00<?, ?ba/s]"
      ]
     },
     "metadata": {},
     "output_type": "display_data"
    }
   ],
   "source": [
    "_ = ds.map(save_tokens, batched=True, batch_size=1000)"
   ]
  },
  {
   "cell_type": "markdown",
   "id": "e13d0cdf-0d57-4059-8f43-29762f424a4b",
   "metadata": {},
   "source": [
    "```bash\n",
    "kenlm/build/bin/lmplz -o 5 < \"samples.txt\" > \"gram.arpa\"\n",
    "kenlm/build/bin/build_binary gram.arpa gram.binary\n",
    "```"
   ]
  },
  {
   "cell_type": "code",
   "execution_count": 84,
   "id": "88d82de8-7bf2-44ee-a9a2-18cf81b847a3",
   "metadata": {},
   "outputs": [],
   "source": [
    "import kenlm\n",
    "model = kenlm.LanguageModel('./gram.binary')"
   ]
  },
  {
   "cell_type": "code",
   "execution_count": 85,
   "id": "3087cf00-acaf-4f15-a1be-63d7ba6f0763",
   "metadata": {},
   "outputs": [
    {
     "data": {
      "text/plain": [
       "-21.19799041748047"
      ]
     },
     "execution_count": 85,
     "metadata": {},
     "output_type": "execute_result"
    }
   ],
   "source": [
    "model.score(\"this is a test\")"
   ]
  },
  {
   "cell_type": "code",
   "execution_count": null,
   "id": "c2e4fda3-7e99-49d7-8a93-c5318c459bf2",
   "metadata": {},
   "outputs": [],
   "source": []
  }
 ],
 "metadata": {
  "kernelspec": {
   "display_name": "Python 3",
   "language": "python",
   "name": "python3"
  },
  "language_info": {
   "codemirror_mode": {
    "name": "ipython",
    "version": 3
   },
   "file_extension": ".py",
   "mimetype": "text/x-python",
   "name": "python",
   "nbconvert_exporter": "python",
   "pygments_lexer": "ipython3",
   "version": "3.7.12"
  }
 },
 "nbformat": 4,
 "nbformat_minor": 5
}
