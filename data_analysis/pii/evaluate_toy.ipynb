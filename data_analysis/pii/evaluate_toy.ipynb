{
 "cells": [
  {
   "cell_type": "code",
   "execution_count": 1,
   "id": "e7e6106d",
   "metadata": {},
   "outputs": [],
   "source": [
    "from evaluate import evaluate_pii_metrics"
   ]
  },
  {
   "cell_type": "code",
   "execution_count": 21,
   "id": "15a4e656",
   "metadata": {},
   "outputs": [],
   "source": [
    "import json\n",
    "secrets = [{'tag': 'API_KEY', 'start': 99, 'end': 110}, {'tag': 'EMAIL', 'start': 0, 'end': 7},\n",
    "           {'tag': 'EMAIL', 'start': 10, 'end': 20}]\n",
    "pii = [{'tag': 'API_KEY', 'start': 99, 'end': 119}, {'tag': 'EMAIL', 'start': 99, 'end': 119}]"
   ]
  },
  {
   "cell_type": "code",
   "execution_count": 32,
   "id": "0589f003",
   "metadata": {},
   "outputs": [],
   "source": [
    "dataset = [\n",
    "    {\n",
    "        'file': 'hello_wold.py',\n",
    "        'secrets': json.dumps(secrets),\n",
    "        'pii': json.dumps(pii),\n",
    "        \n",
    "    },\n",
    "    {\n",
    "        'file': 'hello_wold.py',\n",
    "        'secrets': json.dumps(pii),\n",
    "        'pii': json.dumps(secrets[:1]),\n",
    "        \n",
    "    }\n",
    "]"
   ]
  },
  {
   "cell_type": "code",
   "execution_count": 33,
   "id": "cc8fa485",
   "metadata": {},
   "outputs": [],
   "source": [
    "import pandas as pd\n",
    "df = pd.DataFrame(evaluate_pii_metrics(dataset)).T"
   ]
  },
  {
   "cell_type": "code",
   "execution_count": 34,
   "id": "eaa3f480",
   "metadata": {},
   "outputs": [
    {
     "data": {
      "text/plain": [
       "TP_ref     2\n",
       "TP_pred    2\n",
       "FN         1\n",
       "FP         3\n",
       "dtype: int64"
      ]
     },
     "execution_count": 34,
     "metadata": {},
     "output_type": "execute_result"
    }
   ],
   "source": [
    "summary = df.sum()\n",
    "summary"
   ]
  },
  {
   "cell_type": "code",
   "execution_count": 37,
   "id": "ea791d65",
   "metadata": {},
   "outputs": [
    {
     "name": "stdout",
     "output_type": "stream",
     "text": [
      "Precision  0.4\n",
      "Recall  0.6666666666666666\n"
     ]
    }
   ],
   "source": [
    "print('Precision ', summary['TP_pred'] / (summary['TP_pred'] + summary['FP']))\n",
    "print('Recall ', summary['TP_ref'] / (summary['TP_pred'] +  summary['FN']))"
   ]
  },
  {
   "cell_type": "code",
   "execution_count": null,
   "id": "446e0594",
   "metadata": {},
   "outputs": [],
   "source": []
  },
  {
   "cell_type": "code",
   "execution_count": null,
   "id": "acb06100",
   "metadata": {},
   "outputs": [],
   "source": []
  }
 ],
 "metadata": {
  "kernelspec": {
   "display_name": "Python 3 (ipykernel)",
   "language": "python",
   "name": "python3"
  },
  "language_info": {
   "codemirror_mode": {
    "name": "ipython",
    "version": 3
   },
   "file_extension": ".py",
   "mimetype": "text/x-python",
   "name": "python",
   "nbconvert_exporter": "python",
   "pygments_lexer": "ipython3",
   "version": "3.10.6"
  }
 },
 "nbformat": 4,
 "nbformat_minor": 5
}
