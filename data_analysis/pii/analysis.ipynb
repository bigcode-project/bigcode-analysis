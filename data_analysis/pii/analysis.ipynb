{
 "cells": [
  {
   "cell_type": "markdown",
   "metadata": {},
   "source": [
    "PII with regex and Presidio on 100 python samples, on source code and on extracted docstrings+comments "
   ]
  },
  {
   "cell_type": "code",
   "execution_count": 1,
   "metadata": {},
   "outputs": [],
   "source": [
    "from datasets import load_dataset\n",
    "from bigscience_pii_detect_redact import run_pii_batch\n",
    "from functools import partial"
   ]
  },
  {
   "cell_type": "markdown",
   "metadata": {},
   "source": [
    "## Email and IP address detection in the source code files with regex"
   ]
  },
  {
   "cell_type": "code",
   "execution_count": 2,
   "metadata": {},
   "outputs": [],
   "source": [
    "def get_check_ds(ds, args):\n",
    "    ds_checks = ds.filter(\n",
    "        lambda exs: exs[\"modified\"],\n",
    "        batched=True,\n",
    "        batch_size=args.batch_size,\n",
    "        num_proc=args.num_proc\n",
    "    )\n",
    "    ds_checks = ds\n",
    "    #idx_samples = random.sample(range(len(ds_checks)), min(len(ds_checks), args.check_sampling_size))\n",
    "    # first modified 100 cells\n",
    "    idx_samples = [i for i in range(100)]\n",
    "    ds_checks = ds_checks.select(idx_samples)\n",
    "    return ds_checks"
   ]
  },
  {
   "cell_type": "code",
   "execution_count": 3,
   "metadata": {},
   "outputs": [
    {
     "name": "stderr",
     "output_type": "stream",
     "text": [
      "Using custom data configuration codeparrot--codeparrot-clean-valid-d84b00ddcc43747c\n",
      "Reusing dataset json (/home/jia/.cache/huggingface/datasets/codeparrot___json/codeparrot--codeparrot-clean-valid-d84b00ddcc43747c/0.0.0/da492aad5680612e4028e7f6ddc04b1dfcec4b64db470ed7cc5f2bb265b9b6b5)\n"
     ]
    }
   ],
   "source": [
    "ds = load_dataset(\"codeparrot/codeparrot-clean-valid\", split=\"train\")\n",
    "ds = ds.select([i for i in range(100)])"
   ]
  },
  {
   "cell_type": "code",
   "execution_count": 6,
   "metadata": {},
   "outputs": [
    {
     "data": {
      "text/plain": [
       "'from django.conf import settings\\nfrom django.core.paginator import Paginator, InvalidPage, EmptyPage\\nfrom django.http import HttpResponse\\n\\nfrom tardis.tardis_portal.auth import decorators as authz\\nfrom tardis.tardis_portal.models import Dataset\\nfrom tardis.tardis_portal.shortcuts import get_experiment_referer\\nfrom tardis.tardis_portal.shortcuts import render_response_index\\n\\n\\n@authz.dataset_access_required\\ndef view_full_dataset(request, dataset_id):\\n    \"\"\"Displays a MX Dataset and associated information.\\n\\n    Shows a full (hundreds of images) dataset its metadata and a list\\n    of associated files with the option to show metadata of each file\\n    and ways to download those files.  With write permission this page\\n    also allows uploading and metadata editing.\\n\\n    Settings for this view:\\n    INSTALLED_APPS += (\"tardis.apps.mx_views\",)\\n    DATASET_VIEWS = [(\"http://synchrotron.org.au/views/dataset/full\",\\n                      \"tardis.apps.mx_views.views.view_full_dataset\"),]\\n\\n    \"\"\"\\n    dataset = Dataset.objects.get(id=dataset_id)\\n\\n    def get_datafiles_page():\\n        # pagination was removed by someone in the interface but not here.\\n        # need to fix.\\n        pgresults = 100\\n\\n        paginator = Paginator(dataset.datafile_set.all(), pgresults)\\n\\n        try:\\n            page = int(request.GET.get(\\'page\\', \\'1\\'))\\n        except ValueError:\\n            page = 1\\n\\n        # If page request (9999) is out of range, deliver last page of results.\\n\\n        try:\\n            return paginator.page(page)\\n        except (EmptyPage, InvalidPage):\\n            return paginator.page(paginator.num_pages)\\n\\n    display_images = dataset.get_images()\\n    image_count = len(display_images)\\n    if image_count > 4:\\n        # take 4 evenly spaced images from the set\\n        display_images = display_images[0::image_count / 4][:4]\\n\\n    upload_method = getattr(settings, \"UPLOAD_METHOD\", \"uploadify\")\\n\\n    c = {\\n        \\'dataset\\': dataset,\\n        \\'datafiles\\': get_datafiles_page(),\\n        \\'parametersets\\': dataset.getParameterSets()\\n                                .exclude(schema__hidden=True),\\n        \\'has_download_permissions\\':\\n            authz.has_dataset_download_access(request, dataset_id),\\n        \\'has_write_permissions\\':\\n            authz.has_dataset_write(request, dataset_id),\\n        \\'from_experiment\\': \\\\\\n            get_experiment_referer(request, dataset_id),\\n        \\'other_experiments\\': \\\\\\n            authz.get_accessible_experiments_for_dataset(request, dataset_id),\\n        \\'display_images\\': display_images,\\n        \\'upload_method\\': upload_method,\\n        \\'default_organization\\':\\n            getattr(settings, \\'DEFAULT_ARCHIVE_ORGANIZATION\\', \\'classic\\'),\\n        \\'default_format\\':\\n            getattr(settings, \\'DEFAULT_ARCHIVE_FORMATS\\', [\\'tgz\\', \\'tar\\'])[0]\\n    }\\n    return HttpResponse(render_response_index(\\n        request, \\'mx_views/view_full_dataset.html\\', c))\\n'"
      ]
     },
     "execution_count": 6,
     "metadata": {},
     "output_type": "execute_result"
    }
   ],
   "source": [
    "ds[0]['content']"
   ]
  },
  {
   "cell_type": "code",
   "execution_count": 44,
   "metadata": {},
   "outputs": [
    {
     "name": "stdout",
     "output_type": "stream",
     "text": [
      "               "
     ]
    },
    {
     "data": {
      "application/vnd.jupyter.widget-view+json": {
       "model_id": "5cd2d7ce028445b5852fa9755978c5d6",
       "version_major": 2,
       "version_minor": 0
      },
      "text/plain": [
       "#0:   0%|          | 0/512 [00:00<?, ?ba/s]"
      ]
     },
     "metadata": {},
     "output_type": "display_data"
    },
    {
     "data": {
      "application/vnd.jupyter.widget-view+json": {
       "model_id": "aa86055ddfca487ebbc2ccaee4f444e8",
       "version_major": 2,
       "version_minor": 0
      },
      "text/plain": [
       "#1:   0%|          | 0/512 [00:00<?, ?ba/s]"
      ]
     },
     "metadata": {},
     "output_type": "display_data"
    },
    {
     "name": "stdout",
     "output_type": "stream",
     "text": [
      " "
     ]
    },
    {
     "data": {
      "application/vnd.jupyter.widget-view+json": {
       "model_id": "49a29bb39e5144a28c4acd007732c7ff",
       "version_major": 2,
       "version_minor": 0
      },
      "text/plain": [
       "#2:   0%|          | 0/512 [00:00<?, ?ba/s]"
      ]
     },
     "metadata": {},
     "output_type": "display_data"
    },
    {
     "data": {
      "application/vnd.jupyter.widget-view+json": {
       "model_id": "682ae7f511f84420850165bb43bf40c6",
       "version_major": 2,
       "version_minor": 0
      },
      "text/plain": [
       "#3:   0%|          | 0/512 [00:00<?, ?ba/s]"
      ]
     },
     "metadata": {},
     "output_type": "display_data"
    },
    {
     "name": "stdout",
     "output_type": "stream",
     "text": [
      "  "
     ]
    },
    {
     "data": {
      "application/vnd.jupyter.widget-view+json": {
       "model_id": "a5dc29ccb5534d16b3aa7e463a4272e6",
       "version_major": 2,
       "version_minor": 0
      },
      "text/plain": [
       "#5:   0%|          | 0/512 [00:00<?, ?ba/s]"
      ]
     },
     "metadata": {},
     "output_type": "display_data"
    },
    {
     "data": {
      "application/vnd.jupyter.widget-view+json": {
       "model_id": "5691d90fd5774d658e56a6091b5d91e0",
       "version_major": 2,
       "version_minor": 0
      },
      "text/plain": [
       "#4:   0%|          | 0/512 [00:00<?, ?ba/s]"
      ]
     },
     "metadata": {},
     "output_type": "display_data"
    },
    {
     "name": "stdout",
     "output_type": "stream",
     "text": [
      "  "
     ]
    },
    {
     "data": {
      "application/vnd.jupyter.widget-view+json": {
       "model_id": "b4e127cff1b445ba8bb1e1cac82e9547",
       "version_major": 2,
       "version_minor": 0
      },
      "text/plain": [
       "#6:   0%|          | 0/512 [00:00<?, ?ba/s]"
      ]
     },
     "metadata": {},
     "output_type": "display_data"
    },
    {
     "data": {
      "application/vnd.jupyter.widget-view+json": {
       "model_id": "97bcbc85df51417ab5a7daa2bf12b5ef",
       "version_major": 2,
       "version_minor": 0
      },
      "text/plain": [
       "#7:   0%|          | 0/512 [00:00<?, ?ba/s]"
      ]
     },
     "metadata": {},
     "output_type": "display_data"
    },
    {
     "name": "stdout",
     "output_type": "stream",
     "text": [
      "  "
     ]
    },
    {
     "data": {
      "application/vnd.jupyter.widget-view+json": {
       "model_id": "f56c9637b32344719e802fae268dcec9",
       "version_major": 2,
       "version_minor": 0
      },
      "text/plain": [
       "#8:   0%|          | 0/512 [00:00<?, ?ba/s]"
      ]
     },
     "metadata": {},
     "output_type": "display_data"
    },
    {
     "name": "stdout",
     "output_type": "stream",
     "text": [
      "  "
     ]
    },
    {
     "data": {
      "application/vnd.jupyter.widget-view+json": {
       "model_id": "7d8e90a443264c7bbf0944565b6ac43a",
       "version_major": 2,
       "version_minor": 0
      },
      "text/plain": [
       "#9:   0%|          | 0/512 [00:00<?, ?ba/s]"
      ]
     },
     "metadata": {},
     "output_type": "display_data"
    },
    {
     "data": {
      "application/vnd.jupyter.widget-view+json": {
       "model_id": "9073597e88e44be7b85447a0b461393e",
       "version_major": 2,
       "version_minor": 0
      },
      "text/plain": [
       "#10:   0%|          | 0/512 [00:00<?, ?ba/s]"
      ]
     },
     "metadata": {},
     "output_type": "display_data"
    },
    {
     "data": {
      "application/vnd.jupyter.widget-view+json": {
       "model_id": "e23f0d2bb0f741f092ac32cd55142e8b",
       "version_major": 2,
       "version_minor": 0
      },
      "text/plain": [
       "#11:   0%|          | 0/512 [00:00<?, ?ba/s]"
      ]
     },
     "metadata": {},
     "output_type": "display_data"
    }
   ],
   "source": [
    "ds_pii = ds.map(\n",
    "    partial(run_pii_batch),\n",
    "    batched=True,\n",
    "    batch_size=10,\n",
    "    num_proc=12,\n",
    "    load_from_cache_file=False\n",
    ")"
   ]
  },
  {
   "cell_type": "code",
   "execution_count": 45,
   "metadata": {},
   "outputs": [
    {
     "data": {
      "text/plain": [
       "[1, 17, 26, 29, 34, 35, 39, 45, 47, 48, 52, 57, 73, 76, 84, 88, 94, 96]"
      ]
     },
     "execution_count": 45,
     "metadata": {},
     "output_type": "execute_result"
    }
   ],
   "source": [
    "# indexes of files where PII was detected\n",
    "[i for i in range(100) if ds_pii[\"modified\"][i]]"
   ]
  },
  {
   "cell_type": "code",
   "execution_count": 46,
   "metadata": {},
   "outputs": [
    {
     "name": "stdout",
     "output_type": "stream",
     "text": [
      "             "
     ]
    },
    {
     "data": {
      "application/vnd.jupyter.widget-view+json": {
       "model_id": "d59c28fc7fb94b11903f586c22e4e2f3",
       "version_major": 2,
       "version_minor": 0
      },
      "text/plain": [
       "#0:   0%|          | 0/512 [00:00<?, ?ba/s]"
      ]
     },
     "metadata": {},
     "output_type": "display_data"
    },
    {
     "name": "stdout",
     "output_type": "stream",
     "text": [
      "   "
     ]
    },
    {
     "data": {
      "application/vnd.jupyter.widget-view+json": {
       "model_id": "674ecf7278c14e5aaf98c84fcd553f72",
       "version_major": 2,
       "version_minor": 0
      },
      "text/plain": [
       "#2:   0%|          | 0/512 [00:00<?, ?ba/s]"
      ]
     },
     "metadata": {},
     "output_type": "display_data"
    },
    {
     "data": {
      "application/vnd.jupyter.widget-view+json": {
       "model_id": "91087ffee7234b69aee1a371dbe4680f",
       "version_major": 2,
       "version_minor": 0
      },
      "text/plain": [
       "#1:   0%|          | 0/512 [00:00<?, ?ba/s]"
      ]
     },
     "metadata": {},
     "output_type": "display_data"
    },
    {
     "data": {
      "application/vnd.jupyter.widget-view+json": {
       "model_id": "f1bf2e3a896f42e08a200eec2648e40d",
       "version_major": 2,
       "version_minor": 0
      },
      "text/plain": [
       "#3:   0%|          | 0/512 [00:00<?, ?ba/s]"
      ]
     },
     "metadata": {},
     "output_type": "display_data"
    },
    {
     "name": "stdout",
     "output_type": "stream",
     "text": [
      "     "
     ]
    },
    {
     "data": {
      "application/vnd.jupyter.widget-view+json": {
       "model_id": "197e1db242d84fd7aacd7353c9d1cb59",
       "version_major": 2,
       "version_minor": 0
      },
      "text/plain": [
       "#4:   0%|          | 0/512 [00:00<?, ?ba/s]"
      ]
     },
     "metadata": {},
     "output_type": "display_data"
    },
    {
     "data": {
      "application/vnd.jupyter.widget-view+json": {
       "model_id": "10b72fa6b8294152b9d845ba5810d461",
       "version_major": 2,
       "version_minor": 0
      },
      "text/plain": [
       "#7:   0%|          | 0/512 [00:00<?, ?ba/s]"
      ]
     },
     "metadata": {},
     "output_type": "display_data"
    },
    {
     "data": {
      "application/vnd.jupyter.widget-view+json": {
       "model_id": "b3f50e10c9f34fa2a9e1928e6b67d6fb",
       "version_major": 2,
       "version_minor": 0
      },
      "text/plain": [
       "#5:   0%|          | 0/512 [00:00<?, ?ba/s]"
      ]
     },
     "metadata": {},
     "output_type": "display_data"
    },
    {
     "data": {
      "application/vnd.jupyter.widget-view+json": {
       "model_id": "64f408fb7a444c2cb7ea66916a0c1458",
       "version_major": 2,
       "version_minor": 0
      },
      "text/plain": [
       "#8:   0%|          | 0/512 [00:00<?, ?ba/s]"
      ]
     },
     "metadata": {},
     "output_type": "display_data"
    },
    {
     "data": {
      "application/vnd.jupyter.widget-view+json": {
       "model_id": "97d5f35d631a43778df2e87b1cbf3dba",
       "version_major": 2,
       "version_minor": 0
      },
      "text/plain": [
       "#6:   0%|          | 0/512 [00:00<?, ?ba/s]"
      ]
     },
     "metadata": {},
     "output_type": "display_data"
    },
    {
     "name": "stdout",
     "output_type": "stream",
     "text": [
      "   "
     ]
    },
    {
     "data": {
      "application/vnd.jupyter.widget-view+json": {
       "model_id": "2c39d447a28347bf8f66bc439143144b",
       "version_major": 2,
       "version_minor": 0
      },
      "text/plain": [
       "#9:   0%|          | 0/512 [00:00<?, ?ba/s]"
      ]
     },
     "metadata": {},
     "output_type": "display_data"
    },
    {
     "data": {
      "application/vnd.jupyter.widget-view+json": {
       "model_id": "3dc8fd4834364b50b9047e86783a736d",
       "version_major": 2,
       "version_minor": 0
      },
      "text/plain": [
       "#10:   0%|          | 0/512 [00:00<?, ?ba/s]"
      ]
     },
     "metadata": {},
     "output_type": "display_data"
    },
    {
     "data": {
      "application/vnd.jupyter.widget-view+json": {
       "model_id": "e5b0a23bd7bd40b1a4c93a12e6de5146",
       "version_major": 2,
       "version_minor": 0
      },
      "text/plain": [
       "#11:   0%|          | 0/512 [00:00<?, ?ba/s]"
      ]
     },
     "metadata": {},
     "output_type": "display_data"
    }
   ],
   "source": [
    "ds_modified = ds_pii.filter(\n",
    "    lambda exs: exs[\"modified\"],\n",
    "    batched=True,\n",
    "    batch_size=10,\n",
    "    num_proc=12,\n",
    "    load_from_cache_file=False\n",
    ")"
   ]
  },
  {
   "cell_type": "code",
   "execution_count": 47,
   "metadata": {},
   "outputs": [
    {
     "data": {
      "text/plain": [
       "Dataset({\n",
       "    features: ['repo_name', 'path', 'copies', 'size', 'content', 'license', 'hash', 'line_mean', 'line_max', 'alpha_frac', 'autogenerated', 'regex_metadata', 'old_text', 'modified'],\n",
       "    num_rows: 11740\n",
       "})"
      ]
     },
     "execution_count": 47,
     "metadata": {},
     "output_type": "execute_result"
    }
   ],
   "source": [
    "# 18 files were modified\n",
    "ds_modified"
   ]
  },
  {
   "cell_type": "code",
   "execution_count": 66,
   "metadata": {},
   "outputs": [
    {
     "name": "stdout",
     "output_type": "stream",
     "text": [
      "#!/usr/bin/env python\n",
      "# -*- coding: utf-8 -*-\n",
      "\n",
      "import unittest\n",
      "from mock import MagicMock\n",
      "import json\n",
      "import urllib\n",
      "import urllib2\n",
      "import sys\n",
      "import os\n",
      "sys.path.append(os.getcwd())\n",
      "\n",
      "import interactivespaces\n",
      "\n",
      "TEST_ACTIVITY_DATA = {\n",
      "                      \"id\":\"53\",\n",
      "                      \"bundleContentHash\":\"hjkl\",\n",
      "                      \"identifyingName\":\"com.endpoint.lg.browser\",\n",
      "                      \"lastUploadDate\":1398288057444,\n",
      "                      \"description\":\"Browser Activity to present \\\"webui\\\" activties to the user\",\n",
      "                      \"name\":\"Browser Activity\",\n",
      "                      \"lastStartDate\":1401901320867,\n",
      "                      \"metadata\":{},\n",
      "                      \"version\":\"1.0.0.dev\"\n",
      "}\n",
      "\n",
      "TEST_LIVEACTIVITY_DATA = {\n",
      "                          \"lastDeployDate\":\"Mon May 05 12:50:36 PDT 2014\",\n",
      "                          \"outOfDate\":False,\n",
      "                          \"id\":\"110\",\n",
      "                          \"description\":\"\",\n",
      "                          \"name\":\"Evdev Demuxer on 42-a\",\n",
      "                          \"active\": {\n",
      "                            \"numberLiveActivityGroupRunning\":1,\n",
      "                            \"runtimeState\":\"ACTIVE\",\n",
      "                            \"deployState\":\"UNKNOWN\",\n",
      "                            \"lastStateUpdate\":\"Wed Jun 04 11:17:21 PDT 2014\",\n",
      "                            \"runtimeStateDescription\":\"space.activity.state.active\",\n",
      "                            \"directRunning\":False,\n",
      "                            \"directActivated\":False,\n",
      "                            \"numberLiveActivityGroupActivated\":1,\n",
      "                            \"deployStateDescription\":\"space.activity.state.unknown\",\n",
      "                            \"deployStateDetail\":None,\n",
      "                            \"runtimeStateDetail\":\"<p>foo</p>\"\n",
      "                          },\n",
      "                          \"controller\": {\n",
      "                            \"id\":\"2\",\n",
      "                            \"name\":\"ISCtlDispAScreen00\",\n",
      "                            \"uuid\":\"372f0f95-6b48-487a-a1ac-383ba580fc1c\"\n",
      "                          },\n",
      "                          \"uuid\":\"88816d20-22f6-4f78-95ba-7843696c6bc5\",\n",
      "                          \"activity\": {\n",
      "                            \"id\":\"61\",\n",
      "                            \"bundleContentHash\":\"qwerty\",\n",
      "                            \"identifyingName\":\"com.endpoint.lg.evdev.demuxer\",\n",
      "                            \"lastUploadDate\":1398288062862,\n",
      "                            \"description\":\"Separates and aggregates different types of input events.\",\n",
      "                            \"n\n"
     ]
    }
   ],
   "source": [
    "print(ds_modified[195]['old_text'][0:2500])"
   ]
  },
  {
   "cell_type": "code",
   "execution_count": 65,
   "metadata": {
    "scrolled": true
   },
   "outputs": [
    {
     "name": "stdout",
     "output_type": "stream",
     "text": [
      "===============105==================\n",
      "('com/questions/458550/standard-way-to-embed-version-into-python-package', (112, 182), 'regex.Regex(\\'((?:(?:[A-Za-z]+[\\\\\\\\p{Nd}\\\\\\\\p{Pd}\\\\\\\\/\\\\\\\\+\\\\\\\\=:_]+|[\\\\\\\\p{Nd}\\\\\\\\p{Pd}\\\\\\\\/\\\\\\\\+\\\\\\\\=:]+[A-Za-z]+)){10,})(?:$|[\\\\\\\\b\\\\\\\\s\\\\\\\\p{Han}@?,!;:\\\\\\\\\\\\\\'\\\\\\\\\")(.])\\', flags=regex.M | regex.V0)', 'KEY')\n",
      "\n",
      "===============119==================\n",
      "('com/questions/1510188/can-seek-and-tell-work-with-utf-8-encoded-documents-in-python', (8385, 8469), 'regex.Regex(\\'((?:(?:[A-Za-z]+[\\\\\\\\p{Nd}\\\\\\\\p{Pd}\\\\\\\\/\\\\\\\\+\\\\\\\\=:_]+|[\\\\\\\\p{Nd}\\\\\\\\p{Pd}\\\\\\\\/\\\\\\\\+\\\\\\\\=:]+[A-Za-z]+)){10,})(?:$|[\\\\\\\\b\\\\\\\\s\\\\\\\\p{Han}@?,!;:\\\\\\\\\\\\\\'\\\\\\\\\")(.])\\', flags=regex.M | regex.V0)', 'KEY')\n",
      "\n",
      "===============127==================\n",
      "('da39a3ee5e6b4b0d3255bfef95601890afd80709', (5885, 5926), 'regex.Regex(\\'((?:(?:[A-Za-z]+[\\\\\\\\p{Nd}\\\\\\\\p{Pd}\\\\\\\\/\\\\\\\\+\\\\\\\\=:_]+|[\\\\\\\\p{Nd}\\\\\\\\p{Pd}\\\\\\\\/\\\\\\\\+\\\\\\\\=:]+[A-Za-z]+)){10,})(?:$|[\\\\\\\\b\\\\\\\\s\\\\\\\\p{Han}@?,!;:\\\\\\\\\\\\\\'\\\\\\\\\")(.])\\', flags=regex.M | regex.V0)', 'KEY')\n",
      "\n",
      "===============127==================\n",
      "('a39a3ee5e6b4b0d3255bfef95601890afd80709', (6162, 6202), 'regex.Regex(\\'((?:(?:[A-Za-z]+[\\\\\\\\p{Nd}\\\\\\\\p{Pd}\\\\\\\\/\\\\\\\\+\\\\\\\\=:_]+|[\\\\\\\\p{Nd}\\\\\\\\p{Pd}\\\\\\\\/\\\\\\\\+\\\\\\\\=:]+[A-Za-z]+)){10,})(?:$|[\\\\\\\\b\\\\\\\\s\\\\\\\\p{Han}@?,!;:\\\\\\\\\\\\\\'\\\\\\\\\")(.])\\', flags=regex.M | regex.V0)', 'KEY')\n",
      "\n",
      "===============127==================\n",
      "('da39a3ee5e6b4b0d3255bfef95601890afd80709a', (6231, 6273), 'regex.Regex(\\'((?:(?:[A-Za-z]+[\\\\\\\\p{Nd}\\\\\\\\p{Pd}\\\\\\\\/\\\\\\\\+\\\\\\\\=:_]+|[\\\\\\\\p{Nd}\\\\\\\\p{Pd}\\\\\\\\/\\\\\\\\+\\\\\\\\=:]+[A-Za-z]+)){10,})(?:$|[\\\\\\\\b\\\\\\\\s\\\\\\\\p{Han}@?,!;:\\\\\\\\\\\\\\'\\\\\\\\\")(.])\\', flags=regex.M | regex.V0)', 'KEY')\n",
      "\n",
      "===============127==================\n",
      "('DA39A3EE5E6B4B0D3255BFEF95601890AFD80709', (6301, 6342), 'regex.Regex(\\'((?:(?:[A-Za-z]+[\\\\\\\\p{Nd}\\\\\\\\p{Pd}\\\\\\\\/\\\\\\\\+\\\\\\\\=:_]+|[\\\\\\\\p{Nd}\\\\\\\\p{Pd}\\\\\\\\/\\\\\\\\+\\\\\\\\=:]+[A-Za-z]+)){10,})(?:$|[\\\\\\\\b\\\\\\\\s\\\\\\\\p{Han}@?,!;:\\\\\\\\\\\\\\'\\\\\\\\\")(.])\\', flags=regex.M | regex.V0)', 'KEY')\n",
      "\n",
      "===============127==================\n",
      "('fecfd28bbc9345891a66d7c1b8ff46e60192d', (10988, 11026), 'regex.Regex(\\'((?:(?:[A-Za-z]+[\\\\\\\\p{Nd}\\\\\\\\p{Pd}\\\\\\\\/\\\\\\\\+\\\\\\\\=:_]+|[\\\\\\\\p{Nd}\\\\\\\\p{Pd}\\\\\\\\/\\\\\\\\+\\\\\\\\=:]+[A-Za-z]+)){10,})(?:$|[\\\\\\\\b\\\\\\\\s\\\\\\\\p{Han}@?,!;:\\\\\\\\\\\\\\'\\\\\\\\\")(.])\\', flags=regex.M | regex.V0)', 'KEY')\n",
      "\n",
      "===============127==================\n",
      "('2840c3de7c4-5fe9-4b2e-b19a-9cf81364997b', (11036, 11076), 'regex.Regex(\\'((?:(?:[A-Za-z]+[\\\\\\\\p{Nd}\\\\\\\\p{Pd}\\\\\\\\/\\\\\\\\+\\\\\\\\=:_]+|[\\\\\\\\p{Nd}\\\\\\\\p{Pd}\\\\\\\\/\\\\\\\\+\\\\\\\\=:]+[A-Za-z]+)){10,})(?:$|[\\\\\\\\b\\\\\\\\s\\\\\\\\p{Han}@?,!;:\\\\\\\\\\\\\\'\\\\\\\\\")(.])\\', flags=regex.M | regex.V0)', 'KEY')\n",
      "\n",
      "===============127==================\n",
      "('e7bf692b-ec7b-40ad-b0d1-45ce6798fb6z', (11179, 11216), 'regex.Regex(\\'((?:(?:[A-Za-z]+[\\\\\\\\p{Nd}\\\\\\\\p{Pd}\\\\\\\\/\\\\\\\\+\\\\\\\\=:_]+|[\\\\\\\\p{Nd}\\\\\\\\p{Pd}\\\\\\\\/\\\\\\\\+\\\\\\\\=:]+[A-Za-z]+)){10,})(?:$|[\\\\\\\\b\\\\\\\\s\\\\\\\\p{Han}@?,!;:\\\\\\\\\\\\\\'\\\\\\\\\")(.])\\', flags=regex.M | regex.V0)', 'KEY')\n",
      "\n",
      "===============127==================\n",
      "('e7bf692b-ec7b-40ad-b0d1-45ce6798fb6z', (14867, 14904), 'regex.Regex(\\'((?:(?:[A-Za-z]+[\\\\\\\\p{Nd}\\\\\\\\p{Pd}\\\\\\\\/\\\\\\\\+\\\\\\\\=:_]+|[\\\\\\\\p{Nd}\\\\\\\\p{Pd}\\\\\\\\/\\\\\\\\+\\\\\\\\=:]+[A-Za-z]+)){10,})(?:$|[\\\\\\\\b\\\\\\\\s\\\\\\\\p{Han}@?,!;:\\\\\\\\\\\\\\'\\\\\\\\\")(.])\\', flags=regex.M | regex.V0)', 'KEY')\n",
      "\n",
      "===============133==================\n",
      "('5B33C22B-A4A1-4024-A2F5-C9979C4AAAAA', (2395, 2432), 'regex.Regex(\\'((?:(?:[A-Za-z]+[\\\\\\\\p{Nd}\\\\\\\\p{Pd}\\\\\\\\/\\\\\\\\+\\\\\\\\=:_]+|[\\\\\\\\p{Nd}\\\\\\\\p{Pd}\\\\\\\\/\\\\\\\\+\\\\\\\\=:]+[A-Za-z]+)){10,})(?:$|[\\\\\\\\b\\\\\\\\s\\\\\\\\p{Han}@?,!;:\\\\\\\\\\\\\\'\\\\\\\\\")(.])\\', flags=regex.M | regex.V0)', 'KEY')\n",
      "\n",
      "===============143==================\n",
      "('/others/abilng/Database/MSR2-abil/test/data_out/', (158, 207), 'regex.Regex(\\'((?:(?:[A-Za-z]+[\\\\\\\\p{Nd}\\\\\\\\p{Pd}\\\\\\\\/\\\\\\\\+\\\\\\\\=:_]+|[\\\\\\\\p{Nd}\\\\\\\\p{Pd}\\\\\\\\/\\\\\\\\+\\\\\\\\=:]+[A-Za-z]+)){10,})(?:$|[\\\\\\\\b\\\\\\\\s\\\\\\\\p{Han}@?,!;:\\\\\\\\\\\\\\'\\\\\\\\\")(.])\\', flags=regex.M | regex.V0)', 'KEY')\n",
      "\n",
      "===============144==================\n",
      "('/network-instances/network-instance/protocols/protocol/isis/levels/level/link-state-database/lsp/tlvs/tlv/extended-ipv4-reachability/prefixes/prefix/subTLVs/subTLVs/prefix-sid/sid', (911, 1091), 'regex.Regex(\\'((?:(?:[A-Za-z]+[\\\\\\\\p{Nd}\\\\\\\\p{Pd}\\\\\\\\/\\\\\\\\+\\\\\\\\=:_]+|[\\\\\\\\p{Nd}\\\\\\\\p{Pd}\\\\\\\\/\\\\\\\\+\\\\\\\\=:]+[A-Za-z]+)){10,})(?:$|[\\\\\\\\b\\\\\\\\s\\\\\\\\p{Han}@?,!;:\\\\\\\\\\\\\\'\\\\\\\\\")(.])\\', flags=regex.M | regex.V0)', 'KEY')\n",
      "\n",
      "===============144==================\n",
      "('/network-instances/network-instance/protocols/protocol/isis/levels/level/link-state-database/lsp/tlvs/tlv/extended-ipv4-reachability/prefixes/prefix/subTLVs/subTLVs/prefix-sid/sid', (6899, 7079), 'regex.Regex(\\'((?:(?:[A-Za-z]+[\\\\\\\\p{Nd}\\\\\\\\p{Pd}\\\\\\\\/\\\\\\\\+\\\\\\\\=:_]+|[\\\\\\\\p{Nd}\\\\\\\\p{Pd}\\\\\\\\/\\\\\\\\+\\\\\\\\=:]+[A-Za-z]+)){10,})(?:$|[\\\\\\\\b\\\\\\\\s\\\\\\\\p{Han}@?,!;:\\\\\\\\\\\\\\'\\\\\\\\\")(.])\\', flags=regex.M | regex.V0)', 'KEY')\n",
      "\n",
      "===============147==================\n",
      "('9d646e20-7a62-4bcc-abc0-cb2d4d075e36', (432, 469), 'regex.Regex(\\'((?:(?:[A-Za-z]+[\\\\\\\\p{Nd}\\\\\\\\p{Pd}\\\\\\\\/\\\\\\\\+\\\\\\\\=:_]+|[\\\\\\\\p{Nd}\\\\\\\\p{Pd}\\\\\\\\/\\\\\\\\+\\\\\\\\=:]+[A-Za-z]+)){10,})(?:$|[\\\\\\\\b\\\\\\\\s\\\\\\\\p{Han}@?,!;:\\\\\\\\\\\\\\'\\\\\\\\\")(.])\\', flags=regex.M | regex.V0)', 'KEY')\n",
      "\n",
      "===============147==================\n",
      "('c8a585ae-b61f-4ba6-833c-9e8d5d1674d8', (571, 608), 'regex.Regex(\\'((?:(?:[A-Za-z]+[\\\\\\\\p{Nd}\\\\\\\\p{Pd}\\\\\\\\/\\\\\\\\+\\\\\\\\=:_]+|[\\\\\\\\p{Nd}\\\\\\\\p{Pd}\\\\\\\\/\\\\\\\\+\\\\\\\\=:]+[A-Za-z]+)){10,})(?:$|[\\\\\\\\b\\\\\\\\s\\\\\\\\p{Han}@?,!;:\\\\\\\\\\\\\\'\\\\\\\\\")(.])\\', flags=regex.M | regex.V0)', 'KEY')\n",
      "\n",
      "===============147==================\n",
      "('eb6e4656-77fc-42a1-9181-4c6d8e9da5d1', (1052, 1089), 'regex.Regex(\\'((?:(?:[A-Za-z]+[\\\\\\\\p{Nd}\\\\\\\\p{Pd}\\\\\\\\/\\\\\\\\+\\\\\\\\=:_]+|[\\\\\\\\p{Nd}\\\\\\\\p{Pd}\\\\\\\\/\\\\\\\\+\\\\\\\\=:]+[A-Za-z]+)){10,})(?:$|[\\\\\\\\b\\\\\\\\s\\\\\\\\p{Han}@?,!;:\\\\\\\\\\\\\\'\\\\\\\\\")(.])\\', flags=regex.M | regex.V0)', 'KEY')\n",
      "\n",
      "===============147==================\n",
      "('6ce954b1-ce1f-45d1-b94d-e6bf2464ba2c', (1180, 1217), 'regex.Regex(\\'((?:(?:[A-Za-z]+[\\\\\\\\p{Nd}\\\\\\\\p{Pd}\\\\\\\\/\\\\\\\\+\\\\\\\\=:_]+|[\\\\\\\\p{Nd}\\\\\\\\p{Pd}\\\\\\\\/\\\\\\\\+\\\\\\\\=:]+[A-Za-z]+)){10,})(?:$|[\\\\\\\\b\\\\\\\\s\\\\\\\\p{Han}@?,!;:\\\\\\\\\\\\\\'\\\\\\\\\")(.])\\', flags=regex.M | regex.V0)', 'KEY')\n",
      "\n",
      "===============147==================\n",
      "('6c36052c58bde5e57040ebe6bdb9f6a52c906fff', (6187, 6228), 'regex.Regex(\\'((?:(?:[A-Za-z]+[\\\\\\\\p{Nd}\\\\\\\\p{Pd}\\\\\\\\/\\\\\\\\+\\\\\\\\=:_]+|[\\\\\\\\p{Nd}\\\\\\\\p{Pd}\\\\\\\\/\\\\\\\\+\\\\\\\\=:]+[A-Za-z]+)){10,})(?:$|[\\\\\\\\b\\\\\\\\s\\\\\\\\p{Han}@?,!;:\\\\\\\\\\\\\\'\\\\\\\\\")(.])\\', flags=regex.M | regex.V0)', 'KEY')\n",
      "\n",
      "===============147==================\n",
      "('com/_apis/git/repositories/b1e25999-c080-4ea1-8c61-597c4ec41f06/commits/6c36052c58bde5e57040ebe6bdb9f6a52c906fff', (6643, 6756), 'regex.Regex(\\'((?:(?:[A-Za-z]+[\\\\\\\\p{Nd}\\\\\\\\p{Pd}\\\\\\\\/\\\\\\\\+\\\\\\\\=:_]+|[\\\\\\\\p{Nd}\\\\\\\\p{Pd}\\\\\\\\/\\\\\\\\+\\\\\\\\=:]+[A-Za-z]+)){10,})(?:$|[\\\\\\\\b\\\\\\\\s\\\\\\\\p{Han}@?,!;:\\\\\\\\\\\\\\'\\\\\\\\\")(.])\\', flags=regex.M | regex.V0)', 'KEY')\n",
      "\n",
      "===============147==================\n",
      "('com/_git/MyFirstProject/commit/6c36052c58bde5e57040ebe6bdb9f6a52c906fff', (6816, 6888), 'regex.Regex(\\'((?:(?:[A-Za-z]+[\\\\\\\\p{Nd}\\\\\\\\p{Pd}\\\\\\\\/\\\\\\\\+\\\\\\\\=:_]+|[\\\\\\\\p{Nd}\\\\\\\\p{Pd}\\\\\\\\/\\\\\\\\+\\\\\\\\=:]+[A-Za-z]+)){10,})(?:$|[\\\\\\\\b\\\\\\\\s\\\\\\\\p{Han}@?,!;:\\\\\\\\\\\\\\'\\\\\\\\\")(.])\\', flags=regex.M | regex.V0)', 'KEY')\n",
      "\n",
      "===============147==================\n",
      "('b48e843656a0a12926a0bcedefe8ef3710fe2867', (7026, 7067), 'regex.Regex(\\'((?:(?:[A-Za-z]+[\\\\\\\\p{Nd}\\\\\\\\p{Pd}\\\\\\\\/\\\\\\\\+\\\\\\\\=:_]+|[\\\\\\\\p{Nd}\\\\\\\\p{Pd}\\\\\\\\/\\\\\\\\+\\\\\\\\=:]+[A-Za-z]+)){10,})(?:$|[\\\\\\\\b\\\\\\\\s\\\\\\\\p{Han}@?,!;:\\\\\\\\\\\\\\'\\\\\\\\\")(.])\\', flags=regex.M | regex.V0)', 'KEY')\n",
      "\n",
      "===============147==================\n",
      "('270b590a4edf3f19aa7acc7b57379729e34fc681', (7098, 7139), 'regex.Regex(\\'((?:(?:[A-Za-z]+[\\\\\\\\p{Nd}\\\\\\\\p{Pd}\\\\\\\\/\\\\\\\\+\\\\\\\\=:_]+|[\\\\\\\\p{Nd}\\\\\\\\p{Pd}\\\\\\\\/\\\\\\\\+\\\\\\\\=:]+[A-Za-z]+)){10,})(?:$|[\\\\\\\\b\\\\\\\\s\\\\\\\\p{Han}@?,!;:\\\\\\\\\\\\\\'\\\\\\\\\")(.])\\', flags=regex.M | regex.V0)', 'KEY')\n",
      "\n",
      "===============147==================\n",
      "('6c36052c58bde5e57040ebe6bdb9f6a52c906fff', (7195, 7236), 'regex.Regex(\\'((?:(?:[A-Za-z]+[\\\\\\\\p{Nd}\\\\\\\\p{Pd}\\\\\\\\/\\\\\\\\+\\\\\\\\=:_]+|[\\\\\\\\p{Nd}\\\\\\\\p{Pd}\\\\\\\\/\\\\\\\\+\\\\\\\\=:]+[A-Za-z]+)){10,})(?:$|[\\\\\\\\b\\\\\\\\s\\\\\\\\p{Han}@?,!;:\\\\\\\\\\\\\\'\\\\\\\\\")(.])\\', flags=regex.M | regex.V0)', 'KEY')\n",
      "\n",
      "===============147==================\n",
      "('com/DefaultCollection/_apis/git/repositories/b1e25999-c080-4ea1-8c61-597c4ec41f06/items/README', (7324, 7419), 'regex.Regex(\\'((?:(?:[A-Za-z]+[\\\\\\\\p{Nd}\\\\\\\\p{Pd}\\\\\\\\/\\\\\\\\+\\\\\\\\=:_]+|[\\\\\\\\p{Nd}\\\\\\\\p{Pd}\\\\\\\\/\\\\\\\\+\\\\\\\\=:]+[A-Za-z]+)){10,})(?:$|[\\\\\\\\b\\\\\\\\s\\\\\\\\p{Han}@?,!;:\\\\\\\\\\\\\\'\\\\\\\\\")(.])\\', flags=regex.M | regex.V0)', 'KEY')\n",
      "\n",
      "===============147==================\n",
      "('version=6c36052c58bde5e57040ebe6bdb9f6a52c906fff', (7441, 7490), 'regex.Regex(\\'((?:(?:[A-Za-z]+[\\\\\\\\p{Nd}\\\\\\\\p{Pd}\\\\\\\\/\\\\\\\\+\\\\\\\\=:_]+|[\\\\\\\\p{Nd}\\\\\\\\p{Pd}\\\\\\\\/\\\\\\\\+\\\\\\\\=:]+[A-Za-z]+)){10,})(?:$|[\\\\\\\\b\\\\\\\\s\\\\\\\\p{Han}@?,!;:\\\\\\\\\\\\\\'\\\\\\\\\")(.])\\', flags=regex.M | regex.V0)', 'KEY')\n",
      "\n",
      "===============147==================\n",
      "('51ac8d19-6694-459f-a65e-bec30e9e2e33', (9621, 9658), 'regex.Regex(\\'((?:(?:[A-Za-z]+[\\\\\\\\p{Nd}\\\\\\\\p{Pd}\\\\\\\\/\\\\\\\\+\\\\\\\\=:_]+|[\\\\\\\\p{Nd}\\\\\\\\p{Pd}\\\\\\\\/\\\\\\\\+\\\\\\\\=:]+[A-Za-z]+)){10,})(?:$|[\\\\\\\\b\\\\\\\\s\\\\\\\\p{Han}@?,!;:\\\\\\\\\\\\\\'\\\\\\\\\")(.])\\', flags=regex.M | regex.V0)', 'KEY')\n",
      "\n",
      "===============147==================\n",
      "('com/_apis/graph/users/TWljcm9zb2Z0LlRlYW1Gb3VuZGF0aW9uLlNlcnZpY2VJZGVudGl0eTtmMzViOTAxNS1jZGU4LTQ4MzQtYTFkNS0wOWU4ZjM1OWNiODU6QnVpbGQ6NTFhYzhkMTktNjY5NC00NTlmLWE2NWUtYmVjMzBlOWUyZTMz', (9930, 10113), 'regex.Regex(\\'((?:(?:[A-Za-z]+[\\\\\\\\p{Nd}\\\\\\\\p{Pd}\\\\\\\\/\\\\\\\\+\\\\\\\\=:_]+|[\\\\\\\\p{Nd}\\\\\\\\p{Pd}\\\\\\\\/\\\\\\\\+\\\\\\\\=:]+[A-Za-z]+)){10,})(?:$|[\\\\\\\\b\\\\\\\\s\\\\\\\\p{Han}@?,!;:\\\\\\\\\\\\\\'\\\\\\\\\")(.])\\', flags=regex.M | regex.V0)', 'KEY')\n",
      "\n",
      "===============147==================\n",
      "('com/_apis/graph/memberships/TWljcm9zb2Z0LlRlYW1Gb3VuZGF0aW9uLlNlcnZpY2VJZGVudGl0eTtmMzViOTAxNS1jZGU4LTQ4MzQtYTFkNS0wOWU4ZjM1OWNiODU6QnVpbGQ6NTFhYzhkMTktNjY5NC00NTlmLWE2NWUtYmVjMzBlOWUyZTMz', (10205, 10394), 'regex.Regex(\\'((?:(?:[A-Za-z]+[\\\\\\\\p{Nd}\\\\\\\\p{Pd}\\\\\\\\/\\\\\\\\+\\\\\\\\=:_]+|[\\\\\\\\p{Nd}\\\\\\\\p{Pd}\\\\\\\\/\\\\\\\\+\\\\\\\\=:]+[A-Za-z]+)){10,})(?:$|[\\\\\\\\b\\\\\\\\s\\\\\\\\p{Han}@?,!;:\\\\\\\\\\\\\\'\\\\\\\\\")(.])\\', flags=regex.M | regex.V0)', 'KEY')\n",
      "\n",
      "===============147==================\n",
      "('com/_apis/graph/users/TWljcm9zb2Z0LlRlYW1Gb3VuZGF0aW9uLlNlcnZpY2VJZGVudGl0eTtmMzViOTAxNS1jZGU4LTQ4MzQtYTFkNS0wOWU4ZjM1OWNiODU6QnVpbGQ6NTFhYzhkMTktNjY5NC00NTlmLWE2NWUtYmVjMzBlOWUyZTMz', (10464, 10647), 'regex.Regex(\\'((?:(?:[A-Za-z]+[\\\\\\\\p{Nd}\\\\\\\\p{Pd}\\\\\\\\/\\\\\\\\+\\\\\\\\=:_]+|[\\\\\\\\p{Nd}\\\\\\\\p{Pd}\\\\\\\\/\\\\\\\\+\\\\\\\\=:]+[A-Za-z]+)){10,})(?:$|[\\\\\\\\b\\\\\\\\s\\\\\\\\p{Han}@?,!;:\\\\\\\\\\\\\\'\\\\\\\\\")(.])\\', flags=regex.M | regex.V0)', 'KEY')\n",
      "\n",
      "===============147==================\n",
      "('TWljcm9zb2Z0LlRlYW1Gb3VuZGF0aW9uLlNlcnZpY2VJZGVudGl0eTtmMzViOTAxNS1jZGU4LTQ4MzQtYTFkNS0wOWU4ZjM1OWNiODU6QnVpbGQ6NTFhYzhkMTktNjY5NC00NTlmLWE2NWUtYmVjMzBlOWUyZTMz', (10670, 10831), 'regex.Regex(\\'((?:(?:[A-Za-z]+[\\\\\\\\p{Nd}\\\\\\\\p{Pd}\\\\\\\\/\\\\\\\\+\\\\\\\\=:_]+|[\\\\\\\\p{Nd}\\\\\\\\p{Pd}\\\\\\\\/\\\\\\\\+\\\\\\\\=:]+[A-Za-z]+)){10,})(?:$|[\\\\\\\\b\\\\\\\\s\\\\\\\\p{Han}@?,!;:\\\\\\\\\\\\\\'\\\\\\\\\")(.])\\', flags=regex.M | regex.V0)', 'KEY')\n",
      "\n",
      "===============147==================\n",
      "('00ca946b-2fe9-4f2a-ae2f-40d5c48001bc', (10917, 10954), 'regex.Regex(\\'((?:(?:[A-Za-z]+[\\\\\\\\p{Nd}\\\\\\\\p{Pd}\\\\\\\\/\\\\\\\\+\\\\\\\\=:_]+|[\\\\\\\\p{Nd}\\\\\\\\p{Pd}\\\\\\\\/\\\\\\\\+\\\\\\\\=:]+[A-Za-z]+)){10,})(?:$|[\\\\\\\\b\\\\\\\\s\\\\\\\\p{Han}@?,!;:\\\\\\\\\\\\\\'\\\\\\\\\")(.])\\', flags=regex.M | regex.V0)', 'KEY')\n",
      "\n",
      "===============147==================\n",
      "('00ca946b-2fe9-4f2a-ae2f-40d5c48001bc', (11125, 11162), 'regex.Regex(\\'((?:(?:[A-Za-z]+[\\\\\\\\p{Nd}\\\\\\\\p{Pd}\\\\\\\\/\\\\\\\\+\\\\\\\\=:_]+|[\\\\\\\\p{Nd}\\\\\\\\p{Pd}\\\\\\\\/\\\\\\\\+\\\\\\\\=:]+[A-Za-z]+)){10,})(?:$|[\\\\\\\\b\\\\\\\\s\\\\\\\\p{Han}@?,!;:\\\\\\\\\\\\\\'\\\\\\\\\")(.])\\', flags=regex.M | regex.V0)', 'KEY')\n",
      "\n",
      "===============147==================\n",
      "('com/_apis/graph/users/TWljcm9zb2Z0LklkZW50aXR5TW9kZWwuQ2xhaW1zLkNsYWltc0lkZW50aXR5Ozc3ODlmMDlkLWUwNTMtNGYyZS1iZGVlLTBjOGY4NDc2YTRiYw', (11319, 11452), 'regex.Regex(\\'((?:(?:[A-Za-z]+[\\\\\\\\p{Nd}\\\\\\\\p{Pd}\\\\\\\\/\\\\\\\\+\\\\\\\\=:_]+|[\\\\\\\\p{Nd}\\\\\\\\p{Pd}\\\\\\\\/\\\\\\\\+\\\\\\\\=:]+[A-Za-z]+)){10,})(?:$|[\\\\\\\\b\\\\\\\\s\\\\\\\\p{Han}@?,!;:\\\\\\\\\\\\\\'\\\\\\\\\")(.])\\', flags=regex.M | regex.V0)', 'KEY')\n",
      "\n",
      "===============147==================\n",
      "('com/_apis/graph/memberships/TWljcm9zb2Z0LklkZW50aXR5TW9kZWwuQ2xhaW1zLkNsYWltc0lkZW50aXR5Ozc3ODlmMDlkLWUwNTMtNGYyZS1iZGVlLTBjOGY4NDc2YTRiYw', (11544, 11683), 'regex.Regex(\\'((?:(?:[A-Za-z]+[\\\\\\\\p{Nd}\\\\\\\\p{Pd}\\\\\\\\/\\\\\\\\+\\\\\\\\=:_]+|[\\\\\\\\p{Nd}\\\\\\\\p{Pd}\\\\\\\\/\\\\\\\\+\\\\\\\\=:]+[A-Za-z]+)){10,})(?:$|[\\\\\\\\b\\\\\\\\s\\\\\\\\p{Han}@?,!;:\\\\\\\\\\\\\\'\\\\\\\\\")(.])\\', flags=regex.M | regex.V0)', 'KEY')\n",
      "\n",
      "===============147==================\n",
      "('com/_apis/graph/users/TWljcm9zb2Z0LklkZW50aXR5TW9kZWwuQ2xhaW1zLkNsYWltc0lkZW50aXR5Ozc3ODlmMDlkLWUwNTMtNGYyZS1iZGVlLTBjOGY4NDc2YTRiYw', (11753, 11886), 'regex.Regex(\\'((?:(?:[A-Za-z]+[\\\\\\\\p{Nd}\\\\\\\\p{Pd}\\\\\\\\/\\\\\\\\+\\\\\\\\=:_]+|[\\\\\\\\p{Nd}\\\\\\\\p{Pd}\\\\\\\\/\\\\\\\\+\\\\\\\\=:]+[A-Za-z]+)){10,})(?:$|[\\\\\\\\b\\\\\\\\s\\\\\\\\p{Han}@?,!;:\\\\\\\\\\\\\\'\\\\\\\\\")(.])\\', flags=regex.M | regex.V0)', 'KEY')\n",
      "\n",
      "===============147==================\n",
      "('TWljcm9zb2Z0LklkZW50aXR5TW9kZWwuQ2xhaW1zLkNsYWltc0lkZW50aXR5Ozc3ODlmMDlkLWUwNTMtNGYyZS1iZGVlLTBjOGY4NDc2YTRiYw', (11909, 12020), 'regex.Regex(\\'((?:(?:[A-Za-z]+[\\\\\\\\p{Nd}\\\\\\\\p{Pd}\\\\\\\\/\\\\\\\\+\\\\\\\\=:_]+|[\\\\\\\\p{Nd}\\\\\\\\p{Pd}\\\\\\\\/\\\\\\\\+\\\\\\\\=:]+[A-Za-z]+)){10,})(?:$|[\\\\\\\\b\\\\\\\\s\\\\\\\\p{Han}@?,!;:\\\\\\\\\\\\\\'\\\\\\\\\")(.])\\', flags=regex.M | regex.V0)', 'KEY')\n",
      "\n",
      "===============147==================\n",
      "('ddd94918-1fc8-459b-994a-cca86c4fbe95', (12106, 12143), 'regex.Regex(\\'((?:(?:[A-Za-z]+[\\\\\\\\p{Nd}\\\\\\\\p{Pd}\\\\\\\\/\\\\\\\\+\\\\\\\\=:_]+|[\\\\\\\\p{Nd}\\\\\\\\p{Pd}\\\\\\\\/\\\\\\\\+\\\\\\\\=:]+[A-Za-z]+)){10,})(?:$|[\\\\\\\\b\\\\\\\\s\\\\\\\\p{Han}@?,!;:\\\\\\\\\\\\\\'\\\\\\\\\")(.])\\', flags=regex.M | regex.V0)', 'KEY')\n",
      "\n",
      "===============147==================\n",
      "('ddd94918-1fc8-459b-994a-cca86c4fbe95', (12284, 12321), 'regex.Regex(\\'((?:(?:[A-Za-z]+[\\\\\\\\p{Nd}\\\\\\\\p{Pd}\\\\\\\\/\\\\\\\\+\\\\\\\\=:_]+|[\\\\\\\\p{Nd}\\\\\\\\p{Pd}\\\\\\\\/\\\\\\\\+\\\\\\\\=:]+[A-Za-z]+)){10,})(?:$|[\\\\\\\\b\\\\\\\\s\\\\\\\\p{Han}@?,!;:\\\\\\\\\\\\\\'\\\\\\\\\")(.])\\', flags=regex.M | regex.V0)', 'KEY')\n",
      "\n",
      "===============147==================\n",
      "('com/_apis/graph/users/TWljcm9zb2Z0LlRlYW1Gb3VuZGF0aW9uLlVuYXV0aGVudGljYXRlZElkZW50aXR5O1MtMS0wLTA', (12448, 12546), 'regex.Regex(\\'((?:(?:[A-Za-z]+[\\\\\\\\p{Nd}\\\\\\\\p{Pd}\\\\\\\\/\\\\\\\\+\\\\\\\\=:_]+|[\\\\\\\\p{Nd}\\\\\\\\p{Pd}\\\\\\\\/\\\\\\\\+\\\\\\\\=:]+[A-Za-z]+)){10,})(?:$|[\\\\\\\\b\\\\\\\\s\\\\\\\\p{Han}@?,!;:\\\\\\\\\\\\\\'\\\\\\\\\")(.])\\', flags=regex.M | regex.V0)', 'KEY')\n",
      "\n",
      "===============147==================\n",
      "('com/_apis/graph/memberships/TWljcm9zb2Z0LlRlYW1Gb3VuZGF0aW9uLlVuYXV0aGVudGljYXRlZElkZW50aXR5O1MtMS0wLTA', (12638, 12742), 'regex.Regex(\\'((?:(?:[A-Za-z]+[\\\\\\\\p{Nd}\\\\\\\\p{Pd}\\\\\\\\/\\\\\\\\+\\\\\\\\=:_]+|[\\\\\\\\p{Nd}\\\\\\\\p{Pd}\\\\\\\\/\\\\\\\\+\\\\\\\\=:]+[A-Za-z]+)){10,})(?:$|[\\\\\\\\b\\\\\\\\s\\\\\\\\p{Han}@?,!;:\\\\\\\\\\\\\\'\\\\\\\\\")(.])\\', flags=regex.M | regex.V0)', 'KEY')\n",
      "\n",
      "===============147==================\n",
      "('com/_apis/graph/users/TWljcm9zb2Z0LlRlYW1Gb3VuZGF0aW9uLlVuYXV0aGVudGljYXRlZElkZW50aXR5O1MtMS0wLTA', (12812, 12910), 'regex.Regex(\\'((?:(?:[A-Za-z]+[\\\\\\\\p{Nd}\\\\\\\\p{Pd}\\\\\\\\/\\\\\\\\+\\\\\\\\=:_]+|[\\\\\\\\p{Nd}\\\\\\\\p{Pd}\\\\\\\\/\\\\\\\\+\\\\\\\\=:]+[A-Za-z]+)){10,})(?:$|[\\\\\\\\b\\\\\\\\s\\\\\\\\p{Han}@?,!;:\\\\\\\\\\\\\\'\\\\\\\\\")(.])\\', flags=regex.M | regex.V0)', 'KEY')\n",
      "\n",
      "===============147==================\n",
      "('TWljcm9zb2Z0LlRlYW1Gb3VuZGF0aW9uLlVuYXV0aGVudGljYXRlZElkZW50aXR5O1MtMS0wLTA', (12933, 13009), 'regex.Regex(\\'((?:(?:[A-Za-z]+[\\\\\\\\p{Nd}\\\\\\\\p{Pd}\\\\\\\\/\\\\\\\\+\\\\\\\\=:_]+|[\\\\\\\\p{Nd}\\\\\\\\p{Pd}\\\\\\\\/\\\\\\\\+\\\\\\\\=:]+[A-Za-z]+)){10,})(?:$|[\\\\\\\\b\\\\\\\\s\\\\\\\\p{Han}@?,!;:\\\\\\\\\\\\\\'\\\\\\\\\")(.])\\', flags=regex.M | regex.V0)', 'KEY')\n",
      "\n",
      "===============147==================\n",
      "('65903f92-53dc-61b3-bb0e-e69cfa1cb719', (13095, 13132), 'regex.Regex(\\'((?:(?:[A-Za-z]+[\\\\\\\\p{Nd}\\\\\\\\p{Pd}\\\\\\\\/\\\\\\\\+\\\\\\\\=:_]+|[\\\\\\\\p{Nd}\\\\\\\\p{Pd}\\\\\\\\/\\\\\\\\+\\\\\\\\=:]+[A-Za-z]+)){10,})(?:$|[\\\\\\\\b\\\\\\\\s\\\\\\\\p{Han}@?,!;:\\\\\\\\\\\\\\'\\\\\\\\\")(.])\\', flags=regex.M | regex.V0)', 'KEY')\n",
      "\n",
      "===============147==================\n",
      "('45aa3d2d-7442-473d-b4d3-3c670da9dd96', (13151, 13188), 'regex.Regex(\\'((?:(?:[A-Za-z]+[\\\\\\\\p{Nd}\\\\\\\\p{Pd}\\\\\\\\/\\\\\\\\+\\\\\\\\=:_]+|[\\\\\\\\p{Nd}\\\\\\\\p{Pd}\\\\\\\\/\\\\\\\\+\\\\\\\\=:]+[A-Za-z]+)){10,})(?:$|[\\\\\\\\b\\\\\\\\s\\\\\\\\p{Han}@?,!;:\\\\\\\\\\\\\\'\\\\\\\\\")(.])\\', flags=regex.M | regex.V0)', 'KEY')\n",
      "\n",
      "===============147==================\n",
      "('com/_apis/graph/users/TWljcm9zb2Z0LklkZW50aXR5TW9kZWwuQ2xhaW1zLkNsYWltc0lkZW50aXR5OzQ1YWEzZDJkLTc0NDItNDczZC1iNGQzLTNjNjcwZGE5ZGQ5NlxmdG90dGVuQHZzY3NpLnVz', (13485, 13640), 'regex.Regex(\\'((?:(?:[A-Za-z]+[\\\\\\\\p{Nd}\\\\\\\\p{Pd}\\\\\\\\/\\\\\\\\+\\\\\\\\=:_]+|[\\\\\\\\p{Nd}\\\\\\\\p{Pd}\\\\\\\\/\\\\\\\\+\\\\\\\\=:]+[A-Za-z]+)){10,})(?:$|[\\\\\\\\b\\\\\\\\s\\\\\\\\p{Han}@?,!;:\\\\\\\\\\\\\\'\\\\\\\\\")(.])\\', flags=regex.M | regex.V0)', 'KEY')\n",
      "\n",
      "===============147==================\n",
      "('com/_apis/graph/memberships/TWljcm9zb2Z0LklkZW50aXR5TW9kZWwuQ2xhaW1zLkNsYWltc0lkZW50aXR5OzQ1YWEzZDJkLTc0NDItNDczZC1iNGQzLTNjNjcwZGE5ZGQ5NlxmdG90dGVuQHZzY3NpLnVz', (13732, 13893), 'regex.Regex(\\'((?:(?:[A-Za-z]+[\\\\\\\\p{Nd}\\\\\\\\p{Pd}\\\\\\\\/\\\\\\\\+\\\\\\\\=:_]+|[\\\\\\\\p{Nd}\\\\\\\\p{Pd}\\\\\\\\/\\\\\\\\+\\\\\\\\=:]+[A-Za-z]+)){10,})(?:$|[\\\\\\\\b\\\\\\\\s\\\\\\\\p{Han}@?,!;:\\\\\\\\\\\\\\'\\\\\\\\\")(.])\\', flags=regex.M | regex.V0)', 'KEY')\n",
      "\n",
      "===============147==================\n",
      "('com/_apis/graph/users/TWljcm9zb2Z0LklkZW50aXR5TW9kZWwuQ2xhaW1zLkNsYWltc0lkZW50aXR5OzQ1YWEzZDJkLTc0NDItNDczZC1iNGQzLTNjNjcwZGE5ZGQ5NlxmdG90dGVuQHZzY3NpLnVz', (13963, 14118), 'regex.Regex(\\'((?:(?:[A-Za-z]+[\\\\\\\\p{Nd}\\\\\\\\p{Pd}\\\\\\\\/\\\\\\\\+\\\\\\\\=:_]+|[\\\\\\\\p{Nd}\\\\\\\\p{Pd}\\\\\\\\/\\\\\\\\+\\\\\\\\=:]+[A-Za-z]+)){10,})(?:$|[\\\\\\\\b\\\\\\\\s\\\\\\\\p{Han}@?,!;:\\\\\\\\\\\\\\'\\\\\\\\\")(.])\\', flags=regex.M | regex.V0)', 'KEY')\n",
      "\n",
      "===============147==================\n",
      "('TWljcm9zb2Z0LklkZW50aXR5TW9kZWwuQ2xhaW1zLkNsYWltc0lkZW50aXR5OzQ1YWEzZDJkLTc0NDItNDczZC1iNGQzLTNjNjcwZGE5ZGQ5NlxmdG90dGVuQHZzY3NpLnVz', (14141, 14274), 'regex.Regex(\\'((?:(?:[A-Za-z]+[\\\\\\\\p{Nd}\\\\\\\\p{Pd}\\\\\\\\/\\\\\\\\+\\\\\\\\=:_]+|[\\\\\\\\p{Nd}\\\\\\\\p{Pd}\\\\\\\\/\\\\\\\\+\\\\\\\\=:]+[A-Za-z]+)){10,})(?:$|[\\\\\\\\b\\\\\\\\s\\\\\\\\p{Han}@?,!;:\\\\\\\\\\\\\\'\\\\\\\\\")(.])\\', flags=regex.M | regex.V0)', 'KEY')\n",
      "\n",
      "===============147==================\n",
      "('com/_apis/hooks/subscriptions/fd672255-8b6b-4769-9260-beea83d752ce', (14407, 14474), 'regex.Regex(\\'((?:(?:[A-Za-z]+[\\\\\\\\p{Nd}\\\\\\\\p{Pd}\\\\\\\\/\\\\\\\\+\\\\\\\\=:_]+|[\\\\\\\\p{Nd}\\\\\\\\p{Pd}\\\\\\\\/\\\\\\\\+\\\\\\\\=:]+[A-Za-z]+)){10,})(?:$|[\\\\\\\\b\\\\\\\\s\\\\\\\\p{Han}@?,!;:\\\\\\\\\\\\\\'\\\\\\\\\")(.])\\', flags=regex.M | regex.V0)', 'KEY')\n",
      "\n",
      "===============147==================\n",
      "('00ca946b-2fe9-4f2a-ae2f-40d5c48001bc', (14771, 14808), 'regex.Regex(\\'((?:(?:[A-Za-z]+[\\\\\\\\p{Nd}\\\\\\\\p{Pd}\\\\\\\\/\\\\\\\\+\\\\\\\\=:_]+|[\\\\\\\\p{Nd}\\\\\\\\p{Pd}\\\\\\\\/\\\\\\\\+\\\\\\\\=:]+[A-Za-z]+)){10,})(?:$|[\\\\\\\\b\\\\\\\\s\\\\\\\\p{Han}@?,!;:\\\\\\\\\\\\\\'\\\\\\\\\")(.])\\', flags=regex.M | regex.V0)', 'KEY')\n",
      "\n",
      "===============147==================\n",
      "('00ca946b-2fe9-4f2a-ae2f-40d5c48001bc', (14898, 14935), 'regex.Regex(\\'((?:(?:[A-Za-z]+[\\\\\\\\p{Nd}\\\\\\\\p{Pd}\\\\\\\\/\\\\\\\\+\\\\\\\\=:_]+|[\\\\\\\\p{Nd}\\\\\\\\p{Pd}\\\\\\\\/\\\\\\\\+\\\\\\\\=:]+[A-Za-z]+)){10,})(?:$|[\\\\\\\\b\\\\\\\\s\\\\\\\\p{Han}@?,!;:\\\\\\\\\\\\\\'\\\\\\\\\")(.])\\', flags=regex.M | regex.V0)', 'KEY')\n",
      "\n",
      "===============147==================\n",
      "('d81542e4-cdfa-4333-b082-1ae2d6c3ad16', (15109, 15146), 'regex.Regex(\\'((?:(?:[A-Za-z]+[\\\\\\\\p{Nd}\\\\\\\\p{Pd}\\\\\\\\/\\\\\\\\+\\\\\\\\=:_]+|[\\\\\\\\p{Nd}\\\\\\\\p{Pd}\\\\\\\\/\\\\\\\\+\\\\\\\\=:]+[A-Za-z]+)){10,})(?:$|[\\\\\\\\b\\\\\\\\s\\\\\\\\p{Han}@?,!;:\\\\\\\\\\\\\\'\\\\\\\\\")(.])\\', flags=regex.M | regex.V0)', 'KEY')\n",
      "\n",
      "===============147==================\n",
      "('6ce954b1-ce1f-45d1-b94d-e6bf2464ba2c', (15170, 15207), 'regex.Regex(\\'((?:(?:[A-Za-z]+[\\\\\\\\p{Nd}\\\\\\\\p{Pd}\\\\\\\\/\\\\\\\\+\\\\\\\\=:_]+|[\\\\\\\\p{Nd}\\\\\\\\p{Pd}\\\\\\\\/\\\\\\\\+\\\\\\\\=:]+[A-Za-z]+)){10,})(?:$|[\\\\\\\\b\\\\\\\\s\\\\\\\\p{Han}@?,!;:\\\\\\\\\\\\\\'\\\\\\\\\")(.])\\', flags=regex.M | regex.V0)', 'KEY')\n",
      "\n",
      "===============147==================\n",
      "('3e8b33e7-426d-4c92-9bf9-58e163dd7dd5', (15239, 15276), 'regex.Regex(\\'((?:(?:[A-Za-z]+[\\\\\\\\p{Nd}\\\\\\\\p{Pd}\\\\\\\\/\\\\\\\\+\\\\\\\\=:_]+|[\\\\\\\\p{Nd}\\\\\\\\p{Pd}\\\\\\\\/\\\\\\\\+\\\\\\\\=:]+[A-Za-z]+)){10,})(?:$|[\\\\\\\\b\\\\\\\\s\\\\\\\\p{Han}@?,!;:\\\\\\\\\\\\\\'\\\\\\\\\")(.])\\', flags=regex.M | regex.V0)', 'KEY')\n",
      "\n",
      "===============147==================\n",
      "('c0bf429a-c03c-4a99-9336-d45be74db5a6', (15445, 15482), 'regex.Regex(\\'((?:(?:[A-Za-z]+[\\\\\\\\p{Nd}\\\\\\\\p{Pd}\\\\\\\\/\\\\\\\\+\\\\\\\\=:_]+|[\\\\\\\\p{Nd}\\\\\\\\p{Pd}\\\\\\\\/\\\\\\\\+\\\\\\\\=:]+[A-Za-z]+)){10,})(?:$|[\\\\\\\\b\\\\\\\\s\\\\\\\\p{Han}@?,!;:\\\\\\\\\\\\\\'\\\\\\\\\")(.])\\', flags=regex.M | regex.V0)', 'KEY')\n",
      "\n",
      "===============147==================\n",
      "('90e9a854-eb98-4c56-ae1a-035a0f331dd6', (15570, 15607), 'regex.Regex(\\'((?:(?:[A-Za-z]+[\\\\\\\\p{Nd}\\\\\\\\p{Pd}\\\\\\\\/\\\\\\\\+\\\\\\\\=:_]+|[\\\\\\\\p{Nd}\\\\\\\\p{Pd}\\\\\\\\/\\\\\\\\+\\\\\\\\=:]+[A-Za-z]+)){10,})(?:$|[\\\\\\\\b\\\\\\\\s\\\\\\\\p{Han}@?,!;:\\\\\\\\\\\\\\'\\\\\\\\\")(.])\\', flags=regex.M | regex.V0)', 'KEY')\n",
      "\n",
      "===============147==================\n",
      "('com/A90e9a854-eb98-4c56-ae1a-035a0f331dd6/_apis/Identities/21354f98-ab06-67d9-b974-5a54d992082e', (15961, 16057), 'regex.Regex(\\'((?:(?:[A-Za-z]+[\\\\\\\\p{Nd}\\\\\\\\p{Pd}\\\\\\\\/\\\\\\\\+\\\\\\\\=:_]+|[\\\\\\\\p{Nd}\\\\\\\\p{Pd}\\\\\\\\/\\\\\\\\+\\\\\\\\=:]+[A-Za-z]+)){10,})(?:$|[\\\\\\\\b\\\\\\\\s\\\\\\\\p{Han}@?,!;:\\\\\\\\\\\\\\'\\\\\\\\\")(.])\\', flags=regex.M | regex.V0)', 'KEY')\n",
      "\n",
      "===============147==================\n",
      "('com/c0bf429a-c03c-4a99-9336-d45be74db5a6/_apis/wit/workItems/31/updates/2', (16623, 16697), 'regex.Regex(\\'((?:(?:[A-Za-z]+[\\\\\\\\p{Nd}\\\\\\\\p{Pd}\\\\\\\\/\\\\\\\\+\\\\\\\\=:_]+|[\\\\\\\\p{Nd}\\\\\\\\p{Pd}\\\\\\\\/\\\\\\\\+\\\\\\\\=:]+[A-Za-z]+)){10,})(?:$|[\\\\\\\\b\\\\\\\\s\\\\\\\\p{Han}@?,!;:\\\\\\\\\\\\\\'\\\\\\\\\")(.])\\', flags=regex.M | regex.V0)', 'KEY')\n",
      "\n",
      "===============147==================\n",
      "('com/c0bf429a-c03c-4a99-9336-d45be74db5a6/_apis/wit/workItems/31/updates/2', (17480, 17554), 'regex.Regex(\\'((?:(?:[A-Za-z]+[\\\\\\\\p{Nd}\\\\\\\\p{Pd}\\\\\\\\/\\\\\\\\+\\\\\\\\=:_]+|[\\\\\\\\p{Nd}\\\\\\\\p{Pd}\\\\\\\\/\\\\\\\\+\\\\\\\\=:]+[A-Za-z]+)){10,})(?:$|[\\\\\\\\b\\\\\\\\s\\\\\\\\p{Han}@?,!;:\\\\\\\\\\\\\\'\\\\\\\\\")(.])\\', flags=regex.M | regex.V0)', 'KEY')\n",
      "\n",
      "===============147==================\n",
      "('com/c0bf429a-c03c-4a99-9336-d45be74db5a6/_apis/wit/workItems/31/updates', (17635, 17707), 'regex.Regex(\\'((?:(?:[A-Za-z]+[\\\\\\\\p{Nd}\\\\\\\\p{Pd}\\\\\\\\/\\\\\\\\+\\\\\\\\=:_]+|[\\\\\\\\p{Nd}\\\\\\\\p{Pd}\\\\\\\\/\\\\\\\\+\\\\\\\\=:]+[A-Za-z]+)){10,})(?:$|[\\\\\\\\b\\\\\\\\s\\\\\\\\p{Han}@?,!;:\\\\\\\\\\\\\\'\\\\\\\\\")(.])\\', flags=regex.M | regex.V0)', 'KEY')\n",
      "\n",
      "===============147==================\n",
      "('com/c0bf429a-c03c-4a99-9336-d45be74db5a6/_apis/wit/workItems/31', (17915, 17979), 'regex.Regex(\\'((?:(?:[A-Za-z]+[\\\\\\\\p{Nd}\\\\\\\\p{Pd}\\\\\\\\/\\\\\\\\+\\\\\\\\=:_]+|[\\\\\\\\p{Nd}\\\\\\\\p{Pd}\\\\\\\\/\\\\\\\\+\\\\\\\\=:]+[A-Za-z]+)){10,})(?:$|[\\\\\\\\b\\\\\\\\s\\\\\\\\p{Han}@?,!;:\\\\\\\\\\\\\\'\\\\\\\\\")(.])\\', flags=regex.M | regex.V0)', 'KEY')\n",
      "\n",
      "===============147==================\n",
      "('com/c0bf429a-c03c-4a99-9336-d45be74db5a6/_apis/wit/workItems/31/revisions/2', (18089, 18165), 'regex.Regex(\\'((?:(?:[A-Za-z]+[\\\\\\\\p{Nd}\\\\\\\\p{Pd}\\\\\\\\/\\\\\\\\+\\\\\\\\=:_]+|[\\\\\\\\p{Nd}\\\\\\\\p{Pd}\\\\\\\\/\\\\\\\\+\\\\\\\\=:]+[A-Za-z]+)){10,})(?:$|[\\\\\\\\b\\\\\\\\s\\\\\\\\p{Han}@?,!;:\\\\\\\\\\\\\\'\\\\\\\\\")(.])\\', flags=regex.M | regex.V0)', 'KEY')\n",
      "\n",
      "===============147==================\n",
      "('com/c0bf429a-c03c-4a99-9336-d45be74db5a6/_apis/wit/workItems/31/revisions/2', (20304, 20380), 'regex.Regex(\\'((?:(?:[A-Za-z]+[\\\\\\\\p{Nd}\\\\\\\\p{Pd}\\\\\\\\/\\\\\\\\+\\\\\\\\=:_]+|[\\\\\\\\p{Nd}\\\\\\\\p{Pd}\\\\\\\\/\\\\\\\\+\\\\\\\\=:]+[A-Za-z]+)){10,})(?:$|[\\\\\\\\b\\\\\\\\s\\\\\\\\p{Han}@?,!;:\\\\\\\\\\\\\\'\\\\\\\\\")(.])\\', flags=regex.M | regex.V0)', 'KEY')\n",
      "\n",
      "===============147==================\n",
      "('com/c0bf429a-c03c-4a99-9336-d45be74db5a6/_apis/wit/workItems/31/revisions', (20451, 20525), 'regex.Regex(\\'((?:(?:[A-Za-z]+[\\\\\\\\p{Nd}\\\\\\\\p{Pd}\\\\\\\\/\\\\\\\\+\\\\\\\\=:_]+|[\\\\\\\\p{Nd}\\\\\\\\p{Pd}\\\\\\\\/\\\\\\\\+\\\\\\\\=:]+[A-Za-z]+)){10,})(?:$|[\\\\\\\\b\\\\\\\\s\\\\\\\\p{Han}@?,!;:\\\\\\\\\\\\\\'\\\\\\\\\")(.])\\', flags=regex.M | regex.V0)', 'KEY')\n",
      "\n",
      "===============147==================\n",
      "('com/c0bf429a-c03c-4a99-9336-d45be74db5a6/_apis/wit/workItems/31', (20585, 20649), 'regex.Regex(\\'((?:(?:[A-Za-z]+[\\\\\\\\p{Nd}\\\\\\\\p{Pd}\\\\\\\\/\\\\\\\\+\\\\\\\\=:_]+|[\\\\\\\\p{Nd}\\\\\\\\p{Pd}\\\\\\\\/\\\\\\\\+\\\\\\\\=:]+[A-Za-z]+)){10,})(?:$|[\\\\\\\\b\\\\\\\\s\\\\\\\\p{Han}@?,!;:\\\\\\\\\\\\\\'\\\\\\\\\")(.])\\', flags=regex.M | regex.V0)', 'KEY')\n",
      "\n",
      "===============147==================\n",
      "('7bf628eb-b3a7-4fb2-ab4d-8b60f2e8cb9b', (20926, 20963), 'regex.Regex(\\'((?:(?:[A-Za-z]+[\\\\\\\\p{Nd}\\\\\\\\p{Pd}\\\\\\\\/\\\\\\\\+\\\\\\\\=:_]+|[\\\\\\\\p{Nd}\\\\\\\\p{Pd}\\\\\\\\/\\\\\\\\+\\\\\\\\=:]+[A-Za-z]+)){10,})(?:$|[\\\\\\\\b\\\\\\\\s\\\\\\\\p{Han}@?,!;:\\\\\\\\\\\\\\'\\\\\\\\\")(.])\\', flags=regex.M | regex.V0)', 'KEY')\n",
      "\n",
      "===============147==================\n",
      "('c0bf429a-c03c-4a99-9336-d45be74db5a6', (21115, 21152), 'regex.Regex(\\'((?:(?:[A-Za-z]+[\\\\\\\\p{Nd}\\\\\\\\p{Pd}\\\\\\\\/\\\\\\\\+\\\\\\\\=:_]+|[\\\\\\\\p{Nd}\\\\\\\\p{Pd}\\\\\\\\/\\\\\\\\+\\\\\\\\=:]+[A-Za-z]+)){10,})(?:$|[\\\\\\\\b\\\\\\\\s\\\\\\\\p{Han}@?,!;:\\\\\\\\\\\\\\'\\\\\\\\\")(.])\\', flags=regex.M | regex.V0)', 'KEY')\n",
      "\n",
      "===============147==================\n",
      "('90e9a854-eb98-4c56-ae1a-035a0f331dd6', (21274, 21311), 'regex.Regex(\\'((?:(?:[A-Za-z]+[\\\\\\\\p{Nd}\\\\\\\\p{Pd}\\\\\\\\/\\\\\\\\+\\\\\\\\=:_]+|[\\\\\\\\p{Nd}\\\\\\\\p{Pd}\\\\\\\\/\\\\\\\\+\\\\\\\\=:]+[A-Za-z]+)){10,})(?:$|[\\\\\\\\b\\\\\\\\s\\\\\\\\p{Han}@?,!;:\\\\\\\\\\\\\\'\\\\\\\\\")(.])\\', flags=regex.M | regex.V0)', 'KEY')\n",
      "\n",
      "===============147==================\n",
      "('com/A90e9a854-eb98-4c56-ae1a-035a0f331dd6/_apis/Identities/21354f98-ab06-67d9-b974-5a54d992082e', (21744, 21840), 'regex.Regex(\\'((?:(?:[A-Za-z]+[\\\\\\\\p{Nd}\\\\\\\\p{Pd}\\\\\\\\/\\\\\\\\+\\\\\\\\=:_]+|[\\\\\\\\p{Nd}\\\\\\\\p{Pd}\\\\\\\\/\\\\\\\\+\\\\\\\\=:]+[A-Za-z]+)){10,})(?:$|[\\\\\\\\b\\\\\\\\s\\\\\\\\p{Han}@?,!;:\\\\\\\\\\\\\\'\\\\\\\\\")(.])\\', flags=regex.M | regex.V0)', 'KEY')\n",
      "\n",
      "===============147==================\n",
      "('com/c0bf429a-c03c-4a99-9336-d45be74db5a6/_apis/wit/workItems/33/updates/3', (22528, 22602), 'regex.Regex(\\'((?:(?:[A-Za-z]+[\\\\\\\\p{Nd}\\\\\\\\p{Pd}\\\\\\\\/\\\\\\\\+\\\\\\\\=:_]+|[\\\\\\\\p{Nd}\\\\\\\\p{Pd}\\\\\\\\/\\\\\\\\+\\\\\\\\=:]+[A-Za-z]+)){10,})(?:$|[\\\\\\\\b\\\\\\\\s\\\\\\\\p{Han}@?,!;:\\\\\\\\\\\\\\'\\\\\\\\\")(.])\\', flags=regex.M | regex.V0)', 'KEY')\n",
      "\n",
      "===============147==================\n",
      "('com/c0bf429a-c03c-4a99-9336-d45be74db5a6/_apis/wit/workItems/33/updates/3', (23689, 23763), 'regex.Regex(\\'((?:(?:[A-Za-z]+[\\\\\\\\p{Nd}\\\\\\\\p{Pd}\\\\\\\\/\\\\\\\\+\\\\\\\\=:_]+|[\\\\\\\\p{Nd}\\\\\\\\p{Pd}\\\\\\\\/\\\\\\\\+\\\\\\\\=:]+[A-Za-z]+)){10,})(?:$|[\\\\\\\\b\\\\\\\\s\\\\\\\\p{Han}@?,!;:\\\\\\\\\\\\\\'\\\\\\\\\")(.])\\', flags=regex.M | regex.V0)', 'KEY')\n",
      "\n",
      "===============147==================\n",
      "('com/c0bf429a-c03c-4a99-9336-d45be74db5a6/_apis/wit/workItems/33/updates', (23874, 23946), 'regex.Regex(\\'((?:(?:[A-Za-z]+[\\\\\\\\p{Nd}\\\\\\\\p{Pd}\\\\\\\\/\\\\\\\\+\\\\\\\\=:_]+|[\\\\\\\\p{Nd}\\\\\\\\p{Pd}\\\\\\\\/\\\\\\\\+\\\\\\\\=:]+[A-Za-z]+)){10,})(?:$|[\\\\\\\\b\\\\\\\\s\\\\\\\\p{Han}@?,!;:\\\\\\\\\\\\\\'\\\\\\\\\")(.])\\', flags=regex.M | regex.V0)', 'KEY')\n",
      "\n",
      "===============147==================\n",
      "('com/c0bf429a-c03c-4a99-9336-d45be74db5a6/_apis/wit/workItems/33', (24214, 24278), 'regex.Regex(\\'((?:(?:[A-Za-z]+[\\\\\\\\p{Nd}\\\\\\\\p{Pd}\\\\\\\\/\\\\\\\\+\\\\\\\\=:_]+|[\\\\\\\\p{Nd}\\\\\\\\p{Pd}\\\\\\\\/\\\\\\\\+\\\\\\\\=:]+[A-Za-z]+)){10,})(?:$|[\\\\\\\\b\\\\\\\\s\\\\\\\\p{Han}@?,!;:\\\\\\\\\\\\\\'\\\\\\\\\")(.])\\', flags=regex.M | regex.V0)', 'KEY')\n",
      "\n",
      "===============147==================\n",
      "('com/c0bf429a-c03c-4a99-9336-d45be74db5a6/_apis/wit/workItems/33/revisions/3', (24401, 24477), 'regex.Regex(\\'((?:(?:[A-Za-z]+[\\\\\\\\p{Nd}\\\\\\\\p{Pd}\\\\\\\\/\\\\\\\\+\\\\\\\\=:_]+|[\\\\\\\\p{Nd}\\\\\\\\p{Pd}\\\\\\\\/\\\\\\\\+\\\\\\\\=:]+[A-Za-z]+)){10,})(?:$|[\\\\\\\\b\\\\\\\\s\\\\\\\\p{Han}@?,!;:\\\\\\\\\\\\\\'\\\\\\\\\")(.])\\', flags=regex.M | regex.V0)', 'KEY')\n",
      "\n",
      "===============147==================\n",
      "('com/c0bf429a-c03c-4a99-9336-d45be74db5a6/_apis/wit/workItems/33/revisions/3', (26047, 26123), 'regex.Regex(\\'((?:(?:[A-Za-z]+[\\\\\\\\p{Nd}\\\\\\\\p{Pd}\\\\\\\\/\\\\\\\\+\\\\\\\\=:_]+|[\\\\\\\\p{Nd}\\\\\\\\p{Pd}\\\\\\\\/\\\\\\\\+\\\\\\\\=:]+[A-Za-z]+)){10,})(?:$|[\\\\\\\\b\\\\\\\\s\\\\\\\\p{Han}@?,!;:\\\\\\\\\\\\\\'\\\\\\\\\")(.])\\', flags=regex.M | regex.V0)', 'KEY')\n",
      "\n",
      "===============147==================\n",
      "('com/c0bf429a-c03c-4a99-9336-d45be74db5a6/_apis/wit/workItems/33/revisions', (26248, 26322), 'regex.Regex(\\'((?:(?:[A-Za-z]+[\\\\\\\\p{Nd}\\\\\\\\p{Pd}\\\\\\\\/\\\\\\\\+\\\\\\\\=:_]+|[\\\\\\\\p{Nd}\\\\\\\\p{Pd}\\\\\\\\/\\\\\\\\+\\\\\\\\=:]+[A-Za-z]+)){10,})(?:$|[\\\\\\\\b\\\\\\\\s\\\\\\\\p{Han}@?,!;:\\\\\\\\\\\\\\'\\\\\\\\\")(.])\\', flags=regex.M | regex.V0)', 'KEY')\n",
      "\n",
      "===============147==================\n",
      "('com/c0bf429a-c03c-4a99-9336-d45be74db5a6/_apis/wit/workItems/33', (26436, 26500), 'regex.Regex(\\'((?:(?:[A-Za-z]+[\\\\\\\\p{Nd}\\\\\\\\p{Pd}\\\\\\\\/\\\\\\\\+\\\\\\\\=:_]+|[\\\\\\\\p{Nd}\\\\\\\\p{Pd}\\\\\\\\/\\\\\\\\+\\\\\\\\=:]+[A-Za-z]+)){10,})(?:$|[\\\\\\\\b\\\\\\\\s\\\\\\\\p{Han}@?,!;:\\\\\\\\\\\\\\'\\\\\\\\\")(.])\\', flags=regex.M | regex.V0)', 'KEY')\n",
      "\n",
      "===============147==================\n",
      "('c0bf429a-c03c-4a99-9336-d45be74db5a6', (27001, 27038), 'regex.Regex(\\'((?:(?:[A-Za-z]+[\\\\\\\\p{Nd}\\\\\\\\p{Pd}\\\\\\\\/\\\\\\\\+\\\\\\\\=:_]+|[\\\\\\\\p{Nd}\\\\\\\\p{Pd}\\\\\\\\/\\\\\\\\+\\\\\\\\=:]+[A-Za-z]+)){10,})(?:$|[\\\\\\\\b\\\\\\\\s\\\\\\\\p{Han}@?,!;:\\\\\\\\\\\\\\'\\\\\\\\\")(.])\\', flags=regex.M | regex.V0)', 'KEY')\n",
      "\n",
      "===============147==================\n",
      "('90e9a854-eb98-4c56-ae1a-035a0f331dd6', (27160, 27197), 'regex.Regex(\\'((?:(?:[A-Za-z]+[\\\\\\\\p{Nd}\\\\\\\\p{Pd}\\\\\\\\/\\\\\\\\+\\\\\\\\=:_]+|[\\\\\\\\p{Nd}\\\\\\\\p{Pd}\\\\\\\\/\\\\\\\\+\\\\\\\\=:]+[A-Za-z]+)){10,})(?:$|[\\\\\\\\b\\\\\\\\s\\\\\\\\p{Han}@?,!;:\\\\\\\\\\\\\\'\\\\\\\\\")(.])\\', flags=regex.M | regex.V0)', 'KEY')\n",
      "\n",
      "===============147==================\n",
      "('com/A90e9a854-eb98-4c56-ae1a-035a0f331dd6/_apis/Identities/21354f98-ab06-67d9-b974-5a54d992082e', (27630, 27726), 'regex.Regex(\\'((?:(?:[A-Za-z]+[\\\\\\\\p{Nd}\\\\\\\\p{Pd}\\\\\\\\/\\\\\\\\+\\\\\\\\=:_]+|[\\\\\\\\p{Nd}\\\\\\\\p{Pd}\\\\\\\\/\\\\\\\\+\\\\\\\\=:]+[A-Za-z]+)){10,})(?:$|[\\\\\\\\b\\\\\\\\s\\\\\\\\p{Han}@?,!;:\\\\\\\\\\\\\\'\\\\\\\\\")(.])\\', flags=regex.M | regex.V0)', 'KEY')\n",
      "\n",
      "===============147==================\n",
      "('com/c0bf429a-c03c-4a99-9336-d45be74db5a6/_apis/wit/workItems/33/updates/3', (28414, 28488), 'regex.Regex(\\'((?:(?:[A-Za-z]+[\\\\\\\\p{Nd}\\\\\\\\p{Pd}\\\\\\\\/\\\\\\\\+\\\\\\\\=:_]+|[\\\\\\\\p{Nd}\\\\\\\\p{Pd}\\\\\\\\/\\\\\\\\+\\\\\\\\=:]+[A-Za-z]+)){10,})(?:$|[\\\\\\\\b\\\\\\\\s\\\\\\\\p{Han}@?,!;:\\\\\\\\\\\\\\'\\\\\\\\\")(.])\\', flags=regex.M | regex.V0)', 'KEY')\n",
      "\n",
      "===============147==================\n",
      "('com/c0bf429a-c03c-4a99-9336-d45be74db5a6/_apis/wit/workItems/33/updates/3', (29590, 29664), 'regex.Regex(\\'((?:(?:[A-Za-z]+[\\\\\\\\p{Nd}\\\\\\\\p{Pd}\\\\\\\\/\\\\\\\\+\\\\\\\\=:_]+|[\\\\\\\\p{Nd}\\\\\\\\p{Pd}\\\\\\\\/\\\\\\\\+\\\\\\\\=:]+[A-Za-z]+)){10,})(?:$|[\\\\\\\\b\\\\\\\\s\\\\\\\\p{Han}@?,!;:\\\\\\\\\\\\\\'\\\\\\\\\")(.])\\', flags=regex.M | regex.V0)', 'KEY')\n",
      "\n",
      "===============147==================\n",
      "('com/c0bf429a-c03c-4a99-9336-d45be74db5a6/_apis/wit/workItems/33/updates', (29775, 29847), 'regex.Regex(\\'((?:(?:[A-Za-z]+[\\\\\\\\p{Nd}\\\\\\\\p{Pd}\\\\\\\\/\\\\\\\\+\\\\\\\\=:_]+|[\\\\\\\\p{Nd}\\\\\\\\p{Pd}\\\\\\\\/\\\\\\\\+\\\\\\\\=:]+[A-Za-z]+)){10,})(?:$|[\\\\\\\\b\\\\\\\\s\\\\\\\\p{Han}@?,!;:\\\\\\\\\\\\\\'\\\\\\\\\")(.])\\', flags=regex.M | regex.V0)', 'KEY')\n",
      "\n",
      "===============147==================\n",
      "('com/c0bf429a-c03c-4a99-9336-d45be74db5a6/_apis/wit/workItems/33', (30115, 30179), 'regex.Regex(\\'((?:(?:[A-Za-z]+[\\\\\\\\p{Nd}\\\\\\\\p{Pd}\\\\\\\\/\\\\\\\\+\\\\\\\\=:_]+|[\\\\\\\\p{Nd}\\\\\\\\p{Pd}\\\\\\\\/\\\\\\\\+\\\\\\\\=:]+[A-Za-z]+)){10,})(?:$|[\\\\\\\\b\\\\\\\\s\\\\\\\\p{Han}@?,!;:\\\\\\\\\\\\\\'\\\\\\\\\")(.])\\', flags=regex.M | regex.V0)', 'KEY')\n",
      "\n",
      "===============147==================\n",
      "('com/c0bf429a-c03c-4a99-9336-d45be74db5a6/_apis/wit/workItems/33/revisions/3', (30302, 30378), 'regex.Regex(\\'((?:(?:[A-Za-z]+[\\\\\\\\p{Nd}\\\\\\\\p{Pd}\\\\\\\\/\\\\\\\\+\\\\\\\\=:_]+|[\\\\\\\\p{Nd}\\\\\\\\p{Pd}\\\\\\\\/\\\\\\\\+\\\\\\\\=:]+[A-Za-z]+)){10,})(?:$|[\\\\\\\\b\\\\\\\\s\\\\\\\\p{Han}@?,!;:\\\\\\\\\\\\\\'\\\\\\\\\")(.])\\', flags=regex.M | regex.V0)', 'KEY')\n",
      "\n",
      "===============147==================\n",
      "('com/c0bf429a-c03c-4a99-9336-d45be74db5a6/_apis/wit/workItems/33/revisions/3', (31948, 32024), 'regex.Regex(\\'((?:(?:[A-Za-z]+[\\\\\\\\p{Nd}\\\\\\\\p{Pd}\\\\\\\\/\\\\\\\\+\\\\\\\\=:_]+|[\\\\\\\\p{Nd}\\\\\\\\p{Pd}\\\\\\\\/\\\\\\\\+\\\\\\\\=:]+[A-Za-z]+)){10,})(?:$|[\\\\\\\\b\\\\\\\\s\\\\\\\\p{Han}@?,!;:\\\\\\\\\\\\\\'\\\\\\\\\")(.])\\', flags=regex.M | regex.V0)', 'KEY')\n",
      "\n",
      "===============147==================\n",
      "('com/c0bf429a-c03c-4a99-9336-d45be74db5a6/_apis/wit/workItems/33/revisions', (32149, 32223), 'regex.Regex(\\'((?:(?:[A-Za-z]+[\\\\\\\\p{Nd}\\\\\\\\p{Pd}\\\\\\\\/\\\\\\\\+\\\\\\\\=:_]+|[\\\\\\\\p{Nd}\\\\\\\\p{Pd}\\\\\\\\/\\\\\\\\+\\\\\\\\=:]+[A-Za-z]+)){10,})(?:$|[\\\\\\\\b\\\\\\\\s\\\\\\\\p{Han}@?,!;:\\\\\\\\\\\\\\'\\\\\\\\\")(.])\\', flags=regex.M | regex.V0)', 'KEY')\n",
      "\n",
      "===============147==================\n",
      "('com/c0bf429a-c03c-4a99-9336-d45be74db5a6/_apis/wit/workItems/33', (32337, 32401), 'regex.Regex(\\'((?:(?:[A-Za-z]+[\\\\\\\\p{Nd}\\\\\\\\p{Pd}\\\\\\\\/\\\\\\\\+\\\\\\\\=:_]+|[\\\\\\\\p{Nd}\\\\\\\\p{Pd}\\\\\\\\/\\\\\\\\+\\\\\\\\=:]+[A-Za-z]+)){10,})(?:$|[\\\\\\\\b\\\\\\\\s\\\\\\\\p{Han}@?,!;:\\\\\\\\\\\\\\'\\\\\\\\\")(.])\\', flags=regex.M | regex.V0)', 'KEY')\n",
      "\n",
      "===============147==================\n",
      "('ac7c05bb-7f8e-4880-85a6-e08f37fd4a10', (33532, 33569), 'regex.Regex(\\'((?:(?:[A-Za-z]+[\\\\\\\\p{Nd}\\\\\\\\p{Pd}\\\\\\\\/\\\\\\\\+\\\\\\\\=:_]+|[\\\\\\\\p{Nd}\\\\\\\\p{Pd}\\\\\\\\/\\\\\\\\+\\\\\\\\=:]+[A-Za-z]+)){10,})(?:$|[\\\\\\\\b\\\\\\\\s\\\\\\\\p{Han}@?,!;:\\\\\\\\\\\\\\'\\\\\\\\\")(.])\\', flags=regex.M | regex.V0)', 'KEY')\n",
      "\n",
      "===============147==================\n",
      "('com/_apis/projects/ac7c05bb-7f8e-4880-85a6-e08f37fd4a10', (33655, 33711), 'regex.Regex(\\'((?:(?:[A-Za-z]+[\\\\\\\\p{Nd}\\\\\\\\p{Pd}\\\\\\\\/\\\\\\\\+\\\\\\\\=:_]+|[\\\\\\\\p{Nd}\\\\\\\\p{Pd}\\\\\\\\/\\\\\\\\+\\\\\\\\=:]+[A-Za-z]+)){10,})(?:$|[\\\\\\\\b\\\\\\\\s\\\\\\\\p{Han}@?,!;:\\\\\\\\\\\\\\'\\\\\\\\\")(.])\\', flags=regex.M | regex.V0)', 'KEY')\n",
      "\n",
      "===============148==================\n",
      "('a9def2a2-54be-40d4-83bf-efc34cc2fbbc', (1924, 1961), 'regex.Regex(\\'((?:(?:[A-Za-z]+[\\\\\\\\p{Nd}\\\\\\\\p{Pd}\\\\\\\\/\\\\\\\\+\\\\\\\\=:_]+|[\\\\\\\\p{Nd}\\\\\\\\p{Pd}\\\\\\\\/\\\\\\\\+\\\\\\\\=:]+[A-Za-z]+)){10,})(?:$|[\\\\\\\\b\\\\\\\\s\\\\\\\\p{Han}@?,!;:\\\\\\\\\\\\\\'\\\\\\\\\")(.])\\', flags=regex.M | regex.V0)', 'KEY')\n",
      "\n",
      "===============152==================\n",
      "('file:////Users/tony/Dropbox/Projects/UW/cse599c-17sp-projects/spark-advantage/data/', (171, 255), 'regex.Regex(\\'((?:(?:[A-Za-z]+[\\\\\\\\p{Nd}\\\\\\\\p{Pd}\\\\\\\\/\\\\\\\\+\\\\\\\\=:_]+|[\\\\\\\\p{Nd}\\\\\\\\p{Pd}\\\\\\\\/\\\\\\\\+\\\\\\\\=:]+[A-Za-z]+)){10,})(?:$|[\\\\\\\\b\\\\\\\\s\\\\\\\\p{Han}@?,!;:\\\\\\\\\\\\\\'\\\\\\\\\")(.])\\', flags=regex.M | regex.V0)', 'KEY')\n",
      "\n",
      "===============154==================\n",
      "('org/wiki/Proposals_for_closing_projects/Closure_of_Simple_English_Wikibooks_', (4078, 4155), 'regex.Regex(\\'((?:(?:[A-Za-z]+[\\\\\\\\p{Nd}\\\\\\\\p{Pd}\\\\\\\\/\\\\\\\\+\\\\\\\\=:_]+|[\\\\\\\\p{Nd}\\\\\\\\p{Pd}\\\\\\\\/\\\\\\\\+\\\\\\\\=:]+[A-Za-z]+)){10,})(?:$|[\\\\\\\\b\\\\\\\\s\\\\\\\\p{Han}@?,!;:\\\\\\\\\\\\\\'\\\\\\\\\")(.])\\', flags=regex.M | regex.V0)', 'KEY')\n",
      "\n",
      "===============154==================\n",
      "('org/wiki/Proposals_for_closing_projects/Closure_of_Basa_Sunda_Wikibooks_', (4209, 4282), 'regex.Regex(\\'((?:(?:[A-Za-z]+[\\\\\\\\p{Nd}\\\\\\\\p{Pd}\\\\\\\\/\\\\\\\\+\\\\\\\\=:_]+|[\\\\\\\\p{Nd}\\\\\\\\p{Pd}\\\\\\\\/\\\\\\\\+\\\\\\\\=:]+[A-Za-z]+)){10,})(?:$|[\\\\\\\\b\\\\\\\\s\\\\\\\\p{Han}@?,!;:\\\\\\\\\\\\\\'\\\\\\\\\")(.])\\', flags=regex.M | regex.V0)', 'KEY')\n",
      "\n",
      "===============159==================\n",
      "('com/torvalds/linux/blob/2bfe01ef/include/uapi/linux/binfmts', (5569, 5629), 'regex.Regex(\\'((?:(?:[A-Za-z]+[\\\\\\\\p{Nd}\\\\\\\\p{Pd}\\\\\\\\/\\\\\\\\+\\\\\\\\=:_]+|[\\\\\\\\p{Nd}\\\\\\\\p{Pd}\\\\\\\\/\\\\\\\\+\\\\\\\\=:]+[A-Za-z]+)){10,})(?:$|[\\\\\\\\b\\\\\\\\s\\\\\\\\p{Han}@?,!;:\\\\\\\\\\\\\\'\\\\\\\\\")(.])\\', flags=regex.M | regex.V0)', 'KEY')\n",
      "\n",
      "===============195==================\n",
      "('372f0f95-6b48-487a-a1ac-383ba580fc1c', (1951, 1988), 'regex.Regex(\\'((?:(?:[A-Za-z]+[\\\\\\\\p{Nd}\\\\\\\\p{Pd}\\\\\\\\/\\\\\\\\+\\\\\\\\=:_]+|[\\\\\\\\p{Nd}\\\\\\\\p{Pd}\\\\\\\\/\\\\\\\\+\\\\\\\\=:]+[A-Za-z]+)){10,})(?:$|[\\\\\\\\b\\\\\\\\s\\\\\\\\p{Han}@?,!;:\\\\\\\\\\\\\\'\\\\\\\\\")(.])\\', flags=regex.M | regex.V0)', 'KEY')\n",
      "\n",
      "===============195==================\n",
      "('372f0f95-6b48-487a-a1ac-383ba580fc1c', (3837, 3874), 'regex.Regex(\\'((?:(?:[A-Za-z]+[\\\\\\\\p{Nd}\\\\\\\\p{Pd}\\\\\\\\/\\\\\\\\+\\\\\\\\=:_]+|[\\\\\\\\p{Nd}\\\\\\\\p{Pd}\\\\\\\\/\\\\\\\\+\\\\\\\\=:]+[A-Za-z]+)){10,})(?:$|[\\\\\\\\b\\\\\\\\s\\\\\\\\p{Han}@?,!;:\\\\\\\\\\\\\\'\\\\\\\\\")(.])\\', flags=regex.M | regex.V0)', 'KEY')\n",
      "\n"
     ]
    }
   ],
   "source": [
    "for i in range(100, 200):\n",
    "    meta = eval(ds_modified[i]['regex_metadata'])\n",
    "    for el in meta:\n",
    "        if \"KEY\" in el:\n",
    "            print('===============%s==================' % i)\n",
    "            print(el)\n",
    "            print()"
   ]
  },
  {
   "cell_type": "markdown",
   "metadata": {},
   "source": [
    "Some examples"
   ]
  },
  {
   "cell_type": "code",
   "execution_count": 54,
   "metadata": {},
   "outputs": [
    {
     "data": {
      "text/plain": [
       "'[(\\'watchedDirectories/workFlowDecisions/createDip/ImagesSIP-69826e50-87a2-4370-b7bd-406fc8aad94f/\\', (1184, 1278), \\'regex.Regex(\\\\\\'((?:(?:[A-Za-z]+[\\\\\\\\\\\\\\\\p{Nd}\\\\\\\\\\\\\\\\p{Pd}\\\\\\\\\\\\\\\\/\\\\\\\\\\\\\\\\+\\\\\\\\\\\\\\\\=:_]+|[\\\\\\\\\\\\\\\\p{Nd}\\\\\\\\\\\\\\\\p{Pd}\\\\\\\\\\\\\\\\/\\\\\\\\\\\\\\\\+\\\\\\\\\\\\\\\\=:]+[A-Za-z]+)){10,})(?:$|[\\\\\\\\\\\\\\\\b\\\\\\\\\\\\\\\\s\\\\\\\\\\\\\\\\p{Han}@?,!;:\\\\\\\\\\\\\\\\\\\\\\\\\\\\\\'\\\\\\\\\\\\\\\\\")(.])\\\\\\', flags=regex.M | regex.V0)\\', \\'KEY\\')]'"
      ]
     },
     "execution_count": 54,
     "metadata": {},
     "output_type": "execute_result"
    }
   ],
   "source": [
    "(ds_modified[\"regex_metadata\"][42])"
   ]
  },
  {
   "cell_type": "code",
   "execution_count": 34,
   "metadata": {},
   "outputs": [
    {
     "data": {
      "text/plain": [
       "'[(\\'<cedric.bellegarde@adishatz.org>\\', (44, 76), \\'regex.Regex(\\\\\\'([^\\\\\\\\\\\\\\\\s@,?!;:)(]+@[^,\\\\\\\\\\\\\\\\s!?;,]{3,}[\\\\\\\\\\\\\\\\.][^\\\\\\\\\\\\\\\\s\\\\\\\\\\\\\\\\b\\\\\\\\\\\\\\\\\\\\\\\\\\\\\\'\\\\\\\\\\\\\\\\\"@,?!;:)(.]+)\\\\\\', flags=regex.M | regex.V0)\\', \\'EMAIL\\')]'"
      ]
     },
     "execution_count": 34,
     "metadata": {},
     "output_type": "execute_result"
    }
   ],
   "source": [
    "ds_modified[\"regex_metadata\"][1]"
   ]
  },
  {
   "cell_type": "code",
   "execution_count": 35,
   "metadata": {},
   "outputs": [
    {
     "data": {
      "text/plain": [
       "'[(\\'ivana.mihalek@gmail.com\\', (717, 740), \\'regex.Regex(\\\\\\'([^\\\\\\\\\\\\\\\\s@,?!;:)(]+@[^,\\\\\\\\\\\\\\\\s!?;,]{3,}[\\\\\\\\\\\\\\\\.][^\\\\\\\\\\\\\\\\s\\\\\\\\\\\\\\\\b\\\\\\\\\\\\\\\\\\\\\\\\\\\\\\'\\\\\\\\\\\\\\\\\"@,?!;:)(.]+)\\\\\\', flags=regex.M | regex.V0)\\', \\'EMAIL\\')]'"
      ]
     },
     "execution_count": 35,
     "metadata": {},
     "output_type": "execute_result"
    }
   ],
   "source": [
    "ds_modified[\"regex_metadata\"][2]"
   ]
  },
  {
   "cell_type": "code",
   "execution_count": 37,
   "metadata": {},
   "outputs": [
    {
     "data": {
      "text/plain": [
       "'[(\\'/build/debpkg/usr/local/lib/mxcart/my_tilers_tools/\\', (1829, 1881), \\'regex.Regex(\\\\\\'((?:(?:[A-Za-z]+[\\\\\\\\\\\\\\\\p{Nd}\\\\\\\\\\\\\\\\p{Pd}\\\\\\\\\\\\\\\\/\\\\\\\\\\\\\\\\+\\\\\\\\\\\\\\\\=:_]+|[\\\\\\\\\\\\\\\\p{Nd}\\\\\\\\\\\\\\\\p{Pd}\\\\\\\\\\\\\\\\/\\\\\\\\\\\\\\\\+\\\\\\\\\\\\\\\\=:]+[A-Za-z]+)){10,})(?:$|[\\\\\\\\\\\\\\\\b\\\\\\\\\\\\\\\\s\\\\\\\\\\\\\\\\p{Han}@?,!;:\\\\\\\\\\\\\\\\\\\\\\\\\\\\\\'\\\\\\\\\\\\\\\\\")(.])\\\\\\', flags=regex.M | regex.V0)\\', \\'KEY\\'), (\\'/build/debpkg/usr/local/share/icons/hicolor/48x48/apps/\\', (2814, 2870), \\'regex.Regex(\\\\\\'((?:(?:[A-Za-z]+[\\\\\\\\\\\\\\\\p{Nd}\\\\\\\\\\\\\\\\p{Pd}\\\\\\\\\\\\\\\\/\\\\\\\\\\\\\\\\+\\\\\\\\\\\\\\\\=:_]+|[\\\\\\\\\\\\\\\\p{Nd}\\\\\\\\\\\\\\\\p{Pd}\\\\\\\\\\\\\\\\/\\\\\\\\\\\\\\\\+\\\\\\\\\\\\\\\\=:]+[A-Za-z]+)){10,})(?:$|[\\\\\\\\\\\\\\\\b\\\\\\\\\\\\\\\\s\\\\\\\\\\\\\\\\p{Han}@?,!;:\\\\\\\\\\\\\\\\\\\\\\\\\\\\\\'\\\\\\\\\\\\\\\\\")(.])\\\\\\', flags=regex.M | regex.V0)\\', \\'KEY\\'), (\\'Icon=/usr/local/share/icons/hicolor/48x48/apps/mxcart\\', (3728, 3782), \\'regex.Regex(\\\\\\'((?:(?:[A-Za-z]+[\\\\\\\\\\\\\\\\p{Nd}\\\\\\\\\\\\\\\\p{Pd}\\\\\\\\\\\\\\\\/\\\\\\\\\\\\\\\\+\\\\\\\\\\\\\\\\=:_]+|[\\\\\\\\\\\\\\\\p{Nd}\\\\\\\\\\\\\\\\p{Pd}\\\\\\\\\\\\\\\\/\\\\\\\\\\\\\\\\+\\\\\\\\\\\\\\\\=:]+[A-Za-z]+)){10,})(?:$|[\\\\\\\\\\\\\\\\b\\\\\\\\\\\\\\\\s\\\\\\\\\\\\\\\\p{Han}@?,!;:\\\\\\\\\\\\\\\\\\\\\\\\\\\\\\'\\\\\\\\\\\\\\\\\")(.])\\\\\\', flags=regex.M | regex.V0)\\', \\'KEY\\')]'"
      ]
     },
     "execution_count": 37,
     "metadata": {},
     "output_type": "execute_result"
    }
   ],
   "source": [
    "ds_modified[\"regex_metadata\"][3]"
   ]
  },
  {
   "cell_type": "code",
   "execution_count": 8,
   "metadata": {},
   "outputs": [
    {
     "data": {
      "text/plain": [
       "'[(\\'andrew.t.bentley@gmail.com\\', (720, 746), \\'regex.Regex(\\\\\\'([^\\\\\\\\\\\\\\\\s@,?!;:\\\\\\\\\\\\\\\\\\\\\\\\\\\\\\'=)(]+@[^,\\\\\\\\\\\\\\\\s!?;,]{3,}[\\\\\\\\\\\\\\\\.][^\\\\\\\\\\\\\\\\s\\\\\\\\\\\\\\\\b\\\\\\\\\\\\\\\\\\\\\\\\\\\\\\'\\\\\\\\\\\\\\\\\"@,?!;:)(.]+)\\\\\\', flags=regex.M | regex.V0)\\', \\'EMAIL\\')]'"
      ]
     },
     "execution_count": 8,
     "metadata": {},
     "output_type": "execute_result"
    }
   ],
   "source": [
    "ds_modified[\"regex_metadata\"][4]"
   ]
  },
  {
   "cell_type": "code",
   "execution_count": 13,
   "metadata": {},
   "outputs": [
    {
     "name": "stdout",
     "output_type": "stream",
     "text": [
      "sion(),\n",
      "    url='http://github.com/atbentley/plank/',\n",
      "    license='MIT',\n",
      "    author='Andrew Bentley',\n",
      "    author_email='andrew.t.bentley@gmail.com',\n",
      "    description=\"A simple task and build runner tha\n"
     ]
    }
   ],
   "source": [
    "print(ds_modified[\"old_text\"][4][600:800])"
   ]
  },
  {
   "cell_type": "code",
   "execution_count": 12,
   "metadata": {},
   "outputs": [
    {
     "name": "stdout",
     "output_type": "stream",
     "text": [
      "sion(),\n",
      "    url='http://github.com/atbentley/plank/',\n",
      "    license='MIT',\n",
      "    author='Andrew Bentley',\n",
      "    author_email='dummy@email.com',\n",
      "    description=\"A simple task and build runner that doesn't g\n"
     ]
    }
   ],
   "source": [
    "print(ds_modified[\"content\"][4][600:800])"
   ]
  },
  {
   "cell_type": "code",
   "execution_count": 15,
   "metadata": {},
   "outputs": [
    {
     "name": "stdout",
     "output_type": "stream",
     "text": [
      "[('192.168.88.1', (1886, 1900), 'regex.Regex(\\'(?:^|[\\\\\\\\b\\\\\\\\s@?,!;:\\\\\\\\\\\\\\'\\\\\\\\\")(.\\\\\\\\p{Han}])((?:25[0-5]|2[0-4][0-9]|[01]?[0-9][0-9]?)(?:\\\\\\\\.(?:25[0-5]|2[0-4][0-9]|[01]?[0-9][0-9]?)){3}|(?:[0-9a-fA-F]{1,4}:){7,7}[0-9a-fA-F]{1,4}|(?:[0-9a-fA-F]{1,4}:){1,7}:|(?:[0-9a-fA-F]{1,4}:){1,6}:[0-9a-fA-F]{1,4}|(?:[0-9a-fA-F]{1,4}:){1,5}(?::[0-9a-fA-F]{1,4}){1,2}|(?:[0-9a-fA-F]{1,4}:){1,4}(?::[0-9a-fA-F]{1,4}){1,3}|(?:[0-9a-fA-F]{1,4}:){1,3}(?::[0-9a-fA-F]{1,4}){1,4}|(?:[0-9a-fA-F]{1,4}:){1,2}(?::[0-9a-fA-F]{1,4}){1,5}|[0-9a-fA-F]{1,4}:(?:(?::[0-9a-fA-F]{1,4}){1,6})|:(?:(?::[0-9a-fA-F]{1,4}){1,7}|:)|fe80:(?::[0-9a-fA-F]{0,4}){0,4}%[0-9a-zA-Z]{1,}|::(?:ffff(?::0{1,4}){0,1}:){0,1}(?:(?:25[0-5]|(?:2[0-4]|1{0,1}[0-9]){0,1}[0-9])\\\\\\\\.){3,3}(?:25[0-5]|(?:2[0-4]|1{0,1}[0-9]){0,1}[0-9])|(?:[0-9a-fA-F]{1,4}:){1,4}:(?:(?:25[0-5]|(?:2[0-4]|1{0,1}[0-9]){0,1}[0-9])\\\\\\\\.){3,3}(25[0-5]|(?:2[0-4]|1{0,1}[0-9]){0,1}[0-9]))(?:$|[\\\\\\\\s@,?!;:\\\\\\'\"(.\\\\\\\\p{Han}])\\', flags=regex.M | regex.V0)', 'IP_ADDRESS')]\n"
     ]
    }
   ],
   "source": [
    "print(ds_modified[\"regex_metadata\"][5])"
   ]
  },
  {
   "cell_type": "code",
   "execution_count": 29,
   "metadata": {},
   "outputs": [
    {
     "name": "stdout",
     "output_type": "stream",
     "text": [
      "[('9bea85795705d015cdadc82c68b99196a8554f5c', (34916, 34957), 'regex.Regex(\\'((?:(?:[A-Za-z]+[\\\\\\\\p{Nd}\\\\\\\\p{Pd}\\\\\\\\/\\\\\\\\+\\\\\\\\=:_]+|[\\\\\\\\p{Nd}\\\\\\\\p{Pd}\\\\\\\\/\\\\\\\\+\\\\\\\\=:]+[A-Za-z]+)){10,})(?:$|[\\\\\\\\b\\\\\\\\s\\\\\\\\p{Han}@?,!;:\\\\\\\\\\\\\\'\\\\\\\\\")(.])\\', flags=regex.M | regex.V0)', 'KEY'), ('super@example.com', (53204, 53221), 'regex.Regex(\\'([^\\\\\\\\s@,?!;:\\\\\\\\\\\\\\'=)(]+@[^,\\\\\\\\s!?;,]{3,}[\\\\\\\\.][^\\\\\\\\s\\\\\\\\b\\\\\\\\\\\\\\'\\\\\\\\\"@,?!;:)(.]+)\\', flags=regex.M | regex.V0)', 'EMAIL'), ('super@example.com', (53387, 53404), 'regex.Regex(\\'([^\\\\\\\\s@,?!;:\\\\\\\\\\\\\\'=)(]+@[^,\\\\\\\\s!?;,]{3,}[\\\\\\\\.][^\\\\\\\\s\\\\\\\\b\\\\\\\\\\\\\\'\\\\\\\\\"@,?!;:)(.]+)\\', flags=regex.M | regex.V0)', 'EMAIL'), ('super@example.com', (55475, 55492), 'regex.Regex(\\'([^\\\\\\\\s@,?!;:\\\\\\\\\\\\\\'=)(]+@[^,\\\\\\\\s!?;,]{3,}[\\\\\\\\.][^\\\\\\\\s\\\\\\\\b\\\\\\\\\\\\\\'\\\\\\\\\"@,?!;:)(.]+)\\', flags=regex.M | regex.V0)', 'EMAIL'), ('//input[@value=\"Save\"]\\').click', (175046, 175076), 'regex.Regex(\\'([^\\\\\\\\s@,?!;:\\\\\\\\\\\\\\'=)(]+@[^,\\\\\\\\s!?;,]{3,}[\\\\\\\\.][^\\\\\\\\s\\\\\\\\b\\\\\\\\\\\\\\'\\\\\\\\\"@,?!;:)(.]+)\\', flags=regex.M | regex.V0)', 'EMAIL'), ('//input[@value=\"Save\"]\\').click', (178159, 178189), 'regex.Regex(\\'([^\\\\\\\\s@,?!;:\\\\\\\\\\\\\\'=)(]+@[^,\\\\\\\\s!?;,]{3,}[\\\\\\\\.][^\\\\\\\\s\\\\\\\\b\\\\\\\\\\\\\\'\\\\\\\\\"@,?!;:)(.]+)\\', flags=regex.M | regex.V0)', 'EMAIL')]\n"
     ]
    }
   ],
   "source": [
    "print(ds_modified[\"regex_metadata\"][9])"
   ]
  },
  {
   "cell_type": "code",
   "execution_count": 139,
   "metadata": {},
   "outputs": [
    {
     "name": "stdout",
     "output_type": "stream",
     "text": [
      "f.super_email_login = {\n",
      "            REDIRECT_FIELD_NAME: '/test_admin/admin/',\n",
      "            'username': 'super@example.com',\n",
      "            'password': 'secret',\n",
      "        }\n",
      "        self.super_email_bad_login = {\n",
      "            REDIRECT_FIELD_NAME: '/test_admin/admin/',\n",
      "            'username': 'super@example\n"
     ]
    }
   ],
   "source": [
    "#(ds_modified[\"old_text\"][9]).index(\"super@\")\n",
    "print(ds_modified[\"old_text\"][9][53100:53400])"
   ]
  },
  {
   "cell_type": "code",
   "execution_count": 38,
   "metadata": {},
   "outputs": [
    {
     "name": "stdout",
     "output_type": "stream",
     "text": [
      "[('\"aeronaut@pianoguy.de', (319, 340), 'regex.Regex(\\'([^\\\\\\\\s@,?!;:\\\\\\\\\\\\\\'=)(]+@[^,\\\\\\\\s!?;,]{3,}[\\\\\\\\.][^\\\\\\\\s\\\\\\\\b\\\\\\\\\\\\\\'\\\\\\\\\"@,?!;:)(.]+)\\', flags=regex.M | regex.V0)', 'EMAIL'), ('\"vuolter@gmail.com', (386, 404), 'regex.Regex(\\'([^\\\\\\\\s@,?!;:\\\\\\\\\\\\\\'=)(]+@[^,\\\\\\\\s!?;,]{3,}[\\\\\\\\.][^\\\\\\\\s\\\\\\\\b\\\\\\\\\\\\\\'\\\\\\\\\"@,?!;:)(.]+)\\', flags=regex.M | regex.V0)', 'EMAIL')]\n"
     ]
    }
   ],
   "source": [
    "print(ds_modified[\"regex_metadata\"][6])"
   ]
  },
  {
   "cell_type": "code",
   "execution_count": 39,
   "metadata": {},
   "outputs": [
    {
     "name": "stdout",
     "output_type": "stream",
     "text": [
      "[('marc@marc-abramowitz.com', (249, 273), 'regex.Regex(\\'([^\\\\\\\\s@,?!;:\\\\\\\\\\\\\\'=)(]+@[^,\\\\\\\\s!?;,]{3,}[\\\\\\\\.][^\\\\\\\\s\\\\\\\\b\\\\\\\\\\\\\\'\\\\\\\\\"@,?!;:)(.]+)\\', flags=regex.M | regex.V0)', 'EMAIL')]\n"
     ]
    }
   ],
   "source": [
    "print(ds_modified[\"regex_metadata\"][7])"
   ]
  },
  {
   "cell_type": "code",
   "execution_count": 40,
   "metadata": {},
   "outputs": [
    {
     "name": "stdout",
     "output_type": "stream",
     "text": [
      "[('192.168.1.2', (809, 822), 'regex.Regex(\\'(?:^|[\\\\\\\\b\\\\\\\\s@?,!;:\\\\\\\\\\\\\\'\\\\\\\\\")(.\\\\\\\\p{Han}])((?:25[0-5]|2[0-4][0-9]|[01]?[0-9][0-9]?)(?:\\\\\\\\.(?:25[0-5]|2[0-4][0-9]|[01]?[0-9][0-9]?)){3}|(?:[0-9a-fA-F]{1,4}:){7,7}[0-9a-fA-F]{1,4}|(?:[0-9a-fA-F]{1,4}:){1,7}:|(?:[0-9a-fA-F]{1,4}:){1,6}:[0-9a-fA-F]{1,4}|(?:[0-9a-fA-F]{1,4}:){1,5}(?::[0-9a-fA-F]{1,4}){1,2}|(?:[0-9a-fA-F]{1,4}:){1,4}(?::[0-9a-fA-F]{1,4}){1,3}|(?:[0-9a-fA-F]{1,4}:){1,3}(?::[0-9a-fA-F]{1,4}){1,4}|(?:[0-9a-fA-F]{1,4}:){1,2}(?::[0-9a-fA-F]{1,4}){1,5}|[0-9a-fA-F]{1,4}:(?:(?::[0-9a-fA-F]{1,4}){1,6})|:(?:(?::[0-9a-fA-F]{1,4}){1,7}|:)|fe80:(?::[0-9a-fA-F]{0,4}){0,4}%[0-9a-zA-Z]{1,}|::(?:ffff(?::0{1,4}){0,1}:){0,1}(?:(?:25[0-5]|(?:2[0-4]|1{0,1}[0-9]){0,1}[0-9])\\\\\\\\.){3,3}(?:25[0-5]|(?:2[0-4]|1{0,1}[0-9]){0,1}[0-9])|(?:[0-9a-fA-F]{1,4}:){1,4}:(?:(?:25[0-5]|(?:2[0-4]|1{0,1}[0-9]){0,1}[0-9])\\\\\\\\.){3,3}(25[0-5]|(?:2[0-4]|1{0,1}[0-9]){0,1}[0-9]))(?:$|[\\\\\\\\s@,?!;:\\\\\\'\"(.\\\\\\\\p{Han}])\\', flags=regex.M | regex.V0)', 'IP_ADDRESS')]\n"
     ]
    }
   ],
   "source": [
    "print(ds_modified[\"regex_metadata\"][8])"
   ]
  },
  {
   "cell_type": "code",
   "execution_count": 11,
   "metadata": {},
   "outputs": [
    {
     "name": "stdout",
     "output_type": "stream",
     "text": [
      "[('10.254.254.28', (453, 468), 'regex.Regex(\\'(?:^|[\\\\\\\\b\\\\\\\\s@?,!;:\\\\\\\\\\\\\\'\\\\\\\\\")(.\\\\\\\\p{Han}])((?:25[0-5]|2[0-4][0-9]|[01]?[0-9][0-9]?)(?:\\\\\\\\.(?:25[0-5]|2[0-4][0-9]|[01]?[0-9][0-9]?)){3}|(?:[0-9a-fA-F]{1,4}:){7,7}[0-9a-fA-F]{1,4}|(?:[0-9a-fA-F]{1,4}:){1,7}:|(?:[0-9a-fA-F]{1,4}:){1,6}:[0-9a-fA-F]{1,4}|(?:[0-9a-fA-F]{1,4}:){1,5}(?::[0-9a-fA-F]{1,4}){1,2}|(?:[0-9a-fA-F]{1,4}:){1,4}(?::[0-9a-fA-F]{1,4}){1,3}|(?:[0-9a-fA-F]{1,4}:){1,3}(?::[0-9a-fA-F]{1,4}){1,4}|(?:[0-9a-fA-F]{1,4}:){1,2}(?::[0-9a-fA-F]{1,4}){1,5}|[0-9a-fA-F]{1,4}:(?:(?::[0-9a-fA-F]{1,4}){1,6})|:(?:(?::[0-9a-fA-F]{1,4}){1,7}|:)|fe80:(?::[0-9a-fA-F]{0,4}){0,4}%[0-9a-zA-Z]{1,}|::(?:ffff(?::0{1,4}){0,1}:){0,1}(?:(?:25[0-5]|(?:2[0-4]|1{0,1}[0-9]){0,1}[0-9])\\\\\\\\.){3,3}(?:25[0-5]|(?:2[0-4]|1{0,1}[0-9]){0,1}[0-9])|(?:[0-9a-fA-F]{1,4}:){1,4}:(?:(?:25[0-5]|(?:2[0-4]|1{0,1}[0-9]){0,1}[0-9])\\\\\\\\.){3,3}(25[0-5]|(?:2[0-4]|1{0,1}[0-9]){0,1}[0-9]))(?:$|[\\\\\\\\s@,?!;:\\\\\\'\"(.\\\\\\\\p{Han}])\\', flags=regex.M | regex.V0)', 'IP_ADDRESS')]\n"
     ]
    }
   ],
   "source": [
    "print(ds_modified[\"regex_metadata\"][11])"
   ]
  },
  {
   "cell_type": "code",
   "execution_count": 142,
   "metadata": {},
   "outputs": [
    {
     "name": "stdout",
     "output_type": "stream",
     "text": [
      "ort sys\n",
      "from urllib.request import urlretrieve\n",
      "from pathlib import Path\n",
      "\n",
      "\"\"\"Logpuzzle exercise\n",
      "Given an apache logfile, find the puzzle urls and download the images.\n",
      "\n",
      "Here's what a puzzle url looks like:\n",
      "10.254.254.28 - - [06/Aug/2007:00:13:48 -0700] \"GET /~foo/puzzle-bar-aaab.jpg HTTP/1.0\" 302 528 \"-\" \"Mozilla/5.0 (Wi\n"
     ]
    }
   ],
   "source": [
    "print(ds_modified[\"old_text\"][11][250:570])"
   ]
  },
  {
   "cell_type": "code",
   "execution_count": 17,
   "metadata": {},
   "outputs": [
    {
     "name": "stdout",
     "output_type": "stream",
     "text": [
      "[('zoidberg@mujmail.cz', (390, 409), 'regex.Regex(\\'([^\\\\\\\\s@,?!;:\\\\\\\\\\\\\\'\\\\\\\\\"=)(]+@[^,\\\\\\\\s!?;,\\\\\\\\\\\\\\'\\\\\\\\\"=]{3,}[\\\\\\\\.][^\\\\\\\\s\\\\\\\\b\\\\\\\\\\\\\\'\\\\\\\\\"@,?!;:)(.]+)\\', flags=regex.M | regex.V0)', 'EMAIL')]\n"
     ]
    }
   ],
   "source": [
    "print(ds_modified[\"regex_metadata\"][12])"
   ]
  },
  {
   "cell_type": "code",
   "execution_count": 18,
   "metadata": {},
   "outputs": [
    {
     "name": "stdout",
     "output_type": "stream",
     "text": [
      "[('<wackou@gmail.com>', (140, 158), 'regex.Regex(\\'([^\\\\\\\\s@,?!;:\\\\\\\\\\\\\\'\\\\\\\\\"=)(]+@[^,\\\\\\\\s!?;,\\\\\\\\\\\\\\'\\\\\\\\\"=]{3,}[\\\\\\\\.][^\\\\\\\\s\\\\\\\\b\\\\\\\\\\\\\\'\\\\\\\\\"@,?!;:)(.]+)\\', flags=regex.M | regex.V0)', 'EMAIL'), ('0.0.0.0', (14127, 14136), 'regex.Regex(\\'(?:^|[\\\\\\\\b\\\\\\\\s@?,!;:\\\\\\\\\\\\\\'\\\\\\\\\")(.\\\\\\\\p{Han}])((?:25[0-5]|2[0-4][0-9]|[01]?[0-9][0-9]?)(?:\\\\\\\\.(?:25[0-5]|2[0-4][0-9]|[01]?[0-9][0-9]?)){3}|(?:[0-9a-fA-F]{1,4}:){7,7}[0-9a-fA-F]{1,4}|(?:[0-9a-fA-F]{1,4}:){1,7}:|(?:[0-9a-fA-F]{1,4}:){1,6}:[0-9a-fA-F]{1,4}|(?:[0-9a-fA-F]{1,4}:){1,5}(?::[0-9a-fA-F]{1,4}){1,2}|(?:[0-9a-fA-F]{1,4}:){1,4}(?::[0-9a-fA-F]{1,4}){1,3}|(?:[0-9a-fA-F]{1,4}:){1,3}(?::[0-9a-fA-F]{1,4}){1,4}|(?:[0-9a-fA-F]{1,4}:){1,2}(?::[0-9a-fA-F]{1,4}){1,5}|[0-9a-fA-F]{1,4}:(?:(?::[0-9a-fA-F]{1,4}){1,6})|:(?:(?::[0-9a-fA-F]{1,4}){1,7}|:)|fe80:(?::[0-9a-fA-F]{0,4}){0,4}%[0-9a-zA-Z]{1,}|::(?:ffff(?::0{1,4}){0,1}:){0,1}(?:(?:25[0-5]|(?:2[0-4]|1{0,1}[0-9]){0,1}[0-9])\\\\\\\\.){3,3}(?:25[0-5]|(?:2[0-4]|1{0,1}[0-9]){0,1}[0-9])|(?:[0-9a-fA-F]{1,4}:){1,4}:(?:(?:25[0-5]|(?:2[0-4]|1{0,1}[0-9]){0,1}[0-9])\\\\\\\\.){3,3}(25[0-5]|(?:2[0-4]|1{0,1}[0-9]){0,1}[0-9]))(?:$|[\\\\\\\\s@,?!;:\\\\\\'\"(.\\\\\\\\p{Han}])\\', flags=regex.M | regex.V0)', 'IP_ADDRESS'), ('127.0.0.1', (18960, 18971), 'regex.Regex(\\'(?:^|[\\\\\\\\b\\\\\\\\s@?,!;:\\\\\\\\\\\\\\'\\\\\\\\\")(.\\\\\\\\p{Han}])((?:25[0-5]|2[0-4][0-9]|[01]?[0-9][0-9]?)(?:\\\\\\\\.(?:25[0-5]|2[0-4][0-9]|[01]?[0-9][0-9]?)){3}|(?:[0-9a-fA-F]{1,4}:){7,7}[0-9a-fA-F]{1,4}|(?:[0-9a-fA-F]{1,4}:){1,7}:|(?:[0-9a-fA-F]{1,4}:){1,6}:[0-9a-fA-F]{1,4}|(?:[0-9a-fA-F]{1,4}:){1,5}(?::[0-9a-fA-F]{1,4}){1,2}|(?:[0-9a-fA-F]{1,4}:){1,4}(?::[0-9a-fA-F]{1,4}){1,3}|(?:[0-9a-fA-F]{1,4}:){1,3}(?::[0-9a-fA-F]{1,4}){1,4}|(?:[0-9a-fA-F]{1,4}:){1,2}(?::[0-9a-fA-F]{1,4}){1,5}|[0-9a-fA-F]{1,4}:(?:(?::[0-9a-fA-F]{1,4}){1,6})|:(?:(?::[0-9a-fA-F]{1,4}){1,7}|:)|fe80:(?::[0-9a-fA-F]{0,4}){0,4}%[0-9a-zA-Z]{1,}|::(?:ffff(?::0{1,4}){0,1}:){0,1}(?:(?:25[0-5]|(?:2[0-4]|1{0,1}[0-9]){0,1}[0-9])\\\\\\\\.){3,3}(?:25[0-5]|(?:2[0-4]|1{0,1}[0-9]){0,1}[0-9])|(?:[0-9a-fA-F]{1,4}:){1,4}:(?:(?:25[0-5]|(?:2[0-4]|1{0,1}[0-9]){0,1}[0-9])\\\\\\\\.){3,3}(25[0-5]|(?:2[0-4]|1{0,1}[0-9]){0,1}[0-9]))(?:$|[\\\\\\\\s@,?!;:\\\\\\'\"(.\\\\\\\\p{Han}])\\', flags=regex.M | regex.V0)', 'IP_ADDRESS'), ('123.123.123.123', (23248, 23265), 'regex.Regex(\\'(?:^|[\\\\\\\\b\\\\\\\\s@?,!;:\\\\\\\\\\\\\\'\\\\\\\\\")(.\\\\\\\\p{Han}])((?:25[0-5]|2[0-4][0-9]|[01]?[0-9][0-9]?)(?:\\\\\\\\.(?:25[0-5]|2[0-4][0-9]|[01]?[0-9][0-9]?)){3}|(?:[0-9a-fA-F]{1,4}:){7,7}[0-9a-fA-F]{1,4}|(?:[0-9a-fA-F]{1,4}:){1,7}:|(?:[0-9a-fA-F]{1,4}:){1,6}:[0-9a-fA-F]{1,4}|(?:[0-9a-fA-F]{1,4}:){1,5}(?::[0-9a-fA-F]{1,4}){1,2}|(?:[0-9a-fA-F]{1,4}:){1,4}(?::[0-9a-fA-F]{1,4}){1,3}|(?:[0-9a-fA-F]{1,4}:){1,3}(?::[0-9a-fA-F]{1,4}){1,4}|(?:[0-9a-fA-F]{1,4}:){1,2}(?::[0-9a-fA-F]{1,4}){1,5}|[0-9a-fA-F]{1,4}:(?:(?::[0-9a-fA-F]{1,4}){1,6})|:(?:(?::[0-9a-fA-F]{1,4}){1,7}|:)|fe80:(?::[0-9a-fA-F]{0,4}){0,4}%[0-9a-zA-Z]{1,}|::(?:ffff(?::0{1,4}){0,1}:){0,1}(?:(?:25[0-5]|(?:2[0-4]|1{0,1}[0-9]){0,1}[0-9])\\\\\\\\.){3,3}(?:25[0-5]|(?:2[0-4]|1{0,1}[0-9]){0,1}[0-9])|(?:[0-9a-fA-F]{1,4}:){1,4}:(?:(?:25[0-5]|(?:2[0-4]|1{0,1}[0-9]){0,1}[0-9])\\\\\\\\.){3,3}(25[0-5]|(?:2[0-4]|1{0,1}[0-9]){0,1}[0-9]))(?:$|[\\\\\\\\s@,?!;:\\\\\\'\"(.\\\\\\\\p{Han}])\\', flags=regex.M | regex.V0)', 'IP_ADDRESS')]\n"
     ]
    }
   ],
   "source": [
    "print(ds_modified[\"regex_metadata\"][13])"
   ]
  },
  {
   "cell_type": "code",
   "execution_count": 21,
   "metadata": {},
   "outputs": [
    {
     "data": {
      "text/plain": [
       "23249"
      ]
     },
     "execution_count": 21,
     "metadata": {},
     "output_type": "execute_result"
    }
   ],
   "source": [
    "(ds_modified[\"old_text\"][13]).index(\"123.123.123.123\")"
   ]
  },
  {
   "cell_type": "code",
   "execution_count": 144,
   "metadata": {},
   "outputs": [
    {
     "name": "stdout",
     "output_type": "stream",
     "text": [
      "ironment(args.environment)\n",
      "        print()\n",
      "        if len(args.args) != 2:\n",
      "            log.error('You need to specify a deployment config file as argument and a host ip or vps provider')\n",
      "            log.error('eg: bts deploy_node deploy_config.yaml 123.123.123.123  # use given host for install')\n",
      "   \n"
     ]
    }
   ],
   "source": [
    "print(ds_modified[\"old_text\"][13][23000:23300])"
   ]
  },
  {
   "cell_type": "code",
   "execution_count": 29,
   "metadata": {},
   "outputs": [
    {
     "name": "stdout",
     "output_type": "stream",
     "text": [
      "[('ngakan.gandhi@packet-systems.com', (53, 85), 'regex.Regex(\\'([^\\\\\\\\s@,?!;:\\\\\\\\\\\\\\'\\\\\\\\\"=)(]+@[^,\\\\\\\\s!?;,\\\\\\\\\\\\\\'\\\\\\\\\"=]{3,}[\\\\\\\\.][^\\\\\\\\s\\\\\\\\b\\\\\\\\\\\\\\'\\\\\\\\\"@,?!;:)(.]+)\\', flags=regex.M | regex.V0)', 'EMAIL')]\n",
      "[('<amix.pal@gmail.com>', (114, 134), 'regex.Regex(\\'([^\\\\\\\\s@,?!;:\\\\\\\\\\\\\\'\\\\\\\\\"=)(]+@[^,\\\\\\\\s!?;,\\\\\\\\\\\\\\'\\\\\\\\\"=]{3,}[\\\\\\\\.][^\\\\\\\\s\\\\\\\\b\\\\\\\\\\\\\\'\\\\\\\\\"@,?!;:)(.]+)\\', flags=regex.M | regex.V0)', 'EMAIL')]\n",
      "[('<sduenas@bitergia.com>', (730, 752), 'regex.Regex(\\'([^\\\\\\\\s@,?!;:\\\\\\\\\\\\\\'\\\\\\\\\"=)(]+@[^,\\\\\\\\s!?;,\\\\\\\\\\\\\\'\\\\\\\\\"=]{3,}[\\\\\\\\.][^\\\\\\\\s\\\\\\\\b\\\\\\\\\\\\\\'\\\\\\\\\"@,?!;:)(.]+)\\', flags=regex.M | regex.V0)', 'EMAIL'), ('<quan@bitergia.com>', (769, 788), 'regex.Regex(\\'([^\\\\\\\\s@,?!;:\\\\\\\\\\\\\\'\\\\\\\\\"=)(]+@[^,\\\\\\\\s!?;,\\\\\\\\\\\\\\'\\\\\\\\\"=]{3,}[\\\\\\\\.][^\\\\\\\\s\\\\\\\\b\\\\\\\\\\\\\\'\\\\\\\\\"@,?!;:)(.]+)\\', flags=regex.M | regex.V0)', 'EMAIL'), ('P<email>[^\\\\s@]+@[^\\\\s@.]+\\\\.[^\\\\s', (2365, 2395), 'regex.Regex(\\'([^\\\\\\\\s@,?!;:\\\\\\\\\\\\\\'\\\\\\\\\"=)(]+@[^,\\\\\\\\s!?;,\\\\\\\\\\\\\\'\\\\\\\\\"=]{3,}[\\\\\\\\.][^\\\\\\\\s\\\\\\\\b\\\\\\\\\\\\\\'\\\\\\\\\"@,?!;:)(.]+)\\', flags=regex.M | regex.V0)', 'EMAIL'), ('jsmith@example.com', (6961, 6979), 'regex.Regex(\\'([^\\\\\\\\s@,?!;:\\\\\\\\\\\\\\'\\\\\\\\\"=)(]+@[^,\\\\\\\\s!?;,\\\\\\\\\\\\\\'\\\\\\\\\"=]{3,}[\\\\\\\\.][^\\\\\\\\s\\\\\\\\b\\\\\\\\\\\\\\'\\\\\\\\\"@,?!;:)(.]+)\\', flags=regex.M | regex.V0)', 'EMAIL'), ('jsmith@example.net', (6983, 7001), 'regex.Regex(\\'([^\\\\\\\\s@,?!;:\\\\\\\\\\\\\\'\\\\\\\\\"=)(]+@[^,\\\\\\\\s!?;,\\\\\\\\\\\\\\'\\\\\\\\\"=]{3,}[\\\\\\\\.][^\\\\\\\\s\\\\\\\\b\\\\\\\\\\\\\\'\\\\\\\\\"@,?!;:)(.]+)\\', flags=regex.M | regex.V0)', 'EMAIL'), ('jsmith@example.net', (7010, 7028), 'regex.Regex(\\'([^\\\\\\\\s@,?!;:\\\\\\\\\\\\\\'\\\\\\\\\"=)(]+@[^,\\\\\\\\s!?;,\\\\\\\\\\\\\\'\\\\\\\\\"=]{3,}[\\\\\\\\.][^\\\\\\\\s\\\\\\\\b\\\\\\\\\\\\\\'\\\\\\\\\"@,?!;:)(.]+)\\', flags=regex.M | regex.V0)', 'EMAIL'), ('johnsmith@example.com', (7032, 7053), 'regex.Regex(\\'([^\\\\\\\\s@,?!;:\\\\\\\\\\\\\\'\\\\\\\\\"=)(]+@[^,\\\\\\\\s!?;,\\\\\\\\\\\\\\'\\\\\\\\\"=]{3,}[\\\\\\\\.][^\\\\\\\\s\\\\\\\\b\\\\\\\\\\\\\\'\\\\\\\\\"@,?!;:)(.]+)\\', flags=regex.M | regex.V0)', 'EMAIL'), ('jdoe@example.com', (7062, 7078), 'regex.Regex(\\'([^\\\\\\\\s@,?!;:\\\\\\\\\\\\\\'\\\\\\\\\"=)(]+@[^,\\\\\\\\s!?;,\\\\\\\\\\\\\\'\\\\\\\\\"=]{3,}[\\\\\\\\.][^\\\\\\\\s\\\\\\\\b\\\\\\\\\\\\\\'\\\\\\\\\"@,?!;:)(.]+)\\', flags=regex.M | regex.V0)', 'EMAIL'), ('john_doe@example.com', (7084, 7104), 'regex.Regex(\\'([^\\\\\\\\s@,?!;:\\\\\\\\\\\\\\'\\\\\\\\\"=)(]+@[^,\\\\\\\\s!?;,\\\\\\\\\\\\\\'\\\\\\\\\"=]{3,}[\\\\\\\\.][^\\\\\\\\s\\\\\\\\b\\\\\\\\\\\\\\'\\\\\\\\\"@,?!;:)(.]+)\\', flags=regex.M | regex.V0)', 'EMAIL'), ('john_doe@example.com', (7135, 7155), 'regex.Regex(\\'([^\\\\\\\\s@,?!;:\\\\\\\\\\\\\\'\\\\\\\\\"=)(]+@[^,\\\\\\\\s!?;,\\\\\\\\\\\\\\'\\\\\\\\\"=]{3,}[\\\\\\\\.][^\\\\\\\\s\\\\\\\\b\\\\\\\\\\\\\\'\\\\\\\\\"@,?!;:)(.]+)\\', flags=regex.M | regex.V0)', 'EMAIL'), ('jsmith@example.com', (7941, 7959), 'regex.Regex(\\'([^\\\\\\\\s@,?!;:\\\\\\\\\\\\\\'\\\\\\\\\"=)(]+@[^,\\\\\\\\s!?;,\\\\\\\\\\\\\\'\\\\\\\\\"=]{3,}[\\\\\\\\.][^\\\\\\\\s\\\\\\\\b\\\\\\\\\\\\\\'\\\\\\\\\"@,?!;:)(.]+)\\', flags=regex.M | regex.V0)', 'EMAIL'), ('jdoe@example.com', (8000, 8016), 'regex.Regex(\\'([^\\\\\\\\s@,?!;:\\\\\\\\\\\\\\'\\\\\\\\\"=)(]+@[^,\\\\\\\\s!?;,\\\\\\\\\\\\\\'\\\\\\\\\"=]{3,}[\\\\\\\\.][^\\\\\\\\s\\\\\\\\b\\\\\\\\\\\\\\'\\\\\\\\\"@,?!;:)(.]+)\\', flags=regex.M | regex.V0)', 'EMAIL'), ('jsmith@example.com', (8057, 8075), 'regex.Regex(\\'([^\\\\\\\\s@,?!;:\\\\\\\\\\\\\\'\\\\\\\\\"=)(]+@[^,\\\\\\\\s!?;,\\\\\\\\\\\\\\'\\\\\\\\\"=]{3,}[\\\\\\\\.][^\\\\\\\\s\\\\\\\\b\\\\\\\\\\\\\\'\\\\\\\\\"@,?!;:)(.]+)\\', flags=regex.M | regex.V0)', 'EMAIL')]\n"
     ]
    }
   ],
   "source": [
    "print(ds_modified[\"regex_metadata\"][14])\n",
    "print(ds_modified[\"regex_metadata\"][15])\n",
    "print(ds_modified[\"regex_metadata\"][16])"
   ]
  },
  {
   "cell_type": "code",
   "execution_count": 34,
   "metadata": {},
   "outputs": [
    {
     "name": "stdout",
     "output_type": "stream",
     "text": [
      "[('<niphlod@gmail.com>', (49, 68), 'regex.Regex(\\'([^\\\\\\\\s@,?!;:\\\\\\\\\\\\\\'\\\\\\\\\"=)(]+@[^,\\\\\\\\s!?;,\\\\\\\\\\\\\\'\\\\\\\\\"=]{3,}[\\\\\\\\.][^\\\\\\\\s\\\\\\\\b\\\\\\\\\\\\\\'\\\\\\\\\"@,?!;:)(.]+)\\', flags=regex.M | regex.V0)', 'EMAIL'), ('<niphlod@gmail.com>', (983, 1002), 'regex.Regex(\\'([^\\\\\\\\s@,?!;:\\\\\\\\\\\\\\'\\\\\\\\\"=)(]+@[^,\\\\\\\\s!?;,\\\\\\\\\\\\\\'\\\\\\\\\"=]{3,}[\\\\\\\\.][^\\\\\\\\s\\\\\\\\b\\\\\\\\\\\\\\'\\\\\\\\\"@,?!;:)(.]+)\\', flags=regex.M | regex.V0)', 'EMAIL')]\n"
     ]
    }
   ],
   "source": [
    "print(ds_modified[\"regex_metadata\"][17])"
   ]
  },
  {
   "cell_type": "markdown",
   "metadata": {},
   "source": [
    "# Presidio (Person names detection in the docstrings/comments)"
   ]
  },
  {
   "cell_type": "markdown",
   "metadata": {},
   "source": [
    "In this section we test Presidio for the detection of the entities [\"EMAIL_ADDRESS\",\"PERSON\", \"CREDIT_CARD\", \"IP_ADDRESS\", \"IBAN_CODE\"]\n",
    "* We first apply it on the code files then on their dosctrings/comments only\n",
    "\n",
    "* Even with a high threshold on prediction score (0.8) the **predictiosn are bad**. The underhood NER must have trouble infering context from technical text\n",
    "which often include python keywords and code"
   ]
  },
  {
   "cell_type": "code",
   "execution_count": null,
   "metadata": {},
   "outputs": [],
   "source": [
    "!pip install presidio-analyzer\n",
    "!pip install presidio-anonymizer\n",
    "!python -m spacy download en_core_web_lg"
   ]
  },
  {
   "cell_type": "code",
   "execution_count": 9,
   "metadata": {},
   "outputs": [],
   "source": [
    "from datasets import load_dataset\n",
    "import pandas as pd\n",
    "from text_extraction import get_text\n",
    "from presidio_analyzer import AnalyzerEngine, BatchAnalyzerEngine\n",
    "\n",
    "COLUMN=\"content\"\n",
    " \n",
    "def extract_nl_text(example):\n",
    "        text = get_text(example[COLUMN])\n",
    "        example[\"nl_text\"] = text\n",
    "        example[\"nl_size\"] = len(text)\n",
    "        return example"
   ]
  },
  {
   "cell_type": "code",
   "execution_count": 10,
   "metadata": {},
   "outputs": [
    {
     "name": "stdout",
     "output_type": "stream",
     "text": [
      "class docstring\n",
      "function docstring\n",
      "@since Jan 6, 2011\n",
      "@author Mario Steinhoff\n",
      "\n",
      "first comment second comment\n"
     ]
    }
   ],
   "source": [
    "example = '''\n",
    "\"\"\"\n",
    "@since Jan 6, 2011\n",
    "@author Mario Steinhoff\n",
    "\"\"\"\n",
    "\n",
    "class foo():\n",
    "    \"\"\"\n",
    "    class docstring\n",
    "    \"\"\"\n",
    "    some_value = 2\n",
    "    def bar(arg1, arg2):\n",
    "        \"\"\" function docstring\"\"\"\n",
    "        if arg1 == 2:\n",
    "            #first comment\n",
    "            print(arg1)\n",
    "        else:\n",
    "            # second comment\n",
    "            arg2 += 3\n",
    "        return arg1 + arg2\n",
    "'''\n",
    "\n",
    "print(get_text(example))"
   ]
  },
  {
   "cell_type": "code",
   "execution_count": 72,
   "metadata": {},
   "outputs": [
    {
     "name": "stderr",
     "output_type": "stream",
     "text": [
      "Using custom data configuration codeparrot--codeparrot-clean-valid-826c6fd8b27e5523\n",
      "Found cached dataset json (/Users/loubnabenallal/.cache/huggingface/datasets/codeparrot___json/codeparrot--codeparrot-clean-valid-826c6fd8b27e5523/0.0.0/e6070c77f18f01a5ad4551a8b7edfba20b8438b7cad4d94e6ad9378022ce4aab)\n",
      "Loading cached processed dataset at /Users/loubnabenallal/.cache/huggingface/datasets/codeparrot___json/codeparrot--codeparrot-clean-valid-826c6fd8b27e5523/0.0.0/e6070c77f18f01a5ad4551a8b7edfba20b8438b7cad4d94e6ad9378022ce4aab/cache-705f9821443934eb.arrow\n"
     ]
    }
   ],
   "source": [
    "# dataset for pII\n",
    "ds = load_dataset(\"codeparrot/codeparrot-clean-valid\", split=\"train\")\n",
    "ds = ds.select([i for i in range(100)])\n",
    "ds_text = ds.map(extract_nl_text)"
   ]
  },
  {
   "cell_type": "code",
   "execution_count": 73,
   "metadata": {},
   "outputs": [
    {
     "data": {
      "text/plain": [
       "Dataset({\n",
       "    features: ['repo_name', 'path', 'copies', 'size', 'content', 'license', 'hash', 'line_mean', 'line_max', 'alpha_frac', 'autogenerated', 'nl_text', 'nl_size'],\n",
       "    num_rows: 100\n",
       "})"
      ]
     },
     "execution_count": 73,
     "metadata": {},
     "output_type": "execute_result"
    }
   ],
   "source": [
    "ds_text"
   ]
  },
  {
   "cell_type": "code",
   "execution_count": 74,
   "metadata": {},
   "outputs": [],
   "source": [
    "code_content = ds_text[\"content\"]\n",
    "code_content_df = pd.DataFrame(code_content, columns=[\"content\"])"
   ]
  },
  {
   "cell_type": "code",
   "execution_count": 75,
   "metadata": {},
   "outputs": [
    {
     "name": "stdout",
     "output_type": "stream",
     "text": [
      "Analyzing 100 code snippets\n"
     ]
    }
   ],
   "source": [
    "# Apply Presidio\n",
    "print(f\"Analyzing {len(code_content_df)} code snippets\")\n",
    "analyzer = AnalyzerEngine()\n",
    "# Add regexes to analyzer here\n",
    "batch_analyzer = BatchAnalyzerEngine(analyzer_engine=analyzer)\n",
    "analyzer_results = batch_analyzer.analyze_dict(\n",
    "    code_content_df.to_dict(orient=\"list\"),\n",
    "    language=\"en\",\n",
    "    entities=[\"EMAIL_ADDRESS\",\"PERSON\", \"CREDIT_CARD\", \"IP_ADDRESS\", \"IBAN_CODE\"],\n",
    "    score_threshold=0.8\n",
    ")\n"
   ]
  },
  {
   "cell_type": "code",
   "execution_count": 76,
   "metadata": {},
   "outputs": [],
   "source": [
    "detected_entities_list = []\n",
    "for result in analyzer_results:\n",
    "    recognizer_results = result.recognizer_results\n",
    "    content = result.value\n",
    "    for recognizer_result, code in zip(recognizer_results, content):\n",
    "        entities = []\n",
    "        for entity in recognizer_result:\n",
    "            entities.append([entity.entity_type, code[entity.start : entity.end], entity.score])\n",
    "        current_code_entities = [code, len(code), entities]\n",
    "        detected_entities_list.append(current_code_entities)\n"
   ]
  },
  {
   "cell_type": "markdown",
   "metadata": {},
   "source": [
    "Visualization of some examples"
   ]
  },
  {
   "cell_type": "code",
   "execution_count": 120,
   "metadata": {},
   "outputs": [
    {
     "name": "stdout",
     "output_type": "stream",
     "text": [
      "Sample 0:\n",
      "[['PERSON', 'DATASET_VIEWS', 0.85], ['PERSON', 'pgresults', 0.85], ['PERSON', 'pgresults', 0.85], ['PERSON', 'has_write_permissions', 0.85]]\n",
      "\n",
      "Sample 1:\n",
      "[['PERSON', 'Mikio Hirabayashi', 0.85], ['PERSON', \"outlst = [struct.pack('>BBI'\", 0.85], ['PERSON', 'fail_code = ord(sockrecv(sock', 0.85], ['PERSON', 'klen', 0.85], ['PERSON', 'maxkeys = len(self', 0.85], ['PERSON', 'self.sock.close', 0.85], ['PERSON', 'bitflag', 0.85], ['PERSON', 't0(C.rnum', 0.85], ['PERSON', 'tcrdbmisc', 0.85], ['PERSON', 'bitflag', 0.85]]\n",
      "\n",
      "Sample 2:\n",
      "[['PERSON', 'mignight', 0.85]]\n",
      "\n",
      "Sample 3:\n",
      "[['PERSON', 'TraxelsPerFrame[0', 0.85], ['PERSON', 'hypotheses_graph.toTrackingGraph', 0.85]]\n",
      "\n",
      "Sample 4:\n",
      "[['PERSON', '轮廓提取模式 Contour_Retrieval_Mode\\nimage', 0.85], ['PERSON', 'img', 0.85]]\n",
      "\n",
      "Sample 5:\n",
      "[['PERSON', \"uses_free\\n\\n\\n@pytest.fixture(scope='module'\", 0.85], ['PERSON', 'start_line = test_lnotab_roundtrip.__code__.co_firstlineno + 3', 0.85], ['PERSON', 'CO_FUTURE_ABSOLUTE_IMPORT=True', 0.85], ['PERSON', 'CO_FUTURE_WITH_STATEMENT=True', 0.85], ['PERSON', 'Flag.max', 0.85], ['PERSON', 'uses_free', 0.85]]\n",
      "\n"
     ]
    }
   ],
   "source": [
    "for i in range(6):\n",
    "    print(f\"Sample {i}:\\n{detected_entities_list[i][-1]}\\n\")"
   ]
  },
  {
   "cell_type": "markdown",
   "metadata": {},
   "source": [
    "### Apply Presidio on docstrings and comments (mostly english text)\n",
    "\n",
    "Presidio doesn't work on source code, let's try on docstrings and comments which should mostly be englih text"
   ]
  },
  {
   "cell_type": "code",
   "execution_count": 121,
   "metadata": {},
   "outputs": [
    {
     "data": {
      "text/plain": [
       "'Displays a MX Dataset and associated information.\\n\\nShows a full (hundreds of images) dataset its metadata and a list\\nof associated files with the option to show metadata of each file\\nand ways to download those files.  With write permission this page\\nalso allows uploading and metadata editing.\\n\\nSettings for this view:\\nINSTALLED_APPS += (\"tardis.apps.mx_views\",)\\nDATASET_VIEWS = [(\"http://synchrotron.org.au/views/dataset/full\",\\n                  \"tardis.apps.mx_views.views.view_full_dataset\"),]\\n\\n pagination was removed by someone in the interface but not here. need to fix. If page request (9999) is out of range, deliver last page of results. take 4 evenly spaced images from the set'"
      ]
     },
     "execution_count": 121,
     "metadata": {},
     "output_type": "execute_result"
    }
   ],
   "source": [
    "#example of extracted docstrings + comments\n",
    "ds_text[\"nl_text\"][0]"
   ]
  },
  {
   "cell_type": "code",
   "execution_count": 86,
   "metadata": {},
   "outputs": [],
   "source": [
    "#select extracted text\n",
    "code_content = ds_text[\"nl_text\"]\n",
    "code_content_df = pd.DataFrame(code_content, columns=[\"nl_text\"])\n",
    "\n",
    "analyzer = AnalyzerEngine()\n",
    "batch_analyzer = BatchAnalyzerEngine(analyzer_engine=analyzer)\n",
    "analyzer_results = batch_analyzer.analyze_dict(\n",
    "    code_content_df.to_dict(orient=\"list\"),\n",
    "    language=\"en\",\n",
    "    entities=[\"EMAIL_ADDRESS\",\"PERSON\", \"CREDIT_CARD\", \"IP_ADDRESS\", \"IBAN_CODE\"],\n",
    "    score_threshold=0.8\n",
    ")"
   ]
  },
  {
   "cell_type": "code",
   "execution_count": 87,
   "metadata": {},
   "outputs": [],
   "source": [
    "detected_entities_list2 = []\n",
    "for result in analyzer_results:\n",
    "    recognizer_results = result.recognizer_results\n",
    "    content = result.value\n",
    "    for recognizer_result, code in zip(recognizer_results, content):\n",
    "        entities = []\n",
    "        for entity in recognizer_result:\n",
    "            if entity.score >= 0.8:\n",
    "                entities.append([entity.entity_type, code[entity.start : entity.end], entity.score])\n",
    "        current_code_entities = [code, len(code), entities]\n",
    "        detected_entities_list2.append(current_code_entities)\n"
   ]
  },
  {
   "cell_type": "code",
   "execution_count": 129,
   "metadata": {},
   "outputs": [
    {
     "name": "stdout",
     "output_type": "stream",
     "text": [
      "Sample 0:\n",
      "[['PERSON', 'DATASET_VIEWS', 0.85]]\n",
      "\n",
      "Sample 1:\n",
      "[['PERSON', 'bitflag', 0.85], ['PERSON', 'bitflag', 0.85], ['PERSON', 'Mikio Hirabayashi', 0.85]]\n",
      "\n",
      "Sample 2:\n",
      "[['PERSON', 'mignight', 0.85]]\n",
      "\n",
      "Original text 2:\n",
      "wrong precision wrong prefix yesterday is always save since we reset to mignight and do <, not <=\n",
      "\n",
      "Sample 3:\n",
      "[['PERSON', 'TraxelsPerFrame[0', 0.85], ['PERSON', 'trackingGraph', 0.85], ['PERSON', 'hypotheses_graph.toTrackingGraph', 0.85]]\n",
      "\n",
      "Sample 4:\n",
      "[['PERSON', 'type轮廓提取模式 Contour_Retrieval_Mode img = cv2.drawContours(im', 0.85]]\n",
      "\n",
      "Sample 8:\n",
      "[['PERSON', 'Luc Saffre', 0.85]]\n",
      "\n",
      "Sample 9:\n",
      "[['PERSON', 'TODO', 0.85], ['PERSON', 'TODO', 0.85], ['PERSON', 'TODO', 0.85]]\n",
      "\n",
      "Sample 11:\n",
      "[['PERSON', 'utf-8============================================================================================================================================================================================html_doc', 0.85]]\n",
      "\n",
      "Sample 14:\n",
      "[['PERSON', 'Creer', 0.85], ['PERSON', 'Creer', 0.85], ['PERSON', 'Creer', 0.85], ['PERSON', 'Creer', 0.85], ['PERSON', 'Creer', 0.85]]\n",
      "\n",
      "Sample 15:\n",
      "[['PERSON', 'TODO', 0.85], ['PERSON', 'TODO', 0.85], ['PERSON', 'TODO', 0.85], ['PERSON', 'TODO', 0.85], ['PERSON', 'TODO', 0.85]]\n",
      "\n",
      "Sample 17:\n",
      "[['EMAIL_ADDRESS', 'cedric.bellegarde@adishatz.org', 1.0], ['PERSON', 'Cedric Bellegarde', 0.85]]\n",
      "\n",
      "Sample 19:\n",
      "[['PERSON', 'Meresco', 0.85], ['PERSON', 'Meresco', 0.85], ['PERSON', 'Meresco', 0.85], ['PERSON', 'Meresco', 0.85], ['PERSON', 'Meresco', 0.85], ['PERSON', 'Meresco', 0.85], ['PERSON', 'Franklin St', 0.85]]\n",
      "\n"
     ]
    }
   ],
   "source": [
    "for i in range(20):\n",
    "    if detected_entities_list2[i][-1]:\n",
    "        print(f\"Sample {i}:\\n{detected_entities_list2[i][-1]}\\n\")\n",
    "    if i == 2:\n",
    "        print(f\"Original text {i}:\\n{detected_entities_list2[i][0]}\\n\")"
   ]
  },
  {
   "cell_type": "code",
   "execution_count": 108,
   "metadata": {},
   "outputs": [
    {
     "data": {
      "text/plain": [
       "[['PERSON', 'Meresco', 0.85],\n",
       " ['PERSON', 'Meresco', 0.85],\n",
       " ['PERSON', 'Meresco', 0.85],\n",
       " ['PERSON', 'Meresco', 0.85],\n",
       " ['PERSON', 'Meresco', 0.85],\n",
       " ['PERSON', 'Meresco', 0.85],\n",
       " ['PERSON', 'Franklin St', 0.85]]"
      ]
     },
     "execution_count": 108,
     "metadata": {},
     "output_type": "execute_result"
    }
   ],
   "source": [
    "detected_entities_list2[19][-1]"
   ]
  },
  {
   "cell_type": "code",
   "execution_count": 109,
   "metadata": {},
   "outputs": [
    {
     "name": "stdout",
     "output_type": "stream",
     "text": [
      "begin license   \"Meresco Examples\" is a project demonstrating some of the features of various components of the \"Meresco Suite\". Also see http://meresco.org.   Copyright (C) 2007-2008 SURF Foundation. http://www.surf.nl Copyright (C) 2007-2010 Seek You Too (CQ2) http://www.cq2.nl Copyright (C) 2007-2009 Stichting Kennisnet Ict op school. http://www.kennisnetictopschool.nl Copyright (C) 2009 Delft University of Technology http://www.tudelft.nl Copyright (C) 2009 Tilburg University http://www.uvt.nl  This file is part of \"Meresco Examples\"  \"Meresco Examples\" is free software; you can redistribute it and/or modify it under the terms of the GNU General Public License as published by the Free Software Foundation; either version 2 of the License, or (at your option) any later version.  \"Meresco Examples\" is distributed in the hope that it will be useful, but WITHOUT ANY WARRANTY; without even the implied warranty of MERCHANTABILITY or FITNESS FOR A PARTICULAR PURPOSE.  See the GNU General Public License for more details.  You should have received a copy of the GNU General Public License along with \"Meresco Examples\"; if not, write to the Free Software Foundation, Inc., 51 Franklin St, Fifth Floor, Boston, MA  02110-1301  USA  end license\n"
     ]
    }
   ],
   "source": [
    "print(detected_entities_list2[19][0])"
   ]
  },
  {
   "cell_type": "code",
   "execution_count": 111,
   "metadata": {},
   "outputs": [
    {
     "name": "stdout",
     "output_type": "stream",
     "text": [
      "[['PERSON', 'Args', 0.85], ['PERSON', 'Args', 0.85]]\n"
     ]
    }
   ],
   "source": [
    "print(detected_entities_list2[20][-1])"
   ]
  },
  {
   "cell_type": "code",
   "execution_count": 117,
   "metadata": {},
   "outputs": [
    {
     "name": "stdout",
     "output_type": "stream",
     "text": [
      "[['PERSON', 'MAASAPINotFound', 0.85], ['PERSON', 'ExternalAuthInfo', 0.85], ['PERSON', 'json', 0.85], ['PERSON', 'rndc', 0.85]]\n",
      "[['PERSON', 'ExternalComponentsMiddleware', 0.85], ['PERSON', 'MAASAPINotFound', 0.85], ['PERSON', 'json', 0.85], ['PERSON', 'rndc', 0.85], ['PERSON', 'INTERNAL_SERVER_ERROR', 0.85], ['PERSON', 'logger.error', 0.85], ['PERSON', 'GATEWAY_TIMEOUT', 0.85]]\n"
     ]
    }
   ],
   "source": [
    "print(detected_entities_list2[25][-1])\n",
    "print(detected_entities_list[25][-1])"
   ]
  }
 ],
 "metadata": {
  "interpreter": {
   "hash": "fd8fde6f83dada9276d12fdb71d773558994168ed1b3bea457b8db38c02aa2e1"
  },
  "kernelspec": {
   "display_name": "Python 3 (ipykernel)",
   "language": "python",
   "name": "python3"
  },
  "language_info": {
   "codemirror_mode": {
    "name": "ipython",
    "version": 3
   },
   "file_extension": ".py",
   "mimetype": "text/x-python",
   "name": "python",
   "nbconvert_exporter": "python",
   "pygments_lexer": "ipython3",
   "version": "3.10.6"
  }
 },
 "nbformat": 4,
 "nbformat_minor": 2
}
