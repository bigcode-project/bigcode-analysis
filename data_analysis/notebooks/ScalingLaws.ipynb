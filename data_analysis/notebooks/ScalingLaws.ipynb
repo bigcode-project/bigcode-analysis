{
 "cells": [
  {
   "cell_type": "code",
   "execution_count": 5,
   "id": "17489800-2e64-45c1-a3ea-6c900d5562a0",
   "metadata": {},
   "outputs": [],
   "source": [
    "from datasets import load_dataset\n",
    "import pandas as pd"
   ]
  },
  {
   "cell_type": "code",
   "execution_count": 45,
   "id": "495e3bc0-df77-4ba0-b77d-099ed31b8cdc",
   "metadata": {},
   "outputs": [
    {
     "data": {
      "application/vnd.jupyter.widget-view+json": {
       "model_id": "03e7967bbf054050b823c02b8a91d216",
       "version_major": 2,
       "version_minor": 0
      },
      "text/plain": [
       "Downloading readme:   0%|          | 0.00/432 [00:00<?, ?B/s]"
      ]
     },
     "metadata": {},
     "output_type": "display_data"
    },
    {
     "name": "stdout",
     "output_type": "stream",
     "text": [
      "Downloading and preparing dataset None/None to /Users/leandro/.cache/huggingface/datasets/nuprl___parquet/nuprl--pass_k_with_MultiPL-E-7d0175e94ceed6c3/0.0.0/2a3b91fbd88a2c90d1dbbb32b460cf621d31bd5b05b934492fdef7d8d6f236ec...\n"
     ]
    },
    {
     "data": {
      "application/vnd.jupyter.widget-view+json": {
       "model_id": "f9e4e281fa0f43faa18251f53f6f208f",
       "version_major": 2,
       "version_minor": 0
      },
      "text/plain": [
       "Downloading data files:   0%|          | 0/1 [00:00<?, ?it/s]"
      ]
     },
     "metadata": {},
     "output_type": "display_data"
    },
    {
     "data": {
      "application/vnd.jupyter.widget-view+json": {
       "model_id": "30c73fce11214a2c90dda86825e13905",
       "version_major": 2,
       "version_minor": 0
      },
      "text/plain": [
       "Downloading data:   0%|          | 0.00/21.4k [00:00<?, ?B/s]"
      ]
     },
     "metadata": {},
     "output_type": "display_data"
    },
    {
     "data": {
      "application/vnd.jupyter.widget-view+json": {
       "model_id": "ca100395eb9043b099368dc34b5954c7",
       "version_major": 2,
       "version_minor": 0
      },
      "text/plain": [
       "Extracting data files:   0%|          | 0/1 [00:00<?, ?it/s]"
      ]
     },
     "metadata": {},
     "output_type": "display_data"
    },
    {
     "data": {
      "application/vnd.jupyter.widget-view+json": {
       "model_id": "",
       "version_major": 2,
       "version_minor": 0
      },
      "text/plain": [
       "Generating train split:   0%|          | 0/1162 [00:00<?, ? examples/s]"
      ]
     },
     "metadata": {},
     "output_type": "display_data"
    },
    {
     "name": "stdout",
     "output_type": "stream",
     "text": [
      "Dataset parquet downloaded and prepared to /Users/leandro/.cache/huggingface/datasets/nuprl___parquet/nuprl--pass_k_with_MultiPL-E-7d0175e94ceed6c3/0.0.0/2a3b91fbd88a2c90d1dbbb32b460cf621d31bd5b05b934492fdef7d8d6f236ec. Subsequent calls will reuse this data.\n"
     ]
    }
   ],
   "source": [
    "scores = load_dataset(\"nuprl/pass_k_with_MultiPL-E\", split=\"train\", use_auth_token=True, revision=\"bigcode_scaling_laws\")"
   ]
  },
  {
   "cell_type": "code",
   "execution_count": 46,
   "id": "6e4c6c06-f506-4b4e-a7b8-452262c09123",
   "metadata": {},
   "outputs": [
    {
     "data": {
      "text/plain": [
       "0.5071184859461587"
      ]
     },
     "execution_count": 46,
     "metadata": {},
     "output_type": "execute_result"
    }
   ],
   "source": [
    "max(scores[\"PassRate\"])"
   ]
  },
  {
   "cell_type": "code",
   "execution_count": 47,
   "id": "c1294a63-f6ef-4df2-b224-967787a3dfcf",
   "metadata": {},
   "outputs": [
    {
     "data": {
      "text/plain": [
       "{'Experiment': 'humaneval-java-bigcode_scalinglaws_run_1514.4M_3e+19_bs8_idx_51-0.8-reworded',\n",
       " 'k': 10,\n",
       " 'PassRate': 0.0275730360024084}"
      ]
     },
     "execution_count": 47,
     "metadata": {},
     "output_type": "execute_result"
    }
   ],
   "source": [
    "scores[0]"
   ]
  },
  {
   "cell_type": "code",
   "execution_count": 48,
   "id": "411e660f-07a6-4362-88a2-e846a2f4fec5",
   "metadata": {},
   "outputs": [
    {
     "data": {
      "application/vnd.jupyter.widget-view+json": {
       "model_id": "",
       "version_major": 2,
       "version_minor": 0
      },
      "text/plain": [
       "Map:   0%|          | 0/1162 [00:00<?, ? examples/s]"
      ]
     },
     "metadata": {},
     "output_type": "display_data"
    },
    {
     "data": {
      "application/vnd.jupyter.widget-view+json": {
       "model_id": "",
       "version_major": 2,
       "version_minor": 0
      },
      "text/plain": [
       "Map:   0%|          | 0/1162 [00:00<?, ? examples/s]"
      ]
     },
     "metadata": {},
     "output_type": "display_data"
    }
   ],
   "source": [
    "scores = scores.map(lambda x: {\"idx\": int(x[\"Experiment\"].split(\"idx_\")[1].split(\"-\")[0])})\n",
    "scores = scores.map(lambda x: {\"lang\": x[\"Experiment\"].split(\"humaneval-\")[1].split(\"-\")[0]})"
   ]
  },
  {
   "cell_type": "code",
   "execution_count": 50,
   "id": "0a9be22f-7dc7-4003-b3c8-d383f66c3ba7",
   "metadata": {},
   "outputs": [
    {
     "data": {
      "application/vnd.jupyter.widget-view+json": {
       "model_id": "",
       "version_major": 2,
       "version_minor": 0
      },
      "text/plain": [
       "Filter:   0%|          | 0/1162 [00:00<?, ? examples/s]"
      ]
     },
     "metadata": {},
     "output_type": "display_data"
    },
    {
     "data": {
      "application/vnd.jupyter.widget-view+json": {
       "model_id": "",
       "version_major": 2,
       "version_minor": 0
      },
      "text/plain": [
       "Filter:   0%|          | 0/581 [00:00<?, ? examples/s]"
      ]
     },
     "metadata": {},
     "output_type": "display_data"
    }
   ],
   "source": [
    "scores = scores.filter(lambda x: x[\"k\"]==100)\n",
    "scores = scores.filter(lambda x: x[\"lang\"]==\"java\")"
   ]
  },
  {
   "cell_type": "code",
   "execution_count": 51,
   "id": "957d4787-7227-48a7-a3e4-e6ca81a4724f",
   "metadata": {},
   "outputs": [],
   "source": [
    "df_scores = scores.to_pandas()"
   ]
  },
  {
   "cell_type": "code",
   "execution_count": 53,
   "id": "466c757f-8074-48b1-b122-e6baa3f2c495",
   "metadata": {},
   "outputs": [],
   "source": [
    "df_experiments = pd.read_csv(\"scaling_laws.csv\")"
   ]
  },
  {
   "cell_type": "code",
   "execution_count": 54,
   "id": "55e595ba-b389-474d-b9db-f61c65ea83c5",
   "metadata": {},
   "outputs": [],
   "source": [
    "df = df_scores.merge(df_experiments, how=\"left\", on=\"idx\")"
   ]
  },
  {
   "cell_type": "code",
   "execution_count": 55,
   "id": "9fd9a066-f54d-4cf5-b4d9-3d3142a09c8d",
   "metadata": {},
   "outputs": [
    {
     "data": {
      "text/html": [
       "<div>\n",
       "<style scoped>\n",
       "    .dataframe tbody tr th:only-of-type {\n",
       "        vertical-align: middle;\n",
       "    }\n",
       "\n",
       "    .dataframe tbody tr th {\n",
       "        vertical-align: top;\n",
       "    }\n",
       "\n",
       "    .dataframe thead th {\n",
       "        text-align: right;\n",
       "    }\n",
       "</style>\n",
       "<table border=\"1\" class=\"dataframe\">\n",
       "  <thead>\n",
       "    <tr style=\"text-align: right;\">\n",
       "      <th></th>\n",
       "      <th>Experiment</th>\n",
       "      <th>k</th>\n",
       "      <th>PassRate</th>\n",
       "      <th>idx</th>\n",
       "      <th>lang</th>\n",
       "      <th>num_layer</th>\n",
       "      <th>hidden_size</th>\n",
       "      <th>num_heads</th>\n",
       "      <th>param_count</th>\n",
       "      <th>compute</th>\n",
       "      <th>training_tokens</th>\n",
       "      <th>attention_head_type</th>\n",
       "      <th>sequence_length</th>\n",
       "      <th>batch_size_tokens</th>\n",
       "      <th>global_batch_size</th>\n",
       "      <th>learning_rate</th>\n",
       "      <th>num_gpu</th>\n",
       "      <th>training_time</th>\n",
       "      <th>micro_batch_size</th>\n",
       "      <th>training_iters</th>\n",
       "      <th>lr_warmup_iters</th>\n",
       "    </tr>\n",
       "  </thead>\n",
       "  <tbody>\n",
       "    <tr>\n",
       "      <th>84</th>\n",
       "      <td>humaneval-java-bigcode_scalinglaws_run_3026.4M...</td>\n",
       "      <td>100</td>\n",
       "      <td>0.507118</td>\n",
       "      <td>113</td>\n",
       "      <td>java</td>\n",
       "      <td>36</td>\n",
       "      <td>2816</td>\n",
       "      <td>22</td>\n",
       "      <td>3026.4</td>\n",
       "      <td>1.000000e+21</td>\n",
       "      <td>5.510000e+10</td>\n",
       "      <td>multiquery</td>\n",
       "      <td>2048</td>\n",
       "      <td>524000.0</td>\n",
       "      <td>256</td>\n",
       "      <td>0.00015</td>\n",
       "      <td>32</td>\n",
       "      <td>2.898</td>\n",
       "      <td>8</td>\n",
       "      <td>105040</td>\n",
       "      <td>1000</td>\n",
       "    </tr>\n",
       "    <tr>\n",
       "      <th>54</th>\n",
       "      <td>humaneval-java-bigcode_scalinglaws_run_3026.4M...</td>\n",
       "      <td>100</td>\n",
       "      <td>0.442785</td>\n",
       "      <td>104</td>\n",
       "      <td>java</td>\n",
       "      <td>36</td>\n",
       "      <td>2816</td>\n",
       "      <td>22</td>\n",
       "      <td>3026.4</td>\n",
       "      <td>6.000000e+20</td>\n",
       "      <td>3.300000e+10</td>\n",
       "      <td>multiquery</td>\n",
       "      <td>2048</td>\n",
       "      <td>524000.0</td>\n",
       "      <td>256</td>\n",
       "      <td>0.00015</td>\n",
       "      <td>32</td>\n",
       "      <td>1.739</td>\n",
       "      <td>8</td>\n",
       "      <td>63024</td>\n",
       "      <td>1000</td>\n",
       "    </tr>\n",
       "    <tr>\n",
       "      <th>80</th>\n",
       "      <td>humaneval-java-bigcode_scalinglaws_run_3026.4M...</td>\n",
       "      <td>100</td>\n",
       "      <td>0.360712</td>\n",
       "      <td>94</td>\n",
       "      <td>java</td>\n",
       "      <td>36</td>\n",
       "      <td>2816</td>\n",
       "      <td>22</td>\n",
       "      <td>3026.4</td>\n",
       "      <td>3.000000e+20</td>\n",
       "      <td>1.650000e+10</td>\n",
       "      <td>multiquery</td>\n",
       "      <td>2048</td>\n",
       "      <td>524000.0</td>\n",
       "      <td>256</td>\n",
       "      <td>0.00015</td>\n",
       "      <td>16</td>\n",
       "      <td>1.739</td>\n",
       "      <td>16</td>\n",
       "      <td>31512</td>\n",
       "      <td>1000</td>\n",
       "    </tr>\n",
       "    <tr>\n",
       "      <th>89</th>\n",
       "      <td>humaneval-java-bigcode_scalinglaws_run_2118.0M...</td>\n",
       "      <td>100</td>\n",
       "      <td>0.306464</td>\n",
       "      <td>112</td>\n",
       "      <td>java</td>\n",
       "      <td>30</td>\n",
       "      <td>2560</td>\n",
       "      <td>20</td>\n",
       "      <td>2118.0</td>\n",
       "      <td>1.000000e+21</td>\n",
       "      <td>7.870000e+10</td>\n",
       "      <td>multiquery</td>\n",
       "      <td>2048</td>\n",
       "      <td>524000.0</td>\n",
       "      <td>256</td>\n",
       "      <td>0.00015</td>\n",
       "      <td>32</td>\n",
       "      <td>2.898</td>\n",
       "      <td>8</td>\n",
       "      <td>150090</td>\n",
       "      <td>1000</td>\n",
       "    </tr>\n",
       "    <tr>\n",
       "      <th>16</th>\n",
       "      <td>humaneval-java-bigcode_scalinglaws_run_1514.4M...</td>\n",
       "      <td>100</td>\n",
       "      <td>0.295883</td>\n",
       "      <td>111</td>\n",
       "      <td>java</td>\n",
       "      <td>26</td>\n",
       "      <td>2304</td>\n",
       "      <td>18</td>\n",
       "      <td>1514.4</td>\n",
       "      <td>1.000000e+21</td>\n",
       "      <td>1.100000e+11</td>\n",
       "      <td>multiquery</td>\n",
       "      <td>2048</td>\n",
       "      <td>524000.0</td>\n",
       "      <td>256</td>\n",
       "      <td>0.00015</td>\n",
       "      <td>32</td>\n",
       "      <td>2.898</td>\n",
       "      <td>8</td>\n",
       "      <td>209905</td>\n",
       "      <td>1000</td>\n",
       "    </tr>\n",
       "    <tr>\n",
       "      <th>...</th>\n",
       "      <td>...</td>\n",
       "      <td>...</td>\n",
       "      <td>...</td>\n",
       "      <td>...</td>\n",
       "      <td>...</td>\n",
       "      <td>...</td>\n",
       "      <td>...</td>\n",
       "      <td>...</td>\n",
       "      <td>...</td>\n",
       "      <td>...</td>\n",
       "      <td>...</td>\n",
       "      <td>...</td>\n",
       "      <td>...</td>\n",
       "      <td>...</td>\n",
       "      <td>...</td>\n",
       "      <td>...</td>\n",
       "      <td>...</td>\n",
       "      <td>...</td>\n",
       "      <td>...</td>\n",
       "      <td>...</td>\n",
       "      <td>...</td>\n",
       "    </tr>\n",
       "    <tr>\n",
       "      <th>72</th>\n",
       "      <td>humaneval-java-bigcode_scalinglaws_run_28.9M_1...</td>\n",
       "      <td>100</td>\n",
       "      <td>0.000000</td>\n",
       "      <td>27</td>\n",
       "      <td>java</td>\n",
       "      <td>6</td>\n",
       "      <td>384</td>\n",
       "      <td>6</td>\n",
       "      <td>28.9</td>\n",
       "      <td>1.000000e+19</td>\n",
       "      <td>5.770000e+10</td>\n",
       "      <td>multiquery</td>\n",
       "      <td>2048</td>\n",
       "      <td>524000.0</td>\n",
       "      <td>256</td>\n",
       "      <td>0.00030</td>\n",
       "      <td>2</td>\n",
       "      <td>0.464</td>\n",
       "      <td>128</td>\n",
       "      <td>110079</td>\n",
       "      <td>1000</td>\n",
       "    </tr>\n",
       "    <tr>\n",
       "      <th>22</th>\n",
       "      <td>humaneval-java-bigcode_scalinglaws_run_11.4M_6...</td>\n",
       "      <td>100</td>\n",
       "      <td>0.000000</td>\n",
       "      <td>12</td>\n",
       "      <td>java</td>\n",
       "      <td>4</td>\n",
       "      <td>192</td>\n",
       "      <td>3</td>\n",
       "      <td>11.4</td>\n",
       "      <td>6.000000e+18</td>\n",
       "      <td>8.740000e+10</td>\n",
       "      <td>multiquery</td>\n",
       "      <td>2048</td>\n",
       "      <td>524000.0</td>\n",
       "      <td>256</td>\n",
       "      <td>0.00030</td>\n",
       "      <td>2</td>\n",
       "      <td>0.278</td>\n",
       "      <td>128</td>\n",
       "      <td>166772</td>\n",
       "      <td>1000</td>\n",
       "    </tr>\n",
       "    <tr>\n",
       "      <th>43</th>\n",
       "      <td>humaneval-java-bigcode_scalinglaws_run_28.9M_3...</td>\n",
       "      <td>100</td>\n",
       "      <td>0.000000</td>\n",
       "      <td>3</td>\n",
       "      <td>java</td>\n",
       "      <td>6</td>\n",
       "      <td>384</td>\n",
       "      <td>6</td>\n",
       "      <td>28.9</td>\n",
       "      <td>3.000000e+18</td>\n",
       "      <td>1.730000e+10</td>\n",
       "      <td>multiquery</td>\n",
       "      <td>2048</td>\n",
       "      <td>524000.0</td>\n",
       "      <td>256</td>\n",
       "      <td>0.00030</td>\n",
       "      <td>2</td>\n",
       "      <td>0.139</td>\n",
       "      <td>128</td>\n",
       "      <td>33023</td>\n",
       "      <td>1000</td>\n",
       "    </tr>\n",
       "    <tr>\n",
       "      <th>71</th>\n",
       "      <td>humaneval-java-bigcode_scalinglaws_run_15.9M_1...</td>\n",
       "      <td>100</td>\n",
       "      <td>0.000000</td>\n",
       "      <td>26</td>\n",
       "      <td>java</td>\n",
       "      <td>4</td>\n",
       "      <td>256</td>\n",
       "      <td>4</td>\n",
       "      <td>15.9</td>\n",
       "      <td>1.000000e+19</td>\n",
       "      <td>1.050000e+11</td>\n",
       "      <td>multiquery</td>\n",
       "      <td>2048</td>\n",
       "      <td>524000.0</td>\n",
       "      <td>256</td>\n",
       "      <td>0.00030</td>\n",
       "      <td>2</td>\n",
       "      <td>0.464</td>\n",
       "      <td>128</td>\n",
       "      <td>199878</td>\n",
       "      <td>1000</td>\n",
       "    </tr>\n",
       "    <tr>\n",
       "      <th>55</th>\n",
       "      <td>humaneval-java-bigcode_scalinglaws_run_15.9M_3...</td>\n",
       "      <td>100</td>\n",
       "      <td>0.000000</td>\n",
       "      <td>2</td>\n",
       "      <td>java</td>\n",
       "      <td>4</td>\n",
       "      <td>256</td>\n",
       "      <td>4</td>\n",
       "      <td>15.9</td>\n",
       "      <td>3.000000e+18</td>\n",
       "      <td>3.140000e+10</td>\n",
       "      <td>multiquery</td>\n",
       "      <td>2048</td>\n",
       "      <td>524000.0</td>\n",
       "      <td>256</td>\n",
       "      <td>0.00030</td>\n",
       "      <td>2</td>\n",
       "      <td>0.139</td>\n",
       "      <td>128</td>\n",
       "      <td>59963</td>\n",
       "      <td>1000</td>\n",
       "    </tr>\n",
       "  </tbody>\n",
       "</table>\n",
       "<p>97 rows × 21 columns</p>\n",
       "</div>"
      ],
      "text/plain": [
       "                                           Experiment  ...  lr_warmup_iters\n",
       "84  humaneval-java-bigcode_scalinglaws_run_3026.4M...  ...             1000\n",
       "54  humaneval-java-bigcode_scalinglaws_run_3026.4M...  ...             1000\n",
       "80  humaneval-java-bigcode_scalinglaws_run_3026.4M...  ...             1000\n",
       "89  humaneval-java-bigcode_scalinglaws_run_2118.0M...  ...             1000\n",
       "16  humaneval-java-bigcode_scalinglaws_run_1514.4M...  ...             1000\n",
       "..                                                ...  ...              ...\n",
       "72  humaneval-java-bigcode_scalinglaws_run_28.9M_1...  ...             1000\n",
       "22  humaneval-java-bigcode_scalinglaws_run_11.4M_6...  ...             1000\n",
       "43  humaneval-java-bigcode_scalinglaws_run_28.9M_3...  ...             1000\n",
       "71  humaneval-java-bigcode_scalinglaws_run_15.9M_1...  ...             1000\n",
       "55  humaneval-java-bigcode_scalinglaws_run_15.9M_3...  ...             1000\n",
       "\n",
       "[97 rows x 21 columns]"
      ]
     },
     "execution_count": 55,
     "metadata": {},
     "output_type": "execute_result"
    }
   ],
   "source": [
    "df.sort_values(by=\"PassRate\", ascending=False)"
   ]
  },
  {
   "cell_type": "code",
   "execution_count": 79,
   "id": "3bbc70d9-dc30-4546-9b60-acf9139d9bb1",
   "metadata": {},
   "outputs": [],
   "source": [
    "df = df[df[\"PassRate\"]>0.0]"
   ]
  },
  {
   "cell_type": "code",
   "execution_count": 98,
   "id": "81186893-a3d8-4b16-b46c-36d955ac1552",
   "metadata": {},
   "outputs": [],
   "source": [
    "from scipy.special import logsumexp\n",
    "from scipy.special import huber\n",
    "import numpy as np\n",
    "\n",
    "\n",
    "def function(x):\n",
    "    a, b, e, alpha, beta = x\n",
    "    overall_sum = 0\n",
    "    for N, D, L in zip(df[\"training_tokens\"], df[\"param_count\"], df[\"PassRate\"]):\n",
    "        element = huber(0.001, logsumexp([a - alpha*np.log(N),b -  beta*np.log(D), e]) - np.log(L))\n",
    "        overall_sum+=element\n",
    "    return overall_sum"
   ]
  },
  {
   "cell_type": "code",
   "execution_count": 103,
   "id": "8c4dbb5e-6fe5-4a5f-90e8-ae3cf7261160",
   "metadata": {},
   "outputs": [
    {
     "name": "stderr",
     "output_type": "stream",
     "text": [
      "100%|████████████████████████████████████████████████████████████████████████████████████████████████████████████████████████████████████████████████| 6/6 [00:08<00:00,  1.47s/it]\n"
     ]
    },
    {
     "data": {
      "text/plain": [
       "(-60.0, -4.0, -10.0, -2.0, -0.25)"
      ]
     },
     "execution_count": 103,
     "metadata": {},
     "output_type": "execute_result"
    }
   ],
   "source": [
    "min_value = 1e10\n",
    "\n",
    "from tqdm import tqdm\n",
    "\n",
    "for a in tqdm(np.linspace(-100, 0, 6)):\n",
    "    for b in np.linspace(-20, 20, 6):\n",
    "        for e in np.linspace(-10, 10, 5):\n",
    "            for alpha in np.linspace(-4, 0,5):\n",
    "                for beta in np.linspace(-1,2,5):\n",
    "                    value = function((a, b, e, alpha, beta))\n",
    "                    if value<min_value:\n",
    "                        best_config = (a, b, e, alpha, beta)\n",
    "                        min_value = value\n",
    "best_config"
   ]
  },
  {
   "cell_type": "code",
   "execution_count": 112,
   "id": "fe532d56-c4ea-4eac-9e95-a86313efe9b6",
   "metadata": {},
   "outputs": [
    {
     "data": {
      "text/plain": [
       "      fun: 0.0394893431079757\n",
       " hess_inv: <5x5 LbfgsInvHessProduct with dtype=float64>\n",
       "      jac: array([ 1.66616707e-05,  3.42573194e-06,  1.21708189e-06, -4.21185309e-04,\n",
       "       -1.56388790e-05])\n",
       "  message: 'CONVERGENCE: REL_REDUCTION_OF_F_<=_FACTR*EPSMCH'\n",
       "     nfev: 864\n",
       "      nit: 67\n",
       "     njev: 144\n",
       "   status: 0\n",
       "  success: True\n",
       "        x: array([-14.55415162,  -7.57197121, -11.08439789,  -0.4835721 ,\n",
       "        -0.69790846])"
      ]
     },
     "execution_count": 112,
     "metadata": {},
     "output_type": "execute_result"
    }
   ],
   "source": [
    "from scipy.optimize import minimize\n",
    "\n",
    "params = minimize(function, best_config, method=\"L-BFGS-B\")\n",
    "params"
   ]
  },
  {
   "cell_type": "code",
   "execution_count": 113,
   "id": "4c212f76-b895-4952-927e-a6136df583d4",
   "metadata": {},
   "outputs": [],
   "source": [
    "def scaling_law(N, D, params):\n",
    "    a, b, e, alpha, beta = params\n",
    "    A = np.exp(a)\n",
    "    B = np.exp(b)\n",
    "    E = np.exp(e)\n",
    "    \n",
    "    L =  E + (A / (N**alpha)) + (B /(D**beta))\n",
    "    \n",
    "    return L"
   ]
  },
  {
   "cell_type": "code",
   "execution_count": 129,
   "id": "a79cf1ae-a61f-4204-ae71-f981afc9cf65",
   "metadata": {},
   "outputs": [
    {
     "data": {
      "text/plain": [
       "0.7261895955849371"
      ]
     },
     "execution_count": 129,
     "metadata": {},
     "output_type": "execute_result"
    }
   ],
   "source": [
    "scaling_law(1e12, 15_000, params.x)"
   ]
  },
  {
   "cell_type": "markdown",
   "id": "4f9a9685-b123-4548-8abb-a9ffa8486324",
   "metadata": {},
   "source": [
    "# Inverse"
   ]
  },
  {
   "cell_type": "code",
   "execution_count": 197,
   "id": "6ded1357-ebef-4d68-b1ab-904b614ab2a7",
   "metadata": {},
   "outputs": [],
   "source": [
    "def function(x):\n",
    "    a, b, e, alpha, beta = x\n",
    "    overall_sum = 0\n",
    "    for N, D, L in zip(df[\"training_tokens\"], df[\"param_count\"], df[\"PassRate\"]):\n",
    "        L = 1/L\n",
    "        element = huber(0.001, logsumexp([a - alpha*np.log(N),b -  beta*np.log(D), e]) - np.log(L))\n",
    "        overall_sum+=element\n",
    "    return overall_sum"
   ]
  },
  {
   "cell_type": "code",
   "execution_count": 198,
   "id": "fe05acde-5836-47d5-8523-6b51d5ebc6e3",
   "metadata": {},
   "outputs": [
    {
     "name": "stderr",
     "output_type": "stream",
     "text": [
      "100%|████████████████████████████████████████████████████████████████████████████████████████████████████████████████████████████████████████████████| 6/6 [00:08<00:00,  1.46s/it]\n"
     ]
    },
    {
     "data": {
      "text/plain": [
       "(25.0, 10.0, 1.0, 1.0, 1.5)"
      ]
     },
     "execution_count": 198,
     "metadata": {},
     "output_type": "execute_result"
    }
   ],
   "source": [
    "min_value = 1e10\n",
    "\n",
    "from tqdm import tqdm\n",
    "\n",
    "for a in tqdm(np.linspace(0, 25, 6)):\n",
    "    for b in np.linspace(0, 25, 6):\n",
    "        for e in np.linspace(-1, 1, 5):\n",
    "            for alpha in np.linspace(0, 2,5):\n",
    "                for beta in np.linspace(0,2,5):\n",
    "                    value = function((a, b, e, alpha, beta))\n",
    "                    if value<min_value:\n",
    "                        best_config = (a, b, e, alpha, beta)\n",
    "                        min_value = value\n",
    "best_config"
   ]
  },
  {
   "cell_type": "code",
   "execution_count": 229,
   "id": "e93ed1d7-5a01-4c19-91bc-e3db197cb822",
   "metadata": {},
   "outputs": [
    {
     "data": {
      "text/plain": [
       "      fun: 0.01486835219677188\n",
       " hess_inv: <5x5 LbfgsInvHessProduct with dtype=float64>\n",
       "      jac: array([ 3.29378858e-05,  1.96582335e-05, -2.94105018e-06, -6.82832953e-04,\n",
       "       -7.29050505e-05])\n",
       "  message: 'CONVERGENCE: REL_REDUCTION_OF_F_<=_FACTR*EPSMCH'\n",
       "     nfev: 1230\n",
       "      nit: 113\n",
       "     njev: 205\n",
       "   status: 0\n",
       "  success: True\n",
       "        x: array([15.85478558,  7.13224508, -0.33702823,  0.59841397,  1.00090823])"
      ]
     },
     "execution_count": 229,
     "metadata": {},
     "output_type": "execute_result"
    }
   ],
   "source": [
    "params = minimize(function, best_config, method=\"L-BFGS-B\")\n",
    "params"
   ]
  },
  {
   "cell_type": "code",
   "execution_count": 224,
   "id": "87dae747-a094-4919-be4d-7c7786ec526a",
   "metadata": {},
   "outputs": [],
   "source": [
    "def scaling_law(N, D, params):\n",
    "    a, b, e, alpha, beta = params\n",
    "    A = np.exp(a)\n",
    "    B = np.exp(b)\n",
    "    E = np.exp(e)\n",
    "    L =  E + (A / (N**alpha)) + (B /(D**beta))\n",
    "    \n",
    "    return 1/L"
   ]
  },
  {
   "cell_type": "code",
   "execution_count": 237,
   "id": "a0cc00e5-656c-49a8-a55e-18b3cf4a90f1",
   "metadata": {},
   "outputs": [
    {
     "data": {
      "text/plain": [
       "0.7436992351007352"
      ]
     },
     "execution_count": 237,
     "metadata": {},
     "output_type": "execute_result"
    }
   ],
   "source": [
    "scaling_law(1e12, 10_000, params.x)"
   ]
  },
  {
   "cell_type": "code",
   "execution_count": 238,
   "id": "921ebd67-1c21-44b5-b674-665837079e34",
   "metadata": {},
   "outputs": [
    {
     "data": {
      "text/plain": [
       "[<matplotlib.lines.Line2D at 0x1586ebf40>]"
      ]
     },
     "execution_count": 238,
     "metadata": {},
     "output_type": "execute_result"
    },
    {
     "data": {
      "image/png": "[encoded data removed]",
      "text/plain": [
       "<Figure size 432x288 with 1 Axes>"
      ]
     },
     "metadata": {
      "needs_background": "light"
     },
     "output_type": "display_data"
    }
   ],
   "source": [
    "import matplotlib.pyplot as plt\n",
    "\n",
    "x = np.linspace(1_000, 30_000, 30)\n",
    "\n",
    "plt.plot(x, [scaling_law(1e12, i, params.x) for i in x])"
   ]
  },
  {
   "cell_type": "code",
   "execution_count": 245,
   "id": "df0776c1-1f13-4aa5-b8a0-5b7de297c596",
   "metadata": {},
   "outputs": [
    {
     "data": {
      "text/plain": [
       "[<matplotlib.lines.Line2D at 0x158a6e6a0>]"
      ]
     },
     "execution_count": 245,
     "metadata": {},
     "output_type": "execute_result"
    },
    {
     "data": {
      "image/png": "[encoded data removed]",
      "text/plain": [
       "<Figure size 432x288 with 1 Axes>"
      ]
     },
     "metadata": {
      "needs_background": "light"
     },
     "output_type": "display_data"
    }
   ],
   "source": [
    "x = np.linspace(3e11, 1e12, 100)\n",
    "\n",
    "plt.plot(x, [scaling_law(i, 10_000, params.x) for i in x])"
   ]
  },
  {
   "cell_type": "code",
   "execution_count": null,
   "id": "8ac182bd-753e-451b-8d8d-2c6410f74f29",
   "metadata": {},
   "outputs": [],
   "source": []
  }
 ],
 "metadata": {
  "kernelspec": {
   "display_name": "Python 3 (ipykernel)",
   "language": "python",
   "name": "python3"
  },
  "language_info": {
   "codemirror_mode": {
    "name": "ipython",
    "version": 3
   },
   "file_extension": ".py",
   "mimetype": "text/x-python",
   "name": "python",
   "nbconvert_exporter": "python",
   "pygments_lexer": "ipython3",
   "version": "3.9.12"
  }
 },
 "nbformat": 4,
 "nbformat_minor": 5
}
