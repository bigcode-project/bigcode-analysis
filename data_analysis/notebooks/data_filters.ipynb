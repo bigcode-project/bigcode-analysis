{
 "cells": [
  {
   "cell_type": "code",
   "execution_count": 68,
   "id": "e8bc5ae6",
   "metadata": {},
   "outputs": [],
   "source": [
    "from datasets import load_dataset, load_dataset_builder\n",
    "import subprocess\n",
    "import json\n",
    "import os\n",
    "import pandas as pd\n",
    "from tqdm import tqdm"
   ]
  },
  {
   "cell_type": "code",
   "execution_count": 73,
   "id": "0f7fa9a7",
   "metadata": {},
   "outputs": [],
   "source": [
    "df = pd.read_csv(\"new_extension_distribution.csv\")"
   ]
  },
  {
   "cell_type": "code",
   "execution_count": 69,
   "id": "879cf7c1",
   "metadata": {},
   "outputs": [],
   "source": [
    "def load_data(language, ext):\n",
    "    ext = None if ext == \"nan\" else ext\n",
    "    samples = load_dataset(\n",
    "        \"loubnabnl/the-stack-inspection-data\",\n",
    "        data_dir=f\"data/{language}/{ext}\",\n",
    "        split=\"train\",\n",
    "    )\n",
    "    return samples"
   ]
  },
  {
   "cell_type": "code",
   "execution_count": 95,
   "id": "c1b27121",
   "metadata": {},
   "outputs": [],
   "source": [
    "def get_sample_lang(sample, show_data=False, show_xml=False, show_unk=False):\n",
    "        if '<?xml version=' in sample['content'][:100]:\n",
    "            if show_xml:\n",
    "                print(sample['content'][:100])\n",
    "            return 'xml'\n",
    "        elif sum(map(str.isalpha, sample['content'])) <= 0.25 * len(sample['content']):\n",
    "            if show_data:\n",
    "                print(sample['content'][:1000])\n",
    "            return 'data'\n",
    "        else:\n",
    "            if show_unk:\n",
    "                print(sample['content'][:500])\n",
    "            return 'unknown'\n",
    "        \n",
    "#             with open(fname, 'w') as f:\n",
    "#                 f.write(sample['content'])\n",
    "#             res = subprocess.run([\"github-linguist\", \"--json\", fname], capture_output=True)\n",
    "#             try:\n",
    "#                 res_dict = json.loads(res.stdout)\n",
    "#             except:\n",
    "#                 print(res)\n",
    "#                 res_dict = {fname: {'language': 'unknown'}}\n",
    "        \n",
    "#         print(res_dict)\n",
    "#         return res_dict"
   ]
  },
  {
   "cell_type": "code",
   "execution_count": 71,
   "id": "bfe4ee64",
   "metadata": {},
   "outputs": [],
   "source": [
    "def get_lang_counter(language, ext, show_xml=False, show_data=False, show_unk=False):\n",
    "    langs = {'xml': 0, 'data': 0, 'unknown': 0}\n",
    "#     print(f'Loading data for {language} (.{ext})')\n",
    "    ds = load_data(language, ext)\n",
    "#     print(f'Loaded data for {language} (.{ext})')\n",
    "    for i, sample in enumerate(tqdm(iter(ds))):\n",
    "        fname = f'{i}.{ext}'\n",
    "        lang = get_sample_lang(sample, show_data=show_data, show_xml=show_xml, show_unk=show_unk)\n",
    "        langs[lang] += 1\n",
    "#         os.remove(fname)\n",
    "    return langs"
   ]
  },
  {
   "cell_type": "code",
   "execution_count": 97,
   "id": "a49afd04",
   "metadata": {},
   "outputs": [
    {
     "name": "stderr",
     "output_type": "stream",
     "text": [
      "Using custom data configuration loubnabnl--the-stack-inspection-data-891973aacbe0c6b7\n",
      "Found cached dataset json (/Users/harm.devries/.cache/huggingface/datasets/loubnabnl___json/loubnabnl--the-stack-inspection-data-891973aacbe0c6b7/0.0.0/e6070c77f18f01a5ad4551a8b7edfba20b8438b7cad4d94e6ad9378022ce4aab)\n",
      "129it [00:00, 638.52it/s]"
     ]
    },
    {
     "name": "stdout",
     "output_type": "stream",
     "text": [
      "% \\iffalse meta-comment\n",
      "%\n",
      "%% File: l3token.dtx\n",
      "%\n",
      "% Copyright (C) 2005-2019 The LaTeX3 Project\n",
      "%\n",
      "% It may be distributed and/or modified under the conditions of the\n",
      "% LaTeX Project Public License (LPPL), either version 1.3c of this\n",
      "% license or (at your option) any later version.  The latest version\n",
      "% of this license is in the file\n",
      "%\n",
      "%    https://www.latex-project.org/lppl.txt\n",
      "%\n",
      "% This file is part of the \"l3kernel bundle\" (The Work in LPPL)\n",
      "% and all files in that bundle must be distributed toge\n",
      "% \\iffalse meta-comment\n",
      "%\n",
      "% File: tabularkv.dtx\n",
      "% Version: 2016/05/16 v1.2\n",
      "% Info: Tabular with key value interface\n",
      "%\n",
      "% Copyright (C) 2005, 2006 by\n",
      "%    Heiko Oberdiek <heiko.oberdiek at googlemail.com>\n",
      "%    2016\n",
      "%    https://github.com/ho-tex/oberdiek/issues\n",
      "%\n",
      "% This work may be distributed and/or modified under the\n",
      "% conditions of the LaTeX Project Public License, either\n",
      "% version 1.3c of this license or (at your option) any later\n",
      "% version. This version of this license is in\n",
      "%    http://www.l\n",
      "% \\iffalse meta-comment\n",
      "%\n",
      "%% File: l3draw.dtx\n",
      "%\n",
      "% Copyright(C) 2018-2020 The LaTeX3 Project\n",
      "%\n",
      "% It may be distributed and/or modified under the conditions of the\n",
      "% LaTeX Project Public License (LPPL), either version 1.3c of this\n",
      "% license or (at your option) any later version.  The latest version\n",
      "% of this license is in the file\n",
      "%\n",
      "%    http://www.latex-project.org/lppl.txt\n",
      "%\n",
      "% This file is part of the \"l3experimental bundle\" (The Work in LPPL)\n",
      "% and all files in that bundle must be distributed t\n",
      "% \\iffalse meta-comment\n",
      "%\n",
      "% Copyright 1993-2015\n",
      "% The LaTeX3 Project and any individual authors listed elsewhere\n",
      "% in this file.\n",
      "%\n",
      "% This file is part of the LaTeX base system.\n",
      "% -------------------------------------------\n",
      "%\n",
      "% It may be distributed and/or modified under the\n",
      "% conditions of the LaTeX Project Public License, either version 1.3c\n",
      "% of this license or (at your option) any later version.\n",
      "% The latest version of this license is in\n",
      "%    http://www.latex-project.org/lppl.txt\n",
      "% and versio\n",
      "% \\iffalse meta-comment\n",
      "%\n",
      "%% File: l3text-case.dtx\n",
      "%\n",
      "% Copyright (C) 2020,2021 The LaTeX Project\n",
      "%\n",
      "% It may be distributed and/or modified under the conditions of the\n",
      "% LaTeX Project Public License (LPPL), either version 1.3c of this\n",
      "% license or (at your option) any later version.  The latest version\n",
      "% of this license is in the file\n",
      "%\n",
      "%    https://www.latex-project.org/lppl.txt\n",
      "%\n",
      "% This file is part of the \"l3kernel bundle\" (The Work in LPPL)\n",
      "% and all files in that bundle must be distributed t\n",
      "% \\iffalse meta-comment\n",
      "%\n",
      "%% File: l3coffins.dtx\n",
      "%\n",
      "% Copyright (C) 2010-2020 The LaTeX3 Project\n",
      "%\n",
      "% It may be distributed and/or modified under the conditions of the\n",
      "% LaTeX Project Public License (LPPL), either version 1.3c of this\n",
      "% license or (at your option) any later version.  The latest version\n",
      "% of this license is in the file\n",
      "%\n",
      "%    https://www.latex-project.org/lppl.txt\n",
      "%\n",
      "% This file is part of the \"l3kernel bundle\" (The Work in LPPL)\n",
      "% and all files in that bundle must be distributed to\n",
      "% \\iffalse meta-comment\n",
      "%\n",
      "%% File: l3prg.dtx\n",
      "%\n",
      "% Copyright (C) 2005-2021 The LaTeX Project\n",
      "%\n",
      "% It may be distributed and/or modified under the conditions of the\n",
      "% LaTeX Project Public License (LPPL), either version 1.3c of this\n",
      "% license or (at your option) any later version.  The latest version\n",
      "% of this license is in the file\n",
      "%\n",
      "%    https://www.latex-project.org/lppl.txt\n",
      "%\n",
      "% This file is part of the \"l3kernel bundle\" (The Work in LPPL)\n",
      "% and all files in that bundle must be distributed togethe\n",
      "% \\iffalse meta-comment\n",
      "%\n",
      "%% File: l3clist.dtx\n",
      "%\n",
      "% Copyright (C) 2004-2011 Frank Mittelbach, The LaTeX3 Project\n",
      "%           (C) 2012-2020 The LaTeX3 Project\n",
      "%\n",
      "% It may be distributed and/or modified under the conditions of the\n",
      "% LaTeX Project Public License (LPPL), either version 1.3c of this\n",
      "% license or (at your option) any later version.  The latest version\n",
      "% of this license is in the file\n",
      "%\n",
      "%    https://www.latex-project.org/lppl.txt\n",
      "%\n",
      "% This file is part of the \"l3kernel bundle\" (The Work i\n",
      "% \\iffalse meta-comment\n",
      "%\n",
      "% Copyright (C) 2019 by Philipp Tempel <p.tempel@tudelft.nl>\n",
      "% -------------------------------------------------------\n",
      "% \n",
      "% This file may be distributed and/or modified under the\n",
      "% conditions of the LaTeX Project Public License, either version 1.3\n",
      "% of this license or (at your option) any later version.\n",
      "% The latest version of this license is in:\n",
      "%\n",
      "%    http://www.latex-project.org/lppl.txt\n",
      "%\n",
      "% and version 1.3 or later is part of all distributions of LaTeX \n",
      "% version 20\n",
      "% \\iffalse\n",
      "%\n",
      "%% File l3sort.dtx\n",
      "%\n",
      "% Copyright (C) 2012-2020 The LaTeX3 Project\n",
      "%\n",
      "% It may be distributed and/or modified under the conditions of the\n",
      "% LaTeX Project Public License (LPPL), either version 1.3c of this\n",
      "% license or (at your option) any later version.  The latest version\n",
      "% of this license is in the file\n",
      "%\n",
      "%    https://www.latex-project.org/lppl.txt\n",
      "%\n",
      "% This file is part of the \"l3kernel bundle\" (The Work in LPPL)\n",
      "% and all files in that bundle must be distributed together.\n",
      "%\n",
      "% -----\n",
      "% \\def\\filename{amsdtx.dtx}\n",
      "% \\def\\fileversion{2.07}\n",
      "% \\def\\filedate{2009/08/19}\n",
      "%\n",
      "% \\iffalse meta-comment\n",
      "%\n",
      "% American Mathematical Society\n",
      "% Technical Support\n",
      "% Publications Technical Group\n",
      "% 201 Charles Street\n",
      "% Providence, RI 02904\n",
      "% USA\n",
      "% tel: (401) 455-4080\n",
      "%      (800) 321-4267 (USA and Canada only)\n",
      "% fax: (401) 331-3842\n",
      "% email: tech-support@ams.org\n",
      "%\n",
      "% Copyright 1996, 1999, 2004, 2009 American Mathematical Society.\n",
      "%\n",
      "% This work may be distributed and/or modified under the\n",
      "% conditions \n",
      "% \\iffalse meta-comment\n",
      "%\n",
      "%% File: l3names.dtx\n",
      "%\n",
      "% Copyright (C) 1990-2020 The LaTeX3 Project\n",
      "%\n",
      "% It may be distributed and/or modified under the conditions of the\n",
      "% LaTeX Project Public License (LPPL), either version 1.3c of this\n",
      "% license or (at your option) any later version.  The latest version\n",
      "% of this license is in the file\n",
      "%\n",
      "%    https://www.latex-project.org/lppl.txt\n",
      "%\n",
      "% This file is part of the \"l3kernel bundle\" (The Work in LPPL)\n",
      "% and all files in that bundle must be distributed toge\n",
      "% \\iffalse meta-comment\n",
      "%\n",
      "% Copyright (C) 1993-2021\n",
      "% The LaTeX Project and any individual authors listed elsewhere\n",
      "% in this file.\n",
      "%\n",
      "% This file is part of the LaTeX base system.\n",
      "% -------------------------------------------\n",
      "%\n",
      "% It may be distributed and/or modified under the\n",
      "% conditions of the LaTeX Project Public License, either version 1.3c\n",
      "% of this license or (at your option) any later version.\n",
      "% The latest version of this license is in\n",
      "%    https://www.latex-project.org/lppl.txt\n",
      "% and ve\n",
      "% \\iffalse meta-comment\n",
      "%\n",
      "%% File: l3basics.dtx\n",
      "%\n",
      "% Copyright (C) 1990-2021 The LaTeX Project\n",
      "%\n",
      "% It may be distributed and/or modified under the conditions of the\n",
      "% LaTeX Project Public License (LPPL), either version 1.3c of this\n",
      "% license or (at your option) any later version.  The latest version\n",
      "% of this license is in the file\n",
      "%\n",
      "%    https://www.latex-project.org/lppl.txt\n",
      "%\n",
      "% This file is part of the \"l3kernel bundle\" (The Work in LPPL)\n",
      "% and all files in that bundle must be distributed toge\n",
      "##Package: BDE\n",
      "##Status: Generated\n",
      "----------------------------------------------------------------------------------------------------\n",
      "@@JvBDELists.pas\n",
      "Summary\n",
      "    Contains the TJvBDELists component.\n",
      "Author\n",
      "  Fedor Koshevnikov\n",
      "  Igor Pavluk\n",
      "  Serge Korolev\n",
      "----------------------------------------------------------------------------------------------------\n",
      "@@TJvTableList\n",
      "Summary\n",
      "  Write here a summary (1 line)\n",
      "Description\n",
      "  Write here a description\n",
      "\n",
      "----------------------------------------------\n",
      "% \\iffalse meta-comment\n",
      "%\n",
      "% File: listingsutf8.dtx\n",
      "% Version: 2019-12-10 v1.5\n",
      "% Info: Allow UTF-8 in listings input\n",
      "%\n",
      "% Copyright (C)\n",
      "%    2007, 2011 Heiko Oberdiek\n",
      "%    2016-2019 Oberdiek Package Support Group\n",
      "%    https://github.com/ho-tex/listingsutf8/issues\n",
      "%\n",
      "% This work may be distributed and/or modified under the\n",
      "% conditions of the LaTeX Project Public License, either\n",
      "% version 1.3c of this license or (at your option) any later\n",
      "% version. This version of this license is in\n",
      "%    https://ww\n",
      "##Package: DB\n",
      "##Status: Generated\n",
      "----------------------------------------------------------------------------------------------------\n",
      "@@JvDBRadioPanel.pas\n",
      "Summary\n",
      "    Contains the TJvDBRadioPanel component.\n",
      "Author\n",
      "  Steve Paris\n",
      "----------------------------------------------------------------------------------------------------\n",
      "@@TJvDBRadioPanel.Value\n",
      "Summary\n",
      "  Write here a summary (1 line)\n",
      "Description\n",
      "  Write here a description\n",
      "See Also\n",
      "  List here other properties, methods (comma seperated)\n",
      "  \n",
      "% \\iffalse meta-comment\n",
      "%\n",
      "%% File: l3fp-logic.dtx\n",
      "%\n",
      "% Copyright (C) 2011-2021 The LaTeX Project\n",
      "%\n",
      "% It may be distributed and/or modified under the conditions of the\n",
      "% LaTeX Project Public License (LPPL), either version 1.3c of this\n",
      "% license or (at your option) any later version.  The latest version\n",
      "% of this license is in the file\n",
      "%\n",
      "%    https://www.latex-project.org/lppl.txt\n",
      "%\n",
      "% This file is part of the \"l3kernel bundle\" (The Work in LPPL)\n",
      "% and all files in that bundle must be distributed to\n",
      "% \\iffalse meta-comment\n",
      "%\n",
      "% Copyright (©) 2014-2015 by Emmanuel Rousseaux <emmanuel.rousseaux@gmail.com>\n",
      "% -------------------------------------------------------\n",
      "% \n",
      "% This file may be distributed and/or modified under the\n",
      "% conditions of the LaTeX Project Public License, version 1.3c\n",
      "% of this license.\n",
      "% The latest version of this license is in:\n",
      "%\n",
      "%    http://www.latex-project.org/lppl.txt\n",
      "%\n",
      "%\n",
      "% \\fi\n",
      "%\n",
      "% \\iffalse\n",
      "%<*driver>\n",
      "\\ProvidesFile{gsemthesis.dtx}\n",
      "%</driver>\n",
      "%<class>\\NeedsTeXFormat{LaTeX2e\n",
      "% \\iffalse meta-comment\n",
      "%\n",
      "%% File: l3keys.dtx\n",
      "%\n",
      "% Copyright (C) 2006-2021 The LaTeX Project\n",
      "%\n",
      "% It may be distributed and/or modified under the conditions of the\n",
      "% LaTeX Project Public License (LPPL), either version 1.3c of this\n",
      "% license or (at your option) any later version.  The latest version\n",
      "% of this license is in the file\n",
      "%\n",
      "%    https://www.latex-project.org/lppl.txt\n",
      "%\n",
      "% This file is part of the \"l3kernel bundle\" (The Work in LPPL)\n",
      "% and all files in that bundle must be distributed togeth\n",
      "% \\iffalse meta-comment\n",
      "% !TEX program  = pdfLaTeX\n",
      "%<*internal>\n",
      "\\iffalse\n",
      "%</internal>\n",
      "%<*readme>\n",
      "----------------------------------------------------------------\n",
      "demopkg --- description text\n",
      "E-mail: you@your.domain\n",
      "Released under the LaTeX Project Public License v1.3c or later\n",
      "See http://www.latex-project.org/lppl.txt\n",
      "----------------------------------------------------------------\n",
      "\n",
      "Some text about the package: probably the same as the abstract.\n",
      "%</readme>\n",
      "%<*internal>\n",
      "\\fi\n",
      "\\def\\nameofplainTeX{pl\n",
      "% \\iffalse meta-comment\n",
      "%\n",
      "% Copyright (C) 1993-2022\n",
      "% The LaTeX Project and any individual authors listed elsewhere\n",
      "% in this file.\n",
      "%\n",
      "% This file is part of the LaTeX base system.\n",
      "% -------------------------------------------\n",
      "%\n",
      "% It may be distributed and/or modified under the\n",
      "% conditions of the LaTeX Project Public License, either version 1.3c\n",
      "% of this license or (at your option) any later version.\n",
      "% The latest version of this license is in\n",
      "%    https://www.latex-project.org/lppl.txt\n",
      "% and ve\n",
      "@@DateandTime.Scheduling\n",
      "<GROUP DateandTime>\n",
      "<TITLE Scheduling>\n",
      "<TOPICORDER 180>\n",
      "----------------------------------------------------------------------------------------------------\n",
      "@@DateandTime.Scheduling.Types\n",
      "<GROUP DateandTime.Scheduling>\n",
      "<TITLE Types>\n",
      "<TOPICORDER 90>\n",
      "----------------------------------------------------------------------------------------------------\n",
      "@@DateandTime.Scheduling.IJclSchedule\n",
      "<GROUP DateandTime.Scheduling>\n",
      "<TITLE IJclSchedule>\n",
      "<TOPICORDER 100>\n",
      "------------------\n",
      "@@LibrariesProcessesandThreads.AppInstances\r\n",
      "<GROUP LibrariesProcessesandThreads>\r\n",
      "<TITLE Application Instance Management>\r\n",
      "<TOPICORDER 300>\r\n",
      "--------------------------------------------------------------------------------\r\n",
      "@@JclAppInst.pas\r\n",
      "Description:\r\n",
      "  This unit contains a class and support routines for controlling the number of\r\n",
      "  concurrent instances of your application that can exist at any time. In\r\n",
      "  addition there is support for simple interprocess communication between these\r\n",
      "  insta\n",
      "% \\iffalse meta-comment\n",
      "%\n",
      "%% File: l3coffins.dtx\n",
      "%\n",
      "% Copyright (C) 2010-2020 The LaTeX3 Project\n",
      "%\n",
      "% It may be distributed and/or modified under the conditions of the\n",
      "% LaTeX Project Public License (LPPL), either version 1.3c of this\n",
      "% license or (at your option) any later version.  The latest version\n",
      "% of this license is in the file\n",
      "%\n",
      "%    https://www.latex-project.org/lppl.txt\n",
      "%\n",
      "% This file is part of the \"l3kernel bundle\" (The Work in LPPL)\n",
      "% and all files in that bundle must be distributed to\n",
      "% \\iffalse meta-comment\n",
      "%\n",
      "%% File: l3str-convert.dtx\n",
      "% \n",
      "% Copyright (C) 2013-2020 The LaTeX3 Project\n",
      "%\n",
      "% It may be distributed and/or modified under the conditions of the\n",
      "% LaTeX Project Public License (LPPL), either version 1.3c of this\n",
      "% license or (at your option) any later version.  The latest version\n",
      "% of this license is in the file\n",
      "%\n",
      "%    https://www.latex-project.org/lppl.txt\n",
      "%\n",
      "% This file is part of the \"l3kernel bundle\" (The Work in LPPL)\n",
      "% and all files in that bundle must be distribut\n",
      "% \\iffalse meta-comment\n",
      "%\n",
      "%% File: l3draw-softpath.dtx\n",
      "%\n",
      "% Copyright (C) 2018-2022 The LaTeX Project\n",
      "%\n",
      "% It may be distributed and/or modified under the conditions of the\n",
      "% LaTeX Project Public License (LPPL), either version 1.3c of this\n",
      "% license or (at your option) any later version.  The latest version\n",
      "% of this license is in the file\n",
      "%\n",
      "%    http://www.latex-project.org/lppl.txt\n",
      "%\n",
      "% This file is part of the \"l3experimental bundle\" (The Work in LPPL)\n",
      "% and all files in that bundle must be dist\n",
      "% \\iffalse meta-comment\n",
      "%\n",
      "%% File: xcoffins.dtx\n",
      "%\n",
      "% Copyright (C) 2010-2012,2014,2016-2020 The LaTeX3 Project\n",
      "%\n",
      "% It may be distributed and/or modified under the conditions of the\n",
      "% LaTeX Project Public License (LPPL), either version 1.3c of this\n",
      "% license or (at your option) any later version.  The latest version\n",
      "% of this license is in the file\n",
      "%\n",
      "%    https://www.latex-project.org/lppl.txt\n",
      "%\n",
      "% This file is part of the \"l3experimental bundle\" (The Work in LPPL)\n",
      "% and all files in that bundle mu\n",
      "%<*internal>\n",
      "\\begingroup\n",
      "  \\def\\nameoflatex{LaTeX2e}\n",
      "\\expandafter\\endgroup\\ifx\\nameoflatexe\\fmtname\\else\n",
      "\\csname fi\\endcsname\n",
      "%</internal>\n",
      "%<*install>\n",
      "\\input docstrip.tex\n",
      "\\nopreamble\n",
      "\\keepsilent\n",
      "\\askforoverwritefalse\n",
      "\\nopostamble\n",
      "\\generate{\n",
      "  \\file{test.bst}{\\from{gbt7714.dtx}{2015,numerical,nourl,nodoi}}\n",
      "  \\file{test.bib}{\\from{\\jobname.dtx}{bib}}\n",
      "}\n",
      "\\endbatchfile\n",
      "%</install>\n",
      "%<*internal>\n",
      "\\fi\n",
      "%</internal>\n",
      "%<*driver>\n",
      "\\ProvidesFile{\\jobname.dtx}\n",
      "%</driver>\n",
      "% \\fi\n",
      "%\n",
      "%    \\begin{macrocode}\n",
      "%<*bib>\n",
      "%<\n",
      "% \\iffalse meta-comment\n",
      "%\n",
      "%% File: l3fp-convert.dtx\n",
      "%\n",
      "% Copyright (C) 2011-2021 The LaTeX Project\n",
      "%\n",
      "% It may be distributed and/or modified under the conditions of the\n",
      "% LaTeX Project Public License (LPPL), either version 1.3c of this\n",
      "% license or (at your option) any later version.  The latest version\n",
      "% of this license is in the file\n",
      "%\n",
      "%    https://www.latex-project.org/lppl.txt\n",
      "%\n",
      "% This file is part of the \"l3kernel bundle\" (The Work in LPPL)\n",
      "% and all files in that bundle must be distributed \n",
      "% \\iffalse meta-comment\n",
      "%\n",
      "% Copyright 1993-2017\n",
      "% The LaTeX3 Project and any individual authors listed elsewhere\n",
      "% in this file.\n",
      "%\n",
      "% This file is part of the LaTeX base system.\n",
      "% -------------------------------------------\n",
      "%\n",
      "% It may be distributed and/or modified under the\n",
      "% conditions of the LaTeX Project Public License, either version 1.3c\n",
      "% of this license or (at your option) any later version.\n",
      "% The latest version of this license is in\n",
      "%    https://www.latex-project.org/lppl.txt\n",
      "% and versi\n",
      "% \\iffalse meta-comment\n",
      "%\n",
      "%% File: l3draw-scopes.dtx\n",
      "%\n",
      "% Copyright (C) 2018,2019 The LaTeX3 Project\n",
      "%\n",
      "% It may be distributed and/or modified under the conditions of the\n",
      "% LaTeX Project Public License (LPPL), either version 1.3c of this\n",
      "% license or (at your option) any later version.  The latest version\n",
      "% of this license is in the file\n",
      "%\n",
      "%    http://www.latex-project.org/lppl.txt\n",
      "%\n",
      "% This file is part of the \"l3experimental bundle\" (The Work in LPPL)\n",
      "% and all files in that bundle must be distr\n",
      "% \\iffalse meta-comment --------------------------------------------------\n",
      "% Copyright (C) 2021 SJTUG\n",
      "%\n",
      "% Licensed under the Apache License, Version 2.0 (the \"License\");\n",
      "% you may not use this file except in compliance with the License.\n",
      "% You may obtain a copy of the License at\n",
      "%\n",
      "%     http://www.apache.org/licenses/LICENSE-2.0\n",
      "%\n",
      "% Unless required by applicable law or agreed to in writing, software \n",
      "% distributed under the License is distributed on an \"AS IS\" BASIS,\n",
      "% WITHOUT WARRANTIES OR CONDI\n",
      "% \\iffalse\n",
      "%\n",
      "%% File l3fp-extras.dtx (C) Copyright 2012,2013,2017,2021 The LaTeX Project\n",
      "%\n",
      "% It may be distributed and/or modified under the conditions of the\n",
      "% LaTeX Project Public License (LPPL), either version 1.3c of this\n",
      "% license or (at your option) any later version.  The latest version\n",
      "% of this license is in the file\n",
      "%\n",
      "%    http://www.latex-project.org/lppl.txt\n",
      "%\n",
      "% This file is part of the \"l3trial bundle\" (The Work in LPPL)\n",
      "% and all files in that bundle must be distributed together.\n",
      "%\n",
      "% \\iffalse meta-comment\n",
      "% !TeX program  = XeLaTeX\n",
      "% !TeX encoding = UTF-8\n",
      "%\n",
      "% Copyright (C) 2017--2021 by Xiangdong Zeng <xdzeng96@gmail.com>\n",
      "%\n",
      "% This work may be distributed and/or modified under the\n",
      "% conditions of the LaTeX Project Public License, either\n",
      "% version 1.3c of this license or (at your option) any later\n",
      "% version. The latest version of this license is in:\n",
      "%\n",
      "%   http://www.latex-project.org/lppl.txt\n",
      "%\n",
      "% and version 1.3 or later is part of all distributions of\n",
      "% LaTeX version 2005/12\n",
      "% \\iffalse meta-comment\n",
      "%\n",
      "% Copyright (C) 2015-2021\n",
      "% The LaTeX Project and any individual authors listed elsewhere\n",
      "% in this file.\n",
      "%\n",
      "% This file is part of the LaTeX base system.\n",
      "% -------------------------------------------\n",
      "%\n",
      "% It may be distributed and/or modified under the\n",
      "% conditions of the LaTeX Project Public License, either version 1.3c\n",
      "% of this license or (at your option) any later version.\n",
      "% The latest version of this license is in\n",
      "%    https://www.latex-project.org/lppl.txt\n",
      "% and ve\n",
      "% \\iffalse meta-comment\n",
      "%\n",
      "% Copyright (C) 2010 by Luc Van Eycken <Luc.VanEycken@esat.kuleuven.be>\n",
      "% ---------------------------------------------------------------------\n",
      "% \n",
      "% This file may be distributed and/or modified under the\n",
      "% conditions of the LaTeX Project Public License, either version 1.2\n",
      "% of this license or (at your option) any later version.\n",
      "% The latest version of this license is in:\n",
      "%\n",
      "%    http://www.latex-project.org/lppl.txt\n",
      "%\n",
      "% and version 1.2 or later is part of all distributio\n",
      "% \\iffalse meta-comment -------------------------------------------------------\n",
      "% Copyright 2015 Matthias Vogelgesang and the LaTeX community. A full list of\n",
      "% contributors can be found at\n",
      "%\n",
      "%     https://github.com/matze/mtheme/graphs/contributors\n",
      "%\n",
      "% and the original template was based on the HSRM theme by Benjamin Weiss.\n",
      "%\n",
      "% This work is licensed under a Creative Commons Attribution-ShareAlike 4.0\n",
      "% International License (https://creativecommons.org/licenses/by-sa/4.0/).\n",
      "% -------------------\n",
      "% \\iffalse meta-comment\n",
      "%\n",
      "%% File: l3draw.dtx Copyright(C) 2018 The LaTeX3 Project\n",
      "%\n",
      "% It may be distributed and/or modified under the conditions of the\n",
      "% LaTeX Project Public License (LPPL), either version 1.3c of this\n",
      "% license or (at your option) any later version.  The latest version\n",
      "% of this license is in the file\n",
      "%\n",
      "%    http://www.latex-project.org/lppl.txt\n",
      "%\n",
      "% This file is part of the \"l3experimental bundle\" (The Work in LPPL)\n",
      "% and all files in that bundle must be distributed together.\n",
      "\n",
      "% \\iffalse meta-comment\n",
      "%%\n",
      "%% Copyright (C) 2020-2021\n",
      "%%               Frank Mittelbach, LaTeX Team\n",
      "%%\n",
      "%\n",
      "% This file is part of the LaTeX base system.\n",
      "% -------------------------------------------\n",
      "%\n",
      "% It may be distributed and/or modified under the\n",
      "% conditions of the LaTeX Project Public License, either version 1.3c\n",
      "% of this license or (at your option) any later version.\n",
      "% The latest version of this license is in\n",
      "%    https://www.latex-project.org/lppl.txt\n",
      "% and version 1.3c or later is part o\n",
      "##Package: BDE\n",
      "##Status: Generated\n",
      "----------------------------------------------------------------------------------------------------\n",
      "@@JvBDESecurity.pas\n",
      "Summary\n",
      "    Contains the TJvBDESecurity component.\n",
      "Author\n",
      "  Fedor Koshevnikov\n",
      "  Igor Pavluk\n",
      "  Serge Korolev\n",
      "----------------------------------------------------------------------------------------------------\n",
      "@@TJvDBSecurity.UsersTableName\n",
      "Summary\n",
      "  Write here a summary (1 line)\n",
      "Description\n",
      "  Write here a description\n",
      "See Also\n",
      "  List here othe\n",
      "%\n",
      "% \\iffalse\n",
      "%\n",
      "%<*pkg_common>\n",
      "%% Copyright (c) 2010 by Lars Hellstrom.  All rights reserved.\n",
      "%% See the file \"license.terms\" for information on usage and redistribution\n",
      "%% of this file, and for a DISCLAIMER OF ALL WARRANTIES.\n",
      "%</pkg_common>\n",
      "%<*driver>\n",
      "\\documentclass{tclldoc}\n",
      "\\usepackage{amsmath,amsfonts}\n",
      "\\usepackage{url}\n",
      "\\newcommand{\\Tcl}{\\Tcllogo}\n",
      "\\begin{document}\n",
      "\\DocInput{numtheory.dtx}\n",
      "\\end{document}\n",
      "%</driver>\n",
      "% \\fi\n",
      "%\n",
      "% \\title{Number theory package}\n",
      "% \\author{Lars Hellstr\\\"om}\n",
      "% \\date{30 Ma\n",
      "% \\iffalse meta-comment\n",
      "%\n",
      "%% File: xcoffins.dtx\n",
      "%\n",
      "% Copyright (C) 2010-2012,2014,2016-2020 The LaTeX3 Project\n",
      "%\n",
      "% It may be distributed and/or modified under the conditions of the\n",
      "% LaTeX Project Public License (LPPL), either version 1.3c of this\n",
      "% license or (at your option) any later version.  The latest version\n",
      "% of this license is in the file\n",
      "%\n",
      "%    https://www.latex-project.org/lppl.txt\n",
      "%\n",
      "% This file is part of the \"l3experimental bundle\" (The Work in LPPL)\n",
      "% and all files in that bundle mu\n",
      "% \\iffalse meta-comment\n",
      "%\n",
      "%% File: l3pdf.dtx\n",
      "%\n",
      "% Copyright(C) 2019-2021 The LaTeX Project\n",
      "%\n",
      "% It may be distributed and/or modified under the conditions of the\n",
      "% LaTeX Project Public License (LPPL), either version 1.3c of this\n",
      "% license or (at your option) any later version.  The latest version\n",
      "% of this license is in the file\n",
      "%\n",
      "%    http://www.latex-project.org/lppl.txt\n",
      "%\n",
      "% This file is part of the \"l3kernel bundle\" (The Work in LPPL)\n",
      "% and all files in that bundle must be distributed together.\n",
      "% \\iffalse meta-comment\n",
      "%\n",
      "%% File: l3debug.dtx\n",
      "%\n",
      "% Copyright (C) 2019,2020 The LaTeX3 Project\n",
      "%\n",
      "% It may be distributed and/or modified under the conditions of the\n",
      "% LaTeX Project Public License (LPPL), either version 1.3c of this\n",
      "% license or (at your option) any later version.  The latest version\n",
      "% of this license is in the file\n",
      "%\n",
      "%    https://www.latex-project.org/lppl.txt\n",
      "%\n",
      "% This file is part of the \"l3kernel bundle\" (The Work in LPPL)\n",
      "% and all files in that bundle must be distributed toge\n",
      "% \\iffalse meta-comment\n",
      "%\n",
      "% Copyright (C) 1993-2020\n",
      "%\n",
      "% The LaTeX3 Project and any individual authors listed elsewhere\n",
      "% in this file.\n",
      "%\n",
      "% This file is part of the Standard LaTeX `Tools Bundle'.\n",
      "% -------------------------------------------------------\n",
      "%\n",
      "% It may be distributed and/or modified under the\n",
      "% conditions of the LaTeX Project Public License, either version 1.3c\n",
      "% of this license or (at your option) any later version.\n",
      "% The latest version of this license is in\n",
      "%    https://www.latex-pr\n",
      "##Package: DB\n",
      "##Status: Generated\n",
      "----------------------------------------------------------------------------------------------------\n",
      "@@JvDBLookupComboEdit.pas\n",
      "Summary\n",
      "    Contains the TJvDBLookupComboEdit component.\n",
      "Author\n",
      "  Michael Habbe\n",
      "----------------------------------------------------------------------------------------------------\n",
      "@@TJvDBLookupComboEdit.UpdateAction\n",
      "Summary\n",
      "  Write here a summary (1 line)\n",
      "Description\n",
      "  This is an overridden method, you don't have to describe these if it\n",
      "% \\iffalse meta-comment\n",
      "%\n",
      "% Copyright (C) 1995 - 2012 Jobst Hoffmann, FH Aachen, Campus J\"ulich\n",
      "% <j.hoffmann_(at)_fh-aachen.de>\n",
      "% -------------------------------------------------------------------------------------------\n",
      "%\n",
      "% This file may be distributed and/or modified under the\n",
      "% conditions of the LaTeX Project Public License, either version 1.2\n",
      "% of this license or (at your option) any later version.\n",
      "% The latest version of this license is in:\n",
      "%\n",
      "%    http://www.latex-project.org/lppl.txt\n",
      "%\n",
      "%\n",
      "% \\iffalse meta-comment\n",
      "%\n",
      "% File: chemarr.dtx\n",
      "% Version: 2006/02/20 v1.2\n",
      "% Info: Arrows for chemical reactions\n",
      "%\n",
      "% Copyright (C) 2001, 2006 by\n",
      "%    Heiko Oberdiek <heiko.oberdiek at googlemail.com>\n",
      "%\n",
      "% This work may be distributed and/or modified under the\n",
      "% conditions of the LaTeX Project Public License, either\n",
      "% version 1.3c of this license or (at your option) any later\n",
      "% version. This version of this license is in\n",
      "%    http://www.latex-project.org/lppl/lppl-1-3c.txt\n",
      "% and the latest version o\n",
      "% \\iffalse meta-comment\n",
      "%\n",
      "% File: siunitx-emulation.dtx Copyright (C) 2016-2018 Joseph Wright\n",
      "%\n",
      "% It may be distributed and/or modified under the conditions of the\n",
      "% LaTeX Project Public License (LPPL), either version 1.3c of this\n",
      "% license or (at your option) any later version.  The latest version\n",
      "% of this license is in the file\n",
      "%\n",
      "%    https://www.latex-project.org/lppl.txt\n",
      "%\n",
      "% This file is part of the \"siunitx bundle\" (The Work in LPPL)\n",
      "% and all files in that bundle must be distributed toget\n",
      "% \\iffalse meta-comment\n",
      "%\n",
      "% Copyright (C) 1993-2019\n",
      "% The LaTeX3 Project and any individual authors listed elsewhere\n",
      "% in this file.\n",
      "%\n",
      "% This file is part of the LaTeX base system.\n",
      "% -------------------------------------------\n",
      "%\n",
      "% It may be distributed and/or modified under the\n",
      "% conditions of the LaTeX Project Public License, either version 1.3c\n",
      "% of this license or (at your option) any later version.\n",
      "% The latest version of this license is in\n",
      "%    https://www.latex-project.org/lppl.txt\n",
      "% and v\n",
      "% \\iffalse meta-comment\n",
      "%\n",
      "% Copyright (C) 1993-2019\n",
      "% The LaTeX3 Project and any individual authors listed elsewhere\n",
      "% in this file.\n",
      "%\n",
      "% This file is part of the LaTeX base system.\n",
      "% -------------------------------------------\n",
      "%\n",
      "% It may be distributed and/or modified under the\n",
      "% conditions of the LaTeX Project Public License, either version 1.3c\n",
      "% of this license or (at your option) any later version.\n",
      "% The latest version of this license is in\n",
      "%    https://www.latex-project.org/lppl.txt\n",
      "% and v\n",
      "% \\iffalse meta-comment\n",
      "%\n",
      "% Copyright (C) 2009-2017 by weijianwen <weijianwen@gmail.com>\n",
      "%           (C) 2018-2019 by SJTUG\n",
      "%\n",
      "% This file may be distributed and/or modified under the\n",
      "% conditions of the LaTeX Project Public License, either version 1.3c\n",
      "% of this license or (at your option) any later version.\n",
      "% The latest version of this license is in\n",
      "%    https://www.latex-project.org/lppl.txt\n",
      "% and version 1.3c or later is part of all distributions of LaTeX\n",
      "% version 2005/12/01 or later.\n",
      "%\n",
      "% Th\n",
      "%\\iffalse meta-comment\n",
      "%Copyright (c) 2019 Matthew Scroggs & Adam Townsend\n",
      "%\n",
      "%Permission is hereby granted, free of charge, to any person obtaining a copy\n",
      "%of this software and associated documentation files (the \"Software\"), to deal\n",
      "%in the Software without restriction, including without limitation the rights\n",
      "%to use, copy, modify, merge, publish, distribute, sublicense, and/or sell\n",
      "%copies of the Software, and to permit persons to whom the Software is\n",
      "%furnished to do so, subject to the follow\n",
      "% \\iffalse\n",
      "%\n",
      "%% File l3fp-functions.dtx (C) Copyright 2012-2018,2020,2021 The LaTeX Project\n",
      "%\n",
      "% It may be distributed and/or modified under the conditions of the\n",
      "% LaTeX Project Public License (LPPL), either version 1.3c of this\n",
      "% license or (at your option) any later version.  The latest version\n",
      "% of this license is in the file\n",
      "%\n",
      "%    http://www.latex-project.org/lppl.txt\n",
      "%\n",
      "% This file is part of the \"l3trial bundle\" (The Work in LPPL)\n",
      "% and all files in that bundle must be distributed together\n",
      "%     \\subsection{Dependencies}\n",
      "%       This part of the package loads various packages that are used to draw and insert graphics.\n",
      "%       There isn't much original work here yet, so it can safely be ignored.\n",
      "%\n",
      "% \\iffalse\n",
      "%<*package>\n",
      "% \\fi\n",
      "%    \\begin{macrocode}\n",
      "%%------------------------------------------------------------\n",
      "%% Graphics\n",
      "  \\RequirePackage{graphicx}\n",
      "  \\RequirePackage{svg}\n",
      "  \\RequirePackage{wrapfig}\n",
      "  \\RequirePackage{lscape}\n",
      "  \\RequirePackage{rotating}\n",
      "  \\RequirePackage{caption}\n",
      "  \\\n",
      "% \\iffalse meta-comment\n",
      "%\n",
      "% Copyright (C) 1993-2021\n",
      "% The LaTeX Project and any individual authors listed elsewhere\n",
      "% in this file.\n",
      "%\n",
      "% This file is part of the LaTeX base system.\n",
      "% -------------------------------------------\n",
      "%\n",
      "% It may be distributed and/or modified under the\n",
      "% conditions of the LaTeX Project Public License, either version 1.3c\n",
      "% of this license or (at your option) any later version.\n",
      "% The latest version of this license is in\n",
      "%    https://www.latex-project.org/lppl.txt\n",
      "% and ve\n",
      "% \\iffalse meta-comment\n",
      "%\n",
      "% Copyright 1993-2015\n",
      "%\n",
      "% The LaTeX3 Project and any individual authors listed elsewhere\n",
      "% in this file.\n",
      "%\n",
      "% This file is part of the Standard LaTeX `Tools Bundle'.\n",
      "% -------------------------------------------------------\n",
      "%\n",
      "% It may be distributed and/or modified under the\n",
      "% conditions of the LaTeX Project Public License, either version 1.3c\n",
      "% of this license or (at your option) any later version.\n",
      "% The latest version of this license is in\n",
      "%    http://www.latex-project\n",
      "% \\iffalse meta-comment\n",
      "%\n",
      "% Copyright (C) 1993-2020\n",
      "% The LaTeX3 Project and any individual authors listed elsewhere\n",
      "% in this file.\n",
      "%\n",
      "% This file is part of the LaTeX base system.\n",
      "% -------------------------------------------\n",
      "%\n",
      "% It may be distributed and/or modified under the\n",
      "% conditions of the LaTeX Project Public License, either version 1.3c\n",
      "% of this license or (at your option) any later version.\n",
      "% The latest version of this license is in\n",
      "%    https://www.latex-project.org/lppl.txt\n",
      "% and v\n",
      "@@pcre\n",
      "<GROUP JCL>\n",
      "Summary:\n",
      "  Header conversions and dynamic library loading routines for pcre.dll\n",
      "  (Perl-compatible Regular Expressions).\n",
      "Description:\n",
      "  Header conversions and dynamic library loading routines for pcre.dll\n",
      "  (Perl-compatible Regular Expressions).\n",
      "  \n",
      "  Requires pcre.dll for the Windows platform.\n",
      "  Requires libpcre.so.0 for UNIX and Linux platforms.\n",
      "  The PCRE code can be statically linked as well.\n",
      "Notes:\n",
      "  If you enable static linking of a DLL, this means that the\n",
      "  pcre.dll *mu\n",
      "% \\iffalse meta-comment\n",
      "%<*internal>\n",
      "\\iffalse\n",
      "%</internal>\n",
      "%<*internal>\n",
      "\\fi\n",
      "\\def\\nameofplainTeX{plain}\n",
      "\\ifx\\fmtname\\nameofplainTeX\\else\n",
      "  \\expandafter\\begingroup\n",
      "\\fi\n",
      "%</internal>\n",
      "%<*install>\n",
      "\\input docstrip.tex\n",
      "\\keepsilent\n",
      "\\askforoverwritefalse\n",
      "\\declarepreamble\\bibtexengpre\n",
      "lnig.bst\n",
      "Lecture Notes in Informatics Style File (english)\n",
      "Version 1.0 (2017/04/07)\n",
      "\n",
      "The Style File is based on alpha.bst\n",
      "\n",
      "This work may be freely used,\n",
      "distributed and modified.\n",
      "Modified files should be clearly indicated as \n",
      "% \\iffalse meta-comment\n",
      "%\n",
      "% Copyright (C) 1993-2022\n",
      "% The LaTeX Project and any individual authors listed elsewhere\n",
      "% in this file.\n",
      "%\n",
      "% This file is part of the LaTeX base system.\n",
      "% -------------------------------------------\n",
      "%\n",
      "% It may be distributed and/or modified under the\n",
      "% conditions of the LaTeX Project Public License, either version 1.3c\n",
      "% of this license or (at your option) any later version.\n",
      "% The latest version of this license is in\n",
      "%    https://www.latex-project.org/lppl.txt\n",
      "% and ve\n",
      "##Package: Core\n",
      "##Status: Completed (I)\n",
      "----------------------------------------------------------------------------------------------------\n",
      "@@JvComponent.pas\n",
      "Summary\n",
      "    Contains the base components for JVCL.\n",
      "Author\n",
      "  Joe Doe\n",
      "----------------------------------------------------------------------------------------------------\n",
      "@@TJvForm.ShowNoActivate\n",
      "Summary\n",
      "  Write here a summary (1 line)\n",
      "Description\n",
      "  Write here a description\n",
      "Parameters\n",
      "  CallActivate - Description for this parameter\n",
      "See Also\n",
      "\n",
      "% \\iffalse\n",
      "%% File: nameref.dtx\n",
      "%% Copyright (C) 1995-1999 Sebastian Rahtz\n",
      "%%               2000 Sebastian Rahtz, Heiko Oberdiek\n",
      "%%               2001-2012 Heiko Oberdiek\n",
      "%%               2016 Oberdiek Package Suport Group\n",
      "%%      https://github.com/ho-tex/hyperref/issues\n",
      "%%\n",
      "%% This file is part of the `Hyperref Bundle'.\n",
      "%% -------------------------------------------\n",
      "%%\n",
      "%% This work may be distributed and/or modified under the\n",
      "%% conditions of the LaTeX Project Public License, either version 1.3\n",
      "\n",
      "  * Markus Spoettl (Doc-O-Matic)\n",
      "  * Rene Tschaggelar (JEDI Newsgroups)\n",
      "\n",
      "% \\iffalse meta-comment\n",
      "%\n",
      "%% File: l3backend-box.dtx\n",
      "%\n",
      "% Copyright (C) 2019 The LaTeX3 Project\n",
      "%\n",
      "% It may be distributed and/or modified under the conditions of the\n",
      "% LaTeX Project Public License (LPPL), either version 1.3c of this\n",
      "% license or (at your option) any later version.  The latest version\n",
      "% of this license is in the file\n",
      "%\n",
      "%    https://www.latex-project.org/lppl.txt\n",
      "%\n",
      "% This file is part of the \"l3backend bundle\" (The Work in LPPL)\n",
      "% and all files in that bundle must be distributed to\n",
      "% \\iffalse meta-comment\n",
      "%\n",
      "%% File: l3keys.dtx\n",
      "%\n",
      "% Copyright (C) 2006-2020 The LaTeX3 Project\n",
      "%\n",
      "% It may be distributed and/or modified under the conditions of the\n",
      "% LaTeX Project Public License (LPPL), either version 1.3c of this\n",
      "% license or (at your option) any later version.  The latest version\n",
      "% of this license is in the file\n",
      "%\n",
      "%    https://www.latex-project.org/lppl.txt\n",
      "%\n",
      "% This file is part of the \"l3kernel bundle\" (The Work in LPPL)\n",
      "% and all files in that bundle must be distributed toget\n",
      "% \\iffalse meta-comment\n",
      "%\n",
      "%% File: l3draw-points.dtx\n",
      "%\n",
      "% Copyright (C) 2018-2022 The LaTeX Project\n",
      "%\n",
      "% It may be distributed and/or modified under the conditions of the\n",
      "% LaTeX Project Public License (LPPL), either version 1.3c of this\n",
      "% license or (at your option) any later version.  The latest version\n",
      "% of this license is in the file\n",
      "%\n",
      "%    http://www.latex-project.org/lppl.txt\n",
      "%\n",
      "% This file is part of the \"l3experimental bundle\" (The Work in LPPL)\n",
      "% and all files in that bundle must be distri\n",
      "% \\iffalse meta-comment\n",
      "%\n",
      "% Copyright 1993-2016\n",
      "% The LaTeX3 Project and any individual authors listed elsewhere\n",
      "% in this file.\n",
      "%\n",
      "% This file is part of the LaTeX base system.\n",
      "% -------------------------------------------\n",
      "%\n",
      "% It may be distributed and/or modified under the\n",
      "% conditions of the LaTeX Project Public License, either version 1.3c\n",
      "% of this license or (at your option) any later version.\n",
      "% The latest version of this license is in\n",
      "%    http://www.latex-project.org/lppl.txt\n",
      "% and versio\n",
      "%\n",
      "% \\iffalse\n",
      "%\n",
      "%% lscape.dtx Copyright (C) 1994 1999-2000 David Carlisle\n",
      "%%            Copyright (C) 2000-2020 David Carlisle, LaTeX3 Project\n",
      "%%\n",
      "%% This file is part of the Standard LaTeX `Graphics Bundle'.\n",
      "%% It may be distributed under the terms of the LaTeX Project Public\n",
      "%% License, as described in lppl.txt in the base LaTeX distribution.\n",
      "%% Either version 1.3c or, at your option, any later version.\n",
      "%%\n",
      "%<*dtx>\n",
      "          \\ProvidesFile{lscape.dtx}\n",
      "%</dtx>\n",
      "%<package>\\NeedsTeXFormat{LaTeX2e}[199\n",
      "% \\iffalse\n",
      "%\n",
      "%% File l3htoks.dtx Copyright (C) 2013-2017,2020,2021 The LaTeX Project\n",
      "%%\n",
      "%% It may be distributed and/or modified under the conditions of the\n",
      "%% LaTeX Project Public License (LPPL), either version 1.3c of this\n",
      "%% license or (at your option) any later version.  The latest version\n",
      "%% of this license is in the file\n",
      "%%\n",
      "%%    http://www.latex-project.org/lppl.txt\n",
      "%%\n",
      "%% This file is part of the \"l3trial bundle\" (The Work in LPPL)\n",
      "%% and all files in that bundle must be distributed toget\n",
      "% \\iffalse meta-comment\n",
      "%\n",
      "% Copyright (C) 2008-2014 by Ulrich M. Schwarz\n",
      "% Copyright (C) 2019      by Frank Mittelbach\n",
      "% Copyright (C) 2020-     by Yukai Chou\n",
      "%\n",
      "% This file may be distributed and/or modified under the conditions of\n",
      "% the LaTeX Project Public License, version 1.3c.\n",
      "% The license can be obtained from\n",
      "% http://www.latex-project.org/lppl/lppl-1-3c.txt\n",
      "%\n",
      "% \\fi\n",
      "%\n",
      "%\\iffalse (hide this from DocInput)\n",
      "%<*kv>\n",
      "%\\fi\n",
      "%\n",
      "%\\StopEventually{}\n",
      "%    \\begin{macrocode}\n",
      "\n",
      "\\let\\@xa\\expandafter\n",
      "\\let\\@nx\\\n",
      "% \\iffalse meta-comment\n",
      "%<*internal>\n",
      "\\iffalse\n",
      "%</internal>\n",
      "%<*readme>\n",
      "----------------------------------------------------------------\n",
      "ifmm --- A Robust ifmmode\n",
      "Author:  Mike Conley\n",
      "E-mail:  conasdf@gmail.com\n",
      "License: Released under the LaTeX Project Public License v1.3c or later\n",
      "See:     http://www.latex-project.org/lppl.txt\n",
      "----------------------------------------------------------------\n",
      "%</readme>\n",
      "%<*internal>\n",
      "\\fi\n",
      "\\def\\nameofplainTeX{plain}\n",
      "\\ifx\\fmtname\\nameofplainTeX\\else\n",
      "  \\expandafter\\begi\n",
      "%%^^A%%  fontspec-xfss.dtx -- part of FONTSPEC <wspr.io/fontspec>\n",
      "\n",
      "% \\section{Changes to the NFSS}\n",
      "%\n",
      "%    \\begin{macrocode}\n",
      "%<*fontspec>\n",
      "%    \\end{macrocode}\n",
      "%\n",
      "%\n",
      "% \\subsection{Italic small caps and so on} \\label{sec:sishape}\n",
      "%\n",
      "% \\begin{macro}{\\sishape}\n",
      "% \\begin{macro}{\\textsi}\n",
      "% These commands for actually selecting italic small caps have been defined for many years; I'm inclined to drop them.\n",
      "% They're probably used very infrequently; I personally prefer just writing\n",
      "% |\\textit{\\textsc{...}}| i\n",
      "% \\iffalse meta-comment\n",
      "%\n",
      "%% File: l3luatex.dtx Copyright (C) 2010-2018 The LaTeX3 Project\n",
      "%\n",
      "% It may be distributed and/or modified under the conditions of the\n",
      "% LaTeX Project Public License (LPPL), either version 1.3c of this\n",
      "% license or (at your option) any later version.  The latest version\n",
      "% of this license is in the file\n",
      "%\n",
      "%    https://www.latex-project.org/lppl.txt\n",
      "%\n",
      "% This file is part of the \"l3kernel bundle\" (The Work in LPPL)\n",
      "% and all files in that bundle must be distributed togethe\n",
      "% \\begin{meta-comment}\n",
      "%\n",
      "% $Id: cmtt.dtx,v 1.1 1996/11/19 20:47:55 mdw Exp $\n",
      "%\n",
      "% Nicer handling of the Computer Modern Typewriter font\n",
      "%\n",
      "% (c) 1996 Mark Wooding\n",
      "%\n",
      "%----- Revision history -----------------------------------------------------\n",
      "%\n",
      "% $Log: cmtt.dtx,v $\n",
      "% Revision 1.1  1996/11/19 20:47:55  mdw\n",
      "% Initial revision\n",
      "%\n",
      "%\n",
      "% \\end{meta-comment}\n",
      "%\n",
      "% \\begin{meta-comment} <general public licence>\n",
      "%%\n",
      "%% mdwlist package -- various list-related things\n",
      "%% Copyright (c) 1996 Mark Wooding\n",
      "%%\n",
      "%% This pr\n",
      "% \\iffalse meta-comment\n",
      "%\n",
      "% Copyright (C) 1993-2020\n",
      "% The LaTeX3 Project and any individual authors listed elsewhere\n",
      "% in this file.\n",
      "%\n",
      "% This file is part of the LaTeX base system.\n",
      "% -------------------------------------------\n",
      "%\n",
      "% It may be distributed and/or modified under the\n",
      "% conditions of the LaTeX Project Public License, either version 1.3c\n",
      "% of this license or (at your option) any later version.\n",
      "% The latest version of this license is in\n",
      "%    https://www.latex-project.org/lppl.txt\n",
      "% and v\n",
      "% \\CheckSum{71}\n",
      "%% \\CharacterTable\n",
      "%%  {Upper-case    \\A\\B\\C\\D\\E\\F\\G\\H\\I\\J\\K\\L\\M\\N\\O\\P\\Q\\R\\S\\T\\U\\V\\W\\X\\Y\\Z\n",
      "%%   Lower-case    \\a\\b\\c\\d\\e\\f\\g\\h\\i\\j\\k\\l\\m\\n\\o\\p\\q\\r\\s\\t\\u\\v\\w\\x\\y\\z\n",
      "%%   Digits        \\0\\1\\2\\3\\4\\5\\6\\7\\8\\9\n",
      "%%   Exclamation   \\!     Double quote  \\\"     Hash (number) \\#\n",
      "%%   Dollar        \\$     Percent       \\%     Ampersand     \\&\n",
      "%%   Acute accent  \\'     Left paren    \\(     Right paren   \\)\n",
      "%%   Asterisk      \\*     Plus          \\+     Comma         \\,\n",
      "%%   Minus         \\-    \n",
      "%\n",
      "% \\iffalse meta-comment\n",
      "%\n",
      "% Copyright 1995, 1999 American Mathematical Society.\n",
      "% Copyright 2016 LaTeX3 Project and American Mathematical Society. \n",
      "%\n",
      "% This work may be distributed and/or modified under the\n",
      "% conditions of the LaTeX Project Public License, either version 1.3c\n",
      "% of this license or (at your option) any later version.\n",
      "% The latest version of this license is in\n",
      "%   http://www.latex-project.org/lppl.txt\n",
      "% and version 1.3c or later is part of all distributions of LaTeX\n",
      "% version 200\n",
      "% \\iffalse meta-comment\n",
      "%\n",
      "% Copyright (C) 1993-2021\n",
      "% The LaTeX Project and any individual authors listed elsewhere\n",
      "% in this file.\n",
      "%\n",
      "% This file is part of the LaTeX base system.\n",
      "% -------------------------------------------\n",
      "%\n",
      "% It may be distributed and/or modified under the\n",
      "% conditions of the LaTeX Project Public License, either version 1.3c\n",
      "% of this license or (at your option) any later version.\n",
      "% The latest version of this license is in\n",
      "%    https://www.latex-project.org/lppl.txt\n",
      "% and ve\n",
      "% \\iffalse meta-comment\n",
      "%\n",
      "%% File: l3tl.dtx\n",
      "%\n",
      "% Copyright (C) 1990-2020 The LaTeX3 Project\n",
      "%\n",
      "% It may be distributed and/or modified under the conditions of the\n",
      "% LaTeX Project Public License (LPPL), either version 1.3c of this\n",
      "% license or (at your option) any later version.  The latest version\n",
      "% of this license is in the file\n",
      "%\n",
      "%    https://www.latex-project.org/lppl.txt\n",
      "%\n",
      "% This file is part of the \"l3kernel bundle\" (The Work in LPPL)\n",
      "% and all files in that bundle must be distributed togethe\n",
      "% \\iffalse meta-comment\n",
      "%\n",
      "%% File: l3backend-box.dtx\n",
      "%\n",
      "% Copyright (C) 2019,2020 The LaTeX3 Project\n",
      "%\n",
      "% It may be distributed and/or modified under the conditions of the\n",
      "% LaTeX Project Public License (LPPL), either version 1.3c of this\n",
      "% license or (at your option) any later version.  The latest version\n",
      "% of this license is in the file\n",
      "%\n",
      "%    https://www.latex-project.org/lppl.txt\n",
      "%\n",
      "% This file is part of the \"l3backend bundle\" (The Work in LPPL)\n",
      "% and all files in that bundle must be distribut\n",
      "% \\iffalse meta-comment\n",
      "%\n",
      "%% File: l3backend-basics.dtx\n",
      "%\n",
      "% Copyright (C) 2019-2021 The LaTeX Project\n",
      "%\n",
      "% It may be distributed and/or modified under the conditions of the\n",
      "% LaTeX Project Public License (LPPL), either version 1.3c of this\n",
      "% license or (at your option) any later version.  The latest version\n",
      "% of this license is in the file\n",
      "%\n",
      "%    https://www.latex-project.org/lppl.txt\n",
      "%\n",
      "% This file is part of the \"l3backend bundle\" (The Work in LPPL)\n",
      "% and all files in that bundle must be distrib\n",
      "% \\iffalse meta-comment\n",
      "%\n",
      "% Copyright 1993-2018\n",
      "% The LaTeX3 Project and any individual authors listed elsewhere\n",
      "% in this file.\n",
      "%\n",
      "% This file is part of the LaTeX base system.\n",
      "% -------------------------------------------\n",
      "%\n",
      "% It may be distributed and/or modified under the\n",
      "% conditions of the LaTeX Project Public License, either version 1.3c\n",
      "% of this license or (at your option) any later version.\n",
      "% The latest version of this license is in\n",
      "%    https://www.latex-project.org/lppl.txt\n",
      "% and versi\n",
      "% \\iffalse meta-comment\n",
      "%\n",
      "%% File: l3seq.dtx\n",
      "%\n",
      "% Copyright (C) 1990-2020 The LaTeX3 Project\n",
      "%\n",
      "% It may be distributed and/or modified under the conditions of the\n",
      "% LaTeX Project Public License (LPPL), either version 1.3c of this\n",
      "% license or (at your option) any later version.  The latest version\n",
      "% of this license is in the file\n",
      "%\n",
      "%    https://www.latex-project.org/lppl.txt\n",
      "%\n",
      "% This file is part of the \"l3kernel bundle\" (The Work in LPPL)\n",
      "% and all files in that bundle must be distributed togeth\n",
      "% \\iffalse meta-comment\n",
      "%\n",
      "% Copyright (C) 1993-2019\n",
      "% The LaTeX3 Project and any individual authors listed elsewhere\n",
      "% in this file.\n",
      "%\n",
      "% This file is part of the LaTeX base system.\n",
      "% -------------------------------------------\n",
      "%\n",
      "% It may be distributed and/or modified under the\n",
      "% conditions of the LaTeX Project Public License, either version 1.3c\n",
      "% of this license or (at your option) any later version.\n",
      "% The latest version of this license is in\n",
      "%    https://www.latex-project.org/lppl.txt\n",
      "% and v\n",
      "% \\iffalse meta-comment\n",
      "%\n",
      "% File: hypdoc.dtx\n",
      "% Version: 2021-11-15 v1.15\n",
      "% Info: Hyper extensions for doc.sty\n",
      "%\n",
      "% Copyright (C)\n",
      "%    2002, 2006, 2007, 2009-2011 Heiko Oberdiek\n",
      "%    2016-2021 Oberdiek Package Support Group\n",
      "%    https://github.com/ho-tex/hypdoc/issues\n",
      "%\n",
      "% This work may be distributed and/or modified under the\n",
      "% conditions of the LaTeX Project Public License, either\n",
      "% version 1.3c of this license or (at your option) any later\n",
      "% version. This version of this license is in\n",
      "%    https\n",
      "% \\iffalse meta-comment\n",
      "%\n",
      "%% File: l3str.dtx Copyright (C) 2011-2018 The LaTeX3 Project\n",
      "%\n",
      "% It may be distributed and/or modified under the conditions of the\n",
      "% LaTeX Project Public License (LPPL), either version 1.3c of this\n",
      "% license or (at your option) any later version.  The latest version\n",
      "% of this license is in the file\n",
      "%\n",
      "%    https://www.latex-project.org/lppl.txt\n",
      "%\n",
      "% This file is part of the \"l3kernel bundle\" (The Work in LPPL)\n",
      "% and all files in that bundle must be distributed together.\n",
      "\n",
      "% \\iffalse meta-comment\n",
      "%\n",
      "%% File: l3skip.dtx\n",
      "%\n",
      "% Copyright (C) 2004-2011 Frank Mittelbach, The LaTeX Project\n",
      "%           (C) 2012-2021 The LaTeX Project\n",
      "%\n",
      "% It may be distributed and/or modified under the conditions of the\n",
      "% LaTeX Project Public License (LPPL), either version 1.3c of this\n",
      "% license or (at your option) any later version.  The latest version\n",
      "% of this license is in the file\n",
      "%\n",
      "%    https://www.latex-project.org/lppl.txt\n",
      "%\n",
      "% This file is part of the \"l3kernel bundle\" (The Work in L\n",
      "% \\iffalse meta-comment\n",
      "%\n",
      "% Copyright 1993-2015\n",
      "% The LaTeX3 Project and any individual authors listed elsewhere\n",
      "% in this file.\n",
      "%\n",
      "% This file is part of the LaTeX base system.\n",
      "% -------------------------------------------\n",
      "%\n",
      "% It may be distributed and/or modified under the\n",
      "% conditions of the LaTeX Project Public License, either version 1.3c\n",
      "% of this license or (at your option) any later version.\n",
      "% The latest version of this license is in\n",
      "%    http://www.latex-project.org/lppl.txt\n",
      "% and versio\n",
      "% \\iffalse meta-comment\n",
      "%\n",
      "%% File: l3fp-round.dtx\n",
      "%\n",
      "% Copyright (C) 2011-2019 The LaTeX3 Project\n",
      "%\n",
      "% It may be distributed and/or modified under the conditions of the\n",
      "% LaTeX Project Public License (LPPL), either version 1.3c of this\n",
      "% license or (at your option) any later version.  The latest version\n",
      "% of this license is in the file\n",
      "%\n",
      "%    https://www.latex-project.org/lppl.txt\n",
      "%\n",
      "% This file is part of the \"l3kernel bundle\" (The Work in LPPL)\n",
      "% and all files in that bundle must be distributed t\n",
      "% \\iffalse meta-comment\n",
      "%\n",
      "%% File: l3str.dtx\n",
      "%\n",
      "% Copyright (C) 2011-2020 The LaTeX3 Project\n",
      "%\n",
      "% It may be distributed and/or modified under the conditions of the\n",
      "% LaTeX Project Public License (LPPL), either version 1.3c of this\n",
      "% license or (at your option) any later version.  The latest version\n",
      "% of this license is in the file\n",
      "%\n",
      "%    https://www.latex-project.org/lppl.txt\n",
      "%\n",
      "% This file is part of the \"l3kernel bundle\" (The Work in LPPL)\n",
      "% and all files in that bundle must be distributed togeth\n",
      "% \\iffalse meta-comment\n",
      "%\n",
      "%% File: latex2e-first-aid-for-external-files.dtx (C) Copyright 2020-2021\n",
      "%%\n",
      "%% The LaTeX Project and any individual authors listed elsewhere\n",
      "%% in this file.\n",
      "%\n",
      "% It may be distributed and/or modified under the\n",
      "% conditions of the LaTeX Project Public License, either version 1.3c\n",
      "% of this license or (at your option) any later version.\n",
      "% The latest version of this license is in\n",
      "%    https://www.latex-project.org/lppl.txt\n",
      "% and version 1.3c or later is part of all distri\n",
      "% \\iffalse\n",
      "%%    The preview style for extracting previews from LaTeX documents.\n",
      "%%    Developed as part of AUCTeX <URL:http://www.gnu.org/software/auctex>.\n",
      "%\n",
      "%     Copyright (C) 2001, 2002, 2003, 2004, 2005, 2006,\n",
      "%                   2010, 2017 Free Software Foundation\n",
      "%\n",
      "%     This program is free software; you can redistribute it and/or modify\n",
      "%     it under the terms of the GNU General Public License as published by\n",
      "%     the Free Software Foundation; either version 3 of the License, or\n",
      "%    \n",
      "% \\iffalse meta-comment\n",
      "% !TeX program  = PdfLaTeX\n",
      "% !TeX encoding = UTF-8\n",
      "%\n",
      "% Copyright (C) 2019--2021 by Bingjie Yan <bj.yan.pa@qq.com>\n",
      "%\n",
      "% This file may be distributed and/or modified under the\n",
      "% conditions of the LaTeX Project Public License, either version 1.3c\n",
      "% of this license or (at your option) any later version.\n",
      "% The latest version of this license is in:\n",
      "%\n",
      "% http://www.latex-project.org/lppl.txt\n",
      "%\n",
      "% and version 1.3c or later is part of all distributions of LaTeX\n",
      "% version 2008/05/04 o\n",
      "% \\iffalse meta-comment\n",
      "%\n",
      "% File: bmpsize.dtx\n",
      "% Version: 2016/05/16 v1.7\n",
      "% Info: Extract size/resolution from bitmap files\n",
      "%\n",
      "% Copyright (C) 2006-2009 by\n",
      "%    Heiko Oberdiek <heiko.oberdiek at googlemail.com>\n",
      "%    2016\n",
      "%    https://github.com/ho-tex/oberdiek/issues\n",
      "%\n",
      "% This work may be distributed and/or modified under the\n",
      "% conditions of the LaTeX Project Public License, either\n",
      "% version 1.3c of this license or (at your option) any later\n",
      "% version. This version of this license is in\n",
      "%    http:/\n",
      "% \\iffalse meta-comment\n",
      "%\n",
      "%% File: l3tl-analysis.dtx\n",
      "%\n",
      "% Copyright (C) 2011-2022 The LaTeX Project\n",
      "%\n",
      "% It may be distributed and/or modified under the conditions of the\n",
      "% LaTeX Project Public License (LPPL), either version 1.3c of this\n",
      "% license or (at your option) any later version.  The latest version\n",
      "% of this license is in the file\n",
      "%\n",
      "%    https://www.latex-project.org/lppl.txt\n",
      "%\n",
      "% This file is part of the \"l3kernel bundle\" (The Work in LPPL)\n",
      "% and all files in that bundle must be distributed\n",
      "% \\iffalse meta-comment\n",
      "%\n",
      "% File: zref.dtx\n",
      "% Version: 2012/04/04 v2.24\n",
      "% Info: A new reference scheme for LaTeX\n",
      "%\n",
      "% Copyright (C) 2006-2012 by\n",
      "%    Heiko Oberdiek <heiko.oberdiek at googlemail.com>\n",
      "%\n",
      "% This work may be distributed and/or modified under the\n",
      "% conditions of the LaTeX Project Public License, either\n",
      "% version 1.3c of this license or (at your option) any later\n",
      "% version. This version of this license is in\n",
      "%    http://www.latex-project.org/lppl/lppl-1-3c.txt\n",
      "% and the latest version o\n",
      "% \\iffalse meta-comment\n",
      "%% File: platex.dtx\n",
      "%\n",
      "%  Copyright 1995,1996 ASCII Corporation.\n",
      "%  Copyright (c) 2010 ASCII MEDIA WORKS\n",
      "%  Copyright (c) 2016-2021 Japanese TeX Development Community\n",
      "%\n",
      "%  This file is part of the pLaTeX2e system (community edition).\n",
      "%  -------------------------------------------------------------\n",
      "%\n",
      "% \\fi\n",
      "%\n",
      "% \\iffalse\n",
      "%<*driver|pldoc>\n",
      "\\ifx\\JAPANESEtrue\\undefined\n",
      "  \\expandafter\\newif\\csname ifJAPANESE\\endcsname\n",
      "  \\JAPANESEtrue\n",
      "\\fi\n",
      "%</driver|pldoc>\n",
      "% \\fi\n",
      "%\n",
      "% \\setcounter{Stan\n",
      "% \\iffalse meta-comment\n",
      "%\n",
      "% Copyright (C) 2015-2019 by Zeping Lee <zepinglee AT gmail.com>\n",
      "%\n",
      "% This file may be distributed and/or modified under the\n",
      "% conditions of the LaTeX Project Public License, either version 1.3c\n",
      "% of this license or (at your option) any later version.\n",
      "% The latest version of this license is in\n",
      "%    https://www.latex-project.org/lppl.txt\n",
      "% and version 1.3c or later is part of all distributions of LaTeX\n",
      "% version 2005/12/01 or later.\n",
      "%\n",
      "%<*internal>\n",
      "\\iffalse\n",
      "\\fi\n",
      "\\begingroup\n",
      "% \\iffalse meta-comment\n",
      "%\n",
      "%% File: l3doc.dtx\n",
      "%\n",
      "% Copyright (C) 1990-2020 The LaTeX3 Project\n",
      "%\n",
      "% It may be distributed and/or modified under the conditions of the\n",
      "% LaTeX Project Public License (LPPL), either version 1.3c of this\n",
      "% license or (at your option) any later version.  The latest version\n",
      "% of this license is in the file\n",
      "%\n",
      "%    https://www.latex-project.org/lppl.txt\n",
      "%\n",
      "% This file is part of the \"l3kernel bundle\" (The Work in LPPL)\n",
      "% and all files in that bundle must be distributed togeth\n",
      "@@MathRoutines.Conversion\r\n",
      "<GROUP MathRoutines>\r\n",
      "<TITLE Conversion>\r\n",
      "<TOPICORDER 200>\r\n",
      "--------------------------------------------------------------------------------\r\n",
      "@@MathRoutines.CRC\r\n",
      "<TITLE CRC>\r\n",
      "<GROUP MathRoutines>\r\n",
      "<TOPICORDER 300>\r\n",
      "Description:\r\n",
      "  The CRC method used here is a quite \"native\" translation of a\r\n",
      "  hardware CRC generator to software. The data array is\r\n",
      "  interpreted as a bit stream with Byte 0 Bit 7 sent first.\r\n",
      "  Mathematically when calculating an m-Bit CRC on a n Byte\r\n",
      " \n",
      "% \\iffalse meta-comment\n",
      "%\n",
      "% Copyright (C) 2019-2019 by Zeping Lee <zepinglee AT gmail.com>\n",
      "%\n",
      "% This file may be distributed and/or modified under the\n",
      "% conditions of the LaTeX Project Public License, either version 1.3c\n",
      "% of this license or (at your option) any later version.\n",
      "% The latest version of this license is in\n",
      "%    https://www.latex-project.org/lppl.txt\n",
      "% and version 1.3c or later is part of all distributions of LaTeX\n",
      "% version 2005/12/01 or later.\n",
      "%\n",
      "%<*internal>\n",
      "\\iffalse\n",
      "\\fi\n",
      "\\begingroup\n",
      "% \\iffalse meta-comment\n",
      "%\n",
      "% Copyright (C) 2009 by Enrico Gregorio\n",
      "% <Enrico dot Gregorio (at) univr dot it>\n",
      "% ---------------------------------------\n",
      "% \n",
      "% This file may be distributed and/or modified under the\n",
      "% conditions of the LaTeX Project Public License, either version 1.3\n",
      "% of this license or (at your option) any later version.\n",
      "% The latest version of this license is in:\n",
      "%\n",
      "%    http://www.latex-project.org/lppl.txt\n",
      "%\n",
      "% and version 1.3 or later is part of all distributions of LaTeX \n",
      "% versi\n",
      "% \\iffalse meta-comment\n",
      "% !TEX program  = XeLaTeX\n",
      "% !TEX encoding = UTF-8\n",
      "%<*internal>\n",
      "\\iffalse\n",
      "%</internal>\n",
      "%<*internal>\n",
      "\\fi\n",
      "\\def\\nameofplainTeX{plain}\n",
      "\\ifx\\fmtname\\nameofplainTeX\\else\n",
      "  \\expandafter\\begingroup\n",
      "\\fi\n",
      "%</internal>\n",
      "%<*install>\n",
      "\\input docstrip.tex\n",
      "\\askforoverwritefalse\n",
      "\\preamble\n",
      "----------------------------------------------------------------\n",
      "nuaathesis --- Thesis Template for Nanjing University of Aeronautics and Astronautics\n",
      "Licensed under the Apache License, Version 2.0\n",
      "See http:\n",
      "% \\iffalse meta-comment\n",
      "%\n",
      "% Copyright (C) 1993-2021\n",
      "% The LaTeX Project and any individual authors listed elsewhere\n",
      "% in this file.\n",
      "%\n",
      "% This file is part of the LaTeX base system.\n",
      "% -------------------------------------------\n",
      "%\n",
      "% It may be distributed and/or modified under the\n",
      "% conditions of the LaTeX Project Public License, either version 1.3c\n",
      "% of this license or (at your option) any later version.\n",
      "% The latest version of this license is in\n",
      "%    https://www.latex-project.org/lppl.txt\n",
      "% and ve\n",
      "% \\iffalse meta-comment\n",
      "%\n",
      "%% File: l3candidates.dtx\n",
      "%\n",
      "% Copyright (C) 2012-2020 The LaTeX3 Project\n",
      "%\n",
      "% It may be distributed and/or modified under the conditions of the\n",
      "% LaTeX Project Public License (LPPL), either version 1.3c of this\n",
      "% license or (at your option) any later version.  The latest version\n",
      "% of this license is in the file\n",
      "%\n",
      "%    https://www.latex-project.org/lppl.txt\n",
      "%\n",
      "% This file is part of the \"l3kernel bundle\" (The Work in LPPL)\n",
      "% and all files in that bundle must be distributed\n",
      "% \\iffalse meta-comment\n",
      "%\n",
      "% Copyright (C) 1993-2021\n",
      "%\n",
      "% The LaTeX Project and any individual authors listed elsewhere\n",
      "% in this file.\n",
      "%\n",
      "% This file is part of the Standard LaTeX `Tools Bundle'.\n",
      "% -------------------------------------------------------\n",
      "%\n",
      "% It may be distributed and/or modified under the\n",
      "% conditions of the LaTeX Project Public License, either version 1.3c\n",
      "% of this license or (at your option) any later version.\n",
      "% The latest version of this license is in\n",
      "%    https://www.latex-pro\n",
      "% \\iffalse meta-comment\n",
      "%\n",
      "% Copyright 1993-2016\n",
      "%\n",
      "% The LaTeX3 Project and any individual authors listed elsewhere\n",
      "% in this file.\n",
      "%\n",
      "% This file is part of the Standard LaTeX `Tools Bundle'.\n",
      "% -------------------------------------------------------\n",
      "%\n",
      "% It may be distributed and/or modified under the\n",
      "% conditions of the LaTeX Project Public License, either version 1.3c\n",
      "% of this license or (at your option) any later version.\n",
      "% The latest version of this license is in\n",
      "%    http://www.latex-project\n",
      "% \\iffalse\n",
      "%%    The preview style for extracting previews from LaTeX documents.\n",
      "%%    Developed as part of AUCTeX <URL:https://www.gnu.org/software/auctex/>.\n",
      "%\n",
      "%     Copyright (C) 2001, 2002, 2003, 2004, 2005, 2006,\n",
      "%                   2010, 2017-2019 Free Software Foundation\n",
      "%\n",
      "%     This program is free software; you can redistribute it and/or modify\n",
      "%     it under the terms of the GNU General Public License as published by\n",
      "%     the Free Software Foundation; either version 3 of the License, o\n",
      "% \\iffalse\n",
      "%\n",
      "%% File `calc.dtx'.\n",
      "%% Copyright (C) 1992--1994 Kresten Krab Thorup and Frank Jensen.\n",
      "%% All rights reserved.\n",
      "%\n",
      "% Please send error reports and suggestions for improvements to:\n",
      "%\n",
      "%                          Frank Jensen\n",
      "%                          Aalborg University\n",
      "%                          DK-9220 Aalborg \\O\n",
      "%                          Denmark\n",
      "%               Internet:  <fj@iesd.auc.dk>\n",
      "% or\n",
      "%                          NeXT Computer, Inc.\n",
      "%                          Attn.: Kresten Kra\n",
      "% \\iffalse meta-comment\n",
      "%\n",
      "%% File: l3draw-boxes.dtx Copyright(C) 2018 The LaTeX3 Project\n",
      "%\n",
      "% It may be distributed and/or modified under the conditions of the\n",
      "% LaTeX Project Public License (LPPL), either version 1.3c of this\n",
      "% license or (at your option) any later version.  The latest version\n",
      "% of this license is in the file\n",
      "%\n",
      "%    http://www.latex-project.org/lppl.txt\n",
      "%\n",
      "% This file is part of the \"l3experimental bundle\" (The Work in LPPL)\n",
      "% and all files in that bundle must be distributed toge\n",
      "% \\iffalse meta-comment\n",
      "%\n",
      "% Copyright (C) 1993-2021\n",
      "% The LaTeX Project and any individual authors listed elsewhere\n",
      "% in this file.\n",
      "%\n",
      "% This file is part of the LaTeX base system.\n",
      "% -------------------------------------------\n",
      "%\n",
      "% It may be distributed and/or modified under the\n",
      "% conditions of the LaTeX Project Public License, either version 1.3c\n",
      "% of this license or (at your option) any later version.\n",
      "% The latest version of this license is in\n",
      "%    https://www.latex-project.org/lppl.txt\n",
      "% and ve\n",
      "% \\iffalse meta-comment\n",
      "%\n",
      "%% File: l3sys-shell.dtx\n",
      "%\n",
      "% Copyright (C) 2018-2020 The LaTeX3 Project\n",
      "%\n",
      "% It may be distributed and/or modified under the conditions of the\n",
      "% LaTeX Project Public License (LPPL), either version 1.3c of this\n",
      "% license or (at your option) any later version.  The latest version\n",
      "% of this license is in the file\n",
      "%\n",
      "%    http://www.latex-project.org/lppl.txt\n",
      "%\n",
      "% This file is part of the \"l3experimental bundle\" (The Work in LPPL)\n",
      "% and all files in that bundle must be distrib\n",
      "% \\iffalse\n",
      "%<*driver>\n",
      "\\ProvidesFile{xduugtp.dtx}\n",
      "%</driver>\n",
      "%<class>\\NeedsTeXFormat{LaTeX2e}\n",
      "%<class>\\ProvidesClass{xduugtp}\n",
      "%<*class>\n",
      "[2022/03/09 v1.0.5 Xidian University Undergraduate Thesis Proposal class]\n",
      "%</class>\n",
      "%<*driver>\n",
      "\\documentclass{ctxdoc}\n",
      "\\usepackage{tocloft}\n",
      "\\setlength{\\cftsubsecindent}{1.5em}\n",
      "\\setlength{\\cftsubsubsecindent}{3em}\n",
      "\\setlength{\\cftparaindent}{4.5em}\n",
      "\\setcounter{tocdepth}{4}\n",
      "\\setmonofont{Latin Modern Mono}\n",
      "\\usepackage{hologo}\n",
      "\\usepackage[os=win]{menukeys}\n",
      "\\renewmenuma\n",
      "% \\iffalse meta-comment\n",
      "%\n",
      "%% File: l3tl-analysis.dtx\n",
      "%\n",
      "% Copyright (C) 2011-2020 The LaTeX3 Project\n",
      "%\n",
      "% It may be distributed and/or modified under the conditions of the\n",
      "% LaTeX Project Public License (LPPL), either version 1.3c of this\n",
      "% license or (at your option) any later version.  The latest version\n",
      "% of this license is in the file\n",
      "%\n",
      "%    https://www.latex-project.org/lppl.txt\n",
      "%\n",
      "% This file is part of the \"l3kernel bundle\" (The Work in LPPL)\n",
      "% and all files in that bundle must be distribute\n",
      "% \\iffalse meta-comment\n",
      "%\n",
      "%% File: xfp.dtx\n",
      "%\n",
      "% Copyright (C) 2017-2021 The LaTeX Project\n",
      "%\n",
      "% It may be distributed and/or modified under the conditions of the\n",
      "% LaTeX Project Public License (LPPL), either version 1.3c of this\n",
      "% license or (at your option) any later version.  The latest version\n",
      "% of this license is in the file\n",
      "%\n",
      "%    https://www.latex-project.org/lppl.txt\n",
      "%\n",
      "% This file is part of the \"l3packages bundle\" (The Work in LPPL)\n",
      "% and all files in that bundle must be distributed togethe\n",
      "% \\iffalse meta-comment\n",
      "%\n",
      "% Copyright (C) 1989--1993 by Frank Mittelbach, Rainer Schoepf.\n",
      "% All rights reserved.\n",
      "% \n",
      "% This file is part of the NFSS2 (New Font Selection Scheme) package.\n",
      "% \n",
      "%  This package is distributed in the hope that it will be useful,\n",
      "%  but WITHOUT ANY WARRANTY; without even the implied warranty of\n",
      "%  MERCHANTABILITY or FITNESS FOR A PARTICULAR PURPOSE.\n",
      "% \n",
      "% \n",
      "% IMPORTANT NOTICE:\n",
      "% \n",
      "% For error reports in case of UNCHANGED versions see readme files.\n",
      "% \n",
      "% Please do not reques\n",
      "% \\def\\filename{amsmidx.dtx}\n",
      "% \\def\\fileversion{2.02}\n",
      "% \\def\\filedate{2007/09/25}\n",
      "%\n",
      "% \\iffalse meta-comment\n",
      "%\n",
      "% American Mathematical Society\n",
      "% Technical Support\n",
      "% Publications Technical Group\n",
      "% 201 Charles Street\n",
      "% Providence, RI 02904\n",
      "% USA\n",
      "% tel: (401) 455-4080\n",
      "%      (800) 321-4267 (USA and Canada only)\n",
      "% fax: (401) 331-3842\n",
      "% email: tech-support@ams.org\n",
      "%\n",
      "% Copyright 1995, 2004, 2009, 2010 American Mathematical Society.\n",
      "%\n",
      "% This work may be distributed and/or modified under the\n",
      "% conditions\n",
      "##Package: MM\n",
      "##Status: Completed,Checked\n",
      "----------------------------------------------------------------------------------------------------\n",
      "@@JvAVICapture.pas\n",
      "Summary\n",
      "    Contains the TJvAVICapture component, a component used to display and capture video streams\n",
      "  received\n",
      "    from a source that is compatible with AviCAP. The most common example of such a source is a\n",
      "  WebCam.\n",
      "Author\n",
      "  Olivier Sannier\n",
      "--------------------------------------------------------------------------------------------\n",
      "% \\iffalse meta-comment\n",
      "%\n",
      "% Copyright (C) 2005-2021 by Tsinghua University TUNA Association <tuna@tsinghua.edu.cn>\n",
      "%\n",
      "% This work may be distributed and/or modified under the\n",
      "% conditions of the LaTeX Project Public License, either version 1.3c\n",
      "% of this license or (at your option) any later version.\n",
      "% The latest version of this license is in\n",
      "%    https://www.latex-project.org/lppl.txt\n",
      "% and version 1.3c or later is part of all distributions of LaTeX\n",
      "% version 2008 or later.\n",
      "%\n",
      "% \\fi\n",
      "%\n",
      "% \\iffalse\n",
      "\n",
      "% \\iffalse meta-comment\n",
      "%\n",
      "% Copyright 2013-2014 Javier Bezos and any individual authors\n",
      "% listed elsewhere in this file.  All rights reserved.\n",
      "% \n",
      "% This file is part of the Babel system.\n",
      "% --------------------------------------\n",
      "% \n",
      "% It may be distributed and/or modified under the\n",
      "% conditions of the LaTeX Project Public License, either version 1.3\n",
      "% of this license or (at your option) any later version.\n",
      "% The latest version of this license is in\n",
      "%   http://www.latex-project.org/lppl.txt\n",
      "% and ve\n",
      "% \\iffalse meta-comment\n",
      "%\n",
      "%% File: l3alloc.dtx Copyright (C) 1990-2012,2014-2017 The LaTeX3 Project\n",
      "%\n",
      "% It may be distributed and/or modified under the conditions of the\n",
      "% LaTeX Project Public License (LPPL), either version 1.3c of this\n",
      "% license or (at your option) any later version.  The latest version\n",
      "% of this license is in the file\n",
      "%\n",
      "%    https://www.latex-project.org/lppl.txt\n",
      "%\n",
      "% This file is part of the \"l3kernel bundle\" (The Work in LPPL)\n",
      "% and all files in that bundle must be distribute\n",
      "% \\iffalse meta-comment\n",
      "%\n",
      "% Copyright 1993-2016\n",
      "% The LaTeX3 Project and any individual authors listed elsewhere\n",
      "% in this file.\n",
      "%\n",
      "% This file is part of the LaTeX base system.\n",
      "% -------------------------------------------\n",
      "%\n",
      "% It may be distributed and/or modified under the\n",
      "% conditions of the LaTeX Project Public License, either version 1.3c\n",
      "% of this license or (at your option) any later version.\n",
      "% The latest version of this license is in\n",
      "%    https://www.latex-project.org/lppl.txt\n",
      "% and versi\n",
      "% \\iffalse\n",
      "%% File: nidanfloat.dtx\n",
      "%\n",
      "%  Copyright 1994 ASCII Co.\n",
      "%  Copyright (c) 2010 ASCII MEDIA WORKS\n",
      "%  Copyright (c) 2016-2018 Japanese TeX Development Community\n",
      "%\n",
      "%  This file is part of the pLaTeX2e system (community edition).\n",
      "%  -------------------------------------------------------------\n",
      "%\n",
      "% \\fi\n",
      "%\n",
      "% \\iffalse\n",
      "%<*driver>\n",
      "\\ifx\\JAPANESEtrue\\undefined\n",
      "  \\expandafter\\newif\\csname ifJAPANESE\\endcsname\n",
      "  \\JAPANESEtrue\n",
      "\\fi\n",
      "\\def\\eTeX{$\\varepsilon$-\\TeX}\n",
      "\\def\\pTeX{p\\kern-.15em\\TeX}\n",
      "\\def\\epTeX{$\\v\n",
      "##Package: Core\n",
      "##Status: Completed,Checked\n",
      "----------------------------------------------------------------------------------------------------\n",
      "@@JvExComCtrls.pas\n",
      "Summary\n",
      "    Contains components that extend the components from Delphi's ComCtrls.pas with generic properties\n",
      "  and CLX code.\n",
      "Author\n",
      "  Andreas Hausladen\n",
      "----------------------------------------------------------------------------------------------------\n",
      "@@TJvExTabControl\n",
      "Summary\n",
      "  Base class for extended tab controls.\n",
      "Description\n",
      "  TJ\n",
      "% \\iffalse meta-comment\n",
      "%\n",
      "%% File: l3text.dtx\n",
      "%\n",
      "% Copyright (C) 2020,2021 The LaTeX Project\n",
      "%\n",
      "% It may be distributed and/or modified under the conditions of the\n",
      "% LaTeX Project Public License (LPPL), either version 1.3c of this\n",
      "% license or (at your option) any later version.  The latest version\n",
      "% of this license is in the file\n",
      "%\n",
      "%    https://www.latex-project.org/lppl.txt\n",
      "%\n",
      "% This file is part of the \"l3kernel bundle\" (The Work in LPPL)\n",
      "% and all files in that bundle must be distributed togeth\n",
      "@@OrdinalMathandLogic.Arithmetic\n",
      "<GROUP OrdinalMathandLogic>\n",
      "<TITLE Arithmetic>\n",
      "<TOPICORDER 100>\n",
      "--------------------------------------------------------------------------------\n",
      "@@OrdinalMathandLogic.BitManipulation\n",
      "<GROUP OrdinalMathandLogic>\n",
      "<TITLE Bit Manipulation>\n",
      "<TOPICORDER 200>\n",
      "--------------------------------------------------------------------------------\n",
      "@@OrdinalMathandLogic.Conversion\n",
      "<GROUP OrdinalMathandLogic>\n",
      "<TITLE Conversion>\n",
      "<TOPICORDER 300>\n",
      "------------------------------------\n",
      "% \\iffalse\n",
      "%\n",
      "%% File l3bigint.dtx Copyright (C) 2012-2018 The LaTeX3 Project\n",
      "%%\n",
      "%% It may be distributed and/or modified under the conditions of the\n",
      "%% LaTeX Project Public License (LPPL), either version 1.3c of this\n",
      "%% license or (at your option) any later version.  The latest version\n",
      "%% of this license is in the file\n",
      "%%\n",
      "%%    http://www.latex-project.org/lppl.txt\n",
      "%%\n",
      "%% This file is part of the \"l3trial bundle\" (The Work in LPPL)\n",
      "%% and all files in that bundle must be distributed together.\n",
      "%%\n",
      "\n",
      "% \\iffalse meta-comment\n",
      "%\n",
      "%% File: xtemplate.dtx\n",
      "%\n",
      "% Copyright (C) 1999 Frank Mittelbach, Chris Rowley, David Carlisle\n",
      "%           (C) 2004-2010 Frank Mittelbach, The LaTeX3 Project\n",
      "%           (C) 2011-2019 The LaTeX3 Project\n",
      "%\n",
      "% It may be distributed and/or modified under the conditions of the\n",
      "% LaTeX Project Public License (LPPL), either version 1.3c of this\n",
      "% license or (at your option) any later version.  The latest version\n",
      "% of this license is in the file\n",
      "%\n",
      "%    https://www.latex-project.o\n",
      "%\n",
      "% \\iffalse meta-comment\n",
      "%\n",
      "% Copyright (C) 1995, 1999 American Mathematical Society.\n",
      "% Copyright (C) 2016-2021 LaTeX Project and American Mathematical Society.\n",
      "%\n",
      "% This work may be distributed and/or modified under the\n",
      "% conditions of the LaTeX Project Public License, either version 1.3c\n",
      "% of this license or (at your option) any later version.\n",
      "% The latest version of this license is in\n",
      "%   https://www.latex-project.org/lppl.txt\n",
      "% and version 1.3c or later is part of all distributions of LaTeX\n",
      "%\n",
      "% \\iffalse meta-comment\n",
      "%\n",
      "%% File: l3fp-expo.dtx\n",
      "%\n",
      "% Copyright (C) 2011-2022 The LaTeX Project\n",
      "%\n",
      "% It may be distributed and/or modified under the conditions of the\n",
      "% LaTeX Project Public License (LPPL), either version 1.3c of this\n",
      "% license or (at your option) any later version.  The latest version\n",
      "% of this license is in the file\n",
      "%\n",
      "%    https://www.latex-project.org/lppl.txt\n",
      "%\n",
      "% This file is part of the \"l3kernel bundle\" (The Work in LPPL)\n",
      "% and all files in that bundle must be distributed tog\n",
      "% \\iffalse meta-comment\n",
      "%\n",
      "%% File: l3sys.dtx\n",
      "%\n",
      "% Copyright (C) 2015-2020 The LaTeX3 Project\n",
      "%\n",
      "% It may be distributed and/or modified under the conditions of the\n",
      "% LaTeX Project Public License (LPPL), either version 1.3c of this\n",
      "% license or (at your option) any later version.  The latest version\n",
      "% of this license is in the file\n",
      "%\n",
      "%    https://www.latex-project.org/lppl.txt\n",
      "%\n",
      "% This file is part of the \"l3kernel bundle\" (The Work in LPPL)\n",
      "% and all files in that bundle must be distributed togeth\n",
      "%\n",
      "% \\iffalse\n",
      "%\n",
      "%% graphics.dtx Copyright (C) 1994      David Carlisle Sebastian Rahtz\n",
      "%%              Copyright (C) 1995-2021\n",
      "%% The LaTeX Project and any individual authors listed elsewhere\n",
      "%% in this file.\n",
      "%%\n",
      "%% This file is part of the Standard LaTeX `Graphics Bundle'.\n",
      "%% It may be distributed under the terms of the LaTeX Project Public\n",
      "%% License, as described in lppl.txt in the base LaTeX distribution.\n",
      "%% Either version 1.3c or, at your option, any later version.\n",
      "%%\n",
      "%% This file has the LPP\n",
      "% \\iffalse meta-comment\n",
      "%\n",
      "% Copyright (C) 1993-2020\n",
      "% The LaTeX3 Project and any individual authors listed elsewhere\n",
      "% in this file.\n",
      "%\n",
      "% This file is part of the LaTeX base system.\n",
      "% -------------------------------------------\n",
      "%\n",
      "% It may be distributed and/or modified under the\n",
      "% conditions of the LaTeX Project Public License, either version 1.3c\n",
      "% of this license or (at your option) any later version.\n",
      "% The latest version of this license is in\n",
      "%    https://www.latex-project.org/lppl.txt\n",
      "% and v\n",
      "% \\iffalse meta-comment\n",
      "%\n",
      "% Copyright (C) 2019 by Jan Hajer\n",
      "% -----------------------------------\n",
      "%\n",
      "% This file may be distributed and/or modified under the\n",
      "% conditions of the LaTeX Project Public License, either version 1.3c\n",
      "% of this license or (at your option) any later version.\n",
      "% The latest version of this license is in:\n",
      "%\n",
      "% http://www.latex-project.org/lppl.txt\n",
      "%\n",
      "% and version 1.3c or later is part of all distributions of LaTeX\n",
      "% version 2005/12/01 or later.\n",
      "%\n",
      "% \\fi\n",
      "%\n",
      "% \\iffalse\n",
      "\n",
      "%<package\n",
      "@@JVCL.CommonDialogs\n",
      "<GROUP JVCL.FuncRef>\n",
      "<TITLE Common dialogs>\n",
      "  JEDI-VCL provides a number of components that are wrappers for windows common dialogs. The\n",
      "  following dialogs are available:\n",
      "\n",
      "  <INCLUDE JVCL.ctrls.CommonDialogs.dtx>\n",
      "----------------------------------------------------------------------------------------------------\n",
      "\n",
      "% \\iffalse meta-comment\n",
      "%\n",
      "%% File: l3image.dtx Copyright(C) 2017 The LaTeX3 Project\n",
      "%\n",
      "% It may be distributed and/or modified under the conditions of the\n",
      "% LaTeX Project Public License (LPPL), either version 1.3c of this\n",
      "% license or (at your option) any later version.  The latest version\n",
      "% of this license is in the file\n",
      "%\n",
      "%    http://www.latex-project.org/lppl.txt\n",
      "%\n",
      "% This file is part of the \"l3trial bundle\" (The Work in LPPL)\n",
      "% and all files in that bundle must be distributed together.\n",
      "%\n",
      "% --\n",
      "% \\iffalse meta-comment\n",
      "%\n",
      "% Copyright (C) 2005 by Ulrich M. Schwarz\n",
      "%\n",
      "% This file may be distributed and/or modified under the conditions of\n",
      "% the LaTeX Project Public License, either version 1.3a or, at your\n",
      "% option, any later version. The latest version of this license is in\n",
      "%\n",
      "% http://www.latex-project.org/lppl.txt\n",
      "%\n",
      "% \\fi\n",
      "%\n",
      "%\\iffalse (hide this from DocInput)\n",
      "%<*driver>\n",
      "\\documentclass{ltxdoc}\n",
      "\\usepackage{12many}\n",
      "\\GetFileInfo{12many.sty}\n",
      "\\usepackage[T1]{fontenc}\n",
      "\\EnableCrossrefs\n",
      "\\CodelineInd\n",
      "%\n",
      "% \\iffalse\n",
      "%\n",
      "%% drivers.dtx Copyright (C) 1994      David Carlisle Sebastian Rahtz\n",
      "%%             Copyright (C) 1995 1996 1997 1998 1999 David Carlisle\n",
      "%%             Copyright (C) 2000-2020 David Carlisle, LaTeX3 Project\n",
      "%%\n",
      "%% This file is part of the Standard LaTeX `Graphics Bundle'.\n",
      "%% It may be distributed under the terms of the LaTeX Project Public\n",
      "%% License, as described in lppl.txt in the base LaTeX distribution.\n",
      "%% Either version 1.3 or, at your option, any later version.\n",
      "%%\n",
      "%<templat\n",
      "% \\iffalse\n",
      "%\n",
      "%% File l3fp-symbolic.dtx (C) Copyright 2012-2015,2017,2018,2020,2021 The LaTeX Project\n",
      "%\n",
      "% It may be distributed and/or modified under the conditions of the\n",
      "% LaTeX Project Public License (LPPL), either version 1.3c of this\n",
      "% license or (at your option) any later version.  The latest version\n",
      "% of this license is in the file\n",
      "%\n",
      "%    http://www.latex-project.org/lppl.txt\n",
      "%\n",
      "% This file is part of the \"l3trial bundle\" (The Work in LPPL)\n",
      "% and all files in that bundle must be distributed\n",
      "% \\subsection{Column separation (colsep) and cell background}\n",
      "\n",
      "% In-row decorations are the vertical borders between the cells\n",
      "% and also the background color of the cells.\n",
      "\n",
      "% \\begin{macro}{\\cals@cs@outOne}\n",
      "% Typesets the background and the left border of a cell.\n",
      "% Decorations have zero depth and undefined height.\n",
      "% Parameters:\n",
      "% \\begin{enumerate}\n",
      "% \\item Width of the cell. The use of |\\relax| avoids typesetting\n",
      "%   the cell itself, which is used when creating the right frame\n",
      "%   of a table.\n",
      "% \\\n",
      "% \\iffalse meta-comment\n",
      "%\n",
      "% Copyright (C) 2020-2022\n",
      "%     Frank Mittelbach, Phelype Oleinik & LaTeX Team\n",
      "%\n",
      "% This file is part of the LaTeX base system.\n",
      "% -------------------------------------------\n",
      "%\n",
      "% It may be distributed and/or modified under the\n",
      "% conditions of the LaTeX Project Public License, either version 1.3c\n",
      "% of this license or (at your option) any later version.\n",
      "% The latest version of this license is in\n",
      "%    https://www.latex-project.org/lppl.txt\n",
      "% and version 1.3c or later is part\n",
      "##Package: Dlgs\n",
      "##Status: Generated\n",
      "----------------------------------------------------------------------------------------------------\n",
      "@@JvPageSetupTitled.pas\n",
      "Summary\n",
      "    Contains the TJvPageSetupTitled component.\n",
      "Author\n",
      "  Pasha Sivtsov\n",
      "----------------------------------------------------------------------------------------------------\n",
      "@@TJvPageSetupTitledDialog.PageHeader\n",
      "Summary\n",
      "  Write here a summary (1 line)\n",
      "Description\n",
      "  Write here a description\n",
      "See Also\n",
      "  List here other properties, meth\n",
      "##Package: Globus\n",
      "##Status: Generated\n",
      "----------------------------------------------------------------------------------------------------\n",
      "@@JvgDrawTab.pas\n",
      "Summary\n",
      "    Contains the TJvgDrawTab component.\n",
      "Author\n",
      "  Andrey V. Chudin\n",
      "----------------------------------------------------------------------------------------------------\n",
      "@@DrawOwnTab\n",
      "<TITLE DrawOwnTab procedure>\n",
      "Summary\n",
      "  Write here a summary (1 line)\n",
      "Description\n",
      "  Write here a description\n",
      "Parameters\n",
      "  DrawTabStr - Description for this p\n",
      "% \\iffalse meta-comment\n",
      "%\n",
      "% File: siunitx-abbreviation.dtx Copyright (C) 2018,2019 Joseph Wright\n",
      "%\n",
      "% It may be distributed and/or modified under the conditions of the\n",
      "% LaTeX Project Public License (LPPL), either version 1.3c of this\n",
      "% license or (at your option) any later version.  The latest version\n",
      "% of this license is in the file\n",
      "%\n",
      "%    https://www.latex-project.org/lppl.txt\n",
      "%\n",
      "% This file is part of the \"siunitx bundle\" (The Work in LPPL)\n",
      "% and all files in that bundle must be distributed to"
     ]
    },
    {
     "name": "stderr",
     "output_type": "stream",
     "text": [
      "\r",
      "174it [00:00, 608.82it/s]"
     ]
    },
    {
     "name": "stdout",
     "output_type": "stream",
     "text": [
      "\n",
      "% \\iffalse meta-comment\n",
      "%\n",
      "%% File: l3prop.dtx\n",
      "%\n",
      "% Copyright (C) 1990-2020 The LaTeX3 Project\n",
      "%\n",
      "% It may be distributed and/or modified under the conditions of the\n",
      "% LaTeX Project Public License (LPPL), either version 1.3c of this\n",
      "% license or (at your option) any later version.  The latest version\n",
      "% of this license is in the file\n",
      "%\n",
      "%    https://www.latex-project.org/lppl.txt\n",
      "%\n",
      "% This file is part of the \"l3kernel bundle\" (The Work in LPPL)\n",
      "% and all files in that bundle must be distributed toget\n",
      "% \\iffalse meta-comment\n",
      "%\n",
      "% Copyright 1993-2014\n",
      "% The LaTeX3 Project and any individual authors listed elsewhere\n",
      "% in this file.\n",
      "%\n",
      "% This file is part of the LaTeX base system.\n",
      "% -------------------------------------------\n",
      "%\n",
      "% It may be distributed and/or modified under the\n",
      "% conditions of the LaTeX Project Public License, either version 1.3c\n",
      "% of this license or (at your option) any later version.\n",
      "% The latest version of this license is in\n",
      "%    http://www.latex-project.org/lppl.txt\n",
      "% and versio\n",
      "% \\iffalse meta-comment\n",
      "%\n",
      "%% File: l3draw-boxes.dtx\n",
      "%\n",
      "% Copyright (C) 2018-2020 The LaTeX3 Project\n",
      "%\n",
      "% It may be distributed and/or modified under the conditions of the\n",
      "% LaTeX Project Public License (LPPL), either version 1.3c of this\n",
      "% license or (at your option) any later version.  The latest version\n",
      "% of this license is in the file\n",
      "%\n",
      "%    http://www.latex-project.org/lppl.txt\n",
      "%\n",
      "% This file is part of the \"l3experimental bundle\" (The Work in LPPL)\n",
      "% and all files in that bundle must be distri\n",
      "% \\iffalse meta-comment\n",
      "%\n",
      "% Copyright 1989-2008 Johannes L. Braams and any individual authors\n",
      "% listed elsewhere in this file.  All rights reserved.\n",
      "% \n",
      "% This file is part of the Babel system.\n",
      "% --------------------------------------\n",
      "% \n",
      "% It may be distributed and/or modified under the\n",
      "% conditions of the LaTeX Project Public License, either version 1.3\n",
      "% of this license or (at your option) any later version.\n",
      "% The latest version of this license is in\n",
      "%   http://www.latex-project.org/lppl.txt\n",
      "% \n",
      "%\\iffalse\n",
      "%!TEX program  = pdfLaTeX\n",
      "%<*internal>\n",
      "\\iffalse\n",
      "%</internal>\n",
      "%<*license>\n",
      "MIT License\n",
      "\n",
      "Copyright (c) 2020 Fachschaftsrat Mathematik/Informatik der Studierendenschaft der Martin-Luther-Universität Halle-Wittenberg K.d.ö.R.\n",
      "\n",
      "Permission is hereby granted, free of charge, to any person obtaining a copy\n",
      "of this software and associated documentation files (the \"Software\"), to deal\n",
      "in the Software without restriction, including without limitation the rights\n",
      "to use, copy, modify, merge, publish\n",
      "% \\iffalse meta-comment\n",
      "%\n",
      "%% File: l3intarray.dtx\n",
      "%\n",
      "% Copyright (C) 2017-2022 The LaTeX Project\n",
      "%\n",
      "% It may be distributed and/or modified under the conditions of the\n",
      "% LaTeX Project Public License (LPPL), either version 1.3c of this\n",
      "% license or (at your option) any later version.  The latest version\n",
      "% of this license is in the file\n",
      "%\n",
      "%    https://www.latex-project.org/lppl.txt\n",
      "%\n",
      "% This file is part of the \"l3kernel bundle\" (The Work in LPPL)\n",
      "% and all files in that bundle must be distributed to\n",
      "% \\iffalse meta-comment\n",
      "%\n",
      "% Copyright (C) 1993-2019\n",
      "%\n",
      "% The LaTeX3 Project and any individual authors listed elsewhere\n",
      "% in this file.\n",
      "%\n",
      "% This file is part of the Standard LaTeX `Tools Bundle'.\n",
      "% -------------------------------------------------------\n",
      "%\n",
      "% It may be distributed and/or modified under the\n",
      "% conditions of the LaTeX Project Public License, either version 1.3c\n",
      "% of this license or (at your option) any later version.\n",
      "% The latest version of this license is in\n",
      "%    https://www.latex-pr\n",
      "% \\iffalse meta-comment\n",
      "%\n",
      "% Copyright (C) 1989-1994 by Johannes Braams\n",
      "% All rights reserved.\n",
      "% For additional copyright information see further down in this file.\n",
      "% \n",
      "% This file is part of the Babel system, release 3.4 patchlevel 2.\n",
      "% ----------------------------------------------------------------\n",
      "% \n",
      "% This file is distributed in the hope that it will be useful,\n",
      "% but WITHOUT ANY WARRANTY; without even the implied warranty of\n",
      "% MERCHANTABILITY or FITNESS FOR A PARTICULAR PURPOSE.\n",
      "% \n",
      "% \n",
      "% IMPOR\n",
      "% \\iffalse meta-comment\n",
      "%\n",
      "% Copyright 1993-2015\n",
      "% The LaTeX3 Project and any individual authors listed elsewhere\n",
      "% in this file.\n",
      "%\n",
      "% This file is part of the LaTeX base system.\n",
      "% -------------------------------------------\n",
      "%\n",
      "% It may be distributed and/or modified under the\n",
      "% conditions of the LaTeX Project Public License, either version 1.3c\n",
      "% of this license or (at your option) any later version.\n",
      "% The latest version of this license is in\n",
      "%    http://www.latex-project.org/lppl.txt\n",
      "% and versio\n",
      "% \\iffalse meta-comment\n",
      "%\n",
      "% Copyright (C) 2005-2016 by Ruini Xue <xueruini@gmail.com>\n",
      "%\n",
      "% This file may be distributed and/or modified under the\n",
      "% conditions of the LaTeX Project Public License, either version 1.3a\n",
      "% of this license or (at your option) any later version.\n",
      "% The latest version of this license is in:\n",
      "%\n",
      "% http://www.latex-project.org/lppl.txt\n",
      "%\n",
      "% and version 1.3a or later is part of all distributions of LaTeX\n",
      "% version 2004/10/01 or later.\n",
      "%\n",
      "% \\fi\n",
      "%\n",
      "% \\iffalse\n",
      "%<*driver>\n",
      "\\ProvidesFi\n",
      "% \\iffalse\n",
      "%% File: hyperref.dtx Copyright 1995-2001 Sebastian Rahtz,\n",
      "%% with portions written by David Carlisle and Heiko Oberdiek,\n",
      "%% 2001-2012 Heiko Oberdiek.\n",
      "%% 2016 Oberdiek Package Suport Group\n",
      "%%      https://github.com/ho-tex/hyperref/issues\n",
      "%%\n",
      "%% This file is part of the `Hyperref Bundle'.\n",
      "%% -------------------------------------------\n",
      "%%\n",
      "%% This work may be distributed and/or modified under the\n",
      "%% conditions of the LaTeX Project Public License, either version 1.3\n",
      "%% of this license or \n",
      "%\n",
      "% \\iffalse\n",
      "%\n",
      "%\n",
      "% File: rotating.dtx\n",
      "%% Copyright (C) 1995-1999 Sebastian Rahtz and Leonor Barroca\n",
      "%% Copyright (C) 2001-2003,2007-2009 Robin Fairbairns\n",
      "%% Copyright (C) 2016-2022 LaTeX Project\n",
      "%% The LaTeX Project and any individual authors listed elsewhere\n",
      "%% in this file.\n",
      "%\n",
      "% This work may be distributed and/or modified under the\n",
      "% conditions of the LaTeX Project Public License, either version 1.3c\n",
      "% of this license or (at your option) any later version.\n",
      "% The latest version of this license \n",
      "% \\iffalse meta-comment\n",
      "%\n",
      "% Copyright 1993-2016\n",
      "%\n",
      "% The LaTeX3 Project and any individual authors listed elsewhere\n",
      "% in this file.\n",
      "%\n",
      "% This file is part of the Standard LaTeX `Tools Bundle'.\n",
      "% -------------------------------------------------------\n",
      "%\n",
      "% It may be distributed and/or modified under the\n",
      "% conditions of the LaTeX Project Public License, either version 1.3c\n",
      "% of this license or (at your option) any later version.\n",
      "% The latest version of this license is in\n",
      "%    http://www.latex-project\n",
      "% \\iffalse meta-comment\n",
      "%% File: plcore.dtx\n",
      "%\n",
      "%  Copyright 1994-2001 ASCII Corporation.\n",
      "%  Copyright (c) 2010 ASCII MEDIA WORKS\n",
      "%  Copyright (c) 2016-2021 Japanese TeX Development Community\n",
      "%\n",
      "%  This file is part of the pLaTeX2e system (community edition).\n",
      "%  -------------------------------------------------------------\n",
      "%\n",
      "% \\fi\n",
      "%\n",
      "% \\iffalse\n",
      "%<*driver>\n",
      "\\ifx\\JAPANESEtrue\\undefined\n",
      "  \\expandafter\\newif\\csname ifJAPANESE\\endcsname\n",
      "  \\JAPANESEtrue\n",
      "\\fi\n",
      "\\def\\eTeX{$\\varepsilon$-\\TeX}\n",
      "\\def\\pTeX{p\\kern-.1\n",
      "% \\iffalse\n",
      "%\n",
      "%% File l3sort.dtx (C) Copyright 2012-2018 The LaTeX3 Project\n",
      "%\n",
      "% It may be distributed and/or modified under the conditions of the\n",
      "% LaTeX Project Public License (LPPL), either version 1.3c of this\n",
      "% license or (at your option) any later version.  The latest version\n",
      "% of this license is in the file\n",
      "%\n",
      "%    https://www.latex-project.org/lppl.txt\n",
      "%\n",
      "% This file is part of the \"l3kernel bundle\" (The Work in LPPL)\n",
      "% and all files in that bundle must be distributed together.\n",
      "%\n",
      "% ---------\n",
      "##Package: Globus\n",
      "##Status: Generated\n",
      "----------------------------------------------------------------------------------------------------\n",
      "@@JvgGridHeaderControl.pas\n",
      "Summary\n",
      "    Contains the TJvgGridHeaderControl component.\n",
      "Author\n",
      "  Andrey V. Chudin\n",
      "----------------------------------------------------------------------------------------------------\n",
      "@@TJvgGridHeaderControl.ResizeColumns\n",
      "Summary\n",
      "  Write here a summary (1 line)\n",
      "Description\n",
      "  Write here a description\n",
      "See Also\n",
      "  List here other prope\n",
      "% \\iffalse meta-comment -------------------------------------------------------\n",
      "% Copyright 2015 Matthias Vogelgesang and the LaTeX community. A full list of\n",
      "% contributors can be found at\n",
      "%\n",
      "%     https://github.com/matze/mtheme/graphs/contributors\n",
      "%\n",
      "% and the original template was based on the HSRM theme by Benjamin Weiss.\n",
      "%\n",
      "% This work is licensed under a Creative Commons Attribution-ShareAlike 4.0\n",
      "% International License (https://creativecommons.org/licenses/by-sa/4.0/).\n",
      "% -------------------\n",
      "% \\iffalse meta-comment\n",
      "%\n",
      "% Copyright 1993-2017\n",
      "% The LaTeX3 Project and any individual authors listed elsewhere\n",
      "% in this file.\n",
      "%\n",
      "% This file is part of the LaTeX base system.\n",
      "% -------------------------------------------\n",
      "%\n",
      "% It may be distributed and/or modified under the\n",
      "% conditions of the LaTeX Project Public License, either version 1.3c\n",
      "% of this license or (at your option) any later version.\n",
      "% The latest version of this license is in\n",
      "%    https://www.latex-project.org/lppl.txt\n",
      "% and versi\n",
      "% \\iffalse meta-comment\n",
      "%\n",
      "%% File: l3draw-scopes.dtx\n",
      "%\n",
      "% Copyright (C) 2018-2021 The LaTeX Project\n",
      "%\n",
      "% It may be distributed and/or modified under the conditions of the\n",
      "% LaTeX Project Public License (LPPL), either version 1.3c of this\n",
      "% license or (at your option) any later version.  The latest version\n",
      "% of this license is in the file\n",
      "%\n",
      "%    http://www.latex-project.org/lppl.txt\n",
      "%\n",
      "% This file is part of the \"l3experimental bundle\" (The Work in LPPL)\n",
      "% and all files in that bundle must be distri\n",
      "% \\iffalse meta-comment\n",
      "%\n",
      "%% File: xcoffins.dtx\n",
      "%\n",
      "% Copyright (C) 2010-2012,2014,2016-2022 The LaTeX Project\n",
      "%\n",
      "% It may be distributed and/or modified under the conditions of the\n",
      "% LaTeX Project Public License (LPPL), either version 1.3c of this\n",
      "% license or (at your option) any later version.  The latest version\n",
      "% of this license is in the file\n",
      "%\n",
      "%    https://www.latex-project.org/lppl.txt\n",
      "%\n",
      "% This file is part of the \"l3experimental bundle\" (The Work in LPPL)\n",
      "% and all files in that bundle mus\n",
      "% \\iffalse meta-comment\n",
      "%\n",
      "% Copyright (C) 1993-2019\n",
      "% The LaTeX3 Project and any individual authors listed elsewhere\n",
      "% in this file.\n",
      "%\n",
      "% This file is part of the LaTeX base system.\n",
      "% -------------------------------------------\n",
      "%\n",
      "% It may be distributed and/or modified under the\n",
      "% conditions of the LaTeX Project Public License, either version 1.3c\n",
      "% of this license or (at your option) any later version.\n",
      "% The latest version of this license is in\n",
      "%    https://www.latex-project.org/lppl.txt\n",
      "% and v\n",
      "% \\iffalse\n",
      "%<*driver>\n",
      "\\documentclass{ltxdockit}\n",
      "\\usepackage[american]{babel}\n",
      "\\usepackage{amsmath,btxdockit,doc,fancyvrb,hologo,microtype,minted,xcolor}\n",
      "\\usepackage{fontspec}\n",
      "\\defaultfontfeatures[\\rmfamily,\\sffamily,\\ttfamily]{}\n",
      "\n",
      "% Set up the style.\n",
      "\\emergencystretch=1em\n",
      "\\fvset{gobble=0,frame=single}\n",
      "\\setcounter{secnumdepth}{4}\n",
      "\\addtokomafont{title}{\\sffamily}\n",
      "\\addtokomafont{paragraph}{\\spotcolor}\n",
      "\\addtokomafont{section}{\\spotcolor}\n",
      "\\addtokomafont{subsection}{\\spotcolor}\n",
      "\\addtokomafont{subsubsect\n",
      "% \\iffalse meta-comment\n",
      "%\n",
      "%% File: l3fp-random.dtx\n",
      "%\n",
      "% Copyright (C) 2016-2020 The LaTeX3 Project\n",
      "%\n",
      "% It may be distributed and/or modified under the conditions of the\n",
      "% LaTeX Project Public License (LPPL), either version 1.3c of this\n",
      "% license or (at your option) any later version.  The latest version\n",
      "% of this license is in the file\n",
      "%\n",
      "%    https://www.latex-project.org/lppl.txt\n",
      "%\n",
      "% This file is part of the \"l3kernel bundle\" (The Work in LPPL)\n",
      "% and all files in that bundle must be distributed \n",
      "{$I JclAlgorithms.inc}\n",
      "{$I JclArrayLists.inc}\n",
      "{$I JclArraySets.inc}\n",
      "{$I JclBinaryTrees.inc}\n",
      "{$I JclContainerIntf.inc}\n",
      "{$I JclHashMaps.inc}\n",
      "{$I JclHashSets.inc}\n",
      "{$I JclLinkedLists.inc}\n",
      "{$I JclQueues.inc}\n",
      "{$I JclSortedMaps.inc}\n",
      "{$I JclStacks.inc}\n",
      "{$I JclTrees.inc}\n",
      "{$I JclVectors.inc}\n",
      "% \\iffalse meta-comment\n",
      "%\n",
      "%% File: l3backend-box.dtx\n",
      "%\n",
      "% Copyright (C) 2019,2020 The LaTeX3 Project\n",
      "%\n",
      "% It may be distributed and/or modified under the conditions of the\n",
      "% LaTeX Project Public License (LPPL), either version 1.3c of this\n",
      "% license or (at your option) any later version.  The latest version\n",
      "% of this license is in the file\n",
      "%\n",
      "%    https://www.latex-project.org/lppl.txt\n",
      "%\n",
      "% This file is part of the \"l3backend bundle\" (The Work in LPPL)\n",
      "% and all files in that bundle must be distribut\n",
      "tex dtx {'xml': 3, 'data': 0, 'unknown': 171}\n"
     ]
    },
    {
     "name": "stderr",
     "output_type": "stream",
     "text": [
      "\n"
     ]
    }
   ],
   "source": [
    "# language, ext ='maple', 'mpl'\n",
    "# language, ext ='stata', 'ado'\n",
    "# language, ext ='c', 'h'\n",
    "# language, ext ='ada', 'adb'\n",
    "# language, ext ='augeas', 'aug'\n",
    "# language, ext ='sas', 'sas'\n",
    "language, ext ='tex', 'dtx'\n",
    "# language, ext ='visual-basic', 'bas'\n",
    "c = get_lang_counter(language, ext, show_unk=True)\n",
    "print(language, ext, c)"
   ]
  },
  {
   "cell_type": "code",
   "execution_count": 71,
   "id": "4b132e96",
   "metadata": {},
   "outputs": [
    {
     "name": "stdout",
     "output_type": "stream",
     "text": [
      "64\n",
      "dockerfile\n",
      "1\n"
     ]
    },
    {
     "name": "stderr",
     "output_type": "stream",
     "text": [
      "Using custom data configuration loubnabnl--the-stack-inspection-data-2c6656bd7f96b23c\n"
     ]
    },
    {
     "name": "stdout",
     "output_type": "stream",
     "text": [
      "Downloading and preparing dataset json/loubnabnl--the-stack-inspection-data to /Users/harm.devries/.cache/huggingface/datasets/loubnabnl___json/loubnabnl--the-stack-inspection-data-2c6656bd7f96b23c/0.0.0/e6070c77f18f01a5ad4551a8b7edfba20b8438b7cad4d94e6ad9378022ce4aab...\n"
     ]
    },
    {
     "data": {
      "application/vnd.jupyter.widget-view+json": {
       "model_id": "c483cce4e22247dfb39ca2ddf5c33f1a",
       "version_major": 2,
       "version_minor": 0
      },
      "text/plain": [
       "Downloading data files:   0%|          | 0/1 [00:00<?, ?it/s]"
      ]
     },
     "metadata": {},
     "output_type": "display_data"
    },
    {
     "data": {
      "application/vnd.jupyter.widget-view+json": {
       "model_id": "2a0c44972b6b435db7d67cdb8ab7456f",
       "version_major": 2,
       "version_minor": 0
      },
      "text/plain": [
       "Downloading data:   0%|          | 0.00/3.65k [00:00<?, ?B/s]"
      ]
     },
     "metadata": {},
     "output_type": "display_data"
    },
    {
     "data": {
      "application/vnd.jupyter.widget-view+json": {
       "model_id": "bfe2299aacba4c0cb68ac336f66a4852",
       "version_major": 2,
       "version_minor": 0
      },
      "text/plain": [
       "Extracting data files:   0%|          | 0/1 [00:00<?, ?it/s]"
      ]
     },
     "metadata": {},
     "output_type": "display_data"
    },
    {
     "data": {
      "application/vnd.jupyter.widget-view+json": {
       "model_id": "d5024e69eff6415c8f053f4b8321679c",
       "version_major": 2,
       "version_minor": 0
      },
      "text/plain": [
       "Generating train split: 0 examples [00:00, ? examples/s]"
      ]
     },
     "metadata": {},
     "output_type": "display_data"
    },
    {
     "name": "stdout",
     "output_type": "stream",
     "text": [
      "Dataset json downloaded and prepared to /Users/harm.devries/.cache/huggingface/datasets/loubnabnl___json/loubnabnl--the-stack-inspection-data-2c6656bd7f96b23c/0.0.0/e6070c77f18f01a5ad4551a8b7edfba20b8438b7cad4d94e6ad9378022ce4aab. Subsequent calls will reuse this data.\n"
     ]
    },
    {
     "name": "stderr",
     "output_type": "stream",
     "text": [
      "\n",
      "1it [00:00, 1700.16it/s]"
     ]
    },
    {
     "name": "stdout",
     "output_type": "stream",
     "text": [
      "65\n",
      "dockerfile\n",
      "dockerfile\n"
     ]
    },
    {
     "name": "stderr",
     "output_type": "stream",
     "text": [
      "\n",
      "Using custom data configuration loubnabnl--the-stack-inspection-data-5e2fb953600ced68\n"
     ]
    },
    {
     "name": "stdout",
     "output_type": "stream",
     "text": [
      "Downloading and preparing dataset json/loubnabnl--the-stack-inspection-data to /Users/harm.devries/.cache/huggingface/datasets/loubnabnl___json/loubnabnl--the-stack-inspection-data-5e2fb953600ced68/0.0.0/e6070c77f18f01a5ad4551a8b7edfba20b8438b7cad4d94e6ad9378022ce4aab...\n"
     ]
    },
    {
     "data": {
      "application/vnd.jupyter.widget-view+json": {
       "model_id": "2975d2cfdcf2407fb8de710c757c81be",
       "version_major": 2,
       "version_minor": 0
      },
      "text/plain": [
       "Downloading data files:   0%|          | 0/1 [00:00<?, ?it/s]"
      ]
     },
     "metadata": {},
     "output_type": "display_data"
    },
    {
     "data": {
      "application/vnd.jupyter.widget-view+json": {
       "model_id": "50b7637734874860922559b1f353b0dc",
       "version_major": 2,
       "version_minor": 0
      },
      "text/plain": [
       "Downloading data:   0%|          | 0.00/419k [00:00<?, ?B/s]"
      ]
     },
     "metadata": {},
     "output_type": "display_data"
    },
    {
     "data": {
      "application/vnd.jupyter.widget-view+json": {
       "model_id": "e6849f93457d43e3967994eaa370a49e",
       "version_major": 2,
       "version_minor": 0
      },
      "text/plain": [
       "Extracting data files:   0%|          | 0/1 [00:00<?, ?it/s]"
      ]
     },
     "metadata": {},
     "output_type": "display_data"
    },
    {
     "data": {
      "application/vnd.jupyter.widget-view+json": {
       "model_id": "e3c60ccc334f4172be2c8bc5399ddc6c",
       "version_major": 2,
       "version_minor": 0
      },
      "text/plain": [
       "Generating train split: 0 examples [00:00, ? examples/s]"
      ]
     },
     "metadata": {},
     "output_type": "display_data"
    },
    {
     "name": "stdout",
     "output_type": "stream",
     "text": [
      "Dataset json downloaded and prepared to /Users/harm.devries/.cache/huggingface/datasets/loubnabnl___json/loubnabnl--the-stack-inspection-data-5e2fb953600ced68/0.0.0/e6070c77f18f01a5ad4551a8b7edfba20b8438b7cad4d94e6ad9378022ce4aab. Subsequent calls will reuse this data.\n"
     ]
    },
    {
     "name": "stderr",
     "output_type": "stream",
     "text": [
      "\n",
      "334it [00:00, 7428.98it/s]"
     ]
    },
    {
     "name": "stdout",
     "output_type": "stream",
     "text": [
      "66\n",
      "dockerfile\n",
      "3\n"
     ]
    },
    {
     "name": "stderr",
     "output_type": "stream",
     "text": [
      "\n",
      "Using custom data configuration loubnabnl--the-stack-inspection-data-26fa376f981ec6df\n"
     ]
    },
    {
     "name": "stdout",
     "output_type": "stream",
     "text": [
      "Downloading and preparing dataset json/loubnabnl--the-stack-inspection-data to /Users/harm.devries/.cache/huggingface/datasets/loubnabnl___json/loubnabnl--the-stack-inspection-data-26fa376f981ec6df/0.0.0/e6070c77f18f01a5ad4551a8b7edfba20b8438b7cad4d94e6ad9378022ce4aab...\n"
     ]
    },
    {
     "data": {
      "application/vnd.jupyter.widget-view+json": {
       "model_id": "d538c7098a00421f83cc90cd77765d7a",
       "version_major": 2,
       "version_minor": 0
      },
      "text/plain": [
       "Downloading data files:   0%|          | 0/1 [00:00<?, ?it/s]"
      ]
     },
     "metadata": {},
     "output_type": "display_data"
    },
    {
     "data": {
      "application/vnd.jupyter.widget-view+json": {
       "model_id": "951c1fcc1db84c7d9bcb7e3b59280c1b",
       "version_major": 2,
       "version_minor": 0
      },
      "text/plain": [
       "Downloading data:   0%|          | 0.00/332 [00:00<?, ?B/s]"
      ]
     },
     "metadata": {},
     "output_type": "display_data"
    },
    {
     "data": {
      "application/vnd.jupyter.widget-view+json": {
       "model_id": "281889f87fb74158a2cd233ad5283e9c",
       "version_major": 2,
       "version_minor": 0
      },
      "text/plain": [
       "Extracting data files:   0%|          | 0/1 [00:00<?, ?it/s]"
      ]
     },
     "metadata": {},
     "output_type": "display_data"
    },
    {
     "data": {
      "application/vnd.jupyter.widget-view+json": {
       "model_id": "0f7b055457494507977ed577a6580726",
       "version_major": 2,
       "version_minor": 0
      },
      "text/plain": [
       "Generating train split: 0 examples [00:00, ? examples/s]"
      ]
     },
     "metadata": {},
     "output_type": "display_data"
    },
    {
     "name": "stdout",
     "output_type": "stream",
     "text": [
      "Dataset json downloaded and prepared to /Users/harm.devries/.cache/huggingface/datasets/loubnabnl___json/loubnabnl--the-stack-inspection-data-26fa376f981ec6df/0.0.0/e6070c77f18f01a5ad4551a8b7edfba20b8438b7cad4d94e6ad9378022ce4aab. Subsequent calls will reuse this data.\n"
     ]
    },
    {
     "name": "stderr",
     "output_type": "stream",
     "text": [
      "\n",
      "1it [00:00, 2024.28it/s]"
     ]
    },
    {
     "name": "stdout",
     "output_type": "stream",
     "text": [
      "67\n",
      "dockerfile\n",
      "mustache\n"
     ]
    },
    {
     "name": "stderr",
     "output_type": "stream",
     "text": [
      "\n",
      "Using custom data configuration loubnabnl--the-stack-inspection-data-3d69f9a05fbaa73a\n"
     ]
    },
    {
     "name": "stdout",
     "output_type": "stream",
     "text": [
      "Downloading and preparing dataset json/loubnabnl--the-stack-inspection-data to /Users/harm.devries/.cache/huggingface/datasets/loubnabnl___json/loubnabnl--the-stack-inspection-data-3d69f9a05fbaa73a/0.0.0/e6070c77f18f01a5ad4551a8b7edfba20b8438b7cad4d94e6ad9378022ce4aab...\n"
     ]
    },
    {
     "data": {
      "application/vnd.jupyter.widget-view+json": {
       "model_id": "e2278453050f453396e7376be1784ef6",
       "version_major": 2,
       "version_minor": 0
      },
      "text/plain": [
       "Downloading data files:   0%|          | 0/1 [00:00<?, ?it/s]"
      ]
     },
     "metadata": {},
     "output_type": "display_data"
    },
    {
     "data": {
      "application/vnd.jupyter.widget-view+json": {
       "model_id": "19b51f5af9af4bbb81aa044f5d9b3d21",
       "version_major": 2,
       "version_minor": 0
      },
      "text/plain": [
       "Downloading data:   0%|          | 0.00/1.01k [00:00<?, ?B/s]"
      ]
     },
     "metadata": {},
     "output_type": "display_data"
    },
    {
     "data": {
      "application/vnd.jupyter.widget-view+json": {
       "model_id": "40a36b465f464ae0aae244c8d1d98dc6",
       "version_major": 2,
       "version_minor": 0
      },
      "text/plain": [
       "Extracting data files:   0%|          | 0/1 [00:00<?, ?it/s]"
      ]
     },
     "metadata": {},
     "output_type": "display_data"
    },
    {
     "data": {
      "application/vnd.jupyter.widget-view+json": {
       "model_id": "05d2cd9261974099ab79f45228b5de02",
       "version_major": 2,
       "version_minor": 0
      },
      "text/plain": [
       "Generating train split: 0 examples [00:00, ? examples/s]"
      ]
     },
     "metadata": {},
     "output_type": "display_data"
    },
    {
     "name": "stdout",
     "output_type": "stream",
     "text": [
      "Dataset json downloaded and prepared to /Users/harm.devries/.cache/huggingface/datasets/loubnabnl___json/loubnabnl--the-stack-inspection-data-3d69f9a05fbaa73a/0.0.0/e6070c77f18f01a5ad4551a8b7edfba20b8438b7cad4d94e6ad9378022ce4aab. Subsequent calls will reuse this data.\n"
     ]
    },
    {
     "name": "stderr",
     "output_type": "stream",
     "text": [
      "\n",
      "1it [00:00, 2695.57it/s]"
     ]
    },
    {
     "name": "stdout",
     "output_type": "stream",
     "text": [
      "68\n",
      "elixir\n",
      "ex\n"
     ]
    },
    {
     "name": "stderr",
     "output_type": "stream",
     "text": [
      "\n",
      "Using custom data configuration loubnabnl--the-stack-inspection-data-1a75d20fd60dac2f\n"
     ]
    },
    {
     "name": "stdout",
     "output_type": "stream",
     "text": [
      "Downloading and preparing dataset json/loubnabnl--the-stack-inspection-data to /Users/harm.devries/.cache/huggingface/datasets/loubnabnl___json/loubnabnl--the-stack-inspection-data-1a75d20fd60dac2f/0.0.0/e6070c77f18f01a5ad4551a8b7edfba20b8438b7cad4d94e6ad9378022ce4aab...\n"
     ]
    },
    {
     "data": {
      "application/vnd.jupyter.widget-view+json": {
       "model_id": "812533643fa54985b7ba908ea5223360",
       "version_major": 2,
       "version_minor": 0
      },
      "text/plain": [
       "Downloading data files:   0%|          | 0/1 [00:00<?, ?it/s]"
      ]
     },
     "metadata": {},
     "output_type": "display_data"
    },
    {
     "data": {
      "application/vnd.jupyter.widget-view+json": {
       "model_id": "d36731070bff4fe8b1aa60fa7853c17c",
       "version_major": 2,
       "version_minor": 0
      },
      "text/plain": [
       "Downloading data:   0%|          | 0.00/4.98M [00:00<?, ?B/s]"
      ]
     },
     "metadata": {},
     "output_type": "display_data"
    },
    {
     "data": {
      "application/vnd.jupyter.widget-view+json": {
       "model_id": "15bb55c2f645455e841de7d151488241",
       "version_major": 2,
       "version_minor": 0
      },
      "text/plain": [
       "Extracting data files:   0%|          | 0/1 [00:00<?, ?it/s]"
      ]
     },
     "metadata": {},
     "output_type": "display_data"
    },
    {
     "data": {
      "application/vnd.jupyter.widget-view+json": {
       "model_id": "54aced08926e44609494470f11bd0670",
       "version_major": 2,
       "version_minor": 0
      },
      "text/plain": [
       "Generating train split: 0 examples [00:00, ? examples/s]"
      ]
     },
     "metadata": {},
     "output_type": "display_data"
    },
    {
     "name": "stdout",
     "output_type": "stream",
     "text": [
      "Dataset json downloaded and prepared to /Users/harm.devries/.cache/huggingface/datasets/loubnabnl___json/loubnabnl--the-stack-inspection-data-1a75d20fd60dac2f/0.0.0/e6070c77f18f01a5ad4551a8b7edfba20b8438b7cad4d94e6ad9378022ce4aab. Subsequent calls will reuse this data.\n"
     ]
    },
    {
     "name": "stderr",
     "output_type": "stream",
     "text": [
      "\n",
      "0it [00:00, ?it/s]\u001b[A\n",
      "1000it [00:00, 4916.28it/s][A\n"
     ]
    },
    {
     "name": "stdout",
     "output_type": "stream",
     "text": [
      "69\n",
      "elixir\n",
      "exs\n"
     ]
    },
    {
     "name": "stderr",
     "output_type": "stream",
     "text": [
      "Using custom data configuration loubnabnl--the-stack-inspection-data-3cee07a9e35fd9ce\n"
     ]
    },
    {
     "name": "stdout",
     "output_type": "stream",
     "text": [
      "Downloading and preparing dataset json/loubnabnl--the-stack-inspection-data to /Users/harm.devries/.cache/huggingface/datasets/loubnabnl___json/loubnabnl--the-stack-inspection-data-3cee07a9e35fd9ce/0.0.0/e6070c77f18f01a5ad4551a8b7edfba20b8438b7cad4d94e6ad9378022ce4aab...\n"
     ]
    },
    {
     "data": {
      "application/vnd.jupyter.widget-view+json": {
       "model_id": "18ff761bf0c34f30bc5216a14ad6a3e3",
       "version_major": 2,
       "version_minor": 0
      },
      "text/plain": [
       "Downloading data files:   0%|          | 0/1 [00:00<?, ?it/s]"
      ]
     },
     "metadata": {},
     "output_type": "display_data"
    },
    {
     "data": {
      "application/vnd.jupyter.widget-view+json": {
       "model_id": "5af0b97b634f48c69cac4891da09488c",
       "version_major": 2,
       "version_minor": 0
      },
      "text/plain": [
       "Downloading data:   0%|          | 0.00/2.93M [00:00<?, ?B/s]"
      ]
     },
     "metadata": {},
     "output_type": "display_data"
    },
    {
     "data": {
      "application/vnd.jupyter.widget-view+json": {
       "model_id": "a3ef101c5999446cb7eff7c5b2f15326",
       "version_major": 2,
       "version_minor": 0
      },
      "text/plain": [
       "Extracting data files:   0%|          | 0/1 [00:00<?, ?it/s]"
      ]
     },
     "metadata": {},
     "output_type": "display_data"
    },
    {
     "data": {
      "application/vnd.jupyter.widget-view+json": {
       "model_id": "658ac0513a604f1daa467ea0258fd6f8",
       "version_major": 2,
       "version_minor": 0
      },
      "text/plain": [
       "Generating train split: 0 examples [00:00, ? examples/s]"
      ]
     },
     "metadata": {},
     "output_type": "display_data"
    },
    {
     "name": "stdout",
     "output_type": "stream",
     "text": [
      "Dataset json downloaded and prepared to /Users/harm.devries/.cache/huggingface/datasets/loubnabnl___json/loubnabnl--the-stack-inspection-data-3cee07a9e35fd9ce/0.0.0/e6070c77f18f01a5ad4551a8b7edfba20b8438b7cad4d94e6ad9378022ce4aab. Subsequent calls will reuse this data.\n"
     ]
    },
    {
     "name": "stderr",
     "output_type": "stream",
     "text": [
      "\n",
      "0it [00:00, ?it/s]\u001b[A\n",
      "1000it [00:00, 6126.69it/s][A"
     ]
    },
    {
     "name": "stdout",
     "output_type": "stream",
     "text": [
      "70\n",
      "elm\n",
      "elm\n"
     ]
    },
    {
     "name": "stderr",
     "output_type": "stream",
     "text": [
      "\n",
      "Using custom data configuration loubnabnl--the-stack-inspection-data-174778b52b60060b\n"
     ]
    },
    {
     "name": "stdout",
     "output_type": "stream",
     "text": [
      "Downloading and preparing dataset json/loubnabnl--the-stack-inspection-data to /Users/harm.devries/.cache/huggingface/datasets/loubnabnl___json/loubnabnl--the-stack-inspection-data-174778b52b60060b/0.0.0/e6070c77f18f01a5ad4551a8b7edfba20b8438b7cad4d94e6ad9378022ce4aab...\n"
     ]
    },
    {
     "data": {
      "application/vnd.jupyter.widget-view+json": {
       "model_id": "901d54eb75394e40a27b0e547b1a1503",
       "version_major": 2,
       "version_minor": 0
      },
      "text/plain": [
       "Downloading data files:   0%|          | 0/1 [00:00<?, ?it/s]"
      ]
     },
     "metadata": {},
     "output_type": "display_data"
    },
    {
     "data": {
      "application/vnd.jupyter.widget-view+json": {
       "model_id": "f477a395a41146508772fb43315f44f3",
       "version_major": 2,
       "version_minor": 0
      },
      "text/plain": [
       "Downloading data:   0%|          | 0.00/7.15M [00:00<?, ?B/s]"
      ]
     },
     "metadata": {},
     "output_type": "display_data"
    },
    {
     "data": {
      "application/vnd.jupyter.widget-view+json": {
       "model_id": "1e6707ce7cab408d87c046556be47310",
       "version_major": 2,
       "version_minor": 0
      },
      "text/plain": [
       "Extracting data files:   0%|          | 0/1 [00:00<?, ?it/s]"
      ]
     },
     "metadata": {},
     "output_type": "display_data"
    },
    {
     "data": {
      "application/vnd.jupyter.widget-view+json": {
       "model_id": "41647481c23948c4ad4e5665c981fdbe",
       "version_major": 2,
       "version_minor": 0
      },
      "text/plain": [
       "Generating train split: 0 examples [00:00, ? examples/s]"
      ]
     },
     "metadata": {},
     "output_type": "display_data"
    },
    {
     "name": "stdout",
     "output_type": "stream",
     "text": [
      "Dataset json downloaded and prepared to /Users/harm.devries/.cache/huggingface/datasets/loubnabnl___json/loubnabnl--the-stack-inspection-data-174778b52b60060b/0.0.0/e6070c77f18f01a5ad4551a8b7edfba20b8438b7cad4d94e6ad9378022ce4aab. Subsequent calls will reuse this data.\n"
     ]
    },
    {
     "name": "stderr",
     "output_type": "stream",
     "text": [
      "\n",
      "0it [00:00, ?it/s]\u001b[A\n",
      "381it [00:00, 3798.57it/s]\u001b[A\n",
      "1000it [00:00, 3930.45it/s][A\n"
     ]
    },
    {
     "name": "stdout",
     "output_type": "stream",
     "text": [
      "71\n",
      "emacs-lisp\n",
      "el\n"
     ]
    },
    {
     "name": "stderr",
     "output_type": "stream",
     "text": [
      "Using custom data configuration loubnabnl--the-stack-inspection-data-80edfc7cd6947774\n"
     ]
    },
    {
     "name": "stdout",
     "output_type": "stream",
     "text": [
      "Downloading and preparing dataset json/loubnabnl--the-stack-inspection-data to /Users/harm.devries/.cache/huggingface/datasets/loubnabnl___json/loubnabnl--the-stack-inspection-data-80edfc7cd6947774/0.0.0/e6070c77f18f01a5ad4551a8b7edfba20b8438b7cad4d94e6ad9378022ce4aab...\n"
     ]
    },
    {
     "data": {
      "application/vnd.jupyter.widget-view+json": {
       "model_id": "58f1b081e99446bbb1b4ecf05bc4136d",
       "version_major": 2,
       "version_minor": 0
      },
      "text/plain": [
       "Downloading data files:   0%|          | 0/1 [00:00<?, ?it/s]"
      ]
     },
     "metadata": {},
     "output_type": "display_data"
    },
    {
     "data": {
      "application/vnd.jupyter.widget-view+json": {
       "model_id": "507388337fe940549f7f6c982b92f595",
       "version_major": 2,
       "version_minor": 0
      },
      "text/plain": [
       "Downloading data:   0%|          | 0.00/16.7M [00:00<?, ?B/s]"
      ]
     },
     "metadata": {},
     "output_type": "display_data"
    },
    {
     "data": {
      "application/vnd.jupyter.widget-view+json": {
       "model_id": "3ab3775b4ef44ebc9fec302773cf48da",
       "version_major": 2,
       "version_minor": 0
      },
      "text/plain": [
       "Extracting data files:   0%|          | 0/1 [00:00<?, ?it/s]"
      ]
     },
     "metadata": {},
     "output_type": "display_data"
    },
    {
     "data": {
      "application/vnd.jupyter.widget-view+json": {
       "model_id": "615caefe25124714b131edfc6133736b",
       "version_major": 2,
       "version_minor": 0
      },
      "text/plain": [
       "Generating train split: 0 examples [00:00, ? examples/s]"
      ]
     },
     "metadata": {},
     "output_type": "display_data"
    },
    {
     "name": "stdout",
     "output_type": "stream",
     "text": [
      "Dataset json downloaded and prepared to /Users/harm.devries/.cache/huggingface/datasets/loubnabnl___json/loubnabnl--the-stack-inspection-data-80edfc7cd6947774/0.0.0/e6070c77f18f01a5ad4551a8b7edfba20b8438b7cad4d94e6ad9378022ce4aab. Subsequent calls will reuse this data.\n"
     ]
    },
    {
     "name": "stderr",
     "output_type": "stream",
     "text": [
      "\n",
      "0it [00:00, ?it/s]\u001b[A\n",
      "119it [00:00, 1164.46it/s]\u001b[A\n",
      "293it [00:00, 1499.85it/s]\u001b[A\n",
      "506it [00:00, 1785.18it/s]\u001b[A\n",
      "690it [00:00, 1793.87it/s]\u001b[A\n",
      "1000it [00:00, 1889.09it/s][A\n"
     ]
    },
    {
     "name": "stdout",
     "output_type": "stream",
     "text": [
      "72\n",
      "emacs-lisp\n",
      "emacs\n"
     ]
    },
    {
     "name": "stderr",
     "output_type": "stream",
     "text": [
      "Using custom data configuration loubnabnl--the-stack-inspection-data-15f3a14b8169c2b6\n"
     ]
    },
    {
     "name": "stdout",
     "output_type": "stream",
     "text": [
      "Downloading and preparing dataset json/loubnabnl--the-stack-inspection-data to /Users/harm.devries/.cache/huggingface/datasets/loubnabnl___json/loubnabnl--the-stack-inspection-data-15f3a14b8169c2b6/0.0.0/e6070c77f18f01a5ad4551a8b7edfba20b8438b7cad4d94e6ad9378022ce4aab...\n"
     ]
    },
    {
     "data": {
      "application/vnd.jupyter.widget-view+json": {
       "model_id": "0664c114c02541949ce6ae0423bafa43",
       "version_major": 2,
       "version_minor": 0
      },
      "text/plain": [
       "Downloading data files:   0%|          | 0/1 [00:00<?, ?it/s]"
      ]
     },
     "metadata": {},
     "output_type": "display_data"
    },
    {
     "data": {
      "application/vnd.jupyter.widget-view+json": {
       "model_id": "288ad725989f434a870253ff828e3c09",
       "version_major": 2,
       "version_minor": 0
      },
      "text/plain": [
       "Downloading data:   0%|          | 0.00/1.02M [00:00<?, ?B/s]"
      ]
     },
     "metadata": {},
     "output_type": "display_data"
    },
    {
     "data": {
      "application/vnd.jupyter.widget-view+json": {
       "model_id": "77887debb00a440d8988d9857882a8e7",
       "version_major": 2,
       "version_minor": 0
      },
      "text/plain": [
       "Extracting data files:   0%|          | 0/1 [00:00<?, ?it/s]"
      ]
     },
     "metadata": {},
     "output_type": "display_data"
    },
    {
     "data": {
      "application/vnd.jupyter.widget-view+json": {
       "model_id": "c5f8235ab34e43b79830897277106793",
       "version_major": 2,
       "version_minor": 0
      },
      "text/plain": [
       "Generating train split: 0 examples [00:00, ? examples/s]"
      ]
     },
     "metadata": {},
     "output_type": "display_data"
    },
    {
     "name": "stdout",
     "output_type": "stream",
     "text": [
      "Dataset json downloaded and prepared to /Users/harm.devries/.cache/huggingface/datasets/loubnabnl___json/loubnabnl--the-stack-inspection-data-15f3a14b8169c2b6/0.0.0/e6070c77f18f01a5ad4551a8b7edfba20b8438b7cad4d94e6ad9378022ce4aab. Subsequent calls will reuse this data.\n"
     ]
    },
    {
     "name": "stderr",
     "output_type": "stream",
     "text": [
      "\n",
      "142it [00:00, 3522.08it/s]"
     ]
    },
    {
     "name": "stdout",
     "output_type": "stream",
     "text": [
      "73\n",
      "erlang\n",
      "erl\n"
     ]
    },
    {
     "name": "stderr",
     "output_type": "stream",
     "text": [
      "\n",
      "Using custom data configuration loubnabnl--the-stack-inspection-data-9e150dfd502cbfec\n"
     ]
    },
    {
     "name": "stdout",
     "output_type": "stream",
     "text": [
      "Downloading and preparing dataset json/loubnabnl--the-stack-inspection-data to /Users/harm.devries/.cache/huggingface/datasets/loubnabnl___json/loubnabnl--the-stack-inspection-data-9e150dfd502cbfec/0.0.0/e6070c77f18f01a5ad4551a8b7edfba20b8438b7cad4d94e6ad9378022ce4aab...\n"
     ]
    },
    {
     "data": {
      "application/vnd.jupyter.widget-view+json": {
       "model_id": "c208eacad20745b0acdad295c794d675",
       "version_major": 2,
       "version_minor": 0
      },
      "text/plain": [
       "Downloading data files:   0%|          | 0/1 [00:00<?, ?it/s]"
      ]
     },
     "metadata": {},
     "output_type": "display_data"
    },
    {
     "data": {
      "application/vnd.jupyter.widget-view+json": {
       "model_id": "8a451b3cebd04dea9659976dc54e0830",
       "version_major": 2,
       "version_minor": 0
      },
      "text/plain": [
       "Downloading data:   0%|          | 0.00/12.8M [00:00<?, ?B/s]"
      ]
     },
     "metadata": {},
     "output_type": "display_data"
    },
    {
     "data": {
      "application/vnd.jupyter.widget-view+json": {
       "model_id": "8403cc8115e949bbbcdeadfdcce5870f",
       "version_major": 2,
       "version_minor": 0
      },
      "text/plain": [
       "Extracting data files:   0%|          | 0/1 [00:00<?, ?it/s]"
      ]
     },
     "metadata": {},
     "output_type": "display_data"
    },
    {
     "data": {
      "application/vnd.jupyter.widget-view+json": {
       "model_id": "814a3476853645488f9dc6d48f8fb6e9",
       "version_major": 2,
       "version_minor": 0
      },
      "text/plain": [
       "Generating train split: 0 examples [00:00, ? examples/s]"
      ]
     },
     "metadata": {},
     "output_type": "display_data"
    },
    {
     "name": "stdout",
     "output_type": "stream",
     "text": [
      "Dataset json downloaded and prepared to /Users/harm.devries/.cache/huggingface/datasets/loubnabnl___json/loubnabnl--the-stack-inspection-data-9e150dfd502cbfec/0.0.0/e6070c77f18f01a5ad4551a8b7edfba20b8438b7cad4d94e6ad9378022ce4aab. Subsequent calls will reuse this data.\n"
     ]
    },
    {
     "name": "stderr",
     "output_type": "stream",
     "text": [
      "1000it [00:00, 2632.56it/s]\n"
     ]
    },
    {
     "name": "stdout",
     "output_type": "stream",
     "text": [
      "74\n",
      "erlang\n",
      "hrl\n"
     ]
    },
    {
     "name": "stderr",
     "output_type": "stream",
     "text": [
      "Using custom data configuration loubnabnl--the-stack-inspection-data-e8ef5391a8e737e1\n"
     ]
    },
    {
     "name": "stdout",
     "output_type": "stream",
     "text": [
      "Downloading and preparing dataset json/loubnabnl--the-stack-inspection-data to /Users/harm.devries/.cache/huggingface/datasets/loubnabnl___json/loubnabnl--the-stack-inspection-data-e8ef5391a8e737e1/0.0.0/e6070c77f18f01a5ad4551a8b7edfba20b8438b7cad4d94e6ad9378022ce4aab...\n"
     ]
    },
    {
     "data": {
      "application/vnd.jupyter.widget-view+json": {
       "model_id": "0138138ac99443f8b263a5cedf4147fc",
       "version_major": 2,
       "version_minor": 0
      },
      "text/plain": [
       "Downloading data files:   0%|          | 0/1 [00:00<?, ?it/s]"
      ]
     },
     "metadata": {},
     "output_type": "display_data"
    },
    {
     "data": {
      "application/vnd.jupyter.widget-view+json": {
       "model_id": "49967615ff794801bd8c8ed73aff307b",
       "version_major": 2,
       "version_minor": 0
      },
      "text/plain": [
       "Downloading data:   0%|          | 0.00/5.75M [00:00<?, ?B/s]"
      ]
     },
     "metadata": {},
     "output_type": "display_data"
    },
    {
     "data": {
      "application/vnd.jupyter.widget-view+json": {
       "model_id": "6552160d941e4d7e8a8ca930f4a88536",
       "version_major": 2,
       "version_minor": 0
      },
      "text/plain": [
       "Extracting data files:   0%|          | 0/1 [00:00<?, ?it/s]"
      ]
     },
     "metadata": {},
     "output_type": "display_data"
    },
    {
     "data": {
      "application/vnd.jupyter.widget-view+json": {
       "model_id": "b3386507c5bc45579ee29868b53ad0ef",
       "version_major": 2,
       "version_minor": 0
      },
      "text/plain": [
       "Generating train split: 0 examples [00:00, ? examples/s]"
      ]
     },
     "metadata": {},
     "output_type": "display_data"
    },
    {
     "name": "stdout",
     "output_type": "stream",
     "text": [
      "Dataset json downloaded and prepared to /Users/harm.devries/.cache/huggingface/datasets/loubnabnl___json/loubnabnl--the-stack-inspection-data-e8ef5391a8e737e1/0.0.0/e6070c77f18f01a5ad4551a8b7edfba20b8438b7cad4d94e6ad9378022ce4aab. Subsequent calls will reuse this data.\n"
     ]
    },
    {
     "name": "stderr",
     "output_type": "stream",
     "text": [
      "\n",
      "0it [00:00, ?it/s]\u001b[A\n",
      "481it [00:00, 4806.69it/s]\u001b[A\n",
      "1000it [00:00, 4471.71it/s][A\n"
     ]
    },
    {
     "name": "stdout",
     "output_type": "stream",
     "text": [
      "75\n",
      "erlang\n",
      "yrl\n"
     ]
    },
    {
     "name": "stderr",
     "output_type": "stream",
     "text": [
      "Using custom data configuration loubnabnl--the-stack-inspection-data-1883e2c4ef9cbd83\n"
     ]
    },
    {
     "name": "stdout",
     "output_type": "stream",
     "text": [
      "Downloading and preparing dataset json/loubnabnl--the-stack-inspection-data to /Users/harm.devries/.cache/huggingface/datasets/loubnabnl___json/loubnabnl--the-stack-inspection-data-1883e2c4ef9cbd83/0.0.0/e6070c77f18f01a5ad4551a8b7edfba20b8438b7cad4d94e6ad9378022ce4aab...\n"
     ]
    },
    {
     "data": {
      "application/vnd.jupyter.widget-view+json": {
       "model_id": "0b860de095ba4f68a83aa96cd03b1a45",
       "version_major": 2,
       "version_minor": 0
      },
      "text/plain": [
       "Downloading data files:   0%|          | 0/1 [00:00<?, ?it/s]"
      ]
     },
     "metadata": {},
     "output_type": "display_data"
    },
    {
     "data": {
      "application/vnd.jupyter.widget-view+json": {
       "model_id": "687475d25d9b420aac7cd145c6530415",
       "version_major": 2,
       "version_minor": 0
      },
      "text/plain": [
       "Downloading data:   0%|          | 0.00/1.26M [00:00<?, ?B/s]"
      ]
     },
     "metadata": {},
     "output_type": "display_data"
    },
    {
     "data": {
      "application/vnd.jupyter.widget-view+json": {
       "model_id": "c0fc3501146d46a3ac2dd8a96ec571fa",
       "version_major": 2,
       "version_minor": 0
      },
      "text/plain": [
       "Extracting data files:   0%|          | 0/1 [00:00<?, ?it/s]"
      ]
     },
     "metadata": {},
     "output_type": "display_data"
    },
    {
     "data": {
      "application/vnd.jupyter.widget-view+json": {
       "model_id": "c25bb3f8ee6e460396338beebd3b7df3",
       "version_major": 2,
       "version_minor": 0
      },
      "text/plain": [
       "Generating train split: 0 examples [00:00, ? examples/s]"
      ]
     },
     "metadata": {},
     "output_type": "display_data"
    },
    {
     "name": "stdout",
     "output_type": "stream",
     "text": [
      "Dataset json downloaded and prepared to /Users/harm.devries/.cache/huggingface/datasets/loubnabnl___json/loubnabnl--the-stack-inspection-data-1883e2c4ef9cbd83/0.0.0/e6070c77f18f01a5ad4551a8b7edfba20b8438b7cad4d94e6ad9378022ce4aab. Subsequent calls will reuse this data.\n"
     ]
    },
    {
     "name": "stderr",
     "output_type": "stream",
     "text": [
      "\n",
      "57it [00:00, 1523.12it/s]"
     ]
    },
    {
     "name": "stdout",
     "output_type": "stream",
     "text": [
      "76\n",
      "erlang\n",
      "xrl\n"
     ]
    },
    {
     "name": "stderr",
     "output_type": "stream",
     "text": [
      "\n",
      "Using custom data configuration loubnabnl--the-stack-inspection-data-5e32c87c2d667cd4\n"
     ]
    },
    {
     "name": "stdout",
     "output_type": "stream",
     "text": [
      "Downloading and preparing dataset json/loubnabnl--the-stack-inspection-data to /Users/harm.devries/.cache/huggingface/datasets/loubnabnl___json/loubnabnl--the-stack-inspection-data-5e32c87c2d667cd4/0.0.0/e6070c77f18f01a5ad4551a8b7edfba20b8438b7cad4d94e6ad9378022ce4aab...\n"
     ]
    },
    {
     "data": {
      "application/vnd.jupyter.widget-view+json": {
       "model_id": "6811009ed32d4770b64a41248bdb3154",
       "version_major": 2,
       "version_minor": 0
      },
      "text/plain": [
       "Downloading data files:   0%|          | 0/1 [00:00<?, ?it/s]"
      ]
     },
     "metadata": {},
     "output_type": "display_data"
    },
    {
     "data": {
      "application/vnd.jupyter.widget-view+json": {
       "model_id": "e7a04881c6cc47fda3e86052a7a6cdbd",
       "version_major": 2,
       "version_minor": 0
      },
      "text/plain": [
       "Downloading data:   0%|          | 0.00/103k [00:00<?, ?B/s]"
      ]
     },
     "metadata": {},
     "output_type": "display_data"
    },
    {
     "data": {
      "application/vnd.jupyter.widget-view+json": {
       "model_id": "4c0f636525d841068b60beb3cf250189",
       "version_major": 2,
       "version_minor": 0
      },
      "text/plain": [
       "Extracting data files:   0%|          | 0/1 [00:00<?, ?it/s]"
      ]
     },
     "metadata": {},
     "output_type": "display_data"
    },
    {
     "data": {
      "application/vnd.jupyter.widget-view+json": {
       "model_id": "a670313a3e664951b4b118eaaa2b2efe",
       "version_major": 2,
       "version_minor": 0
      },
      "text/plain": [
       "Generating train split: 0 examples [00:00, ? examples/s]"
      ]
     },
     "metadata": {},
     "output_type": "display_data"
    },
    {
     "name": "stdout",
     "output_type": "stream",
     "text": [
      "Dataset json downloaded and prepared to /Users/harm.devries/.cache/huggingface/datasets/loubnabnl___json/loubnabnl--the-stack-inspection-data-5e32c87c2d667cd4/0.0.0/e6070c77f18f01a5ad4551a8b7edfba20b8438b7cad4d94e6ad9378022ce4aab. Subsequent calls will reuse this data.\n"
     ]
    },
    {
     "name": "stderr",
     "output_type": "stream",
     "text": [
      "\n",
      "30it [00:00, 5124.80it/s]"
     ]
    },
    {
     "name": "stdout",
     "output_type": "stream",
     "text": [
      "77\n",
      "erlang\n",
      "escript\n"
     ]
    },
    {
     "name": "stderr",
     "output_type": "stream",
     "text": [
      "\n",
      "Using custom data configuration loubnabnl--the-stack-inspection-data-eeaf9ce315587148\n"
     ]
    },
    {
     "name": "stdout",
     "output_type": "stream",
     "text": [
      "Downloading and preparing dataset json/loubnabnl--the-stack-inspection-data to /Users/harm.devries/.cache/huggingface/datasets/loubnabnl___json/loubnabnl--the-stack-inspection-data-eeaf9ce315587148/0.0.0/e6070c77f18f01a5ad4551a8b7edfba20b8438b7cad4d94e6ad9378022ce4aab...\n"
     ]
    },
    {
     "data": {
      "application/vnd.jupyter.widget-view+json": {
       "model_id": "2bfc023f211d4a9dbca95276f588eb96",
       "version_major": 2,
       "version_minor": 0
      },
      "text/plain": [
       "Downloading data files:   0%|          | 0/1 [00:00<?, ?it/s]"
      ]
     },
     "metadata": {},
     "output_type": "display_data"
    },
    {
     "data": {
      "application/vnd.jupyter.widget-view+json": {
       "model_id": "63e9546063a54d71b93036b596a13db2",
       "version_major": 2,
       "version_minor": 0
      },
      "text/plain": [
       "Downloading data:   0%|          | 0.00/436k [00:00<?, ?B/s]"
      ]
     },
     "metadata": {},
     "output_type": "display_data"
    },
    {
     "data": {
      "application/vnd.jupyter.widget-view+json": {
       "model_id": "d6e10f033e7c4f90b9d59fea1f451c97",
       "version_major": 2,
       "version_minor": 0
      },
      "text/plain": [
       "Extracting data files:   0%|          | 0/1 [00:00<?, ?it/s]"
      ]
     },
     "metadata": {},
     "output_type": "display_data"
    },
    {
     "data": {
      "application/vnd.jupyter.widget-view+json": {
       "model_id": "706097b5577f47de977ce62d8ca6f7a5",
       "version_major": 2,
       "version_minor": 0
      },
      "text/plain": [
       "Generating train split: 0 examples [00:00, ? examples/s]"
      ]
     },
     "metadata": {},
     "output_type": "display_data"
    },
    {
     "name": "stdout",
     "output_type": "stream",
     "text": [
      "Dataset json downloaded and prepared to /Users/harm.devries/.cache/huggingface/datasets/loubnabnl___json/loubnabnl--the-stack-inspection-data-eeaf9ce315587148/0.0.0/e6070c77f18f01a5ad4551a8b7edfba20b8438b7cad4d94e6ad9378022ce4aab. Subsequent calls will reuse this data.\n"
     ]
    },
    {
     "name": "stderr",
     "output_type": "stream",
     "text": [
      "\n",
      "71it [00:00, 3548.61it/s]"
     ]
    },
    {
     "name": "stdout",
     "output_type": "stream",
     "text": [
      "78\n",
      "f-sharp\n",
      "fs\n"
     ]
    },
    {
     "name": "stderr",
     "output_type": "stream",
     "text": [
      "\n",
      "Using custom data configuration loubnabnl--the-stack-inspection-data-9499404f7c2e1434\n"
     ]
    },
    {
     "name": "stdout",
     "output_type": "stream",
     "text": [
      "Downloading and preparing dataset json/loubnabnl--the-stack-inspection-data to /Users/harm.devries/.cache/huggingface/datasets/loubnabnl___json/loubnabnl--the-stack-inspection-data-9499404f7c2e1434/0.0.0/e6070c77f18f01a5ad4551a8b7edfba20b8438b7cad4d94e6ad9378022ce4aab...\n"
     ]
    },
    {
     "data": {
      "application/vnd.jupyter.widget-view+json": {
       "model_id": "b7e39082bc3b400eafb02d38441480c1",
       "version_major": 2,
       "version_minor": 0
      },
      "text/plain": [
       "Downloading data files:   0%|          | 0/1 [00:00<?, ?it/s]"
      ]
     },
     "metadata": {},
     "output_type": "display_data"
    },
    {
     "data": {
      "application/vnd.jupyter.widget-view+json": {
       "model_id": "77d7e95aeb7143279a191e06cf0a4de4",
       "version_major": 2,
       "version_minor": 0
      },
      "text/plain": [
       "Downloading data:   0%|          | 0.00/13.6M [00:00<?, ?B/s]"
      ]
     },
     "metadata": {},
     "output_type": "display_data"
    },
    {
     "data": {
      "application/vnd.jupyter.widget-view+json": {
       "model_id": "d3513feab0b7408c94227ed7a1920074",
       "version_major": 2,
       "version_minor": 0
      },
      "text/plain": [
       "Extracting data files:   0%|          | 0/1 [00:00<?, ?it/s]"
      ]
     },
     "metadata": {},
     "output_type": "display_data"
    },
    {
     "data": {
      "application/vnd.jupyter.widget-view+json": {
       "model_id": "a682f408b47f4100a88a6e45bbd1d4b3",
       "version_major": 2,
       "version_minor": 0
      },
      "text/plain": [
       "Generating train split: 0 examples [00:00, ? examples/s]"
      ]
     },
     "metadata": {},
     "output_type": "display_data"
    },
    {
     "name": "stdout",
     "output_type": "stream",
     "text": [
      "Dataset json downloaded and prepared to /Users/harm.devries/.cache/huggingface/datasets/loubnabnl___json/loubnabnl--the-stack-inspection-data-9499404f7c2e1434/0.0.0/e6070c77f18f01a5ad4551a8b7edfba20b8438b7cad4d94e6ad9378022ce4aab. Subsequent calls will reuse this data.\n"
     ]
    },
    {
     "name": "stderr",
     "output_type": "stream",
     "text": [
      "\n",
      "0it [00:00, ?it/s]\u001b[A\n",
      "234it [00:00, 2339.67it/s]\u001b[A\n",
      "468it [00:00, 2172.74it/s]\u001b[A\n",
      "747it [00:00, 2441.42it/s]\u001b[A\n",
      "1000it [00:00, 2371.96it/s][A\n"
     ]
    },
    {
     "name": "stdout",
     "output_type": "stream",
     "text": [
      "79\n",
      "f-sharp\n",
      "fsx\n"
     ]
    },
    {
     "name": "stderr",
     "output_type": "stream",
     "text": [
      "Using custom data configuration loubnabnl--the-stack-inspection-data-84bcacab3b8492cb\n"
     ]
    },
    {
     "name": "stdout",
     "output_type": "stream",
     "text": [
      "Downloading and preparing dataset json/loubnabnl--the-stack-inspection-data to /Users/harm.devries/.cache/huggingface/datasets/loubnabnl___json/loubnabnl--the-stack-inspection-data-84bcacab3b8492cb/0.0.0/e6070c77f18f01a5ad4551a8b7edfba20b8438b7cad4d94e6ad9378022ce4aab...\n"
     ]
    },
    {
     "data": {
      "application/vnd.jupyter.widget-view+json": {
       "model_id": "8f9c9cb1ac994e51b08174f3c6421206",
       "version_major": 2,
       "version_minor": 0
      },
      "text/plain": [
       "Downloading data files:   0%|          | 0/1 [00:00<?, ?it/s]"
      ]
     },
     "metadata": {},
     "output_type": "display_data"
    },
    {
     "data": {
      "application/vnd.jupyter.widget-view+json": {
       "model_id": "16313e007f3547e7a7c3841cccf8c94d",
       "version_major": 2,
       "version_minor": 0
      },
      "text/plain": [
       "Downloading data:   0%|          | 0.00/4.31M [00:00<?, ?B/s]"
      ]
     },
     "metadata": {},
     "output_type": "display_data"
    },
    {
     "data": {
      "application/vnd.jupyter.widget-view+json": {
       "model_id": "e5089d8c461c4da9bfe325147c11afd8",
       "version_major": 2,
       "version_minor": 0
      },
      "text/plain": [
       "Extracting data files:   0%|          | 0/1 [00:00<?, ?it/s]"
      ]
     },
     "metadata": {},
     "output_type": "display_data"
    },
    {
     "data": {
      "application/vnd.jupyter.widget-view+json": {
       "model_id": "81aa40f5d25b4fa18c3f647a660d768d",
       "version_major": 2,
       "version_minor": 0
      },
      "text/plain": [
       "Generating train split: 0 examples [00:00, ? examples/s]"
      ]
     },
     "metadata": {},
     "output_type": "display_data"
    },
    {
     "name": "stdout",
     "output_type": "stream",
     "text": [
      "Dataset json downloaded and prepared to /Users/harm.devries/.cache/huggingface/datasets/loubnabnl___json/loubnabnl--the-stack-inspection-data-84bcacab3b8492cb/0.0.0/e6070c77f18f01a5ad4551a8b7edfba20b8438b7cad4d94e6ad9378022ce4aab. Subsequent calls will reuse this data.\n"
     ]
    },
    {
     "name": "stderr",
     "output_type": "stream",
     "text": [
      "\n",
      "0it [00:00, ?it/s]\u001b[A\n",
      "1000it [00:00, 5285.50it/s][A"
     ]
    },
    {
     "name": "stdout",
     "output_type": "stream",
     "text": [
      "80\n",
      "f-sharp\n",
      "fsi\n"
     ]
    },
    {
     "name": "stderr",
     "output_type": "stream",
     "text": [
      "\n",
      "Using custom data configuration loubnabnl--the-stack-inspection-data-7184a43c4896a077\n"
     ]
    },
    {
     "name": "stdout",
     "output_type": "stream",
     "text": [
      "Downloading and preparing dataset json/loubnabnl--the-stack-inspection-data to /Users/harm.devries/.cache/huggingface/datasets/loubnabnl___json/loubnabnl--the-stack-inspection-data-7184a43c4896a077/0.0.0/e6070c77f18f01a5ad4551a8b7edfba20b8438b7cad4d94e6ad9378022ce4aab...\n"
     ]
    },
    {
     "data": {
      "application/vnd.jupyter.widget-view+json": {
       "model_id": "49f49d6137204bca9e5ff179a93f21df",
       "version_major": 2,
       "version_minor": 0
      },
      "text/plain": [
       "Downloading data files:   0%|          | 0/1 [00:00<?, ?it/s]"
      ]
     },
     "metadata": {},
     "output_type": "display_data"
    },
    {
     "data": {
      "application/vnd.jupyter.widget-view+json": {
       "model_id": "0641a7a72ff048659dd2f16df913ce74",
       "version_major": 2,
       "version_minor": 0
      },
      "text/plain": [
       "Downloading data:   0%|          | 0.00/7.39M [00:00<?, ?B/s]"
      ]
     },
     "metadata": {},
     "output_type": "display_data"
    },
    {
     "data": {
      "application/vnd.jupyter.widget-view+json": {
       "model_id": "6ba2abe212cb4191bcaa0d0fdd3d9074",
       "version_major": 2,
       "version_minor": 0
      },
      "text/plain": [
       "Extracting data files:   0%|          | 0/1 [00:00<?, ?it/s]"
      ]
     },
     "metadata": {},
     "output_type": "display_data"
    },
    {
     "data": {
      "application/vnd.jupyter.widget-view+json": {
       "model_id": "8b1469e55f634991a9be2c06d32a6ae8",
       "version_major": 2,
       "version_minor": 0
      },
      "text/plain": [
       "Generating train split: 0 examples [00:00, ? examples/s]"
      ]
     },
     "metadata": {},
     "output_type": "display_data"
    },
    {
     "name": "stdout",
     "output_type": "stream",
     "text": [
      "Dataset json downloaded and prepared to /Users/harm.devries/.cache/huggingface/datasets/loubnabnl___json/loubnabnl--the-stack-inspection-data-7184a43c4896a077/0.0.0/e6070c77f18f01a5ad4551a8b7edfba20b8438b7cad4d94e6ad9378022ce4aab. Subsequent calls will reuse this data.\n"
     ]
    },
    {
     "name": "stderr",
     "output_type": "stream",
     "text": [
      "\n",
      "0it [00:00, ?it/s]\u001b[A\n",
      "201it [00:00, 1998.05it/s]\u001b[A\n",
      "516it [00:00, 1614.66it/s]\u001b[A\n"
     ]
    },
    {
     "name": "stdout",
     "output_type": "stream",
     "text": [
      "81\n",
      "fortran\n",
      "f\n"
     ]
    },
    {
     "name": "stderr",
     "output_type": "stream",
     "text": [
      "Using custom data configuration loubnabnl--the-stack-inspection-data-ba299280af3d0ac5\n"
     ]
    },
    {
     "name": "stdout",
     "output_type": "stream",
     "text": [
      "Downloading and preparing dataset json/loubnabnl--the-stack-inspection-data to /Users/harm.devries/.cache/huggingface/datasets/loubnabnl___json/loubnabnl--the-stack-inspection-data-ba299280af3d0ac5/0.0.0/e6070c77f18f01a5ad4551a8b7edfba20b8438b7cad4d94e6ad9378022ce4aab...\n"
     ]
    },
    {
     "data": {
      "application/vnd.jupyter.widget-view+json": {
       "model_id": "fa547bdcac8f4ef6b9fefc1bbd0c2130",
       "version_major": 2,
       "version_minor": 0
      },
      "text/plain": [
       "Downloading data files:   0%|          | 0/1 [00:00<?, ?it/s]"
      ]
     },
     "metadata": {},
     "output_type": "display_data"
    },
    {
     "data": {
      "application/vnd.jupyter.widget-view+json": {
       "model_id": "ffff593f4f004160b5400bf09d9a4127",
       "version_major": 2,
       "version_minor": 0
      },
      "text/plain": [
       "Downloading data:   0%|          | 0.00/13.4M [00:00<?, ?B/s]"
      ]
     },
     "metadata": {},
     "output_type": "display_data"
    },
    {
     "data": {
      "application/vnd.jupyter.widget-view+json": {
       "model_id": "deba37998b044f0eb6fab5a1c6922b1c",
       "version_major": 2,
       "version_minor": 0
      },
      "text/plain": [
       "Extracting data files:   0%|          | 0/1 [00:00<?, ?it/s]"
      ]
     },
     "metadata": {},
     "output_type": "display_data"
    },
    {
     "data": {
      "application/vnd.jupyter.widget-view+json": {
       "model_id": "837825d72feb459b94f4bcabc8026b27",
       "version_major": 2,
       "version_minor": 0
      },
      "text/plain": [
       "Generating train split: 0 examples [00:00, ? examples/s]"
      ]
     },
     "metadata": {},
     "output_type": "display_data"
    },
    {
     "name": "stdout",
     "output_type": "stream",
     "text": [
      "Dataset json downloaded and prepared to /Users/harm.devries/.cache/huggingface/datasets/loubnabnl___json/loubnabnl--the-stack-inspection-data-ba299280af3d0ac5/0.0.0/e6070c77f18f01a5ad4551a8b7edfba20b8438b7cad4d94e6ad9378022ce4aab. Subsequent calls will reuse this data.\n"
     ]
    },
    {
     "name": "stderr",
     "output_type": "stream",
     "text": [
      "\n",
      "0it [00:00, ?it/s]\u001b[A\n",
      "201it [00:00, 2004.69it/s]\u001b[A\n",
      "449it [00:00, 2270.87it/s]\u001b[A\n",
      "1000it [00:00, 2353.16it/s][A\n"
     ]
    },
    {
     "name": "stdout",
     "output_type": "stream",
     "text": [
      "82\n",
      "fortran\n",
      "f90\n"
     ]
    },
    {
     "name": "stderr",
     "output_type": "stream",
     "text": [
      "Using custom data configuration loubnabnl--the-stack-inspection-data-4bb086ee5e185063\n"
     ]
    },
    {
     "name": "stdout",
     "output_type": "stream",
     "text": [
      "Downloading and preparing dataset json/loubnabnl--the-stack-inspection-data to /Users/harm.devries/.cache/huggingface/datasets/loubnabnl___json/loubnabnl--the-stack-inspection-data-4bb086ee5e185063/0.0.0/e6070c77f18f01a5ad4551a8b7edfba20b8438b7cad4d94e6ad9378022ce4aab...\n"
     ]
    },
    {
     "data": {
      "application/vnd.jupyter.widget-view+json": {
       "model_id": "d7afd36be13e4f79b43ef96a285ac881",
       "version_major": 2,
       "version_minor": 0
      },
      "text/plain": [
       "Downloading data files:   0%|          | 0/1 [00:00<?, ?it/s]"
      ]
     },
     "metadata": {},
     "output_type": "display_data"
    },
    {
     "data": {
      "application/vnd.jupyter.widget-view+json": {
       "model_id": "131b35eeabb34a8ba29a5bac5b304efd",
       "version_major": 2,
       "version_minor": 0
      },
      "text/plain": [
       "Downloading data:   0%|          | 0.00/15.5M [00:00<?, ?B/s]"
      ]
     },
     "metadata": {},
     "output_type": "display_data"
    },
    {
     "data": {
      "application/vnd.jupyter.widget-view+json": {
       "model_id": "bda0a4a1bf904e9190ff50b51c5e16e4",
       "version_major": 2,
       "version_minor": 0
      },
      "text/plain": [
       "Extracting data files:   0%|          | 0/1 [00:00<?, ?it/s]"
      ]
     },
     "metadata": {},
     "output_type": "display_data"
    },
    {
     "data": {
      "application/vnd.jupyter.widget-view+json": {
       "model_id": "b52752a80b2145ee9aa78eb16ecd5a6b",
       "version_major": 2,
       "version_minor": 0
      },
      "text/plain": [
       "Generating train split: 0 examples [00:00, ? examples/s]"
      ]
     },
     "metadata": {},
     "output_type": "display_data"
    },
    {
     "name": "stdout",
     "output_type": "stream",
     "text": [
      "Dataset json downloaded and prepared to /Users/harm.devries/.cache/huggingface/datasets/loubnabnl___json/loubnabnl--the-stack-inspection-data-4bb086ee5e185063/0.0.0/e6070c77f18f01a5ad4551a8b7edfba20b8438b7cad4d94e6ad9378022ce4aab. Subsequent calls will reuse this data.\n"
     ]
    },
    {
     "name": "stderr",
     "output_type": "stream",
     "text": [
      "\n",
      "0it [00:00, ?it/s]\u001b[A\n",
      "261it [00:00, 2607.68it/s]\u001b[A\n",
      "522it [00:00, 2147.13it/s]\u001b[A\n",
      "1000it [00:00, 2190.21it/s][A\n"
     ]
    },
    {
     "name": "stdout",
     "output_type": "stream",
     "text": [
      "83\n",
      "fortran\n",
      "f03\n"
     ]
    },
    {
     "name": "stderr",
     "output_type": "stream",
     "text": [
      "Using custom data configuration loubnabnl--the-stack-inspection-data-4313da0368d66390\n"
     ]
    },
    {
     "name": "stdout",
     "output_type": "stream",
     "text": [
      "Downloading and preparing dataset json/loubnabnl--the-stack-inspection-data to /Users/harm.devries/.cache/huggingface/datasets/loubnabnl___json/loubnabnl--the-stack-inspection-data-4313da0368d66390/0.0.0/e6070c77f18f01a5ad4551a8b7edfba20b8438b7cad4d94e6ad9378022ce4aab...\n"
     ]
    },
    {
     "data": {
      "application/vnd.jupyter.widget-view+json": {
       "model_id": "978403e0d94b4d7cad9f5d213a052b25",
       "version_major": 2,
       "version_minor": 0
      },
      "text/plain": [
       "Downloading data files:   0%|          | 0/1 [00:00<?, ?it/s]"
      ]
     },
     "metadata": {},
     "output_type": "display_data"
    },
    {
     "data": {
      "application/vnd.jupyter.widget-view+json": {
       "model_id": "0fdd976ee31f4062a86f693e6c9cc411",
       "version_major": 2,
       "version_minor": 0
      },
      "text/plain": [
       "Downloading data:   0%|          | 0.00/1.97M [00:00<?, ?B/s]"
      ]
     },
     "metadata": {},
     "output_type": "display_data"
    },
    {
     "data": {
      "application/vnd.jupyter.widget-view+json": {
       "model_id": "9a2ab09345b74c28a4d1e640ffd3ad51",
       "version_major": 2,
       "version_minor": 0
      },
      "text/plain": [
       "Extracting data files:   0%|          | 0/1 [00:00<?, ?it/s]"
      ]
     },
     "metadata": {},
     "output_type": "display_data"
    },
    {
     "data": {
      "application/vnd.jupyter.widget-view+json": {
       "model_id": "3f9278bdb5584aac93f4ce2f28dece68",
       "version_major": 2,
       "version_minor": 0
      },
      "text/plain": [
       "Generating train split: 0 examples [00:00, ? examples/s]"
      ]
     },
     "metadata": {},
     "output_type": "display_data"
    },
    {
     "name": "stdout",
     "output_type": "stream",
     "text": [
      "Dataset json downloaded and prepared to /Users/harm.devries/.cache/huggingface/datasets/loubnabnl___json/loubnabnl--the-stack-inspection-data-4313da0368d66390/0.0.0/e6070c77f18f01a5ad4551a8b7edfba20b8438b7cad4d94e6ad9378022ce4aab. Subsequent calls will reuse this data.\n"
     ]
    },
    {
     "name": "stderr",
     "output_type": "stream",
     "text": [
      "\n",
      "145it [00:00, 2315.52it/s]"
     ]
    },
    {
     "name": "stdout",
     "output_type": "stream",
     "text": [
      "84\n",
      "fortran\n",
      "for\n"
     ]
    },
    {
     "name": "stderr",
     "output_type": "stream",
     "text": [
      "\n",
      "Using custom data configuration loubnabnl--the-stack-inspection-data-3239a9992b5b8428\n"
     ]
    },
    {
     "name": "stdout",
     "output_type": "stream",
     "text": [
      "Downloading and preparing dataset json/loubnabnl--the-stack-inspection-data to /Users/harm.devries/.cache/huggingface/datasets/loubnabnl___json/loubnabnl--the-stack-inspection-data-3239a9992b5b8428/0.0.0/e6070c77f18f01a5ad4551a8b7edfba20b8438b7cad4d94e6ad9378022ce4aab...\n"
     ]
    },
    {
     "data": {
      "application/vnd.jupyter.widget-view+json": {
       "model_id": "486f4ac343ed4c6e8fdb396c225bebd5",
       "version_major": 2,
       "version_minor": 0
      },
      "text/plain": [
       "Downloading data files:   0%|          | 0/1 [00:00<?, ?it/s]"
      ]
     },
     "metadata": {},
     "output_type": "display_data"
    },
    {
     "data": {
      "application/vnd.jupyter.widget-view+json": {
       "model_id": "a61533adf77944a5b9da94cc7b6b3ac6",
       "version_major": 2,
       "version_minor": 0
      },
      "text/plain": [
       "Downloading data:   0%|          | 0.00/8.67M [00:00<?, ?B/s]"
      ]
     },
     "metadata": {},
     "output_type": "display_data"
    },
    {
     "data": {
      "application/vnd.jupyter.widget-view+json": {
       "model_id": "6d61966e846149e297111e2b761aa8b7",
       "version_major": 2,
       "version_minor": 0
      },
      "text/plain": [
       "Extracting data files:   0%|          | 0/1 [00:00<?, ?it/s]"
      ]
     },
     "metadata": {},
     "output_type": "display_data"
    },
    {
     "data": {
      "application/vnd.jupyter.widget-view+json": {
       "model_id": "63151028952c4f538498d03a04393937",
       "version_major": 2,
       "version_minor": 0
      },
      "text/plain": [
       "Generating train split: 0 examples [00:00, ? examples/s]"
      ]
     },
     "metadata": {},
     "output_type": "display_data"
    },
    {
     "name": "stdout",
     "output_type": "stream",
     "text": [
      "Dataset json downloaded and prepared to /Users/harm.devries/.cache/huggingface/datasets/loubnabnl___json/loubnabnl--the-stack-inspection-data-3239a9992b5b8428/0.0.0/e6070c77f18f01a5ad4551a8b7edfba20b8438b7cad4d94e6ad9378022ce4aab. Subsequent calls will reuse this data.\n"
     ]
    },
    {
     "name": "stderr",
     "output_type": "stream",
     "text": [
      "\n",
      "0it [00:00, ?it/s]\u001b[A\n",
      "260it [00:00, 2598.05it/s]\u001b[A\n",
      "549it [00:00, 2143.83it/s]\u001b[A\n"
     ]
    },
    {
     "name": "stdout",
     "output_type": "stream",
     "text": [
      "85\n",
      "fortran\n",
      "f95\n"
     ]
    },
    {
     "name": "stderr",
     "output_type": "stream",
     "text": [
      "Using custom data configuration loubnabnl--the-stack-inspection-data-2fbcd15e802d95cf\n"
     ]
    },
    {
     "name": "stdout",
     "output_type": "stream",
     "text": [
      "Downloading and preparing dataset json/loubnabnl--the-stack-inspection-data to /Users/harm.devries/.cache/huggingface/datasets/loubnabnl___json/loubnabnl--the-stack-inspection-data-2fbcd15e802d95cf/0.0.0/e6070c77f18f01a5ad4551a8b7edfba20b8438b7cad4d94e6ad9378022ce4aab...\n"
     ]
    },
    {
     "data": {
      "application/vnd.jupyter.widget-view+json": {
       "model_id": "2b1ada67c84c440a9f71c7487d2b1adc",
       "version_major": 2,
       "version_minor": 0
      },
      "text/plain": [
       "Downloading data files:   0%|          | 0/1 [00:00<?, ?it/s]"
      ]
     },
     "metadata": {},
     "output_type": "display_data"
    },
    {
     "data": {
      "application/vnd.jupyter.widget-view+json": {
       "model_id": "eb83bfdaaa7a4f2fbfebadc9bae77707",
       "version_major": 2,
       "version_minor": 0
      },
      "text/plain": [
       "Downloading data:   0%|          | 0.00/2.38M [00:00<?, ?B/s]"
      ]
     },
     "metadata": {},
     "output_type": "display_data"
    },
    {
     "data": {
      "application/vnd.jupyter.widget-view+json": {
       "model_id": "3950cca7e06246a398ca5eca67c62074",
       "version_major": 2,
       "version_minor": 0
      },
      "text/plain": [
       "Extracting data files:   0%|          | 0/1 [00:00<?, ?it/s]"
      ]
     },
     "metadata": {},
     "output_type": "display_data"
    },
    {
     "data": {
      "application/vnd.jupyter.widget-view+json": {
       "model_id": "fa67f01b9f104781b8e1cd2228531362",
       "version_major": 2,
       "version_minor": 0
      },
      "text/plain": [
       "Generating train split: 0 examples [00:00, ? examples/s]"
      ]
     },
     "metadata": {},
     "output_type": "display_data"
    },
    {
     "name": "stdout",
     "output_type": "stream",
     "text": [
      "Dataset json downloaded and prepared to /Users/harm.devries/.cache/huggingface/datasets/loubnabnl___json/loubnabnl--the-stack-inspection-data-2fbcd15e802d95cf/0.0.0/e6070c77f18f01a5ad4551a8b7edfba20b8438b7cad4d94e6ad9378022ce4aab. Subsequent calls will reuse this data.\n"
     ]
    },
    {
     "name": "stderr",
     "output_type": "stream",
     "text": [
      "\n",
      "216it [00:00, 2713.02it/s]"
     ]
    },
    {
     "name": "stdout",
     "output_type": "stream",
     "text": [
      "86\n",
      "fortran\n",
      "f08\n"
     ]
    },
    {
     "name": "stderr",
     "output_type": "stream",
     "text": [
      "\n",
      "Using custom data configuration loubnabnl--the-stack-inspection-data-52667aa279a248dd\n"
     ]
    },
    {
     "name": "stdout",
     "output_type": "stream",
     "text": [
      "Downloading and preparing dataset json/loubnabnl--the-stack-inspection-data to /Users/harm.devries/.cache/huggingface/datasets/loubnabnl___json/loubnabnl--the-stack-inspection-data-52667aa279a248dd/0.0.0/e6070c77f18f01a5ad4551a8b7edfba20b8438b7cad4d94e6ad9378022ce4aab...\n"
     ]
    },
    {
     "data": {
      "application/vnd.jupyter.widget-view+json": {
       "model_id": "d4028b86b4a94394bab6ecaa4479d206",
       "version_major": 2,
       "version_minor": 0
      },
      "text/plain": [
       "Downloading data files:   0%|          | 0/1 [00:00<?, ?it/s]"
      ]
     },
     "metadata": {},
     "output_type": "display_data"
    },
    {
     "data": {
      "application/vnd.jupyter.widget-view+json": {
       "model_id": "41ae686472c84795b1bd273652bf2292",
       "version_major": 2,
       "version_minor": 0
      },
      "text/plain": [
       "Downloading data:   0%|          | 0.00/292k [00:00<?, ?B/s]"
      ]
     },
     "metadata": {},
     "output_type": "display_data"
    },
    {
     "data": {
      "application/vnd.jupyter.widget-view+json": {
       "model_id": "f4fde3238e294f62b2f8c141d306b5d8",
       "version_major": 2,
       "version_minor": 0
      },
      "text/plain": [
       "Extracting data files:   0%|          | 0/1 [00:00<?, ?it/s]"
      ]
     },
     "metadata": {},
     "output_type": "display_data"
    },
    {
     "data": {
      "application/vnd.jupyter.widget-view+json": {
       "model_id": "cb8d2821548a4e538762fac902b5af19",
       "version_major": 2,
       "version_minor": 0
      },
      "text/plain": [
       "Generating train split: 0 examples [00:00, ? examples/s]"
      ]
     },
     "metadata": {},
     "output_type": "display_data"
    },
    {
     "name": "stdout",
     "output_type": "stream",
     "text": [
      "Dataset json downloaded and prepared to /Users/harm.devries/.cache/huggingface/datasets/loubnabnl___json/loubnabnl--the-stack-inspection-data-52667aa279a248dd/0.0.0/e6070c77f18f01a5ad4551a8b7edfba20b8438b7cad4d94e6ad9378022ce4aab. Subsequent calls will reuse this data.\n"
     ]
    },
    {
     "name": "stderr",
     "output_type": "stream",
     "text": [
      "\n",
      "65it [00:00, 4095.26it/s]"
     ]
    },
    {
     "name": "stdout",
     "output_type": "stream",
     "text": [
      "87\n",
      "fortran\n",
      "fpp\n"
     ]
    },
    {
     "name": "stderr",
     "output_type": "stream",
     "text": [
      "\n",
      "Using custom data configuration loubnabnl--the-stack-inspection-data-7e8c091c7ddb5d46\n"
     ]
    },
    {
     "name": "stdout",
     "output_type": "stream",
     "text": [
      "Downloading and preparing dataset json/loubnabnl--the-stack-inspection-data to /Users/harm.devries/.cache/huggingface/datasets/loubnabnl___json/loubnabnl--the-stack-inspection-data-7e8c091c7ddb5d46/0.0.0/e6070c77f18f01a5ad4551a8b7edfba20b8438b7cad4d94e6ad9378022ce4aab...\n"
     ]
    },
    {
     "data": {
      "application/vnd.jupyter.widget-view+json": {
       "model_id": "5cacbc1eaf9a47b9a2628db956b45815",
       "version_major": 2,
       "version_minor": 0
      },
      "text/plain": [
       "Downloading data files:   0%|          | 0/1 [00:00<?, ?it/s]"
      ]
     },
     "metadata": {},
     "output_type": "display_data"
    },
    {
     "data": {
      "application/vnd.jupyter.widget-view+json": {
       "model_id": "08cb89b18f26437b91f5e14c569c6793",
       "version_major": 2,
       "version_minor": 0
      },
      "text/plain": [
       "Downloading data:   0%|          | 0.00/378k [00:00<?, ?B/s]"
      ]
     },
     "metadata": {},
     "output_type": "display_data"
    },
    {
     "data": {
      "application/vnd.jupyter.widget-view+json": {
       "model_id": "0a8c31601a004d618abb99627d283f4b",
       "version_major": 2,
       "version_minor": 0
      },
      "text/plain": [
       "Extracting data files:   0%|          | 0/1 [00:00<?, ?it/s]"
      ]
     },
     "metadata": {},
     "output_type": "display_data"
    },
    {
     "data": {
      "application/vnd.jupyter.widget-view+json": {
       "model_id": "a907efc8f7c641a48de0d4ef6551d703",
       "version_major": 2,
       "version_minor": 0
      },
      "text/plain": [
       "Generating train split: 0 examples [00:00, ? examples/s]"
      ]
     },
     "metadata": {},
     "output_type": "display_data"
    },
    {
     "name": "stdout",
     "output_type": "stream",
     "text": [
      "Dataset json downloaded and prepared to /Users/harm.devries/.cache/huggingface/datasets/loubnabnl___json/loubnabnl--the-stack-inspection-data-7e8c091c7ddb5d46/0.0.0/e6070c77f18f01a5ad4551a8b7edfba20b8438b7cad4d94e6ad9378022ce4aab. Subsequent calls will reuse this data.\n"
     ]
    },
    {
     "name": "stderr",
     "output_type": "stream",
     "text": [
      "\n",
      "75it [00:00, 3924.07it/s]"
     ]
    },
    {
     "name": "stdout",
     "output_type": "stream",
     "text": [
      "88\n",
      "fortran\n",
      "f77\n"
     ]
    },
    {
     "name": "stderr",
     "output_type": "stream",
     "text": [
      "\n",
      "Using custom data configuration loubnabnl--the-stack-inspection-data-4e3231d8708bd6d3\n"
     ]
    },
    {
     "name": "stdout",
     "output_type": "stream",
     "text": [
      "Downloading and preparing dataset json/loubnabnl--the-stack-inspection-data to /Users/harm.devries/.cache/huggingface/datasets/loubnabnl___json/loubnabnl--the-stack-inspection-data-4e3231d8708bd6d3/0.0.0/e6070c77f18f01a5ad4551a8b7edfba20b8438b7cad4d94e6ad9378022ce4aab...\n"
     ]
    },
    {
     "data": {
      "application/vnd.jupyter.widget-view+json": {
       "model_id": "6d55eca9c7494a448ed74fdf4986344e",
       "version_major": 2,
       "version_minor": 0
      },
      "text/plain": [
       "Downloading data files:   0%|          | 0/1 [00:00<?, ?it/s]"
      ]
     },
     "metadata": {},
     "output_type": "display_data"
    },
    {
     "data": {
      "application/vnd.jupyter.widget-view+json": {
       "model_id": "d79ebaaa0db74d2ca9191709c5b2de69",
       "version_major": 2,
       "version_minor": 0
      },
      "text/plain": [
       "Downloading data:   0%|          | 0.00/43.3k [00:00<?, ?B/s]"
      ]
     },
     "metadata": {},
     "output_type": "display_data"
    },
    {
     "data": {
      "application/vnd.jupyter.widget-view+json": {
       "model_id": "f1c57ad81c4d48adbd2c4e05d35b1422",
       "version_major": 2,
       "version_minor": 0
      },
      "text/plain": [
       "Extracting data files:   0%|          | 0/1 [00:00<?, ?it/s]"
      ]
     },
     "metadata": {},
     "output_type": "display_data"
    },
    {
     "data": {
      "application/vnd.jupyter.widget-view+json": {
       "model_id": "faaee46481ae4bc6b1dc87af82cc3fe3",
       "version_major": 2,
       "version_minor": 0
      },
      "text/plain": [
       "Generating train split: 0 examples [00:00, ? examples/s]"
      ]
     },
     "metadata": {},
     "output_type": "display_data"
    },
    {
     "name": "stdout",
     "output_type": "stream",
     "text": [
      "Dataset json downloaded and prepared to /Users/harm.devries/.cache/huggingface/datasets/loubnabnl___json/loubnabnl--the-stack-inspection-data-4e3231d8708bd6d3/0.0.0/e6070c77f18f01a5ad4551a8b7edfba20b8438b7cad4d94e6ad9378022ce4aab. Subsequent calls will reuse this data.\n"
     ]
    },
    {
     "name": "stderr",
     "output_type": "stream",
     "text": [
      "\n",
      "5it [00:00, 2594.84it/s]"
     ]
    },
    {
     "name": "stdout",
     "output_type": "stream",
     "text": [
      "89\n",
      "glsl\n",
      "glsl\n"
     ]
    },
    {
     "name": "stderr",
     "output_type": "stream",
     "text": [
      "\n",
      "Using custom data configuration loubnabnl--the-stack-inspection-data-3860d255e61859e4\n"
     ]
    },
    {
     "name": "stdout",
     "output_type": "stream",
     "text": [
      "Downloading and preparing dataset json/loubnabnl--the-stack-inspection-data to /Users/harm.devries/.cache/huggingface/datasets/loubnabnl___json/loubnabnl--the-stack-inspection-data-3860d255e61859e4/0.0.0/e6070c77f18f01a5ad4551a8b7edfba20b8438b7cad4d94e6ad9378022ce4aab...\n"
     ]
    },
    {
     "data": {
      "application/vnd.jupyter.widget-view+json": {
       "model_id": "ef601ae737b34671924f943f4566887c",
       "version_major": 2,
       "version_minor": 0
      },
      "text/plain": [
       "Downloading data files:   0%|          | 0/1 [00:00<?, ?it/s]"
      ]
     },
     "metadata": {},
     "output_type": "display_data"
    },
    {
     "data": {
      "application/vnd.jupyter.widget-view+json": {
       "model_id": "12efe98c7c3443c980a30def7684e8cf",
       "version_major": 2,
       "version_minor": 0
      },
      "text/plain": [
       "Downloading data:   0%|          | 0.00/5.58M [00:00<?, ?B/s]"
      ]
     },
     "metadata": {},
     "output_type": "display_data"
    },
    {
     "data": {
      "application/vnd.jupyter.widget-view+json": {
       "model_id": "a6be2c536c4f43cc9907b31761c4ad67",
       "version_major": 2,
       "version_minor": 0
      },
      "text/plain": [
       "Extracting data files:   0%|          | 0/1 [00:00<?, ?it/s]"
      ]
     },
     "metadata": {},
     "output_type": "display_data"
    },
    {
     "data": {
      "application/vnd.jupyter.widget-view+json": {
       "model_id": "f89f28a5ad354ac4bb5193798f0a2800",
       "version_major": 2,
       "version_minor": 0
      },
      "text/plain": [
       "Generating train split: 0 examples [00:00, ? examples/s]"
      ]
     },
     "metadata": {},
     "output_type": "display_data"
    },
    {
     "name": "stdout",
     "output_type": "stream",
     "text": [
      "Dataset json downloaded and prepared to /Users/harm.devries/.cache/huggingface/datasets/loubnabnl___json/loubnabnl--the-stack-inspection-data-3860d255e61859e4/0.0.0/e6070c77f18f01a5ad4551a8b7edfba20b8438b7cad4d94e6ad9378022ce4aab. Subsequent calls will reuse this data.\n"
     ]
    },
    {
     "name": "stderr",
     "output_type": "stream",
     "text": [
      "\n",
      "0it [00:00, ?it/s]\u001b[A\n",
      "1000it [00:00, 4532.23it/s][A\n"
     ]
    },
    {
     "name": "stdout",
     "output_type": "stream",
     "text": [
      "90\n",
      "glsl\n",
      "frag\n"
     ]
    },
    {
     "name": "stderr",
     "output_type": "stream",
     "text": [
      "Using custom data configuration loubnabnl--the-stack-inspection-data-efc40aa77abce02b\n"
     ]
    },
    {
     "name": "stdout",
     "output_type": "stream",
     "text": [
      "Downloading and preparing dataset json/loubnabnl--the-stack-inspection-data to /Users/harm.devries/.cache/huggingface/datasets/loubnabnl___json/loubnabnl--the-stack-inspection-data-efc40aa77abce02b/0.0.0/e6070c77f18f01a5ad4551a8b7edfba20b8438b7cad4d94e6ad9378022ce4aab...\n"
     ]
    },
    {
     "data": {
      "application/vnd.jupyter.widget-view+json": {
       "model_id": "8b24f15546d34ac98edcf70c895f9066",
       "version_major": 2,
       "version_minor": 0
      },
      "text/plain": [
       "Downloading data files:   0%|          | 0/1 [00:00<?, ?it/s]"
      ]
     },
     "metadata": {},
     "output_type": "display_data"
    },
    {
     "data": {
      "application/vnd.jupyter.widget-view+json": {
       "model_id": "06f53ef8bcd24c0daa2c78d6444434f8",
       "version_major": 2,
       "version_minor": 0
      },
      "text/plain": [
       "Downloading data:   0%|          | 0.00/2.29M [00:00<?, ?B/s]"
      ]
     },
     "metadata": {},
     "output_type": "display_data"
    },
    {
     "data": {
      "application/vnd.jupyter.widget-view+json": {
       "model_id": "ea6f4807a41f4e59b1d0d27e723aebd3",
       "version_major": 2,
       "version_minor": 0
      },
      "text/plain": [
       "Extracting data files:   0%|          | 0/1 [00:00<?, ?it/s]"
      ]
     },
     "metadata": {},
     "output_type": "display_data"
    },
    {
     "data": {
      "application/vnd.jupyter.widget-view+json": {
       "model_id": "01f6d0ad74cb469f8fc010b6a44fc432",
       "version_major": 2,
       "version_minor": 0
      },
      "text/plain": [
       "Generating train split: 0 examples [00:00, ? examples/s]"
      ]
     },
     "metadata": {},
     "output_type": "display_data"
    },
    {
     "name": "stdout",
     "output_type": "stream",
     "text": [
      "Dataset json downloaded and prepared to /Users/harm.devries/.cache/huggingface/datasets/loubnabnl___json/loubnabnl--the-stack-inspection-data-efc40aa77abce02b/0.0.0/e6070c77f18f01a5ad4551a8b7edfba20b8438b7cad4d94e6ad9378022ce4aab. Subsequent calls will reuse this data.\n"
     ]
    },
    {
     "name": "stderr",
     "output_type": "stream",
     "text": [
      "\n",
      "0it [00:00, ?it/s]\u001b[A\n",
      "1000it [00:00, 7023.66it/s][A"
     ]
    },
    {
     "name": "stdout",
     "output_type": "stream",
     "text": [
      "91\n",
      "glsl\n",
      "vert\n"
     ]
    },
    {
     "name": "stderr",
     "output_type": "stream",
     "text": [
      "\n",
      "Using custom data configuration loubnabnl--the-stack-inspection-data-0dc7e953b39e5c9a\n"
     ]
    },
    {
     "name": "stdout",
     "output_type": "stream",
     "text": [
      "Downloading and preparing dataset json/loubnabnl--the-stack-inspection-data to /Users/harm.devries/.cache/huggingface/datasets/loubnabnl___json/loubnabnl--the-stack-inspection-data-0dc7e953b39e5c9a/0.0.0/e6070c77f18f01a5ad4551a8b7edfba20b8438b7cad4d94e6ad9378022ce4aab...\n"
     ]
    },
    {
     "data": {
      "application/vnd.jupyter.widget-view+json": {
       "model_id": "5fc6ace6162448c3ae04fc88a9295d25",
       "version_major": 2,
       "version_minor": 0
      },
      "text/plain": [
       "Downloading data files:   0%|          | 0/1 [00:00<?, ?it/s]"
      ]
     },
     "metadata": {},
     "output_type": "display_data"
    },
    {
     "data": {
      "application/vnd.jupyter.widget-view+json": {
       "model_id": "4a030eec06ef48c488bebdc838746dd6",
       "version_major": 2,
       "version_minor": 0
      },
      "text/plain": [
       "Downloading data:   0%|          | 0.00/1.64M [00:00<?, ?B/s]"
      ]
     },
     "metadata": {},
     "output_type": "display_data"
    },
    {
     "data": {
      "application/vnd.jupyter.widget-view+json": {
       "model_id": "4c1cc9f53f3142329d69b2428242e573",
       "version_major": 2,
       "version_minor": 0
      },
      "text/plain": [
       "Extracting data files:   0%|          | 0/1 [00:00<?, ?it/s]"
      ]
     },
     "metadata": {},
     "output_type": "display_data"
    },
    {
     "data": {
      "application/vnd.jupyter.widget-view+json": {
       "model_id": "3e3d4206415740c5806f2fb1ede7e673",
       "version_major": 2,
       "version_minor": 0
      },
      "text/plain": [
       "Generating train split: 0 examples [00:00, ? examples/s]"
      ]
     },
     "metadata": {},
     "output_type": "display_data"
    },
    {
     "name": "stdout",
     "output_type": "stream",
     "text": [
      "Dataset json downloaded and prepared to /Users/harm.devries/.cache/huggingface/datasets/loubnabnl___json/loubnabnl--the-stack-inspection-data-0dc7e953b39e5c9a/0.0.0/e6070c77f18f01a5ad4551a8b7edfba20b8438b7cad4d94e6ad9378022ce4aab. Subsequent calls will reuse this data.\n"
     ]
    },
    {
     "name": "stderr",
     "output_type": "stream",
     "text": [
      "\n",
      "0it [00:00, ?it/s]\u001b[A\n",
      "1000it [00:00, 8108.99it/s][A"
     ]
    },
    {
     "name": "stdout",
     "output_type": "stream",
     "text": [
      "92\n",
      "glsl\n",
      "shader\n"
     ]
    },
    {
     "name": "stderr",
     "output_type": "stream",
     "text": [
      "\n",
      "Using custom data configuration loubnabnl--the-stack-inspection-data-3273c1d4dba97339\n"
     ]
    },
    {
     "name": "stdout",
     "output_type": "stream",
     "text": [
      "Downloading and preparing dataset json/loubnabnl--the-stack-inspection-data to /Users/harm.devries/.cache/huggingface/datasets/loubnabnl___json/loubnabnl--the-stack-inspection-data-3273c1d4dba97339/0.0.0/e6070c77f18f01a5ad4551a8b7edfba20b8438b7cad4d94e6ad9378022ce4aab...\n"
     ]
    },
    {
     "data": {
      "application/vnd.jupyter.widget-view+json": {
       "model_id": "f59de2220d2e4c6aa62afe94450845ab",
       "version_major": 2,
       "version_minor": 0
      },
      "text/plain": [
       "Downloading data files:   0%|          | 0/1 [00:00<?, ?it/s]"
      ]
     },
     "metadata": {},
     "output_type": "display_data"
    },
    {
     "data": {
      "application/vnd.jupyter.widget-view+json": {
       "model_id": "018b28ebc2514496ba66daa74c24f213",
       "version_major": 2,
       "version_minor": 0
      },
      "text/plain": [
       "Downloading data:   0%|          | 0.00/8.88M [00:00<?, ?B/s]"
      ]
     },
     "metadata": {},
     "output_type": "display_data"
    },
    {
     "data": {
      "application/vnd.jupyter.widget-view+json": {
       "model_id": "876f2eebf5884df08176ab77dfe9f417",
       "version_major": 2,
       "version_minor": 0
      },
      "text/plain": [
       "Extracting data files:   0%|          | 0/1 [00:00<?, ?it/s]"
      ]
     },
     "metadata": {},
     "output_type": "display_data"
    },
    {
     "data": {
      "application/vnd.jupyter.widget-view+json": {
       "model_id": "bf9bd51e77524fc5a948c48e69cb6d84",
       "version_major": 2,
       "version_minor": 0
      },
      "text/plain": [
       "Generating train split: 0 examples [00:00, ? examples/s]"
      ]
     },
     "metadata": {},
     "output_type": "display_data"
    },
    {
     "name": "stdout",
     "output_type": "stream",
     "text": [
      "Dataset json downloaded and prepared to /Users/harm.devries/.cache/huggingface/datasets/loubnabnl___json/loubnabnl--the-stack-inspection-data-3273c1d4dba97339/0.0.0/e6070c77f18f01a5ad4551a8b7edfba20b8438b7cad4d94e6ad9378022ce4aab. Subsequent calls will reuse this data.\n"
     ]
    },
    {
     "name": "stderr",
     "output_type": "stream",
     "text": [
      "\n",
      "0it [00:00, ?it/s]\u001b[A\n",
      "366it [00:00, 3456.65it/s]\u001b[A\n",
      "1000it [00:00, 3197.93it/s][A\n"
     ]
    },
    {
     "name": "stdout",
     "output_type": "stream",
     "text": [
      "93\n",
      "glsl\n",
      "fsh\n"
     ]
    },
    {
     "name": "stderr",
     "output_type": "stream",
     "text": [
      "Using custom data configuration loubnabnl--the-stack-inspection-data-13e1587386b20ce2\n"
     ]
    },
    {
     "name": "stdout",
     "output_type": "stream",
     "text": [
      "Downloading and preparing dataset json/loubnabnl--the-stack-inspection-data to /Users/harm.devries/.cache/huggingface/datasets/loubnabnl___json/loubnabnl--the-stack-inspection-data-13e1587386b20ce2/0.0.0/e6070c77f18f01a5ad4551a8b7edfba20b8438b7cad4d94e6ad9378022ce4aab...\n"
     ]
    },
    {
     "data": {
      "application/vnd.jupyter.widget-view+json": {
       "model_id": "5b303e2f211e469d9875779a19546598",
       "version_major": 2,
       "version_minor": 0
      },
      "text/plain": [
       "Downloading data files:   0%|          | 0/1 [00:00<?, ?it/s]"
      ]
     },
     "metadata": {},
     "output_type": "display_data"
    },
    {
     "data": {
      "application/vnd.jupyter.widget-view+json": {
       "model_id": "2360b33903134ca8872b66ca10520b54",
       "version_major": 2,
       "version_minor": 0
      },
      "text/plain": [
       "Downloading data:   0%|          | 0.00/2.05M [00:00<?, ?B/s]"
      ]
     },
     "metadata": {},
     "output_type": "display_data"
    },
    {
     "data": {
      "application/vnd.jupyter.widget-view+json": {
       "model_id": "3c472bb4975045f7854062e6db3b861a",
       "version_major": 2,
       "version_minor": 0
      },
      "text/plain": [
       "Extracting data files:   0%|          | 0/1 [00:00<?, ?it/s]"
      ]
     },
     "metadata": {},
     "output_type": "display_data"
    },
    {
     "data": {
      "application/vnd.jupyter.widget-view+json": {
       "model_id": "e0cee79293a34efcab0300cf609006a2",
       "version_major": 2,
       "version_minor": 0
      },
      "text/plain": [
       "Generating train split: 0 examples [00:00, ? examples/s]"
      ]
     },
     "metadata": {},
     "output_type": "display_data"
    },
    {
     "name": "stdout",
     "output_type": "stream",
     "text": [
      "Dataset json downloaded and prepared to /Users/harm.devries/.cache/huggingface/datasets/loubnabnl___json/loubnabnl--the-stack-inspection-data-13e1587386b20ce2/0.0.0/e6070c77f18f01a5ad4551a8b7edfba20b8438b7cad4d94e6ad9378022ce4aab. Subsequent calls will reuse this data.\n"
     ]
    },
    {
     "name": "stderr",
     "output_type": "stream",
     "text": [
      "\n",
      "0it [00:00, ?it/s]\u001b[A\n",
      "692it [00:00, 6380.59it/s]\u001b[A"
     ]
    },
    {
     "name": "stdout",
     "output_type": "stream",
     "text": [
      "94\n",
      "glsl\n",
      "frg\n"
     ]
    },
    {
     "name": "stderr",
     "output_type": "stream",
     "text": [
      "\n",
      "Using custom data configuration loubnabnl--the-stack-inspection-data-3edd1e9760c2a468\n"
     ]
    },
    {
     "name": "stdout",
     "output_type": "stream",
     "text": [
      "Downloading and preparing dataset json/loubnabnl--the-stack-inspection-data to /Users/harm.devries/.cache/huggingface/datasets/loubnabnl___json/loubnabnl--the-stack-inspection-data-3edd1e9760c2a468/0.0.0/e6070c77f18f01a5ad4551a8b7edfba20b8438b7cad4d94e6ad9378022ce4aab...\n"
     ]
    },
    {
     "data": {
      "application/vnd.jupyter.widget-view+json": {
       "model_id": "0ac89808d2a04e1cbfd68bfc605540e7",
       "version_major": 2,
       "version_minor": 0
      },
      "text/plain": [
       "Downloading data files:   0%|          | 0/1 [00:00<?, ?it/s]"
      ]
     },
     "metadata": {},
     "output_type": "display_data"
    },
    {
     "data": {
      "application/vnd.jupyter.widget-view+json": {
       "model_id": "af6a556596fd400396b8813c874f0a18",
       "version_major": 2,
       "version_minor": 0
      },
      "text/plain": [
       "Downloading data:   0%|          | 0.00/99.5k [00:00<?, ?B/s]"
      ]
     },
     "metadata": {},
     "output_type": "display_data"
    },
    {
     "data": {
      "application/vnd.jupyter.widget-view+json": {
       "model_id": "51674cdc4a6f447f9b68ca4d7ce0da08",
       "version_major": 2,
       "version_minor": 0
      },
      "text/plain": [
       "Extracting data files:   0%|          | 0/1 [00:00<?, ?it/s]"
      ]
     },
     "metadata": {},
     "output_type": "display_data"
    },
    {
     "data": {
      "application/vnd.jupyter.widget-view+json": {
       "model_id": "fc872aa2e376450d839f68096b5acb14",
       "version_major": 2,
       "version_minor": 0
      },
      "text/plain": [
       "Generating train split: 0 examples [00:00, ? examples/s]"
      ]
     },
     "metadata": {},
     "output_type": "display_data"
    },
    {
     "name": "stdout",
     "output_type": "stream",
     "text": [
      "Dataset json downloaded and prepared to /Users/harm.devries/.cache/huggingface/datasets/loubnabnl___json/loubnabnl--the-stack-inspection-data-3edd1e9760c2a468/0.0.0/e6070c77f18f01a5ad4551a8b7edfba20b8438b7cad4d94e6ad9378022ce4aab. Subsequent calls will reuse this data.\n"
     ]
    },
    {
     "name": "stderr",
     "output_type": "stream",
     "text": [
      "\n",
      "35it [00:00, 5173.04it/s]"
     ]
    },
    {
     "name": "stdout",
     "output_type": "stream",
     "text": [
      "95\n",
      "glsl\n",
      "vsh\n"
     ]
    },
    {
     "name": "stderr",
     "output_type": "stream",
     "text": [
      "\n",
      "Using custom data configuration loubnabnl--the-stack-inspection-data-bca5470a49de2814\n"
     ]
    },
    {
     "name": "stdout",
     "output_type": "stream",
     "text": [
      "Downloading and preparing dataset json/loubnabnl--the-stack-inspection-data to /Users/harm.devries/.cache/huggingface/datasets/loubnabnl___json/loubnabnl--the-stack-inspection-data-bca5470a49de2814/0.0.0/e6070c77f18f01a5ad4551a8b7edfba20b8438b7cad4d94e6ad9378022ce4aab...\n"
     ]
    },
    {
     "data": {
      "application/vnd.jupyter.widget-view+json": {
       "model_id": "37295a3d187d4c178d9583251ca78878",
       "version_major": 2,
       "version_minor": 0
      },
      "text/plain": [
       "Downloading data files:   0%|          | 0/1 [00:00<?, ?it/s]"
      ]
     },
     "metadata": {},
     "output_type": "display_data"
    },
    {
     "data": {
      "application/vnd.jupyter.widget-view+json": {
       "model_id": "b79347e1f339406c935ad0990999fa5b",
       "version_major": 2,
       "version_minor": 0
      },
      "text/plain": [
       "Downloading data:   0%|          | 0.00/448k [00:00<?, ?B/s]"
      ]
     },
     "metadata": {},
     "output_type": "display_data"
    },
    {
     "data": {
      "application/vnd.jupyter.widget-view+json": {
       "model_id": "e740aae2303d47f083c1c4198ff28ea5",
       "version_major": 2,
       "version_minor": 0
      },
      "text/plain": [
       "Extracting data files:   0%|          | 0/1 [00:00<?, ?it/s]"
      ]
     },
     "metadata": {},
     "output_type": "display_data"
    },
    {
     "data": {
      "application/vnd.jupyter.widget-view+json": {
       "model_id": "2265b7663d524762879bd0a45b4287af",
       "version_major": 2,
       "version_minor": 0
      },
      "text/plain": [
       "Generating train split: 0 examples [00:00, ? examples/s]"
      ]
     },
     "metadata": {},
     "output_type": "display_data"
    },
    {
     "name": "stdout",
     "output_type": "stream",
     "text": [
      "Dataset json downloaded and prepared to /Users/harm.devries/.cache/huggingface/datasets/loubnabnl___json/loubnabnl--the-stack-inspection-data-bca5470a49de2814/0.0.0/e6070c77f18f01a5ad4551a8b7edfba20b8438b7cad4d94e6ad9378022ce4aab. Subsequent calls will reuse this data.\n"
     ]
    },
    {
     "name": "stderr",
     "output_type": "stream",
     "text": [
      "\n",
      "326it [00:00, 7911.49it/s]"
     ]
    },
    {
     "name": "stdout",
     "output_type": "stream",
     "text": [
      "96\n",
      "glsl\n",
      "geom\n"
     ]
    },
    {
     "name": "stderr",
     "output_type": "stream",
     "text": [
      "\n",
      "Using custom data configuration loubnabnl--the-stack-inspection-data-8755cf40563e6dca\n"
     ]
    },
    {
     "name": "stdout",
     "output_type": "stream",
     "text": [
      "Downloading and preparing dataset json/loubnabnl--the-stack-inspection-data to /Users/harm.devries/.cache/huggingface/datasets/loubnabnl___json/loubnabnl--the-stack-inspection-data-8755cf40563e6dca/0.0.0/e6070c77f18f01a5ad4551a8b7edfba20b8438b7cad4d94e6ad9378022ce4aab...\n"
     ]
    },
    {
     "data": {
      "application/vnd.jupyter.widget-view+json": {
       "model_id": "b3383c9635ea450396d2548bcf677c04",
       "version_major": 2,
       "version_minor": 0
      },
      "text/plain": [
       "Downloading data files:   0%|          | 0/1 [00:00<?, ?it/s]"
      ]
     },
     "metadata": {},
     "output_type": "display_data"
    },
    {
     "data": {
      "application/vnd.jupyter.widget-view+json": {
       "model_id": "27569014da584470b333a12c7c1e64eb",
       "version_major": 2,
       "version_minor": 0
      },
      "text/plain": [
       "Downloading data:   0%|          | 0.00/883k [00:00<?, ?B/s]"
      ]
     },
     "metadata": {},
     "output_type": "display_data"
    },
    {
     "data": {
      "application/vnd.jupyter.widget-view+json": {
       "model_id": "d7a784bbb10f42238e7262b3db0bd9b0",
       "version_major": 2,
       "version_minor": 0
      },
      "text/plain": [
       "Extracting data files:   0%|          | 0/1 [00:00<?, ?it/s]"
      ]
     },
     "metadata": {},
     "output_type": "display_data"
    },
    {
     "data": {
      "application/vnd.jupyter.widget-view+json": {
       "model_id": "7f6aedd097d54b9595ddfff797a62a6b",
       "version_major": 2,
       "version_minor": 0
      },
      "text/plain": [
       "Generating train split: 0 examples [00:00, ? examples/s]"
      ]
     },
     "metadata": {},
     "output_type": "display_data"
    },
    {
     "name": "stdout",
     "output_type": "stream",
     "text": [
      "Dataset json downloaded and prepared to /Users/harm.devries/.cache/huggingface/datasets/loubnabnl___json/loubnabnl--the-stack-inspection-data-8755cf40563e6dca/0.0.0/e6070c77f18f01a5ad4551a8b7edfba20b8438b7cad4d94e6ad9378022ce4aab. Subsequent calls will reuse this data.\n"
     ]
    },
    {
     "name": "stderr",
     "output_type": "stream",
     "text": [
      "\n",
      "149it [00:00, 4951.84it/s]"
     ]
    },
    {
     "name": "stdout",
     "output_type": "stream",
     "text": [
      "97\n",
      "glsl\n",
      "geo\n"
     ]
    },
    {
     "name": "stderr",
     "output_type": "stream",
     "text": [
      "\n",
      "Using custom data configuration loubnabnl--the-stack-inspection-data-a544d1a6dbd699c2\n"
     ]
    },
    {
     "name": "stdout",
     "output_type": "stream",
     "text": [
      "Downloading and preparing dataset json/loubnabnl--the-stack-inspection-data to /Users/harm.devries/.cache/huggingface/datasets/loubnabnl___json/loubnabnl--the-stack-inspection-data-a544d1a6dbd699c2/0.0.0/e6070c77f18f01a5ad4551a8b7edfba20b8438b7cad4d94e6ad9378022ce4aab...\n"
     ]
    },
    {
     "data": {
      "application/vnd.jupyter.widget-view+json": {
       "model_id": "edd3a24557084aaf9f6894f38a2aa830",
       "version_major": 2,
       "version_minor": 0
      },
      "text/plain": [
       "Downloading data files:   0%|          | 0/1 [00:00<?, ?it/s]"
      ]
     },
     "metadata": {},
     "output_type": "display_data"
    },
    {
     "data": {
      "application/vnd.jupyter.widget-view+json": {
       "model_id": "ea46e907860c4f928009406687aca0ee",
       "version_major": 2,
       "version_minor": 0
      },
      "text/plain": [
       "Downloading data:   0%|          | 0.00/2.34M [00:00<?, ?B/s]"
      ]
     },
     "metadata": {},
     "output_type": "display_data"
    },
    {
     "data": {
      "application/vnd.jupyter.widget-view+json": {
       "model_id": "759ce2fa095146ca8be21d6e77e520a0",
       "version_major": 2,
       "version_minor": 0
      },
      "text/plain": [
       "Extracting data files:   0%|          | 0/1 [00:00<?, ?it/s]"
      ]
     },
     "metadata": {},
     "output_type": "display_data"
    },
    {
     "data": {
      "application/vnd.jupyter.widget-view+json": {
       "model_id": "78912a15d9114d9c819a612cd8184d36",
       "version_major": 2,
       "version_minor": 0
      },
      "text/plain": [
       "Generating train split: 0 examples [00:00, ? examples/s]"
      ]
     },
     "metadata": {},
     "output_type": "display_data"
    },
    {
     "name": "stdout",
     "output_type": "stream",
     "text": [
      "Dataset json downloaded and prepared to /Users/harm.devries/.cache/huggingface/datasets/loubnabnl___json/loubnabnl--the-stack-inspection-data-a544d1a6dbd699c2/0.0.0/e6070c77f18f01a5ad4551a8b7edfba20b8438b7cad4d94e6ad9378022ce4aab. Subsequent calls will reuse this data.\n"
     ]
    },
    {
     "name": "stderr",
     "output_type": "stream",
     "text": [
      "\n",
      "289it [00:00, 3859.31it/s]"
     ]
    },
    {
     "name": "stdout",
     "output_type": "stream",
     "text": [
      "98\n",
      "glsl\n",
      "fp\n"
     ]
    },
    {
     "name": "stderr",
     "output_type": "stream",
     "text": [
      "\n",
      "Using custom data configuration loubnabnl--the-stack-inspection-data-8b0d299200e1d62d\n"
     ]
    },
    {
     "name": "stdout",
     "output_type": "stream",
     "text": [
      "Downloading and preparing dataset json/loubnabnl--the-stack-inspection-data to /Users/harm.devries/.cache/huggingface/datasets/loubnabnl___json/loubnabnl--the-stack-inspection-data-8b0d299200e1d62d/0.0.0/e6070c77f18f01a5ad4551a8b7edfba20b8438b7cad4d94e6ad9378022ce4aab...\n"
     ]
    },
    {
     "data": {
      "application/vnd.jupyter.widget-view+json": {
       "model_id": "d743b42440e94e3988e1f150d50aa3ea",
       "version_major": 2,
       "version_minor": 0
      },
      "text/plain": [
       "Downloading data files:   0%|          | 0/1 [00:00<?, ?it/s]"
      ]
     },
     "metadata": {},
     "output_type": "display_data"
    },
    {
     "data": {
      "application/vnd.jupyter.widget-view+json": {
       "model_id": "e6ebb9bff2f347ec805c0afc027191ed",
       "version_major": 2,
       "version_minor": 0
      },
      "text/plain": [
       "Downloading data:   0%|          | 0.00/3.10M [00:00<?, ?B/s]"
      ]
     },
     "metadata": {},
     "output_type": "display_data"
    },
    {
     "data": {
      "application/vnd.jupyter.widget-view+json": {
       "model_id": "786ac06f58c1439ab4a634be061d486a",
       "version_major": 2,
       "version_minor": 0
      },
      "text/plain": [
       "Extracting data files:   0%|          | 0/1 [00:00<?, ?it/s]"
      ]
     },
     "metadata": {},
     "output_type": "display_data"
    },
    {
     "data": {
      "application/vnd.jupyter.widget-view+json": {
       "model_id": "9ccaf4610ab842a4b149c66c698571fb",
       "version_major": 2,
       "version_minor": 0
      },
      "text/plain": [
       "Generating train split: 0 examples [00:00, ? examples/s]"
      ]
     },
     "metadata": {},
     "output_type": "display_data"
    },
    {
     "name": "stdout",
     "output_type": "stream",
     "text": [
      "Dataset json downloaded and prepared to /Users/harm.devries/.cache/huggingface/datasets/loubnabnl___json/loubnabnl--the-stack-inspection-data-8b0d299200e1d62d/0.0.0/e6070c77f18f01a5ad4551a8b7edfba20b8438b7cad4d94e6ad9378022ce4aab. Subsequent calls will reuse this data.\n"
     ]
    },
    {
     "name": "stderr",
     "output_type": "stream",
     "text": [
      "\n",
      "221it [00:00, 2635.25it/s]"
     ]
    },
    {
     "name": "stdout",
     "output_type": "stream",
     "text": [
      "99\n",
      "glsl\n",
      "glslv\n"
     ]
    },
    {
     "name": "stderr",
     "output_type": "stream",
     "text": [
      "\n",
      "Using custom data configuration loubnabnl--the-stack-inspection-data-30ded330c210e541\n"
     ]
    },
    {
     "name": "stdout",
     "output_type": "stream",
     "text": [
      "Downloading and preparing dataset json/loubnabnl--the-stack-inspection-data to /Users/harm.devries/.cache/huggingface/datasets/loubnabnl___json/loubnabnl--the-stack-inspection-data-30ded330c210e541/0.0.0/e6070c77f18f01a5ad4551a8b7edfba20b8438b7cad4d94e6ad9378022ce4aab...\n"
     ]
    },
    {
     "data": {
      "application/vnd.jupyter.widget-view+json": {
       "model_id": "fa5e7dfb0a9f4349a29339b91d389e31",
       "version_major": 2,
       "version_minor": 0
      },
      "text/plain": [
       "Downloading data files:   0%|          | 0/1 [00:00<?, ?it/s]"
      ]
     },
     "metadata": {},
     "output_type": "display_data"
    },
    {
     "data": {
      "application/vnd.jupyter.widget-view+json": {
       "model_id": "fe687ac64d92483bafdf3d8da027d72c",
       "version_major": 2,
       "version_minor": 0
      },
      "text/plain": [
       "Downloading data:   0%|          | 0.00/80.6k [00:00<?, ?B/s]"
      ]
     },
     "metadata": {},
     "output_type": "display_data"
    },
    {
     "data": {
      "application/vnd.jupyter.widget-view+json": {
       "model_id": "43c12d5035184859a72ddbba6d4dbde7",
       "version_major": 2,
       "version_minor": 0
      },
      "text/plain": [
       "Extracting data files:   0%|          | 0/1 [00:00<?, ?it/s]"
      ]
     },
     "metadata": {},
     "output_type": "display_data"
    },
    {
     "data": {
      "application/vnd.jupyter.widget-view+json": {
       "model_id": "96dbdcf2e19f4799afe97dd794635947",
       "version_major": 2,
       "version_minor": 0
      },
      "text/plain": [
       "Generating train split: 0 examples [00:00, ? examples/s]"
      ]
     },
     "metadata": {},
     "output_type": "display_data"
    },
    {
     "name": "stdout",
     "output_type": "stream",
     "text": [
      "Dataset json downloaded and prepared to /Users/harm.devries/.cache/huggingface/datasets/loubnabnl___json/loubnabnl--the-stack-inspection-data-30ded330c210e541/0.0.0/e6070c77f18f01a5ad4551a8b7edfba20b8438b7cad4d94e6ad9378022ce4aab. Subsequent calls will reuse this data.\n"
     ]
    },
    {
     "name": "stderr",
     "output_type": "stream",
     "text": [
      "\n",
      "35it [00:00, 4182.71it/s]"
     ]
    },
    {
     "name": "stdout",
     "output_type": "stream",
     "text": [
      "100\n",
      "glsl\n",
      "vshader\n"
     ]
    },
    {
     "name": "stderr",
     "output_type": "stream",
     "text": [
      "\n",
      "Using custom data configuration loubnabnl--the-stack-inspection-data-339c1b92ab80b4d6\n"
     ]
    },
    {
     "name": "stdout",
     "output_type": "stream",
     "text": [
      "Downloading and preparing dataset json/loubnabnl--the-stack-inspection-data to /Users/harm.devries/.cache/huggingface/datasets/loubnabnl___json/loubnabnl--the-stack-inspection-data-339c1b92ab80b4d6/0.0.0/e6070c77f18f01a5ad4551a8b7edfba20b8438b7cad4d94e6ad9378022ce4aab...\n"
     ]
    },
    {
     "data": {
      "application/vnd.jupyter.widget-view+json": {
       "model_id": "19d1f5a3e76843a080fac903ca2ac653",
       "version_major": 2,
       "version_minor": 0
      },
      "text/plain": [
       "Downloading data files:   0%|          | 0/1 [00:00<?, ?it/s]"
      ]
     },
     "metadata": {},
     "output_type": "display_data"
    },
    {
     "data": {
      "application/vnd.jupyter.widget-view+json": {
       "model_id": "bb040d9abda24d3683b785949bff9805",
       "version_major": 2,
       "version_minor": 0
      },
      "text/plain": [
       "Downloading data:   0%|          | 0.00/5.92k [00:00<?, ?B/s]"
      ]
     },
     "metadata": {},
     "output_type": "display_data"
    },
    {
     "data": {
      "application/vnd.jupyter.widget-view+json": {
       "model_id": "fff2a22c009d47198ac0f3b46103897b",
       "version_major": 2,
       "version_minor": 0
      },
      "text/plain": [
       "Extracting data files:   0%|          | 0/1 [00:00<?, ?it/s]"
      ]
     },
     "metadata": {},
     "output_type": "display_data"
    },
    {
     "data": {
      "application/vnd.jupyter.widget-view+json": {
       "model_id": "8242a9841fd34f5eb0f97f1d39156a6b",
       "version_major": 2,
       "version_minor": 0
      },
      "text/plain": [
       "Generating train split: 0 examples [00:00, ? examples/s]"
      ]
     },
     "metadata": {},
     "output_type": "display_data"
    },
    {
     "name": "stdout",
     "output_type": "stream",
     "text": [
      "Dataset json downloaded and prepared to /Users/harm.devries/.cache/huggingface/datasets/loubnabnl___json/loubnabnl--the-stack-inspection-data-339c1b92ab80b4d6/0.0.0/e6070c77f18f01a5ad4551a8b7edfba20b8438b7cad4d94e6ad9378022ce4aab. Subsequent calls will reuse this data.\n"
     ]
    },
    {
     "name": "stderr",
     "output_type": "stream",
     "text": [
      "\n",
      "8it [00:00, 5525.18it/s]"
     ]
    },
    {
     "name": "stdout",
     "output_type": "stream",
     "text": [
      "101\n",
      "glsl\n",
      "fshader\n"
     ]
    },
    {
     "name": "stderr",
     "output_type": "stream",
     "text": [
      "\n",
      "Using custom data configuration loubnabnl--the-stack-inspection-data-cf964da4c62445a2\n"
     ]
    },
    {
     "name": "stdout",
     "output_type": "stream",
     "text": [
      "Downloading and preparing dataset json/loubnabnl--the-stack-inspection-data to /Users/harm.devries/.cache/huggingface/datasets/loubnabnl___json/loubnabnl--the-stack-inspection-data-cf964da4c62445a2/0.0.0/e6070c77f18f01a5ad4551a8b7edfba20b8438b7cad4d94e6ad9378022ce4aab...\n"
     ]
    },
    {
     "data": {
      "application/vnd.jupyter.widget-view+json": {
       "model_id": "a3726dad49df4ae796e7055b4cc6b9ce",
       "version_major": 2,
       "version_minor": 0
      },
      "text/plain": [
       "Downloading data files:   0%|          | 0/1 [00:00<?, ?it/s]"
      ]
     },
     "metadata": {},
     "output_type": "display_data"
    },
    {
     "data": {
      "application/vnd.jupyter.widget-view+json": {
       "model_id": "34164cbe496d4d659316530d26947f55",
       "version_major": 2,
       "version_minor": 0
      },
      "text/plain": [
       "Downloading data:   0%|          | 0.00/5.95k [00:00<?, ?B/s]"
      ]
     },
     "metadata": {},
     "output_type": "display_data"
    },
    {
     "data": {
      "application/vnd.jupyter.widget-view+json": {
       "model_id": "41e137f843324e01a9f69f036b0177d9",
       "version_major": 2,
       "version_minor": 0
      },
      "text/plain": [
       "Extracting data files:   0%|          | 0/1 [00:00<?, ?it/s]"
      ]
     },
     "metadata": {},
     "output_type": "display_data"
    },
    {
     "data": {
      "application/vnd.jupyter.widget-view+json": {
       "model_id": "cde824307249481f83797ff6aad4e900",
       "version_major": 2,
       "version_minor": 0
      },
      "text/plain": [
       "Generating train split: 0 examples [00:00, ? examples/s]"
      ]
     },
     "metadata": {},
     "output_type": "display_data"
    },
    {
     "name": "stdout",
     "output_type": "stream",
     "text": [
      "Dataset json downloaded and prepared to /Users/harm.devries/.cache/huggingface/datasets/loubnabnl___json/loubnabnl--the-stack-inspection-data-cf964da4c62445a2/0.0.0/e6070c77f18f01a5ad4551a8b7edfba20b8438b7cad4d94e6ad9378022ce4aab. Subsequent calls will reuse this data.\n"
     ]
    },
    {
     "name": "stderr",
     "output_type": "stream",
     "text": [
      "\n",
      "5it [00:00, 4217.08it/s]"
     ]
    },
    {
     "name": "stdout",
     "output_type": "stream",
     "text": [
      "102\n",
      "glsl\n",
      "vrx\n"
     ]
    },
    {
     "name": "stderr",
     "output_type": "stream",
     "text": [
      "\n",
      "Using custom data configuration loubnabnl--the-stack-inspection-data-2b8e67089e8d03ab\n"
     ]
    },
    {
     "name": "stdout",
     "output_type": "stream",
     "text": [
      "Downloading and preparing dataset json/loubnabnl--the-stack-inspection-data to /Users/harm.devries/.cache/huggingface/datasets/loubnabnl___json/loubnabnl--the-stack-inspection-data-2b8e67089e8d03ab/0.0.0/e6070c77f18f01a5ad4551a8b7edfba20b8438b7cad4d94e6ad9378022ce4aab...\n"
     ]
    },
    {
     "data": {
      "application/vnd.jupyter.widget-view+json": {
       "model_id": "b1d3b050a860427b8fb03798b15910db",
       "version_major": 2,
       "version_minor": 0
      },
      "text/plain": [
       "Downloading data files:   0%|          | 0/1 [00:00<?, ?it/s]"
      ]
     },
     "metadata": {},
     "output_type": "display_data"
    },
    {
     "data": {
      "application/vnd.jupyter.widget-view+json": {
       "model_id": "d9a86928822b486da114adb304b41687",
       "version_major": 2,
       "version_minor": 0
      },
      "text/plain": [
       "Downloading data:   0%|          | 0.00/5.18k [00:00<?, ?B/s]"
      ]
     },
     "metadata": {},
     "output_type": "display_data"
    },
    {
     "data": {
      "application/vnd.jupyter.widget-view+json": {
       "model_id": "6cd4fe94ab724bbfb1162bdec47334e9",
       "version_major": 2,
       "version_minor": 0
      },
      "text/plain": [
       "Extracting data files:   0%|          | 0/1 [00:00<?, ?it/s]"
      ]
     },
     "metadata": {},
     "output_type": "display_data"
    },
    {
     "data": {
      "application/vnd.jupyter.widget-view+json": {
       "model_id": "7e1332f6d23f4f12862bf5db6ee0bb21",
       "version_major": 2,
       "version_minor": 0
      },
      "text/plain": [
       "Generating train split: 0 examples [00:00, ? examples/s]"
      ]
     },
     "metadata": {},
     "output_type": "display_data"
    },
    {
     "name": "stdout",
     "output_type": "stream",
     "text": [
      "Dataset json downloaded and prepared to /Users/harm.devries/.cache/huggingface/datasets/loubnabnl___json/loubnabnl--the-stack-inspection-data-2b8e67089e8d03ab/0.0.0/e6070c77f18f01a5ad4551a8b7edfba20b8438b7cad4d94e6ad9378022ce4aab. Subsequent calls will reuse this data.\n"
     ]
    },
    {
     "name": "stderr",
     "output_type": "stream",
     "text": [
      "\n",
      "2it [00:00, 2762.14it/s]"
     ]
    },
    {
     "name": "stdout",
     "output_type": "stream",
     "text": [
      "103\n",
      "go\n",
      "go\n"
     ]
    },
    {
     "name": "stderr",
     "output_type": "stream",
     "text": [
      "\n",
      "Using custom data configuration loubnabnl--the-stack-inspection-data-365373f2eddfd77f\n"
     ]
    },
    {
     "name": "stdout",
     "output_type": "stream",
     "text": [
      "Downloading and preparing dataset json/loubnabnl--the-stack-inspection-data to /Users/harm.devries/.cache/huggingface/datasets/loubnabnl___json/loubnabnl--the-stack-inspection-data-365373f2eddfd77f/0.0.0/e6070c77f18f01a5ad4551a8b7edfba20b8438b7cad4d94e6ad9378022ce4aab...\n"
     ]
    },
    {
     "data": {
      "application/vnd.jupyter.widget-view+json": {
       "model_id": "b625ce409caf43d6b33abac1faf9d091",
       "version_major": 2,
       "version_minor": 0
      },
      "text/plain": [
       "Downloading data files:   0%|          | 0/1 [00:00<?, ?it/s]"
      ]
     },
     "metadata": {},
     "output_type": "display_data"
    },
    {
     "data": {
      "application/vnd.jupyter.widget-view+json": {
       "model_id": "ac9daad6b1fa4cd6b8aa72a2270e76c7",
       "version_major": 2,
       "version_minor": 0
      },
      "text/plain": [
       "Downloading data:   0%|          | 0.00/12.6M [00:00<?, ?B/s]"
      ]
     },
     "metadata": {},
     "output_type": "display_data"
    },
    {
     "data": {
      "application/vnd.jupyter.widget-view+json": {
       "model_id": "ef8f8bb6d2ba4c0681fcb443bdb56111",
       "version_major": 2,
       "version_minor": 0
      },
      "text/plain": [
       "Extracting data files:   0%|          | 0/1 [00:00<?, ?it/s]"
      ]
     },
     "metadata": {},
     "output_type": "display_data"
    },
    {
     "data": {
      "application/vnd.jupyter.widget-view+json": {
       "model_id": "b1f09b48d76b40eaafe29ae72541be68",
       "version_major": 2,
       "version_minor": 0
      },
      "text/plain": [
       "Generating train split: 0 examples [00:00, ? examples/s]"
      ]
     },
     "metadata": {},
     "output_type": "display_data"
    },
    {
     "name": "stdout",
     "output_type": "stream",
     "text": [
      "Dataset json downloaded and prepared to /Users/harm.devries/.cache/huggingface/datasets/loubnabnl___json/loubnabnl--the-stack-inspection-data-365373f2eddfd77f/0.0.0/e6070c77f18f01a5ad4551a8b7edfba20b8438b7cad4d94e6ad9378022ce4aab. Subsequent calls will reuse this data.\n"
     ]
    },
    {
     "name": "stderr",
     "output_type": "stream",
     "text": [
      "\n",
      "0it [00:00, ?it/s]\u001b[A\n",
      "220it [00:00, 2164.08it/s]\u001b[A\n",
      "469it [00:00, 2353.33it/s]\u001b[A\n",
      "1000it [00:00, 2577.53it/s][A\n"
     ]
    },
    {
     "name": "stdout",
     "output_type": "stream",
     "text": [
      "104\n",
      "groovy\n",
      "groovy\n"
     ]
    },
    {
     "name": "stderr",
     "output_type": "stream",
     "text": [
      "Using custom data configuration loubnabnl--the-stack-inspection-data-e6b69694d427cc97\n"
     ]
    },
    {
     "name": "stdout",
     "output_type": "stream",
     "text": [
      "Downloading and preparing dataset json/loubnabnl--the-stack-inspection-data to /Users/harm.devries/.cache/huggingface/datasets/loubnabnl___json/loubnabnl--the-stack-inspection-data-e6b69694d427cc97/0.0.0/e6070c77f18f01a5ad4551a8b7edfba20b8438b7cad4d94e6ad9378022ce4aab...\n"
     ]
    },
    {
     "data": {
      "application/vnd.jupyter.widget-view+json": {
       "model_id": "7247488dc24c4b4a870d5c1ab86b2670",
       "version_major": 2,
       "version_minor": 0
      },
      "text/plain": [
       "Downloading data files:   0%|          | 0/1 [00:00<?, ?it/s]"
      ]
     },
     "metadata": {},
     "output_type": "display_data"
    },
    {
     "data": {
      "application/vnd.jupyter.widget-view+json": {
       "model_id": "fd1c91f87dfc443db67d9aa6b131c677",
       "version_major": 2,
       "version_minor": 0
      },
      "text/plain": [
       "Downloading data:   0%|          | 0.00/5.75M [00:00<?, ?B/s]"
      ]
     },
     "metadata": {},
     "output_type": "display_data"
    },
    {
     "data": {
      "application/vnd.jupyter.widget-view+json": {
       "model_id": "981ba1f2088741108f147dcf69b32231",
       "version_major": 2,
       "version_minor": 0
      },
      "text/plain": [
       "Extracting data files:   0%|          | 0/1 [00:00<?, ?it/s]"
      ]
     },
     "metadata": {},
     "output_type": "display_data"
    },
    {
     "data": {
      "application/vnd.jupyter.widget-view+json": {
       "model_id": "31cc061099464f10aacbbce46e670c5b",
       "version_major": 2,
       "version_minor": 0
      },
      "text/plain": [
       "Generating train split: 0 examples [00:00, ? examples/s]"
      ]
     },
     "metadata": {},
     "output_type": "display_data"
    },
    {
     "name": "stdout",
     "output_type": "stream",
     "text": [
      "Dataset json downloaded and prepared to /Users/harm.devries/.cache/huggingface/datasets/loubnabnl___json/loubnabnl--the-stack-inspection-data-e6b69694d427cc97/0.0.0/e6070c77f18f01a5ad4551a8b7edfba20b8438b7cad4d94e6ad9378022ce4aab. Subsequent calls will reuse this data.\n"
     ]
    },
    {
     "name": "stderr",
     "output_type": "stream",
     "text": [
      "\n",
      "0it [00:00, ?it/s]\u001b[A\n",
      "436it [00:00, 4357.25it/s]\u001b[A\n",
      "1000it [00:00, 4418.76it/s][A\n"
     ]
    },
    {
     "name": "stdout",
     "output_type": "stream",
     "text": [
      "105\n",
      "groovy\n",
      "gtpl\n"
     ]
    },
    {
     "name": "stderr",
     "output_type": "stream",
     "text": [
      "Using custom data configuration loubnabnl--the-stack-inspection-data-ffd2508237769b13\n"
     ]
    },
    {
     "name": "stdout",
     "output_type": "stream",
     "text": [
      "Downloading and preparing dataset json/loubnabnl--the-stack-inspection-data to /Users/harm.devries/.cache/huggingface/datasets/loubnabnl___json/loubnabnl--the-stack-inspection-data-ffd2508237769b13/0.0.0/e6070c77f18f01a5ad4551a8b7edfba20b8438b7cad4d94e6ad9378022ce4aab...\n"
     ]
    },
    {
     "data": {
      "application/vnd.jupyter.widget-view+json": {
       "model_id": "976224e4512e490f8571ad4a277c3fbf",
       "version_major": 2,
       "version_minor": 0
      },
      "text/plain": [
       "Downloading data files:   0%|          | 0/1 [00:00<?, ?it/s]"
      ]
     },
     "metadata": {},
     "output_type": "display_data"
    },
    {
     "data": {
      "application/vnd.jupyter.widget-view+json": {
       "model_id": "27f077a5439947a4bc2cbfc6bef3441c",
       "version_major": 2,
       "version_minor": 0
      },
      "text/plain": [
       "Downloading data:   0%|          | 0.00/78.8k [00:00<?, ?B/s]"
      ]
     },
     "metadata": {},
     "output_type": "display_data"
    },
    {
     "data": {
      "application/vnd.jupyter.widget-view+json": {
       "model_id": "c650115a130840649fa90de189a9d003",
       "version_major": 2,
       "version_minor": 0
      },
      "text/plain": [
       "Extracting data files:   0%|          | 0/1 [00:00<?, ?it/s]"
      ]
     },
     "metadata": {},
     "output_type": "display_data"
    },
    {
     "data": {
      "application/vnd.jupyter.widget-view+json": {
       "model_id": "a011d15ec195458fad1abace988bc6cb",
       "version_major": 2,
       "version_minor": 0
      },
      "text/plain": [
       "Generating train split: 0 examples [00:00, ? examples/s]"
      ]
     },
     "metadata": {},
     "output_type": "display_data"
    },
    {
     "name": "stdout",
     "output_type": "stream",
     "text": [
      "Dataset json downloaded and prepared to /Users/harm.devries/.cache/huggingface/datasets/loubnabnl___json/loubnabnl--the-stack-inspection-data-ffd2508237769b13/0.0.0/e6070c77f18f01a5ad4551a8b7edfba20b8438b7cad4d94e6ad9378022ce4aab. Subsequent calls will reuse this data.\n"
     ]
    },
    {
     "name": "stderr",
     "output_type": "stream",
     "text": [
      "\n",
      "21it [00:00, 4550.31it/s]"
     ]
    },
    {
     "name": "stdout",
     "output_type": "stream",
     "text": [
      "106\n",
      "groovy\n",
      "gvy\n"
     ]
    },
    {
     "name": "stderr",
     "output_type": "stream",
     "text": [
      "\n",
      "Using custom data configuration loubnabnl--the-stack-inspection-data-8677760b8d3d4625\n"
     ]
    },
    {
     "name": "stdout",
     "output_type": "stream",
     "text": [
      "Downloading and preparing dataset json/loubnabnl--the-stack-inspection-data to /Users/harm.devries/.cache/huggingface/datasets/loubnabnl___json/loubnabnl--the-stack-inspection-data-8677760b8d3d4625/0.0.0/e6070c77f18f01a5ad4551a8b7edfba20b8438b7cad4d94e6ad9378022ce4aab...\n"
     ]
    },
    {
     "data": {
      "application/vnd.jupyter.widget-view+json": {
       "model_id": "d8cf15ff1e8e477bb2dcc947dd7b1ac6",
       "version_major": 2,
       "version_minor": 0
      },
      "text/plain": [
       "Downloading data files:   0%|          | 0/1 [00:00<?, ?it/s]"
      ]
     },
     "metadata": {},
     "output_type": "display_data"
    },
    {
     "data": {
      "application/vnd.jupyter.widget-view+json": {
       "model_id": "881ebd3426094d6b9ee4f37c0f3ac51e",
       "version_major": 2,
       "version_minor": 0
      },
      "text/plain": [
       "Downloading data:   0%|          | 0.00/3.39k [00:00<?, ?B/s]"
      ]
     },
     "metadata": {},
     "output_type": "display_data"
    },
    {
     "data": {
      "application/vnd.jupyter.widget-view+json": {
       "model_id": "c578375954ba40778473687f980c74af",
       "version_major": 2,
       "version_minor": 0
      },
      "text/plain": [
       "Extracting data files:   0%|          | 0/1 [00:00<?, ?it/s]"
      ]
     },
     "metadata": {},
     "output_type": "display_data"
    },
    {
     "data": {
      "application/vnd.jupyter.widget-view+json": {
       "model_id": "a91bd2fd0c67408796b16ec3531b7e27",
       "version_major": 2,
       "version_minor": 0
      },
      "text/plain": [
       "Generating train split: 0 examples [00:00, ? examples/s]"
      ]
     },
     "metadata": {},
     "output_type": "display_data"
    },
    {
     "name": "stdout",
     "output_type": "stream",
     "text": [
      "Dataset json downloaded and prepared to /Users/harm.devries/.cache/huggingface/datasets/loubnabnl___json/loubnabnl--the-stack-inspection-data-8677760b8d3d4625/0.0.0/e6070c77f18f01a5ad4551a8b7edfba20b8438b7cad4d94e6ad9378022ce4aab. Subsequent calls will reuse this data.\n"
     ]
    },
    {
     "name": "stderr",
     "output_type": "stream",
     "text": [
      "\n",
      "2it [00:00, 2614.09it/s]"
     ]
    },
    {
     "name": "stdout",
     "output_type": "stream",
     "text": [
      "107\n",
      "groovy\n",
      "grt\n"
     ]
    },
    {
     "name": "stderr",
     "output_type": "stream",
     "text": [
      "\n",
      "Using custom data configuration loubnabnl--the-stack-inspection-data-f2e51c142d723550\n"
     ]
    },
    {
     "name": "stdout",
     "output_type": "stream",
     "text": [
      "Downloading and preparing dataset json/loubnabnl--the-stack-inspection-data to /Users/harm.devries/.cache/huggingface/datasets/loubnabnl___json/loubnabnl--the-stack-inspection-data-f2e51c142d723550/0.0.0/e6070c77f18f01a5ad4551a8b7edfba20b8438b7cad4d94e6ad9378022ce4aab...\n"
     ]
    },
    {
     "data": {
      "application/vnd.jupyter.widget-view+json": {
       "model_id": "1180b266167e450393914e111f4fd062",
       "version_major": 2,
       "version_minor": 0
      },
      "text/plain": [
       "Downloading data files:   0%|          | 0/1 [00:00<?, ?it/s]"
      ]
     },
     "metadata": {},
     "output_type": "display_data"
    },
    {
     "data": {
      "application/vnd.jupyter.widget-view+json": {
       "model_id": "88857b8031ad47e4a5baae410c9ad6a9",
       "version_major": 2,
       "version_minor": 0
      },
      "text/plain": [
       "Downloading data:   0%|          | 0.00/45.1k [00:00<?, ?B/s]"
      ]
     },
     "metadata": {},
     "output_type": "display_data"
    },
    {
     "data": {
      "application/vnd.jupyter.widget-view+json": {
       "model_id": "0e1759275eba44e9ab7ef050497cee9e",
       "version_major": 2,
       "version_minor": 0
      },
      "text/plain": [
       "Extracting data files:   0%|          | 0/1 [00:00<?, ?it/s]"
      ]
     },
     "metadata": {},
     "output_type": "display_data"
    },
    {
     "data": {
      "application/vnd.jupyter.widget-view+json": {
       "model_id": "ff06c8a863bc4193b9e97125c8dbade6",
       "version_major": 2,
       "version_minor": 0
      },
      "text/plain": [
       "Generating train split: 0 examples [00:00, ? examples/s]"
      ]
     },
     "metadata": {},
     "output_type": "display_data"
    },
    {
     "name": "stdout",
     "output_type": "stream",
     "text": [
      "Dataset json downloaded and prepared to /Users/harm.devries/.cache/huggingface/datasets/loubnabnl___json/loubnabnl--the-stack-inspection-data-f2e51c142d723550/0.0.0/e6070c77f18f01a5ad4551a8b7edfba20b8438b7cad4d94e6ad9378022ce4aab. Subsequent calls will reuse this data.\n"
     ]
    },
    {
     "name": "stderr",
     "output_type": "stream",
     "text": [
      "\n",
      "2it [00:00, 1156.09it/s]"
     ]
    },
    {
     "name": "stdout",
     "output_type": "stream",
     "text": [
      "108\n",
      "haskell\n",
      "hs\n"
     ]
    },
    {
     "name": "stderr",
     "output_type": "stream",
     "text": [
      "\n",
      "Using custom data configuration loubnabnl--the-stack-inspection-data-5c2bfbe6396a9899\n"
     ]
    },
    {
     "name": "stdout",
     "output_type": "stream",
     "text": [
      "Downloading and preparing dataset json/loubnabnl--the-stack-inspection-data to /Users/harm.devries/.cache/huggingface/datasets/loubnabnl___json/loubnabnl--the-stack-inspection-data-5c2bfbe6396a9899/0.0.0/e6070c77f18f01a5ad4551a8b7edfba20b8438b7cad4d94e6ad9378022ce4aab...\n"
     ]
    },
    {
     "data": {
      "application/vnd.jupyter.widget-view+json": {
       "model_id": "8df8fcbb4c6a44d6907d4f138ee668ff",
       "version_major": 2,
       "version_minor": 0
      },
      "text/plain": [
       "Downloading data files:   0%|          | 0/1 [00:00<?, ?it/s]"
      ]
     },
     "metadata": {},
     "output_type": "display_data"
    },
    {
     "data": {
      "application/vnd.jupyter.widget-view+json": {
       "model_id": "4de5daa9e1b64f01a8a83dbae2f2d04a",
       "version_major": 2,
       "version_minor": 0
      },
      "text/plain": [
       "Downloading data:   0%|          | 0.00/6.88M [00:00<?, ?B/s]"
      ]
     },
     "metadata": {},
     "output_type": "display_data"
    },
    {
     "data": {
      "application/vnd.jupyter.widget-view+json": {
       "model_id": "e680fc20d95244639a7d9aca642142a2",
       "version_major": 2,
       "version_minor": 0
      },
      "text/plain": [
       "Extracting data files:   0%|          | 0/1 [00:00<?, ?it/s]"
      ]
     },
     "metadata": {},
     "output_type": "display_data"
    },
    {
     "data": {
      "application/vnd.jupyter.widget-view+json": {
       "model_id": "7e7e74cc9ffe44219fca73f9890f9a72",
       "version_major": 2,
       "version_minor": 0
      },
      "text/plain": [
       "Generating train split: 0 examples [00:00, ? examples/s]"
      ]
     },
     "metadata": {},
     "output_type": "display_data"
    },
    {
     "name": "stdout",
     "output_type": "stream",
     "text": [
      "Dataset json downloaded and prepared to /Users/harm.devries/.cache/huggingface/datasets/loubnabnl___json/loubnabnl--the-stack-inspection-data-5c2bfbe6396a9899/0.0.0/e6070c77f18f01a5ad4551a8b7edfba20b8438b7cad4d94e6ad9378022ce4aab. Subsequent calls will reuse this data.\n"
     ]
    },
    {
     "name": "stderr",
     "output_type": "stream",
     "text": [
      "\n",
      "0it [00:00, ?it/s]\u001b[A\n",
      "443it [00:00, 4422.53it/s]\u001b[A\n",
      "1000it [00:00, 3880.15it/s][A\n"
     ]
    },
    {
     "name": "stdout",
     "output_type": "stream",
     "text": [
      "109\n",
      "haskell\n",
      "hsc\n"
     ]
    },
    {
     "name": "stderr",
     "output_type": "stream",
     "text": [
      "Using custom data configuration loubnabnl--the-stack-inspection-data-6c5b48364f0a5869\n"
     ]
    },
    {
     "name": "stdout",
     "output_type": "stream",
     "text": [
      "Downloading and preparing dataset json/loubnabnl--the-stack-inspection-data to /Users/harm.devries/.cache/huggingface/datasets/loubnabnl___json/loubnabnl--the-stack-inspection-data-6c5b48364f0a5869/0.0.0/e6070c77f18f01a5ad4551a8b7edfba20b8438b7cad4d94e6ad9378022ce4aab...\n"
     ]
    },
    {
     "data": {
      "application/vnd.jupyter.widget-view+json": {
       "model_id": "1b4df54f0a6348a09a87c35d6097e083",
       "version_major": 2,
       "version_minor": 0
      },
      "text/plain": [
       "Downloading data files:   0%|          | 0/1 [00:00<?, ?it/s]"
      ]
     },
     "metadata": {},
     "output_type": "display_data"
    },
    {
     "data": {
      "application/vnd.jupyter.widget-view+json": {
       "model_id": "8eaf1332c43144d7a67e74414e49800a",
       "version_major": 2,
       "version_minor": 0
      },
      "text/plain": [
       "Downloading data:   0%|          | 0.00/939k [00:00<?, ?B/s]"
      ]
     },
     "metadata": {},
     "output_type": "display_data"
    },
    {
     "data": {
      "application/vnd.jupyter.widget-view+json": {
       "model_id": "0cc5427fe01e4e7b980682d8a4e6bc1f",
       "version_major": 2,
       "version_minor": 0
      },
      "text/plain": [
       "Extracting data files:   0%|          | 0/1 [00:00<?, ?it/s]"
      ]
     },
     "metadata": {},
     "output_type": "display_data"
    },
    {
     "data": {
      "application/vnd.jupyter.widget-view+json": {
       "model_id": "4cc3814f358647c2b4b24077d976013e",
       "version_major": 2,
       "version_minor": 0
      },
      "text/plain": [
       "Generating train split: 0 examples [00:00, ? examples/s]"
      ]
     },
     "metadata": {},
     "output_type": "display_data"
    },
    {
     "name": "stdout",
     "output_type": "stream",
     "text": [
      "Dataset json downloaded and prepared to /Users/harm.devries/.cache/huggingface/datasets/loubnabnl___json/loubnabnl--the-stack-inspection-data-6c5b48364f0a5869/0.0.0/e6070c77f18f01a5ad4551a8b7edfba20b8438b7cad4d94e6ad9378022ce4aab. Subsequent calls will reuse this data.\n"
     ]
    },
    {
     "name": "stderr",
     "output_type": "stream",
     "text": [
      "\n",
      "105it [00:00, 2974.58it/s]"
     ]
    },
    {
     "name": "stdout",
     "output_type": "stream",
     "text": [
      "110\n",
      "html\n",
      "html\n"
     ]
    },
    {
     "name": "stderr",
     "output_type": "stream",
     "text": [
      "\n",
      "Using custom data configuration loubnabnl--the-stack-inspection-data-6b7fc43130ac345e\n"
     ]
    },
    {
     "name": "stdout",
     "output_type": "stream",
     "text": [
      "Downloading and preparing dataset json/loubnabnl--the-stack-inspection-data to /Users/harm.devries/.cache/huggingface/datasets/loubnabnl___json/loubnabnl--the-stack-inspection-data-6b7fc43130ac345e/0.0.0/e6070c77f18f01a5ad4551a8b7edfba20b8438b7cad4d94e6ad9378022ce4aab...\n"
     ]
    },
    {
     "data": {
      "application/vnd.jupyter.widget-view+json": {
       "model_id": "02a5a3bce29a4b1293631e45f845d1fc",
       "version_major": 2,
       "version_minor": 0
      },
      "text/plain": [
       "Downloading data files:   0%|          | 0/1 [00:00<?, ?it/s]"
      ]
     },
     "metadata": {},
     "output_type": "display_data"
    },
    {
     "data": {
      "application/vnd.jupyter.widget-view+json": {
       "model_id": "0ed8fbe99aba4bf1a36f54b51a233c5a",
       "version_major": 2,
       "version_minor": 0
      },
      "text/plain": [
       "Downloading data:   0%|          | 0.00/25.2M [00:00<?, ?B/s]"
      ]
     },
     "metadata": {},
     "output_type": "display_data"
    },
    {
     "data": {
      "application/vnd.jupyter.widget-view+json": {
       "model_id": "6ebb8bcf601349bd9903006c5c33deb0",
       "version_major": 2,
       "version_minor": 0
      },
      "text/plain": [
       "Extracting data files:   0%|          | 0/1 [00:00<?, ?it/s]"
      ]
     },
     "metadata": {},
     "output_type": "display_data"
    },
    {
     "data": {
      "application/vnd.jupyter.widget-view+json": {
       "model_id": "54f41fe8337c40d0bdd0c7712433624f",
       "version_major": 2,
       "version_minor": 0
      },
      "text/plain": [
       "Generating train split: 0 examples [00:00, ? examples/s]"
      ]
     },
     "metadata": {},
     "output_type": "display_data"
    },
    {
     "name": "stdout",
     "output_type": "stream",
     "text": [
      "Dataset json downloaded and prepared to /Users/harm.devries/.cache/huggingface/datasets/loubnabnl___json/loubnabnl--the-stack-inspection-data-6b7fc43130ac345e/0.0.0/e6070c77f18f01a5ad4551a8b7edfba20b8438b7cad4d94e6ad9378022ce4aab. Subsequent calls will reuse this data.\n"
     ]
    },
    {
     "name": "stderr",
     "output_type": "stream",
     "text": [
      "\n",
      "0it [00:00, ?it/s]\u001b[A\n",
      "150it [00:00, 1473.93it/s]\u001b[AIOStream.flush timed out\n",
      "\n",
      "153it [00:10, 10.71it/s]  \u001b[A\n",
      "153it [00:10, 10.71it/s]\u001b[A\n",
      "260it [00:10, 25.47it/s]\u001b[A\n",
      "430it [00:10, 58.18it/s]\u001b[A\n",
      "574it [00:10, 95.67it/s]\u001b[A\n",
      "720it [00:10, 146.58it/s]\u001b[A\n",
      "1000it [00:10, 93.35it/s]\u001b[A\n"
     ]
    },
    {
     "name": "stdout",
     "output_type": "stream",
     "text": [
      "111\n",
      "html\n",
      "htm\n"
     ]
    },
    {
     "name": "stderr",
     "output_type": "stream",
     "text": [
      "Using custom data configuration loubnabnl--the-stack-inspection-data-34529466a364dd26\n"
     ]
    },
    {
     "name": "stdout",
     "output_type": "stream",
     "text": [
      "Downloading and preparing dataset json/loubnabnl--the-stack-inspection-data to /Users/harm.devries/.cache/huggingface/datasets/loubnabnl___json/loubnabnl--the-stack-inspection-data-34529466a364dd26/0.0.0/e6070c77f18f01a5ad4551a8b7edfba20b8438b7cad4d94e6ad9378022ce4aab...\n"
     ]
    },
    {
     "data": {
      "application/vnd.jupyter.widget-view+json": {
       "model_id": "44292c9cb999413ba4777f49be85a24d",
       "version_major": 2,
       "version_minor": 0
      },
      "text/plain": [
       "Downloading data files:   0%|          | 0/1 [00:00<?, ?it/s]"
      ]
     },
     "metadata": {},
     "output_type": "display_data"
    },
    {
     "data": {
      "application/vnd.jupyter.widget-view+json": {
       "model_id": "742c9c72966f40e68de6f87526d40546",
       "version_major": 2,
       "version_minor": 0
      },
      "text/plain": [
       "Downloading data:   0%|          | 0.00/13.4M [00:00<?, ?B/s]"
      ]
     },
     "metadata": {},
     "output_type": "display_data"
    },
    {
     "data": {
      "application/vnd.jupyter.widget-view+json": {
       "model_id": "79f927156ed64eb0be620f7db7b55e94",
       "version_major": 2,
       "version_minor": 0
      },
      "text/plain": [
       "Extracting data files:   0%|          | 0/1 [00:00<?, ?it/s]"
      ]
     },
     "metadata": {},
     "output_type": "display_data"
    },
    {
     "data": {
      "application/vnd.jupyter.widget-view+json": {
       "model_id": "f6b2f25b02cb40b79580d0ff2e2e768c",
       "version_major": 2,
       "version_minor": 0
      },
      "text/plain": [
       "Generating train split: 0 examples [00:00, ? examples/s]"
      ]
     },
     "metadata": {},
     "output_type": "display_data"
    },
    {
     "name": "stdout",
     "output_type": "stream",
     "text": [
      "Dataset json downloaded and prepared to /Users/harm.devries/.cache/huggingface/datasets/loubnabnl___json/loubnabnl--the-stack-inspection-data-34529466a364dd26/0.0.0/e6070c77f18f01a5ad4551a8b7edfba20b8438b7cad4d94e6ad9378022ce4aab. Subsequent calls will reuse this data.\n"
     ]
    },
    {
     "name": "stderr",
     "output_type": "stream",
     "text": [
      "\n",
      "0it [00:00, ?it/s]\u001b[A\n",
      "178it [00:00, 1779.80it/s]\u001b[A\n",
      "356it [00:00, 1514.36it/s]\u001b[A\n",
      "541it [00:00, 1615.79it/s]\u001b[A\n"
     ]
    },
    {
     "name": "stdout",
     "output_type": "stream",
     "text": [
      "112\n",
      "html\n",
      "xhtml\n"
     ]
    },
    {
     "name": "stderr",
     "output_type": "stream",
     "text": [
      "Using custom data configuration loubnabnl--the-stack-inspection-data-26154a9aebcabcb3\n"
     ]
    },
    {
     "name": "stdout",
     "output_type": "stream",
     "text": [
      "Downloading and preparing dataset json/loubnabnl--the-stack-inspection-data to /Users/harm.devries/.cache/huggingface/datasets/loubnabnl___json/loubnabnl--the-stack-inspection-data-26154a9aebcabcb3/0.0.0/e6070c77f18f01a5ad4551a8b7edfba20b8438b7cad4d94e6ad9378022ce4aab...\n"
     ]
    },
    {
     "data": {
      "application/vnd.jupyter.widget-view+json": {
       "model_id": "9d4a2b658c8548d69f7104f52f9bc435",
       "version_major": 2,
       "version_minor": 0
      },
      "text/plain": [
       "Downloading data files:   0%|          | 0/1 [00:00<?, ?it/s]"
      ]
     },
     "metadata": {},
     "output_type": "display_data"
    },
    {
     "data": {
      "application/vnd.jupyter.widget-view+json": {
       "model_id": "8707eb31c6f94b07b8f40708dde16757",
       "version_major": 2,
       "version_minor": 0
      },
      "text/plain": [
       "Downloading data:   0%|          | 0.00/2.47M [00:00<?, ?B/s]"
      ]
     },
     "metadata": {},
     "output_type": "display_data"
    },
    {
     "data": {
      "application/vnd.jupyter.widget-view+json": {
       "model_id": "90019bc470284defb650b78623da1e51",
       "version_major": 2,
       "version_minor": 0
      },
      "text/plain": [
       "Extracting data files:   0%|          | 0/1 [00:00<?, ?it/s]"
      ]
     },
     "metadata": {},
     "output_type": "display_data"
    },
    {
     "data": {
      "application/vnd.jupyter.widget-view+json": {
       "model_id": "8fedbf64cb0549528fd2d67fa105d87c",
       "version_major": 2,
       "version_minor": 0
      },
      "text/plain": [
       "Generating train split: 0 examples [00:00, ? examples/s]"
      ]
     },
     "metadata": {},
     "output_type": "display_data"
    },
    {
     "name": "stdout",
     "output_type": "stream",
     "text": [
      "Dataset json downloaded and prepared to /Users/harm.devries/.cache/huggingface/datasets/loubnabnl___json/loubnabnl--the-stack-inspection-data-26154a9aebcabcb3/0.0.0/e6070c77f18f01a5ad4551a8b7edfba20b8438b7cad4d94e6ad9378022ce4aab. Subsequent calls will reuse this data.\n"
     ]
    },
    {
     "name": "stderr",
     "output_type": "stream",
     "text": [
      "\n",
      "149it [00:00, 2943.04it/s]"
     ]
    },
    {
     "name": "stdout",
     "output_type": "stream",
     "text": [
      "113\n",
      "html\n",
      "xht\n"
     ]
    },
    {
     "name": "stderr",
     "output_type": "stream",
     "text": [
      "\n",
      "Using custom data configuration loubnabnl--the-stack-inspection-data-79900fd59507685c\n"
     ]
    },
    {
     "name": "stdout",
     "output_type": "stream",
     "text": [
      "Downloading and preparing dataset json/loubnabnl--the-stack-inspection-data to /Users/harm.devries/.cache/huggingface/datasets/loubnabnl___json/loubnabnl--the-stack-inspection-data-79900fd59507685c/0.0.0/e6070c77f18f01a5ad4551a8b7edfba20b8438b7cad4d94e6ad9378022ce4aab...\n"
     ]
    },
    {
     "data": {
      "application/vnd.jupyter.widget-view+json": {
       "model_id": "527674cbc827485783b6c442732f6683",
       "version_major": 2,
       "version_minor": 0
      },
      "text/plain": [
       "Downloading data files:   0%|          | 0/1 [00:00<?, ?it/s]"
      ]
     },
     "metadata": {},
     "output_type": "display_data"
    },
    {
     "data": {
      "application/vnd.jupyter.widget-view+json": {
       "model_id": "3d25a32f8b894554b6b4ca9d6d38159e",
       "version_major": 2,
       "version_minor": 0
      },
      "text/plain": [
       "Downloading data:   0%|          | 0.00/60.0k [00:00<?, ?B/s]"
      ]
     },
     "metadata": {},
     "output_type": "display_data"
    },
    {
     "data": {
      "application/vnd.jupyter.widget-view+json": {
       "model_id": "bd13017ba45c419dbab92280a686e234",
       "version_major": 2,
       "version_minor": 0
      },
      "text/plain": [
       "Extracting data files:   0%|          | 0/1 [00:00<?, ?it/s]"
      ]
     },
     "metadata": {},
     "output_type": "display_data"
    },
    {
     "data": {
      "application/vnd.jupyter.widget-view+json": {
       "model_id": "830bf5073df74fcb96d685c6f1efc54a",
       "version_major": 2,
       "version_minor": 0
      },
      "text/plain": [
       "Generating train split: 0 examples [00:00, ? examples/s]"
      ]
     },
     "metadata": {},
     "output_type": "display_data"
    },
    {
     "name": "stdout",
     "output_type": "stream",
     "text": [
      "Dataset json downloaded and prepared to /Users/harm.devries/.cache/huggingface/datasets/loubnabnl___json/loubnabnl--the-stack-inspection-data-79900fd59507685c/0.0.0/e6070c77f18f01a5ad4551a8b7edfba20b8438b7cad4d94e6ad9378022ce4aab. Subsequent calls will reuse this data.\n"
     ]
    },
    {
     "name": "stderr",
     "output_type": "stream",
     "text": [
      "\n",
      "30it [00:00, 5700.33it/s]"
     ]
    },
    {
     "name": "stdout",
     "output_type": "stream",
     "text": [
      "114\n",
      "idris\n",
      "idr\n"
     ]
    },
    {
     "name": "stderr",
     "output_type": "stream",
     "text": [
      "\n",
      "Using custom data configuration loubnabnl--the-stack-inspection-data-b5092f5fd326617e\n"
     ]
    },
    {
     "name": "stdout",
     "output_type": "stream",
     "text": [
      "Downloading and preparing dataset json/loubnabnl--the-stack-inspection-data to /Users/harm.devries/.cache/huggingface/datasets/loubnabnl___json/loubnabnl--the-stack-inspection-data-b5092f5fd326617e/0.0.0/e6070c77f18f01a5ad4551a8b7edfba20b8438b7cad4d94e6ad9378022ce4aab...\n"
     ]
    },
    {
     "data": {
      "application/vnd.jupyter.widget-view+json": {
       "model_id": "315e1ff5c8ee4e47bd153dfb958f455f",
       "version_major": 2,
       "version_minor": 0
      },
      "text/plain": [
       "Downloading data files:   0%|          | 0/1 [00:00<?, ?it/s]"
      ]
     },
     "metadata": {},
     "output_type": "display_data"
    },
    {
     "data": {
      "application/vnd.jupyter.widget-view+json": {
       "model_id": "b626cc6e960242f8a8d5893afcdf0526",
       "version_major": 2,
       "version_minor": 0
      },
      "text/plain": [
       "Downloading data:   0%|          | 0.00/5.65M [00:00<?, ?B/s]"
      ]
     },
     "metadata": {},
     "output_type": "display_data"
    },
    {
     "data": {
      "application/vnd.jupyter.widget-view+json": {
       "model_id": "2ba7550c6a1b4c87b366a2bc8ed8cb62",
       "version_major": 2,
       "version_minor": 0
      },
      "text/plain": [
       "Extracting data files:   0%|          | 0/1 [00:00<?, ?it/s]"
      ]
     },
     "metadata": {},
     "output_type": "display_data"
    },
    {
     "data": {
      "application/vnd.jupyter.widget-view+json": {
       "model_id": "682dbf25c91c417992bd9df3be0facc9",
       "version_major": 2,
       "version_minor": 0
      },
      "text/plain": [
       "Generating train split: 0 examples [00:00, ? examples/s]"
      ]
     },
     "metadata": {},
     "output_type": "display_data"
    },
    {
     "name": "stdout",
     "output_type": "stream",
     "text": [
      "Dataset json downloaded and prepared to /Users/harm.devries/.cache/huggingface/datasets/loubnabnl___json/loubnabnl--the-stack-inspection-data-b5092f5fd326617e/0.0.0/e6070c77f18f01a5ad4551a8b7edfba20b8438b7cad4d94e6ad9378022ce4aab. Subsequent calls will reuse this data.\n"
     ]
    },
    {
     "name": "stderr",
     "output_type": "stream",
     "text": [
      "\n",
      "0it [00:00, ?it/s]\u001b[A\n",
      "468it [00:00, 4674.75it/s]\u001b[A\n",
      "1000it [00:00, 4418.23it/s][A\n"
     ]
    },
    {
     "name": "stdout",
     "output_type": "stream",
     "text": [
      "115\n",
      "idris\n",
      "lidr\n"
     ]
    },
    {
     "name": "stderr",
     "output_type": "stream",
     "text": [
      "Using custom data configuration loubnabnl--the-stack-inspection-data-2e81e54d7d2bc6fa\n"
     ]
    },
    {
     "name": "stdout",
     "output_type": "stream",
     "text": [
      "Downloading and preparing dataset json/loubnabnl--the-stack-inspection-data to /Users/harm.devries/.cache/huggingface/datasets/loubnabnl___json/loubnabnl--the-stack-inspection-data-2e81e54d7d2bc6fa/0.0.0/e6070c77f18f01a5ad4551a8b7edfba20b8438b7cad4d94e6ad9378022ce4aab...\n"
     ]
    },
    {
     "data": {
      "application/vnd.jupyter.widget-view+json": {
       "model_id": "e47e052a160148dfa437ccf47c8f9e8c",
       "version_major": 2,
       "version_minor": 0
      },
      "text/plain": [
       "Downloading data files:   0%|          | 0/1 [00:00<?, ?it/s]"
      ]
     },
     "metadata": {},
     "output_type": "display_data"
    },
    {
     "data": {
      "application/vnd.jupyter.widget-view+json": {
       "model_id": "3066bdab3b02438b90ca1beb0edfaa06",
       "version_major": 2,
       "version_minor": 0
      },
      "text/plain": [
       "Downloading data:   0%|          | 0.00/1.95M [00:00<?, ?B/s]"
      ]
     },
     "metadata": {},
     "output_type": "display_data"
    },
    {
     "data": {
      "application/vnd.jupyter.widget-view+json": {
       "model_id": "0e96c421b8bf4b34ba4cf95034543f8b",
       "version_major": 2,
       "version_minor": 0
      },
      "text/plain": [
       "Extracting data files:   0%|          | 0/1 [00:00<?, ?it/s]"
      ]
     },
     "metadata": {},
     "output_type": "display_data"
    },
    {
     "data": {
      "application/vnd.jupyter.widget-view+json": {
       "model_id": "aba97192994a4b1a98f2177914c8f8e5",
       "version_major": 2,
       "version_minor": 0
      },
      "text/plain": [
       "Generating train split: 0 examples [00:00, ? examples/s]"
      ]
     },
     "metadata": {},
     "output_type": "display_data"
    },
    {
     "name": "stdout",
     "output_type": "stream",
     "text": [
      "Dataset json downloaded and prepared to /Users/harm.devries/.cache/huggingface/datasets/loubnabnl___json/loubnabnl--the-stack-inspection-data-2e81e54d7d2bc6fa/0.0.0/e6070c77f18f01a5ad4551a8b7edfba20b8438b7cad4d94e6ad9378022ce4aab. Subsequent calls will reuse this data.\n"
     ]
    },
    {
     "name": "stderr",
     "output_type": "stream",
     "text": [
      "\n",
      "291it [00:00, 3596.91it/s]"
     ]
    },
    {
     "name": "stdout",
     "output_type": "stream",
     "text": [
      "116\n",
      "isabelle\n",
      "thy\n"
     ]
    },
    {
     "name": "stderr",
     "output_type": "stream",
     "text": [
      "\n",
      "Using custom data configuration loubnabnl--the-stack-inspection-data-912381fb33de65ef\n"
     ]
    },
    {
     "name": "stdout",
     "output_type": "stream",
     "text": [
      "Downloading and preparing dataset json/loubnabnl--the-stack-inspection-data to /Users/harm.devries/.cache/huggingface/datasets/loubnabnl___json/loubnabnl--the-stack-inspection-data-912381fb33de65ef/0.0.0/e6070c77f18f01a5ad4551a8b7edfba20b8438b7cad4d94e6ad9378022ce4aab...\n"
     ]
    },
    {
     "data": {
      "application/vnd.jupyter.widget-view+json": {
       "model_id": "cd53591d899d4a91998ae9a75de3eed0",
       "version_major": 2,
       "version_minor": 0
      },
      "text/plain": [
       "Downloading data files:   0%|          | 0/1 [00:00<?, ?it/s]"
      ]
     },
     "metadata": {},
     "output_type": "display_data"
    },
    {
     "data": {
      "application/vnd.jupyter.widget-view+json": {
       "model_id": "8033a3c3de5b4b3eb4a7468ad3cd714d",
       "version_major": 2,
       "version_minor": 0
      },
      "text/plain": [
       "Downloading data:   0%|          | 0.00/19.2M [00:00<?, ?B/s]"
      ]
     },
     "metadata": {},
     "output_type": "display_data"
    },
    {
     "data": {
      "application/vnd.jupyter.widget-view+json": {
       "model_id": "3bbd9830ee934e73a76632eab57484a7",
       "version_major": 2,
       "version_minor": 0
      },
      "text/plain": [
       "Extracting data files:   0%|          | 0/1 [00:00<?, ?it/s]"
      ]
     },
     "metadata": {},
     "output_type": "display_data"
    },
    {
     "data": {
      "application/vnd.jupyter.widget-view+json": {
       "model_id": "a6a772f62bd84db785278ccf08cbfd52",
       "version_major": 2,
       "version_minor": 0
      },
      "text/plain": [
       "Generating train split: 0 examples [00:00, ? examples/s]"
      ]
     },
     "metadata": {},
     "output_type": "display_data"
    },
    {
     "name": "stdout",
     "output_type": "stream",
     "text": [
      "Dataset json downloaded and prepared to /Users/harm.devries/.cache/huggingface/datasets/loubnabnl___json/loubnabnl--the-stack-inspection-data-912381fb33de65ef/0.0.0/e6070c77f18f01a5ad4551a8b7edfba20b8438b7cad4d94e6ad9378022ce4aab. Subsequent calls will reuse this data.\n"
     ]
    },
    {
     "name": "stderr",
     "output_type": "stream",
     "text": [
      "1000it [00:00, 1789.03it/s]\n"
     ]
    },
    {
     "name": "stdout",
     "output_type": "stream",
     "text": [
      "117\n",
      "java\n",
      "java\n"
     ]
    },
    {
     "name": "stderr",
     "output_type": "stream",
     "text": [
      "Using custom data configuration loubnabnl--the-stack-inspection-data-1e4ea2451722e02e\n"
     ]
    },
    {
     "name": "stdout",
     "output_type": "stream",
     "text": [
      "Downloading and preparing dataset json/loubnabnl--the-stack-inspection-data to /Users/harm.devries/.cache/huggingface/datasets/loubnabnl___json/loubnabnl--the-stack-inspection-data-1e4ea2451722e02e/0.0.0/e6070c77f18f01a5ad4551a8b7edfba20b8438b7cad4d94e6ad9378022ce4aab...\n"
     ]
    },
    {
     "data": {
      "application/vnd.jupyter.widget-view+json": {
       "model_id": "e4b5974a0eed4adba81df17d6db0c13e",
       "version_major": 2,
       "version_minor": 0
      },
      "text/plain": [
       "Downloading data files:   0%|          | 0/1 [00:00<?, ?it/s]"
      ]
     },
     "metadata": {},
     "output_type": "display_data"
    },
    {
     "data": {
      "application/vnd.jupyter.widget-view+json": {
       "model_id": "a3778992b5c94d1db844884c8562613b",
       "version_major": 2,
       "version_minor": 0
      },
      "text/plain": [
       "Downloading data:   0%|          | 0.00/6.88M [00:00<?, ?B/s]"
      ]
     },
     "metadata": {},
     "output_type": "display_data"
    },
    {
     "data": {
      "application/vnd.jupyter.widget-view+json": {
       "model_id": "17514c03dd434e11a9218783414e48c3",
       "version_major": 2,
       "version_minor": 0
      },
      "text/plain": [
       "Extracting data files:   0%|          | 0/1 [00:00<?, ?it/s]"
      ]
     },
     "metadata": {},
     "output_type": "display_data"
    },
    {
     "data": {
      "application/vnd.jupyter.widget-view+json": {
       "model_id": "fb076a2482b24b8f95a65c0f28672783",
       "version_major": 2,
       "version_minor": 0
      },
      "text/plain": [
       "Generating train split: 0 examples [00:00, ? examples/s]"
      ]
     },
     "metadata": {},
     "output_type": "display_data"
    },
    {
     "name": "stdout",
     "output_type": "stream",
     "text": [
      "Dataset json downloaded and prepared to /Users/harm.devries/.cache/huggingface/datasets/loubnabnl___json/loubnabnl--the-stack-inspection-data-1e4ea2451722e02e/0.0.0/e6070c77f18f01a5ad4551a8b7edfba20b8438b7cad4d94e6ad9378022ce4aab. Subsequent calls will reuse this data.\n"
     ]
    },
    {
     "name": "stderr",
     "output_type": "stream",
     "text": [
      "\n",
      "0it [00:00, ?it/s]\u001b[A\n",
      "377it [00:00, 3764.89it/s]\u001b[A\n",
      "1000it [00:00, 4036.23it/s][A\n"
     ]
    },
    {
     "name": "stdout",
     "output_type": "stream",
     "text": [
      "118\n",
      "java-server-pages\n",
      "jsp\n"
     ]
    },
    {
     "name": "stderr",
     "output_type": "stream",
     "text": [
      "Using custom data configuration loubnabnl--the-stack-inspection-data-01a7fd24a7ac2f5d\n"
     ]
    },
    {
     "name": "stdout",
     "output_type": "stream",
     "text": [
      "Downloading and preparing dataset json/loubnabnl--the-stack-inspection-data to /Users/harm.devries/.cache/huggingface/datasets/loubnabnl___json/loubnabnl--the-stack-inspection-data-01a7fd24a7ac2f5d/0.0.0/e6070c77f18f01a5ad4551a8b7edfba20b8438b7cad4d94e6ad9378022ce4aab...\n"
     ]
    },
    {
     "data": {
      "application/vnd.jupyter.widget-view+json": {
       "model_id": "bca2c53fc9f14a28b42815a40da0ae9a",
       "version_major": 2,
       "version_minor": 0
      },
      "text/plain": [
       "Downloading data files:   0%|          | 0/1 [00:00<?, ?it/s]"
      ]
     },
     "metadata": {},
     "output_type": "display_data"
    },
    {
     "data": {
      "application/vnd.jupyter.widget-view+json": {
       "model_id": "4cdc5d4bd8b1456f88cc7bf1c9bc2cce",
       "version_major": 2,
       "version_minor": 0
      },
      "text/plain": [
       "Downloading data:   0%|          | 0.00/6.42M [00:00<?, ?B/s]"
      ]
     },
     "metadata": {},
     "output_type": "display_data"
    },
    {
     "data": {
      "application/vnd.jupyter.widget-view+json": {
       "model_id": "88edd210de8f4024964c550c408c7883",
       "version_major": 2,
       "version_minor": 0
      },
      "text/plain": [
       "Extracting data files:   0%|          | 0/1 [00:00<?, ?it/s]"
      ]
     },
     "metadata": {},
     "output_type": "display_data"
    },
    {
     "data": {
      "application/vnd.jupyter.widget-view+json": {
       "model_id": "8aae8ac6a6bd4408b56d471c8c310612",
       "version_major": 2,
       "version_minor": 0
      },
      "text/plain": [
       "Generating train split: 0 examples [00:00, ? examples/s]"
      ]
     },
     "metadata": {},
     "output_type": "display_data"
    },
    {
     "name": "stdout",
     "output_type": "stream",
     "text": [
      "Dataset json downloaded and prepared to /Users/harm.devries/.cache/huggingface/datasets/loubnabnl___json/loubnabnl--the-stack-inspection-data-01a7fd24a7ac2f5d/0.0.0/e6070c77f18f01a5ad4551a8b7edfba20b8438b7cad4d94e6ad9378022ce4aab. Subsequent calls will reuse this data.\n"
     ]
    },
    {
     "name": "stderr",
     "output_type": "stream",
     "text": [
      "\n",
      "0it [00:00, ?it/s]\u001b[A\n",
      "399it [00:00, 3983.50it/s]\u001b[A\n",
      "1000it [00:00, 3915.81it/s][A\n"
     ]
    },
    {
     "name": "stdout",
     "output_type": "stream",
     "text": [
      "119\n",
      "javascript\n",
      "js\n"
     ]
    },
    {
     "name": "stderr",
     "output_type": "stream",
     "text": [
      "Using custom data configuration loubnabnl--the-stack-inspection-data-ed46ed5076e32314\n"
     ]
    },
    {
     "name": "stdout",
     "output_type": "stream",
     "text": [
      "Downloading and preparing dataset json/loubnabnl--the-stack-inspection-data to /Users/harm.devries/.cache/huggingface/datasets/loubnabnl___json/loubnabnl--the-stack-inspection-data-ed46ed5076e32314/0.0.0/e6070c77f18f01a5ad4551a8b7edfba20b8438b7cad4d94e6ad9378022ce4aab...\n"
     ]
    },
    {
     "data": {
      "application/vnd.jupyter.widget-view+json": {
       "model_id": "3b01a71489dc40b9ba97f59c91ff3a84",
       "version_major": 2,
       "version_minor": 0
      },
      "text/plain": [
       "Downloading data files:   0%|          | 0/1 [00:00<?, ?it/s]"
      ]
     },
     "metadata": {},
     "output_type": "display_data"
    },
    {
     "data": {
      "application/vnd.jupyter.widget-view+json": {
       "model_id": "eea8d23ed3084864bf66450bffe26eb5",
       "version_major": 2,
       "version_minor": 0
      },
      "text/plain": [
       "Downloading data:   0%|          | 0.00/14.7M [00:00<?, ?B/s]"
      ]
     },
     "metadata": {},
     "output_type": "display_data"
    },
    {
     "data": {
      "application/vnd.jupyter.widget-view+json": {
       "model_id": "a5aaa6bcb11143ae96f62567bb6cf8be",
       "version_major": 2,
       "version_minor": 0
      },
      "text/plain": [
       "Extracting data files:   0%|          | 0/1 [00:00<?, ?it/s]"
      ]
     },
     "metadata": {},
     "output_type": "display_data"
    },
    {
     "data": {
      "application/vnd.jupyter.widget-view+json": {
       "model_id": "7ab7e2e57ed94aa9bf899d03a23b3d19",
       "version_major": 2,
       "version_minor": 0
      },
      "text/plain": [
       "Generating train split: 0 examples [00:00, ? examples/s]"
      ]
     },
     "metadata": {},
     "output_type": "display_data"
    },
    {
     "name": "stdout",
     "output_type": "stream",
     "text": [
      "Dataset json downloaded and prepared to /Users/harm.devries/.cache/huggingface/datasets/loubnabnl___json/loubnabnl--the-stack-inspection-data-ed46ed5076e32314/0.0.0/e6070c77f18f01a5ad4551a8b7edfba20b8438b7cad4d94e6ad9378022ce4aab. Subsequent calls will reuse this data.\n"
     ]
    },
    {
     "name": "stderr",
     "output_type": "stream",
     "text": [
      "\n",
      "0it [00:00, ?it/s]\u001b[A\n",
      "191it [00:00, 1909.86it/s]\u001b[A\n",
      "387it [00:00, 1846.06it/s]\u001b[A\n",
      "628it [00:00, 2066.26it/s]\u001b[A\n",
      "1000it [00:00, 2007.61it/s][A\n"
     ]
    },
    {
     "name": "stdout",
     "output_type": "stream",
     "text": [
      "120\n",
      "javascript\n",
      "es6\n"
     ]
    },
    {
     "name": "stderr",
     "output_type": "stream",
     "text": [
      "Using custom data configuration loubnabnl--the-stack-inspection-data-2b4c157c1056f30e\n"
     ]
    },
    {
     "name": "stdout",
     "output_type": "stream",
     "text": [
      "Downloading and preparing dataset json/loubnabnl--the-stack-inspection-data to /Users/harm.devries/.cache/huggingface/datasets/loubnabnl___json/loubnabnl--the-stack-inspection-data-2b4c157c1056f30e/0.0.0/e6070c77f18f01a5ad4551a8b7edfba20b8438b7cad4d94e6ad9378022ce4aab...\n"
     ]
    },
    {
     "data": {
      "application/vnd.jupyter.widget-view+json": {
       "model_id": "cb68f68c5fe94cea8691224d117dbf30",
       "version_major": 2,
       "version_minor": 0
      },
      "text/plain": [
       "Downloading data files:   0%|          | 0/1 [00:00<?, ?it/s]"
      ]
     },
     "metadata": {},
     "output_type": "display_data"
    },
    {
     "data": {
      "application/vnd.jupyter.widget-view+json": {
       "model_id": "cc2a4c0058f34aa7a48b5f7fce8893bf",
       "version_major": 2,
       "version_minor": 0
      },
      "text/plain": [
       "Downloading data:   0%|          | 0.00/19.2k [00:00<?, ?B/s]"
      ]
     },
     "metadata": {},
     "output_type": "display_data"
    },
    {
     "data": {
      "application/vnd.jupyter.widget-view+json": {
       "model_id": "30972ee37f214a12917e4ae102ea2b9e",
       "version_major": 2,
       "version_minor": 0
      },
      "text/plain": [
       "Extracting data files:   0%|          | 0/1 [00:00<?, ?it/s]"
      ]
     },
     "metadata": {},
     "output_type": "display_data"
    },
    {
     "data": {
      "application/vnd.jupyter.widget-view+json": {
       "model_id": "e2a2dfac776643209deb334dab8bfe06",
       "version_major": 2,
       "version_minor": 0
      },
      "text/plain": [
       "Generating train split: 0 examples [00:00, ? examples/s]"
      ]
     },
     "metadata": {},
     "output_type": "display_data"
    },
    {
     "name": "stdout",
     "output_type": "stream",
     "text": [
      "Dataset json downloaded and prepared to /Users/harm.devries/.cache/huggingface/datasets/loubnabnl___json/loubnabnl--the-stack-inspection-data-2b4c157c1056f30e/0.0.0/e6070c77f18f01a5ad4551a8b7edfba20b8438b7cad4d94e6ad9378022ce4aab. Subsequent calls will reuse this data.\n"
     ]
    },
    {
     "name": "stderr",
     "output_type": "stream",
     "text": [
      "\n",
      "9it [00:00, 2640.14it/s]"
     ]
    },
    {
     "name": "stdout",
     "output_type": "stream",
     "text": [
      "121\n",
      "javascript\n",
      "jsm\n"
     ]
    },
    {
     "name": "stderr",
     "output_type": "stream",
     "text": [
      "\n",
      "Using custom data configuration loubnabnl--the-stack-inspection-data-64483be0de4f02ad\n"
     ]
    },
    {
     "name": "stdout",
     "output_type": "stream",
     "text": [
      "Downloading and preparing dataset json/loubnabnl--the-stack-inspection-data to /Users/harm.devries/.cache/huggingface/datasets/loubnabnl___json/loubnabnl--the-stack-inspection-data-64483be0de4f02ad/0.0.0/e6070c77f18f01a5ad4551a8b7edfba20b8438b7cad4d94e6ad9378022ce4aab...\n"
     ]
    },
    {
     "data": {
      "application/vnd.jupyter.widget-view+json": {
       "model_id": "7bc10ea0ba1c424abff24691fe726139",
       "version_major": 2,
       "version_minor": 0
      },
      "text/plain": [
       "Downloading data files:   0%|          | 0/1 [00:00<?, ?it/s]"
      ]
     },
     "metadata": {},
     "output_type": "display_data"
    },
    {
     "data": {
      "application/vnd.jupyter.widget-view+json": {
       "model_id": "b2ef74792896420cb7e95fbd7f2598a5",
       "version_major": 2,
       "version_minor": 0
      },
      "text/plain": [
       "Downloading data:   0%|          | 0.00/12.6k [00:00<?, ?B/s]"
      ]
     },
     "metadata": {},
     "output_type": "display_data"
    },
    {
     "data": {
      "application/vnd.jupyter.widget-view+json": {
       "model_id": "e38df904770d4b09b19a1a2b32806f67",
       "version_major": 2,
       "version_minor": 0
      },
      "text/plain": [
       "Extracting data files:   0%|          | 0/1 [00:00<?, ?it/s]"
      ]
     },
     "metadata": {},
     "output_type": "display_data"
    },
    {
     "data": {
      "application/vnd.jupyter.widget-view+json": {
       "model_id": "e38358689d6c48bd89cf0095f8212c7c",
       "version_major": 2,
       "version_minor": 0
      },
      "text/plain": [
       "Generating train split: 0 examples [00:00, ? examples/s]"
      ]
     },
     "metadata": {},
     "output_type": "display_data"
    },
    {
     "name": "stdout",
     "output_type": "stream",
     "text": [
      "Dataset json downloaded and prepared to /Users/harm.devries/.cache/huggingface/datasets/loubnabnl___json/loubnabnl--the-stack-inspection-data-64483be0de4f02ad/0.0.0/e6070c77f18f01a5ad4551a8b7edfba20b8438b7cad4d94e6ad9378022ce4aab. Subsequent calls will reuse this data.\n"
     ]
    },
    {
     "name": "stderr",
     "output_type": "stream",
     "text": [
      "\n",
      "1it [00:00, 1030.79it/s]"
     ]
    },
    {
     "name": "stdout",
     "output_type": "stream",
     "text": [
      "122\n",
      "javascript\n",
      "pac\n"
     ]
    },
    {
     "name": "stderr",
     "output_type": "stream",
     "text": [
      "\n",
      "Using custom data configuration loubnabnl--the-stack-inspection-data-54f305a6ec638462\n"
     ]
    },
    {
     "name": "stdout",
     "output_type": "stream",
     "text": [
      "Downloading and preparing dataset json/loubnabnl--the-stack-inspection-data to /Users/harm.devries/.cache/huggingface/datasets/loubnabnl___json/loubnabnl--the-stack-inspection-data-54f305a6ec638462/0.0.0/e6070c77f18f01a5ad4551a8b7edfba20b8438b7cad4d94e6ad9378022ce4aab...\n"
     ]
    },
    {
     "data": {
      "application/vnd.jupyter.widget-view+json": {
       "model_id": "ab7836852e2948229e531f8eb245dae8",
       "version_major": 2,
       "version_minor": 0
      },
      "text/plain": [
       "Downloading data files:   0%|          | 0/1 [00:00<?, ?it/s]"
      ]
     },
     "metadata": {},
     "output_type": "display_data"
    },
    {
     "data": {
      "application/vnd.jupyter.widget-view+json": {
       "model_id": "40630fc616f0458dbbe6a11ae768612a",
       "version_major": 2,
       "version_minor": 0
      },
      "text/plain": [
       "Downloading data:   0%|          | 0.00/62.8k [00:00<?, ?B/s]"
      ]
     },
     "metadata": {},
     "output_type": "display_data"
    },
    {
     "data": {
      "application/vnd.jupyter.widget-view+json": {
       "model_id": "a81861bbac724741a93d950c04cd1bb2",
       "version_major": 2,
       "version_minor": 0
      },
      "text/plain": [
       "Extracting data files:   0%|          | 0/1 [00:00<?, ?it/s]"
      ]
     },
     "metadata": {},
     "output_type": "display_data"
    },
    {
     "data": {
      "application/vnd.jupyter.widget-view+json": {
       "model_id": "8304c12058e3479b955b121017f6156b",
       "version_major": 2,
       "version_minor": 0
      },
      "text/plain": [
       "Generating train split: 0 examples [00:00, ? examples/s]"
      ]
     },
     "metadata": {},
     "output_type": "display_data"
    },
    {
     "name": "stdout",
     "output_type": "stream",
     "text": [
      "Dataset json downloaded and prepared to /Users/harm.devries/.cache/huggingface/datasets/loubnabnl___json/loubnabnl--the-stack-inspection-data-54f305a6ec638462/0.0.0/e6070c77f18f01a5ad4551a8b7edfba20b8438b7cad4d94e6ad9378022ce4aab. Subsequent calls will reuse this data.\n"
     ]
    },
    {
     "name": "stderr",
     "output_type": "stream",
     "text": [
      "\n",
      "2it [00:00, 778.24it/s]"
     ]
    },
    {
     "name": "stdout",
     "output_type": "stream",
     "text": [
      "123\n",
      "javascript\n",
      "xsjslib\n"
     ]
    },
    {
     "name": "stderr",
     "output_type": "stream",
     "text": [
      "\n",
      "Using custom data configuration loubnabnl--the-stack-inspection-data-7f047e4689d1565f\n"
     ]
    },
    {
     "name": "stdout",
     "output_type": "stream",
     "text": [
      "Downloading and preparing dataset json/loubnabnl--the-stack-inspection-data to /Users/harm.devries/.cache/huggingface/datasets/loubnabnl___json/loubnabnl--the-stack-inspection-data-7f047e4689d1565f/0.0.0/e6070c77f18f01a5ad4551a8b7edfba20b8438b7cad4d94e6ad9378022ce4aab...\n"
     ]
    },
    {
     "data": {
      "application/vnd.jupyter.widget-view+json": {
       "model_id": "adf86d0adcc94513b5a088b431fa1cf3",
       "version_major": 2,
       "version_minor": 0
      },
      "text/plain": [
       "Downloading data files:   0%|          | 0/1 [00:00<?, ?it/s]"
      ]
     },
     "metadata": {},
     "output_type": "display_data"
    },
    {
     "data": {
      "application/vnd.jupyter.widget-view+json": {
       "model_id": "8a869debc33a43b69a3b4f906c52d348",
       "version_major": 2,
       "version_minor": 0
      },
      "text/plain": [
       "Downloading data:   0%|          | 0.00/1.16k [00:00<?, ?B/s]"
      ]
     },
     "metadata": {},
     "output_type": "display_data"
    },
    {
     "data": {
      "application/vnd.jupyter.widget-view+json": {
       "model_id": "ac69ee1397db40e0b763129be042a546",
       "version_major": 2,
       "version_minor": 0
      },
      "text/plain": [
       "Extracting data files:   0%|          | 0/1 [00:00<?, ?it/s]"
      ]
     },
     "metadata": {},
     "output_type": "display_data"
    },
    {
     "data": {
      "application/vnd.jupyter.widget-view+json": {
       "model_id": "61af6773cb8f4c3d98bffb2b1f6d8c32",
       "version_major": 2,
       "version_minor": 0
      },
      "text/plain": [
       "Generating train split: 0 examples [00:00, ? examples/s]"
      ]
     },
     "metadata": {},
     "output_type": "display_data"
    },
    {
     "name": "stdout",
     "output_type": "stream",
     "text": [
      "Dataset json downloaded and prepared to /Users/harm.devries/.cache/huggingface/datasets/loubnabnl___json/loubnabnl--the-stack-inspection-data-7f047e4689d1565f/0.0.0/e6070c77f18f01a5ad4551a8b7edfba20b8438b7cad4d94e6ad9378022ce4aab. Subsequent calls will reuse this data.\n"
     ]
    },
    {
     "name": "stderr",
     "output_type": "stream",
     "text": [
      "\n",
      "1it [00:00, 1979.38it/s]"
     ]
    },
    {
     "name": "stdout",
     "output_type": "stream",
     "text": [
      "124\n",
      "javascript\n",
      "sjs\n"
     ]
    },
    {
     "name": "stderr",
     "output_type": "stream",
     "text": [
      "\n",
      "Using custom data configuration loubnabnl--the-stack-inspection-data-f45774992dee56b6\n"
     ]
    },
    {
     "name": "stdout",
     "output_type": "stream",
     "text": [
      "Downloading and preparing dataset json/loubnabnl--the-stack-inspection-data to /Users/harm.devries/.cache/huggingface/datasets/loubnabnl___json/loubnabnl--the-stack-inspection-data-f45774992dee56b6/0.0.0/e6070c77f18f01a5ad4551a8b7edfba20b8438b7cad4d94e6ad9378022ce4aab...\n"
     ]
    },
    {
     "data": {
      "application/vnd.jupyter.widget-view+json": {
       "model_id": "01410616d4da46ae8ec466fcda8eb774",
       "version_major": 2,
       "version_minor": 0
      },
      "text/plain": [
       "Downloading data files:   0%|          | 0/1 [00:00<?, ?it/s]"
      ]
     },
     "metadata": {},
     "output_type": "display_data"
    },
    {
     "data": {
      "application/vnd.jupyter.widget-view+json": {
       "model_id": "2055272e4a86489e9e00a414e08f0f64",
       "version_major": 2,
       "version_minor": 0
      },
      "text/plain": [
       "Downloading data:   0%|          | 0.00/10.2k [00:00<?, ?B/s]"
      ]
     },
     "metadata": {},
     "output_type": "display_data"
    },
    {
     "data": {
      "application/vnd.jupyter.widget-view+json": {
       "model_id": "e8932b6319e9454583cf144d83228691",
       "version_major": 2,
       "version_minor": 0
      },
      "text/plain": [
       "Extracting data files:   0%|          | 0/1 [00:00<?, ?it/s]"
      ]
     },
     "metadata": {},
     "output_type": "display_data"
    },
    {
     "data": {
      "application/vnd.jupyter.widget-view+json": {
       "model_id": "7b2c0455649c453788f6b7f6dc1f60e9",
       "version_major": 2,
       "version_minor": 0
      },
      "text/plain": [
       "Generating train split: 0 examples [00:00, ? examples/s]"
      ]
     },
     "metadata": {},
     "output_type": "display_data"
    },
    {
     "name": "stdout",
     "output_type": "stream",
     "text": [
      "Dataset json downloaded and prepared to /Users/harm.devries/.cache/huggingface/datasets/loubnabnl___json/loubnabnl--the-stack-inspection-data-f45774992dee56b6/0.0.0/e6070c77f18f01a5ad4551a8b7edfba20b8438b7cad4d94e6ad9378022ce4aab. Subsequent calls will reuse this data.\n"
     ]
    },
    {
     "name": "stderr",
     "output_type": "stream",
     "text": [
      "\n",
      "3it [00:00, 2286.55it/s]"
     ]
    },
    {
     "name": "stdout",
     "output_type": "stream",
     "text": [
      "125\n",
      "stan\n",
      "stan\n"
     ]
    },
    {
     "name": "stderr",
     "output_type": "stream",
     "text": [
      "\n",
      "Using custom data configuration loubnabnl--the-stack-inspection-data-df5d38a479f68f47\n"
     ]
    },
    {
     "name": "stdout",
     "output_type": "stream",
     "text": [
      "Downloading and preparing dataset json/loubnabnl--the-stack-inspection-data to /Users/harm.devries/.cache/huggingface/datasets/loubnabnl___json/loubnabnl--the-stack-inspection-data-df5d38a479f68f47/0.0.0/e6070c77f18f01a5ad4551a8b7edfba20b8438b7cad4d94e6ad9378022ce4aab...\n"
     ]
    },
    {
     "data": {
      "application/vnd.jupyter.widget-view+json": {
       "model_id": "12ad94f4112d4b40bd9a1c6fd35bcd63",
       "version_major": 2,
       "version_minor": 0
      },
      "text/plain": [
       "Downloading data files:   0%|          | 0/1 [00:00<?, ?it/s]"
      ]
     },
     "metadata": {},
     "output_type": "display_data"
    },
    {
     "data": {
      "application/vnd.jupyter.widget-view+json": {
       "model_id": "8e1c5ba07ce8492b9b893984146ad3cf",
       "version_major": 2,
       "version_minor": 0
      },
      "text/plain": [
       "Downloading data:   0%|          | 0.00/14.6M [00:00<?, ?B/s]"
      ]
     },
     "metadata": {},
     "output_type": "display_data"
    },
    {
     "data": {
      "application/vnd.jupyter.widget-view+json": {
       "model_id": "b0a3279d32d64bfdb1b4287024ee2419",
       "version_major": 2,
       "version_minor": 0
      },
      "text/plain": [
       "Extracting data files:   0%|          | 0/1 [00:00<?, ?it/s]"
      ]
     },
     "metadata": {},
     "output_type": "display_data"
    },
    {
     "data": {
      "application/vnd.jupyter.widget-view+json": {
       "model_id": "ce2dc08173224f19a5c1cd955c3210bf",
       "version_major": 2,
       "version_minor": 0
      },
      "text/plain": [
       "Generating train split: 0 examples [00:00, ? examples/s]"
      ]
     },
     "metadata": {},
     "output_type": "display_data"
    },
    {
     "name": "stdout",
     "output_type": "stream",
     "text": [
      "Dataset json downloaded and prepared to /Users/harm.devries/.cache/huggingface/datasets/loubnabnl___json/loubnabnl--the-stack-inspection-data-df5d38a479f68f47/0.0.0/e6070c77f18f01a5ad4551a8b7edfba20b8438b7cad4d94e6ad9378022ce4aab. Subsequent calls will reuse this data.\n"
     ]
    },
    {
     "name": "stderr",
     "output_type": "stream",
     "text": [
      "1000it [00:00, 1891.44it/s]\n"
     ]
    },
    {
     "name": "stdout",
     "output_type": "stream",
     "text": [
      "126\n",
      "julia\n",
      "jl\n"
     ]
    },
    {
     "name": "stderr",
     "output_type": "stream",
     "text": [
      "Using custom data configuration loubnabnl--the-stack-inspection-data-8f2d641c38390832\n"
     ]
    },
    {
     "name": "stdout",
     "output_type": "stream",
     "text": [
      "Downloading and preparing dataset json/loubnabnl--the-stack-inspection-data to /Users/harm.devries/.cache/huggingface/datasets/loubnabnl___json/loubnabnl--the-stack-inspection-data-8f2d641c38390832/0.0.0/e6070c77f18f01a5ad4551a8b7edfba20b8438b7cad4d94e6ad9378022ce4aab...\n"
     ]
    },
    {
     "data": {
      "application/vnd.jupyter.widget-view+json": {
       "model_id": "96ee99a714ef4cceb6057c22485c9fab",
       "version_major": 2,
       "version_minor": 0
      },
      "text/plain": [
       "Downloading data files:   0%|          | 0/1 [00:00<?, ?it/s]"
      ]
     },
     "metadata": {},
     "output_type": "display_data"
    },
    {
     "data": {
      "application/vnd.jupyter.widget-view+json": {
       "model_id": "59e4ef80317f413b999804ec405cb5a9",
       "version_major": 2,
       "version_minor": 0
      },
      "text/plain": [
       "Downloading data:   0%|          | 0.00/7.77M [00:00<?, ?B/s]"
      ]
     },
     "metadata": {},
     "output_type": "display_data"
    },
    {
     "data": {
      "application/vnd.jupyter.widget-view+json": {
       "model_id": "21d820bc37b743068a746ebb108b2315",
       "version_major": 2,
       "version_minor": 0
      },
      "text/plain": [
       "Extracting data files:   0%|          | 0/1 [00:00<?, ?it/s]"
      ]
     },
     "metadata": {},
     "output_type": "display_data"
    },
    {
     "data": {
      "application/vnd.jupyter.widget-view+json": {
       "model_id": "b5a39ec7d99f48c08aa0e59a9f11c829",
       "version_major": 2,
       "version_minor": 0
      },
      "text/plain": [
       "Generating train split: 0 examples [00:00, ? examples/s]"
      ]
     },
     "metadata": {},
     "output_type": "display_data"
    },
    {
     "name": "stdout",
     "output_type": "stream",
     "text": [
      "Dataset json downloaded and prepared to /Users/harm.devries/.cache/huggingface/datasets/loubnabnl___json/loubnabnl--the-stack-inspection-data-8f2d641c38390832/0.0.0/e6070c77f18f01a5ad4551a8b7edfba20b8438b7cad4d94e6ad9378022ce4aab. Subsequent calls will reuse this data.\n"
     ]
    },
    {
     "name": "stderr",
     "output_type": "stream",
     "text": [
      "1000it [00:00, 3481.76it/s]\n"
     ]
    },
    {
     "name": "stdout",
     "output_type": "stream",
     "text": [
      "127\n",
      "kotlin\n",
      "kt\n"
     ]
    },
    {
     "name": "stderr",
     "output_type": "stream",
     "text": [
      "Using custom data configuration loubnabnl--the-stack-inspection-data-56b11b06cbfb84bb\n"
     ]
    },
    {
     "name": "stdout",
     "output_type": "stream",
     "text": [
      "Downloading and preparing dataset json/loubnabnl--the-stack-inspection-data to /Users/harm.devries/.cache/huggingface/datasets/loubnabnl___json/loubnabnl--the-stack-inspection-data-56b11b06cbfb84bb/0.0.0/e6070c77f18f01a5ad4551a8b7edfba20b8438b7cad4d94e6ad9378022ce4aab...\n"
     ]
    },
    {
     "data": {
      "application/vnd.jupyter.widget-view+json": {
       "model_id": "694586b4fbb0464093386276ba2679c6",
       "version_major": 2,
       "version_minor": 0
      },
      "text/plain": [
       "Downloading data files:   0%|          | 0/1 [00:00<?, ?it/s]"
      ]
     },
     "metadata": {},
     "output_type": "display_data"
    },
    {
     "data": {
      "application/vnd.jupyter.widget-view+json": {
       "model_id": "1a976bf567604ee5b1ad6afd41a3af0d",
       "version_major": 2,
       "version_minor": 0
      },
      "text/plain": [
       "Downloading data:   0%|          | 0.00/3.86M [00:00<?, ?B/s]"
      ]
     },
     "metadata": {},
     "output_type": "display_data"
    },
    {
     "data": {
      "application/vnd.jupyter.widget-view+json": {
       "model_id": "2a0ca5fc461c4dd8b2ac9c917956d5cf",
       "version_major": 2,
       "version_minor": 0
      },
      "text/plain": [
       "Extracting data files:   0%|          | 0/1 [00:00<?, ?it/s]"
      ]
     },
     "metadata": {},
     "output_type": "display_data"
    },
    {
     "data": {
      "application/vnd.jupyter.widget-view+json": {
       "model_id": "d65fe7aa624a4234ba615e98d444eb14",
       "version_major": 2,
       "version_minor": 0
      },
      "text/plain": [
       "Generating train split: 0 examples [00:00, ? examples/s]"
      ]
     },
     "metadata": {},
     "output_type": "display_data"
    },
    {
     "name": "stdout",
     "output_type": "stream",
     "text": [
      "Dataset json downloaded and prepared to /Users/harm.devries/.cache/huggingface/datasets/loubnabnl___json/loubnabnl--the-stack-inspection-data-56b11b06cbfb84bb/0.0.0/e6070c77f18f01a5ad4551a8b7edfba20b8438b7cad4d94e6ad9378022ce4aab. Subsequent calls will reuse this data.\n"
     ]
    },
    {
     "name": "stderr",
     "output_type": "stream",
     "text": [
      "\n",
      "0it [00:00, ?it/s]\u001b[A\n",
      "1000it [00:00, 5178.31it/s][A"
     ]
    },
    {
     "name": "stdout",
     "output_type": "stream",
     "text": [
      "128"
     ]
    },
    {
     "name": "stderr",
     "output_type": "stream",
     "text": [
      "\n"
     ]
    },
    {
     "name": "stdout",
     "output_type": "stream",
     "text": [
      "\n",
      "kotlin\n",
      "kts\n"
     ]
    },
    {
     "name": "stderr",
     "output_type": "stream",
     "text": [
      "Using custom data configuration loubnabnl--the-stack-inspection-data-a086475cf506e649\n"
     ]
    },
    {
     "name": "stdout",
     "output_type": "stream",
     "text": [
      "Downloading and preparing dataset json/loubnabnl--the-stack-inspection-data to /Users/harm.devries/.cache/huggingface/datasets/loubnabnl___json/loubnabnl--the-stack-inspection-data-a086475cf506e649/0.0.0/e6070c77f18f01a5ad4551a8b7edfba20b8438b7cad4d94e6ad9378022ce4aab...\n"
     ]
    },
    {
     "data": {
      "application/vnd.jupyter.widget-view+json": {
       "model_id": "c353323449b54be994394ffce7cae488",
       "version_major": 2,
       "version_minor": 0
      },
      "text/plain": [
       "Downloading data files:   0%|          | 0/1 [00:00<?, ?it/s]"
      ]
     },
     "metadata": {},
     "output_type": "display_data"
    },
    {
     "data": {
      "application/vnd.jupyter.widget-view+json": {
       "model_id": "c03b65989a344f6795ad777035b971d8",
       "version_major": 2,
       "version_minor": 0
      },
      "text/plain": [
       "Downloading data:   0%|          | 0.00/1.69M [00:00<?, ?B/s]"
      ]
     },
     "metadata": {},
     "output_type": "display_data"
    },
    {
     "data": {
      "application/vnd.jupyter.widget-view+json": {
       "model_id": "86a5c0739b6c4d34a2fbd91359f8a016",
       "version_major": 2,
       "version_minor": 0
      },
      "text/plain": [
       "Extracting data files:   0%|          | 0/1 [00:00<?, ?it/s]"
      ]
     },
     "metadata": {},
     "output_type": "display_data"
    },
    {
     "data": {
      "application/vnd.jupyter.widget-view+json": {
       "model_id": "1c036c981ab146e8ba83d71baacc37f6",
       "version_major": 2,
       "version_minor": 0
      },
      "text/plain": [
       "Generating train split: 0 examples [00:00, ? examples/s]"
      ]
     },
     "metadata": {},
     "output_type": "display_data"
    },
    {
     "name": "stdout",
     "output_type": "stream",
     "text": [
      "Dataset json downloaded and prepared to /Users/harm.devries/.cache/huggingface/datasets/loubnabnl___json/loubnabnl--the-stack-inspection-data-a086475cf506e649/0.0.0/e6070c77f18f01a5ad4551a8b7edfba20b8438b7cad4d94e6ad9378022ce4aab. Subsequent calls will reuse this data.\n"
     ]
    },
    {
     "name": "stderr",
     "output_type": "stream",
     "text": [
      "\n",
      "669it [00:00, 7411.63it/s]"
     ]
    },
    {
     "name": "stdout",
     "output_type": "stream",
     "text": [
      "129\n",
      "lean\n",
      "lean\n"
     ]
    },
    {
     "name": "stderr",
     "output_type": "stream",
     "text": [
      "\n",
      "Using custom data configuration loubnabnl--the-stack-inspection-data-50e358068666ecc0\n"
     ]
    },
    {
     "name": "stdout",
     "output_type": "stream",
     "text": [
      "Downloading and preparing dataset json/loubnabnl--the-stack-inspection-data to /Users/harm.devries/.cache/huggingface/datasets/loubnabnl___json/loubnabnl--the-stack-inspection-data-50e358068666ecc0/0.0.0/e6070c77f18f01a5ad4551a8b7edfba20b8438b7cad4d94e6ad9378022ce4aab...\n"
     ]
    },
    {
     "data": {
      "application/vnd.jupyter.widget-view+json": {
       "model_id": "0becbc3d43d34eb6bc940168f16db245",
       "version_major": 2,
       "version_minor": 0
      },
      "text/plain": [
       "Downloading data files:   0%|          | 0/1 [00:00<?, ?it/s]"
      ]
     },
     "metadata": {},
     "output_type": "display_data"
    },
    {
     "data": {
      "application/vnd.jupyter.widget-view+json": {
       "model_id": "5fac05987530407db373554fe29dbf36",
       "version_major": 2,
       "version_minor": 0
      },
      "text/plain": [
       "Downloading data:   0%|          | 0.00/19.2M [00:00<?, ?B/s]"
      ]
     },
     "metadata": {},
     "output_type": "display_data"
    },
    {
     "data": {
      "application/vnd.jupyter.widget-view+json": {
       "model_id": "f3e22341ac2141d19eeec7335e8334d9",
       "version_major": 2,
       "version_minor": 0
      },
      "text/plain": [
       "Extracting data files:   0%|          | 0/1 [00:00<?, ?it/s]"
      ]
     },
     "metadata": {},
     "output_type": "display_data"
    },
    {
     "data": {
      "application/vnd.jupyter.widget-view+json": {
       "model_id": "b2bf712acb724bde828ac94762be6e2d",
       "version_major": 2,
       "version_minor": 0
      },
      "text/plain": [
       "Generating train split: 0 examples [00:00, ? examples/s]"
      ]
     },
     "metadata": {},
     "output_type": "display_data"
    },
    {
     "name": "stdout",
     "output_type": "stream",
     "text": [
      "Dataset json downloaded and prepared to /Users/harm.devries/.cache/huggingface/datasets/loubnabnl___json/loubnabnl--the-stack-inspection-data-50e358068666ecc0/0.0.0/e6070c77f18f01a5ad4551a8b7edfba20b8438b7cad4d94e6ad9378022ce4aab. Subsequent calls will reuse this data.\n"
     ]
    },
    {
     "name": "stderr",
     "output_type": "stream",
     "text": [
      "1000it [00:00, 1582.41it/s]\n"
     ]
    },
    {
     "name": "stdout",
     "output_type": "stream",
     "text": [
      "130\n",
      "lean\n",
      "hlean\n"
     ]
    },
    {
     "name": "stderr",
     "output_type": "stream",
     "text": [
      "Using custom data configuration loubnabnl--the-stack-inspection-data-061da505ae4466fd\n"
     ]
    },
    {
     "name": "stdout",
     "output_type": "stream",
     "text": [
      "Downloading and preparing dataset json/loubnabnl--the-stack-inspection-data to /Users/harm.devries/.cache/huggingface/datasets/loubnabnl___json/loubnabnl--the-stack-inspection-data-061da505ae4466fd/0.0.0/e6070c77f18f01a5ad4551a8b7edfba20b8438b7cad4d94e6ad9378022ce4aab...\n"
     ]
    },
    {
     "data": {
      "application/vnd.jupyter.widget-view+json": {
       "model_id": "0b815d93c07047539830dec1e39e570d",
       "version_major": 2,
       "version_minor": 0
      },
      "text/plain": [
       "Downloading data files:   0%|          | 0/1 [00:00<?, ?it/s]"
      ]
     },
     "metadata": {},
     "output_type": "display_data"
    },
    {
     "data": {
      "application/vnd.jupyter.widget-view+json": {
       "model_id": "d6d62e75c59c4e93ac9dc05cbdf35aa9",
       "version_major": 2,
       "version_minor": 0
      },
      "text/plain": [
       "Downloading data:   0%|          | 0.00/3.17M [00:00<?, ?B/s]"
      ]
     },
     "metadata": {},
     "output_type": "display_data"
    },
    {
     "data": {
      "application/vnd.jupyter.widget-view+json": {
       "model_id": "0a5c7889dff84118b332e1e1a4a59deb",
       "version_major": 2,
       "version_minor": 0
      },
      "text/plain": [
       "Extracting data files:   0%|          | 0/1 [00:00<?, ?it/s]"
      ]
     },
     "metadata": {},
     "output_type": "display_data"
    },
    {
     "data": {
      "application/vnd.jupyter.widget-view+json": {
       "model_id": "656dfafada734911ae87634708079a05",
       "version_major": 2,
       "version_minor": 0
      },
      "text/plain": [
       "Generating train split: 0 examples [00:00, ? examples/s]"
      ]
     },
     "metadata": {},
     "output_type": "display_data"
    },
    {
     "name": "stdout",
     "output_type": "stream",
     "text": [
      "Dataset json downloaded and prepared to /Users/harm.devries/.cache/huggingface/datasets/loubnabnl___json/loubnabnl--the-stack-inspection-data-061da505ae4466fd/0.0.0/e6070c77f18f01a5ad4551a8b7edfba20b8438b7cad4d94e6ad9378022ce4aab. Subsequent calls will reuse this data.\n"
     ]
    },
    {
     "name": "stderr",
     "output_type": "stream",
     "text": [
      "\n",
      "268it [00:00, 2778.87it/s]"
     ]
    },
    {
     "name": "stdout",
     "output_type": "stream",
     "text": [
      "131\n",
      "literate-agda\n",
      "lagda\n"
     ]
    },
    {
     "name": "stderr",
     "output_type": "stream",
     "text": [
      "\n",
      "Using custom data configuration loubnabnl--the-stack-inspection-data-86f9d1eafedcb4dd\n"
     ]
    },
    {
     "name": "stdout",
     "output_type": "stream",
     "text": [
      "Downloading and preparing dataset json/loubnabnl--the-stack-inspection-data to /Users/harm.devries/.cache/huggingface/datasets/loubnabnl___json/loubnabnl--the-stack-inspection-data-86f9d1eafedcb4dd/0.0.0/e6070c77f18f01a5ad4551a8b7edfba20b8438b7cad4d94e6ad9378022ce4aab...\n"
     ]
    },
    {
     "data": {
      "application/vnd.jupyter.widget-view+json": {
       "model_id": "c5c9e827b89445dc8f6dd66b4cfe1fb5",
       "version_major": 2,
       "version_minor": 0
      },
      "text/plain": [
       "Downloading data files:   0%|          | 0/1 [00:00<?, ?it/s]"
      ]
     },
     "metadata": {},
     "output_type": "display_data"
    },
    {
     "data": {
      "application/vnd.jupyter.widget-view+json": {
       "model_id": "752b84bed960496eb299e95ad13361fb",
       "version_major": 2,
       "version_minor": 0
      },
      "text/plain": [
       "Downloading data:   0%|          | 0.00/17.1M [00:00<?, ?B/s]"
      ]
     },
     "metadata": {},
     "output_type": "display_data"
    },
    {
     "data": {
      "application/vnd.jupyter.widget-view+json": {
       "model_id": "944078301cdf4bfebe724e0a6679dd94",
       "version_major": 2,
       "version_minor": 0
      },
      "text/plain": [
       "Extracting data files:   0%|          | 0/1 [00:00<?, ?it/s]"
      ]
     },
     "metadata": {},
     "output_type": "display_data"
    },
    {
     "data": {
      "application/vnd.jupyter.widget-view+json": {
       "model_id": "a7e7c3d9077d42f6a51952479c22e4df",
       "version_major": 2,
       "version_minor": 0
      },
      "text/plain": [
       "Generating train split: 0 examples [00:00, ? examples/s]"
      ]
     },
     "metadata": {},
     "output_type": "display_data"
    },
    {
     "name": "stdout",
     "output_type": "stream",
     "text": [
      "Dataset json downloaded and prepared to /Users/harm.devries/.cache/huggingface/datasets/loubnabnl___json/loubnabnl--the-stack-inspection-data-86f9d1eafedcb4dd/0.0.0/e6070c77f18f01a5ad4551a8b7edfba20b8438b7cad4d94e6ad9378022ce4aab. Subsequent calls will reuse this data.\n"
     ]
    },
    {
     "name": "stderr",
     "output_type": "stream",
     "text": [
      "1000it [00:00, 2242.57it/s]\n"
     ]
    },
    {
     "name": "stdout",
     "output_type": "stream",
     "text": [
      "132\n",
      "literate-coffeescript\n",
      "litcoffee\n"
     ]
    },
    {
     "name": "stderr",
     "output_type": "stream",
     "text": [
      "Using custom data configuration loubnabnl--the-stack-inspection-data-859b2483c2b15ea3\n"
     ]
    },
    {
     "name": "stdout",
     "output_type": "stream",
     "text": [
      "Downloading and preparing dataset json/loubnabnl--the-stack-inspection-data to /Users/harm.devries/.cache/huggingface/datasets/loubnabnl___json/loubnabnl--the-stack-inspection-data-859b2483c2b15ea3/0.0.0/e6070c77f18f01a5ad4551a8b7edfba20b8438b7cad4d94e6ad9378022ce4aab...\n"
     ]
    },
    {
     "data": {
      "application/vnd.jupyter.widget-view+json": {
       "model_id": "76932285a498448c82ab7ea078fc19a5",
       "version_major": 2,
       "version_minor": 0
      },
      "text/plain": [
       "Downloading data files:   0%|          | 0/1 [00:00<?, ?it/s]"
      ]
     },
     "metadata": {},
     "output_type": "display_data"
    },
    {
     "data": {
      "application/vnd.jupyter.widget-view+json": {
       "model_id": "d758730246904efdb0f612cdfde399b5",
       "version_major": 2,
       "version_minor": 0
      },
      "text/plain": [
       "Downloading data:   0%|          | 0.00/5.56M [00:00<?, ?B/s]"
      ]
     },
     "metadata": {},
     "output_type": "display_data"
    },
    {
     "data": {
      "application/vnd.jupyter.widget-view+json": {
       "model_id": "dc2a37e6573446cf8adcf9af7f416ff5",
       "version_major": 2,
       "version_minor": 0
      },
      "text/plain": [
       "Extracting data files:   0%|          | 0/1 [00:00<?, ?it/s]"
      ]
     },
     "metadata": {},
     "output_type": "display_data"
    },
    {
     "data": {
      "application/vnd.jupyter.widget-view+json": {
       "model_id": "57a3479a874a4426abf6da7f38a17f1d",
       "version_major": 2,
       "version_minor": 0
      },
      "text/plain": [
       "Generating train split: 0 examples [00:00, ? examples/s]"
      ]
     },
     "metadata": {},
     "output_type": "display_data"
    },
    {
     "name": "stdout",
     "output_type": "stream",
     "text": [
      "Dataset json downloaded and prepared to /Users/harm.devries/.cache/huggingface/datasets/loubnabnl___json/loubnabnl--the-stack-inspection-data-859b2483c2b15ea3/0.0.0/e6070c77f18f01a5ad4551a8b7edfba20b8438b7cad4d94e6ad9378022ce4aab. Subsequent calls will reuse this data.\n"
     ]
    },
    {
     "name": "stderr",
     "output_type": "stream",
     "text": [
      "1000it [00:00, 4759.57it/s]\n"
     ]
    },
    {
     "name": "stdout",
     "output_type": "stream",
     "text": [
      "133\n",
      "literate-haskell\n",
      "lhs\n"
     ]
    },
    {
     "name": "stderr",
     "output_type": "stream",
     "text": [
      "Using custom data configuration loubnabnl--the-stack-inspection-data-e22ed08f333d664d\n"
     ]
    },
    {
     "name": "stdout",
     "output_type": "stream",
     "text": [
      "Downloading and preparing dataset json/loubnabnl--the-stack-inspection-data to /Users/harm.devries/.cache/huggingface/datasets/loubnabnl___json/loubnabnl--the-stack-inspection-data-e22ed08f333d664d/0.0.0/e6070c77f18f01a5ad4551a8b7edfba20b8438b7cad4d94e6ad9378022ce4aab...\n"
     ]
    },
    {
     "data": {
      "application/vnd.jupyter.widget-view+json": {
       "model_id": "77b4edc54aea4ec18ee61d0ea9748dfe",
       "version_major": 2,
       "version_minor": 0
      },
      "text/plain": [
       "Downloading data files:   0%|          | 0/1 [00:00<?, ?it/s]"
      ]
     },
     "metadata": {},
     "output_type": "display_data"
    },
    {
     "data": {
      "application/vnd.jupyter.widget-view+json": {
       "model_id": "7e2877dab95047b4960f4612f3daf6f3",
       "version_major": 2,
       "version_minor": 0
      },
      "text/plain": [
       "Downloading data:   0%|          | 0.00/18.0M [00:00<?, ?B/s]"
      ]
     },
     "metadata": {},
     "output_type": "display_data"
    },
    {
     "data": {
      "application/vnd.jupyter.widget-view+json": {
       "model_id": "f3827ebe30a64c429a78e5444cda4413",
       "version_major": 2,
       "version_minor": 0
      },
      "text/plain": [
       "Extracting data files:   0%|          | 0/1 [00:00<?, ?it/s]"
      ]
     },
     "metadata": {},
     "output_type": "display_data"
    },
    {
     "data": {
      "application/vnd.jupyter.widget-view+json": {
       "model_id": "c9a9de9c53c44363994650a66175cdc1",
       "version_major": 2,
       "version_minor": 0
      },
      "text/plain": [
       "Generating train split: 0 examples [00:00, ? examples/s]"
      ]
     },
     "metadata": {},
     "output_type": "display_data"
    },
    {
     "name": "stdout",
     "output_type": "stream",
     "text": [
      "Dataset json downloaded and prepared to /Users/harm.devries/.cache/huggingface/datasets/loubnabnl___json/loubnabnl--the-stack-inspection-data-e22ed08f333d664d/0.0.0/e6070c77f18f01a5ad4551a8b7edfba20b8438b7cad4d94e6ad9378022ce4aab. Subsequent calls will reuse this data.\n"
     ]
    },
    {
     "name": "stderr",
     "output_type": "stream",
     "text": [
      "1000it [00:00, 1838.05it/s]\n"
     ]
    },
    {
     "name": "stdout",
     "output_type": "stream",
     "text": [
      "134\n",
      "lua\n",
      "lua\n"
     ]
    },
    {
     "name": "stderr",
     "output_type": "stream",
     "text": [
      "Using custom data configuration loubnabnl--the-stack-inspection-data-dd4480700003872b\n"
     ]
    },
    {
     "name": "stdout",
     "output_type": "stream",
     "text": [
      "Downloading and preparing dataset json/loubnabnl--the-stack-inspection-data to /Users/harm.devries/.cache/huggingface/datasets/loubnabnl___json/loubnabnl--the-stack-inspection-data-dd4480700003872b/0.0.0/e6070c77f18f01a5ad4551a8b7edfba20b8438b7cad4d94e6ad9378022ce4aab...\n"
     ]
    },
    {
     "data": {
      "application/vnd.jupyter.widget-view+json": {
       "model_id": "4790dcd67f54467c8629f3f2453a81b5",
       "version_major": 2,
       "version_minor": 0
      },
      "text/plain": [
       "Downloading data files:   0%|          | 0/1 [00:00<?, ?it/s]"
      ]
     },
     "metadata": {},
     "output_type": "display_data"
    },
    {
     "data": {
      "application/vnd.jupyter.widget-view+json": {
       "model_id": "ecae8ece0ec14f25bb0a3bf21e2c9f95",
       "version_major": 2,
       "version_minor": 0
      },
      "text/plain": [
       "Downloading data:   0%|          | 0.00/8.61M [00:00<?, ?B/s]"
      ]
     },
     "metadata": {},
     "output_type": "display_data"
    },
    {
     "data": {
      "application/vnd.jupyter.widget-view+json": {
       "model_id": "10c490f477b04dad9e2d259996cf05f8",
       "version_major": 2,
       "version_minor": 0
      },
      "text/plain": [
       "Extracting data files:   0%|          | 0/1 [00:00<?, ?it/s]"
      ]
     },
     "metadata": {},
     "output_type": "display_data"
    },
    {
     "data": {
      "application/vnd.jupyter.widget-view+json": {
       "model_id": "3c866383c8e24cc194a31ece17871d6e",
       "version_major": 2,
       "version_minor": 0
      },
      "text/plain": [
       "Generating train split: 0 examples [00:00, ? examples/s]"
      ]
     },
     "metadata": {},
     "output_type": "display_data"
    },
    {
     "name": "stdout",
     "output_type": "stream",
     "text": [
      "Dataset json downloaded and prepared to /Users/harm.devries/.cache/huggingface/datasets/loubnabnl___json/loubnabnl--the-stack-inspection-data-dd4480700003872b/0.0.0/e6070c77f18f01a5ad4551a8b7edfba20b8438b7cad4d94e6ad9378022ce4aab. Subsequent calls will reuse this data.\n"
     ]
    },
    {
     "name": "stderr",
     "output_type": "stream",
     "text": [
      "\n",
      "0it [00:00, ?it/s]\u001b[A\n",
      "331it [00:00, 3260.22it/s]\u001b[A\n",
      "1000it [00:00, 3491.96it/s][A\n"
     ]
    },
    {
     "name": "stdout",
     "output_type": "stream",
     "text": [
      "135\n",
      "lua\n",
      "nse\n"
     ]
    },
    {
     "name": "stderr",
     "output_type": "stream",
     "text": [
      "Using custom data configuration loubnabnl--the-stack-inspection-data-4b606ff33f0f2813\n"
     ]
    },
    {
     "name": "stdout",
     "output_type": "stream",
     "text": [
      "Downloading and preparing dataset json/loubnabnl--the-stack-inspection-data to /Users/harm.devries/.cache/huggingface/datasets/loubnabnl___json/loubnabnl--the-stack-inspection-data-4b606ff33f0f2813/0.0.0/e6070c77f18f01a5ad4551a8b7edfba20b8438b7cad4d94e6ad9378022ce4aab...\n"
     ]
    },
    {
     "data": {
      "application/vnd.jupyter.widget-view+json": {
       "model_id": "dbf706ed5b6e416688ff66547cddcd93",
       "version_major": 2,
       "version_minor": 0
      },
      "text/plain": [
       "Downloading data files:   0%|          | 0/1 [00:00<?, ?it/s]"
      ]
     },
     "metadata": {},
     "output_type": "display_data"
    },
    {
     "data": {
      "application/vnd.jupyter.widget-view+json": {
       "model_id": "e7199237fc5442ca8b8b4b7058f988d0",
       "version_major": 2,
       "version_minor": 0
      },
      "text/plain": [
       "Downloading data:   0%|          | 0.00/595k [00:00<?, ?B/s]"
      ]
     },
     "metadata": {},
     "output_type": "display_data"
    },
    {
     "data": {
      "application/vnd.jupyter.widget-view+json": {
       "model_id": "4becbe68ec134b069833740aa17129a6",
       "version_major": 2,
       "version_minor": 0
      },
      "text/plain": [
       "Extracting data files:   0%|          | 0/1 [00:00<?, ?it/s]"
      ]
     },
     "metadata": {},
     "output_type": "display_data"
    },
    {
     "data": {
      "application/vnd.jupyter.widget-view+json": {
       "model_id": "dad4f72b002d4d559f71c3563c0e131c",
       "version_major": 2,
       "version_minor": 0
      },
      "text/plain": [
       "Generating train split: 0 examples [00:00, ? examples/s]"
      ]
     },
     "metadata": {},
     "output_type": "display_data"
    },
    {
     "name": "stdout",
     "output_type": "stream",
     "text": [
      "Dataset json downloaded and prepared to /Users/harm.devries/.cache/huggingface/datasets/loubnabnl___json/loubnabnl--the-stack-inspection-data-4b606ff33f0f2813/0.0.0/e6070c77f18f01a5ad4551a8b7edfba20b8438b7cad4d94e6ad9378022ce4aab. Subsequent calls will reuse this data.\n"
     ]
    },
    {
     "name": "stderr",
     "output_type": "stream",
     "text": [
      "\n",
      "91it [00:00, 3794.96it/s]"
     ]
    },
    {
     "name": "stdout",
     "output_type": "stream",
     "text": [
      "136\n",
      "lua\n",
      "wlua\n"
     ]
    },
    {
     "name": "stderr",
     "output_type": "stream",
     "text": [
      "\n",
      "Using custom data configuration loubnabnl--the-stack-inspection-data-027b213e3fd139ed\n"
     ]
    },
    {
     "name": "stdout",
     "output_type": "stream",
     "text": [
      "Downloading and preparing dataset json/loubnabnl--the-stack-inspection-data to /Users/harm.devries/.cache/huggingface/datasets/loubnabnl___json/loubnabnl--the-stack-inspection-data-027b213e3fd139ed/0.0.0/e6070c77f18f01a5ad4551a8b7edfba20b8438b7cad4d94e6ad9378022ce4aab...\n"
     ]
    },
    {
     "data": {
      "application/vnd.jupyter.widget-view+json": {
       "model_id": "b109d9a24f324f3489f8ba7ba7990274",
       "version_major": 2,
       "version_minor": 0
      },
      "text/plain": [
       "Downloading data files:   0%|          | 0/1 [00:00<?, ?it/s]"
      ]
     },
     "metadata": {},
     "output_type": "display_data"
    },
    {
     "data": {
      "application/vnd.jupyter.widget-view+json": {
       "model_id": "5300066f7caf47cda6abba2b590f1f1e",
       "version_major": 2,
       "version_minor": 0
      },
      "text/plain": [
       "Downloading data:   0%|          | 0.00/70.3k [00:00<?, ?B/s]"
      ]
     },
     "metadata": {},
     "output_type": "display_data"
    },
    {
     "data": {
      "application/vnd.jupyter.widget-view+json": {
       "model_id": "d94c7de627234ca3aa65895f389725cd",
       "version_major": 2,
       "version_minor": 0
      },
      "text/plain": [
       "Extracting data files:   0%|          | 0/1 [00:00<?, ?it/s]"
      ]
     },
     "metadata": {},
     "output_type": "display_data"
    },
    {
     "data": {
      "application/vnd.jupyter.widget-view+json": {
       "model_id": "8e32f3c67a7d43e49c50cceb1f43c844",
       "version_major": 2,
       "version_minor": 0
      },
      "text/plain": [
       "Generating train split: 0 examples [00:00, ? examples/s]"
      ]
     },
     "metadata": {},
     "output_type": "display_data"
    },
    {
     "name": "stdout",
     "output_type": "stream",
     "text": [
      "Dataset json downloaded and prepared to /Users/harm.devries/.cache/huggingface/datasets/loubnabnl___json/loubnabnl--the-stack-inspection-data-027b213e3fd139ed/0.0.0/e6070c77f18f01a5ad4551a8b7edfba20b8438b7cad4d94e6ad9378022ce4aab. Subsequent calls will reuse this data.\n"
     ]
    },
    {
     "name": "stderr",
     "output_type": "stream",
     "text": [
      "\n",
      "8it [00:00, 2614.50it/s]"
     ]
    },
    {
     "name": "stdout",
     "output_type": "stream",
     "text": [
      "137\n",
      "makefile\n",
      "nan\n",
      "138\n",
      "makefile\n",
      "mk\n"
     ]
    },
    {
     "name": "stderr",
     "output_type": "stream",
     "text": [
      "\n",
      "Using custom data configuration loubnabnl--the-stack-inspection-data-ac00320397f67d6b\n"
     ]
    },
    {
     "name": "stdout",
     "output_type": "stream",
     "text": [
      "Downloading and preparing dataset json/loubnabnl--the-stack-inspection-data to /Users/harm.devries/.cache/huggingface/datasets/loubnabnl___json/loubnabnl--the-stack-inspection-data-ac00320397f67d6b/0.0.0/e6070c77f18f01a5ad4551a8b7edfba20b8438b7cad4d94e6ad9378022ce4aab...\n"
     ]
    },
    {
     "data": {
      "application/vnd.jupyter.widget-view+json": {
       "model_id": "094c92e170ef4aa7b2e405a913d9cff5",
       "version_major": 2,
       "version_minor": 0
      },
      "text/plain": [
       "Downloading data files:   0%|          | 0/1 [00:00<?, ?it/s]"
      ]
     },
     "metadata": {},
     "output_type": "display_data"
    },
    {
     "data": {
      "application/vnd.jupyter.widget-view+json": {
       "model_id": "88c3052d9b7e4c088c96b006132dd9f3",
       "version_major": 2,
       "version_minor": 0
      },
      "text/plain": [
       "Downloading data:   0%|          | 0.00/4.31M [00:00<?, ?B/s]"
      ]
     },
     "metadata": {},
     "output_type": "display_data"
    },
    {
     "data": {
      "application/vnd.jupyter.widget-view+json": {
       "model_id": "0c1b458626bd40c9ae4ee8f5a1b61d57",
       "version_major": 2,
       "version_minor": 0
      },
      "text/plain": [
       "Extracting data files:   0%|          | 0/1 [00:00<?, ?it/s]"
      ]
     },
     "metadata": {},
     "output_type": "display_data"
    },
    {
     "data": {
      "application/vnd.jupyter.widget-view+json": {
       "model_id": "06e6e14a432f4f7090276cd254da8122",
       "version_major": 2,
       "version_minor": 0
      },
      "text/plain": [
       "Generating train split: 0 examples [00:00, ? examples/s]"
      ]
     },
     "metadata": {},
     "output_type": "display_data"
    },
    {
     "name": "stdout",
     "output_type": "stream",
     "text": [
      "Dataset json downloaded and prepared to /Users/harm.devries/.cache/huggingface/datasets/loubnabnl___json/loubnabnl--the-stack-inspection-data-ac00320397f67d6b/0.0.0/e6070c77f18f01a5ad4551a8b7edfba20b8438b7cad4d94e6ad9378022ce4aab. Subsequent calls will reuse this data.\n"
     ]
    },
    {
     "name": "stderr",
     "output_type": "stream",
     "text": [
      "\n",
      "0it [00:00, ?it/s]\u001b[A\n",
      "1000it [00:00, 5101.21it/s][A\n"
     ]
    },
    {
     "name": "stdout",
     "output_type": "stream",
     "text": [
      "139\n",
      "makefile\n",
      "mak\n"
     ]
    },
    {
     "name": "stderr",
     "output_type": "stream",
     "text": [
      "Using custom data configuration loubnabnl--the-stack-inspection-data-9d0e60d5aa548268\n"
     ]
    },
    {
     "name": "stdout",
     "output_type": "stream",
     "text": [
      "Downloading and preparing dataset json/loubnabnl--the-stack-inspection-data to /Users/harm.devries/.cache/huggingface/datasets/loubnabnl___json/loubnabnl--the-stack-inspection-data-9d0e60d5aa548268/0.0.0/e6070c77f18f01a5ad4551a8b7edfba20b8438b7cad4d94e6ad9378022ce4aab...\n"
     ]
    },
    {
     "data": {
      "application/vnd.jupyter.widget-view+json": {
       "model_id": "f9995da1c2b04b83bd601ec3afb9b0a6",
       "version_major": 2,
       "version_minor": 0
      },
      "text/plain": [
       "Downloading data files:   0%|          | 0/1 [00:00<?, ?it/s]"
      ]
     },
     "metadata": {},
     "output_type": "display_data"
    },
    {
     "data": {
      "application/vnd.jupyter.widget-view+json": {
       "model_id": "ed0b98d3d12e4d6db1765f5740d889ed",
       "version_major": 2,
       "version_minor": 0
      },
      "text/plain": [
       "Downloading data:   0%|          | 0.00/2.44M [00:00<?, ?B/s]"
      ]
     },
     "metadata": {},
     "output_type": "display_data"
    },
    {
     "data": {
      "application/vnd.jupyter.widget-view+json": {
       "model_id": "f7054d277e734c27b0285ed141fa1aca",
       "version_major": 2,
       "version_minor": 0
      },
      "text/plain": [
       "Extracting data files:   0%|          | 0/1 [00:00<?, ?it/s]"
      ]
     },
     "metadata": {},
     "output_type": "display_data"
    },
    {
     "data": {
      "application/vnd.jupyter.widget-view+json": {
       "model_id": "9a8da85277f245bd81986b65126c8c78",
       "version_major": 2,
       "version_minor": 0
      },
      "text/plain": [
       "Generating train split: 0 examples [00:00, ? examples/s]"
      ]
     },
     "metadata": {},
     "output_type": "display_data"
    },
    {
     "name": "stdout",
     "output_type": "stream",
     "text": [
      "Dataset json downloaded and prepared to /Users/harm.devries/.cache/huggingface/datasets/loubnabnl___json/loubnabnl--the-stack-inspection-data-9d0e60d5aa548268/0.0.0/e6070c77f18f01a5ad4551a8b7edfba20b8438b7cad4d94e6ad9378022ce4aab. Subsequent calls will reuse this data.\n"
     ]
    },
    {
     "name": "stderr",
     "output_type": "stream",
     "text": [
      "\n",
      "273it [00:00, 3039.47it/s]"
     ]
    },
    {
     "name": "stdout",
     "output_type": "stream",
     "text": [
      "140\n",
      "makefile\n",
      "txt\n"
     ]
    },
    {
     "name": "stderr",
     "output_type": "stream",
     "text": [
      "\n",
      "Using custom data configuration loubnabnl--the-stack-inspection-data-b603d4b422dd5553\n"
     ]
    },
    {
     "name": "stdout",
     "output_type": "stream",
     "text": [
      "Downloading and preparing dataset json/loubnabnl--the-stack-inspection-data to /Users/harm.devries/.cache/huggingface/datasets/loubnabnl___json/loubnabnl--the-stack-inspection-data-b603d4b422dd5553/0.0.0/e6070c77f18f01a5ad4551a8b7edfba20b8438b7cad4d94e6ad9378022ce4aab...\n"
     ]
    },
    {
     "data": {
      "application/vnd.jupyter.widget-view+json": {
       "model_id": "f8f0b701319448cbb6fb23b292e5da62",
       "version_major": 2,
       "version_minor": 0
      },
      "text/plain": [
       "Downloading data files:   0%|          | 0/1 [00:00<?, ?it/s]"
      ]
     },
     "metadata": {},
     "output_type": "display_data"
    },
    {
     "data": {
      "application/vnd.jupyter.widget-view+json": {
       "model_id": "bee571de243347f0bcfebc9e223c67fc",
       "version_major": 2,
       "version_minor": 0
      },
      "text/plain": [
       "Downloading data:   0%|          | 0.00/8.26k [00:00<?, ?B/s]"
      ]
     },
     "metadata": {},
     "output_type": "display_data"
    },
    {
     "data": {
      "application/vnd.jupyter.widget-view+json": {
       "model_id": "326d89ee6e4a49a6bb57fd7f81cab74e",
       "version_major": 2,
       "version_minor": 0
      },
      "text/plain": [
       "Extracting data files:   0%|          | 0/1 [00:00<?, ?it/s]"
      ]
     },
     "metadata": {},
     "output_type": "display_data"
    },
    {
     "data": {
      "application/vnd.jupyter.widget-view+json": {
       "model_id": "5e54a0db3037407ba57cfef4a371e582",
       "version_major": 2,
       "version_minor": 0
      },
      "text/plain": [
       "Generating train split: 0 examples [00:00, ? examples/s]"
      ]
     },
     "metadata": {},
     "output_type": "display_data"
    },
    {
     "name": "stdout",
     "output_type": "stream",
     "text": [
      "Dataset json downloaded and prepared to /Users/harm.devries/.cache/huggingface/datasets/loubnabnl___json/loubnabnl--the-stack-inspection-data-b603d4b422dd5553/0.0.0/e6070c77f18f01a5ad4551a8b7edfba20b8438b7cad4d94e6ad9378022ce4aab. Subsequent calls will reuse this data.\n"
     ]
    },
    {
     "name": "stderr",
     "output_type": "stream",
     "text": [
      "\n",
      "1it [00:00, 1338.75it/s]"
     ]
    },
    {
     "name": "stdout",
     "output_type": "stream",
     "text": [
      "141\n",
      "makefile\n",
      "cmake\n"
     ]
    },
    {
     "name": "stderr",
     "output_type": "stream",
     "text": [
      "\n",
      "Using custom data configuration loubnabnl--the-stack-inspection-data-593d53e9a7659b6b\n"
     ]
    },
    {
     "name": "stdout",
     "output_type": "stream",
     "text": [
      "Downloading and preparing dataset json/loubnabnl--the-stack-inspection-data to /Users/harm.devries/.cache/huggingface/datasets/loubnabnl___json/loubnabnl--the-stack-inspection-data-593d53e9a7659b6b/0.0.0/e6070c77f18f01a5ad4551a8b7edfba20b8438b7cad4d94e6ad9378022ce4aab...\n"
     ]
    },
    {
     "data": {
      "application/vnd.jupyter.widget-view+json": {
       "model_id": "304187baa80b42bfa2b10f934d434221",
       "version_major": 2,
       "version_minor": 0
      },
      "text/plain": [
       "Downloading data files:   0%|          | 0/1 [00:00<?, ?it/s]"
      ]
     },
     "metadata": {},
     "output_type": "display_data"
    },
    {
     "data": {
      "application/vnd.jupyter.widget-view+json": {
       "model_id": "4cbf35eae1134de996d0017e20a16ba0",
       "version_major": 2,
       "version_minor": 0
      },
      "text/plain": [
       "Downloading data:   0%|          | 0.00/743 [00:00<?, ?B/s]"
      ]
     },
     "metadata": {},
     "output_type": "display_data"
    },
    {
     "data": {
      "application/vnd.jupyter.widget-view+json": {
       "model_id": "2de5e17b32ff459f9be52a65bef06cf3",
       "version_major": 2,
       "version_minor": 0
      },
      "text/plain": [
       "Extracting data files:   0%|          | 0/1 [00:00<?, ?it/s]"
      ]
     },
     "metadata": {},
     "output_type": "display_data"
    },
    {
     "data": {
      "application/vnd.jupyter.widget-view+json": {
       "model_id": "70eaf24e44fa4000a9e89d67e2bce168",
       "version_major": 2,
       "version_minor": 0
      },
      "text/plain": [
       "Generating train split: 0 examples [00:00, ? examples/s]"
      ]
     },
     "metadata": {},
     "output_type": "display_data"
    },
    {
     "name": "stdout",
     "output_type": "stream",
     "text": [
      "Dataset json downloaded and prepared to /Users/harm.devries/.cache/huggingface/datasets/loubnabnl___json/loubnabnl--the-stack-inspection-data-593d53e9a7659b6b/0.0.0/e6070c77f18f01a5ad4551a8b7edfba20b8438b7cad4d94e6ad9378022ce4aab. Subsequent calls will reuse this data.\n"
     ]
    },
    {
     "name": "stderr",
     "output_type": "stream",
     "text": [
      "\n",
      "1it [00:00, 958.04it/s]"
     ]
    },
    {
     "name": "stdout",
     "output_type": "stream",
     "text": [
      "142\n",
      "maple\n",
      "mpl\n"
     ]
    },
    {
     "name": "stderr",
     "output_type": "stream",
     "text": [
      "\n",
      "Using custom data configuration loubnabnl--the-stack-inspection-data-e51483d1d963cbf3\n"
     ]
    },
    {
     "name": "stdout",
     "output_type": "stream",
     "text": [
      "Downloading and preparing dataset json/loubnabnl--the-stack-inspection-data to /Users/harm.devries/.cache/huggingface/datasets/loubnabnl___json/loubnabnl--the-stack-inspection-data-e51483d1d963cbf3/0.0.0/e6070c77f18f01a5ad4551a8b7edfba20b8438b7cad4d94e6ad9378022ce4aab...\n"
     ]
    },
    {
     "data": {
      "application/vnd.jupyter.widget-view+json": {
       "model_id": "5ed845e7b60b4530a4760e90f974e80c",
       "version_major": 2,
       "version_minor": 0
      },
      "text/plain": [
       "Downloading data files:   0%|          | 0/1 [00:00<?, ?it/s]"
      ]
     },
     "metadata": {},
     "output_type": "display_data"
    },
    {
     "data": {
      "application/vnd.jupyter.widget-view+json": {
       "model_id": "f76123d9d980466fa3f906b8d81e8025",
       "version_major": 2,
       "version_minor": 0
      },
      "text/plain": [
       "Downloading data:   0%|          | 0.00/12.3M [00:00<?, ?B/s]"
      ]
     },
     "metadata": {},
     "output_type": "display_data"
    },
    {
     "data": {
      "application/vnd.jupyter.widget-view+json": {
       "model_id": "1e914850ebed4e3b9b7416108d1aef9b",
       "version_major": 2,
       "version_minor": 0
      },
      "text/plain": [
       "Extracting data files:   0%|          | 0/1 [00:00<?, ?it/s]"
      ]
     },
     "metadata": {},
     "output_type": "display_data"
    },
    {
     "data": {
      "application/vnd.jupyter.widget-view+json": {
       "model_id": "776baec60b2f49019e72ab3009285b83",
       "version_major": 2,
       "version_minor": 0
      },
      "text/plain": [
       "Generating train split: 0 examples [00:00, ? examples/s]"
      ]
     },
     "metadata": {},
     "output_type": "display_data"
    },
    {
     "name": "stdout",
     "output_type": "stream",
     "text": [
      "Dataset json downloaded and prepared to /Users/harm.devries/.cache/huggingface/datasets/loubnabnl___json/loubnabnl--the-stack-inspection-data-e51483d1d963cbf3/0.0.0/e6070c77f18f01a5ad4551a8b7edfba20b8438b7cad4d94e6ad9378022ce4aab. Subsequent calls will reuse this data.\n"
     ]
    },
    {
     "name": "stderr",
     "output_type": "stream",
     "text": [
      "\n",
      "0it [00:00, ?it/s]\u001b[A\n",
      "249it [00:00, 2488.11it/s]\u001b[A\n",
      "1000it [00:00, 3901.33it/s][A\n"
     ]
    },
    {
     "name": "stdout",
     "output_type": "stream",
     "text": [
      "143\n",
      "markdown\n",
      "md\n"
     ]
    },
    {
     "name": "stderr",
     "output_type": "stream",
     "text": [
      "Using custom data configuration loubnabnl--the-stack-inspection-data-5d347eb9a68b97e5\n"
     ]
    },
    {
     "name": "stdout",
     "output_type": "stream",
     "text": [
      "Downloading and preparing dataset json/loubnabnl--the-stack-inspection-data to /Users/harm.devries/.cache/huggingface/datasets/loubnabnl___json/loubnabnl--the-stack-inspection-data-5d347eb9a68b97e5/0.0.0/e6070c77f18f01a5ad4551a8b7edfba20b8438b7cad4d94e6ad9378022ce4aab...\n"
     ]
    },
    {
     "data": {
      "application/vnd.jupyter.widget-view+json": {
       "model_id": "a20108facd514adea346739a4369d0d7",
       "version_major": 2,
       "version_minor": 0
      },
      "text/plain": [
       "Downloading data files:   0%|          | 0/1 [00:00<?, ?it/s]"
      ]
     },
     "metadata": {},
     "output_type": "display_data"
    },
    {
     "data": {
      "application/vnd.jupyter.widget-view+json": {
       "model_id": "a0b60ebdd1b44a68abcf663a5f42138f",
       "version_major": 2,
       "version_minor": 0
      },
      "text/plain": [
       "Downloading data:   0%|          | 0.00/7.08M [00:00<?, ?B/s]"
      ]
     },
     "metadata": {},
     "output_type": "display_data"
    },
    {
     "data": {
      "application/vnd.jupyter.widget-view+json": {
       "model_id": "1a9411d6fc424f34b8b9ce83038d17fe",
       "version_major": 2,
       "version_minor": 0
      },
      "text/plain": [
       "Extracting data files:   0%|          | 0/1 [00:00<?, ?it/s]"
      ]
     },
     "metadata": {},
     "output_type": "display_data"
    },
    {
     "data": {
      "application/vnd.jupyter.widget-view+json": {
       "model_id": "0341e894be80408e8cccb755c5e8f4b2",
       "version_major": 2,
       "version_minor": 0
      },
      "text/plain": [
       "Generating train split: 0 examples [00:00, ? examples/s]"
      ]
     },
     "metadata": {},
     "output_type": "display_data"
    },
    {
     "name": "stdout",
     "output_type": "stream",
     "text": [
      "Dataset json downloaded and prepared to /Users/harm.devries/.cache/huggingface/datasets/loubnabnl___json/loubnabnl--the-stack-inspection-data-5d347eb9a68b97e5/0.0.0/e6070c77f18f01a5ad4551a8b7edfba20b8438b7cad4d94e6ad9378022ce4aab. Subsequent calls will reuse this data.\n"
     ]
    },
    {
     "name": "stderr",
     "output_type": "stream",
     "text": [
      "\n",
      "0it [00:00, ?it/s]\u001b[A\n",
      "370it [00:00, 3679.03it/s]\u001b[A\n",
      "1000it [00:00, 4088.06it/s][A\n"
     ]
    },
    {
     "name": "stdout",
     "output_type": "stream",
     "text": [
      "144\n",
      "markdown\n",
      "markdown\n"
     ]
    },
    {
     "name": "stderr",
     "output_type": "stream",
     "text": [
      "Using custom data configuration loubnabnl--the-stack-inspection-data-05b9f6f2a469317a\n"
     ]
    },
    {
     "name": "stdout",
     "output_type": "stream",
     "text": [
      "Downloading and preparing dataset json/loubnabnl--the-stack-inspection-data to /Users/harm.devries/.cache/huggingface/datasets/loubnabnl___json/loubnabnl--the-stack-inspection-data-05b9f6f2a469317a/0.0.0/e6070c77f18f01a5ad4551a8b7edfba20b8438b7cad4d94e6ad9378022ce4aab...\n"
     ]
    },
    {
     "data": {
      "application/vnd.jupyter.widget-view+json": {
       "model_id": "0af758f1aecb461c99c7b9b12b15c4fd",
       "version_major": 2,
       "version_minor": 0
      },
      "text/plain": [
       "Downloading data files:   0%|          | 0/1 [00:00<?, ?it/s]"
      ]
     },
     "metadata": {},
     "output_type": "display_data"
    },
    {
     "data": {
      "application/vnd.jupyter.widget-view+json": {
       "model_id": "db9c2c2fce5a4db186676990a1457927",
       "version_major": 2,
       "version_minor": 0
      },
      "text/plain": [
       "Downloading data:   0%|          | 0.00/2.80M [00:00<?, ?B/s]"
      ]
     },
     "metadata": {},
     "output_type": "display_data"
    },
    {
     "data": {
      "application/vnd.jupyter.widget-view+json": {
       "model_id": "0de18c8522b04ef6bcdbf4cb20e10da9",
       "version_major": 2,
       "version_minor": 0
      },
      "text/plain": [
       "Extracting data files:   0%|          | 0/1 [00:00<?, ?it/s]"
      ]
     },
     "metadata": {},
     "output_type": "display_data"
    },
    {
     "data": {
      "application/vnd.jupyter.widget-view+json": {
       "model_id": "3a26fb6f8a8f42ec9c2538faed9c8d4b",
       "version_major": 2,
       "version_minor": 0
      },
      "text/plain": [
       "Generating train split: 0 examples [00:00, ? examples/s]"
      ]
     },
     "metadata": {},
     "output_type": "display_data"
    },
    {
     "name": "stdout",
     "output_type": "stream",
     "text": [
      "Dataset json downloaded and prepared to /Users/harm.devries/.cache/huggingface/datasets/loubnabnl___json/loubnabnl--the-stack-inspection-data-05b9f6f2a469317a/0.0.0/e6070c77f18f01a5ad4551a8b7edfba20b8438b7cad4d94e6ad9378022ce4aab. Subsequent calls will reuse this data.\n"
     ]
    },
    {
     "name": "stderr",
     "output_type": "stream",
     "text": [
      "\n",
      "244it [00:00, 2804.52it/s]"
     ]
    },
    {
     "name": "stdout",
     "output_type": "stream",
     "text": [
      "145\n",
      "markdown\n",
      "mkd\n"
     ]
    },
    {
     "name": "stderr",
     "output_type": "stream",
     "text": [
      "\n",
      "Using custom data configuration loubnabnl--the-stack-inspection-data-4b47934d40bad58f\n"
     ]
    },
    {
     "name": "stdout",
     "output_type": "stream",
     "text": [
      "Downloading and preparing dataset json/loubnabnl--the-stack-inspection-data to /Users/harm.devries/.cache/huggingface/datasets/loubnabnl___json/loubnabnl--the-stack-inspection-data-4b47934d40bad58f/0.0.0/e6070c77f18f01a5ad4551a8b7edfba20b8438b7cad4d94e6ad9378022ce4aab...\n"
     ]
    },
    {
     "data": {
      "application/vnd.jupyter.widget-view+json": {
       "model_id": "ed92ba5cf2994cfbb1e06e658d9f3432",
       "version_major": 2,
       "version_minor": 0
      },
      "text/plain": [
       "Downloading data files:   0%|          | 0/1 [00:00<?, ?it/s]"
      ]
     },
     "metadata": {},
     "output_type": "display_data"
    },
    {
     "data": {
      "application/vnd.jupyter.widget-view+json": {
       "model_id": "ff77d28d16cb44bda822a42b2903cc2e",
       "version_major": 2,
       "version_minor": 0
      },
      "text/plain": [
       "Downloading data:   0%|          | 0.00/9.45k [00:00<?, ?B/s]"
      ]
     },
     "metadata": {},
     "output_type": "display_data"
    },
    {
     "data": {
      "application/vnd.jupyter.widget-view+json": {
       "model_id": "6169fdf0f10f425db8f1ec5fca32aa02",
       "version_major": 2,
       "version_minor": 0
      },
      "text/plain": [
       "Extracting data files:   0%|          | 0/1 [00:00<?, ?it/s]"
      ]
     },
     "metadata": {},
     "output_type": "display_data"
    },
    {
     "data": {
      "application/vnd.jupyter.widget-view+json": {
       "model_id": "ecd3ea54eca646bd853073e1c4370f20",
       "version_major": 2,
       "version_minor": 0
      },
      "text/plain": [
       "Generating train split: 0 examples [00:00, ? examples/s]"
      ]
     },
     "metadata": {},
     "output_type": "display_data"
    },
    {
     "name": "stdout",
     "output_type": "stream",
     "text": [
      "Dataset json downloaded and prepared to /Users/harm.devries/.cache/huggingface/datasets/loubnabnl___json/loubnabnl--the-stack-inspection-data-4b47934d40bad58f/0.0.0/e6070c77f18f01a5ad4551a8b7edfba20b8438b7cad4d94e6ad9378022ce4aab. Subsequent calls will reuse this data.\n"
     ]
    },
    {
     "name": "stderr",
     "output_type": "stream",
     "text": [
      "\n",
      "5it [00:00, 4356.36it/s]"
     ]
    },
    {
     "name": "stdout",
     "output_type": "stream",
     "text": [
      "146\n",
      "markdown\n",
      "ron\n"
     ]
    },
    {
     "name": "stderr",
     "output_type": "stream",
     "text": [
      "\n",
      "Using custom data configuration loubnabnl--the-stack-inspection-data-22b97acea77d7073\n"
     ]
    },
    {
     "name": "stdout",
     "output_type": "stream",
     "text": [
      "Downloading and preparing dataset json/loubnabnl--the-stack-inspection-data to /Users/harm.devries/.cache/huggingface/datasets/loubnabnl___json/loubnabnl--the-stack-inspection-data-22b97acea77d7073/0.0.0/e6070c77f18f01a5ad4551a8b7edfba20b8438b7cad4d94e6ad9378022ce4aab...\n"
     ]
    },
    {
     "data": {
      "application/vnd.jupyter.widget-view+json": {
       "model_id": "03f92745d0b040cfad86ab08deb436e8",
       "version_major": 2,
       "version_minor": 0
      },
      "text/plain": [
       "Downloading data files:   0%|          | 0/1 [00:00<?, ?it/s]"
      ]
     },
     "metadata": {},
     "output_type": "display_data"
    },
    {
     "data": {
      "application/vnd.jupyter.widget-view+json": {
       "model_id": "827a9a333bd74d88975205b713cae06c",
       "version_major": 2,
       "version_minor": 0
      },
      "text/plain": [
       "Downloading data:   0%|          | 0.00/1.35k [00:00<?, ?B/s]"
      ]
     },
     "metadata": {},
     "output_type": "display_data"
    },
    {
     "data": {
      "application/vnd.jupyter.widget-view+json": {
       "model_id": "ae64acda9ad44b469179a8c6ec108c64",
       "version_major": 2,
       "version_minor": 0
      },
      "text/plain": [
       "Extracting data files:   0%|          | 0/1 [00:00<?, ?it/s]"
      ]
     },
     "metadata": {},
     "output_type": "display_data"
    },
    {
     "data": {
      "application/vnd.jupyter.widget-view+json": {
       "model_id": "4ab0e4dbe81e412493772726415d9f30",
       "version_major": 2,
       "version_minor": 0
      },
      "text/plain": [
       "Generating train split: 0 examples [00:00, ? examples/s]"
      ]
     },
     "metadata": {},
     "output_type": "display_data"
    },
    {
     "name": "stdout",
     "output_type": "stream",
     "text": [
      "Dataset json downloaded and prepared to /Users/harm.devries/.cache/huggingface/datasets/loubnabnl___json/loubnabnl--the-stack-inspection-data-22b97acea77d7073/0.0.0/e6070c77f18f01a5ad4551a8b7edfba20b8438b7cad4d94e6ad9378022ce4aab. Subsequent calls will reuse this data.\n"
     ]
    },
    {
     "name": "stderr",
     "output_type": "stream",
     "text": [
      "\n",
      "2it [00:00, 3898.05it/s]"
     ]
    },
    {
     "name": "stdout",
     "output_type": "stream",
     "text": [
      "147\n",
      "markdown\n",
      "mkdn\n"
     ]
    },
    {
     "name": "stderr",
     "output_type": "stream",
     "text": [
      "\n",
      "Using custom data configuration loubnabnl--the-stack-inspection-data-84df948b81807493\n"
     ]
    },
    {
     "name": "stdout",
     "output_type": "stream",
     "text": [
      "Downloading and preparing dataset json/loubnabnl--the-stack-inspection-data to /Users/harm.devries/.cache/huggingface/datasets/loubnabnl___json/loubnabnl--the-stack-inspection-data-84df948b81807493/0.0.0/e6070c77f18f01a5ad4551a8b7edfba20b8438b7cad4d94e6ad9378022ce4aab...\n"
     ]
    },
    {
     "data": {
      "application/vnd.jupyter.widget-view+json": {
       "model_id": "b101f8b09445455d90c2797404f8a23d",
       "version_major": 2,
       "version_minor": 0
      },
      "text/plain": [
       "Downloading data files:   0%|          | 0/1 [00:00<?, ?it/s]"
      ]
     },
     "metadata": {},
     "output_type": "display_data"
    },
    {
     "data": {
      "application/vnd.jupyter.widget-view+json": {
       "model_id": "629ab2901d4e4200ad218b17348687bc",
       "version_major": 2,
       "version_minor": 0
      },
      "text/plain": [
       "Downloading data:   0%|          | 0.00/7.78k [00:00<?, ?B/s]"
      ]
     },
     "metadata": {},
     "output_type": "display_data"
    },
    {
     "data": {
      "application/vnd.jupyter.widget-view+json": {
       "model_id": "4bc697b2df744908892368e1a4cdc784",
       "version_major": 2,
       "version_minor": 0
      },
      "text/plain": [
       "Extracting data files:   0%|          | 0/1 [00:00<?, ?it/s]"
      ]
     },
     "metadata": {},
     "output_type": "display_data"
    },
    {
     "data": {
      "application/vnd.jupyter.widget-view+json": {
       "model_id": "6a7dc138642446c494bc611981939947",
       "version_major": 2,
       "version_minor": 0
      },
      "text/plain": [
       "Generating train split: 0 examples [00:00, ? examples/s]"
      ]
     },
     "metadata": {},
     "output_type": "display_data"
    },
    {
     "name": "stdout",
     "output_type": "stream",
     "text": [
      "Dataset json downloaded and prepared to /Users/harm.devries/.cache/huggingface/datasets/loubnabnl___json/loubnabnl--the-stack-inspection-data-84df948b81807493/0.0.0/e6070c77f18f01a5ad4551a8b7edfba20b8438b7cad4d94e6ad9378022ce4aab. Subsequent calls will reuse this data.\n"
     ]
    },
    {
     "name": "stderr",
     "output_type": "stream",
     "text": [
      "\n",
      "1it [00:00, 1631.39it/s]"
     ]
    },
    {
     "name": "stdout",
     "output_type": "stream",
     "text": [
      "148\n",
      "mathematica\n",
      "ma\n"
     ]
    },
    {
     "name": "stderr",
     "output_type": "stream",
     "text": [
      "\n",
      "Using custom data configuration loubnabnl--the-stack-inspection-data-b5f3731dcfbf8a34\n",
      "Found cached dataset json (/Users/harm.devries/.cache/huggingface/datasets/loubnabnl___json/loubnabnl--the-stack-inspection-data-b5f3731dcfbf8a34/0.0.0/e6070c77f18f01a5ad4551a8b7edfba20b8438b7cad4d94e6ad9378022ce4aab)\n",
      "739it [00:02, 266.95it/s]\n"
     ]
    },
    {
     "name": "stdout",
     "output_type": "stream",
     "text": [
      "149\n",
      "mathematica\n",
      "cdf\n"
     ]
    },
    {
     "name": "stderr",
     "output_type": "stream",
     "text": [
      "Using custom data configuration loubnabnl--the-stack-inspection-data-522dc5a1e8421e0b\n"
     ]
    },
    {
     "name": "stdout",
     "output_type": "stream",
     "text": [
      "Downloading and preparing dataset json/loubnabnl--the-stack-inspection-data to /Users/harm.devries/.cache/huggingface/datasets/loubnabnl___json/loubnabnl--the-stack-inspection-data-522dc5a1e8421e0b/0.0.0/e6070c77f18f01a5ad4551a8b7edfba20b8438b7cad4d94e6ad9378022ce4aab...\n"
     ]
    },
    {
     "data": {
      "application/vnd.jupyter.widget-view+json": {
       "model_id": "e41435618e8149d4b1cee5119537fcf3",
       "version_major": 2,
       "version_minor": 0
      },
      "text/plain": [
       "Downloading data files:   0%|          | 0/1 [00:00<?, ?it/s]"
      ]
     },
     "metadata": {},
     "output_type": "display_data"
    },
    {
     "data": {
      "application/vnd.jupyter.widget-view+json": {
       "model_id": "a87fc7ccea4e4423b456b73c7c19ee15",
       "version_major": 2,
       "version_minor": 0
      },
      "text/plain": [
       "Downloading data:   0%|          | 0.00/33.2M [00:00<?, ?B/s]"
      ]
     },
     "metadata": {},
     "output_type": "display_data"
    },
    {
     "data": {
      "application/vnd.jupyter.widget-view+json": {
       "model_id": "047b82b052de4a77820d95bd50f3e147",
       "version_major": 2,
       "version_minor": 0
      },
      "text/plain": [
       "Extracting data files:   0%|          | 0/1 [00:00<?, ?it/s]"
      ]
     },
     "metadata": {},
     "output_type": "display_data"
    },
    {
     "data": {
      "application/vnd.jupyter.widget-view+json": {
       "model_id": "c1db50c5eccf412b87d3e835a7ddca5a",
       "version_major": 2,
       "version_minor": 0
      },
      "text/plain": [
       "Generating train split: 0 examples [00:00, ? examples/s]"
      ]
     },
     "metadata": {},
     "output_type": "display_data"
    },
    {
     "name": "stdout",
     "output_type": "stream",
     "text": [
      "Dataset json downloaded and prepared to /Users/harm.devries/.cache/huggingface/datasets/loubnabnl___json/loubnabnl--the-stack-inspection-data-522dc5a1e8421e0b/0.0.0/e6070c77f18f01a5ad4551a8b7edfba20b8438b7cad4d94e6ad9378022ce4aab. Subsequent calls will reuse this data.\n"
     ]
    },
    {
     "name": "stderr",
     "output_type": "stream",
     "text": [
      "610it [00:00, 794.94it/s]\n"
     ]
    },
    {
     "name": "stdout",
     "output_type": "stream",
     "text": [
      "150\n",
      "mathematica\n",
      "nb\n"
     ]
    },
    {
     "name": "stderr",
     "output_type": "stream",
     "text": [
      "Using custom data configuration loubnabnl--the-stack-inspection-data-47884891bcaf5223\n"
     ]
    },
    {
     "name": "stdout",
     "output_type": "stream",
     "text": [
      "Downloading and preparing dataset json/loubnabnl--the-stack-inspection-data to /Users/harm.devries/.cache/huggingface/datasets/loubnabnl___json/loubnabnl--the-stack-inspection-data-47884891bcaf5223/0.0.0/e6070c77f18f01a5ad4551a8b7edfba20b8438b7cad4d94e6ad9378022ce4aab...\n"
     ]
    },
    {
     "data": {
      "application/vnd.jupyter.widget-view+json": {
       "model_id": "7d0bab08dc7a41f6b4ad13cc5ff0e917",
       "version_major": 2,
       "version_minor": 0
      },
      "text/plain": [
       "Downloading data files:   0%|          | 0/1 [00:00<?, ?it/s]"
      ]
     },
     "metadata": {},
     "output_type": "display_data"
    },
    {
     "data": {
      "application/vnd.jupyter.widget-view+json": {
       "model_id": "585242ece26b49a183486d8e6b282b91",
       "version_major": 2,
       "version_minor": 0
      },
      "text/plain": [
       "Downloading data:   0%|          | 0.00/30.6M [00:00<?, ?B/s]"
      ]
     },
     "metadata": {},
     "output_type": "display_data"
    },
    {
     "data": {
      "application/vnd.jupyter.widget-view+json": {
       "model_id": "c1f061ed183a49e2b784624972a0e18d",
       "version_major": 2,
       "version_minor": 0
      },
      "text/plain": [
       "Extracting data files:   0%|          | 0/1 [00:00<?, ?it/s]"
      ]
     },
     "metadata": {},
     "output_type": "display_data"
    },
    {
     "data": {
      "application/vnd.jupyter.widget-view+json": {
       "model_id": "f961beece4db42a9b0655bbb7a9b3f60",
       "version_major": 2,
       "version_minor": 0
      },
      "text/plain": [
       "Generating train split: 0 examples [00:00, ? examples/s]"
      ]
     },
     "metadata": {},
     "output_type": "display_data"
    },
    {
     "name": "stdout",
     "output_type": "stream",
     "text": [
      "Dataset json downloaded and prepared to /Users/harm.devries/.cache/huggingface/datasets/loubnabnl___json/loubnabnl--the-stack-inspection-data-47884891bcaf5223/0.0.0/e6070c77f18f01a5ad4551a8b7edfba20b8438b7cad4d94e6ad9378022ce4aab. Subsequent calls will reuse this data.\n"
     ]
    },
    {
     "name": "stderr",
     "output_type": "stream",
     "text": [
      "1000it [00:00, 1295.55it/s]\n"
     ]
    },
    {
     "name": "stdout",
     "output_type": "stream",
     "text": [
      "151\n",
      "mathematica\n",
      "mt\n"
     ]
    },
    {
     "name": "stderr",
     "output_type": "stream",
     "text": [
      "Using custom data configuration loubnabnl--the-stack-inspection-data-cd8b5ee94990e8f4\n",
      "Found cached dataset json (/Users/harm.devries/.cache/huggingface/datasets/loubnabnl___json/loubnabnl--the-stack-inspection-data-cd8b5ee94990e8f4/0.0.0/e6070c77f18f01a5ad4551a8b7edfba20b8438b7cad4d94e6ad9378022ce4aab)\n",
      "766it [00:00, 814.81it/s]\n"
     ]
    },
    {
     "name": "stdout",
     "output_type": "stream",
     "text": [
      "152\n",
      "mathematica\n",
      "wl\n"
     ]
    },
    {
     "name": "stderr",
     "output_type": "stream",
     "text": [
      "Using custom data configuration loubnabnl--the-stack-inspection-data-2e67338d4764925b\n"
     ]
    },
    {
     "name": "stdout",
     "output_type": "stream",
     "text": [
      "Downloading and preparing dataset json/loubnabnl--the-stack-inspection-data to /Users/harm.devries/.cache/huggingface/datasets/loubnabnl___json/loubnabnl--the-stack-inspection-data-2e67338d4764925b/0.0.0/e6070c77f18f01a5ad4551a8b7edfba20b8438b7cad4d94e6ad9378022ce4aab...\n"
     ]
    },
    {
     "data": {
      "application/vnd.jupyter.widget-view+json": {
       "model_id": "1316206b3bcd4dc2a2ced4367604de67",
       "version_major": 2,
       "version_minor": 0
      },
      "text/plain": [
       "Downloading data files:   0%|          | 0/1 [00:00<?, ?it/s]"
      ]
     },
     "metadata": {},
     "output_type": "display_data"
    },
    {
     "data": {
      "application/vnd.jupyter.widget-view+json": {
       "model_id": "533339d16c0a4781b8a14a23f411640c",
       "version_major": 2,
       "version_minor": 0
      },
      "text/plain": [
       "Downloading data:   0%|          | 0.00/7.64M [00:00<?, ?B/s]"
      ]
     },
     "metadata": {},
     "output_type": "display_data"
    },
    {
     "data": {
      "application/vnd.jupyter.widget-view+json": {
       "model_id": "c4d3b48fd01c49ef93c57435e3650353",
       "version_major": 2,
       "version_minor": 0
      },
      "text/plain": [
       "Extracting data files:   0%|          | 0/1 [00:00<?, ?it/s]"
      ]
     },
     "metadata": {},
     "output_type": "display_data"
    },
    {
     "data": {
      "application/vnd.jupyter.widget-view+json": {
       "model_id": "59ba28601774470faaf8388d35eae9fa",
       "version_major": 2,
       "version_minor": 0
      },
      "text/plain": [
       "Generating train split: 0 examples [00:00, ? examples/s]"
      ]
     },
     "metadata": {},
     "output_type": "display_data"
    },
    {
     "name": "stdout",
     "output_type": "stream",
     "text": [
      "Dataset json downloaded and prepared to /Users/harm.devries/.cache/huggingface/datasets/loubnabnl___json/loubnabnl--the-stack-inspection-data-2e67338d4764925b/0.0.0/e6070c77f18f01a5ad4551a8b7edfba20b8438b7cad4d94e6ad9378022ce4aab. Subsequent calls will reuse this data.\n"
     ]
    },
    {
     "name": "stderr",
     "output_type": "stream",
     "text": [
      "\n",
      "0it [00:00, ?it/s]\u001b[A\n",
      "318it [00:00, 3175.97it/s]\u001b[A\n",
      "686it [00:00, 2842.05it/s]\u001b[A\n"
     ]
    },
    {
     "name": "stdout",
     "output_type": "stream",
     "text": [
      "153\n",
      "mathematica\n",
      "wlt\n"
     ]
    },
    {
     "name": "stderr",
     "output_type": "stream",
     "text": [
      "Using custom data configuration loubnabnl--the-stack-inspection-data-9f7c082e251b28f3\n"
     ]
    },
    {
     "name": "stdout",
     "output_type": "stream",
     "text": [
      "Downloading and preparing dataset json/loubnabnl--the-stack-inspection-data to /Users/harm.devries/.cache/huggingface/datasets/loubnabnl___json/loubnabnl--the-stack-inspection-data-9f7c082e251b28f3/0.0.0/e6070c77f18f01a5ad4551a8b7edfba20b8438b7cad4d94e6ad9378022ce4aab...\n"
     ]
    },
    {
     "data": {
      "application/vnd.jupyter.widget-view+json": {
       "model_id": "a2102859bec549a9a4c05717fef59a80",
       "version_major": 2,
       "version_minor": 0
      },
      "text/plain": [
       "Downloading data files:   0%|          | 0/1 [00:00<?, ?it/s]"
      ]
     },
     "metadata": {},
     "output_type": "display_data"
    },
    {
     "data": {
      "application/vnd.jupyter.widget-view+json": {
       "model_id": "b8953e4e067e4578902b1458a602e689",
       "version_major": 2,
       "version_minor": 0
      },
      "text/plain": [
       "Downloading data:   0%|          | 0.00/1.58M [00:00<?, ?B/s]"
      ]
     },
     "metadata": {},
     "output_type": "display_data"
    },
    {
     "data": {
      "application/vnd.jupyter.widget-view+json": {
       "model_id": "0651359824c34e1cba77c121185bc9f9",
       "version_major": 2,
       "version_minor": 0
      },
      "text/plain": [
       "Extracting data files:   0%|          | 0/1 [00:00<?, ?it/s]"
      ]
     },
     "metadata": {},
     "output_type": "display_data"
    },
    {
     "data": {
      "application/vnd.jupyter.widget-view+json": {
       "model_id": "fe0aeb30374a49fe8198e5936e0c68de",
       "version_major": 2,
       "version_minor": 0
      },
      "text/plain": [
       "Generating train split: 0 examples [00:00, ? examples/s]"
      ]
     },
     "metadata": {},
     "output_type": "display_data"
    },
    {
     "name": "stdout",
     "output_type": "stream",
     "text": [
      "Dataset json downloaded and prepared to /Users/harm.devries/.cache/huggingface/datasets/loubnabnl___json/loubnabnl--the-stack-inspection-data-9f7c082e251b28f3/0.0.0/e6070c77f18f01a5ad4551a8b7edfba20b8438b7cad4d94e6ad9378022ce4aab. Subsequent calls will reuse this data.\n"
     ]
    },
    {
     "name": "stderr",
     "output_type": "stream",
     "text": [
      "\n",
      "113it [00:00, 2615.44it/s]"
     ]
    },
    {
     "name": "stdout",
     "output_type": "stream",
     "text": [
      "154\n",
      "mathematica\n",
      "nbp\n"
     ]
    },
    {
     "name": "stderr",
     "output_type": "stream",
     "text": [
      "\n",
      "Using custom data configuration loubnabnl--the-stack-inspection-data-1c3b57bfacbda673\n"
     ]
    },
    {
     "name": "stdout",
     "output_type": "stream",
     "text": [
      "Downloading and preparing dataset json/loubnabnl--the-stack-inspection-data to /Users/harm.devries/.cache/huggingface/datasets/loubnabnl___json/loubnabnl--the-stack-inspection-data-1c3b57bfacbda673/0.0.0/e6070c77f18f01a5ad4551a8b7edfba20b8438b7cad4d94e6ad9378022ce4aab...\n"
     ]
    },
    {
     "data": {
      "application/vnd.jupyter.widget-view+json": {
       "model_id": "88d55017c63645e7ad3ced2c05c74910",
       "version_major": 2,
       "version_minor": 0
      },
      "text/plain": [
       "Downloading data files:   0%|          | 0/1 [00:00<?, ?it/s]"
      ]
     },
     "metadata": {},
     "output_type": "display_data"
    },
    {
     "data": {
      "application/vnd.jupyter.widget-view+json": {
       "model_id": "a31ec5d7661c4e4ea20685911a430bfc",
       "version_major": 2,
       "version_minor": 0
      },
      "text/plain": [
       "Downloading data:   0%|          | 0.00/636k [00:00<?, ?B/s]"
      ]
     },
     "metadata": {},
     "output_type": "display_data"
    },
    {
     "data": {
      "application/vnd.jupyter.widget-view+json": {
       "model_id": "b93ceb89713c408a84f7dff8fab86194",
       "version_major": 2,
       "version_minor": 0
      },
      "text/plain": [
       "Extracting data files:   0%|          | 0/1 [00:00<?, ?it/s]"
      ]
     },
     "metadata": {},
     "output_type": "display_data"
    },
    {
     "data": {
      "application/vnd.jupyter.widget-view+json": {
       "model_id": "775e5fb5390949b9979c8bf01bda60e1",
       "version_major": 2,
       "version_minor": 0
      },
      "text/plain": [
       "Generating train split: 0 examples [00:00, ? examples/s]"
      ]
     },
     "metadata": {},
     "output_type": "display_data"
    },
    {
     "name": "stdout",
     "output_type": "stream",
     "text": [
      "Dataset json downloaded and prepared to /Users/harm.devries/.cache/huggingface/datasets/loubnabnl___json/loubnabnl--the-stack-inspection-data-1c3b57bfacbda673/0.0.0/e6070c77f18f01a5ad4551a8b7edfba20b8438b7cad4d94e6ad9378022ce4aab. Subsequent calls will reuse this data.\n"
     ]
    },
    {
     "name": "stderr",
     "output_type": "stream",
     "text": [
      "\n",
      "30it [00:00, 1677.65it/s]"
     ]
    },
    {
     "name": "stdout",
     "output_type": "stream",
     "text": [
      "155\n",
      "mathematica\n",
      "mathematica\n"
     ]
    },
    {
     "name": "stderr",
     "output_type": "stream",
     "text": [
      "\n",
      "Using custom data configuration loubnabnl--the-stack-inspection-data-00d1fd5fdd7b9734\n"
     ]
    },
    {
     "name": "stdout",
     "output_type": "stream",
     "text": [
      "Downloading and preparing dataset json/loubnabnl--the-stack-inspection-data to /Users/harm.devries/.cache/huggingface/datasets/loubnabnl___json/loubnabnl--the-stack-inspection-data-00d1fd5fdd7b9734/0.0.0/e6070c77f18f01a5ad4551a8b7edfba20b8438b7cad4d94e6ad9378022ce4aab...\n"
     ]
    },
    {
     "data": {
      "application/vnd.jupyter.widget-view+json": {
       "model_id": "899232bd78cd443695a3119b36699c6c",
       "version_major": 2,
       "version_minor": 0
      },
      "text/plain": [
       "Downloading data files:   0%|          | 0/1 [00:00<?, ?it/s]"
      ]
     },
     "metadata": {},
     "output_type": "display_data"
    },
    {
     "data": {
      "application/vnd.jupyter.widget-view+json": {
       "model_id": "c5a1362b7d6a4da7a9bce83c192784a1",
       "version_major": 2,
       "version_minor": 0
      },
      "text/plain": [
       "Downloading data:   0%|          | 0.00/415 [00:00<?, ?B/s]"
      ]
     },
     "metadata": {},
     "output_type": "display_data"
    },
    {
     "data": {
      "application/vnd.jupyter.widget-view+json": {
       "model_id": "1ad8a6a52df346459faded349e899c6b",
       "version_major": 2,
       "version_minor": 0
      },
      "text/plain": [
       "Extracting data files:   0%|          | 0/1 [00:00<?, ?it/s]"
      ]
     },
     "metadata": {},
     "output_type": "display_data"
    },
    {
     "data": {
      "application/vnd.jupyter.widget-view+json": {
       "model_id": "a3c1bd2dcd7e44b3b5bfe57adebdaf1e",
       "version_major": 2,
       "version_minor": 0
      },
      "text/plain": [
       "Generating train split: 0 examples [00:00, ? examples/s]"
      ]
     },
     "metadata": {},
     "output_type": "display_data"
    },
    {
     "name": "stdout",
     "output_type": "stream",
     "text": [
      "Dataset json downloaded and prepared to /Users/harm.devries/.cache/huggingface/datasets/loubnabnl___json/loubnabnl--the-stack-inspection-data-00d1fd5fdd7b9734/0.0.0/e6070c77f18f01a5ad4551a8b7edfba20b8438b7cad4d94e6ad9378022ce4aab. Subsequent calls will reuse this data.\n"
     ]
    },
    {
     "name": "stderr",
     "output_type": "stream",
     "text": [
      "\n",
      "1it [00:00, 1827.58it/s]"
     ]
    },
    {
     "name": "stdout",
     "output_type": "stream",
     "text": [
      "156\n",
      "matlab\n",
      "matlab\n"
     ]
    },
    {
     "name": "stderr",
     "output_type": "stream",
     "text": [
      "\n",
      "Using custom data configuration loubnabnl--the-stack-inspection-data-12c0dab251e249be\n",
      "Found cached dataset json (/Users/harm.devries/.cache/huggingface/datasets/loubnabnl___json/loubnabnl--the-stack-inspection-data-12c0dab251e249be/0.0.0/e6070c77f18f01a5ad4551a8b7edfba20b8438b7cad4d94e6ad9378022ce4aab)\n",
      "1000it [00:01, 689.65it/s]\n"
     ]
    },
    {
     "name": "stdout",
     "output_type": "stream",
     "text": [
      "157\n",
      "ocaml\n",
      "ml\n"
     ]
    },
    {
     "name": "stderr",
     "output_type": "stream",
     "text": [
      "Using custom data configuration loubnabnl--the-stack-inspection-data-de29180e37c4a749\n"
     ]
    },
    {
     "name": "stdout",
     "output_type": "stream",
     "text": [
      "Downloading and preparing dataset json/loubnabnl--the-stack-inspection-data to /Users/harm.devries/.cache/huggingface/datasets/loubnabnl___json/loubnabnl--the-stack-inspection-data-de29180e37c4a749/0.0.0/e6070c77f18f01a5ad4551a8b7edfba20b8438b7cad4d94e6ad9378022ce4aab...\n"
     ]
    },
    {
     "data": {
      "application/vnd.jupyter.widget-view+json": {
       "model_id": "53aeffe796d44068ae8e4d8051c2a5a8",
       "version_major": 2,
       "version_minor": 0
      },
      "text/plain": [
       "Downloading data files:   0%|          | 0/1 [00:00<?, ?it/s]"
      ]
     },
     "metadata": {},
     "output_type": "display_data"
    },
    {
     "data": {
      "application/vnd.jupyter.widget-view+json": {
       "model_id": "7d500857cbbd4960948468fda9de754e",
       "version_major": 2,
       "version_minor": 0
      },
      "text/plain": [
       "Downloading data:   0%|          | 0.00/14.2M [00:00<?, ?B/s]"
      ]
     },
     "metadata": {},
     "output_type": "display_data"
    },
    {
     "data": {
      "application/vnd.jupyter.widget-view+json": {
       "model_id": "8f9e492c82814fd59eaedaf7992ee02d",
       "version_major": 2,
       "version_minor": 0
      },
      "text/plain": [
       "Extracting data files:   0%|          | 0/1 [00:00<?, ?it/s]"
      ]
     },
     "metadata": {},
     "output_type": "display_data"
    },
    {
     "data": {
      "application/vnd.jupyter.widget-view+json": {
       "model_id": "6f507512d79c4a65856b88eb9ec9932b",
       "version_major": 2,
       "version_minor": 0
      },
      "text/plain": [
       "Generating train split: 0 examples [00:00, ? examples/s]"
      ]
     },
     "metadata": {},
     "output_type": "display_data"
    },
    {
     "name": "stdout",
     "output_type": "stream",
     "text": [
      "Dataset json downloaded and prepared to /Users/harm.devries/.cache/huggingface/datasets/loubnabnl___json/loubnabnl--the-stack-inspection-data-de29180e37c4a749/0.0.0/e6070c77f18f01a5ad4551a8b7edfba20b8438b7cad4d94e6ad9378022ce4aab. Subsequent calls will reuse this data.\n"
     ]
    },
    {
     "name": "stderr",
     "output_type": "stream",
     "text": [
      "\n",
      "0it [00:00, ?it/s]\u001b[A\n",
      "246it [00:00, 2458.72it/s]\u001b[A\n",
      "492it [00:00, 2319.47it/s]\u001b[A\n",
      "725it [00:00, 2236.36it/s]\u001b[A\n",
      "1000it [00:00, 2326.97it/s][A\n"
     ]
    },
    {
     "name": "stdout",
     "output_type": "stream",
     "text": [
      "158\n",
      "ocaml\n",
      "mli\n"
     ]
    },
    {
     "name": "stderr",
     "output_type": "stream",
     "text": [
      "Using custom data configuration loubnabnl--the-stack-inspection-data-d8ada836030ccd34\n"
     ]
    },
    {
     "name": "stdout",
     "output_type": "stream",
     "text": [
      "Downloading and preparing dataset json/loubnabnl--the-stack-inspection-data to /Users/harm.devries/.cache/huggingface/datasets/loubnabnl___json/loubnabnl--the-stack-inspection-data-d8ada836030ccd34/0.0.0/e6070c77f18f01a5ad4551a8b7edfba20b8438b7cad4d94e6ad9378022ce4aab...\n"
     ]
    },
    {
     "data": {
      "application/vnd.jupyter.widget-view+json": {
       "model_id": "5b2ffb6299fb49c49bd9ef882ec57fef",
       "version_major": 2,
       "version_minor": 0
      },
      "text/plain": [
       "Downloading data files:   0%|          | 0/1 [00:00<?, ?it/s]"
      ]
     },
     "metadata": {},
     "output_type": "display_data"
    },
    {
     "data": {
      "application/vnd.jupyter.widget-view+json": {
       "model_id": "5910ac2cde054932affd133f6c7d94ab",
       "version_major": 2,
       "version_minor": 0
      },
      "text/plain": [
       "Downloading data:   0%|          | 0.00/3.93M [00:00<?, ?B/s]"
      ]
     },
     "metadata": {},
     "output_type": "display_data"
    },
    {
     "data": {
      "application/vnd.jupyter.widget-view+json": {
       "model_id": "28c14db5e44744b0b34e28a806712ba3",
       "version_major": 2,
       "version_minor": 0
      },
      "text/plain": [
       "Extracting data files:   0%|          | 0/1 [00:00<?, ?it/s]"
      ]
     },
     "metadata": {},
     "output_type": "display_data"
    },
    {
     "data": {
      "application/vnd.jupyter.widget-view+json": {
       "model_id": "ccd9479a3119423a9f4a07baaf4b50d1",
       "version_major": 2,
       "version_minor": 0
      },
      "text/plain": [
       "Generating train split: 0 examples [00:00, ? examples/s]"
      ]
     },
     "metadata": {},
     "output_type": "display_data"
    },
    {
     "name": "stdout",
     "output_type": "stream",
     "text": [
      "Dataset json downloaded and prepared to /Users/harm.devries/.cache/huggingface/datasets/loubnabnl___json/loubnabnl--the-stack-inspection-data-d8ada836030ccd34/0.0.0/e6070c77f18f01a5ad4551a8b7edfba20b8438b7cad4d94e6ad9378022ce4aab. Subsequent calls will reuse this data.\n"
     ]
    },
    {
     "name": "stderr",
     "output_type": "stream",
     "text": [
      "\n",
      "0it [00:00, ?it/s]\u001b[A\n",
      "1000it [00:00, 5128.81it/s][A\n"
     ]
    },
    {
     "name": "stdout",
     "output_type": "stream",
     "text": [
      "159\n",
      "ocaml\n",
      "mll\n"
     ]
    },
    {
     "name": "stderr",
     "output_type": "stream",
     "text": [
      "Using custom data configuration loubnabnl--the-stack-inspection-data-2bfbb9f09ff8f560\n"
     ]
    },
    {
     "name": "stdout",
     "output_type": "stream",
     "text": [
      "Downloading and preparing dataset json/loubnabnl--the-stack-inspection-data to /Users/harm.devries/.cache/huggingface/datasets/loubnabnl___json/loubnabnl--the-stack-inspection-data-2bfbb9f09ff8f560/0.0.0/e6070c77f18f01a5ad4551a8b7edfba20b8438b7cad4d94e6ad9378022ce4aab...\n"
     ]
    },
    {
     "data": {
      "application/vnd.jupyter.widget-view+json": {
       "model_id": "eb9bbc9014da416ca7f6fe8b2b811caf",
       "version_major": 2,
       "version_minor": 0
      },
      "text/plain": [
       "Downloading data files:   0%|          | 0/1 [00:00<?, ?it/s]"
      ]
     },
     "metadata": {},
     "output_type": "display_data"
    },
    {
     "data": {
      "application/vnd.jupyter.widget-view+json": {
       "model_id": "b2ac9ca6496d4ca8b72df91b23b965df",
       "version_major": 2,
       "version_minor": 0
      },
      "text/plain": [
       "Downloading data:   0%|          | 0.00/1.12M [00:00<?, ?B/s]"
      ]
     },
     "metadata": {},
     "output_type": "display_data"
    },
    {
     "data": {
      "application/vnd.jupyter.widget-view+json": {
       "model_id": "ab12df1c5ff349d0b15f528b5b3b2123",
       "version_major": 2,
       "version_minor": 0
      },
      "text/plain": [
       "Extracting data files:   0%|          | 0/1 [00:00<?, ?it/s]"
      ]
     },
     "metadata": {},
     "output_type": "display_data"
    },
    {
     "data": {
      "application/vnd.jupyter.widget-view+json": {
       "model_id": "b2118f326acf445a9211ee91f481a89b",
       "version_major": 2,
       "version_minor": 0
      },
      "text/plain": [
       "Generating train split: 0 examples [00:00, ? examples/s]"
      ]
     },
     "metadata": {},
     "output_type": "display_data"
    },
    {
     "name": "stdout",
     "output_type": "stream",
     "text": [
      "Dataset json downloaded and prepared to /Users/harm.devries/.cache/huggingface/datasets/loubnabnl___json/loubnabnl--the-stack-inspection-data-2bfbb9f09ff8f560/0.0.0/e6070c77f18f01a5ad4551a8b7edfba20b8438b7cad4d94e6ad9378022ce4aab. Subsequent calls will reuse this data.\n"
     ]
    },
    {
     "name": "stderr",
     "output_type": "stream",
     "text": [
      "\n",
      "163it [00:00, 3648.08it/s]"
     ]
    },
    {
     "name": "stdout",
     "output_type": "stream",
     "text": [
      "160\n",
      "ocaml\n",
      "mly\n"
     ]
    },
    {
     "name": "stderr",
     "output_type": "stream",
     "text": [
      "\n",
      "Using custom data configuration loubnabnl--the-stack-inspection-data-d425f8c528e44808\n"
     ]
    },
    {
     "name": "stdout",
     "output_type": "stream",
     "text": [
      "Downloading and preparing dataset json/loubnabnl--the-stack-inspection-data to /Users/harm.devries/.cache/huggingface/datasets/loubnabnl___json/loubnabnl--the-stack-inspection-data-d425f8c528e44808/0.0.0/e6070c77f18f01a5ad4551a8b7edfba20b8438b7cad4d94e6ad9378022ce4aab...\n"
     ]
    },
    {
     "data": {
      "application/vnd.jupyter.widget-view+json": {
       "model_id": "0595821b07d44658b2916b1b46a9eaaf",
       "version_major": 2,
       "version_minor": 0
      },
      "text/plain": [
       "Downloading data files:   0%|          | 0/1 [00:00<?, ?it/s]"
      ]
     },
     "metadata": {},
     "output_type": "display_data"
    },
    {
     "data": {
      "application/vnd.jupyter.widget-view+json": {
       "model_id": "44f89d6b50404c66b815a8014a1969bb",
       "version_major": 2,
       "version_minor": 0
      },
      "text/plain": [
       "Downloading data:   0%|          | 0.00/2.60M [00:00<?, ?B/s]"
      ]
     },
     "metadata": {},
     "output_type": "display_data"
    },
    {
     "data": {
      "application/vnd.jupyter.widget-view+json": {
       "model_id": "a58ec2b470ea429289438808d5b3585e",
       "version_major": 2,
       "version_minor": 0
      },
      "text/plain": [
       "Extracting data files:   0%|          | 0/1 [00:00<?, ?it/s]"
      ]
     },
     "metadata": {},
     "output_type": "display_data"
    },
    {
     "data": {
      "application/vnd.jupyter.widget-view+json": {
       "model_id": "aad534b906d14d7296da3cddb4a606c0",
       "version_major": 2,
       "version_minor": 0
      },
      "text/plain": [
       "Generating train split: 0 examples [00:00, ? examples/s]"
      ]
     },
     "metadata": {},
     "output_type": "display_data"
    },
    {
     "name": "stdout",
     "output_type": "stream",
     "text": [
      "Dataset json downloaded and prepared to /Users/harm.devries/.cache/huggingface/datasets/loubnabnl___json/loubnabnl--the-stack-inspection-data-d425f8c528e44808/0.0.0/e6070c77f18f01a5ad4551a8b7edfba20b8438b7cad4d94e6ad9378022ce4aab. Subsequent calls will reuse this data.\n"
     ]
    },
    {
     "name": "stderr",
     "output_type": "stream",
     "text": [
      "\n",
      "149it [00:00, 1955.09it/s]"
     ]
    },
    {
     "name": "stdout",
     "output_type": "stream",
     "text": [
      "161\n",
      "ocaml\n",
      "eliom\n"
     ]
    },
    {
     "name": "stderr",
     "output_type": "stream",
     "text": [
      "\n",
      "Using custom data configuration loubnabnl--the-stack-inspection-data-4b1ed044bb41c1cc\n"
     ]
    },
    {
     "name": "stdout",
     "output_type": "stream",
     "text": [
      "Downloading and preparing dataset json/loubnabnl--the-stack-inspection-data to /Users/harm.devries/.cache/huggingface/datasets/loubnabnl___json/loubnabnl--the-stack-inspection-data-4b1ed044bb41c1cc/0.0.0/e6070c77f18f01a5ad4551a8b7edfba20b8438b7cad4d94e6ad9378022ce4aab...\n"
     ]
    },
    {
     "data": {
      "application/vnd.jupyter.widget-view+json": {
       "model_id": "599665c573a24cdb8e84d4f658a754eb",
       "version_major": 2,
       "version_minor": 0
      },
      "text/plain": [
       "Downloading data files:   0%|          | 0/1 [00:00<?, ?it/s]"
      ]
     },
     "metadata": {},
     "output_type": "display_data"
    },
    {
     "data": {
      "application/vnd.jupyter.widget-view+json": {
       "model_id": "37569d637eaf4d58adf21ce0f2014623",
       "version_major": 2,
       "version_minor": 0
      },
      "text/plain": [
       "Downloading data:   0%|          | 0.00/27.5k [00:00<?, ?B/s]"
      ]
     },
     "metadata": {},
     "output_type": "display_data"
    },
    {
     "data": {
      "application/vnd.jupyter.widget-view+json": {
       "model_id": "e56cb558e629490ba99cf84de0baadec",
       "version_major": 2,
       "version_minor": 0
      },
      "text/plain": [
       "Extracting data files:   0%|          | 0/1 [00:00<?, ?it/s]"
      ]
     },
     "metadata": {},
     "output_type": "display_data"
    },
    {
     "data": {
      "application/vnd.jupyter.widget-view+json": {
       "model_id": "f11c54ce731847e19dac1f77118e83f7",
       "version_major": 2,
       "version_minor": 0
      },
      "text/plain": [
       "Generating train split: 0 examples [00:00, ? examples/s]"
      ]
     },
     "metadata": {},
     "output_type": "display_data"
    },
    {
     "name": "stdout",
     "output_type": "stream",
     "text": [
      "Dataset json downloaded and prepared to /Users/harm.devries/.cache/huggingface/datasets/loubnabnl___json/loubnabnl--the-stack-inspection-data-4b1ed044bb41c1cc/0.0.0/e6070c77f18f01a5ad4551a8b7edfba20b8438b7cad4d94e6ad9378022ce4aab. Subsequent calls will reuse this data.\n"
     ]
    },
    {
     "name": "stderr",
     "output_type": "stream",
     "text": [
      "\n",
      "10it [00:00, 4826.03it/s]"
     ]
    },
    {
     "name": "stdout",
     "output_type": "stream",
     "text": [
      "162\n",
      "ocaml\n",
      "eliomi\n"
     ]
    },
    {
     "name": "stderr",
     "output_type": "stream",
     "text": [
      "\n",
      "Using custom data configuration loubnabnl--the-stack-inspection-data-0cbd626c0047fdb0\n"
     ]
    },
    {
     "name": "stdout",
     "output_type": "stream",
     "text": [
      "Downloading and preparing dataset json/loubnabnl--the-stack-inspection-data to /Users/harm.devries/.cache/huggingface/datasets/loubnabnl___json/loubnabnl--the-stack-inspection-data-0cbd626c0047fdb0/0.0.0/e6070c77f18f01a5ad4551a8b7edfba20b8438b7cad4d94e6ad9378022ce4aab...\n"
     ]
    },
    {
     "data": {
      "application/vnd.jupyter.widget-view+json": {
       "model_id": "64b14c087da54696a5d73d662e0eea29",
       "version_major": 2,
       "version_minor": 0
      },
      "text/plain": [
       "Downloading data files:   0%|          | 0/1 [00:00<?, ?it/s]"
      ]
     },
     "metadata": {},
     "output_type": "display_data"
    },
    {
     "data": {
      "application/vnd.jupyter.widget-view+json": {
       "model_id": "3eaa83cb852148e9a113fc84524fe5f4",
       "version_major": 2,
       "version_minor": 0
      },
      "text/plain": [
       "Downloading data:   0%|          | 0.00/2.31k [00:00<?, ?B/s]"
      ]
     },
     "metadata": {},
     "output_type": "display_data"
    },
    {
     "data": {
      "application/vnd.jupyter.widget-view+json": {
       "model_id": "2c0d83bdd1c6494ca47303c1007a3f11",
       "version_major": 2,
       "version_minor": 0
      },
      "text/plain": [
       "Extracting data files:   0%|          | 0/1 [00:00<?, ?it/s]"
      ]
     },
     "metadata": {},
     "output_type": "display_data"
    },
    {
     "data": {
      "application/vnd.jupyter.widget-view+json": {
       "model_id": "c889a48ec52845ba8d0b328eb7aa1c6f",
       "version_major": 2,
       "version_minor": 0
      },
      "text/plain": [
       "Generating train split: 0 examples [00:00, ? examples/s]"
      ]
     },
     "metadata": {},
     "output_type": "display_data"
    },
    {
     "name": "stdout",
     "output_type": "stream",
     "text": [
      "Dataset json downloaded and prepared to /Users/harm.devries/.cache/huggingface/datasets/loubnabnl___json/loubnabnl--the-stack-inspection-data-0cbd626c0047fdb0/0.0.0/e6070c77f18f01a5ad4551a8b7edfba20b8438b7cad4d94e6ad9378022ce4aab. Subsequent calls will reuse this data.\n"
     ]
    },
    {
     "name": "stderr",
     "output_type": "stream",
     "text": [
      "\n",
      "2it [00:00, 2897.62it/s]"
     ]
    },
    {
     "name": "stdout",
     "output_type": "stream",
     "text": [
      "163\n",
      "ocaml\n",
      "ml4\n"
     ]
    },
    {
     "name": "stderr",
     "output_type": "stream",
     "text": [
      "\n",
      "Using custom data configuration loubnabnl--the-stack-inspection-data-87d6bc5d5de1fdc8\n"
     ]
    },
    {
     "name": "stdout",
     "output_type": "stream",
     "text": [
      "Downloading and preparing dataset json/loubnabnl--the-stack-inspection-data to /Users/harm.devries/.cache/huggingface/datasets/loubnabnl___json/loubnabnl--the-stack-inspection-data-87d6bc5d5de1fdc8/0.0.0/e6070c77f18f01a5ad4551a8b7edfba20b8438b7cad4d94e6ad9378022ce4aab...\n"
     ]
    },
    {
     "data": {
      "application/vnd.jupyter.widget-view+json": {
       "model_id": "f1c5df0d957e462aa37c6c5c23ee2b88",
       "version_major": 2,
       "version_minor": 0
      },
      "text/plain": [
       "Downloading data files:   0%|          | 0/1 [00:00<?, ?it/s]"
      ]
     },
     "metadata": {},
     "output_type": "display_data"
    },
    {
     "data": {
      "application/vnd.jupyter.widget-view+json": {
       "model_id": "2de01b302c3f4cbdad4461635603ec78",
       "version_major": 2,
       "version_minor": 0
      },
      "text/plain": [
       "Downloading data:   0%|          | 0.00/147k [00:00<?, ?B/s]"
      ]
     },
     "metadata": {},
     "output_type": "display_data"
    },
    {
     "data": {
      "application/vnd.jupyter.widget-view+json": {
       "model_id": "de8fcf868c844e43b7bed5f8413adc2a",
       "version_major": 2,
       "version_minor": 0
      },
      "text/plain": [
       "Extracting data files:   0%|          | 0/1 [00:00<?, ?it/s]"
      ]
     },
     "metadata": {},
     "output_type": "display_data"
    },
    {
     "data": {
      "application/vnd.jupyter.widget-view+json": {
       "model_id": "d692b0ee535846599eb81493e751e7ba",
       "version_major": 2,
       "version_minor": 0
      },
      "text/plain": [
       "Generating train split: 0 examples [00:00, ? examples/s]"
      ]
     },
     "metadata": {},
     "output_type": "display_data"
    },
    {
     "name": "stdout",
     "output_type": "stream",
     "text": [
      "Dataset json downloaded and prepared to /Users/harm.devries/.cache/huggingface/datasets/loubnabnl___json/loubnabnl--the-stack-inspection-data-87d6bc5d5de1fdc8/0.0.0/e6070c77f18f01a5ad4551a8b7edfba20b8438b7cad4d94e6ad9378022ce4aab. Subsequent calls will reuse this data.\n"
     ]
    },
    {
     "name": "stderr",
     "output_type": "stream",
     "text": [
      "\n",
      "11it [00:00, 2323.60it/s]"
     ]
    },
    {
     "name": "stdout",
     "output_type": "stream",
     "text": [
      "164\n",
      "pascal\n",
      "pas\n"
     ]
    },
    {
     "name": "stderr",
     "output_type": "stream",
     "text": [
      "\n",
      "Using custom data configuration loubnabnl--the-stack-inspection-data-eae8d5b0e641fb29\n"
     ]
    },
    {
     "name": "stdout",
     "output_type": "stream",
     "text": [
      "Downloading and preparing dataset json/loubnabnl--the-stack-inspection-data to /Users/harm.devries/.cache/huggingface/datasets/loubnabnl___json/loubnabnl--the-stack-inspection-data-eae8d5b0e641fb29/0.0.0/e6070c77f18f01a5ad4551a8b7edfba20b8438b7cad4d94e6ad9378022ce4aab...\n"
     ]
    },
    {
     "data": {
      "application/vnd.jupyter.widget-view+json": {
       "model_id": "fad5aec2dc4145f491dd45120f1cf86d",
       "version_major": 2,
       "version_minor": 0
      },
      "text/plain": [
       "Downloading data files:   0%|          | 0/1 [00:00<?, ?it/s]"
      ]
     },
     "metadata": {},
     "output_type": "display_data"
    },
    {
     "data": {
      "application/vnd.jupyter.widget-view+json": {
       "model_id": "3bb5509acff64096b96bcd1b107f5008",
       "version_major": 2,
       "version_minor": 0
      },
      "text/plain": [
       "Downloading data:   0%|          | 0.00/19.5M [00:00<?, ?B/s]"
      ]
     },
     "metadata": {},
     "output_type": "display_data"
    },
    {
     "data": {
      "application/vnd.jupyter.widget-view+json": {
       "model_id": "25b4c952a4c049f28b0ea1e9839d6227",
       "version_major": 2,
       "version_minor": 0
      },
      "text/plain": [
       "Extracting data files:   0%|          | 0/1 [00:00<?, ?it/s]"
      ]
     },
     "metadata": {},
     "output_type": "display_data"
    },
    {
     "data": {
      "application/vnd.jupyter.widget-view+json": {
       "model_id": "ae25eb1b95b24848a61babfca6b015b3",
       "version_major": 2,
       "version_minor": 0
      },
      "text/plain": [
       "Generating train split: 0 examples [00:00, ? examples/s]"
      ]
     },
     "metadata": {},
     "output_type": "display_data"
    },
    {
     "name": "stdout",
     "output_type": "stream",
     "text": [
      "Dataset json downloaded and prepared to /Users/harm.devries/.cache/huggingface/datasets/loubnabnl___json/loubnabnl--the-stack-inspection-data-eae8d5b0e641fb29/0.0.0/e6070c77f18f01a5ad4551a8b7edfba20b8438b7cad4d94e6ad9378022ce4aab. Subsequent calls will reuse this data.\n"
     ]
    },
    {
     "name": "stderr",
     "output_type": "stream",
     "text": [
      "\n",
      "0it [00:00, ?it/s]\u001b[A\n",
      "211it [00:00, 2103.17it/s]\u001b[A\n",
      "430it [00:00, 2150.54it/s]\u001b[A\n",
      "646it [00:00, 1750.27it/s]\u001b[A\n",
      "1000it [00:00, 1718.80it/s][A\n"
     ]
    },
    {
     "name": "stdout",
     "output_type": "stream",
     "text": [
      "165\n",
      "pascal\n",
      "dfm\n"
     ]
    },
    {
     "name": "stderr",
     "output_type": "stream",
     "text": [
      "Using custom data configuration loubnabnl--the-stack-inspection-data-527a3a382ddff82e\n"
     ]
    },
    {
     "name": "stdout",
     "output_type": "stream",
     "text": [
      "Downloading and preparing dataset json/loubnabnl--the-stack-inspection-data to /Users/harm.devries/.cache/huggingface/datasets/loubnabnl___json/loubnabnl--the-stack-inspection-data-527a3a382ddff82e/0.0.0/e6070c77f18f01a5ad4551a8b7edfba20b8438b7cad4d94e6ad9378022ce4aab...\n"
     ]
    },
    {
     "data": {
      "application/vnd.jupyter.widget-view+json": {
       "model_id": "0c5a0e72b4b84a56b2386fa91878ca87",
       "version_major": 2,
       "version_minor": 0
      },
      "text/plain": [
       "Downloading data files:   0%|          | 0/1 [00:00<?, ?it/s]"
      ]
     },
     "metadata": {},
     "output_type": "display_data"
    },
    {
     "data": {
      "application/vnd.jupyter.widget-view+json": {
       "model_id": "91db7a5d2a2343aa83c2f4fa48e9b7ce",
       "version_major": 2,
       "version_minor": 0
      },
      "text/plain": [
       "Downloading data:   0%|          | 0.00/26.3M [00:00<?, ?B/s]"
      ]
     },
     "metadata": {},
     "output_type": "display_data"
    },
    {
     "data": {
      "application/vnd.jupyter.widget-view+json": {
       "model_id": "921cd8270a2441a8a473bbc13ec8b1bb",
       "version_major": 2,
       "version_minor": 0
      },
      "text/plain": [
       "Extracting data files:   0%|          | 0/1 [00:00<?, ?it/s]"
      ]
     },
     "metadata": {},
     "output_type": "display_data"
    },
    {
     "data": {
      "application/vnd.jupyter.widget-view+json": {
       "model_id": "f3f15e443f6a4d52b3c7e9f223a9149c",
       "version_major": 2,
       "version_minor": 0
      },
      "text/plain": [
       "Generating train split: 0 examples [00:00, ? examples/s]"
      ]
     },
     "metadata": {},
     "output_type": "display_data"
    },
    {
     "name": "stdout",
     "output_type": "stream",
     "text": [
      "Dataset json downloaded and prepared to /Users/harm.devries/.cache/huggingface/datasets/loubnabnl___json/loubnabnl--the-stack-inspection-data-527a3a382ddff82e/0.0.0/e6070c77f18f01a5ad4551a8b7edfba20b8438b7cad4d94e6ad9378022ce4aab. Subsequent calls will reuse this data.\n"
     ]
    },
    {
     "name": "stderr",
     "output_type": "stream",
     "text": [
      "\n",
      "0it [00:00, ?it/s]\u001b[A\n",
      "109it [00:00, 1056.21it/s]\u001b[A\n",
      "297it [00:00, 1519.71it/s]\u001b[A\n",
      "450it [00:00, 1345.65it/s]\u001b[A\n",
      "587it [00:00, 1323.83it/s]\u001b[A\n",
      "727it [00:00, 1348.17it/s]\u001b[A\n",
      "1000it [00:00, 1378.05it/s][A\n"
     ]
    },
    {
     "name": "stdout",
     "output_type": "stream",
     "text": [
      "166\n",
      "pascal\n",
      "dpr\n"
     ]
    },
    {
     "name": "stderr",
     "output_type": "stream",
     "text": [
      "Using custom data configuration loubnabnl--the-stack-inspection-data-81ad15cd4099316c\n"
     ]
    },
    {
     "name": "stdout",
     "output_type": "stream",
     "text": [
      "Downloading and preparing dataset json/loubnabnl--the-stack-inspection-data to /Users/harm.devries/.cache/huggingface/datasets/loubnabnl___json/loubnabnl--the-stack-inspection-data-81ad15cd4099316c/0.0.0/e6070c77f18f01a5ad4551a8b7edfba20b8438b7cad4d94e6ad9378022ce4aab...\n"
     ]
    },
    {
     "data": {
      "application/vnd.jupyter.widget-view+json": {
       "model_id": "d6db967c92c94e1eadf5d09ae978b108",
       "version_major": 2,
       "version_minor": 0
      },
      "text/plain": [
       "Downloading data files:   0%|          | 0/1 [00:00<?, ?it/s]"
      ]
     },
     "metadata": {},
     "output_type": "display_data"
    },
    {
     "data": {
      "application/vnd.jupyter.widget-view+json": {
       "model_id": "05f37435b4d74edaaa448413986e80b5",
       "version_major": 2,
       "version_minor": 0
      },
      "text/plain": [
       "Downloading data:   0%|          | 0.00/2.05M [00:00<?, ?B/s]"
      ]
     },
     "metadata": {},
     "output_type": "display_data"
    },
    {
     "data": {
      "application/vnd.jupyter.widget-view+json": {
       "model_id": "184d0ddbd7644fd39995c70eecb26602",
       "version_major": 2,
       "version_minor": 0
      },
      "text/plain": [
       "Extracting data files:   0%|          | 0/1 [00:00<?, ?it/s]"
      ]
     },
     "metadata": {},
     "output_type": "display_data"
    },
    {
     "data": {
      "application/vnd.jupyter.widget-view+json": {
       "model_id": "59ed6de3a6f94f929fb100b23f28d893",
       "version_major": 2,
       "version_minor": 0
      },
      "text/plain": [
       "Generating train split: 0 examples [00:00, ? examples/s]"
      ]
     },
     "metadata": {},
     "output_type": "display_data"
    },
    {
     "name": "stdout",
     "output_type": "stream",
     "text": [
      "Dataset json downloaded and prepared to /Users/harm.devries/.cache/huggingface/datasets/loubnabnl___json/loubnabnl--the-stack-inspection-data-81ad15cd4099316c/0.0.0/e6070c77f18f01a5ad4551a8b7edfba20b8438b7cad4d94e6ad9378022ce4aab. Subsequent calls will reuse this data.\n"
     ]
    },
    {
     "name": "stderr",
     "output_type": "stream",
     "text": [
      "\n",
      "0it [00:00, ?it/s]\u001b[A\n",
      "1000it [00:00, 6955.36it/s][A"
     ]
    },
    {
     "name": "stdout",
     "output_type": "stream",
     "text": [
      "167\n",
      "pascal\n",
      "lpr\n"
     ]
    },
    {
     "name": "stderr",
     "output_type": "stream",
     "text": [
      "\n",
      "Using custom data configuration loubnabnl--the-stack-inspection-data-f56b473090f2ff44\n"
     ]
    },
    {
     "name": "stdout",
     "output_type": "stream",
     "text": [
      "Downloading and preparing dataset json/loubnabnl--the-stack-inspection-data to /Users/harm.devries/.cache/huggingface/datasets/loubnabnl___json/loubnabnl--the-stack-inspection-data-f56b473090f2ff44/0.0.0/e6070c77f18f01a5ad4551a8b7edfba20b8438b7cad4d94e6ad9378022ce4aab...\n"
     ]
    },
    {
     "data": {
      "application/vnd.jupyter.widget-view+json": {
       "model_id": "357a349a8b324cfdb720748f56db708c",
       "version_major": 2,
       "version_minor": 0
      },
      "text/plain": [
       "Downloading data files:   0%|          | 0/1 [00:00<?, ?it/s]"
      ]
     },
     "metadata": {},
     "output_type": "display_data"
    },
    {
     "data": {
      "application/vnd.jupyter.widget-view+json": {
       "model_id": "db11496250eb4e47952f9665d00add3d",
       "version_major": 2,
       "version_minor": 0
      },
      "text/plain": [
       "Downloading data:   0%|          | 0.00/767k [00:00<?, ?B/s]"
      ]
     },
     "metadata": {},
     "output_type": "display_data"
    },
    {
     "data": {
      "application/vnd.jupyter.widget-view+json": {
       "model_id": "d6041f3007c849be98675a8ec000a626",
       "version_major": 2,
       "version_minor": 0
      },
      "text/plain": [
       "Extracting data files:   0%|          | 0/1 [00:00<?, ?it/s]"
      ]
     },
     "metadata": {},
     "output_type": "display_data"
    },
    {
     "data": {
      "application/vnd.jupyter.widget-view+json": {
       "model_id": "7db82f0d81334c7895208d2ebbaced8e",
       "version_major": 2,
       "version_minor": 0
      },
      "text/plain": [
       "Generating train split: 0 examples [00:00, ? examples/s]"
      ]
     },
     "metadata": {},
     "output_type": "display_data"
    },
    {
     "name": "stdout",
     "output_type": "stream",
     "text": [
      "Dataset json downloaded and prepared to /Users/harm.devries/.cache/huggingface/datasets/loubnabnl___json/loubnabnl--the-stack-inspection-data-f56b473090f2ff44/0.0.0/e6070c77f18f01a5ad4551a8b7edfba20b8438b7cad4d94e6ad9378022ce4aab. Subsequent calls will reuse this data.\n"
     ]
    },
    {
     "name": "stderr",
     "output_type": "stream",
     "text": [
      "\n",
      "339it [00:00, 7687.11it/s]"
     ]
    },
    {
     "name": "stdout",
     "output_type": "stream",
     "text": [
      "168\n",
      "perl\n",
      "pl\n"
     ]
    },
    {
     "name": "stderr",
     "output_type": "stream",
     "text": [
      "\n",
      "Using custom data configuration loubnabnl--the-stack-inspection-data-0e278c3616c0ad03\n"
     ]
    },
    {
     "name": "stdout",
     "output_type": "stream",
     "text": [
      "Downloading and preparing dataset json/loubnabnl--the-stack-inspection-data to /Users/harm.devries/.cache/huggingface/datasets/loubnabnl___json/loubnabnl--the-stack-inspection-data-0e278c3616c0ad03/0.0.0/e6070c77f18f01a5ad4551a8b7edfba20b8438b7cad4d94e6ad9378022ce4aab...\n"
     ]
    },
    {
     "data": {
      "application/vnd.jupyter.widget-view+json": {
       "model_id": "32309990b9b2449ca78315832e316ad9",
       "version_major": 2,
       "version_minor": 0
      },
      "text/plain": [
       "Downloading data files:   0%|          | 0/1 [00:00<?, ?it/s]"
      ]
     },
     "metadata": {},
     "output_type": "display_data"
    },
    {
     "data": {
      "application/vnd.jupyter.widget-view+json": {
       "model_id": "ce3f4bcb81fc409a8dfef1af6c802f48",
       "version_major": 2,
       "version_minor": 0
      },
      "text/plain": [
       "Downloading data:   0%|          | 0.00/15.2M [00:00<?, ?B/s]"
      ]
     },
     "metadata": {},
     "output_type": "display_data"
    },
    {
     "data": {
      "application/vnd.jupyter.widget-view+json": {
       "model_id": "576208138241468abc4a4f25c61043aa",
       "version_major": 2,
       "version_minor": 0
      },
      "text/plain": [
       "Extracting data files:   0%|          | 0/1 [00:00<?, ?it/s]"
      ]
     },
     "metadata": {},
     "output_type": "display_data"
    },
    {
     "data": {
      "application/vnd.jupyter.widget-view+json": {
       "model_id": "0c5f230a7d1f47d9b72771b329e04ebf",
       "version_major": 2,
       "version_minor": 0
      },
      "text/plain": [
       "Generating train split: 0 examples [00:00, ? examples/s]"
      ]
     },
     "metadata": {},
     "output_type": "display_data"
    },
    {
     "name": "stdout",
     "output_type": "stream",
     "text": [
      "Dataset json downloaded and prepared to /Users/harm.devries/.cache/huggingface/datasets/loubnabnl___json/loubnabnl--the-stack-inspection-data-0e278c3616c0ad03/0.0.0/e6070c77f18f01a5ad4551a8b7edfba20b8438b7cad4d94e6ad9378022ce4aab. Subsequent calls will reuse this data.\n"
     ]
    },
    {
     "name": "stderr",
     "output_type": "stream",
     "text": [
      "\n",
      "0it [00:00, ?it/s]\u001b[A\n",
      "316it [00:00, 3088.17it/s]\u001b[A\n",
      "625it [00:00, 2695.60it/s]\u001b[A\n",
      "1000it [00:00, 2317.99it/s][A\n"
     ]
    },
    {
     "name": "stdout",
     "output_type": "stream",
     "text": [
      "169\n",
      "perl\n",
      "t\n"
     ]
    },
    {
     "name": "stderr",
     "output_type": "stream",
     "text": [
      "Using custom data configuration loubnabnl--the-stack-inspection-data-6a1e39e47d68e125\n"
     ]
    },
    {
     "name": "stdout",
     "output_type": "stream",
     "text": [
      "Downloading and preparing dataset json/loubnabnl--the-stack-inspection-data to /Users/harm.devries/.cache/huggingface/datasets/loubnabnl___json/loubnabnl--the-stack-inspection-data-6a1e39e47d68e125/0.0.0/e6070c77f18f01a5ad4551a8b7edfba20b8438b7cad4d94e6ad9378022ce4aab...\n"
     ]
    },
    {
     "data": {
      "application/vnd.jupyter.widget-view+json": {
       "model_id": "b9549f1bf2fa40dea78fe0e629e1e1cf",
       "version_major": 2,
       "version_minor": 0
      },
      "text/plain": [
       "Downloading data files:   0%|          | 0/1 [00:00<?, ?it/s]"
      ]
     },
     "metadata": {},
     "output_type": "display_data"
    },
    {
     "data": {
      "application/vnd.jupyter.widget-view+json": {
       "model_id": "685cdd75769b44edb3df7af16f0dbd49",
       "version_major": 2,
       "version_minor": 0
      },
      "text/plain": [
       "Downloading data:   0%|          | 0.00/6.24M [00:00<?, ?B/s]"
      ]
     },
     "metadata": {},
     "output_type": "display_data"
    },
    {
     "data": {
      "application/vnd.jupyter.widget-view+json": {
       "model_id": "3bdc80e243bd45ccb5f09a5b6708e77c",
       "version_major": 2,
       "version_minor": 0
      },
      "text/plain": [
       "Extracting data files:   0%|          | 0/1 [00:00<?, ?it/s]"
      ]
     },
     "metadata": {},
     "output_type": "display_data"
    },
    {
     "data": {
      "application/vnd.jupyter.widget-view+json": {
       "model_id": "864a7b493fed446e944733aad3bca5c0",
       "version_major": 2,
       "version_minor": 0
      },
      "text/plain": [
       "Generating train split: 0 examples [00:00, ? examples/s]"
      ]
     },
     "metadata": {},
     "output_type": "display_data"
    },
    {
     "name": "stdout",
     "output_type": "stream",
     "text": [
      "Dataset json downloaded and prepared to /Users/harm.devries/.cache/huggingface/datasets/loubnabnl___json/loubnabnl--the-stack-inspection-data-6a1e39e47d68e125/0.0.0/e6070c77f18f01a5ad4551a8b7edfba20b8438b7cad4d94e6ad9378022ce4aab. Subsequent calls will reuse this data.\n"
     ]
    },
    {
     "name": "stderr",
     "output_type": "stream",
     "text": [
      "\n",
      "0it [00:00, ?it/s]\u001b[A\n",
      "364it [00:00, 3637.90it/s]\u001b[A\n",
      "1000it [00:00, 4315.22it/s][A\n"
     ]
    },
    {
     "name": "stdout",
     "output_type": "stream",
     "text": [
      "170\n",
      "perl\n",
      "pm\n"
     ]
    },
    {
     "name": "stderr",
     "output_type": "stream",
     "text": [
      "Using custom data configuration loubnabnl--the-stack-inspection-data-d03bc9930eb7c686\n"
     ]
    },
    {
     "name": "stdout",
     "output_type": "stream",
     "text": [
      "Downloading and preparing dataset json/loubnabnl--the-stack-inspection-data to /Users/harm.devries/.cache/huggingface/datasets/loubnabnl___json/loubnabnl--the-stack-inspection-data-d03bc9930eb7c686/0.0.0/e6070c77f18f01a5ad4551a8b7edfba20b8438b7cad4d94e6ad9378022ce4aab...\n"
     ]
    },
    {
     "data": {
      "application/vnd.jupyter.widget-view+json": {
       "model_id": "91bf74a9c8f445ddb44820072c800bcf",
       "version_major": 2,
       "version_minor": 0
      },
      "text/plain": [
       "Downloading data files:   0%|          | 0/1 [00:00<?, ?it/s]"
      ]
     },
     "metadata": {},
     "output_type": "display_data"
    },
    {
     "data": {
      "application/vnd.jupyter.widget-view+json": {
       "model_id": "21f9f5f843e948dbb673080ae0682704",
       "version_major": 2,
       "version_minor": 0
      },
      "text/plain": [
       "Downloading data:   0%|          | 0.00/9.19M [00:00<?, ?B/s]"
      ]
     },
     "metadata": {},
     "output_type": "display_data"
    },
    {
     "data": {
      "application/vnd.jupyter.widget-view+json": {
       "model_id": "a5ee89b6409e4db9ad184ab32b1da6bc",
       "version_major": 2,
       "version_minor": 0
      },
      "text/plain": [
       "Extracting data files:   0%|          | 0/1 [00:00<?, ?it/s]"
      ]
     },
     "metadata": {},
     "output_type": "display_data"
    },
    {
     "data": {
      "application/vnd.jupyter.widget-view+json": {
       "model_id": "ed9479f6512043399763c9631944f05a",
       "version_major": 2,
       "version_minor": 0
      },
      "text/plain": [
       "Generating train split: 0 examples [00:00, ? examples/s]"
      ]
     },
     "metadata": {},
     "output_type": "display_data"
    },
    {
     "name": "stdout",
     "output_type": "stream",
     "text": [
      "Dataset json downloaded and prepared to /Users/harm.devries/.cache/huggingface/datasets/loubnabnl___json/loubnabnl--the-stack-inspection-data-d03bc9930eb7c686/0.0.0/e6070c77f18f01a5ad4551a8b7edfba20b8438b7cad4d94e6ad9378022ce4aab. Subsequent calls will reuse this data.\n"
     ]
    },
    {
     "name": "stderr",
     "output_type": "stream",
     "text": [
      "\n",
      "0it [00:00, ?it/s]\u001b[A\n",
      "323it [00:00, 3226.16it/s]\u001b[A\n",
      "654it [00:00, 3251.18it/s]\u001b[A\n",
      "1000it [00:00, 3243.86it/s][A\n"
     ]
    },
    {
     "name": "stdout",
     "output_type": "stream",
     "text": [
      "171\n",
      "perl\n",
      "al\n"
     ]
    },
    {
     "name": "stderr",
     "output_type": "stream",
     "text": [
      "Using custom data configuration loubnabnl--the-stack-inspection-data-0e2437b49ed18fe9\n"
     ]
    },
    {
     "name": "stdout",
     "output_type": "stream",
     "text": [
      "Downloading and preparing dataset json/loubnabnl--the-stack-inspection-data to /Users/harm.devries/.cache/huggingface/datasets/loubnabnl___json/loubnabnl--the-stack-inspection-data-0e2437b49ed18fe9/0.0.0/e6070c77f18f01a5ad4551a8b7edfba20b8438b7cad4d94e6ad9378022ce4aab...\n"
     ]
    },
    {
     "data": {
      "application/vnd.jupyter.widget-view+json": {
       "model_id": "5e811935c74c421cbae7d8d619ef4f2a",
       "version_major": 2,
       "version_minor": 0
      },
      "text/plain": [
       "Downloading data files:   0%|          | 0/1 [00:00<?, ?it/s]"
      ]
     },
     "metadata": {},
     "output_type": "display_data"
    },
    {
     "data": {
      "application/vnd.jupyter.widget-view+json": {
       "model_id": "7063fa1682af422991d27a721e6949d6",
       "version_major": 2,
       "version_minor": 0
      },
      "text/plain": [
       "Downloading data:   0%|          | 0.00/6.87M [00:00<?, ?B/s]"
      ]
     },
     "metadata": {},
     "output_type": "display_data"
    },
    {
     "data": {
      "application/vnd.jupyter.widget-view+json": {
       "model_id": "7640fb20811c4bce9f7e3d2af03806c3",
       "version_major": 2,
       "version_minor": 0
      },
      "text/plain": [
       "Extracting data files:   0%|          | 0/1 [00:00<?, ?it/s]"
      ]
     },
     "metadata": {},
     "output_type": "display_data"
    },
    {
     "data": {
      "application/vnd.jupyter.widget-view+json": {
       "model_id": "ced13da115364850b56caf520080e905",
       "version_major": 2,
       "version_minor": 0
      },
      "text/plain": [
       "Generating train split: 0 examples [00:00, ? examples/s]"
      ]
     },
     "metadata": {},
     "output_type": "display_data"
    },
    {
     "name": "stdout",
     "output_type": "stream",
     "text": [
      "Dataset json downloaded and prepared to /Users/harm.devries/.cache/huggingface/datasets/loubnabnl___json/loubnabnl--the-stack-inspection-data-0e2437b49ed18fe9/0.0.0/e6070c77f18f01a5ad4551a8b7edfba20b8438b7cad4d94e6ad9378022ce4aab. Subsequent calls will reuse this data.\n"
     ]
    },
    {
     "name": "stderr",
     "output_type": "stream",
     "text": [
      "\n",
      "0it [00:00, ?it/s]\u001b[A\n",
      "358it [00:00, 3566.59it/s]\u001b[A\n",
      "788it [00:00, 3664.96it/s]\u001b[A\n"
     ]
    },
    {
     "name": "stdout",
     "output_type": "stream",
     "text": [
      "172\n",
      "perl\n",
      "plx\n"
     ]
    },
    {
     "name": "stderr",
     "output_type": "stream",
     "text": [
      "Using custom data configuration loubnabnl--the-stack-inspection-data-6f28ba17584a3bbb\n"
     ]
    },
    {
     "name": "stdout",
     "output_type": "stream",
     "text": [
      "Downloading and preparing dataset json/loubnabnl--the-stack-inspection-data to /Users/harm.devries/.cache/huggingface/datasets/loubnabnl___json/loubnabnl--the-stack-inspection-data-6f28ba17584a3bbb/0.0.0/e6070c77f18f01a5ad4551a8b7edfba20b8438b7cad4d94e6ad9378022ce4aab...\n"
     ]
    },
    {
     "data": {
      "application/vnd.jupyter.widget-view+json": {
       "model_id": "5b6b508e900c4525944568b7894101bb",
       "version_major": 2,
       "version_minor": 0
      },
      "text/plain": [
       "Downloading data files:   0%|          | 0/1 [00:00<?, ?it/s]"
      ]
     },
     "metadata": {},
     "output_type": "display_data"
    },
    {
     "data": {
      "application/vnd.jupyter.widget-view+json": {
       "model_id": "1661d9e8e41443bfbddf22e4e258e6e9",
       "version_major": 2,
       "version_minor": 0
      },
      "text/plain": [
       "Downloading data:   0%|          | 0.00/93.0k [00:00<?, ?B/s]"
      ]
     },
     "metadata": {},
     "output_type": "display_data"
    },
    {
     "data": {
      "application/vnd.jupyter.widget-view+json": {
       "model_id": "6c2ca0f3753c480a929170499868b4fe",
       "version_major": 2,
       "version_minor": 0
      },
      "text/plain": [
       "Extracting data files:   0%|          | 0/1 [00:00<?, ?it/s]"
      ]
     },
     "metadata": {},
     "output_type": "display_data"
    },
    {
     "data": {
      "application/vnd.jupyter.widget-view+json": {
       "model_id": "e18d68ab064544e692889ca8e201f876",
       "version_major": 2,
       "version_minor": 0
      },
      "text/plain": [
       "Generating train split: 0 examples [00:00, ? examples/s]"
      ]
     },
     "metadata": {},
     "output_type": "display_data"
    },
    {
     "name": "stdout",
     "output_type": "stream",
     "text": [
      "Dataset json downloaded and prepared to /Users/harm.devries/.cache/huggingface/datasets/loubnabnl___json/loubnabnl--the-stack-inspection-data-6f28ba17584a3bbb/0.0.0/e6070c77f18f01a5ad4551a8b7edfba20b8438b7cad4d94e6ad9378022ce4aab. Subsequent calls will reuse this data.\n"
     ]
    },
    {
     "name": "stderr",
     "output_type": "stream",
     "text": [
      "\n",
      "28it [00:00, 6447.11it/s]"
     ]
    },
    {
     "name": "stdout",
     "output_type": "stream",
     "text": [
      "173\n",
      "perl\n",
      "ph\n"
     ]
    },
    {
     "name": "stderr",
     "output_type": "stream",
     "text": [
      "\n",
      "Using custom data configuration loubnabnl--the-stack-inspection-data-4131f2955d06d4c5\n"
     ]
    },
    {
     "name": "stdout",
     "output_type": "stream",
     "text": [
      "Downloading and preparing dataset json/loubnabnl--the-stack-inspection-data to /Users/harm.devries/.cache/huggingface/datasets/loubnabnl___json/loubnabnl--the-stack-inspection-data-4131f2955d06d4c5/0.0.0/e6070c77f18f01a5ad4551a8b7edfba20b8438b7cad4d94e6ad9378022ce4aab...\n"
     ]
    },
    {
     "data": {
      "application/vnd.jupyter.widget-view+json": {
       "model_id": "7fe909399c774c56a66f2ffc1fc025e5",
       "version_major": 2,
       "version_minor": 0
      },
      "text/plain": [
       "Downloading data files:   0%|          | 0/1 [00:00<?, ?it/s]"
      ]
     },
     "metadata": {},
     "output_type": "display_data"
    },
    {
     "data": {
      "application/vnd.jupyter.widget-view+json": {
       "model_id": "54741ef30e2f4ec2a06421badeef995b",
       "version_major": 2,
       "version_minor": 0
      },
      "text/plain": [
       "Downloading data:   0%|          | 0.00/177k [00:00<?, ?B/s]"
      ]
     },
     "metadata": {},
     "output_type": "display_data"
    },
    {
     "data": {
      "application/vnd.jupyter.widget-view+json": {
       "model_id": "e69c063aff5e445bb7eb7a8a71b12be5",
       "version_major": 2,
       "version_minor": 0
      },
      "text/plain": [
       "Extracting data files:   0%|          | 0/1 [00:00<?, ?it/s]"
      ]
     },
     "metadata": {},
     "output_type": "display_data"
    },
    {
     "data": {
      "application/vnd.jupyter.widget-view+json": {
       "model_id": "8f7246ac4dd143898c5718d0c504533c",
       "version_major": 2,
       "version_minor": 0
      },
      "text/plain": [
       "Generating train split: 0 examples [00:00, ? examples/s]"
      ]
     },
     "metadata": {},
     "output_type": "display_data"
    },
    {
     "name": "stdout",
     "output_type": "stream",
     "text": [
      "Dataset json downloaded and prepared to /Users/harm.devries/.cache/huggingface/datasets/loubnabnl___json/loubnabnl--the-stack-inspection-data-4131f2955d06d4c5/0.0.0/e6070c77f18f01a5ad4551a8b7edfba20b8438b7cad4d94e6ad9378022ce4aab. Subsequent calls will reuse this data.\n"
     ]
    },
    {
     "name": "stderr",
     "output_type": "stream",
     "text": [
      "\n",
      "62it [00:00, 5020.31it/s]"
     ]
    },
    {
     "name": "stdout",
     "output_type": "stream",
     "text": [
      "174\n",
      "perl\n",
      "psgi\n"
     ]
    },
    {
     "name": "stderr",
     "output_type": "stream",
     "text": [
      "\n",
      "Using custom data configuration loubnabnl--the-stack-inspection-data-cf1f007273da82d7\n"
     ]
    },
    {
     "name": "stdout",
     "output_type": "stream",
     "text": [
      "Downloading and preparing dataset json/loubnabnl--the-stack-inspection-data to /Users/harm.devries/.cache/huggingface/datasets/loubnabnl___json/loubnabnl--the-stack-inspection-data-cf1f007273da82d7/0.0.0/e6070c77f18f01a5ad4551a8b7edfba20b8438b7cad4d94e6ad9378022ce4aab...\n"
     ]
    },
    {
     "data": {
      "application/vnd.jupyter.widget-view+json": {
       "model_id": "4dcc33473f3044b7af02f61d039a7a05",
       "version_major": 2,
       "version_minor": 0
      },
      "text/plain": [
       "Downloading data files:   0%|          | 0/1 [00:00<?, ?it/s]"
      ]
     },
     "metadata": {},
     "output_type": "display_data"
    },
    {
     "data": {
      "application/vnd.jupyter.widget-view+json": {
       "model_id": "3c9749ee572e479faae3698d6c15a9ba",
       "version_major": 2,
       "version_minor": 0
      },
      "text/plain": [
       "Downloading data:   0%|          | 0.00/19.6k [00:00<?, ?B/s]"
      ]
     },
     "metadata": {},
     "output_type": "display_data"
    },
    {
     "data": {
      "application/vnd.jupyter.widget-view+json": {
       "model_id": "43b63369e653478881954d2f761131bb",
       "version_major": 2,
       "version_minor": 0
      },
      "text/plain": [
       "Extracting data files:   0%|          | 0/1 [00:00<?, ?it/s]"
      ]
     },
     "metadata": {},
     "output_type": "display_data"
    },
    {
     "data": {
      "application/vnd.jupyter.widget-view+json": {
       "model_id": "837ecdd2721a43549b83de643708e3b4",
       "version_major": 2,
       "version_minor": 0
      },
      "text/plain": [
       "Generating train split: 0 examples [00:00, ? examples/s]"
      ]
     },
     "metadata": {},
     "output_type": "display_data"
    },
    {
     "name": "stdout",
     "output_type": "stream",
     "text": [
      "Dataset json downloaded and prepared to /Users/harm.devries/.cache/huggingface/datasets/loubnabnl___json/loubnabnl--the-stack-inspection-data-cf1f007273da82d7/0.0.0/e6070c77f18f01a5ad4551a8b7edfba20b8438b7cad4d94e6ad9378022ce4aab. Subsequent calls will reuse this data.\n"
     ]
    },
    {
     "name": "stderr",
     "output_type": "stream",
     "text": [
      "\n",
      "11it [00:00, 5032.43it/s]"
     ]
    },
    {
     "name": "stdout",
     "output_type": "stream",
     "text": [
      "175\n",
      "perl\n",
      "perl\n"
     ]
    },
    {
     "name": "stderr",
     "output_type": "stream",
     "text": [
      "\n",
      "Using custom data configuration loubnabnl--the-stack-inspection-data-da5dc00903bd2209\n"
     ]
    },
    {
     "name": "stdout",
     "output_type": "stream",
     "text": [
      "Downloading and preparing dataset json/loubnabnl--the-stack-inspection-data to /Users/harm.devries/.cache/huggingface/datasets/loubnabnl___json/loubnabnl--the-stack-inspection-data-da5dc00903bd2209/0.0.0/e6070c77f18f01a5ad4551a8b7edfba20b8438b7cad4d94e6ad9378022ce4aab...\n"
     ]
    },
    {
     "data": {
      "application/vnd.jupyter.widget-view+json": {
       "model_id": "5796ddecef034033ad338beef86097db",
       "version_major": 2,
       "version_minor": 0
      },
      "text/plain": [
       "Downloading data files:   0%|          | 0/1 [00:00<?, ?it/s]"
      ]
     },
     "metadata": {},
     "output_type": "display_data"
    },
    {
     "data": {
      "application/vnd.jupyter.widget-view+json": {
       "model_id": "c1913be52c8b479cb550c8aa11d50208",
       "version_major": 2,
       "version_minor": 0
      },
      "text/plain": [
       "Downloading data:   0%|          | 0.00/573k [00:00<?, ?B/s]"
      ]
     },
     "metadata": {},
     "output_type": "display_data"
    },
    {
     "data": {
      "application/vnd.jupyter.widget-view+json": {
       "model_id": "ec69691c4ef840b6aa3e0d8efa4b3d9d",
       "version_major": 2,
       "version_minor": 0
      },
      "text/plain": [
       "Extracting data files:   0%|          | 0/1 [00:00<?, ?it/s]"
      ]
     },
     "metadata": {},
     "output_type": "display_data"
    },
    {
     "data": {
      "application/vnd.jupyter.widget-view+json": {
       "model_id": "d30a6247829e4a73aa3f7ce97422f42c",
       "version_major": 2,
       "version_minor": 0
      },
      "text/plain": [
       "Generating train split: 0 examples [00:00, ? examples/s]"
      ]
     },
     "metadata": {},
     "output_type": "display_data"
    },
    {
     "name": "stdout",
     "output_type": "stream",
     "text": [
      "Dataset json downloaded and prepared to /Users/harm.devries/.cache/huggingface/datasets/loubnabnl___json/loubnabnl--the-stack-inspection-data-da5dc00903bd2209/0.0.0/e6070c77f18f01a5ad4551a8b7edfba20b8438b7cad4d94e6ad9378022ce4aab. Subsequent calls will reuse this data.\n"
     ]
    },
    {
     "name": "stderr",
     "output_type": "stream",
     "text": [
      "\n",
      "62it [00:00, 3051.62it/s]"
     ]
    },
    {
     "name": "stdout",
     "output_type": "stream",
     "text": [
      "176\n",
      "php\n",
      "php\n"
     ]
    },
    {
     "name": "stderr",
     "output_type": "stream",
     "text": [
      "\n",
      "Using custom data configuration loubnabnl--the-stack-inspection-data-0aea88124b8a5d98\n"
     ]
    },
    {
     "name": "stdout",
     "output_type": "stream",
     "text": [
      "Downloading and preparing dataset json/loubnabnl--the-stack-inspection-data to /Users/harm.devries/.cache/huggingface/datasets/loubnabnl___json/loubnabnl--the-stack-inspection-data-0aea88124b8a5d98/0.0.0/e6070c77f18f01a5ad4551a8b7edfba20b8438b7cad4d94e6ad9378022ce4aab...\n"
     ]
    },
    {
     "data": {
      "application/vnd.jupyter.widget-view+json": {
       "model_id": "96846e7ae2e84a739e1414bee7795318",
       "version_major": 2,
       "version_minor": 0
      },
      "text/plain": [
       "Downloading data files:   0%|          | 0/1 [00:00<?, ?it/s]"
      ]
     },
     "metadata": {},
     "output_type": "display_data"
    },
    {
     "data": {
      "application/vnd.jupyter.widget-view+json": {
       "model_id": "5a9d2e8e5206487ea0680044faec5a46",
       "version_major": 2,
       "version_minor": 0
      },
      "text/plain": [
       "Downloading data:   0%|          | 0.00/5.98M [00:00<?, ?B/s]"
      ]
     },
     "metadata": {},
     "output_type": "display_data"
    },
    {
     "data": {
      "application/vnd.jupyter.widget-view+json": {
       "model_id": "5fa92594cd3642c4b8c12b45fb517b72",
       "version_major": 2,
       "version_minor": 0
      },
      "text/plain": [
       "Extracting data files:   0%|          | 0/1 [00:00<?, ?it/s]"
      ]
     },
     "metadata": {},
     "output_type": "display_data"
    },
    {
     "data": {
      "application/vnd.jupyter.widget-view+json": {
       "model_id": "d1a79884ede54672a1ac17e400d1bcb4",
       "version_major": 2,
       "version_minor": 0
      },
      "text/plain": [
       "Generating train split: 0 examples [00:00, ? examples/s]"
      ]
     },
     "metadata": {},
     "output_type": "display_data"
    },
    {
     "name": "stdout",
     "output_type": "stream",
     "text": [
      "Dataset json downloaded and prepared to /Users/harm.devries/.cache/huggingface/datasets/loubnabnl___json/loubnabnl--the-stack-inspection-data-0aea88124b8a5d98/0.0.0/e6070c77f18f01a5ad4551a8b7edfba20b8438b7cad4d94e6ad9378022ce4aab. Subsequent calls will reuse this data.\n"
     ]
    },
    {
     "name": "stderr",
     "output_type": "stream",
     "text": [
      "\n",
      "0it [00:00, ?it/s]\u001b[A\n",
      "433it [00:00, 4319.81it/s]\u001b[A\n",
      "1000it [00:00, 4596.67it/s][A\n"
     ]
    },
    {
     "name": "stdout",
     "output_type": "stream",
     "text": [
      "177\n",
      "php\n",
      "phpt\n"
     ]
    },
    {
     "name": "stderr",
     "output_type": "stream",
     "text": [
      "Using custom data configuration loubnabnl--the-stack-inspection-data-93f9d4d2430e4107\n"
     ]
    },
    {
     "name": "stdout",
     "output_type": "stream",
     "text": [
      "Downloading and preparing dataset json/loubnabnl--the-stack-inspection-data to /Users/harm.devries/.cache/huggingface/datasets/loubnabnl___json/loubnabnl--the-stack-inspection-data-93f9d4d2430e4107/0.0.0/e6070c77f18f01a5ad4551a8b7edfba20b8438b7cad4d94e6ad9378022ce4aab...\n"
     ]
    },
    {
     "data": {
      "application/vnd.jupyter.widget-view+json": {
       "model_id": "16c66902848f438680429a16aa0231f5",
       "version_major": 2,
       "version_minor": 0
      },
      "text/plain": [
       "Downloading data files:   0%|          | 0/1 [00:00<?, ?it/s]"
      ]
     },
     "metadata": {},
     "output_type": "display_data"
    },
    {
     "data": {
      "application/vnd.jupyter.widget-view+json": {
       "model_id": "5ce06b3b329f4bbb9c7df1283870b06b",
       "version_major": 2,
       "version_minor": 0
      },
      "text/plain": [
       "Downloading data:   0%|          | 0.00/220k [00:00<?, ?B/s]"
      ]
     },
     "metadata": {},
     "output_type": "display_data"
    },
    {
     "data": {
      "application/vnd.jupyter.widget-view+json": {
       "model_id": "5facae0dcb014f92b2ba26dc24f539f0",
       "version_major": 2,
       "version_minor": 0
      },
      "text/plain": [
       "Extracting data files:   0%|          | 0/1 [00:00<?, ?it/s]"
      ]
     },
     "metadata": {},
     "output_type": "display_data"
    },
    {
     "data": {
      "application/vnd.jupyter.widget-view+json": {
       "model_id": "06f7db1f026a4e388f96bdaead3e65e0",
       "version_major": 2,
       "version_minor": 0
      },
      "text/plain": [
       "Generating train split: 0 examples [00:00, ? examples/s]"
      ]
     },
     "metadata": {},
     "output_type": "display_data"
    },
    {
     "name": "stdout",
     "output_type": "stream",
     "text": [
      "Dataset json downloaded and prepared to /Users/harm.devries/.cache/huggingface/datasets/loubnabnl___json/loubnabnl--the-stack-inspection-data-93f9d4d2430e4107/0.0.0/e6070c77f18f01a5ad4551a8b7edfba20b8438b7cad4d94e6ad9378022ce4aab. Subsequent calls will reuse this data.\n"
     ]
    },
    {
     "name": "stderr",
     "output_type": "stream",
     "text": [
      "\n",
      "92it [00:00, 7176.28it/s]"
     ]
    },
    {
     "name": "stdout",
     "output_type": "stream",
     "text": [
      "178\n",
      "php\n",
      "ctp\n"
     ]
    },
    {
     "name": "stderr",
     "output_type": "stream",
     "text": [
      "\n",
      "Using custom data configuration loubnabnl--the-stack-inspection-data-9243918e82aa4b9a\n"
     ]
    },
    {
     "name": "stdout",
     "output_type": "stream",
     "text": [
      "Downloading and preparing dataset json/loubnabnl--the-stack-inspection-data to /Users/harm.devries/.cache/huggingface/datasets/loubnabnl___json/loubnabnl--the-stack-inspection-data-9243918e82aa4b9a/0.0.0/e6070c77f18f01a5ad4551a8b7edfba20b8438b7cad4d94e6ad9378022ce4aab...\n"
     ]
    },
    {
     "data": {
      "application/vnd.jupyter.widget-view+json": {
       "model_id": "286f8beb33524ae8a40fdb38bccb5afa",
       "version_major": 2,
       "version_minor": 0
      },
      "text/plain": [
       "Downloading data files:   0%|          | 0/1 [00:00<?, ?it/s]"
      ]
     },
     "metadata": {},
     "output_type": "display_data"
    },
    {
     "data": {
      "application/vnd.jupyter.widget-view+json": {
       "model_id": "da43d56fadb34b4e9eba49ce51c215a5",
       "version_major": 2,
       "version_minor": 0
      },
      "text/plain": [
       "Downloading data:   0%|          | 0.00/133k [00:00<?, ?B/s]"
      ]
     },
     "metadata": {},
     "output_type": "display_data"
    },
    {
     "data": {
      "application/vnd.jupyter.widget-view+json": {
       "model_id": "4009ba50ee0f401182f4d8879073e895",
       "version_major": 2,
       "version_minor": 0
      },
      "text/plain": [
       "Extracting data files:   0%|          | 0/1 [00:00<?, ?it/s]"
      ]
     },
     "metadata": {},
     "output_type": "display_data"
    },
    {
     "data": {
      "application/vnd.jupyter.widget-view+json": {
       "model_id": "64ba1b0a404c4017801f1b6128cfebf7",
       "version_major": 2,
       "version_minor": 0
      },
      "text/plain": [
       "Generating train split: 0 examples [00:00, ? examples/s]"
      ]
     },
     "metadata": {},
     "output_type": "display_data"
    },
    {
     "name": "stdout",
     "output_type": "stream",
     "text": [
      "Dataset json downloaded and prepared to /Users/harm.devries/.cache/huggingface/datasets/loubnabnl___json/loubnabnl--the-stack-inspection-data-9243918e82aa4b9a/0.0.0/e6070c77f18f01a5ad4551a8b7edfba20b8438b7cad4d94e6ad9378022ce4aab. Subsequent calls will reuse this data.\n"
     ]
    },
    {
     "name": "stderr",
     "output_type": "stream",
     "text": [
      "\n",
      "23it [00:00, 4233.51it/s]"
     ]
    },
    {
     "name": "stdout",
     "output_type": "stream",
     "text": [
      "179\n",
      "powershell\n",
      "ps1\n"
     ]
    },
    {
     "name": "stderr",
     "output_type": "stream",
     "text": [
      "\n",
      "Using custom data configuration loubnabnl--the-stack-inspection-data-3198eb0d81f18ebf\n"
     ]
    },
    {
     "name": "stdout",
     "output_type": "stream",
     "text": [
      "Downloading and preparing dataset json/loubnabnl--the-stack-inspection-data to /Users/harm.devries/.cache/huggingface/datasets/loubnabnl___json/loubnabnl--the-stack-inspection-data-3198eb0d81f18ebf/0.0.0/e6070c77f18f01a5ad4551a8b7edfba20b8438b7cad4d94e6ad9378022ce4aab...\n"
     ]
    },
    {
     "data": {
      "application/vnd.jupyter.widget-view+json": {
       "model_id": "f3259e3c5d54443ca2c54cf1ae69d9d6",
       "version_major": 2,
       "version_minor": 0
      },
      "text/plain": [
       "Downloading data files:   0%|          | 0/1 [00:00<?, ?it/s]"
      ]
     },
     "metadata": {},
     "output_type": "display_data"
    },
    {
     "data": {
      "application/vnd.jupyter.widget-view+json": {
       "model_id": "1eaed0f08ce5481cac741b05cc9a4c35",
       "version_major": 2,
       "version_minor": 0
      },
      "text/plain": [
       "Downloading data:   0%|          | 0.00/5.70M [00:00<?, ?B/s]"
      ]
     },
     "metadata": {},
     "output_type": "display_data"
    },
    {
     "data": {
      "application/vnd.jupyter.widget-view+json": {
       "model_id": "c65e9fc6a57c4887987cda1cf0e7307e",
       "version_major": 2,
       "version_minor": 0
      },
      "text/plain": [
       "Extracting data files:   0%|          | 0/1 [00:00<?, ?it/s]"
      ]
     },
     "metadata": {},
     "output_type": "display_data"
    },
    {
     "data": {
      "application/vnd.jupyter.widget-view+json": {
       "model_id": "54c63893236d4b53aeca16bf32dde81e",
       "version_major": 2,
       "version_minor": 0
      },
      "text/plain": [
       "Generating train split: 0 examples [00:00, ? examples/s]"
      ]
     },
     "metadata": {},
     "output_type": "display_data"
    },
    {
     "name": "stdout",
     "output_type": "stream",
     "text": [
      "Dataset json downloaded and prepared to /Users/harm.devries/.cache/huggingface/datasets/loubnabnl___json/loubnabnl--the-stack-inspection-data-3198eb0d81f18ebf/0.0.0/e6070c77f18f01a5ad4551a8b7edfba20b8438b7cad4d94e6ad9378022ce4aab. Subsequent calls will reuse this data.\n"
     ]
    },
    {
     "name": "stderr",
     "output_type": "stream",
     "text": [
      "\n",
      "0it [00:00, ?it/s]\u001b[A\n",
      "423it [00:00, 4226.91it/s]\u001b[A\n",
      "1000it [00:00, 4390.03it/s][A\n"
     ]
    },
    {
     "name": "stdout",
     "output_type": "stream",
     "text": [
      "180\n",
      "powershell\n",
      "psm1\n"
     ]
    },
    {
     "name": "stderr",
     "output_type": "stream",
     "text": [
      "Using custom data configuration loubnabnl--the-stack-inspection-data-dec0de041478a9c5\n"
     ]
    },
    {
     "name": "stdout",
     "output_type": "stream",
     "text": [
      "Downloading and preparing dataset json/loubnabnl--the-stack-inspection-data to /Users/harm.devries/.cache/huggingface/datasets/loubnabnl___json/loubnabnl--the-stack-inspection-data-dec0de041478a9c5/0.0.0/e6070c77f18f01a5ad4551a8b7edfba20b8438b7cad4d94e6ad9378022ce4aab...\n"
     ]
    },
    {
     "data": {
      "application/vnd.jupyter.widget-view+json": {
       "model_id": "6aa4cf1c50ae4db09e1bfa18e449f792",
       "version_major": 2,
       "version_minor": 0
      },
      "text/plain": [
       "Downloading data files:   0%|          | 0/1 [00:00<?, ?it/s]"
      ]
     },
     "metadata": {},
     "output_type": "display_data"
    },
    {
     "data": {
      "application/vnd.jupyter.widget-view+json": {
       "model_id": "3fba661bacd5430cb062d230ae95b5c8",
       "version_major": 2,
       "version_minor": 0
      },
      "text/plain": [
       "Downloading data:   0%|          | 0.00/17.8M [00:00<?, ?B/s]"
      ]
     },
     "metadata": {},
     "output_type": "display_data"
    },
    {
     "data": {
      "application/vnd.jupyter.widget-view+json": {
       "model_id": "b45c15fc27ef48e3b82b87816a5fa997",
       "version_major": 2,
       "version_minor": 0
      },
      "text/plain": [
       "Extracting data files:   0%|          | 0/1 [00:00<?, ?it/s]"
      ]
     },
     "metadata": {},
     "output_type": "display_data"
    },
    {
     "data": {
      "application/vnd.jupyter.widget-view+json": {
       "model_id": "591659911d7e4e0dbf604b50cefebb4c",
       "version_major": 2,
       "version_minor": 0
      },
      "text/plain": [
       "Generating train split: 0 examples [00:00, ? examples/s]"
      ]
     },
     "metadata": {},
     "output_type": "display_data"
    },
    {
     "name": "stdout",
     "output_type": "stream",
     "text": [
      "Dataset json downloaded and prepared to /Users/harm.devries/.cache/huggingface/datasets/loubnabnl___json/loubnabnl--the-stack-inspection-data-dec0de041478a9c5/0.0.0/e6070c77f18f01a5ad4551a8b7edfba20b8438b7cad4d94e6ad9378022ce4aab. Subsequent calls will reuse this data.\n"
     ]
    },
    {
     "name": "stderr",
     "output_type": "stream",
     "text": [
      "\n",
      "0it [00:00, ?it/s]\u001b[A\n",
      "144it [00:00, 1437.14it/s]\u001b[A\n",
      "351it [00:00, 1806.73it/s]\u001b[A\n",
      "532it [00:00, 1723.23it/s]\u001b[A\n",
      "758it [00:00, 1928.41it/s]\u001b[A\n",
      "1000it [00:00, 1862.52it/s][A\n"
     ]
    },
    {
     "name": "stdout",
     "output_type": "stream",
     "text": [
      "181\n",
      "powershell\n",
      "psd1\n"
     ]
    },
    {
     "name": "stderr",
     "output_type": "stream",
     "text": [
      "Using custom data configuration loubnabnl--the-stack-inspection-data-4e2a4ffd6c0ff8db\n"
     ]
    },
    {
     "name": "stdout",
     "output_type": "stream",
     "text": [
      "Downloading and preparing dataset json/loubnabnl--the-stack-inspection-data to /Users/harm.devries/.cache/huggingface/datasets/loubnabnl___json/loubnabnl--the-stack-inspection-data-4e2a4ffd6c0ff8db/0.0.0/e6070c77f18f01a5ad4551a8b7edfba20b8438b7cad4d94e6ad9378022ce4aab...\n"
     ]
    },
    {
     "data": {
      "application/vnd.jupyter.widget-view+json": {
       "model_id": "be668cb3ad22438890c7cf598634bd16",
       "version_major": 2,
       "version_minor": 0
      },
      "text/plain": [
       "Downloading data files:   0%|          | 0/1 [00:00<?, ?it/s]"
      ]
     },
     "metadata": {},
     "output_type": "display_data"
    },
    {
     "data": {
      "application/vnd.jupyter.widget-view+json": {
       "model_id": "7e4f116768014077bde60cae55eeca79",
       "version_major": 2,
       "version_minor": 0
      },
      "text/plain": [
       "Downloading data:   0%|          | 0.00/5.57M [00:00<?, ?B/s]"
      ]
     },
     "metadata": {},
     "output_type": "display_data"
    },
    {
     "data": {
      "application/vnd.jupyter.widget-view+json": {
       "model_id": "b53be1b87c7f49198166b661bcd575e9",
       "version_major": 2,
       "version_minor": 0
      },
      "text/plain": [
       "Extracting data files:   0%|          | 0/1 [00:00<?, ?it/s]"
      ]
     },
     "metadata": {},
     "output_type": "display_data"
    },
    {
     "data": {
      "application/vnd.jupyter.widget-view+json": {
       "model_id": "f90a890ac2564eb393e6ee4c305ebe25",
       "version_major": 2,
       "version_minor": 0
      },
      "text/plain": [
       "Generating train split: 0 examples [00:00, ? examples/s]"
      ]
     },
     "metadata": {},
     "output_type": "display_data"
    },
    {
     "name": "stdout",
     "output_type": "stream",
     "text": [
      "Dataset json downloaded and prepared to /Users/harm.devries/.cache/huggingface/datasets/loubnabnl___json/loubnabnl--the-stack-inspection-data-4e2a4ffd6c0ff8db/0.0.0/e6070c77f18f01a5ad4551a8b7edfba20b8438b7cad4d94e6ad9378022ce4aab. Subsequent calls will reuse this data.\n"
     ]
    },
    {
     "name": "stderr",
     "output_type": "stream",
     "text": [
      "\n",
      "0it [00:00, ?it/s]\u001b[A\n",
      "482it [00:00, 4802.52it/s]\u001b[A\n",
      "999it [00:00, 4735.76it/s]\u001b[A\n"
     ]
    },
    {
     "name": "stdout",
     "output_type": "stream",
     "text": [
      "182\n",
      "prolog\n",
      "yap\n"
     ]
    },
    {
     "name": "stderr",
     "output_type": "stream",
     "text": [
      "Using custom data configuration loubnabnl--the-stack-inspection-data-7830646deb824554\n"
     ]
    },
    {
     "name": "stdout",
     "output_type": "stream",
     "text": [
      "Downloading and preparing dataset json/loubnabnl--the-stack-inspection-data to /Users/harm.devries/.cache/huggingface/datasets/loubnabnl___json/loubnabnl--the-stack-inspection-data-7830646deb824554/0.0.0/e6070c77f18f01a5ad4551a8b7edfba20b8438b7cad4d94e6ad9378022ce4aab...\n"
     ]
    },
    {
     "data": {
      "application/vnd.jupyter.widget-view+json": {
       "model_id": "f0fbd1d6c8624abf82b9394776464ce8",
       "version_major": 2,
       "version_minor": 0
      },
      "text/plain": [
       "Downloading data files:   0%|          | 0/1 [00:00<?, ?it/s]"
      ]
     },
     "metadata": {},
     "output_type": "display_data"
    },
    {
     "data": {
      "application/vnd.jupyter.widget-view+json": {
       "model_id": "0aaeade72fcf4a23b13ec44624bfd6c8",
       "version_major": 2,
       "version_minor": 0
      },
      "text/plain": [
       "Downloading data:   0%|          | 0.00/20.0M [00:00<?, ?B/s]"
      ]
     },
     "metadata": {},
     "output_type": "display_data"
    },
    {
     "data": {
      "application/vnd.jupyter.widget-view+json": {
       "model_id": "a80c409a44404540a9d065b83a524724",
       "version_major": 2,
       "version_minor": 0
      },
      "text/plain": [
       "Extracting data files:   0%|          | 0/1 [00:00<?, ?it/s]"
      ]
     },
     "metadata": {},
     "output_type": "display_data"
    },
    {
     "data": {
      "application/vnd.jupyter.widget-view+json": {
       "model_id": "00f47ff70ea044139de7b69757ff98aa",
       "version_major": 2,
       "version_minor": 0
      },
      "text/plain": [
       "Generating train split: 0 examples [00:00, ? examples/s]"
      ]
     },
     "metadata": {},
     "output_type": "display_data"
    },
    {
     "name": "stdout",
     "output_type": "stream",
     "text": [
      "Dataset json downloaded and prepared to /Users/harm.devries/.cache/huggingface/datasets/loubnabnl___json/loubnabnl--the-stack-inspection-data-7830646deb824554/0.0.0/e6070c77f18f01a5ad4551a8b7edfba20b8438b7cad4d94e6ad9378022ce4aab. Subsequent calls will reuse this data.\n"
     ]
    },
    {
     "name": "stderr",
     "output_type": "stream",
     "text": [
      "\n",
      "0it [00:00, ?it/s]\u001b[A\n",
      "203it [00:00, 2029.82it/s]\u001b[AIOStream.flush timed out\n",
      "IOStream.flush timed out\n",
      "\n",
      "215it [00:20,  7.67it/s]  \u001b[A\n",
      "215it [00:20,  7.67it/s]\u001b[A\n",
      "298it [00:20, 13.47it/s]\u001b[A\n",
      "491it [00:20, 32.57it/s]\u001b[A\n",
      "684it [00:20, 59.22it/s]\u001b[A\n",
      "1000it [00:20, 48.44it/s][A\n"
     ]
    },
    {
     "name": "stdout",
     "output_type": "stream",
     "text": [
      "183\n",
      "prolog\n",
      "prolog\n"
     ]
    },
    {
     "name": "stderr",
     "output_type": "stream",
     "text": [
      "Using custom data configuration loubnabnl--the-stack-inspection-data-092cb461ac31b0cc\n"
     ]
    },
    {
     "name": "stdout",
     "output_type": "stream",
     "text": [
      "Downloading and preparing dataset json/loubnabnl--the-stack-inspection-data to /Users/harm.devries/.cache/huggingface/datasets/loubnabnl___json/loubnabnl--the-stack-inspection-data-092cb461ac31b0cc/0.0.0/e6070c77f18f01a5ad4551a8b7edfba20b8438b7cad4d94e6ad9378022ce4aab...\n"
     ]
    },
    {
     "data": {
      "application/vnd.jupyter.widget-view+json": {
       "model_id": "242b2a09e8ce438eaf5c3939a47a7dab",
       "version_major": 2,
       "version_minor": 0
      },
      "text/plain": [
       "Downloading data files:   0%|          | 0/1 [00:00<?, ?it/s]"
      ]
     },
     "metadata": {},
     "output_type": "display_data"
    },
    {
     "data": {
      "application/vnd.jupyter.widget-view+json": {
       "model_id": "39ba8940cb954f8e918444300f6c444e",
       "version_major": 2,
       "version_minor": 0
      },
      "text/plain": [
       "Downloading data:   0%|          | 0.00/2.37M [00:00<?, ?B/s]"
      ]
     },
     "metadata": {},
     "output_type": "display_data"
    },
    {
     "data": {
      "application/vnd.jupyter.widget-view+json": {
       "model_id": "1e288e87834c437cbdbadcdb8dca7604",
       "version_major": 2,
       "version_minor": 0
      },
      "text/plain": [
       "Extracting data files:   0%|          | 0/1 [00:00<?, ?it/s]"
      ]
     },
     "metadata": {},
     "output_type": "display_data"
    },
    {
     "data": {
      "application/vnd.jupyter.widget-view+json": {
       "model_id": "1cd384a5675c4dbfb0397fec3ca50d44",
       "version_major": 2,
       "version_minor": 0
      },
      "text/plain": [
       "Generating train split: 0 examples [00:00, ? examples/s]"
      ]
     },
     "metadata": {},
     "output_type": "display_data"
    },
    {
     "name": "stdout",
     "output_type": "stream",
     "text": [
      "Dataset json downloaded and prepared to /Users/harm.devries/.cache/huggingface/datasets/loubnabnl___json/loubnabnl--the-stack-inspection-data-092cb461ac31b0cc/0.0.0/e6070c77f18f01a5ad4551a8b7edfba20b8438b7cad4d94e6ad9378022ce4aab. Subsequent calls will reuse this data.\n"
     ]
    },
    {
     "name": "stderr",
     "output_type": "stream",
     "text": [
      "\n",
      "480it [00:00, 5155.41it/s]"
     ]
    },
    {
     "name": "stdout",
     "output_type": "stream",
     "text": [
      "184\n",
      "protocol-buffer\n",
      "proto\n"
     ]
    },
    {
     "name": "stderr",
     "output_type": "stream",
     "text": [
      "\n",
      "Using custom data configuration loubnabnl--the-stack-inspection-data-863df4f33e2e37ab\n"
     ]
    },
    {
     "name": "stdout",
     "output_type": "stream",
     "text": [
      "Downloading and preparing dataset json/loubnabnl--the-stack-inspection-data to /Users/harm.devries/.cache/huggingface/datasets/loubnabnl___json/loubnabnl--the-stack-inspection-data-863df4f33e2e37ab/0.0.0/e6070c77f18f01a5ad4551a8b7edfba20b8438b7cad4d94e6ad9378022ce4aab...\n"
     ]
    },
    {
     "data": {
      "application/vnd.jupyter.widget-view+json": {
       "model_id": "e0e17688eb014890891dd9195ff55487",
       "version_major": 2,
       "version_minor": 0
      },
      "text/plain": [
       "Downloading data files:   0%|          | 0/1 [00:00<?, ?it/s]"
      ]
     },
     "metadata": {},
     "output_type": "display_data"
    },
    {
     "data": {
      "application/vnd.jupyter.widget-view+json": {
       "model_id": "7ef71c6c07304fb8a31a2b5feb33c194",
       "version_major": 2,
       "version_minor": 0
      },
      "text/plain": [
       "Downloading data:   0%|          | 0.00/10.4M [00:00<?, ?B/s]"
      ]
     },
     "metadata": {},
     "output_type": "display_data"
    },
    {
     "data": {
      "application/vnd.jupyter.widget-view+json": {
       "model_id": "395bf0602dec4abd91b871caa1b3d71c",
       "version_major": 2,
       "version_minor": 0
      },
      "text/plain": [
       "Extracting data files:   0%|          | 0/1 [00:00<?, ?it/s]"
      ]
     },
     "metadata": {},
     "output_type": "display_data"
    },
    {
     "data": {
      "application/vnd.jupyter.widget-view+json": {
       "model_id": "28f43e023ca14d08b7cd7c364ef2e44e",
       "version_major": 2,
       "version_minor": 0
      },
      "text/plain": [
       "Generating train split: 0 examples [00:00, ? examples/s]"
      ]
     },
     "metadata": {},
     "output_type": "display_data"
    },
    {
     "name": "stdout",
     "output_type": "stream",
     "text": [
      "Dataset json downloaded and prepared to /Users/harm.devries/.cache/huggingface/datasets/loubnabnl___json/loubnabnl--the-stack-inspection-data-863df4f33e2e37ab/0.0.0/e6070c77f18f01a5ad4551a8b7edfba20b8438b7cad4d94e6ad9378022ce4aab. Subsequent calls will reuse this data.\n"
     ]
    },
    {
     "name": "stderr",
     "output_type": "stream",
     "text": [
      "\n",
      "0it [00:00, ?it/s]\u001b[A\n",
      "349it [00:00, 3408.74it/s]\u001b[A\n",
      "1000it [00:00, 3137.28it/s][A\n"
     ]
    },
    {
     "name": "stdout",
     "output_type": "stream",
     "text": [
      "185\n",
      "python\n",
      "py\n"
     ]
    },
    {
     "name": "stderr",
     "output_type": "stream",
     "text": [
      "Using custom data configuration loubnabnl--the-stack-inspection-data-ba715749ef544d7c\n"
     ]
    },
    {
     "name": "stdout",
     "output_type": "stream",
     "text": [
      "Downloading and preparing dataset json/loubnabnl--the-stack-inspection-data to /Users/harm.devries/.cache/huggingface/datasets/loubnabnl___json/loubnabnl--the-stack-inspection-data-ba715749ef544d7c/0.0.0/e6070c77f18f01a5ad4551a8b7edfba20b8438b7cad4d94e6ad9378022ce4aab...\n"
     ]
    },
    {
     "data": {
      "application/vnd.jupyter.widget-view+json": {
       "model_id": "386821bfbcdf4e4780293cc690adb0fd",
       "version_major": 2,
       "version_minor": 0
      },
      "text/plain": [
       "Downloading data files:   0%|          | 0/1 [00:00<?, ?it/s]"
      ]
     },
     "metadata": {},
     "output_type": "display_data"
    },
    {
     "data": {
      "application/vnd.jupyter.widget-view+json": {
       "model_id": "48b62d2b2a204cb89fc5c0780c450488",
       "version_major": 2,
       "version_minor": 0
      },
      "text/plain": [
       "Downloading data:   0%|          | 0.00/9.65M [00:00<?, ?B/s]"
      ]
     },
     "metadata": {},
     "output_type": "display_data"
    },
    {
     "data": {
      "application/vnd.jupyter.widget-view+json": {
       "model_id": "69c50c15e2ad475e8111dfe4f078892a",
       "version_major": 2,
       "version_minor": 0
      },
      "text/plain": [
       "Extracting data files:   0%|          | 0/1 [00:00<?, ?it/s]"
      ]
     },
     "metadata": {},
     "output_type": "display_data"
    },
    {
     "data": {
      "application/vnd.jupyter.widget-view+json": {
       "model_id": "bd295d28e48e4480a0607edcf504dfe6",
       "version_major": 2,
       "version_minor": 0
      },
      "text/plain": [
       "Generating train split: 0 examples [00:00, ? examples/s]"
      ]
     },
     "metadata": {},
     "output_type": "display_data"
    },
    {
     "name": "stdout",
     "output_type": "stream",
     "text": [
      "Dataset json downloaded and prepared to /Users/harm.devries/.cache/huggingface/datasets/loubnabnl___json/loubnabnl--the-stack-inspection-data-ba715749ef544d7c/0.0.0/e6070c77f18f01a5ad4551a8b7edfba20b8438b7cad4d94e6ad9378022ce4aab. Subsequent calls will reuse this data.\n"
     ]
    },
    {
     "name": "stderr",
     "output_type": "stream",
     "text": [
      "\n",
      "0it [00:00, ?it/s]\u001b[A\n",
      "352it [00:00, 3512.73it/s]\u001b[A\n",
      "1000it [00:00, 2921.32it/s][A\n"
     ]
    },
    {
     "name": "stdout",
     "output_type": "stream",
     "text": [
      "186\n",
      "python\n",
      "bzl\n"
     ]
    },
    {
     "name": "stderr",
     "output_type": "stream",
     "text": [
      "Using custom data configuration loubnabnl--the-stack-inspection-data-2232888773a40d65\n"
     ]
    },
    {
     "name": "stdout",
     "output_type": "stream",
     "text": [
      "Downloading and preparing dataset json/loubnabnl--the-stack-inspection-data to /Users/harm.devries/.cache/huggingface/datasets/loubnabnl___json/loubnabnl--the-stack-inspection-data-2232888773a40d65/0.0.0/e6070c77f18f01a5ad4551a8b7edfba20b8438b7cad4d94e6ad9378022ce4aab...\n"
     ]
    },
    {
     "data": {
      "application/vnd.jupyter.widget-view+json": {
       "model_id": "e4709eeef06742b88d90a8eeea2f764a",
       "version_major": 2,
       "version_minor": 0
      },
      "text/plain": [
       "Downloading data files:   0%|          | 0/1 [00:00<?, ?it/s]"
      ]
     },
     "metadata": {},
     "output_type": "display_data"
    },
    {
     "data": {
      "application/vnd.jupyter.widget-view+json": {
       "model_id": "bd100eaa9bba46d2b380c93b9b293dbb",
       "version_major": 2,
       "version_minor": 0
      },
      "text/plain": [
       "Downloading data:   0%|          | 0.00/524k [00:00<?, ?B/s]"
      ]
     },
     "metadata": {},
     "output_type": "display_data"
    },
    {
     "data": {
      "application/vnd.jupyter.widget-view+json": {
       "model_id": "2c97e2650cc044f682ab9c17a5d0ef4c",
       "version_major": 2,
       "version_minor": 0
      },
      "text/plain": [
       "Extracting data files:   0%|          | 0/1 [00:00<?, ?it/s]"
      ]
     },
     "metadata": {},
     "output_type": "display_data"
    },
    {
     "data": {
      "application/vnd.jupyter.widget-view+json": {
       "model_id": "eed3e46f91cd4294932c9432cd58a8bb",
       "version_major": 2,
       "version_minor": 0
      },
      "text/plain": [
       "Generating train split: 0 examples [00:00, ? examples/s]"
      ]
     },
     "metadata": {},
     "output_type": "display_data"
    },
    {
     "name": "stdout",
     "output_type": "stream",
     "text": [
      "Dataset json downloaded and prepared to /Users/harm.devries/.cache/huggingface/datasets/loubnabnl___json/loubnabnl--the-stack-inspection-data-2232888773a40d65/0.0.0/e6070c77f18f01a5ad4551a8b7edfba20b8438b7cad4d94e6ad9378022ce4aab. Subsequent calls will reuse this data.\n"
     ]
    },
    {
     "name": "stderr",
     "output_type": "stream",
     "text": [
      "\n",
      "\n",
      "50it [00:00, 1971.67it/s]"
     ]
    },
    {
     "name": "stdout",
     "output_type": "stream",
     "text": [
      "187\n",
      "python\n",
      "pyw\n"
     ]
    },
    {
     "name": "stderr",
     "output_type": "stream",
     "text": [
      "\n",
      "Using custom data configuration loubnabnl--the-stack-inspection-data-cea0e6b143c3a11f\n"
     ]
    },
    {
     "name": "stdout",
     "output_type": "stream",
     "text": [
      "Downloading and preparing dataset json/loubnabnl--the-stack-inspection-data to /Users/harm.devries/.cache/huggingface/datasets/loubnabnl___json/loubnabnl--the-stack-inspection-data-cea0e6b143c3a11f/0.0.0/e6070c77f18f01a5ad4551a8b7edfba20b8438b7cad4d94e6ad9378022ce4aab...\n"
     ]
    },
    {
     "data": {
      "application/vnd.jupyter.widget-view+json": {
       "model_id": "e43d3bb47ee044f4af4ff9185aefcc84",
       "version_major": 2,
       "version_minor": 0
      },
      "text/plain": [
       "Downloading data files:   0%|          | 0/1 [00:00<?, ?it/s]"
      ]
     },
     "metadata": {},
     "output_type": "display_data"
    },
    {
     "data": {
      "application/vnd.jupyter.widget-view+json": {
       "model_id": "2b7a79ea76aa4abea65a590977d04dfc",
       "version_major": 2,
       "version_minor": 0
      },
      "text/plain": [
       "Downloading data:   0%|          | 0.00/38.6k [00:00<?, ?B/s]"
      ]
     },
     "metadata": {},
     "output_type": "display_data"
    },
    {
     "data": {
      "application/vnd.jupyter.widget-view+json": {
       "model_id": "c8c8e2d576d74934b18f71c3093c8071",
       "version_major": 2,
       "version_minor": 0
      },
      "text/plain": [
       "Extracting data files:   0%|          | 0/1 [00:00<?, ?it/s]"
      ]
     },
     "metadata": {},
     "output_type": "display_data"
    },
    {
     "data": {
      "application/vnd.jupyter.widget-view+json": {
       "model_id": "2e7cd03277b94be19dfe47933e5d3575",
       "version_major": 2,
       "version_minor": 0
      },
      "text/plain": [
       "Generating train split: 0 examples [00:00, ? examples/s]"
      ]
     },
     "metadata": {},
     "output_type": "display_data"
    },
    {
     "name": "stdout",
     "output_type": "stream",
     "text": [
      "Dataset json downloaded and prepared to /Users/harm.devries/.cache/huggingface/datasets/loubnabnl___json/loubnabnl--the-stack-inspection-data-cea0e6b143c3a11f/0.0.0/e6070c77f18f01a5ad4551a8b7edfba20b8438b7cad4d94e6ad9378022ce4aab. Subsequent calls will reuse this data.\n"
     ]
    },
    {
     "name": "stderr",
     "output_type": "stream",
     "text": [
      "\n",
      "\n",
      "6it [00:00, 2618.71it/s]"
     ]
    },
    {
     "name": "stdout",
     "output_type": "stream",
     "text": [
      "188\n",
      "python\n",
      "gyp\n"
     ]
    },
    {
     "name": "stderr",
     "output_type": "stream",
     "text": [
      "\n",
      "Using custom data configuration loubnabnl--the-stack-inspection-data-27139d864ee43e18\n"
     ]
    },
    {
     "name": "stdout",
     "output_type": "stream",
     "text": [
      "Downloading and preparing dataset json/loubnabnl--the-stack-inspection-data to /Users/harm.devries/.cache/huggingface/datasets/loubnabnl___json/loubnabnl--the-stack-inspection-data-27139d864ee43e18/0.0.0/e6070c77f18f01a5ad4551a8b7edfba20b8438b7cad4d94e6ad9378022ce4aab...\n"
     ]
    },
    {
     "data": {
      "application/vnd.jupyter.widget-view+json": {
       "model_id": "10044b12f9b94ee4925a7791c6fa2165",
       "version_major": 2,
       "version_minor": 0
      },
      "text/plain": [
       "Downloading data files:   0%|          | 0/1 [00:00<?, ?it/s]"
      ]
     },
     "metadata": {},
     "output_type": "display_data"
    },
    {
     "data": {
      "application/vnd.jupyter.widget-view+json": {
       "model_id": "9c56ea9496b44d0997900816c52a43fc",
       "version_major": 2,
       "version_minor": 0
      },
      "text/plain": [
       "Downloading data:   0%|          | 0.00/214k [00:00<?, ?B/s]"
      ]
     },
     "metadata": {},
     "output_type": "display_data"
    },
    {
     "data": {
      "application/vnd.jupyter.widget-view+json": {
       "model_id": "dc6df9a3b7fa4911ad0d37bd9baa43f2",
       "version_major": 2,
       "version_minor": 0
      },
      "text/plain": [
       "Extracting data files:   0%|          | 0/1 [00:00<?, ?it/s]"
      ]
     },
     "metadata": {},
     "output_type": "display_data"
    },
    {
     "data": {
      "application/vnd.jupyter.widget-view+json": {
       "model_id": "ee6040051433440089f4201cdf2c8de7",
       "version_major": 2,
       "version_minor": 0
      },
      "text/plain": [
       "Generating train split: 0 examples [00:00, ? examples/s]"
      ]
     },
     "metadata": {},
     "output_type": "display_data"
    },
    {
     "name": "stdout",
     "output_type": "stream",
     "text": [
      "Dataset json downloaded and prepared to /Users/harm.devries/.cache/huggingface/datasets/loubnabnl___json/loubnabnl--the-stack-inspection-data-27139d864ee43e18/0.0.0/e6070c77f18f01a5ad4551a8b7edfba20b8438b7cad4d94e6ad9378022ce4aab. Subsequent calls will reuse this data.\n"
     ]
    },
    {
     "name": "stderr",
     "output_type": "stream",
     "text": [
      "\n",
      "15it [00:00, 1861.54it/s]"
     ]
    },
    {
     "name": "stdout",
     "output_type": "stream",
     "text": [
      "189\n",
      "python\n",
      "pyde\n"
     ]
    },
    {
     "name": "stderr",
     "output_type": "stream",
     "text": [
      "\n",
      "Using custom data configuration loubnabnl--the-stack-inspection-data-503ee6ba1d54c338\n"
     ]
    },
    {
     "name": "stdout",
     "output_type": "stream",
     "text": [
      "Downloading and preparing dataset json/loubnabnl--the-stack-inspection-data to /Users/harm.devries/.cache/huggingface/datasets/loubnabnl___json/loubnabnl--the-stack-inspection-data-503ee6ba1d54c338/0.0.0/e6070c77f18f01a5ad4551a8b7edfba20b8438b7cad4d94e6ad9378022ce4aab...\n"
     ]
    },
    {
     "data": {
      "application/vnd.jupyter.widget-view+json": {
       "model_id": "08ee3dba9b514319a4286dc09d09c56c",
       "version_major": 2,
       "version_minor": 0
      },
      "text/plain": [
       "Downloading data files:   0%|          | 0/1 [00:00<?, ?it/s]"
      ]
     },
     "metadata": {},
     "output_type": "display_data"
    },
    {
     "data": {
      "application/vnd.jupyter.widget-view+json": {
       "model_id": "2deafca1b13b4b69b282a9d0e7e23fb7",
       "version_major": 2,
       "version_minor": 0
      },
      "text/plain": [
       "Downloading data:   0%|          | 0.00/2.35k [00:00<?, ?B/s]"
      ]
     },
     "metadata": {},
     "output_type": "display_data"
    },
    {
     "data": {
      "application/vnd.jupyter.widget-view+json": {
       "model_id": "eef1beedae674f8e8b8935a4e5873911",
       "version_major": 2,
       "version_minor": 0
      },
      "text/plain": [
       "Extracting data files:   0%|          | 0/1 [00:00<?, ?it/s]"
      ]
     },
     "metadata": {},
     "output_type": "display_data"
    },
    {
     "data": {
      "application/vnd.jupyter.widget-view+json": {
       "model_id": "018cdfd415284268b6127d9e59de76e2",
       "version_major": 2,
       "version_minor": 0
      },
      "text/plain": [
       "Generating train split: 0 examples [00:00, ? examples/s]"
      ]
     },
     "metadata": {},
     "output_type": "display_data"
    },
    {
     "name": "stdout",
     "output_type": "stream",
     "text": [
      "Dataset json downloaded and prepared to /Users/harm.devries/.cache/huggingface/datasets/loubnabnl___json/loubnabnl--the-stack-inspection-data-503ee6ba1d54c338/0.0.0/e6070c77f18f01a5ad4551a8b7edfba20b8438b7cad4d94e6ad9378022ce4aab. Subsequent calls will reuse this data.\n"
     ]
    },
    {
     "name": "stderr",
     "output_type": "stream",
     "text": [
      "\n",
      "2it [00:00, 3823.43it/s]"
     ]
    },
    {
     "name": "stdout",
     "output_type": "stream",
     "text": [
      "190\n",
      "r\n",
      "r\n"
     ]
    },
    {
     "name": "stderr",
     "output_type": "stream",
     "text": [
      "\n",
      "Using custom data configuration loubnabnl--the-stack-inspection-data-69a8276aadea8afd\n"
     ]
    },
    {
     "name": "stdout",
     "output_type": "stream",
     "text": [
      "Downloading and preparing dataset json/loubnabnl--the-stack-inspection-data to /Users/harm.devries/.cache/huggingface/datasets/loubnabnl___json/loubnabnl--the-stack-inspection-data-69a8276aadea8afd/0.0.0/e6070c77f18f01a5ad4551a8b7edfba20b8438b7cad4d94e6ad9378022ce4aab...\n"
     ]
    },
    {
     "data": {
      "application/vnd.jupyter.widget-view+json": {
       "model_id": "de2e144189284ccd8d8f1a397b379f0f",
       "version_major": 2,
       "version_minor": 0
      },
      "text/plain": [
       "Downloading data files:   0%|          | 0/1 [00:00<?, ?it/s]"
      ]
     },
     "metadata": {},
     "output_type": "display_data"
    },
    {
     "data": {
      "application/vnd.jupyter.widget-view+json": {
       "model_id": "a716982e000540139e94ac0d31ea2f2b",
       "version_major": 2,
       "version_minor": 0
      },
      "text/plain": [
       "Downloading data:   0%|          | 0.00/6.41M [00:00<?, ?B/s]"
      ]
     },
     "metadata": {},
     "output_type": "display_data"
    },
    {
     "data": {
      "application/vnd.jupyter.widget-view+json": {
       "model_id": "333684355fbe4e31977d44c56770bac3",
       "version_major": 2,
       "version_minor": 0
      },
      "text/plain": [
       "Extracting data files:   0%|          | 0/1 [00:00<?, ?it/s]"
      ]
     },
     "metadata": {},
     "output_type": "display_data"
    },
    {
     "data": {
      "application/vnd.jupyter.widget-view+json": {
       "model_id": "ccf2275e05c84b3fbb04974604e0334f",
       "version_major": 2,
       "version_minor": 0
      },
      "text/plain": [
       "Generating train split: 0 examples [00:00, ? examples/s]"
      ]
     },
     "metadata": {},
     "output_type": "display_data"
    },
    {
     "name": "stdout",
     "output_type": "stream",
     "text": [
      "Dataset json downloaded and prepared to /Users/harm.devries/.cache/huggingface/datasets/loubnabnl___json/loubnabnl--the-stack-inspection-data-69a8276aadea8afd/0.0.0/e6070c77f18f01a5ad4551a8b7edfba20b8438b7cad4d94e6ad9378022ce4aab. Subsequent calls will reuse this data.\n"
     ]
    },
    {
     "name": "stderr",
     "output_type": "stream",
     "text": [
      "1000it [00:00, 4171.97it/s]\n"
     ]
    },
    {
     "name": "stdout",
     "output_type": "stream",
     "text": [
      "191\n",
      "r\n",
      "rd\n"
     ]
    },
    {
     "name": "stderr",
     "output_type": "stream",
     "text": [
      "Using custom data configuration loubnabnl--the-stack-inspection-data-94c72cc11de9cac9\n"
     ]
    },
    {
     "name": "stdout",
     "output_type": "stream",
     "text": [
      "Downloading and preparing dataset json/loubnabnl--the-stack-inspection-data to /Users/harm.devries/.cache/huggingface/datasets/loubnabnl___json/loubnabnl--the-stack-inspection-data-94c72cc11de9cac9/0.0.0/e6070c77f18f01a5ad4551a8b7edfba20b8438b7cad4d94e6ad9378022ce4aab...\n"
     ]
    },
    {
     "data": {
      "application/vnd.jupyter.widget-view+json": {
       "model_id": "d6c5f9781de2488d8d810c34c6c48b8e",
       "version_major": 2,
       "version_minor": 0
      },
      "text/plain": [
       "Downloading data files:   0%|          | 0/1 [00:00<?, ?it/s]"
      ]
     },
     "metadata": {},
     "output_type": "display_data"
    },
    {
     "data": {
      "application/vnd.jupyter.widget-view+json": {
       "model_id": "b6cb8aed4a834bdea0985c3064cd1458",
       "version_major": 2,
       "version_minor": 0
      },
      "text/plain": [
       "Downloading data:   0%|          | 0.00/40.7M [00:00<?, ?B/s]"
      ]
     },
     "metadata": {},
     "output_type": "display_data"
    },
    {
     "data": {
      "application/vnd.jupyter.widget-view+json": {
       "model_id": "a78b1aa3a291447cbe17acea56914801",
       "version_major": 2,
       "version_minor": 0
      },
      "text/plain": [
       "Extracting data files:   0%|          | 0/1 [00:00<?, ?it/s]"
      ]
     },
     "metadata": {},
     "output_type": "display_data"
    },
    {
     "data": {
      "application/vnd.jupyter.widget-view+json": {
       "model_id": "663d5346e54b409cb61dcfb05776d2c5",
       "version_major": 2,
       "version_minor": 0
      },
      "text/plain": [
       "Generating train split: 0 examples [00:00, ? examples/s]"
      ]
     },
     "metadata": {},
     "output_type": "display_data"
    },
    {
     "name": "stdout",
     "output_type": "stream",
     "text": [
      "Dataset json downloaded and prepared to /Users/harm.devries/.cache/huggingface/datasets/loubnabnl___json/loubnabnl--the-stack-inspection-data-94c72cc11de9cac9/0.0.0/e6070c77f18f01a5ad4551a8b7edfba20b8438b7cad4d94e6ad9378022ce4aab. Subsequent calls will reuse this data.\n"
     ]
    },
    {
     "name": "stderr",
     "output_type": "stream",
     "text": [
      "912it [00:01, 808.38it/s]\n"
     ]
    },
    {
     "name": "stdout",
     "output_type": "stream",
     "text": [
      "192\n",
      "r\n",
      "rsx\n"
     ]
    },
    {
     "name": "stderr",
     "output_type": "stream",
     "text": [
      "Using custom data configuration loubnabnl--the-stack-inspection-data-67f0bee25a9a82d4\n"
     ]
    },
    {
     "name": "stdout",
     "output_type": "stream",
     "text": [
      "Downloading and preparing dataset json/loubnabnl--the-stack-inspection-data to /Users/harm.devries/.cache/huggingface/datasets/loubnabnl___json/loubnabnl--the-stack-inspection-data-67f0bee25a9a82d4/0.0.0/e6070c77f18f01a5ad4551a8b7edfba20b8438b7cad4d94e6ad9378022ce4aab...\n"
     ]
    },
    {
     "data": {
      "application/vnd.jupyter.widget-view+json": {
       "model_id": "8ab304a16d69462f9ae0caae79dc6481",
       "version_major": 2,
       "version_minor": 0
      },
      "text/plain": [
       "Downloading data files:   0%|          | 0/1 [00:00<?, ?it/s]"
      ]
     },
     "metadata": {},
     "output_type": "display_data"
    },
    {
     "data": {
      "application/vnd.jupyter.widget-view+json": {
       "model_id": "57c294b944de488591aa7e15d4b40dc8",
       "version_major": 2,
       "version_minor": 0
      },
      "text/plain": [
       "Downloading data:   0%|          | 0.00/98.1k [00:00<?, ?B/s]"
      ]
     },
     "metadata": {},
     "output_type": "display_data"
    },
    {
     "data": {
      "application/vnd.jupyter.widget-view+json": {
       "model_id": "e038c7c75b76476ebea342ceb9559b81",
       "version_major": 2,
       "version_minor": 0
      },
      "text/plain": [
       "Extracting data files:   0%|          | 0/1 [00:00<?, ?it/s]"
      ]
     },
     "metadata": {},
     "output_type": "display_data"
    },
    {
     "data": {
      "application/vnd.jupyter.widget-view+json": {
       "model_id": "43d9307df30c4452a35a12d128dadc6e",
       "version_major": 2,
       "version_minor": 0
      },
      "text/plain": [
       "Generating train split: 0 examples [00:00, ? examples/s]"
      ]
     },
     "metadata": {},
     "output_type": "display_data"
    },
    {
     "name": "stdout",
     "output_type": "stream",
     "text": [
      "Dataset json downloaded and prepared to /Users/harm.devries/.cache/huggingface/datasets/loubnabnl___json/loubnabnl--the-stack-inspection-data-67f0bee25a9a82d4/0.0.0/e6070c77f18f01a5ad4551a8b7edfba20b8438b7cad4d94e6ad9378022ce4aab. Subsequent calls will reuse this data.\n"
     ]
    },
    {
     "name": "stderr",
     "output_type": "stream",
     "text": [
      "\n",
      "38it [00:00, 6206.04it/s]"
     ]
    },
    {
     "name": "stdout",
     "output_type": "stream",
     "text": [
      "193\n",
      "racket\n",
      "scrbl\n"
     ]
    },
    {
     "name": "stderr",
     "output_type": "stream",
     "text": [
      "\n",
      "Using custom data configuration loubnabnl--the-stack-inspection-data-079e3b5c3d8e4879\n"
     ]
    },
    {
     "name": "stdout",
     "output_type": "stream",
     "text": [
      "Downloading and preparing dataset json/loubnabnl--the-stack-inspection-data to /Users/harm.devries/.cache/huggingface/datasets/loubnabnl___json/loubnabnl--the-stack-inspection-data-079e3b5c3d8e4879/0.0.0/e6070c77f18f01a5ad4551a8b7edfba20b8438b7cad4d94e6ad9378022ce4aab...\n"
     ]
    },
    {
     "data": {
      "application/vnd.jupyter.widget-view+json": {
       "model_id": "fbc89a5631b543ca93c6e0547c3d11f2",
       "version_major": 2,
       "version_minor": 0
      },
      "text/plain": [
       "Downloading data files:   0%|          | 0/1 [00:00<?, ?it/s]"
      ]
     },
     "metadata": {},
     "output_type": "display_data"
    },
    {
     "data": {
      "application/vnd.jupyter.widget-view+json": {
       "model_id": "d3738c076849400eaa25aacc3dbe99cf",
       "version_major": 2,
       "version_minor": 0
      },
      "text/plain": [
       "Downloading data:   0%|          | 0.00/10.5M [00:00<?, ?B/s]"
      ]
     },
     "metadata": {},
     "output_type": "display_data"
    },
    {
     "data": {
      "application/vnd.jupyter.widget-view+json": {
       "model_id": "fb6e105f0ae241ac8976f9b99e8c0e49",
       "version_major": 2,
       "version_minor": 0
      },
      "text/plain": [
       "Extracting data files:   0%|          | 0/1 [00:00<?, ?it/s]"
      ]
     },
     "metadata": {},
     "output_type": "display_data"
    },
    {
     "data": {
      "application/vnd.jupyter.widget-view+json": {
       "model_id": "67f8a789d0644854a879d00fb6f58fd8",
       "version_major": 2,
       "version_minor": 0
      },
      "text/plain": [
       "Generating train split: 0 examples [00:00, ? examples/s]"
      ]
     },
     "metadata": {},
     "output_type": "display_data"
    },
    {
     "name": "stdout",
     "output_type": "stream",
     "text": [
      "Dataset json downloaded and prepared to /Users/harm.devries/.cache/huggingface/datasets/loubnabnl___json/loubnabnl--the-stack-inspection-data-079e3b5c3d8e4879/0.0.0/e6070c77f18f01a5ad4551a8b7edfba20b8438b7cad4d94e6ad9378022ce4aab. Subsequent calls will reuse this data.\n"
     ]
    },
    {
     "name": "stderr",
     "output_type": "stream",
     "text": [
      "1000it [00:00, 2723.65it/s]\n"
     ]
    },
    {
     "name": "stdout",
     "output_type": "stream",
     "text": [
      "194\n",
      "racket\n",
      "rktd\n"
     ]
    },
    {
     "name": "stderr",
     "output_type": "stream",
     "text": [
      "Using custom data configuration loubnabnl--the-stack-inspection-data-263136eea111bc53\n"
     ]
    },
    {
     "name": "stdout",
     "output_type": "stream",
     "text": [
      "Downloading and preparing dataset json/loubnabnl--the-stack-inspection-data to /Users/harm.devries/.cache/huggingface/datasets/loubnabnl___json/loubnabnl--the-stack-inspection-data-263136eea111bc53/0.0.0/e6070c77f18f01a5ad4551a8b7edfba20b8438b7cad4d94e6ad9378022ce4aab...\n"
     ]
    },
    {
     "data": {
      "application/vnd.jupyter.widget-view+json": {
       "model_id": "cd6602ce0e1f45149bad657a900e1b74",
       "version_major": 2,
       "version_minor": 0
      },
      "text/plain": [
       "Downloading data files:   0%|          | 0/1 [00:00<?, ?it/s]"
      ]
     },
     "metadata": {},
     "output_type": "display_data"
    },
    {
     "data": {
      "application/vnd.jupyter.widget-view+json": {
       "model_id": "d0f582740fdc45b9b30e5087bab2069a",
       "version_major": 2,
       "version_minor": 0
      },
      "text/plain": [
       "Downloading data:   0%|          | 0.00/10.1M [00:00<?, ?B/s]"
      ]
     },
     "metadata": {},
     "output_type": "display_data"
    },
    {
     "data": {
      "application/vnd.jupyter.widget-view+json": {
       "model_id": "e6e37d6471104391841aff2f3b23647d",
       "version_major": 2,
       "version_minor": 0
      },
      "text/plain": [
       "Extracting data files:   0%|          | 0/1 [00:00<?, ?it/s]"
      ]
     },
     "metadata": {},
     "output_type": "display_data"
    },
    {
     "data": {
      "application/vnd.jupyter.widget-view+json": {
       "model_id": "c00b4af0ba8c4b30a83bfa2da12175aa",
       "version_major": 2,
       "version_minor": 0
      },
      "text/plain": [
       "Generating train split: 0 examples [00:00, ? examples/s]"
      ]
     },
     "metadata": {},
     "output_type": "display_data"
    },
    {
     "name": "stdout",
     "output_type": "stream",
     "text": [
      "Dataset json downloaded and prepared to /Users/harm.devries/.cache/huggingface/datasets/loubnabnl___json/loubnabnl--the-stack-inspection-data-263136eea111bc53/0.0.0/e6070c77f18f01a5ad4551a8b7edfba20b8438b7cad4d94e6ad9378022ce4aab. Subsequent calls will reuse this data.\n"
     ]
    },
    {
     "name": "stderr",
     "output_type": "stream",
     "text": [
      "\n",
      "0it [00:00, ?it/s]\u001b[A\n",
      "124it [00:00, 1239.10it/s]\u001b[A\n",
      "281it [00:00, 1085.92it/s]\u001b[A\n"
     ]
    },
    {
     "name": "stdout",
     "output_type": "stream",
     "text": [
      "195\n",
      "racket\n",
      "rktl\n"
     ]
    },
    {
     "name": "stderr",
     "output_type": "stream",
     "text": [
      "Using custom data configuration loubnabnl--the-stack-inspection-data-1dae59dc37c86cd9\n"
     ]
    },
    {
     "name": "stdout",
     "output_type": "stream",
     "text": [
      "Downloading and preparing dataset json/loubnabnl--the-stack-inspection-data to /Users/harm.devries/.cache/huggingface/datasets/loubnabnl___json/loubnabnl--the-stack-inspection-data-1dae59dc37c86cd9/0.0.0/e6070c77f18f01a5ad4551a8b7edfba20b8438b7cad4d94e6ad9378022ce4aab...\n"
     ]
    },
    {
     "data": {
      "application/vnd.jupyter.widget-view+json": {
       "model_id": "5621b674dae64f6ea7b1ca470314e816",
       "version_major": 2,
       "version_minor": 0
      },
      "text/plain": [
       "Downloading data files:   0%|          | 0/1 [00:00<?, ?it/s]"
      ]
     },
     "metadata": {},
     "output_type": "display_data"
    },
    {
     "data": {
      "application/vnd.jupyter.widget-view+json": {
       "model_id": "e728cd3a49b04346b82fee1c8e01c324",
       "version_major": 2,
       "version_minor": 0
      },
      "text/plain": [
       "Downloading data:   0%|          | 0.00/11.6M [00:00<?, ?B/s]"
      ]
     },
     "metadata": {},
     "output_type": "display_data"
    },
    {
     "data": {
      "application/vnd.jupyter.widget-view+json": {
       "model_id": "aa6ebc5aa2c44d8c954f331ff47158c9",
       "version_major": 2,
       "version_minor": 0
      },
      "text/plain": [
       "Extracting data files:   0%|          | 0/1 [00:00<?, ?it/s]"
      ]
     },
     "metadata": {},
     "output_type": "display_data"
    },
    {
     "data": {
      "application/vnd.jupyter.widget-view+json": {
       "model_id": "0ebcbb434f3247acaf26b6b286191c61",
       "version_major": 2,
       "version_minor": 0
      },
      "text/plain": [
       "Generating train split: 0 examples [00:00, ? examples/s]"
      ]
     },
     "metadata": {},
     "output_type": "display_data"
    },
    {
     "name": "stdout",
     "output_type": "stream",
     "text": [
      "Dataset json downloaded and prepared to /Users/harm.devries/.cache/huggingface/datasets/loubnabnl___json/loubnabnl--the-stack-inspection-data-1dae59dc37c86cd9/0.0.0/e6070c77f18f01a5ad4551a8b7edfba20b8438b7cad4d94e6ad9378022ce4aab. Subsequent calls will reuse this data.\n"
     ]
    },
    {
     "name": "stderr",
     "output_type": "stream",
     "text": [
      "396it [00:00, 1229.04it/s]\n"
     ]
    },
    {
     "name": "stdout",
     "output_type": "stream",
     "text": [
      "196\n",
      "restructuredtext\n",
      "rst\n"
     ]
    },
    {
     "name": "stderr",
     "output_type": "stream",
     "text": [
      "Using custom data configuration loubnabnl--the-stack-inspection-data-fbe16e0295239b45\n"
     ]
    },
    {
     "name": "stdout",
     "output_type": "stream",
     "text": [
      "Downloading and preparing dataset json/loubnabnl--the-stack-inspection-data to /Users/harm.devries/.cache/huggingface/datasets/loubnabnl___json/loubnabnl--the-stack-inspection-data-fbe16e0295239b45/0.0.0/e6070c77f18f01a5ad4551a8b7edfba20b8438b7cad4d94e6ad9378022ce4aab...\n"
     ]
    },
    {
     "data": {
      "application/vnd.jupyter.widget-view+json": {
       "model_id": "d36194f0e42a4ac9b3dc2e85a515452f",
       "version_major": 2,
       "version_minor": 0
      },
      "text/plain": [
       "Downloading data files:   0%|          | 0/1 [00:00<?, ?it/s]"
      ]
     },
     "metadata": {},
     "output_type": "display_data"
    },
    {
     "data": {
      "application/vnd.jupyter.widget-view+json": {
       "model_id": "d4249501f7cd4cc7aebf50a0d88e0689",
       "version_major": 2,
       "version_minor": 0
      },
      "text/plain": [
       "Downloading data:   0%|          | 0.00/7.35M [00:00<?, ?B/s]"
      ]
     },
     "metadata": {},
     "output_type": "display_data"
    },
    {
     "data": {
      "application/vnd.jupyter.widget-view+json": {
       "model_id": "8b023be6cf7b49a2b2a9791a75baa621",
       "version_major": 2,
       "version_minor": 0
      },
      "text/plain": [
       "Extracting data files:   0%|          | 0/1 [00:00<?, ?it/s]"
      ]
     },
     "metadata": {},
     "output_type": "display_data"
    },
    {
     "data": {
      "application/vnd.jupyter.widget-view+json": {
       "model_id": "ed911364745a4352a325847374b2abb6",
       "version_major": 2,
       "version_minor": 0
      },
      "text/plain": [
       "Generating train split: 0 examples [00:00, ? examples/s]"
      ]
     },
     "metadata": {},
     "output_type": "display_data"
    },
    {
     "name": "stdout",
     "output_type": "stream",
     "text": [
      "Dataset json downloaded and prepared to /Users/harm.devries/.cache/huggingface/datasets/loubnabnl___json/loubnabnl--the-stack-inspection-data-fbe16e0295239b45/0.0.0/e6070c77f18f01a5ad4551a8b7edfba20b8438b7cad4d94e6ad9378022ce4aab. Subsequent calls will reuse this data.\n"
     ]
    },
    {
     "name": "stderr",
     "output_type": "stream",
     "text": [
      "1000it [00:00, 3318.41it/s]\n"
     ]
    },
    {
     "name": "stdout",
     "output_type": "stream",
     "text": [
      "197\n",
      "restructuredtext\n",
      "rest\n"
     ]
    },
    {
     "name": "stderr",
     "output_type": "stream",
     "text": [
      "Using custom data configuration loubnabnl--the-stack-inspection-data-ec59524cf39b5feb\n"
     ]
    },
    {
     "name": "stdout",
     "output_type": "stream",
     "text": [
      "Downloading and preparing dataset json/loubnabnl--the-stack-inspection-data to /Users/harm.devries/.cache/huggingface/datasets/loubnabnl___json/loubnabnl--the-stack-inspection-data-ec59524cf39b5feb/0.0.0/e6070c77f18f01a5ad4551a8b7edfba20b8438b7cad4d94e6ad9378022ce4aab...\n"
     ]
    },
    {
     "data": {
      "application/vnd.jupyter.widget-view+json": {
       "model_id": "d03ce67e57504948b9481965c05e9f16",
       "version_major": 2,
       "version_minor": 0
      },
      "text/plain": [
       "Downloading data files:   0%|          | 0/1 [00:00<?, ?it/s]"
      ]
     },
     "metadata": {},
     "output_type": "display_data"
    },
    {
     "data": {
      "application/vnd.jupyter.widget-view+json": {
       "model_id": "e12eb31f3423457f83e1814d9c803c87",
       "version_major": 2,
       "version_minor": 0
      },
      "text/plain": [
       "Downloading data:   0%|          | 0.00/52.7k [00:00<?, ?B/s]"
      ]
     },
     "metadata": {},
     "output_type": "display_data"
    },
    {
     "data": {
      "application/vnd.jupyter.widget-view+json": {
       "model_id": "5fda98085e1a4e26b40ba3f69c9d203c",
       "version_major": 2,
       "version_minor": 0
      },
      "text/plain": [
       "Extracting data files:   0%|          | 0/1 [00:00<?, ?it/s]"
      ]
     },
     "metadata": {},
     "output_type": "display_data"
    },
    {
     "data": {
      "application/vnd.jupyter.widget-view+json": {
       "model_id": "1873476b6f5e4af5a400a21c37e8adec",
       "version_major": 2,
       "version_minor": 0
      },
      "text/plain": [
       "Generating train split: 0 examples [00:00, ? examples/s]"
      ]
     },
     "metadata": {},
     "output_type": "display_data"
    },
    {
     "name": "stdout",
     "output_type": "stream",
     "text": [
      "Dataset json downloaded and prepared to /Users/harm.devries/.cache/huggingface/datasets/loubnabnl___json/loubnabnl--the-stack-inspection-data-ec59524cf39b5feb/0.0.0/e6070c77f18f01a5ad4551a8b7edfba20b8438b7cad4d94e6ad9378022ce4aab. Subsequent calls will reuse this data.\n"
     ]
    },
    {
     "name": "stderr",
     "output_type": "stream",
     "text": [
      "\n",
      "41it [00:00, 5868.96it/s]"
     ]
    },
    {
     "name": "stdout",
     "output_type": "stream",
     "text": [
      "198\n",
      "rmarkdown\n",
      "rmd\n"
     ]
    },
    {
     "name": "stderr",
     "output_type": "stream",
     "text": [
      "\n",
      "Using custom data configuration loubnabnl--the-stack-inspection-data-ad158c9fc6c8c050\n"
     ]
    },
    {
     "name": "stdout",
     "output_type": "stream",
     "text": [
      "Downloading and preparing dataset json/loubnabnl--the-stack-inspection-data to /Users/harm.devries/.cache/huggingface/datasets/loubnabnl___json/loubnabnl--the-stack-inspection-data-ad158c9fc6c8c050/0.0.0/e6070c77f18f01a5ad4551a8b7edfba20b8438b7cad4d94e6ad9378022ce4aab...\n"
     ]
    },
    {
     "data": {
      "application/vnd.jupyter.widget-view+json": {
       "model_id": "d8458b84da61465082ea837cf926b5ab",
       "version_major": 2,
       "version_minor": 0
      },
      "text/plain": [
       "Downloading data files:   0%|          | 0/1 [00:00<?, ?it/s]"
      ]
     },
     "metadata": {},
     "output_type": "display_data"
    },
    {
     "data": {
      "application/vnd.jupyter.widget-view+json": {
       "model_id": "47fa339c14884dd087a507de0841be34",
       "version_major": 2,
       "version_minor": 0
      },
      "text/plain": [
       "Downloading data:   0%|          | 0.00/12.5M [00:00<?, ?B/s]"
      ]
     },
     "metadata": {},
     "output_type": "display_data"
    },
    {
     "data": {
      "application/vnd.jupyter.widget-view+json": {
       "model_id": "48476a83394c486f8457eeb343d0975c",
       "version_major": 2,
       "version_minor": 0
      },
      "text/plain": [
       "Extracting data files:   0%|          | 0/1 [00:00<?, ?it/s]"
      ]
     },
     "metadata": {},
     "output_type": "display_data"
    },
    {
     "data": {
      "application/vnd.jupyter.widget-view+json": {
       "model_id": "bddeb2099be6454fb8ebd8a35816daf2",
       "version_major": 2,
       "version_minor": 0
      },
      "text/plain": [
       "Generating train split: 0 examples [00:00, ? examples/s]"
      ]
     },
     "metadata": {},
     "output_type": "display_data"
    },
    {
     "name": "stdout",
     "output_type": "stream",
     "text": [
      "Dataset json downloaded and prepared to /Users/harm.devries/.cache/huggingface/datasets/loubnabnl___json/loubnabnl--the-stack-inspection-data-ad158c9fc6c8c050/0.0.0/e6070c77f18f01a5ad4551a8b7edfba20b8438b7cad4d94e6ad9378022ce4aab. Subsequent calls will reuse this data.\n"
     ]
    },
    {
     "name": "stderr",
     "output_type": "stream",
     "text": [
      "\n",
      "0it [00:00, ?it/s]\u001b[A\n",
      "168it [00:00, 1678.64it/s]\u001b[A\n",
      "349it [00:00, 1748.93it/s]\u001b[A\n",
      "586it [00:00, 2029.26it/s]\u001b[A\n",
      "1000it [00:00, 2047.49it/s][A\n"
     ]
    },
    {
     "name": "stdout",
     "output_type": "stream",
     "text": [
      "199\n",
      "ruby\n",
      "rb\n"
     ]
    },
    {
     "name": "stderr",
     "output_type": "stream",
     "text": [
      "Using custom data configuration loubnabnl--the-stack-inspection-data-0b6e76dfc94a64a8\n"
     ]
    },
    {
     "name": "stdout",
     "output_type": "stream",
     "text": [
      "Downloading and preparing dataset json/loubnabnl--the-stack-inspection-data to /Users/harm.devries/.cache/huggingface/datasets/loubnabnl___json/loubnabnl--the-stack-inspection-data-0b6e76dfc94a64a8/0.0.0/e6070c77f18f01a5ad4551a8b7edfba20b8438b7cad4d94e6ad9378022ce4aab...\n"
     ]
    },
    {
     "data": {
      "application/vnd.jupyter.widget-view+json": {
       "model_id": "bca07da3729e41ea9b1aa79668e3f1e3",
       "version_major": 2,
       "version_minor": 0
      },
      "text/plain": [
       "Downloading data files:   0%|          | 0/1 [00:00<?, ?it/s]"
      ]
     },
     "metadata": {},
     "output_type": "display_data"
    },
    {
     "data": {
      "application/vnd.jupyter.widget-view+json": {
       "model_id": "cd1c013552394592ae511f417f1ac3ed",
       "version_major": 2,
       "version_minor": 0
      },
      "text/plain": [
       "Downloading data:   0%|          | 0.00/4.56M [00:00<?, ?B/s]"
      ]
     },
     "metadata": {},
     "output_type": "display_data"
    },
    {
     "data": {
      "application/vnd.jupyter.widget-view+json": {
       "model_id": "d8a146b35fb643c0ac719d6431b97b0a",
       "version_major": 2,
       "version_minor": 0
      },
      "text/plain": [
       "Extracting data files:   0%|          | 0/1 [00:00<?, ?it/s]"
      ]
     },
     "metadata": {},
     "output_type": "display_data"
    },
    {
     "data": {
      "application/vnd.jupyter.widget-view+json": {
       "model_id": "dfc82cc0d98e4c8dad48e06bf3674b9f",
       "version_major": 2,
       "version_minor": 0
      },
      "text/plain": [
       "Generating train split: 0 examples [00:00, ? examples/s]"
      ]
     },
     "metadata": {},
     "output_type": "display_data"
    },
    {
     "name": "stdout",
     "output_type": "stream",
     "text": [
      "Dataset json downloaded and prepared to /Users/harm.devries/.cache/huggingface/datasets/loubnabnl___json/loubnabnl--the-stack-inspection-data-0b6e76dfc94a64a8/0.0.0/e6070c77f18f01a5ad4551a8b7edfba20b8438b7cad4d94e6ad9378022ce4aab. Subsequent calls will reuse this data.\n"
     ]
    },
    {
     "name": "stderr",
     "output_type": "stream",
     "text": [
      "\n",
      "0it [00:00, ?it/s]\u001b[A\n",
      "1000it [00:00, 5018.21it/s][A\n"
     ]
    },
    {
     "name": "stdout",
     "output_type": "stream",
     "text": [
      "200\n",
      "ruby\n",
      "gemspec\n"
     ]
    },
    {
     "name": "stderr",
     "output_type": "stream",
     "text": [
      "Using custom data configuration loubnabnl--the-stack-inspection-data-9a77c0ed10780def\n"
     ]
    },
    {
     "name": "stdout",
     "output_type": "stream",
     "text": [
      "Downloading and preparing dataset json/loubnabnl--the-stack-inspection-data to /Users/harm.devries/.cache/huggingface/datasets/loubnabnl___json/loubnabnl--the-stack-inspection-data-9a77c0ed10780def/0.0.0/e6070c77f18f01a5ad4551a8b7edfba20b8438b7cad4d94e6ad9378022ce4aab...\n"
     ]
    },
    {
     "data": {
      "application/vnd.jupyter.widget-view+json": {
       "model_id": "ab25d7607f6744ddac69b9cf4b99c670",
       "version_major": 2,
       "version_minor": 0
      },
      "text/plain": [
       "Downloading data files:   0%|          | 0/1 [00:00<?, ?it/s]"
      ]
     },
     "metadata": {},
     "output_type": "display_data"
    },
    {
     "data": {
      "application/vnd.jupyter.widget-view+json": {
       "model_id": "7b68617609754c278dda157cb1196ade",
       "version_major": 2,
       "version_minor": 0
      },
      "text/plain": [
       "Downloading data:   0%|          | 0.00/1.28M [00:00<?, ?B/s]"
      ]
     },
     "metadata": {},
     "output_type": "display_data"
    },
    {
     "data": {
      "application/vnd.jupyter.widget-view+json": {
       "model_id": "8c21869fd74242c49ecda922118e435b",
       "version_major": 2,
       "version_minor": 0
      },
      "text/plain": [
       "Extracting data files:   0%|          | 0/1 [00:00<?, ?it/s]"
      ]
     },
     "metadata": {},
     "output_type": "display_data"
    },
    {
     "data": {
      "application/vnd.jupyter.widget-view+json": {
       "model_id": "cf869d398d504a519cc736025373ff06",
       "version_major": 2,
       "version_minor": 0
      },
      "text/plain": [
       "Generating train split: 0 examples [00:00, ? examples/s]"
      ]
     },
     "metadata": {},
     "output_type": "display_data"
    },
    {
     "name": "stdout",
     "output_type": "stream",
     "text": [
      "Dataset json downloaded and prepared to /Users/harm.devries/.cache/huggingface/datasets/loubnabnl___json/loubnabnl--the-stack-inspection-data-9a77c0ed10780def/0.0.0/e6070c77f18f01a5ad4551a8b7edfba20b8438b7cad4d94e6ad9378022ce4aab. Subsequent calls will reuse this data.\n"
     ]
    },
    {
     "name": "stderr",
     "output_type": "stream",
     "text": [
      "\n",
      "600it [00:00, 6966.86it/s]"
     ]
    },
    {
     "name": "stdout",
     "output_type": "stream",
     "text": [
      "201\n",
      "ruby\n",
      "podspec\n"
     ]
    },
    {
     "name": "stderr",
     "output_type": "stream",
     "text": [
      "\n",
      "Using custom data configuration loubnabnl--the-stack-inspection-data-0c35771bb2a459a3\n"
     ]
    },
    {
     "name": "stdout",
     "output_type": "stream",
     "text": [
      "Downloading and preparing dataset json/loubnabnl--the-stack-inspection-data to /Users/harm.devries/.cache/huggingface/datasets/loubnabnl___json/loubnabnl--the-stack-inspection-data-0c35771bb2a459a3/0.0.0/e6070c77f18f01a5ad4551a8b7edfba20b8438b7cad4d94e6ad9378022ce4aab...\n"
     ]
    },
    {
     "data": {
      "application/vnd.jupyter.widget-view+json": {
       "model_id": "9c79c3bafb934533aabd6e8b0a6f2baa",
       "version_major": 2,
       "version_minor": 0
      },
      "text/plain": [
       "Downloading data files:   0%|          | 0/1 [00:00<?, ?it/s]"
      ]
     },
     "metadata": {},
     "output_type": "display_data"
    },
    {
     "data": {
      "application/vnd.jupyter.widget-view+json": {
       "model_id": "7fc1fbae02ec4faa8046038866096bed",
       "version_major": 2,
       "version_minor": 0
      },
      "text/plain": [
       "Downloading data:   0%|          | 0.00/1.13M [00:00<?, ?B/s]"
      ]
     },
     "metadata": {},
     "output_type": "display_data"
    },
    {
     "data": {
      "application/vnd.jupyter.widget-view+json": {
       "model_id": "f1e50d2a27df470b816018b39211210f",
       "version_major": 2,
       "version_minor": 0
      },
      "text/plain": [
       "Extracting data files:   0%|          | 0/1 [00:00<?, ?it/s]"
      ]
     },
     "metadata": {},
     "output_type": "display_data"
    },
    {
     "data": {
      "application/vnd.jupyter.widget-view+json": {
       "model_id": "e88edd238dbf4e1ebb89ed0daf54832a",
       "version_major": 2,
       "version_minor": 0
      },
      "text/plain": [
       "Generating train split: 0 examples [00:00, ? examples/s]"
      ]
     },
     "metadata": {},
     "output_type": "display_data"
    },
    {
     "name": "stdout",
     "output_type": "stream",
     "text": [
      "Dataset json downloaded and prepared to /Users/harm.devries/.cache/huggingface/datasets/loubnabnl___json/loubnabnl--the-stack-inspection-data-0c35771bb2a459a3/0.0.0/e6070c77f18f01a5ad4551a8b7edfba20b8438b7cad4d94e6ad9378022ce4aab. Subsequent calls will reuse this data.\n"
     ]
    },
    {
     "name": "stderr",
     "output_type": "stream",
     "text": [
      "\n",
      "430it [00:00, 6740.66it/s]"
     ]
    },
    {
     "name": "stdout",
     "output_type": "stream",
     "text": [
      "202\n",
      "ruby\n",
      "rake\n"
     ]
    },
    {
     "name": "stderr",
     "output_type": "stream",
     "text": [
      "\n",
      "Using custom data configuration loubnabnl--the-stack-inspection-data-fd14105c5a4d11af\n"
     ]
    },
    {
     "name": "stdout",
     "output_type": "stream",
     "text": [
      "Downloading and preparing dataset json/loubnabnl--the-stack-inspection-data to /Users/harm.devries/.cache/huggingface/datasets/loubnabnl___json/loubnabnl--the-stack-inspection-data-fd14105c5a4d11af/0.0.0/e6070c77f18f01a5ad4551a8b7edfba20b8438b7cad4d94e6ad9378022ce4aab...\n"
     ]
    },
    {
     "data": {
      "application/vnd.jupyter.widget-view+json": {
       "model_id": "2c21cf8b590f47d79a5d66938aca3117",
       "version_major": 2,
       "version_minor": 0
      },
      "text/plain": [
       "Downloading data files:   0%|          | 0/1 [00:00<?, ?it/s]"
      ]
     },
     "metadata": {},
     "output_type": "display_data"
    },
    {
     "data": {
      "application/vnd.jupyter.widget-view+json": {
       "model_id": "ee80409ebbef423f9f0620d0c24a13b7",
       "version_major": 2,
       "version_minor": 0
      },
      "text/plain": [
       "Downloading data:   0%|          | 0.00/321k [00:00<?, ?B/s]"
      ]
     },
     "metadata": {},
     "output_type": "display_data"
    },
    {
     "data": {
      "application/vnd.jupyter.widget-view+json": {
       "model_id": "0d181bb0c20a4ecdabcdc3fd1e2ac314",
       "version_major": 2,
       "version_minor": 0
      },
      "text/plain": [
       "Extracting data files:   0%|          | 0/1 [00:00<?, ?it/s]"
      ]
     },
     "metadata": {},
     "output_type": "display_data"
    },
    {
     "data": {
      "application/vnd.jupyter.widget-view+json": {
       "model_id": "26a1c775b1dc4ec2a51822da2ea30288",
       "version_major": 2,
       "version_minor": 0
      },
      "text/plain": [
       "Generating train split: 0 examples [00:00, ? examples/s]"
      ]
     },
     "metadata": {},
     "output_type": "display_data"
    },
    {
     "name": "stdout",
     "output_type": "stream",
     "text": [
      "Dataset json downloaded and prepared to /Users/harm.devries/.cache/huggingface/datasets/loubnabnl___json/loubnabnl--the-stack-inspection-data-fd14105c5a4d11af/0.0.0/e6070c77f18f01a5ad4551a8b7edfba20b8438b7cad4d94e6ad9378022ce4aab. Subsequent calls will reuse this data.\n"
     ]
    },
    {
     "name": "stderr",
     "output_type": "stream",
     "text": [
      "\n",
      "134it [00:00, 5888.28it/s]"
     ]
    },
    {
     "name": "stdout",
     "output_type": "stream",
     "text": [
      "203\n",
      "ruby\n",
      "jbuilder\n"
     ]
    },
    {
     "name": "stderr",
     "output_type": "stream",
     "text": [
      "\n",
      "Using custom data configuration loubnabnl--the-stack-inspection-data-2c6c0be62ce6436a\n"
     ]
    },
    {
     "name": "stdout",
     "output_type": "stream",
     "text": [
      "Downloading and preparing dataset json/loubnabnl--the-stack-inspection-data to /Users/harm.devries/.cache/huggingface/datasets/loubnabnl___json/loubnabnl--the-stack-inspection-data-2c6c0be62ce6436a/0.0.0/e6070c77f18f01a5ad4551a8b7edfba20b8438b7cad4d94e6ad9378022ce4aab...\n"
     ]
    },
    {
     "data": {
      "application/vnd.jupyter.widget-view+json": {
       "model_id": "cab13e1da4494d4aa1fccf35bba2857a",
       "version_major": 2,
       "version_minor": 0
      },
      "text/plain": [
       "Downloading data files:   0%|          | 0/1 [00:00<?, ?it/s]"
      ]
     },
     "metadata": {},
     "output_type": "display_data"
    },
    {
     "data": {
      "application/vnd.jupyter.widget-view+json": {
       "model_id": "6c0d82c28d8242ddb11a91dc07492a5a",
       "version_major": 2,
       "version_minor": 0
      },
      "text/plain": [
       "Downloading data:   0%|          | 0.00/46.0k [00:00<?, ?B/s]"
      ]
     },
     "metadata": {},
     "output_type": "display_data"
    },
    {
     "data": {
      "application/vnd.jupyter.widget-view+json": {
       "model_id": "47252fbc356345ef83d48a6e4eaa9c5a",
       "version_major": 2,
       "version_minor": 0
      },
      "text/plain": [
       "Extracting data files:   0%|          | 0/1 [00:00<?, ?it/s]"
      ]
     },
     "metadata": {},
     "output_type": "display_data"
    },
    {
     "data": {
      "application/vnd.jupyter.widget-view+json": {
       "model_id": "f54c9f77ffc74d93b46bb9ae417ebb44",
       "version_major": 2,
       "version_minor": 0
      },
      "text/plain": [
       "Generating train split: 0 examples [00:00, ? examples/s]"
      ]
     },
     "metadata": {},
     "output_type": "display_data"
    },
    {
     "name": "stdout",
     "output_type": "stream",
     "text": [
      "Dataset json downloaded and prepared to /Users/harm.devries/.cache/huggingface/datasets/loubnabnl___json/loubnabnl--the-stack-inspection-data-2c6c0be62ce6436a/0.0.0/e6070c77f18f01a5ad4551a8b7edfba20b8438b7cad4d94e6ad9378022ce4aab. Subsequent calls will reuse this data.\n"
     ]
    },
    {
     "name": "stderr",
     "output_type": "stream",
     "text": [
      "\n",
      "102it [00:00, 6812.19it/s]"
     ]
    },
    {
     "name": "stdout",
     "output_type": "stream",
     "text": [
      "204\n",
      "ruby\n",
      "ru\n"
     ]
    },
    {
     "name": "stderr",
     "output_type": "stream",
     "text": [
      "\n",
      "Using custom data configuration loubnabnl--the-stack-inspection-data-57add47ab078a338\n"
     ]
    },
    {
     "name": "stdout",
     "output_type": "stream",
     "text": [
      "Downloading and preparing dataset json/loubnabnl--the-stack-inspection-data to /Users/harm.devries/.cache/huggingface/datasets/loubnabnl___json/loubnabnl--the-stack-inspection-data-57add47ab078a338/0.0.0/e6070c77f18f01a5ad4551a8b7edfba20b8438b7cad4d94e6ad9378022ce4aab...\n"
     ]
    },
    {
     "data": {
      "application/vnd.jupyter.widget-view+json": {
       "model_id": "26d433aa47cf42c788b7d188323b1eee",
       "version_major": 2,
       "version_minor": 0
      },
      "text/plain": [
       "Downloading data files:   0%|          | 0/1 [00:00<?, ?it/s]"
      ]
     },
     "metadata": {},
     "output_type": "display_data"
    },
    {
     "data": {
      "application/vnd.jupyter.widget-view+json": {
       "model_id": "3ef1efae38564b2cbe41227f1213154e",
       "version_major": 2,
       "version_minor": 0
      },
      "text/plain": [
       "Downloading data:   0%|          | 0.00/1.21M [00:00<?, ?B/s]"
      ]
     },
     "metadata": {},
     "output_type": "display_data"
    },
    {
     "data": {
      "application/vnd.jupyter.widget-view+json": {
       "model_id": "a07904c405684d4cb71c24e1248351cb",
       "version_major": 2,
       "version_minor": 0
      },
      "text/plain": [
       "Extracting data files:   0%|          | 0/1 [00:00<?, ?it/s]"
      ]
     },
     "metadata": {},
     "output_type": "display_data"
    },
    {
     "data": {
      "application/vnd.jupyter.widget-view+json": {
       "model_id": "07e494743b6f4ecdb988485e69daff97",
       "version_major": 2,
       "version_minor": 0
      },
      "text/plain": [
       "Generating train split: 0 examples [00:00, ? examples/s]"
      ]
     },
     "metadata": {},
     "output_type": "display_data"
    },
    {
     "name": "stdout",
     "output_type": "stream",
     "text": [
      "Dataset json downloaded and prepared to /Users/harm.devries/.cache/huggingface/datasets/loubnabnl___json/loubnabnl--the-stack-inspection-data-57add47ab078a338/0.0.0/e6070c77f18f01a5ad4551a8b7edfba20b8438b7cad4d94e6ad9378022ce4aab. Subsequent calls will reuse this data.\n"
     ]
    },
    {
     "name": "stderr",
     "output_type": "stream",
     "text": [
      "\n",
      "59it [00:00, 3465.25it/s]"
     ]
    },
    {
     "name": "stdout",
     "output_type": "stream",
     "text": [
      "205\n",
      "ruby\n",
      "builder\n"
     ]
    },
    {
     "name": "stderr",
     "output_type": "stream",
     "text": [
      "\n",
      "Using custom data configuration loubnabnl--the-stack-inspection-data-984c6e00152dd730\n"
     ]
    },
    {
     "name": "stdout",
     "output_type": "stream",
     "text": [
      "Downloading and preparing dataset json/loubnabnl--the-stack-inspection-data to /Users/harm.devries/.cache/huggingface/datasets/loubnabnl___json/loubnabnl--the-stack-inspection-data-984c6e00152dd730/0.0.0/e6070c77f18f01a5ad4551a8b7edfba20b8438b7cad4d94e6ad9378022ce4aab...\n"
     ]
    },
    {
     "data": {
      "application/vnd.jupyter.widget-view+json": {
       "model_id": "4f50ba62b5664864ab6c6ef1ce6a0ac6",
       "version_major": 2,
       "version_minor": 0
      },
      "text/plain": [
       "Downloading data files:   0%|          | 0/1 [00:00<?, ?it/s]"
      ]
     },
     "metadata": {},
     "output_type": "display_data"
    },
    {
     "data": {
      "application/vnd.jupyter.widget-view+json": {
       "model_id": "4e952767d38f4145bb3823c658e3fb0c",
       "version_major": 2,
       "version_minor": 0
      },
      "text/plain": [
       "Downloading data:   0%|          | 0.00/17.4k [00:00<?, ?B/s]"
      ]
     },
     "metadata": {},
     "output_type": "display_data"
    },
    {
     "data": {
      "application/vnd.jupyter.widget-view+json": {
       "model_id": "a4657fed93d94b02ad4c16009c58ae21",
       "version_major": 2,
       "version_minor": 0
      },
      "text/plain": [
       "Extracting data files:   0%|          | 0/1 [00:00<?, ?it/s]"
      ]
     },
     "metadata": {},
     "output_type": "display_data"
    },
    {
     "data": {
      "application/vnd.jupyter.widget-view+json": {
       "model_id": "e3ab37690e0b44aeae4fc089d43762f5",
       "version_major": 2,
       "version_minor": 0
      },
      "text/plain": [
       "Generating train split: 0 examples [00:00, ? examples/s]"
      ]
     },
     "metadata": {},
     "output_type": "display_data"
    },
    {
     "name": "stdout",
     "output_type": "stream",
     "text": [
      "Dataset json downloaded and prepared to /Users/harm.devries/.cache/huggingface/datasets/loubnabnl___json/loubnabnl--the-stack-inspection-data-984c6e00152dd730/0.0.0/e6070c77f18f01a5ad4551a8b7edfba20b8438b7cad4d94e6ad9378022ce4aab. Subsequent calls will reuse this data.\n"
     ]
    },
    {
     "name": "stderr",
     "output_type": "stream",
     "text": [
      "\n",
      "14it [00:00, 6233.57it/s]"
     ]
    },
    {
     "name": "stdout",
     "output_type": "stream",
     "text": [
      "206\n",
      "ruby\n",
      "ruby\n"
     ]
    },
    {
     "name": "stderr",
     "output_type": "stream",
     "text": [
      "\n",
      "Using custom data configuration loubnabnl--the-stack-inspection-data-c10d7611997bd8be\n"
     ]
    },
    {
     "name": "stdout",
     "output_type": "stream",
     "text": [
      "Downloading and preparing dataset json/loubnabnl--the-stack-inspection-data to /Users/harm.devries/.cache/huggingface/datasets/loubnabnl___json/loubnabnl--the-stack-inspection-data-c10d7611997bd8be/0.0.0/e6070c77f18f01a5ad4551a8b7edfba20b8438b7cad4d94e6ad9378022ce4aab...\n"
     ]
    },
    {
     "data": {
      "application/vnd.jupyter.widget-view+json": {
       "model_id": "d15acc6631d14df6b3deb0c12bd7337d",
       "version_major": 2,
       "version_minor": 0
      },
      "text/plain": [
       "Downloading data files:   0%|          | 0/1 [00:00<?, ?it/s]"
      ]
     },
     "metadata": {},
     "output_type": "display_data"
    },
    {
     "data": {
      "application/vnd.jupyter.widget-view+json": {
       "model_id": "88627b346dd9446ea75741941e99e639",
       "version_major": 2,
       "version_minor": 0
      },
      "text/plain": [
       "Downloading data:   0%|          | 0.00/1.66k [00:00<?, ?B/s]"
      ]
     },
     "metadata": {},
     "output_type": "display_data"
    },
    {
     "data": {
      "application/vnd.jupyter.widget-view+json": {
       "model_id": "41ba3d4584e6405db4386528f87bc33d",
       "version_major": 2,
       "version_minor": 0
      },
      "text/plain": [
       "Extracting data files:   0%|          | 0/1 [00:00<?, ?it/s]"
      ]
     },
     "metadata": {},
     "output_type": "display_data"
    },
    {
     "data": {
      "application/vnd.jupyter.widget-view+json": {
       "model_id": "7f932953a203426581a3008111573f33",
       "version_major": 2,
       "version_minor": 0
      },
      "text/plain": [
       "Generating train split: 0 examples [00:00, ? examples/s]"
      ]
     },
     "metadata": {},
     "output_type": "display_data"
    },
    {
     "name": "stdout",
     "output_type": "stream",
     "text": [
      "Dataset json downloaded and prepared to /Users/harm.devries/.cache/huggingface/datasets/loubnabnl___json/loubnabnl--the-stack-inspection-data-c10d7611997bd8be/0.0.0/e6070c77f18f01a5ad4551a8b7edfba20b8438b7cad4d94e6ad9378022ce4aab. Subsequent calls will reuse this data.\n"
     ]
    },
    {
     "name": "stderr",
     "output_type": "stream",
     "text": [
      "\n",
      "3it [00:00, 4993.22it/s]"
     ]
    },
    {
     "name": "stdout",
     "output_type": "stream",
     "text": [
      "207\n",
      "ruby\n",
      "rabl\n"
     ]
    },
    {
     "name": "stderr",
     "output_type": "stream",
     "text": [
      "\n",
      "Using custom data configuration loubnabnl--the-stack-inspection-data-f5f2e5db41596665\n"
     ]
    },
    {
     "name": "stdout",
     "output_type": "stream",
     "text": [
      "Downloading and preparing dataset json/loubnabnl--the-stack-inspection-data to /Users/harm.devries/.cache/huggingface/datasets/loubnabnl___json/loubnabnl--the-stack-inspection-data-f5f2e5db41596665/0.0.0/e6070c77f18f01a5ad4551a8b7edfba20b8438b7cad4d94e6ad9378022ce4aab...\n"
     ]
    },
    {
     "data": {
      "application/vnd.jupyter.widget-view+json": {
       "model_id": "c93d2b3e58d5413fa0d8570365e6f876",
       "version_major": 2,
       "version_minor": 0
      },
      "text/plain": [
       "Downloading data files:   0%|          | 0/1 [00:00<?, ?it/s]"
      ]
     },
     "metadata": {},
     "output_type": "display_data"
    },
    {
     "data": {
      "application/vnd.jupyter.widget-view+json": {
       "model_id": "54eabff6b88844dab4307df1e7bf19f4",
       "version_major": 2,
       "version_minor": 0
      },
      "text/plain": [
       "Downloading data:   0%|          | 0.00/4.53k [00:00<?, ?B/s]"
      ]
     },
     "metadata": {},
     "output_type": "display_data"
    },
    {
     "data": {
      "application/vnd.jupyter.widget-view+json": {
       "model_id": "645242da427c4e4db1f9d710a9e9b1da",
       "version_major": 2,
       "version_minor": 0
      },
      "text/plain": [
       "Extracting data files:   0%|          | 0/1 [00:00<?, ?it/s]"
      ]
     },
     "metadata": {},
     "output_type": "display_data"
    },
    {
     "data": {
      "application/vnd.jupyter.widget-view+json": {
       "model_id": "306aa9bd678442749d972817db12faff",
       "version_major": 2,
       "version_minor": 0
      },
      "text/plain": [
       "Generating train split: 0 examples [00:00, ? examples/s]"
      ]
     },
     "metadata": {},
     "output_type": "display_data"
    },
    {
     "name": "stdout",
     "output_type": "stream",
     "text": [
      "Dataset json downloaded and prepared to /Users/harm.devries/.cache/huggingface/datasets/loubnabnl___json/loubnabnl--the-stack-inspection-data-f5f2e5db41596665/0.0.0/e6070c77f18f01a5ad4551a8b7edfba20b8438b7cad4d94e6ad9378022ce4aab. Subsequent calls will reuse this data.\n"
     ]
    },
    {
     "name": "stderr",
     "output_type": "stream",
     "text": [
      "\n",
      "12it [00:00, 4691.62it/s]"
     ]
    },
    {
     "name": "stdout",
     "output_type": "stream",
     "text": [
      "208\n",
      "ruby\n",
      "thor\n"
     ]
    },
    {
     "name": "stderr",
     "output_type": "stream",
     "text": [
      "\n",
      "Using custom data configuration loubnabnl--the-stack-inspection-data-59cebbcc6b6d32c4\n"
     ]
    },
    {
     "name": "stdout",
     "output_type": "stream",
     "text": [
      "Downloading and preparing dataset json/loubnabnl--the-stack-inspection-data to /Users/harm.devries/.cache/huggingface/datasets/loubnabnl___json/loubnabnl--the-stack-inspection-data-59cebbcc6b6d32c4/0.0.0/e6070c77f18f01a5ad4551a8b7edfba20b8438b7cad4d94e6ad9378022ce4aab...\n"
     ]
    },
    {
     "data": {
      "application/vnd.jupyter.widget-view+json": {
       "model_id": "eee00cc42fb34f1fa75144f1bd0b4377",
       "version_major": 2,
       "version_minor": 0
      },
      "text/plain": [
       "Downloading data files:   0%|          | 0/1 [00:00<?, ?it/s]"
      ]
     },
     "metadata": {},
     "output_type": "display_data"
    },
    {
     "data": {
      "application/vnd.jupyter.widget-view+json": {
       "model_id": "7285ecb0e19640518a74dde19fec7aec",
       "version_major": 2,
       "version_minor": 0
      },
      "text/plain": [
       "Downloading data:   0%|          | 0.00/6.67k [00:00<?, ?B/s]"
      ]
     },
     "metadata": {},
     "output_type": "display_data"
    },
    {
     "data": {
      "application/vnd.jupyter.widget-view+json": {
       "model_id": "287aca3c43484c6e962c007928b77326",
       "version_major": 2,
       "version_minor": 0
      },
      "text/plain": [
       "Extracting data files:   0%|          | 0/1 [00:00<?, ?it/s]"
      ]
     },
     "metadata": {},
     "output_type": "display_data"
    },
    {
     "data": {
      "application/vnd.jupyter.widget-view+json": {
       "model_id": "77f0484704d84244b831d142686f3a15",
       "version_major": 2,
       "version_minor": 0
      },
      "text/plain": [
       "Generating train split: 0 examples [00:00, ? examples/s]"
      ]
     },
     "metadata": {},
     "output_type": "display_data"
    },
    {
     "name": "stdout",
     "output_type": "stream",
     "text": [
      "Dataset json downloaded and prepared to /Users/harm.devries/.cache/huggingface/datasets/loubnabnl___json/loubnabnl--the-stack-inspection-data-59cebbcc6b6d32c4/0.0.0/e6070c77f18f01a5ad4551a8b7edfba20b8438b7cad4d94e6ad9378022ce4aab. Subsequent calls will reuse this data.\n"
     ]
    },
    {
     "name": "stderr",
     "output_type": "stream",
     "text": [
      "\n",
      "2it [00:00, 3294.82it/s]"
     ]
    },
    {
     "name": "stdout",
     "output_type": "stream",
     "text": [
      "209\n",
      "ruby\n",
      "rbw\n"
     ]
    },
    {
     "name": "stderr",
     "output_type": "stream",
     "text": [
      "\n",
      "Using custom data configuration loubnabnl--the-stack-inspection-data-547dd36c9bafcbab\n"
     ]
    },
    {
     "name": "stdout",
     "output_type": "stream",
     "text": [
      "Downloading and preparing dataset json/loubnabnl--the-stack-inspection-data to /Users/harm.devries/.cache/huggingface/datasets/loubnabnl___json/loubnabnl--the-stack-inspection-data-547dd36c9bafcbab/0.0.0/e6070c77f18f01a5ad4551a8b7edfba20b8438b7cad4d94e6ad9378022ce4aab...\n"
     ]
    },
    {
     "data": {
      "application/vnd.jupyter.widget-view+json": {
       "model_id": "9bab028416a24ba0b90e2a5c2f926c4c",
       "version_major": 2,
       "version_minor": 0
      },
      "text/plain": [
       "Downloading data files:   0%|          | 0/1 [00:00<?, ?it/s]"
      ]
     },
     "metadata": {},
     "output_type": "display_data"
    },
    {
     "data": {
      "application/vnd.jupyter.widget-view+json": {
       "model_id": "f20bb88db3cb4ff68f8c3f16343606d5",
       "version_major": 2,
       "version_minor": 0
      },
      "text/plain": [
       "Downloading data:   0%|          | 0.00/1.31k [00:00<?, ?B/s]"
      ]
     },
     "metadata": {},
     "output_type": "display_data"
    },
    {
     "data": {
      "application/vnd.jupyter.widget-view+json": {
       "model_id": "0bd74304726e47d1b84e909db6780d5a",
       "version_major": 2,
       "version_minor": 0
      },
      "text/plain": [
       "Extracting data files:   0%|          | 0/1 [00:00<?, ?it/s]"
      ]
     },
     "metadata": {},
     "output_type": "display_data"
    },
    {
     "data": {
      "application/vnd.jupyter.widget-view+json": {
       "model_id": "9a66ce85f0d44f209cfe94c10bfa17ba",
       "version_major": 2,
       "version_minor": 0
      },
      "text/plain": [
       "Generating train split: 0 examples [00:00, ? examples/s]"
      ]
     },
     "metadata": {},
     "output_type": "display_data"
    },
    {
     "name": "stdout",
     "output_type": "stream",
     "text": [
      "Dataset json downloaded and prepared to /Users/harm.devries/.cache/huggingface/datasets/loubnabnl___json/loubnabnl--the-stack-inspection-data-547dd36c9bafcbab/0.0.0/e6070c77f18f01a5ad4551a8b7edfba20b8438b7cad4d94e6ad9378022ce4aab. Subsequent calls will reuse this data.\n"
     ]
    },
    {
     "name": "stderr",
     "output_type": "stream",
     "text": [
      "\n",
      "1it [00:00, 1631.39it/s]"
     ]
    },
    {
     "name": "stdout",
     "output_type": "stream",
     "text": [
      "210\n",
      "rust\n",
      "rs\n"
     ]
    },
    {
     "name": "stderr",
     "output_type": "stream",
     "text": [
      "\n",
      "Using custom data configuration loubnabnl--the-stack-inspection-data-063c6a4786cad44b\n"
     ]
    },
    {
     "name": "stdout",
     "output_type": "stream",
     "text": [
      "Downloading and preparing dataset json/loubnabnl--the-stack-inspection-data to /Users/harm.devries/.cache/huggingface/datasets/loubnabnl___json/loubnabnl--the-stack-inspection-data-063c6a4786cad44b/0.0.0/e6070c77f18f01a5ad4551a8b7edfba20b8438b7cad4d94e6ad9378022ce4aab...\n"
     ]
    },
    {
     "data": {
      "application/vnd.jupyter.widget-view+json": {
       "model_id": "1b385b48465c4bf4a50bcec5631b2ac8",
       "version_major": 2,
       "version_minor": 0
      },
      "text/plain": [
       "Downloading data files:   0%|          | 0/1 [00:00<?, ?it/s]"
      ]
     },
     "metadata": {},
     "output_type": "display_data"
    },
    {
     "data": {
      "application/vnd.jupyter.widget-view+json": {
       "model_id": "b08da4baf5894b65a0381ca4c03309b1",
       "version_major": 2,
       "version_minor": 0
      },
      "text/plain": [
       "Downloading data:   0%|          | 0.00/16.2M [00:00<?, ?B/s]"
      ]
     },
     "metadata": {},
     "output_type": "display_data"
    },
    {
     "data": {
      "application/vnd.jupyter.widget-view+json": {
       "model_id": "2bfc821153bf4477b15f3a84f12ba5ba",
       "version_major": 2,
       "version_minor": 0
      },
      "text/plain": [
       "Extracting data files:   0%|          | 0/1 [00:00<?, ?it/s]"
      ]
     },
     "metadata": {},
     "output_type": "display_data"
    },
    {
     "data": {
      "application/vnd.jupyter.widget-view+json": {
       "model_id": "3c18101ce55c46d9b5392aac5ccd301e",
       "version_major": 2,
       "version_minor": 0
      },
      "text/plain": [
       "Generating train split: 0 examples [00:00, ? examples/s]"
      ]
     },
     "metadata": {},
     "output_type": "display_data"
    },
    {
     "name": "stdout",
     "output_type": "stream",
     "text": [
      "Dataset json downloaded and prepared to /Users/harm.devries/.cache/huggingface/datasets/loubnabnl___json/loubnabnl--the-stack-inspection-data-063c6a4786cad44b/0.0.0/e6070c77f18f01a5ad4551a8b7edfba20b8438b7cad4d94e6ad9378022ce4aab. Subsequent calls will reuse this data.\n"
     ]
    },
    {
     "name": "stderr",
     "output_type": "stream",
     "text": [
      "\n",
      "0it [00:00, ?it/s]\u001b[A\n",
      "250it [00:00, 2464.92it/s]\u001b[A\n",
      "497it [00:00, 2464.75it/s]\u001b[A\n",
      "744it [00:00, 2016.86it/s]\u001b[A\n",
      "1000it [00:00, 2150.56it/s][A\n"
     ]
    },
    {
     "name": "stdout",
     "output_type": "stream",
     "text": [
      "211\n",
      "sas\n",
      "sas\n"
     ]
    },
    {
     "name": "stderr",
     "output_type": "stream",
     "text": [
      "Using custom data configuration loubnabnl--the-stack-inspection-data-dc1f73f277e3a2ae\n"
     ]
    },
    {
     "name": "stdout",
     "output_type": "stream",
     "text": [
      "Downloading and preparing dataset json/loubnabnl--the-stack-inspection-data to /Users/harm.devries/.cache/huggingface/datasets/loubnabnl___json/loubnabnl--the-stack-inspection-data-dc1f73f277e3a2ae/0.0.0/e6070c77f18f01a5ad4551a8b7edfba20b8438b7cad4d94e6ad9378022ce4aab...\n"
     ]
    },
    {
     "data": {
      "application/vnd.jupyter.widget-view+json": {
       "model_id": "d61e404525104d7c96905280a84cad5f",
       "version_major": 2,
       "version_minor": 0
      },
      "text/plain": [
       "Downloading data files:   0%|          | 0/1 [00:00<?, ?it/s]"
      ]
     },
     "metadata": {},
     "output_type": "display_data"
    },
    {
     "data": {
      "application/vnd.jupyter.widget-view+json": {
       "model_id": "6695a664223b44e7a6747cfe7926f975",
       "version_major": 2,
       "version_minor": 0
      },
      "text/plain": [
       "Downloading data:   0%|          | 0.00/24.1M [00:00<?, ?B/s]"
      ]
     },
     "metadata": {},
     "output_type": "display_data"
    },
    {
     "data": {
      "application/vnd.jupyter.widget-view+json": {
       "model_id": "390eaade21e548a5b263653cd49ff9ef",
       "version_major": 2,
       "version_minor": 0
      },
      "text/plain": [
       "Extracting data files:   0%|          | 0/1 [00:00<?, ?it/s]"
      ]
     },
     "metadata": {},
     "output_type": "display_data"
    },
    {
     "data": {
      "application/vnd.jupyter.widget-view+json": {
       "model_id": "fa9b2cb75ab846ab83481b17bd9347be",
       "version_major": 2,
       "version_minor": 0
      },
      "text/plain": [
       "Generating train split: 0 examples [00:00, ? examples/s]"
      ]
     },
     "metadata": {},
     "output_type": "display_data"
    },
    {
     "name": "stdout",
     "output_type": "stream",
     "text": [
      "Dataset json downloaded and prepared to /Users/harm.devries/.cache/huggingface/datasets/loubnabnl___json/loubnabnl--the-stack-inspection-data-dc1f73f277e3a2ae/0.0.0/e6070c77f18f01a5ad4551a8b7edfba20b8438b7cad4d94e6ad9378022ce4aab. Subsequent calls will reuse this data.\n"
     ]
    },
    {
     "name": "stderr",
     "output_type": "stream",
     "text": [
      "1000it [00:00, 1659.78it/s]\n"
     ]
    },
    {
     "name": "stdout",
     "output_type": "stream",
     "text": [
      "212\n",
      "scala\n",
      "scala\n"
     ]
    },
    {
     "name": "stderr",
     "output_type": "stream",
     "text": [
      "Using custom data configuration loubnabnl--the-stack-inspection-data-bdabef412280fa38\n"
     ]
    },
    {
     "name": "stdout",
     "output_type": "stream",
     "text": [
      "Downloading and preparing dataset json/loubnabnl--the-stack-inspection-data to /Users/harm.devries/.cache/huggingface/datasets/loubnabnl___json/loubnabnl--the-stack-inspection-data-bdabef412280fa38/0.0.0/e6070c77f18f01a5ad4551a8b7edfba20b8438b7cad4d94e6ad9378022ce4aab...\n"
     ]
    },
    {
     "data": {
      "application/vnd.jupyter.widget-view+json": {
       "model_id": "b0506d24e2794c4da7c4083eec52f8f5",
       "version_major": 2,
       "version_minor": 0
      },
      "text/plain": [
       "Downloading data files:   0%|          | 0/1 [00:00<?, ?it/s]"
      ]
     },
     "metadata": {},
     "output_type": "display_data"
    },
    {
     "data": {
      "application/vnd.jupyter.widget-view+json": {
       "model_id": "b57d6494cd6f4258bbe49180631f9a5b",
       "version_major": 2,
       "version_minor": 0
      },
      "text/plain": [
       "Downloading data:   0%|          | 0.00/6.09M [00:00<?, ?B/s]"
      ]
     },
     "metadata": {},
     "output_type": "display_data"
    },
    {
     "data": {
      "application/vnd.jupyter.widget-view+json": {
       "model_id": "0ebb2fcaf6334afea419fb1b6ef2fb67",
       "version_major": 2,
       "version_minor": 0
      },
      "text/plain": [
       "Extracting data files:   0%|          | 0/1 [00:00<?, ?it/s]"
      ]
     },
     "metadata": {},
     "output_type": "display_data"
    },
    {
     "data": {
      "application/vnd.jupyter.widget-view+json": {
       "model_id": "1920d39fd311482b8e4ff31b063ca043",
       "version_major": 2,
       "version_minor": 0
      },
      "text/plain": [
       "Generating train split: 0 examples [00:00, ? examples/s]"
      ]
     },
     "metadata": {},
     "output_type": "display_data"
    },
    {
     "name": "stdout",
     "output_type": "stream",
     "text": [
      "Dataset json downloaded and prepared to /Users/harm.devries/.cache/huggingface/datasets/loubnabnl___json/loubnabnl--the-stack-inspection-data-bdabef412280fa38/0.0.0/e6070c77f18f01a5ad4551a8b7edfba20b8438b7cad4d94e6ad9378022ce4aab. Subsequent calls will reuse this data.\n"
     ]
    },
    {
     "name": "stderr",
     "output_type": "stream",
     "text": [
      "1000it [00:00, 4565.40it/s]\n"
     ]
    },
    {
     "name": "stdout",
     "output_type": "stream",
     "text": [
      "213\n",
      "scala\n",
      "sbt\n"
     ]
    },
    {
     "name": "stderr",
     "output_type": "stream",
     "text": [
      "Using custom data configuration loubnabnl--the-stack-inspection-data-ac07f99df9eeb883\n"
     ]
    },
    {
     "name": "stdout",
     "output_type": "stream",
     "text": [
      "Downloading and preparing dataset json/loubnabnl--the-stack-inspection-data to /Users/harm.devries/.cache/huggingface/datasets/loubnabnl___json/loubnabnl--the-stack-inspection-data-ac07f99df9eeb883/0.0.0/e6070c77f18f01a5ad4551a8b7edfba20b8438b7cad4d94e6ad9378022ce4aab...\n"
     ]
    },
    {
     "data": {
      "application/vnd.jupyter.widget-view+json": {
       "model_id": "ae4a46f9ef2f4537a392add97a0a5909",
       "version_major": 2,
       "version_minor": 0
      },
      "text/plain": [
       "Downloading data files:   0%|          | 0/1 [00:00<?, ?it/s]"
      ]
     },
     "metadata": {},
     "output_type": "display_data"
    },
    {
     "data": {
      "application/vnd.jupyter.widget-view+json": {
       "model_id": "9038217a0d1e44138afd2f4e806b96b5",
       "version_major": 2,
       "version_minor": 0
      },
      "text/plain": [
       "Downloading data:   0%|          | 0.00/2.19M [00:00<?, ?B/s]"
      ]
     },
     "metadata": {},
     "output_type": "display_data"
    },
    {
     "data": {
      "application/vnd.jupyter.widget-view+json": {
       "model_id": "4293948553af4d82b593c14183eb620d",
       "version_major": 2,
       "version_minor": 0
      },
      "text/plain": [
       "Extracting data files:   0%|          | 0/1 [00:00<?, ?it/s]"
      ]
     },
     "metadata": {},
     "output_type": "display_data"
    },
    {
     "data": {
      "application/vnd.jupyter.widget-view+json": {
       "model_id": "eb76526ada7646a09d6f00e8cd5a2252",
       "version_major": 2,
       "version_minor": 0
      },
      "text/plain": [
       "Generating train split: 0 examples [00:00, ? examples/s]"
      ]
     },
     "metadata": {},
     "output_type": "display_data"
    },
    {
     "name": "stdout",
     "output_type": "stream",
     "text": [
      "Dataset json downloaded and prepared to /Users/harm.devries/.cache/huggingface/datasets/loubnabnl___json/loubnabnl--the-stack-inspection-data-ac07f99df9eeb883/0.0.0/e6070c77f18f01a5ad4551a8b7edfba20b8438b7cad4d94e6ad9378022ce4aab. Subsequent calls will reuse this data.\n"
     ]
    },
    {
     "name": "stderr",
     "output_type": "stream",
     "text": [
      "\n",
      "0it [00:00, ?it/s]\u001b[A\n",
      "913it [00:00, 7750.42it/s]\u001b[A"
     ]
    },
    {
     "name": "stdout",
     "output_type": "stream",
     "text": [
      "214\n",
      "scheme\n",
      "scm\n"
     ]
    },
    {
     "name": "stderr",
     "output_type": "stream",
     "text": [
      "\n",
      "Using custom data configuration loubnabnl--the-stack-inspection-data-fc9111668543b876\n"
     ]
    },
    {
     "name": "stdout",
     "output_type": "stream",
     "text": [
      "Downloading and preparing dataset json/loubnabnl--the-stack-inspection-data to /Users/harm.devries/.cache/huggingface/datasets/loubnabnl___json/loubnabnl--the-stack-inspection-data-fc9111668543b876/0.0.0/e6070c77f18f01a5ad4551a8b7edfba20b8438b7cad4d94e6ad9378022ce4aab...\n"
     ]
    },
    {
     "data": {
      "application/vnd.jupyter.widget-view+json": {
       "model_id": "a4edca7cf4a04c6db980ef93b6b79d4c",
       "version_major": 2,
       "version_minor": 0
      },
      "text/plain": [
       "Downloading data files:   0%|          | 0/1 [00:00<?, ?it/s]"
      ]
     },
     "metadata": {},
     "output_type": "display_data"
    },
    {
     "data": {
      "application/vnd.jupyter.widget-view+json": {
       "model_id": "1af16b944462469aacf700da89f72555",
       "version_major": 2,
       "version_minor": 0
      },
      "text/plain": [
       "Downloading data:   0%|          | 0.00/8.57M [00:00<?, ?B/s]"
      ]
     },
     "metadata": {},
     "output_type": "display_data"
    },
    {
     "data": {
      "application/vnd.jupyter.widget-view+json": {
       "model_id": "a5e2c392929248738afaeb9eb2fcf684",
       "version_major": 2,
       "version_minor": 0
      },
      "text/plain": [
       "Extracting data files:   0%|          | 0/1 [00:00<?, ?it/s]"
      ]
     },
     "metadata": {},
     "output_type": "display_data"
    },
    {
     "data": {
      "application/vnd.jupyter.widget-view+json": {
       "model_id": "667a9831e0db4caf9080489f9fe0186c",
       "version_major": 2,
       "version_minor": 0
      },
      "text/plain": [
       "Generating train split: 0 examples [00:00, ? examples/s]"
      ]
     },
     "metadata": {},
     "output_type": "display_data"
    },
    {
     "name": "stdout",
     "output_type": "stream",
     "text": [
      "Dataset json downloaded and prepared to /Users/harm.devries/.cache/huggingface/datasets/loubnabnl___json/loubnabnl--the-stack-inspection-data-fc9111668543b876/0.0.0/e6070c77f18f01a5ad4551a8b7edfba20b8438b7cad4d94e6ad9378022ce4aab. Subsequent calls will reuse this data.\n"
     ]
    },
    {
     "name": "stderr",
     "output_type": "stream",
     "text": [
      "1000it [00:00, 3600.57it/s]\n"
     ]
    },
    {
     "name": "stdout",
     "output_type": "stream",
     "text": [
      "215\n",
      "scheme\n",
      "sld\n"
     ]
    },
    {
     "name": "stderr",
     "output_type": "stream",
     "text": [
      "Using custom data configuration loubnabnl--the-stack-inspection-data-2535b6f75a549b03\n"
     ]
    },
    {
     "name": "stdout",
     "output_type": "stream",
     "text": [
      "Downloading and preparing dataset json/loubnabnl--the-stack-inspection-data to /Users/harm.devries/.cache/huggingface/datasets/loubnabnl___json/loubnabnl--the-stack-inspection-data-2535b6f75a549b03/0.0.0/e6070c77f18f01a5ad4551a8b7edfba20b8438b7cad4d94e6ad9378022ce4aab...\n"
     ]
    },
    {
     "data": {
      "application/vnd.jupyter.widget-view+json": {
       "model_id": "badc4250d04f49b69a6341b4b84a333b",
       "version_major": 2,
       "version_minor": 0
      },
      "text/plain": [
       "Downloading data files:   0%|          | 0/1 [00:00<?, ?it/s]"
      ]
     },
     "metadata": {},
     "output_type": "display_data"
    },
    {
     "data": {
      "application/vnd.jupyter.widget-view+json": {
       "model_id": "a5c64ff941514caabde1efac0d2f8e46",
       "version_major": 2,
       "version_minor": 0
      },
      "text/plain": [
       "Downloading data:   0%|          | 0.00/13.0M [00:00<?, ?B/s]"
      ]
     },
     "metadata": {},
     "output_type": "display_data"
    },
    {
     "data": {
      "application/vnd.jupyter.widget-view+json": {
       "model_id": "08b7839242624fbfbc74ded2e0ab3107",
       "version_major": 2,
       "version_minor": 0
      },
      "text/plain": [
       "Extracting data files:   0%|          | 0/1 [00:00<?, ?it/s]"
      ]
     },
     "metadata": {},
     "output_type": "display_data"
    },
    {
     "data": {
      "application/vnd.jupyter.widget-view+json": {
       "model_id": "8b7d02dd966d452087a3cf9f8e3c32bb",
       "version_major": 2,
       "version_minor": 0
      },
      "text/plain": [
       "Generating train split: 0 examples [00:00, ? examples/s]"
      ]
     },
     "metadata": {},
     "output_type": "display_data"
    },
    {
     "name": "stdout",
     "output_type": "stream",
     "text": [
      "Dataset json downloaded and prepared to /Users/harm.devries/.cache/huggingface/datasets/loubnabnl___json/loubnabnl--the-stack-inspection-data-2535b6f75a549b03/0.0.0/e6070c77f18f01a5ad4551a8b7edfba20b8438b7cad4d94e6ad9378022ce4aab. Subsequent calls will reuse this data.\n"
     ]
    },
    {
     "name": "stderr",
     "output_type": "stream",
     "text": [
      "\n",
      "0it [00:00, ?it/s]\u001b[A\n",
      "380it [00:00, 3791.13it/s]\u001b[A\n",
      "1000it [00:00, 3787.76it/s][A\n"
     ]
    },
    {
     "name": "stdout",
     "output_type": "stream",
     "text": [
      "216\n",
      "scheme\n",
      "sps\n"
     ]
    },
    {
     "name": "stderr",
     "output_type": "stream",
     "text": [
      "Using custom data configuration loubnabnl--the-stack-inspection-data-eb1244947e828a54\n"
     ]
    },
    {
     "name": "stdout",
     "output_type": "stream",
     "text": [
      "Downloading and preparing dataset json/loubnabnl--the-stack-inspection-data to /Users/harm.devries/.cache/huggingface/datasets/loubnabnl___json/loubnabnl--the-stack-inspection-data-eb1244947e828a54/0.0.0/e6070c77f18f01a5ad4551a8b7edfba20b8438b7cad4d94e6ad9378022ce4aab...\n"
     ]
    },
    {
     "data": {
      "application/vnd.jupyter.widget-view+json": {
       "model_id": "79a5f540228d48c7bd83be2f424b1ece",
       "version_major": 2,
       "version_minor": 0
      },
      "text/plain": [
       "Downloading data files:   0%|          | 0/1 [00:00<?, ?it/s]"
      ]
     },
     "metadata": {},
     "output_type": "display_data"
    },
    {
     "data": {
      "application/vnd.jupyter.widget-view+json": {
       "model_id": "fb464cc482164b86b4d0c710e8575961",
       "version_major": 2,
       "version_minor": 0
      },
      "text/plain": [
       "Downloading data:   0%|          | 0.00/9.34M [00:00<?, ?B/s]"
      ]
     },
     "metadata": {},
     "output_type": "display_data"
    },
    {
     "data": {
      "application/vnd.jupyter.widget-view+json": {
       "model_id": "14b2a1703fa44bd8bb8d8bb71c95c747",
       "version_major": 2,
       "version_minor": 0
      },
      "text/plain": [
       "Extracting data files:   0%|          | 0/1 [00:00<?, ?it/s]"
      ]
     },
     "metadata": {},
     "output_type": "display_data"
    },
    {
     "data": {
      "application/vnd.jupyter.widget-view+json": {
       "model_id": "1132d118c47c40e786939dcf819474be",
       "version_major": 2,
       "version_minor": 0
      },
      "text/plain": [
       "Generating train split: 0 examples [00:00, ? examples/s]"
      ]
     },
     "metadata": {},
     "output_type": "display_data"
    },
    {
     "name": "stdout",
     "output_type": "stream",
     "text": [
      "Dataset json downloaded and prepared to /Users/harm.devries/.cache/huggingface/datasets/loubnabnl___json/loubnabnl--the-stack-inspection-data-eb1244947e828a54/0.0.0/e6070c77f18f01a5ad4551a8b7edfba20b8438b7cad4d94e6ad9378022ce4aab. Subsequent calls will reuse this data.\n"
     ]
    },
    {
     "name": "stderr",
     "output_type": "stream",
     "text": [
      "\n",
      "0it [00:00, ?it/s]\u001b[A\n",
      "446it [00:00, 3258.45it/s]\u001b[A"
     ]
    },
    {
     "name": "stdout",
     "output_type": "stream",
     "text": [
      "217\n",
      "shell\n",
      "sh\n"
     ]
    },
    {
     "name": "stderr",
     "output_type": "stream",
     "text": [
      "\n",
      "Using custom data configuration loubnabnl--the-stack-inspection-data-f5d3e8f9692dc1b1\n"
     ]
    },
    {
     "name": "stdout",
     "output_type": "stream",
     "text": [
      "Downloading and preparing dataset json/loubnabnl--the-stack-inspection-data to /Users/harm.devries/.cache/huggingface/datasets/loubnabnl___json/loubnabnl--the-stack-inspection-data-f5d3e8f9692dc1b1/0.0.0/e6070c77f18f01a5ad4551a8b7edfba20b8438b7cad4d94e6ad9378022ce4aab...\n"
     ]
    },
    {
     "data": {
      "application/vnd.jupyter.widget-view+json": {
       "model_id": "f2f69eec0b96425aa9917a08439fe0a1",
       "version_major": 2,
       "version_minor": 0
      },
      "text/plain": [
       "Downloading data files:   0%|          | 0/1 [00:00<?, ?it/s]"
      ]
     },
     "metadata": {},
     "output_type": "display_data"
    },
    {
     "data": {
      "application/vnd.jupyter.widget-view+json": {
       "model_id": "4f5a2424447c40e3a05aec793cdf3b85",
       "version_major": 2,
       "version_minor": 0
      },
      "text/plain": [
       "Downloading data:   0%|          | 0.00/2.53M [00:00<?, ?B/s]"
      ]
     },
     "metadata": {},
     "output_type": "display_data"
    },
    {
     "data": {
      "application/vnd.jupyter.widget-view+json": {
       "model_id": "e66ce624498f453abf4ef106698de4cc",
       "version_major": 2,
       "version_minor": 0
      },
      "text/plain": [
       "Extracting data files:   0%|          | 0/1 [00:00<?, ?it/s]"
      ]
     },
     "metadata": {},
     "output_type": "display_data"
    },
    {
     "data": {
      "application/vnd.jupyter.widget-view+json": {
       "model_id": "95e020d40deb435ca94d860a6fecd534",
       "version_major": 2,
       "version_minor": 0
      },
      "text/plain": [
       "Generating train split: 0 examples [00:00, ? examples/s]"
      ]
     },
     "metadata": {},
     "output_type": "display_data"
    },
    {
     "name": "stdout",
     "output_type": "stream",
     "text": [
      "Dataset json downloaded and prepared to /Users/harm.devries/.cache/huggingface/datasets/loubnabnl___json/loubnabnl--the-stack-inspection-data-f5d3e8f9692dc1b1/0.0.0/e6070c77f18f01a5ad4551a8b7edfba20b8438b7cad4d94e6ad9378022ce4aab. Subsequent calls will reuse this data.\n"
     ]
    },
    {
     "name": "stderr",
     "output_type": "stream",
     "text": [
      "\n",
      "0it [00:00, ?it/s]\u001b[A\n",
      "1000it [00:00, 7209.92it/s][A"
     ]
    },
    {
     "name": "stdout",
     "output_type": "stream",
     "text": [
      "218\n",
      "shell\n",
      "bash\n"
     ]
    },
    {
     "name": "stderr",
     "output_type": "stream",
     "text": [
      "\n",
      "Using custom data configuration loubnabnl--the-stack-inspection-data-1934943282962fac\n"
     ]
    },
    {
     "name": "stdout",
     "output_type": "stream",
     "text": [
      "Downloading and preparing dataset json/loubnabnl--the-stack-inspection-data to /Users/harm.devries/.cache/huggingface/datasets/loubnabnl___json/loubnabnl--the-stack-inspection-data-1934943282962fac/0.0.0/e6070c77f18f01a5ad4551a8b7edfba20b8438b7cad4d94e6ad9378022ce4aab...\n"
     ]
    },
    {
     "data": {
      "application/vnd.jupyter.widget-view+json": {
       "model_id": "f459141906a440d3baa093cbff7edeae",
       "version_major": 2,
       "version_minor": 0
      },
      "text/plain": [
       "Downloading data files:   0%|          | 0/1 [00:00<?, ?it/s]"
      ]
     },
     "metadata": {},
     "output_type": "display_data"
    },
    {
     "data": {
      "application/vnd.jupyter.widget-view+json": {
       "model_id": "676ef0c4d6a6421e975ad394978b8fb4",
       "version_major": 2,
       "version_minor": 0
      },
      "text/plain": [
       "Downloading data:   0%|          | 0.00/1.32M [00:00<?, ?B/s]"
      ]
     },
     "metadata": {},
     "output_type": "display_data"
    },
    {
     "data": {
      "application/vnd.jupyter.widget-view+json": {
       "model_id": "8773e0bed8b5472ab09d5bf1ea13b7ca",
       "version_major": 2,
       "version_minor": 0
      },
      "text/plain": [
       "Extracting data files:   0%|          | 0/1 [00:00<?, ?it/s]"
      ]
     },
     "metadata": {},
     "output_type": "display_data"
    },
    {
     "data": {
      "application/vnd.jupyter.widget-view+json": {
       "model_id": "6c0d760d0df04d5d899b99b03300e2c0",
       "version_major": 2,
       "version_minor": 0
      },
      "text/plain": [
       "Generating train split: 0 examples [00:00, ? examples/s]"
      ]
     },
     "metadata": {},
     "output_type": "display_data"
    },
    {
     "name": "stdout",
     "output_type": "stream",
     "text": [
      "Dataset json downloaded and prepared to /Users/harm.devries/.cache/huggingface/datasets/loubnabnl___json/loubnabnl--the-stack-inspection-data-1934943282962fac/0.0.0/e6070c77f18f01a5ad4551a8b7edfba20b8438b7cad4d94e6ad9378022ce4aab. Subsequent calls will reuse this data.\n"
     ]
    },
    {
     "name": "stderr",
     "output_type": "stream",
     "text": [
      "\n",
      "312it [00:00, 5205.40it/s]"
     ]
    },
    {
     "name": "stdout",
     "output_type": "stream",
     "text": [
      "219\n",
      "shell\n",
      "tmux\n"
     ]
    },
    {
     "name": "stderr",
     "output_type": "stream",
     "text": [
      "\n",
      "Using custom data configuration loubnabnl--the-stack-inspection-data-e0ee384d5f8d34c9\n"
     ]
    },
    {
     "name": "stdout",
     "output_type": "stream",
     "text": [
      "Downloading and preparing dataset json/loubnabnl--the-stack-inspection-data to /Users/harm.devries/.cache/huggingface/datasets/loubnabnl___json/loubnabnl--the-stack-inspection-data-e0ee384d5f8d34c9/0.0.0/e6070c77f18f01a5ad4551a8b7edfba20b8438b7cad4d94e6ad9378022ce4aab...\n"
     ]
    },
    {
     "data": {
      "application/vnd.jupyter.widget-view+json": {
       "model_id": "7ccc3dea75004ea8af799990d421033d",
       "version_major": 2,
       "version_minor": 0
      },
      "text/plain": [
       "Downloading data files:   0%|          | 0/1 [00:00<?, ?it/s]"
      ]
     },
     "metadata": {},
     "output_type": "display_data"
    },
    {
     "data": {
      "application/vnd.jupyter.widget-view+json": {
       "model_id": "f3fd7510fcac4a57a8e0b4cb96217b8c",
       "version_major": 2,
       "version_minor": 0
      },
      "text/plain": [
       "Downloading data:   0%|          | 0.00/16.5k [00:00<?, ?B/s]"
      ]
     },
     "metadata": {},
     "output_type": "display_data"
    },
    {
     "data": {
      "application/vnd.jupyter.widget-view+json": {
       "model_id": "58a000e9d7e2469380df696830952ed7",
       "version_major": 2,
       "version_minor": 0
      },
      "text/plain": [
       "Extracting data files:   0%|          | 0/1 [00:00<?, ?it/s]"
      ]
     },
     "metadata": {},
     "output_type": "display_data"
    },
    {
     "data": {
      "application/vnd.jupyter.widget-view+json": {
       "model_id": "d12e0b2df77a48a09ac093696998b982",
       "version_major": 2,
       "version_minor": 0
      },
      "text/plain": [
       "Generating train split: 0 examples [00:00, ? examples/s]"
      ]
     },
     "metadata": {},
     "output_type": "display_data"
    },
    {
     "name": "stdout",
     "output_type": "stream",
     "text": [
      "Dataset json downloaded and prepared to /Users/harm.devries/.cache/huggingface/datasets/loubnabnl___json/loubnabnl--the-stack-inspection-data-e0ee384d5f8d34c9/0.0.0/e6070c77f18f01a5ad4551a8b7edfba20b8438b7cad4d94e6ad9378022ce4aab. Subsequent calls will reuse this data.\n"
     ]
    },
    {
     "name": "stderr",
     "output_type": "stream",
     "text": [
      "\n",
      "7it [00:00, 5625.62it/s]"
     ]
    },
    {
     "name": "stdout",
     "output_type": "stream",
     "text": [
      "220\n",
      "shell\n",
      "bats\n"
     ]
    },
    {
     "name": "stderr",
     "output_type": "stream",
     "text": [
      "\n",
      "Using custom data configuration loubnabnl--the-stack-inspection-data-4d124d3a32acf255\n"
     ]
    },
    {
     "name": "stdout",
     "output_type": "stream",
     "text": [
      "Downloading and preparing dataset json/loubnabnl--the-stack-inspection-data to /Users/harm.devries/.cache/huggingface/datasets/loubnabnl___json/loubnabnl--the-stack-inspection-data-4d124d3a32acf255/0.0.0/e6070c77f18f01a5ad4551a8b7edfba20b8438b7cad4d94e6ad9378022ce4aab...\n"
     ]
    },
    {
     "data": {
      "application/vnd.jupyter.widget-view+json": {
       "model_id": "e28324eb7ab64663b1f4c52d97aaa8bb",
       "version_major": 2,
       "version_minor": 0
      },
      "text/plain": [
       "Downloading data files:   0%|          | 0/1 [00:00<?, ?it/s]"
      ]
     },
     "metadata": {},
     "output_type": "display_data"
    },
    {
     "data": {
      "application/vnd.jupyter.widget-view+json": {
       "model_id": "762b3a7813744a13a761e72c6e2f7cc6",
       "version_major": 2,
       "version_minor": 0
      },
      "text/plain": [
       "Downloading data:   0%|          | 0.00/744k [00:00<?, ?B/s]"
      ]
     },
     "metadata": {},
     "output_type": "display_data"
    },
    {
     "data": {
      "application/vnd.jupyter.widget-view+json": {
       "model_id": "3c4c061d387b40c1b909609581625215",
       "version_major": 2,
       "version_minor": 0
      },
      "text/plain": [
       "Extracting data files:   0%|          | 0/1 [00:00<?, ?it/s]"
      ]
     },
     "metadata": {},
     "output_type": "display_data"
    },
    {
     "data": {
      "application/vnd.jupyter.widget-view+json": {
       "model_id": "122c260f01d949248aace48371bfd050",
       "version_major": 2,
       "version_minor": 0
      },
      "text/plain": [
       "Generating train split: 0 examples [00:00, ? examples/s]"
      ]
     },
     "metadata": {},
     "output_type": "display_data"
    },
    {
     "name": "stdout",
     "output_type": "stream",
     "text": [
      "Dataset json downloaded and prepared to /Users/harm.devries/.cache/huggingface/datasets/loubnabnl___json/loubnabnl--the-stack-inspection-data-4d124d3a32acf255/0.0.0/e6070c77f18f01a5ad4551a8b7edfba20b8438b7cad4d94e6ad9378022ce4aab. Subsequent calls will reuse this data.\n"
     ]
    },
    {
     "name": "stderr",
     "output_type": "stream",
     "text": [
      "\n",
      "127it [00:00, 4299.11it/s]"
     ]
    },
    {
     "name": "stdout",
     "output_type": "stream",
     "text": [
      "221\n",
      "shell\n",
      "zsh\n"
     ]
    },
    {
     "name": "stderr",
     "output_type": "stream",
     "text": [
      "\n",
      "Using custom data configuration loubnabnl--the-stack-inspection-data-513f81580b5d927d\n"
     ]
    },
    {
     "name": "stdout",
     "output_type": "stream",
     "text": [
      "Downloading and preparing dataset json/loubnabnl--the-stack-inspection-data to /Users/harm.devries/.cache/huggingface/datasets/loubnabnl___json/loubnabnl--the-stack-inspection-data-513f81580b5d927d/0.0.0/e6070c77f18f01a5ad4551a8b7edfba20b8438b7cad4d94e6ad9378022ce4aab...\n"
     ]
    },
    {
     "data": {
      "application/vnd.jupyter.widget-view+json": {
       "model_id": "dc6ec6bb854842babdd56db60f6704fe",
       "version_major": 2,
       "version_minor": 0
      },
      "text/plain": [
       "Downloading data files:   0%|          | 0/1 [00:00<?, ?it/s]"
      ]
     },
     "metadata": {},
     "output_type": "display_data"
    },
    {
     "data": {
      "application/vnd.jupyter.widget-view+json": {
       "model_id": "4407415d628841ddb0203ead280b6dd3",
       "version_major": 2,
       "version_minor": 0
      },
      "text/plain": [
       "Downloading data:   0%|          | 0.00/1.48M [00:00<?, ?B/s]"
      ]
     },
     "metadata": {},
     "output_type": "display_data"
    },
    {
     "data": {
      "application/vnd.jupyter.widget-view+json": {
       "model_id": "f03c164dfa674010990d6365b3c7553b",
       "version_major": 2,
       "version_minor": 0
      },
      "text/plain": [
       "Extracting data files:   0%|          | 0/1 [00:00<?, ?it/s]"
      ]
     },
     "metadata": {},
     "output_type": "display_data"
    },
    {
     "data": {
      "application/vnd.jupyter.widget-view+json": {
       "model_id": "e3b83729ae824802a18afc009cbe1585",
       "version_major": 2,
       "version_minor": 0
      },
      "text/plain": [
       "Generating train split: 0 examples [00:00, ? examples/s]"
      ]
     },
     "metadata": {},
     "output_type": "display_data"
    },
    {
     "name": "stdout",
     "output_type": "stream",
     "text": [
      "Dataset json downloaded and prepared to /Users/harm.devries/.cache/huggingface/datasets/loubnabnl___json/loubnabnl--the-stack-inspection-data-513f81580b5d927d/0.0.0/e6070c77f18f01a5ad4551a8b7edfba20b8438b7cad4d94e6ad9378022ce4aab. Subsequent calls will reuse this data.\n"
     ]
    },
    {
     "name": "stderr",
     "output_type": "stream",
     "text": [
      "\n",
      "232it [00:00, 3861.44it/s]"
     ]
    },
    {
     "name": "stdout",
     "output_type": "stream",
     "text": [
      "222\n",
      "shell\n",
      "ksh\n"
     ]
    },
    {
     "name": "stderr",
     "output_type": "stream",
     "text": [
      "\n",
      "Using custom data configuration loubnabnl--the-stack-inspection-data-261dba9db82ca455\n"
     ]
    },
    {
     "name": "stdout",
     "output_type": "stream",
     "text": [
      "Downloading and preparing dataset json/loubnabnl--the-stack-inspection-data to /Users/harm.devries/.cache/huggingface/datasets/loubnabnl___json/loubnabnl--the-stack-inspection-data-261dba9db82ca455/0.0.0/e6070c77f18f01a5ad4551a8b7edfba20b8438b7cad4d94e6ad9378022ce4aab...\n"
     ]
    },
    {
     "data": {
      "application/vnd.jupyter.widget-view+json": {
       "model_id": "344607749a814c7d89e005753696970c",
       "version_major": 2,
       "version_minor": 0
      },
      "text/plain": [
       "Downloading data files:   0%|          | 0/1 [00:00<?, ?it/s]"
      ]
     },
     "metadata": {},
     "output_type": "display_data"
    },
    {
     "data": {
      "application/vnd.jupyter.widget-view+json": {
       "model_id": "abe2cf17f6714a14b894af102f4ecdcf",
       "version_major": 2,
       "version_minor": 0
      },
      "text/plain": [
       "Downloading data:   0%|          | 0.00/130k [00:00<?, ?B/s]"
      ]
     },
     "metadata": {},
     "output_type": "display_data"
    },
    {
     "data": {
      "application/vnd.jupyter.widget-view+json": {
       "model_id": "997cc5f0e9b14d428a70102fe4ed7c2a",
       "version_major": 2,
       "version_minor": 0
      },
      "text/plain": [
       "Extracting data files:   0%|          | 0/1 [00:00<?, ?it/s]"
      ]
     },
     "metadata": {},
     "output_type": "display_data"
    },
    {
     "data": {
      "application/vnd.jupyter.widget-view+json": {
       "model_id": "052d418d89a749b4814a3bf3b1569092",
       "version_major": 2,
       "version_minor": 0
      },
      "text/plain": [
       "Generating train split: 0 examples [00:00, ? examples/s]"
      ]
     },
     "metadata": {},
     "output_type": "display_data"
    },
    {
     "name": "stdout",
     "output_type": "stream",
     "text": [
      "Dataset json downloaded and prepared to /Users/harm.devries/.cache/huggingface/datasets/loubnabnl___json/loubnabnl--the-stack-inspection-data-261dba9db82ca455/0.0.0/e6070c77f18f01a5ad4551a8b7edfba20b8438b7cad4d94e6ad9378022ce4aab. Subsequent calls will reuse this data.\n"
     ]
    },
    {
     "name": "stderr",
     "output_type": "stream",
     "text": [
      "\n",
      "26it [00:00, 4794.33it/s]"
     ]
    },
    {
     "name": "stdout",
     "output_type": "stream",
     "text": [
      "223\n",
      "shell\n",
      "command\n"
     ]
    },
    {
     "name": "stderr",
     "output_type": "stream",
     "text": [
      "\n",
      "Using custom data configuration loubnabnl--the-stack-inspection-data-36708d02ca7fc817\n"
     ]
    },
    {
     "name": "stdout",
     "output_type": "stream",
     "text": [
      "Downloading and preparing dataset json/loubnabnl--the-stack-inspection-data to /Users/harm.devries/.cache/huggingface/datasets/loubnabnl___json/loubnabnl--the-stack-inspection-data-36708d02ca7fc817/0.0.0/e6070c77f18f01a5ad4551a8b7edfba20b8438b7cad4d94e6ad9378022ce4aab...\n"
     ]
    },
    {
     "data": {
      "application/vnd.jupyter.widget-view+json": {
       "model_id": "ab47cb01c8734f9d8d77fb9b4cf770a9",
       "version_major": 2,
       "version_minor": 0
      },
      "text/plain": [
       "Downloading data files:   0%|          | 0/1 [00:00<?, ?it/s]"
      ]
     },
     "metadata": {},
     "output_type": "display_data"
    },
    {
     "data": {
      "application/vnd.jupyter.widget-view+json": {
       "model_id": "6c5543f2df84442996e03920716b3b81",
       "version_major": 2,
       "version_minor": 0
      },
      "text/plain": [
       "Downloading data:   0%|          | 0.00/34.6k [00:00<?, ?B/s]"
      ]
     },
     "metadata": {},
     "output_type": "display_data"
    },
    {
     "data": {
      "application/vnd.jupyter.widget-view+json": {
       "model_id": "b2aa1bb19abb4cc1a9da8d35f420d04d",
       "version_major": 2,
       "version_minor": 0
      },
      "text/plain": [
       "Extracting data files:   0%|          | 0/1 [00:00<?, ?it/s]"
      ]
     },
     "metadata": {},
     "output_type": "display_data"
    },
    {
     "data": {
      "application/vnd.jupyter.widget-view+json": {
       "model_id": "82556b2e0f034bb3a9736948f2ddb4e8",
       "version_major": 2,
       "version_minor": 0
      },
      "text/plain": [
       "Generating train split: 0 examples [00:00, ? examples/s]"
      ]
     },
     "metadata": {},
     "output_type": "display_data"
    },
    {
     "name": "stdout",
     "output_type": "stream",
     "text": [
      "Dataset json downloaded and prepared to /Users/harm.devries/.cache/huggingface/datasets/loubnabnl___json/loubnabnl--the-stack-inspection-data-36708d02ca7fc817/0.0.0/e6070c77f18f01a5ad4551a8b7edfba20b8438b7cad4d94e6ad9378022ce4aab. Subsequent calls will reuse this data.\n"
     ]
    },
    {
     "name": "stderr",
     "output_type": "stream",
     "text": [
      "\n",
      "24it [00:00, 7301.85it/s]"
     ]
    },
    {
     "name": "stdout",
     "output_type": "stream",
     "text": [
      "224\n",
      "shell\n",
      "tool\n"
     ]
    },
    {
     "name": "stderr",
     "output_type": "stream",
     "text": [
      "\n",
      "Using custom data configuration loubnabnl--the-stack-inspection-data-82361b183eec03b5\n"
     ]
    },
    {
     "name": "stdout",
     "output_type": "stream",
     "text": [
      "Downloading and preparing dataset json/loubnabnl--the-stack-inspection-data to /Users/harm.devries/.cache/huggingface/datasets/loubnabnl___json/loubnabnl--the-stack-inspection-data-82361b183eec03b5/0.0.0/e6070c77f18f01a5ad4551a8b7edfba20b8438b7cad4d94e6ad9378022ce4aab...\n"
     ]
    },
    {
     "data": {
      "application/vnd.jupyter.widget-view+json": {
       "model_id": "34af21ea0062419f91e49f873f00639f",
       "version_major": 2,
       "version_minor": 0
      },
      "text/plain": [
       "Downloading data files:   0%|          | 0/1 [00:00<?, ?it/s]"
      ]
     },
     "metadata": {},
     "output_type": "display_data"
    },
    {
     "data": {
      "application/vnd.jupyter.widget-view+json": {
       "model_id": "3e121059879748aaad125a2ecaacd365",
       "version_major": 2,
       "version_minor": 0
      },
      "text/plain": [
       "Downloading data:   0%|          | 0.00/1.65k [00:00<?, ?B/s]"
      ]
     },
     "metadata": {},
     "output_type": "display_data"
    },
    {
     "data": {
      "application/vnd.jupyter.widget-view+json": {
       "model_id": "73ae69d666ce4b8fb499059a83f4a795",
       "version_major": 2,
       "version_minor": 0
      },
      "text/plain": [
       "Extracting data files:   0%|          | 0/1 [00:00<?, ?it/s]"
      ]
     },
     "metadata": {},
     "output_type": "display_data"
    },
    {
     "data": {
      "application/vnd.jupyter.widget-view+json": {
       "model_id": "9d8b3193c955407bbd35772ae2479186",
       "version_major": 2,
       "version_minor": 0
      },
      "text/plain": [
       "Generating train split: 0 examples [00:00, ? examples/s]"
      ]
     },
     "metadata": {},
     "output_type": "display_data"
    },
    {
     "name": "stdout",
     "output_type": "stream",
     "text": [
      "Dataset json downloaded and prepared to /Users/harm.devries/.cache/huggingface/datasets/loubnabnl___json/loubnabnl--the-stack-inspection-data-82361b183eec03b5/0.0.0/e6070c77f18f01a5ad4551a8b7edfba20b8438b7cad4d94e6ad9378022ce4aab. Subsequent calls will reuse this data.\n"
     ]
    },
    {
     "name": "stderr",
     "output_type": "stream",
     "text": [
      "\n",
      "1it [00:00, 2555.94it/s]"
     ]
    },
    {
     "name": "stdout",
     "output_type": "stream",
     "text": [
      "225\n",
      "smalltalk\n",
      "st\n"
     ]
    },
    {
     "name": "stderr",
     "output_type": "stream",
     "text": [
      "\n",
      "Using custom data configuration loubnabnl--the-stack-inspection-data-52543fbb336c31d4\n"
     ]
    },
    {
     "name": "stdout",
     "output_type": "stream",
     "text": [
      "Downloading and preparing dataset json/loubnabnl--the-stack-inspection-data to /Users/harm.devries/.cache/huggingface/datasets/loubnabnl___json/loubnabnl--the-stack-inspection-data-52543fbb336c31d4/0.0.0/e6070c77f18f01a5ad4551a8b7edfba20b8438b7cad4d94e6ad9378022ce4aab...\n"
     ]
    },
    {
     "data": {
      "application/vnd.jupyter.widget-view+json": {
       "model_id": "9de79974954b4170961f38357eed76ff",
       "version_major": 2,
       "version_minor": 0
      },
      "text/plain": [
       "Downloading data files:   0%|          | 0/1 [00:00<?, ?it/s]"
      ]
     },
     "metadata": {},
     "output_type": "display_data"
    },
    {
     "data": {
      "application/vnd.jupyter.widget-view+json": {
       "model_id": "35b07e0403e447988835fc2c48343c7f",
       "version_major": 2,
       "version_minor": 0
      },
      "text/plain": [
       "Downloading data:   0%|          | 0.00/1.84M [00:00<?, ?B/s]"
      ]
     },
     "metadata": {},
     "output_type": "display_data"
    },
    {
     "data": {
      "application/vnd.jupyter.widget-view+json": {
       "model_id": "82a929d1f33e4355b9010911e8864629",
       "version_major": 2,
       "version_minor": 0
      },
      "text/plain": [
       "Extracting data files:   0%|          | 0/1 [00:00<?, ?it/s]"
      ]
     },
     "metadata": {},
     "output_type": "display_data"
    },
    {
     "data": {
      "application/vnd.jupyter.widget-view+json": {
       "model_id": "75abd49ba47342a2ac49b9538a5010ae",
       "version_major": 2,
       "version_minor": 0
      },
      "text/plain": [
       "Generating train split: 0 examples [00:00, ? examples/s]"
      ]
     },
     "metadata": {},
     "output_type": "display_data"
    },
    {
     "name": "stdout",
     "output_type": "stream",
     "text": [
      "Dataset json downloaded and prepared to /Users/harm.devries/.cache/huggingface/datasets/loubnabnl___json/loubnabnl--the-stack-inspection-data-52543fbb336c31d4/0.0.0/e6070c77f18f01a5ad4551a8b7edfba20b8438b7cad4d94e6ad9378022ce4aab. Subsequent calls will reuse this data.\n"
     ]
    },
    {
     "name": "stderr",
     "output_type": "stream",
     "text": [
      "\n",
      "0it [00:00, ?it/s]\u001b[A\n",
      "1000it [00:00, 8531.11it/s][A"
     ]
    },
    {
     "name": "stdout",
     "output_type": "stream",
     "text": [
      "226\n",
      "solidity\n",
      "sol\n"
     ]
    },
    {
     "name": "stderr",
     "output_type": "stream",
     "text": [
      "\n",
      "Using custom data configuration loubnabnl--the-stack-inspection-data-d1b1de150b57ad00\n"
     ]
    },
    {
     "name": "stdout",
     "output_type": "stream",
     "text": [
      "Downloading and preparing dataset json/loubnabnl--the-stack-inspection-data to /Users/harm.devries/.cache/huggingface/datasets/loubnabnl___json/loubnabnl--the-stack-inspection-data-d1b1de150b57ad00/0.0.0/e6070c77f18f01a5ad4551a8b7edfba20b8438b7cad4d94e6ad9378022ce4aab...\n"
     ]
    },
    {
     "data": {
      "application/vnd.jupyter.widget-view+json": {
       "model_id": "f646acf888f548cb9e4d391c88764b4a",
       "version_major": 2,
       "version_minor": 0
      },
      "text/plain": [
       "Downloading data files:   0%|          | 0/1 [00:00<?, ?it/s]"
      ]
     },
     "metadata": {},
     "output_type": "display_data"
    },
    {
     "data": {
      "application/vnd.jupyter.widget-view+json": {
       "model_id": "d9d8a1b5162b424d97abb2f182a7e697",
       "version_major": 2,
       "version_minor": 0
      },
      "text/plain": [
       "Downloading data:   0%|          | 0.00/9.44M [00:00<?, ?B/s]"
      ]
     },
     "metadata": {},
     "output_type": "display_data"
    },
    {
     "data": {
      "application/vnd.jupyter.widget-view+json": {
       "model_id": "6eb1c4f1b43849069b7cd8885d19a4d7",
       "version_major": 2,
       "version_minor": 0
      },
      "text/plain": [
       "Extracting data files:   0%|          | 0/1 [00:00<?, ?it/s]"
      ]
     },
     "metadata": {},
     "output_type": "display_data"
    },
    {
     "data": {
      "application/vnd.jupyter.widget-view+json": {
       "model_id": "11c6417fcb85468eb02c87165ecf2759",
       "version_major": 2,
       "version_minor": 0
      },
      "text/plain": [
       "Generating train split: 0 examples [00:00, ? examples/s]"
      ]
     },
     "metadata": {},
     "output_type": "display_data"
    },
    {
     "name": "stdout",
     "output_type": "stream",
     "text": [
      "Dataset json downloaded and prepared to /Users/harm.devries/.cache/huggingface/datasets/loubnabnl___json/loubnabnl--the-stack-inspection-data-d1b1de150b57ad00/0.0.0/e6070c77f18f01a5ad4551a8b7edfba20b8438b7cad4d94e6ad9378022ce4aab. Subsequent calls will reuse this data.\n"
     ]
    },
    {
     "name": "stderr",
     "output_type": "stream",
     "text": [
      "\n",
      "0it [00:00, ?it/s]\u001b[A\n",
      "323it [00:00, 3223.78it/s]\u001b[A\n",
      "1000it [00:00, 3434.08it/s][A\n"
     ]
    },
    {
     "name": "stdout",
     "output_type": "stream",
     "text": [
      "227\n",
      "sparql\n",
      "sparql\n"
     ]
    },
    {
     "name": "stderr",
     "output_type": "stream",
     "text": [
      "Using custom data configuration loubnabnl--the-stack-inspection-data-e4ceac83ca7fec73\n"
     ]
    },
    {
     "name": "stdout",
     "output_type": "stream",
     "text": [
      "Downloading and preparing dataset json/loubnabnl--the-stack-inspection-data to /Users/harm.devries/.cache/huggingface/datasets/loubnabnl___json/loubnabnl--the-stack-inspection-data-e4ceac83ca7fec73/0.0.0/e6070c77f18f01a5ad4551a8b7edfba20b8438b7cad4d94e6ad9378022ce4aab...\n"
     ]
    },
    {
     "data": {
      "application/vnd.jupyter.widget-view+json": {
       "model_id": "88a88c46856b49ccbaba5484083d8e72",
       "version_major": 2,
       "version_minor": 0
      },
      "text/plain": [
       "Downloading data files:   0%|          | 0/1 [00:00<?, ?it/s]"
      ]
     },
     "metadata": {},
     "output_type": "display_data"
    },
    {
     "data": {
      "application/vnd.jupyter.widget-view+json": {
       "model_id": "cbd6be56df794129b08ce75cc57aa4b5",
       "version_major": 2,
       "version_minor": 0
      },
      "text/plain": [
       "Downloading data:   0%|          | 0.00/3.80M [00:00<?, ?B/s]"
      ]
     },
     "metadata": {},
     "output_type": "display_data"
    },
    {
     "data": {
      "application/vnd.jupyter.widget-view+json": {
       "model_id": "06167b2acf1042e48ae741d2c22296b2",
       "version_major": 2,
       "version_minor": 0
      },
      "text/plain": [
       "Extracting data files:   0%|          | 0/1 [00:00<?, ?it/s]"
      ]
     },
     "metadata": {},
     "output_type": "display_data"
    },
    {
     "data": {
      "application/vnd.jupyter.widget-view+json": {
       "model_id": "4662c1ac2e2d454482a90d0f80c51027",
       "version_major": 2,
       "version_minor": 0
      },
      "text/plain": [
       "Generating train split: 0 examples [00:00, ? examples/s]"
      ]
     },
     "metadata": {},
     "output_type": "display_data"
    },
    {
     "name": "stdout",
     "output_type": "stream",
     "text": [
      "Dataset json downloaded and prepared to /Users/harm.devries/.cache/huggingface/datasets/loubnabnl___json/loubnabnl--the-stack-inspection-data-e4ceac83ca7fec73/0.0.0/e6070c77f18f01a5ad4551a8b7edfba20b8438b7cad4d94e6ad9378022ce4aab. Subsequent calls will reuse this data.\n"
     ]
    },
    {
     "name": "stderr",
     "output_type": "stream",
     "text": [
      "\n",
      "0it [00:00, ?it/s]\u001b[A\n",
      "1000it [00:00, 5797.27it/s][A"
     ]
    },
    {
     "name": "stdout",
     "output_type": "stream",
     "text": [
      "228\n",
      "sparql\n",
      "rq\n"
     ]
    },
    {
     "name": "stderr",
     "output_type": "stream",
     "text": [
      "\n",
      "Using custom data configuration loubnabnl--the-stack-inspection-data-a0912b45f16d8fb2\n"
     ]
    },
    {
     "name": "stdout",
     "output_type": "stream",
     "text": [
      "Downloading and preparing dataset json/loubnabnl--the-stack-inspection-data to /Users/harm.devries/.cache/huggingface/datasets/loubnabnl___json/loubnabnl--the-stack-inspection-data-a0912b45f16d8fb2/0.0.0/e6070c77f18f01a5ad4551a8b7edfba20b8438b7cad4d94e6ad9378022ce4aab...\n"
     ]
    },
    {
     "data": {
      "application/vnd.jupyter.widget-view+json": {
       "model_id": "87e8e8744d934ad3a9a0d323f6f09729",
       "version_major": 2,
       "version_minor": 0
      },
      "text/plain": [
       "Downloading data files:   0%|          | 0/1 [00:00<?, ?it/s]"
      ]
     },
     "metadata": {},
     "output_type": "display_data"
    },
    {
     "data": {
      "application/vnd.jupyter.widget-view+json": {
       "model_id": "e3822789fd9f42bdbcef5e5a0085902b",
       "version_major": 2,
       "version_minor": 0
      },
      "text/plain": [
       "Downloading data:   0%|          | 0.00/1.22M [00:00<?, ?B/s]"
      ]
     },
     "metadata": {},
     "output_type": "display_data"
    },
    {
     "data": {
      "application/vnd.jupyter.widget-view+json": {
       "model_id": "f50c425e37ef46d7b3cbf755b6505c26",
       "version_major": 2,
       "version_minor": 0
      },
      "text/plain": [
       "Extracting data files:   0%|          | 0/1 [00:00<?, ?it/s]"
      ]
     },
     "metadata": {},
     "output_type": "display_data"
    },
    {
     "data": {
      "application/vnd.jupyter.widget-view+json": {
       "model_id": "740ef3f34e4a4e0e84ecfb49fefc65e8",
       "version_major": 2,
       "version_minor": 0
      },
      "text/plain": [
       "Generating train split: 0 examples [00:00, ? examples/s]"
      ]
     },
     "metadata": {},
     "output_type": "display_data"
    },
    {
     "name": "stdout",
     "output_type": "stream",
     "text": [
      "Dataset json downloaded and prepared to /Users/harm.devries/.cache/huggingface/datasets/loubnabnl___json/loubnabnl--the-stack-inspection-data-a0912b45f16d8fb2/0.0.0/e6070c77f18f01a5ad4551a8b7edfba20b8438b7cad4d94e6ad9378022ce4aab. Subsequent calls will reuse this data.\n"
     ]
    },
    {
     "name": "stderr",
     "output_type": "stream",
     "text": [
      "\n",
      "0it [00:00, ?it/s]\u001b[A\n",
      "1000it [00:00, 9623.25it/s][A"
     ]
    },
    {
     "name": "stdout",
     "output_type": "stream",
     "text": [
      "229\n",
      "sql\n",
      "sql\n"
     ]
    },
    {
     "name": "stderr",
     "output_type": "stream",
     "text": [
      "\n",
      "Using custom data configuration loubnabnl--the-stack-inspection-data-8e4ae43a5e6492de\n"
     ]
    },
    {
     "name": "stdout",
     "output_type": "stream",
     "text": [
      "Downloading and preparing dataset json/loubnabnl--the-stack-inspection-data to /Users/harm.devries/.cache/huggingface/datasets/loubnabnl___json/loubnabnl--the-stack-inspection-data-8e4ae43a5e6492de/0.0.0/e6070c77f18f01a5ad4551a8b7edfba20b8438b7cad4d94e6ad9378022ce4aab...\n"
     ]
    },
    {
     "data": {
      "application/vnd.jupyter.widget-view+json": {
       "model_id": "0f50eba8095343a9b68c5dd06c328a73",
       "version_major": 2,
       "version_minor": 0
      },
      "text/plain": [
       "Downloading data files:   0%|          | 0/1 [00:00<?, ?it/s]"
      ]
     },
     "metadata": {},
     "output_type": "display_data"
    },
    {
     "data": {
      "application/vnd.jupyter.widget-view+json": {
       "model_id": "740244478e5a40d28eccbd5deb246039",
       "version_major": 2,
       "version_minor": 0
      },
      "text/plain": [
       "Downloading data:   0%|          | 0.00/16.7M [00:00<?, ?B/s]"
      ]
     },
     "metadata": {},
     "output_type": "display_data"
    },
    {
     "data": {
      "application/vnd.jupyter.widget-view+json": {
       "model_id": "4ec6c3c242a54ae786f6be56c0b6aaae",
       "version_major": 2,
       "version_minor": 0
      },
      "text/plain": [
       "Extracting data files:   0%|          | 0/1 [00:00<?, ?it/s]"
      ]
     },
     "metadata": {},
     "output_type": "display_data"
    },
    {
     "data": {
      "application/vnd.jupyter.widget-view+json": {
       "model_id": "3ceba00d7f9f4053bcacbfd34059b99b",
       "version_major": 2,
       "version_minor": 0
      },
      "text/plain": [
       "Generating train split: 0 examples [00:00, ? examples/s]"
      ]
     },
     "metadata": {},
     "output_type": "display_data"
    },
    {
     "name": "stdout",
     "output_type": "stream",
     "text": [
      "Dataset json downloaded and prepared to /Users/harm.devries/.cache/huggingface/datasets/loubnabnl___json/loubnabnl--the-stack-inspection-data-8e4ae43a5e6492de/0.0.0/e6070c77f18f01a5ad4551a8b7edfba20b8438b7cad4d94e6ad9378022ce4aab. Subsequent calls will reuse this data.\n"
     ]
    },
    {
     "name": "stderr",
     "output_type": "stream",
     "text": [
      "\n",
      "0it [00:00, ?it/s]\u001b[A\n",
      "238it [00:00, 2330.72it/s]\u001b[A\n",
      "488it [00:00, 2327.48it/s]\u001b[A\n",
      "721it [00:00, 2215.54it/s]\u001b[A\n",
      "1000it [00:00, 2233.10it/s][A\n"
     ]
    },
    {
     "name": "stdout",
     "output_type": "stream",
     "text": [
      "230\n",
      "sql\n",
      "tab\n"
     ]
    },
    {
     "name": "stderr",
     "output_type": "stream",
     "text": [
      "Using custom data configuration loubnabnl--the-stack-inspection-data-d6beb766a7ffbb8f\n"
     ]
    },
    {
     "name": "stdout",
     "output_type": "stream",
     "text": [
      "Downloading and preparing dataset json/loubnabnl--the-stack-inspection-data to /Users/harm.devries/.cache/huggingface/datasets/loubnabnl___json/loubnabnl--the-stack-inspection-data-d6beb766a7ffbb8f/0.0.0/e6070c77f18f01a5ad4551a8b7edfba20b8438b7cad4d94e6ad9378022ce4aab...\n"
     ]
    },
    {
     "data": {
      "application/vnd.jupyter.widget-view+json": {
       "model_id": "8321cba091ef48c1a666e51f6897a8ac",
       "version_major": 2,
       "version_minor": 0
      },
      "text/plain": [
       "Downloading data files:   0%|          | 0/1 [00:00<?, ?it/s]"
      ]
     },
     "metadata": {},
     "output_type": "display_data"
    },
    {
     "data": {
      "application/vnd.jupyter.widget-view+json": {
       "model_id": "8b0af2ece1de4c19b8810252f49c4843",
       "version_major": 2,
       "version_minor": 0
      },
      "text/plain": [
       "Downloading data:   0%|          | 0.00/19.2M [00:00<?, ?B/s]"
      ]
     },
     "metadata": {},
     "output_type": "display_data"
    },
    {
     "data": {
      "application/vnd.jupyter.widget-view+json": {
       "model_id": "717610e80a63469293649acdb10fba71",
       "version_major": 2,
       "version_minor": 0
      },
      "text/plain": [
       "Extracting data files:   0%|          | 0/1 [00:00<?, ?it/s]"
      ]
     },
     "metadata": {},
     "output_type": "display_data"
    },
    {
     "data": {
      "application/vnd.jupyter.widget-view+json": {
       "model_id": "d8a84ac01d8845b597dec0142694e86d",
       "version_major": 2,
       "version_minor": 0
      },
      "text/plain": [
       "Generating train split: 0 examples [00:00, ? examples/s]"
      ]
     },
     "metadata": {},
     "output_type": "display_data"
    },
    {
     "name": "stdout",
     "output_type": "stream",
     "text": [
      "Dataset json downloaded and prepared to /Users/harm.devries/.cache/huggingface/datasets/loubnabnl___json/loubnabnl--the-stack-inspection-data-d6beb766a7ffbb8f/0.0.0/e6070c77f18f01a5ad4551a8b7edfba20b8438b7cad4d94e6ad9378022ce4aab. Subsequent calls will reuse this data.\n"
     ]
    },
    {
     "name": "stderr",
     "output_type": "stream",
     "text": [
      "\n",
      "0it [00:00, ?it/s]\u001b[A\n",
      "85it [00:00, 771.89it/s]\u001b[A\n",
      "163it [00:00, 693.76it/s]\u001b[A\n",
      "267it [00:00, 676.97it/s]\u001b[A\n"
     ]
    },
    {
     "name": "stdout",
     "output_type": "stream",
     "text": [
      "231\n",
      "sql\n",
      "cql\n"
     ]
    },
    {
     "name": "stderr",
     "output_type": "stream",
     "text": [
      "Using custom data configuration loubnabnl--the-stack-inspection-data-e7ea5da525f4a7b1\n"
     ]
    },
    {
     "name": "stdout",
     "output_type": "stream",
     "text": [
      "Downloading and preparing dataset json/loubnabnl--the-stack-inspection-data to /Users/harm.devries/.cache/huggingface/datasets/loubnabnl___json/loubnabnl--the-stack-inspection-data-e7ea5da525f4a7b1/0.0.0/e6070c77f18f01a5ad4551a8b7edfba20b8438b7cad4d94e6ad9378022ce4aab...\n"
     ]
    },
    {
     "data": {
      "application/vnd.jupyter.widget-view+json": {
       "model_id": "385d15fb200b46a18e8c5196f761d2ac",
       "version_major": 2,
       "version_minor": 0
      },
      "text/plain": [
       "Downloading data files:   0%|          | 0/1 [00:00<?, ?it/s]"
      ]
     },
     "metadata": {},
     "output_type": "display_data"
    },
    {
     "data": {
      "application/vnd.jupyter.widget-view+json": {
       "model_id": "82356a8fc3d54cfbaa319520805999f6",
       "version_major": 2,
       "version_minor": 0
      },
      "text/plain": [
       "Downloading data:   0%|          | 0.00/356k [00:00<?, ?B/s]"
      ]
     },
     "metadata": {},
     "output_type": "display_data"
    },
    {
     "data": {
      "application/vnd.jupyter.widget-view+json": {
       "model_id": "ca76eb7e0cb24157b8b1566c45822ea6",
       "version_major": 2,
       "version_minor": 0
      },
      "text/plain": [
       "Extracting data files:   0%|          | 0/1 [00:00<?, ?it/s]"
      ]
     },
     "metadata": {},
     "output_type": "display_data"
    },
    {
     "data": {
      "application/vnd.jupyter.widget-view+json": {
       "model_id": "e9f929771094450e8dc87e12c55e2bf7",
       "version_major": 2,
       "version_minor": 0
      },
      "text/plain": [
       "Generating train split: 0 examples [00:00, ? examples/s]"
      ]
     },
     "metadata": {},
     "output_type": "display_data"
    },
    {
     "name": "stdout",
     "output_type": "stream",
     "text": [
      "Dataset json downloaded and prepared to /Users/harm.devries/.cache/huggingface/datasets/loubnabnl___json/loubnabnl--the-stack-inspection-data-e7ea5da525f4a7b1/0.0.0/e6070c77f18f01a5ad4551a8b7edfba20b8438b7cad4d94e6ad9378022ce4aab. Subsequent calls will reuse this data.\n"
     ]
    },
    {
     "name": "stderr",
     "output_type": "stream",
     "text": [
      "\n",
      "96it [00:00, 5337.18it/s]"
     ]
    },
    {
     "name": "stdout",
     "output_type": "stream",
     "text": [
      "232\n",
      "sql\n",
      "pkb\n"
     ]
    },
    {
     "name": "stderr",
     "output_type": "stream",
     "text": [
      "\n",
      "Using custom data configuration loubnabnl--the-stack-inspection-data-164e4cb3d70b23e1\n"
     ]
    },
    {
     "name": "stdout",
     "output_type": "stream",
     "text": [
      "Downloading and preparing dataset json/loubnabnl--the-stack-inspection-data to /Users/harm.devries/.cache/huggingface/datasets/loubnabnl___json/loubnabnl--the-stack-inspection-data-164e4cb3d70b23e1/0.0.0/e6070c77f18f01a5ad4551a8b7edfba20b8438b7cad4d94e6ad9378022ce4aab...\n"
     ]
    },
    {
     "data": {
      "application/vnd.jupyter.widget-view+json": {
       "model_id": "6b515d7e41ac4d879e598888f5f83735",
       "version_major": 2,
       "version_minor": 0
      },
      "text/plain": [
       "Downloading data files:   0%|          | 0/1 [00:00<?, ?it/s]"
      ]
     },
     "metadata": {},
     "output_type": "display_data"
    },
    {
     "data": {
      "application/vnd.jupyter.widget-view+json": {
       "model_id": "1e6d333e0aa74d8fad9f372726c9c80d",
       "version_major": 2,
       "version_minor": 0
      },
      "text/plain": [
       "Downloading data:   0%|          | 0.00/278k [00:00<?, ?B/s]"
      ]
     },
     "metadata": {},
     "output_type": "display_data"
    },
    {
     "data": {
      "application/vnd.jupyter.widget-view+json": {
       "model_id": "e4eb8eb8c2674bb28994e7d6a7758c51",
       "version_major": 2,
       "version_minor": 0
      },
      "text/plain": [
       "Extracting data files:   0%|          | 0/1 [00:00<?, ?it/s]"
      ]
     },
     "metadata": {},
     "output_type": "display_data"
    },
    {
     "data": {
      "application/vnd.jupyter.widget-view+json": {
       "model_id": "e19beb868a4a429cba069519240ff674",
       "version_major": 2,
       "version_minor": 0
      },
      "text/plain": [
       "Generating train split: 0 examples [00:00, ? examples/s]"
      ]
     },
     "metadata": {},
     "output_type": "display_data"
    },
    {
     "name": "stdout",
     "output_type": "stream",
     "text": [
      "Dataset json downloaded and prepared to /Users/harm.devries/.cache/huggingface/datasets/loubnabnl___json/loubnabnl--the-stack-inspection-data-164e4cb3d70b23e1/0.0.0/e6070c77f18f01a5ad4551a8b7edfba20b8438b7cad4d94e6ad9378022ce4aab. Subsequent calls will reuse this data.\n"
     ]
    },
    {
     "name": "stderr",
     "output_type": "stream",
     "text": [
      "\n",
      "26it [00:00, 2838.05it/s]"
     ]
    },
    {
     "name": "stdout",
     "output_type": "stream",
     "text": [
      "233\n",
      "sql\n",
      "prc\n"
     ]
    },
    {
     "name": "stderr",
     "output_type": "stream",
     "text": [
      "\n",
      "Using custom data configuration loubnabnl--the-stack-inspection-data-75e214ef642d38b1\n"
     ]
    },
    {
     "name": "stdout",
     "output_type": "stream",
     "text": [
      "Downloading and preparing dataset json/loubnabnl--the-stack-inspection-data to /Users/harm.devries/.cache/huggingface/datasets/loubnabnl___json/loubnabnl--the-stack-inspection-data-75e214ef642d38b1/0.0.0/e6070c77f18f01a5ad4551a8b7edfba20b8438b7cad4d94e6ad9378022ce4aab...\n"
     ]
    },
    {
     "data": {
      "application/vnd.jupyter.widget-view+json": {
       "model_id": "dcd7d6fd60e74b0f9102d52d83c7c077",
       "version_major": 2,
       "version_minor": 0
      },
      "text/plain": [
       "Downloading data files:   0%|          | 0/1 [00:00<?, ?it/s]"
      ]
     },
     "metadata": {},
     "output_type": "display_data"
    },
    {
     "data": {
      "application/vnd.jupyter.widget-view+json": {
       "model_id": "fb5fcffc04cb479aa402804a335053de",
       "version_major": 2,
       "version_minor": 0
      },
      "text/plain": [
       "Downloading data:   0%|          | 0.00/1.97M [00:00<?, ?B/s]"
      ]
     },
     "metadata": {},
     "output_type": "display_data"
    },
    {
     "data": {
      "application/vnd.jupyter.widget-view+json": {
       "model_id": "e906df9cfaf5488cb1913a4c5a8549b6",
       "version_major": 2,
       "version_minor": 0
      },
      "text/plain": [
       "Extracting data files:   0%|          | 0/1 [00:00<?, ?it/s]"
      ]
     },
     "metadata": {},
     "output_type": "display_data"
    },
    {
     "data": {
      "application/vnd.jupyter.widget-view+json": {
       "model_id": "de2cc6100756492296dff43abdd3b1c4",
       "version_major": 2,
       "version_minor": 0
      },
      "text/plain": [
       "Generating train split: 0 examples [00:00, ? examples/s]"
      ]
     },
     "metadata": {},
     "output_type": "display_data"
    },
    {
     "name": "stdout",
     "output_type": "stream",
     "text": [
      "Dataset json downloaded and prepared to /Users/harm.devries/.cache/huggingface/datasets/loubnabnl___json/loubnabnl--the-stack-inspection-data-75e214ef642d38b1/0.0.0/e6070c77f18f01a5ad4551a8b7edfba20b8438b7cad4d94e6ad9378022ce4aab. Subsequent calls will reuse this data.\n"
     ]
    },
    {
     "name": "stderr",
     "output_type": "stream",
     "text": [
      "\n",
      "23it [00:00, 537.60it/s]"
     ]
    },
    {
     "name": "stdout",
     "output_type": "stream",
     "text": [
      "234\n",
      "sql\n",
      "pls\n"
     ]
    },
    {
     "name": "stderr",
     "output_type": "stream",
     "text": [
      "\n",
      "Using custom data configuration loubnabnl--the-stack-inspection-data-f01b648491d9effa\n"
     ]
    },
    {
     "name": "stdout",
     "output_type": "stream",
     "text": [
      "Downloading and preparing dataset json/loubnabnl--the-stack-inspection-data to /Users/harm.devries/.cache/huggingface/datasets/loubnabnl___json/loubnabnl--the-stack-inspection-data-f01b648491d9effa/0.0.0/e6070c77f18f01a5ad4551a8b7edfba20b8438b7cad4d94e6ad9378022ce4aab...\n"
     ]
    },
    {
     "data": {
      "application/vnd.jupyter.widget-view+json": {
       "model_id": "4c2c8684b4f44fffb9ec7347b5043263",
       "version_major": 2,
       "version_minor": 0
      },
      "text/plain": [
       "Downloading data files:   0%|          | 0/1 [00:00<?, ?it/s]"
      ]
     },
     "metadata": {},
     "output_type": "display_data"
    },
    {
     "data": {
      "application/vnd.jupyter.widget-view+json": {
       "model_id": "1850a130b84c47119b49e3a293271ce0",
       "version_major": 2,
       "version_minor": 0
      },
      "text/plain": [
       "Downloading data:   0%|          | 0.00/12.8k [00:00<?, ?B/s]"
      ]
     },
     "metadata": {},
     "output_type": "display_data"
    },
    {
     "data": {
      "application/vnd.jupyter.widget-view+json": {
       "model_id": "0d20c1d66382493d8f4edfffe8fe170a",
       "version_major": 2,
       "version_minor": 0
      },
      "text/plain": [
       "Extracting data files:   0%|          | 0/1 [00:00<?, ?it/s]"
      ]
     },
     "metadata": {},
     "output_type": "display_data"
    },
    {
     "data": {
      "application/vnd.jupyter.widget-view+json": {
       "model_id": "512248cdc53d47f782b00201439c0673",
       "version_major": 2,
       "version_minor": 0
      },
      "text/plain": [
       "Generating train split: 0 examples [00:00, ? examples/s]"
      ]
     },
     "metadata": {},
     "output_type": "display_data"
    },
    {
     "name": "stdout",
     "output_type": "stream",
     "text": [
      "Dataset json downloaded and prepared to /Users/harm.devries/.cache/huggingface/datasets/loubnabnl___json/loubnabnl--the-stack-inspection-data-f01b648491d9effa/0.0.0/e6070c77f18f01a5ad4551a8b7edfba20b8438b7cad4d94e6ad9378022ce4aab. Subsequent calls will reuse this data.\n"
     ]
    },
    {
     "name": "stderr",
     "output_type": "stream",
     "text": [
      "\n",
      "17it [00:00, 6637.79it/s]"
     ]
    },
    {
     "name": "stdout",
     "output_type": "stream",
     "text": [
      "235\n",
      "sql\n",
      "pks\n"
     ]
    },
    {
     "name": "stderr",
     "output_type": "stream",
     "text": [
      "\n",
      "Using custom data configuration loubnabnl--the-stack-inspection-data-1af63cfc228ae263\n"
     ]
    },
    {
     "name": "stdout",
     "output_type": "stream",
     "text": [
      "Downloading and preparing dataset json/loubnabnl--the-stack-inspection-data to /Users/harm.devries/.cache/huggingface/datasets/loubnabnl___json/loubnabnl--the-stack-inspection-data-1af63cfc228ae263/0.0.0/e6070c77f18f01a5ad4551a8b7edfba20b8438b7cad4d94e6ad9378022ce4aab...\n"
     ]
    },
    {
     "data": {
      "application/vnd.jupyter.widget-view+json": {
       "model_id": "d1ee5f86868c4a209bc428c05a31ae37",
       "version_major": 2,
       "version_minor": 0
      },
      "text/plain": [
       "Downloading data files:   0%|          | 0/1 [00:00<?, ?it/s]"
      ]
     },
     "metadata": {},
     "output_type": "display_data"
    },
    {
     "data": {
      "application/vnd.jupyter.widget-view+json": {
       "model_id": "5a0eca2de19047f8b5a8b54d4679cf44",
       "version_major": 2,
       "version_minor": 0
      },
      "text/plain": [
       "Downloading data:   0%|          | 0.00/72.7k [00:00<?, ?B/s]"
      ]
     },
     "metadata": {},
     "output_type": "display_data"
    },
    {
     "data": {
      "application/vnd.jupyter.widget-view+json": {
       "model_id": "5cf60e287dbf4454b8b529afa5b004b9",
       "version_major": 2,
       "version_minor": 0
      },
      "text/plain": [
       "Extracting data files:   0%|          | 0/1 [00:00<?, ?it/s]"
      ]
     },
     "metadata": {},
     "output_type": "display_data"
    },
    {
     "data": {
      "application/vnd.jupyter.widget-view+json": {
       "model_id": "33235eadbefd4129b1f7254a1fc06e5c",
       "version_major": 2,
       "version_minor": 0
      },
      "text/plain": [
       "Generating train split: 0 examples [00:00, ? examples/s]"
      ]
     },
     "metadata": {},
     "output_type": "display_data"
    },
    {
     "name": "stdout",
     "output_type": "stream",
     "text": [
      "Dataset json downloaded and prepared to /Users/harm.devries/.cache/huggingface/datasets/loubnabnl___json/loubnabnl--the-stack-inspection-data-1af63cfc228ae263/0.0.0/e6070c77f18f01a5ad4551a8b7edfba20b8438b7cad4d94e6ad9378022ce4aab. Subsequent calls will reuse this data.\n"
     ]
    },
    {
     "name": "stderr",
     "output_type": "stream",
     "text": [
      "\n",
      "16it [00:00, 4741.00it/s]"
     ]
    },
    {
     "name": "stdout",
     "output_type": "stream",
     "text": [
      "236\n",
      "sql\n",
      "ddl\n"
     ]
    },
    {
     "name": "stderr",
     "output_type": "stream",
     "text": [
      "\n",
      "Using custom data configuration loubnabnl--the-stack-inspection-data-ffce6363332c8f02\n"
     ]
    },
    {
     "name": "stdout",
     "output_type": "stream",
     "text": [
      "Downloading and preparing dataset json/loubnabnl--the-stack-inspection-data to /Users/harm.devries/.cache/huggingface/datasets/loubnabnl___json/loubnabnl--the-stack-inspection-data-ffce6363332c8f02/0.0.0/e6070c77f18f01a5ad4551a8b7edfba20b8438b7cad4d94e6ad9378022ce4aab...\n"
     ]
    },
    {
     "data": {
      "application/vnd.jupyter.widget-view+json": {
       "model_id": "895fdf4c9af24c0789ccb39476b99976",
       "version_major": 2,
       "version_minor": 0
      },
      "text/plain": [
       "Downloading data files:   0%|          | 0/1 [00:00<?, ?it/s]"
      ]
     },
     "metadata": {},
     "output_type": "display_data"
    },
    {
     "data": {
      "application/vnd.jupyter.widget-view+json": {
       "model_id": "3608e8d9b783405f97920e2019612213",
       "version_major": 2,
       "version_minor": 0
      },
      "text/plain": [
       "Downloading data:   0%|          | 0.00/193k [00:00<?, ?B/s]"
      ]
     },
     "metadata": {},
     "output_type": "display_data"
    },
    {
     "data": {
      "application/vnd.jupyter.widget-view+json": {
       "model_id": "9f0f6719b02246ad83dd89aff1040bfa",
       "version_major": 2,
       "version_minor": 0
      },
      "text/plain": [
       "Extracting data files:   0%|          | 0/1 [00:00<?, ?it/s]"
      ]
     },
     "metadata": {},
     "output_type": "display_data"
    },
    {
     "data": {
      "application/vnd.jupyter.widget-view+json": {
       "model_id": "7ebae0caee784d55b0f538164a149d58",
       "version_major": 2,
       "version_minor": 0
      },
      "text/plain": [
       "Generating train split: 0 examples [00:00, ? examples/s]"
      ]
     },
     "metadata": {},
     "output_type": "display_data"
    },
    {
     "name": "stdout",
     "output_type": "stream",
     "text": [
      "Dataset json downloaded and prepared to /Users/harm.devries/.cache/huggingface/datasets/loubnabnl___json/loubnabnl--the-stack-inspection-data-ffce6363332c8f02/0.0.0/e6070c77f18f01a5ad4551a8b7edfba20b8438b7cad4d94e6ad9378022ce4aab. Subsequent calls will reuse this data.\n"
     ]
    },
    {
     "name": "stderr",
     "output_type": "stream",
     "text": [
      "\n",
      "75it [00:00, 5685.70it/s]"
     ]
    },
    {
     "name": "stdout",
     "output_type": "stream",
     "text": [
      "237\n",
      "sql\n",
      "pck\n"
     ]
    },
    {
     "name": "stderr",
     "output_type": "stream",
     "text": [
      "\n",
      "Using custom data configuration loubnabnl--the-stack-inspection-data-c71ae3204f28a8b0\n"
     ]
    },
    {
     "name": "stdout",
     "output_type": "stream",
     "text": [
      "Downloading and preparing dataset json/loubnabnl--the-stack-inspection-data to /Users/harm.devries/.cache/huggingface/datasets/loubnabnl___json/loubnabnl--the-stack-inspection-data-c71ae3204f28a8b0/0.0.0/e6070c77f18f01a5ad4551a8b7edfba20b8438b7cad4d94e6ad9378022ce4aab...\n"
     ]
    },
    {
     "data": {
      "application/vnd.jupyter.widget-view+json": {
       "model_id": "20242afc434d4e29b730499ad3bd78f4",
       "version_major": 2,
       "version_minor": 0
      },
      "text/plain": [
       "Downloading data files:   0%|          | 0/1 [00:00<?, ?it/s]"
      ]
     },
     "metadata": {},
     "output_type": "display_data"
    },
    {
     "data": {
      "application/vnd.jupyter.widget-view+json": {
       "model_id": "82af54479bd04e5e96bf8f3e1ed5e1cf",
       "version_major": 2,
       "version_minor": 0
      },
      "text/plain": [
       "Downloading data:   0%|          | 0.00/121k [00:00<?, ?B/s]"
      ]
     },
     "metadata": {},
     "output_type": "display_data"
    },
    {
     "data": {
      "application/vnd.jupyter.widget-view+json": {
       "model_id": "798768e4ad96472eae2a3cc219009d6d",
       "version_major": 2,
       "version_minor": 0
      },
      "text/plain": [
       "Extracting data files:   0%|          | 0/1 [00:00<?, ?it/s]"
      ]
     },
     "metadata": {},
     "output_type": "display_data"
    },
    {
     "data": {
      "application/vnd.jupyter.widget-view+json": {
       "model_id": "1ea3cb1cad714e10a7b4db8ebecec9c3",
       "version_major": 2,
       "version_minor": 0
      },
      "text/plain": [
       "Generating train split: 0 examples [00:00, ? examples/s]"
      ]
     },
     "metadata": {},
     "output_type": "display_data"
    },
    {
     "name": "stdout",
     "output_type": "stream",
     "text": [
      "Dataset json downloaded and prepared to /Users/harm.devries/.cache/huggingface/datasets/loubnabnl___json/loubnabnl--the-stack-inspection-data-c71ae3204f28a8b0/0.0.0/e6070c77f18f01a5ad4551a8b7edfba20b8438b7cad4d94e6ad9378022ce4aab. Subsequent calls will reuse this data.\n"
     ]
    },
    {
     "name": "stderr",
     "output_type": "stream",
     "text": [
      "\n",
      "9it [00:00, 1919.30it/s]"
     ]
    },
    {
     "name": "stdout",
     "output_type": "stream",
     "text": [
      "238\n",
      "sql\n",
      "plsql\n"
     ]
    },
    {
     "name": "stderr",
     "output_type": "stream",
     "text": [
      "\n",
      "Using custom data configuration loubnabnl--the-stack-inspection-data-fbb1358b5e000c17\n"
     ]
    },
    {
     "name": "stdout",
     "output_type": "stream",
     "text": [
      "Downloading and preparing dataset json/loubnabnl--the-stack-inspection-data to /Users/harm.devries/.cache/huggingface/datasets/loubnabnl___json/loubnabnl--the-stack-inspection-data-fbb1358b5e000c17/0.0.0/e6070c77f18f01a5ad4551a8b7edfba20b8438b7cad4d94e6ad9378022ce4aab...\n"
     ]
    },
    {
     "data": {
      "application/vnd.jupyter.widget-view+json": {
       "model_id": "cb099266349a49989cd562f513eee707",
       "version_major": 2,
       "version_minor": 0
      },
      "text/plain": [
       "Downloading data files:   0%|          | 0/1 [00:00<?, ?it/s]"
      ]
     },
     "metadata": {},
     "output_type": "display_data"
    },
    {
     "data": {
      "application/vnd.jupyter.widget-view+json": {
       "model_id": "49c61c147cd74f0a906966ef69ce13ad",
       "version_major": 2,
       "version_minor": 0
      },
      "text/plain": [
       "Downloading data:   0%|          | 0.00/47.8k [00:00<?, ?B/s]"
      ]
     },
     "metadata": {},
     "output_type": "display_data"
    },
    {
     "data": {
      "application/vnd.jupyter.widget-view+json": {
       "model_id": "35a5e1008680421da7b607c3761b0367",
       "version_major": 2,
       "version_minor": 0
      },
      "text/plain": [
       "Extracting data files:   0%|          | 0/1 [00:00<?, ?it/s]"
      ]
     },
     "metadata": {},
     "output_type": "display_data"
    },
    {
     "data": {
      "application/vnd.jupyter.widget-view+json": {
       "model_id": "f272852126314eec9cac1f593fe7eb75",
       "version_major": 2,
       "version_minor": 0
      },
      "text/plain": [
       "Generating train split: 0 examples [00:00, ? examples/s]"
      ]
     },
     "metadata": {},
     "output_type": "display_data"
    },
    {
     "name": "stdout",
     "output_type": "stream",
     "text": [
      "Dataset json downloaded and prepared to /Users/harm.devries/.cache/huggingface/datasets/loubnabnl___json/loubnabnl--the-stack-inspection-data-fbb1358b5e000c17/0.0.0/e6070c77f18f01a5ad4551a8b7edfba20b8438b7cad4d94e6ad9378022ce4aab. Subsequent calls will reuse this data.\n"
     ]
    },
    {
     "name": "stderr",
     "output_type": "stream",
     "text": [
      "\n",
      "7it [00:00, 3066.33it/s]"
     ]
    },
    {
     "name": "stdout",
     "output_type": "stream",
     "text": [
      "239\n",
      "sql\n",
      "db2\n"
     ]
    },
    {
     "name": "stderr",
     "output_type": "stream",
     "text": [
      "\n",
      "Using custom data configuration loubnabnl--the-stack-inspection-data-9d9a41df0f6cfd20\n"
     ]
    },
    {
     "name": "stdout",
     "output_type": "stream",
     "text": [
      "Downloading and preparing dataset json/loubnabnl--the-stack-inspection-data to /Users/harm.devries/.cache/huggingface/datasets/loubnabnl___json/loubnabnl--the-stack-inspection-data-9d9a41df0f6cfd20/0.0.0/e6070c77f18f01a5ad4551a8b7edfba20b8438b7cad4d94e6ad9378022ce4aab...\n"
     ]
    },
    {
     "data": {
      "application/vnd.jupyter.widget-view+json": {
       "model_id": "e48a072b9abb4c578d55f68e54e4591c",
       "version_major": 2,
       "version_minor": 0
      },
      "text/plain": [
       "Downloading data files:   0%|          | 0/1 [00:00<?, ?it/s]"
      ]
     },
     "metadata": {},
     "output_type": "display_data"
    },
    {
     "data": {
      "application/vnd.jupyter.widget-view+json": {
       "model_id": "d70b0938b1f14b55a2432b53a68d7051",
       "version_major": 2,
       "version_minor": 0
      },
      "text/plain": [
       "Downloading data:   0%|          | 0.00/25.0k [00:00<?, ?B/s]"
      ]
     },
     "metadata": {},
     "output_type": "display_data"
    },
    {
     "data": {
      "application/vnd.jupyter.widget-view+json": {
       "model_id": "7c72eaeb7c334c8d9ca7d0cbc171f91a",
       "version_major": 2,
       "version_minor": 0
      },
      "text/plain": [
       "Extracting data files:   0%|          | 0/1 [00:00<?, ?it/s]"
      ]
     },
     "metadata": {},
     "output_type": "display_data"
    },
    {
     "data": {
      "application/vnd.jupyter.widget-view+json": {
       "model_id": "1ad4b1fdd4844e4cafa790f18085af8e",
       "version_major": 2,
       "version_minor": 0
      },
      "text/plain": [
       "Generating train split: 0 examples [00:00, ? examples/s]"
      ]
     },
     "metadata": {},
     "output_type": "display_data"
    },
    {
     "name": "stdout",
     "output_type": "stream",
     "text": [
      "Dataset json downloaded and prepared to /Users/harm.devries/.cache/huggingface/datasets/loubnabnl___json/loubnabnl--the-stack-inspection-data-9d9a41df0f6cfd20/0.0.0/e6070c77f18f01a5ad4551a8b7edfba20b8438b7cad4d94e6ad9378022ce4aab. Subsequent calls will reuse this data.\n"
     ]
    },
    {
     "name": "stderr",
     "output_type": "stream",
     "text": [
      "\n",
      "4it [00:00, 2599.10it/s]"
     ]
    },
    {
     "name": "stdout",
     "output_type": "stream",
     "text": [
      "240\n",
      "sql\n",
      "udf\n"
     ]
    },
    {
     "name": "stderr",
     "output_type": "stream",
     "text": [
      "\n",
      "Using custom data configuration loubnabnl--the-stack-inspection-data-62efaad089e398db\n"
     ]
    },
    {
     "name": "stdout",
     "output_type": "stream",
     "text": [
      "Downloading and preparing dataset json/loubnabnl--the-stack-inspection-data to /Users/harm.devries/.cache/huggingface/datasets/loubnabnl___json/loubnabnl--the-stack-inspection-data-62efaad089e398db/0.0.0/e6070c77f18f01a5ad4551a8b7edfba20b8438b7cad4d94e6ad9378022ce4aab...\n"
     ]
    },
    {
     "data": {
      "application/vnd.jupyter.widget-view+json": {
       "model_id": "317b780ffd45453f943095772b8f8dc0",
       "version_major": 2,
       "version_minor": 0
      },
      "text/plain": [
       "Downloading data files:   0%|          | 0/1 [00:00<?, ?it/s]"
      ]
     },
     "metadata": {},
     "output_type": "display_data"
    },
    {
     "data": {
      "application/vnd.jupyter.widget-view+json": {
       "model_id": "ed36fc6d1eac425fb1e083d1d87d6acb",
       "version_major": 2,
       "version_minor": 0
      },
      "text/plain": [
       "Downloading data:   0%|          | 0.00/14.5k [00:00<?, ?B/s]"
      ]
     },
     "metadata": {},
     "output_type": "display_data"
    },
    {
     "data": {
      "application/vnd.jupyter.widget-view+json": {
       "model_id": "74d62ab59ba64dd7bcaf37bd86844cfb",
       "version_major": 2,
       "version_minor": 0
      },
      "text/plain": [
       "Extracting data files:   0%|          | 0/1 [00:00<?, ?it/s]"
      ]
     },
     "metadata": {},
     "output_type": "display_data"
    },
    {
     "data": {
      "application/vnd.jupyter.widget-view+json": {
       "model_id": "7d10905b16ff47edb4a96aa735e668ce",
       "version_major": 2,
       "version_minor": 0
      },
      "text/plain": [
       "Generating train split: 0 examples [00:00, ? examples/s]"
      ]
     },
     "metadata": {},
     "output_type": "display_data"
    },
    {
     "name": "stdout",
     "output_type": "stream",
     "text": [
      "Dataset json downloaded and prepared to /Users/harm.devries/.cache/huggingface/datasets/loubnabnl___json/loubnabnl--the-stack-inspection-data-62efaad089e398db/0.0.0/e6070c77f18f01a5ad4551a8b7edfba20b8438b7cad4d94e6ad9378022ce4aab. Subsequent calls will reuse this data.\n"
     ]
    },
    {
     "name": "stderr",
     "output_type": "stream",
     "text": [
      "\n",
      "7it [00:00, 6009.03it/s]"
     ]
    },
    {
     "name": "stdout",
     "output_type": "stream",
     "text": [
      "241\n",
      "sql\n",
      "plb\n"
     ]
    },
    {
     "name": "stderr",
     "output_type": "stream",
     "text": [
      "\n",
      "Using custom data configuration loubnabnl--the-stack-inspection-data-bbfcec5a5d0d3ff5\n"
     ]
    },
    {
     "name": "stdout",
     "output_type": "stream",
     "text": [
      "Downloading and preparing dataset json/loubnabnl--the-stack-inspection-data to /Users/harm.devries/.cache/huggingface/datasets/loubnabnl___json/loubnabnl--the-stack-inspection-data-bbfcec5a5d0d3ff5/0.0.0/e6070c77f18f01a5ad4551a8b7edfba20b8438b7cad4d94e6ad9378022ce4aab...\n"
     ]
    },
    {
     "data": {
      "application/vnd.jupyter.widget-view+json": {
       "model_id": "342483eb6eb64023a67fea0bda7ce42a",
       "version_major": 2,
       "version_minor": 0
      },
      "text/plain": [
       "Downloading data files:   0%|          | 0/1 [00:00<?, ?it/s]"
      ]
     },
     "metadata": {},
     "output_type": "display_data"
    },
    {
     "data": {
      "application/vnd.jupyter.widget-view+json": {
       "model_id": "91f03d6ba4c048f1956d664be1c0c7b1",
       "version_major": 2,
       "version_minor": 0
      },
      "text/plain": [
       "Downloading data:   0%|          | 0.00/11.4k [00:00<?, ?B/s]"
      ]
     },
     "metadata": {},
     "output_type": "display_data"
    },
    {
     "data": {
      "application/vnd.jupyter.widget-view+json": {
       "model_id": "da9eb0e3f84446a8a463334bd1311c5a",
       "version_major": 2,
       "version_minor": 0
      },
      "text/plain": [
       "Extracting data files:   0%|          | 0/1 [00:00<?, ?it/s]"
      ]
     },
     "metadata": {},
     "output_type": "display_data"
    },
    {
     "data": {
      "application/vnd.jupyter.widget-view+json": {
       "model_id": "2544dcfd53924f8993b18b8d38fd72e7",
       "version_major": 2,
       "version_minor": 0
      },
      "text/plain": [
       "Generating train split: 0 examples [00:00, ? examples/s]"
      ]
     },
     "metadata": {},
     "output_type": "display_data"
    },
    {
     "name": "stdout",
     "output_type": "stream",
     "text": [
      "Dataset json downloaded and prepared to /Users/harm.devries/.cache/huggingface/datasets/loubnabnl___json/loubnabnl--the-stack-inspection-data-bbfcec5a5d0d3ff5/0.0.0/e6070c77f18f01a5ad4551a8b7edfba20b8438b7cad4d94e6ad9378022ce4aab. Subsequent calls will reuse this data.\n"
     ]
    },
    {
     "name": "stderr",
     "output_type": "stream",
     "text": [
      "\n",
      "1it [00:00, 1123.27it/s]"
     ]
    },
    {
     "name": "stdout",
     "output_type": "stream",
     "text": [
      "242\n",
      "stan\n",
      "stan\n"
     ]
    },
    {
     "name": "stderr",
     "output_type": "stream",
     "text": [
      "\n",
      "Using custom data configuration loubnabnl--the-stack-inspection-data-df5d38a479f68f47\n",
      "Found cached dataset json (/Users/harm.devries/.cache/huggingface/datasets/loubnabnl___json/loubnabnl--the-stack-inspection-data-df5d38a479f68f47/0.0.0/e6070c77f18f01a5ad4551a8b7edfba20b8438b7cad4d94e6ad9378022ce4aab)\n",
      "1000it [00:00, 1683.38it/s]\n"
     ]
    },
    {
     "name": "stdout",
     "output_type": "stream",
     "text": [
      "243\n",
      "standard-ml\n",
      "sig\n"
     ]
    },
    {
     "name": "stderr",
     "output_type": "stream",
     "text": [
      "Using custom data configuration loubnabnl--the-stack-inspection-data-e5665f2063c0309e\n"
     ]
    },
    {
     "name": "stdout",
     "output_type": "stream",
     "text": [
      "Downloading and preparing dataset json/loubnabnl--the-stack-inspection-data to /Users/harm.devries/.cache/huggingface/datasets/loubnabnl___json/loubnabnl--the-stack-inspection-data-e5665f2063c0309e/0.0.0/e6070c77f18f01a5ad4551a8b7edfba20b8438b7cad4d94e6ad9378022ce4aab...\n"
     ]
    },
    {
     "data": {
      "application/vnd.jupyter.widget-view+json": {
       "model_id": "ee953388e805453185718840cfc4aa53",
       "version_major": 2,
       "version_minor": 0
      },
      "text/plain": [
       "Downloading data files:   0%|          | 0/1 [00:00<?, ?it/s]"
      ]
     },
     "metadata": {},
     "output_type": "display_data"
    },
    {
     "data": {
      "application/vnd.jupyter.widget-view+json": {
       "model_id": "ccc8256be9264877b11bf0a8bec42b51",
       "version_major": 2,
       "version_minor": 0
      },
      "text/plain": [
       "Downloading data:   0%|          | 0.00/15.6M [00:00<?, ?B/s]"
      ]
     },
     "metadata": {},
     "output_type": "display_data"
    },
    {
     "data": {
      "application/vnd.jupyter.widget-view+json": {
       "model_id": "f0f4532b9c6f4094a427396aece82e66",
       "version_major": 2,
       "version_minor": 0
      },
      "text/plain": [
       "Extracting data files:   0%|          | 0/1 [00:00<?, ?it/s]"
      ]
     },
     "metadata": {},
     "output_type": "display_data"
    },
    {
     "data": {
      "application/vnd.jupyter.widget-view+json": {
       "model_id": "b5c6c4660c4c40918f2ad71d69940b09",
       "version_major": 2,
       "version_minor": 0
      },
      "text/plain": [
       "Generating train split: 0 examples [00:00, ? examples/s]"
      ]
     },
     "metadata": {},
     "output_type": "display_data"
    },
    {
     "name": "stdout",
     "output_type": "stream",
     "text": [
      "Dataset json downloaded and prepared to /Users/harm.devries/.cache/huggingface/datasets/loubnabnl___json/loubnabnl--the-stack-inspection-data-e5665f2063c0309e/0.0.0/e6070c77f18f01a5ad4551a8b7edfba20b8438b7cad4d94e6ad9378022ce4aab. Subsequent calls will reuse this data.\n"
     ]
    },
    {
     "name": "stderr",
     "output_type": "stream",
     "text": [
      "1000it [00:00, 2404.34it/s]\n"
     ]
    },
    {
     "name": "stdout",
     "output_type": "stream",
     "text": [
      "244\n",
      "standard-ml\n",
      "fun\n"
     ]
    },
    {
     "name": "stderr",
     "output_type": "stream",
     "text": [
      "Using custom data configuration loubnabnl--the-stack-inspection-data-a532dccacc7b21fc\n"
     ]
    },
    {
     "name": "stdout",
     "output_type": "stream",
     "text": [
      "Downloading and preparing dataset json/loubnabnl--the-stack-inspection-data to /Users/harm.devries/.cache/huggingface/datasets/loubnabnl___json/loubnabnl--the-stack-inspection-data-a532dccacc7b21fc/0.0.0/e6070c77f18f01a5ad4551a8b7edfba20b8438b7cad4d94e6ad9378022ce4aab...\n"
     ]
    },
    {
     "data": {
      "application/vnd.jupyter.widget-view+json": {
       "model_id": "a0926ca8582c4d0093194e15964456b4",
       "version_major": 2,
       "version_minor": 0
      },
      "text/plain": [
       "Downloading data files:   0%|          | 0/1 [00:00<?, ?it/s]"
      ]
     },
     "metadata": {},
     "output_type": "display_data"
    },
    {
     "data": {
      "application/vnd.jupyter.widget-view+json": {
       "model_id": "b95072b669e047ac876a54395878e6fb",
       "version_major": 2,
       "version_minor": 0
      },
      "text/plain": [
       "Downloading data:   0%|          | 0.00/10.7M [00:00<?, ?B/s]"
      ]
     },
     "metadata": {},
     "output_type": "display_data"
    },
    {
     "data": {
      "application/vnd.jupyter.widget-view+json": {
       "model_id": "e91192a5f0a34c069743e33749ba3966",
       "version_major": 2,
       "version_minor": 0
      },
      "text/plain": [
       "Extracting data files:   0%|          | 0/1 [00:00<?, ?it/s]"
      ]
     },
     "metadata": {},
     "output_type": "display_data"
    },
    {
     "data": {
      "application/vnd.jupyter.widget-view+json": {
       "model_id": "562ed6cb9f9841d490d3df236ed6f821",
       "version_major": 2,
       "version_minor": 0
      },
      "text/plain": [
       "Generating train split: 0 examples [00:00, ? examples/s]"
      ]
     },
     "metadata": {},
     "output_type": "display_data"
    },
    {
     "name": "stdout",
     "output_type": "stream",
     "text": [
      "Dataset json downloaded and prepared to /Users/harm.devries/.cache/huggingface/datasets/loubnabnl___json/loubnabnl--the-stack-inspection-data-a532dccacc7b21fc/0.0.0/e6070c77f18f01a5ad4551a8b7edfba20b8438b7cad4d94e6ad9378022ce4aab. Subsequent calls will reuse this data.\n"
     ]
    },
    {
     "name": "stderr",
     "output_type": "stream",
     "text": [
      "\n",
      "0it [00:00, ?it/s]\u001b[A\n",
      "323it [00:00, 3219.54it/s]\u001b[A\n",
      "645it [00:00, 3049.19it/s]\u001b[A\n",
      "958it [00:00, 3055.78it/s]\u001b[A\n"
     ]
    },
    {
     "name": "stdout",
     "output_type": "stream",
     "text": [
      "245\n",
      "standard-ml\n",
      "sml\n"
     ]
    },
    {
     "name": "stderr",
     "output_type": "stream",
     "text": [
      "Using custom data configuration loubnabnl--the-stack-inspection-data-11ecc9e8ffeb857b\n"
     ]
    },
    {
     "name": "stdout",
     "output_type": "stream",
     "text": [
      "Downloading and preparing dataset json/loubnabnl--the-stack-inspection-data to /Users/harm.devries/.cache/huggingface/datasets/loubnabnl___json/loubnabnl--the-stack-inspection-data-11ecc9e8ffeb857b/0.0.0/e6070c77f18f01a5ad4551a8b7edfba20b8438b7cad4d94e6ad9378022ce4aab...\n"
     ]
    },
    {
     "data": {
      "application/vnd.jupyter.widget-view+json": {
       "model_id": "33486abe2ccd41f7ab807049142f039a",
       "version_major": 2,
       "version_minor": 0
      },
      "text/plain": [
       "Downloading data files:   0%|          | 0/1 [00:00<?, ?it/s]"
      ]
     },
     "metadata": {},
     "output_type": "display_data"
    },
    {
     "data": {
      "application/vnd.jupyter.widget-view+json": {
       "model_id": "0a71d9cbcfe14d139d41c571feebc52a",
       "version_major": 2,
       "version_minor": 0
      },
      "text/plain": [
       "Downloading data:   0%|          | 0.00/18.1M [00:00<?, ?B/s]"
      ]
     },
     "metadata": {},
     "output_type": "display_data"
    },
    {
     "data": {
      "application/vnd.jupyter.widget-view+json": {
       "model_id": "404f22ace37a4a9c88733fe4eb16614e",
       "version_major": 2,
       "version_minor": 0
      },
      "text/plain": [
       "Extracting data files:   0%|          | 0/1 [00:00<?, ?it/s]"
      ]
     },
     "metadata": {},
     "output_type": "display_data"
    },
    {
     "data": {
      "application/vnd.jupyter.widget-view+json": {
       "model_id": "3048606afe2d4a2ab054ba259d0dd2d8",
       "version_major": 2,
       "version_minor": 0
      },
      "text/plain": [
       "Generating train split: 0 examples [00:00, ? examples/s]"
      ]
     },
     "metadata": {},
     "output_type": "display_data"
    },
    {
     "name": "stdout",
     "output_type": "stream",
     "text": [
      "Dataset json downloaded and prepared to /Users/harm.devries/.cache/huggingface/datasets/loubnabnl___json/loubnabnl--the-stack-inspection-data-11ecc9e8ffeb857b/0.0.0/e6070c77f18f01a5ad4551a8b7edfba20b8438b7cad4d94e6ad9378022ce4aab. Subsequent calls will reuse this data.\n"
     ]
    },
    {
     "name": "stderr",
     "output_type": "stream",
     "text": [
      "\n",
      "0it [00:00, ?it/s]\u001b[A\n",
      "185it [00:00, 1830.71it/s]\u001b[A\n",
      "369it [00:00, 1626.23it/s]\u001b[A\n",
      "552it [00:00, 1710.55it/s]\u001b[A\n",
      "1000it [00:00, 1919.67it/s][A\n"
     ]
    },
    {
     "name": "stdout",
     "output_type": "stream",
     "text": [
      "246\n",
      "stata\n",
      "do\n"
     ]
    },
    {
     "name": "stderr",
     "output_type": "stream",
     "text": [
      "Using custom data configuration loubnabnl--the-stack-inspection-data-197e72703fc6246c\n"
     ]
    },
    {
     "name": "stdout",
     "output_type": "stream",
     "text": [
      "Downloading and preparing dataset json/loubnabnl--the-stack-inspection-data to /Users/harm.devries/.cache/huggingface/datasets/loubnabnl___json/loubnabnl--the-stack-inspection-data-197e72703fc6246c/0.0.0/e6070c77f18f01a5ad4551a8b7edfba20b8438b7cad4d94e6ad9378022ce4aab...\n"
     ]
    },
    {
     "data": {
      "application/vnd.jupyter.widget-view+json": {
       "model_id": "86c2dea916824cd4a2c7eb065b314fec",
       "version_major": 2,
       "version_minor": 0
      },
      "text/plain": [
       "Downloading data files:   0%|          | 0/1 [00:00<?, ?it/s]"
      ]
     },
     "metadata": {},
     "output_type": "display_data"
    },
    {
     "data": {
      "application/vnd.jupyter.widget-view+json": {
       "model_id": "d6d730bf1ba9483c9260eb6b795883b5",
       "version_major": 2,
       "version_minor": 0
      },
      "text/plain": [
       "Downloading data:   0%|          | 0.00/7.86M [00:00<?, ?B/s]"
      ]
     },
     "metadata": {},
     "output_type": "display_data"
    },
    {
     "data": {
      "application/vnd.jupyter.widget-view+json": {
       "model_id": "3b7c4ebcc29a4099a1db6440b404ccc1",
       "version_major": 2,
       "version_minor": 0
      },
      "text/plain": [
       "Extracting data files:   0%|          | 0/1 [00:00<?, ?it/s]"
      ]
     },
     "metadata": {},
     "output_type": "display_data"
    },
    {
     "data": {
      "application/vnd.jupyter.widget-view+json": {
       "model_id": "e1a9dbe3f0454066ba494b3a35b20e64",
       "version_major": 2,
       "version_minor": 0
      },
      "text/plain": [
       "Generating train split: 0 examples [00:00, ? examples/s]"
      ]
     },
     "metadata": {},
     "output_type": "display_data"
    },
    {
     "name": "stdout",
     "output_type": "stream",
     "text": [
      "Dataset json downloaded and prepared to /Users/harm.devries/.cache/huggingface/datasets/loubnabnl___json/loubnabnl--the-stack-inspection-data-197e72703fc6246c/0.0.0/e6070c77f18f01a5ad4551a8b7edfba20b8438b7cad4d94e6ad9378022ce4aab. Subsequent calls will reuse this data.\n"
     ]
    },
    {
     "name": "stderr",
     "output_type": "stream",
     "text": [
      "\n",
      "0it [00:00, ?it/s]\u001b[A\n",
      "414it [00:00, 4127.33it/s]\u001b[A\n",
      "1000it [00:00, 3743.75it/s][A\n"
     ]
    },
    {
     "name": "stdout",
     "output_type": "stream",
     "text": [
      "247\n",
      "stata\n",
      "ado\n"
     ]
    },
    {
     "name": "stderr",
     "output_type": "stream",
     "text": [
      "Using custom data configuration loubnabnl--the-stack-inspection-data-93b045db03565e99\n"
     ]
    },
    {
     "name": "stdout",
     "output_type": "stream",
     "text": [
      "Downloading and preparing dataset json/loubnabnl--the-stack-inspection-data to /Users/harm.devries/.cache/huggingface/datasets/loubnabnl___json/loubnabnl--the-stack-inspection-data-93b045db03565e99/0.0.0/e6070c77f18f01a5ad4551a8b7edfba20b8438b7cad4d94e6ad9378022ce4aab...\n"
     ]
    },
    {
     "data": {
      "application/vnd.jupyter.widget-view+json": {
       "model_id": "7687929862974587bd80d560fef1220d",
       "version_major": 2,
       "version_minor": 0
      },
      "text/plain": [
       "Downloading data files:   0%|          | 0/1 [00:00<?, ?it/s]"
      ]
     },
     "metadata": {},
     "output_type": "display_data"
    },
    {
     "data": {
      "application/vnd.jupyter.widget-view+json": {
       "model_id": "4df5c7ebb9f543d0a0ab7f41eaa5aaac",
       "version_major": 2,
       "version_minor": 0
      },
      "text/plain": [
       "Downloading data:   0%|          | 0.00/26.2M [00:00<?, ?B/s]"
      ]
     },
     "metadata": {},
     "output_type": "display_data"
    },
    {
     "data": {
      "application/vnd.jupyter.widget-view+json": {
       "model_id": "3d19cb618c0c4e278da393e67af270e6",
       "version_major": 2,
       "version_minor": 0
      },
      "text/plain": [
       "Extracting data files:   0%|          | 0/1 [00:00<?, ?it/s]"
      ]
     },
     "metadata": {},
     "output_type": "display_data"
    },
    {
     "data": {
      "application/vnd.jupyter.widget-view+json": {
       "model_id": "6e74c0c9be104cd686cfb47e7284c1e4",
       "version_major": 2,
       "version_minor": 0
      },
      "text/plain": [
       "Generating train split: 0 examples [00:00, ? examples/s]"
      ]
     },
     "metadata": {},
     "output_type": "display_data"
    },
    {
     "name": "stdout",
     "output_type": "stream",
     "text": [
      "Dataset json downloaded and prepared to /Users/harm.devries/.cache/huggingface/datasets/loubnabnl___json/loubnabnl--the-stack-inspection-data-93b045db03565e99/0.0.0/e6070c77f18f01a5ad4551a8b7edfba20b8438b7cad4d94e6ad9378022ce4aab. Subsequent calls will reuse this data.\n"
     ]
    },
    {
     "name": "stderr",
     "output_type": "stream",
     "text": [
      "\n",
      "0it [00:00, ?it/s]\u001b[A\n",
      "226it [00:00, 2257.52it/s]\u001b[A\n",
      "463it [00:00, 2308.64it/s]\u001b[A\n",
      "694it [00:00, 1642.28it/s]\u001b[A\n",
      "1000it [00:00, 1696.59it/s][A\n"
     ]
    },
    {
     "name": "stdout",
     "output_type": "stream",
     "text": [
      "248\n",
      "stata\n",
      "sthlp\n"
     ]
    },
    {
     "name": "stderr",
     "output_type": "stream",
     "text": [
      "Using custom data configuration loubnabnl--the-stack-inspection-data-fe6c7f1bf027a9dc\n"
     ]
    },
    {
     "name": "stdout",
     "output_type": "stream",
     "text": [
      "Downloading and preparing dataset json/loubnabnl--the-stack-inspection-data to /Users/harm.devries/.cache/huggingface/datasets/loubnabnl___json/loubnabnl--the-stack-inspection-data-fe6c7f1bf027a9dc/0.0.0/e6070c77f18f01a5ad4551a8b7edfba20b8438b7cad4d94e6ad9378022ce4aab...\n"
     ]
    },
    {
     "data": {
      "application/vnd.jupyter.widget-view+json": {
       "model_id": "33a3dd2672ff4462ab08b364005b8d1f",
       "version_major": 2,
       "version_minor": 0
      },
      "text/plain": [
       "Downloading data files:   0%|          | 0/1 [00:00<?, ?it/s]"
      ]
     },
     "metadata": {},
     "output_type": "display_data"
    },
    {
     "data": {
      "application/vnd.jupyter.widget-view+json": {
       "model_id": "a4aecf8584c943acadabfc46dcf6a9ce",
       "version_major": 2,
       "version_minor": 0
      },
      "text/plain": [
       "Downloading data:   0%|          | 0.00/8.74M [00:00<?, ?B/s]"
      ]
     },
     "metadata": {},
     "output_type": "display_data"
    },
    {
     "data": {
      "application/vnd.jupyter.widget-view+json": {
       "model_id": "f36bdd97887c400ba1f3cc64f8864576",
       "version_major": 2,
       "version_minor": 0
      },
      "text/plain": [
       "Extracting data files:   0%|          | 0/1 [00:00<?, ?it/s]"
      ]
     },
     "metadata": {},
     "output_type": "display_data"
    },
    {
     "data": {
      "application/vnd.jupyter.widget-view+json": {
       "model_id": "ce3e53352d6e4cd996b102a23e0e9440",
       "version_major": 2,
       "version_minor": 0
      },
      "text/plain": [
       "Generating train split: 0 examples [00:00, ? examples/s]"
      ]
     },
     "metadata": {},
     "output_type": "display_data"
    },
    {
     "name": "stdout",
     "output_type": "stream",
     "text": [
      "Dataset json downloaded and prepared to /Users/harm.devries/.cache/huggingface/datasets/loubnabnl___json/loubnabnl--the-stack-inspection-data-fe6c7f1bf027a9dc/0.0.0/e6070c77f18f01a5ad4551a8b7edfba20b8438b7cad4d94e6ad9378022ce4aab. Subsequent calls will reuse this data.\n"
     ]
    },
    {
     "name": "stderr",
     "output_type": "stream",
     "text": [
      "\n",
      "0it [00:00, ?it/s]\u001b[A\n",
      "333it [00:00, 3323.32it/s]\u001b[A\n",
      "1000it [00:00, 3453.04it/s][A\n"
     ]
    },
    {
     "name": "stdout",
     "output_type": "stream",
     "text": [
      "249\n",
      "stata\n",
      "ihlp\n"
     ]
    },
    {
     "name": "stderr",
     "output_type": "stream",
     "text": [
      "Using custom data configuration loubnabnl--the-stack-inspection-data-8c15513cffcb65fd\n"
     ]
    },
    {
     "name": "stdout",
     "output_type": "stream",
     "text": [
      "Downloading and preparing dataset json/loubnabnl--the-stack-inspection-data to /Users/harm.devries/.cache/huggingface/datasets/loubnabnl___json/loubnabnl--the-stack-inspection-data-8c15513cffcb65fd/0.0.0/e6070c77f18f01a5ad4551a8b7edfba20b8438b7cad4d94e6ad9378022ce4aab...\n"
     ]
    },
    {
     "data": {
      "application/vnd.jupyter.widget-view+json": {
       "model_id": "9b1702a0e36340138b913d8784009dce",
       "version_major": 2,
       "version_minor": 0
      },
      "text/plain": [
       "Downloading data files:   0%|          | 0/1 [00:00<?, ?it/s]"
      ]
     },
     "metadata": {},
     "output_type": "display_data"
    },
    {
     "data": {
      "application/vnd.jupyter.widget-view+json": {
       "model_id": "39ecb03331b1418a9392324dc510ced6",
       "version_major": 2,
       "version_minor": 0
      },
      "text/plain": [
       "Downloading data:   0%|          | 0.00/553k [00:00<?, ?B/s]"
      ]
     },
     "metadata": {},
     "output_type": "display_data"
    },
    {
     "data": {
      "application/vnd.jupyter.widget-view+json": {
       "model_id": "13b5e81dddf149beae0fe6aaec84402a",
       "version_major": 2,
       "version_minor": 0
      },
      "text/plain": [
       "Extracting data files:   0%|          | 0/1 [00:00<?, ?it/s]"
      ]
     },
     "metadata": {},
     "output_type": "display_data"
    },
    {
     "data": {
      "application/vnd.jupyter.widget-view+json": {
       "model_id": "fe1eca6b963a48d88f85c2ec43b123dc",
       "version_major": 2,
       "version_minor": 0
      },
      "text/plain": [
       "Generating train split: 0 examples [00:00, ? examples/s]"
      ]
     },
     "metadata": {},
     "output_type": "display_data"
    },
    {
     "name": "stdout",
     "output_type": "stream",
     "text": [
      "Dataset json downloaded and prepared to /Users/harm.devries/.cache/huggingface/datasets/loubnabnl___json/loubnabnl--the-stack-inspection-data-8c15513cffcb65fd/0.0.0/e6070c77f18f01a5ad4551a8b7edfba20b8438b7cad4d94e6ad9378022ce4aab. Subsequent calls will reuse this data.\n"
     ]
    },
    {
     "name": "stderr",
     "output_type": "stream",
     "text": [
      "\n",
      "406it [00:00, 8771.58it/s]"
     ]
    },
    {
     "name": "stdout",
     "output_type": "stream",
     "text": [
      "250\n",
      "stata\n",
      "mata\n"
     ]
    },
    {
     "name": "stderr",
     "output_type": "stream",
     "text": [
      "\n",
      "Using custom data configuration loubnabnl--the-stack-inspection-data-c318b1b98d59534e\n"
     ]
    },
    {
     "name": "stdout",
     "output_type": "stream",
     "text": [
      "Downloading and preparing dataset json/loubnabnl--the-stack-inspection-data to /Users/harm.devries/.cache/huggingface/datasets/loubnabnl___json/loubnabnl--the-stack-inspection-data-c318b1b98d59534e/0.0.0/e6070c77f18f01a5ad4551a8b7edfba20b8438b7cad4d94e6ad9378022ce4aab...\n"
     ]
    },
    {
     "data": {
      "application/vnd.jupyter.widget-view+json": {
       "model_id": "3ac7ee672def4dc9a2c8f54978213f0f",
       "version_major": 2,
       "version_minor": 0
      },
      "text/plain": [
       "Downloading data files:   0%|          | 0/1 [00:00<?, ?it/s]"
      ]
     },
     "metadata": {},
     "output_type": "display_data"
    },
    {
     "data": {
      "application/vnd.jupyter.widget-view+json": {
       "model_id": "4cdfdf44bfb64e5d8f3de98977e7195d",
       "version_major": 2,
       "version_minor": 0
      },
      "text/plain": [
       "Downloading data:   0%|          | 0.00/3.68M [00:00<?, ?B/s]"
      ]
     },
     "metadata": {},
     "output_type": "display_data"
    },
    {
     "data": {
      "application/vnd.jupyter.widget-view+json": {
       "model_id": "082526cf353344b29febdf5dd5516ce1",
       "version_major": 2,
       "version_minor": 0
      },
      "text/plain": [
       "Extracting data files:   0%|          | 0/1 [00:00<?, ?it/s]"
      ]
     },
     "metadata": {},
     "output_type": "display_data"
    },
    {
     "data": {
      "application/vnd.jupyter.widget-view+json": {
       "model_id": "7ccb696cb2214f79afa972bc026b3aa2",
       "version_major": 2,
       "version_minor": 0
      },
      "text/plain": [
       "Generating train split: 0 examples [00:00, ? examples/s]"
      ]
     },
     "metadata": {},
     "output_type": "display_data"
    },
    {
     "name": "stdout",
     "output_type": "stream",
     "text": [
      "Dataset json downloaded and prepared to /Users/harm.devries/.cache/huggingface/datasets/loubnabnl___json/loubnabnl--the-stack-inspection-data-c318b1b98d59534e/0.0.0/e6070c77f18f01a5ad4551a8b7edfba20b8438b7cad4d94e6ad9378022ce4aab. Subsequent calls will reuse this data.\n"
     ]
    },
    {
     "name": "stderr",
     "output_type": "stream",
     "text": [
      "\n",
      "0it [00:00, ?it/s]\u001b[A\n",
      "392it [00:00, 3481.69it/s]\u001b[A"
     ]
    },
    {
     "name": "stdout",
     "output_type": "stream",
     "text": [
      "251\n",
      "stata\n",
      "doh\n"
     ]
    },
    {
     "name": "stderr",
     "output_type": "stream",
     "text": [
      "\n",
      "Using custom data configuration loubnabnl--the-stack-inspection-data-e8150c19b6bf4127\n"
     ]
    },
    {
     "name": "stdout",
     "output_type": "stream",
     "text": [
      "Downloading and preparing dataset json/loubnabnl--the-stack-inspection-data to /Users/harm.devries/.cache/huggingface/datasets/loubnabnl___json/loubnabnl--the-stack-inspection-data-e8150c19b6bf4127/0.0.0/e6070c77f18f01a5ad4551a8b7edfba20b8438b7cad4d94e6ad9378022ce4aab...\n"
     ]
    },
    {
     "data": {
      "application/vnd.jupyter.widget-view+json": {
       "model_id": "f46ff2205a104847a48c029c77960b58",
       "version_major": 2,
       "version_minor": 0
      },
      "text/plain": [
       "Downloading data files:   0%|          | 0/1 [00:00<?, ?it/s]"
      ]
     },
     "metadata": {},
     "output_type": "display_data"
    },
    {
     "data": {
      "application/vnd.jupyter.widget-view+json": {
       "model_id": "7bfedde136604e1fb92a48d4363ac06a",
       "version_major": 2,
       "version_minor": 0
      },
      "text/plain": [
       "Downloading data:   0%|          | 0.00/6.24k [00:00<?, ?B/s]"
      ]
     },
     "metadata": {},
     "output_type": "display_data"
    },
    {
     "data": {
      "application/vnd.jupyter.widget-view+json": {
       "model_id": "196b1b4132f240369b7fac26a60e0ac1",
       "version_major": 2,
       "version_minor": 0
      },
      "text/plain": [
       "Extracting data files:   0%|          | 0/1 [00:00<?, ?it/s]"
      ]
     },
     "metadata": {},
     "output_type": "display_data"
    },
    {
     "data": {
      "application/vnd.jupyter.widget-view+json": {
       "model_id": "34f45a3083c34de6ac547153cd166839",
       "version_major": 2,
       "version_minor": 0
      },
      "text/plain": [
       "Generating train split: 0 examples [00:00, ? examples/s]"
      ]
     },
     "metadata": {},
     "output_type": "display_data"
    },
    {
     "name": "stdout",
     "output_type": "stream",
     "text": [
      "Dataset json downloaded and prepared to /Users/harm.devries/.cache/huggingface/datasets/loubnabnl___json/loubnabnl--the-stack-inspection-data-e8150c19b6bf4127/0.0.0/e6070c77f18f01a5ad4551a8b7edfba20b8438b7cad4d94e6ad9378022ce4aab. Subsequent calls will reuse this data.\n"
     ]
    },
    {
     "name": "stderr",
     "output_type": "stream",
     "text": [
      "\n",
      "5it [00:00, 4117.71it/s]"
     ]
    },
    {
     "name": "stdout",
     "output_type": "stream",
     "text": [
      "252\n",
      "stata\n",
      "matah\n"
     ]
    },
    {
     "name": "stderr",
     "output_type": "stream",
     "text": [
      "\n",
      "Using custom data configuration loubnabnl--the-stack-inspection-data-869e8d652af0d562\n"
     ]
    },
    {
     "name": "stdout",
     "output_type": "stream",
     "text": [
      "Downloading and preparing dataset json/loubnabnl--the-stack-inspection-data to /Users/harm.devries/.cache/huggingface/datasets/loubnabnl___json/loubnabnl--the-stack-inspection-data-869e8d652af0d562/0.0.0/e6070c77f18f01a5ad4551a8b7edfba20b8438b7cad4d94e6ad9378022ce4aab...\n"
     ]
    },
    {
     "data": {
      "application/vnd.jupyter.widget-view+json": {
       "model_id": "0f47713d91b94a5594ce15c0aa27f4ef",
       "version_major": 2,
       "version_minor": 0
      },
      "text/plain": [
       "Downloading data files:   0%|          | 0/1 [00:00<?, ?it/s]"
      ]
     },
     "metadata": {},
     "output_type": "display_data"
    },
    {
     "data": {
      "application/vnd.jupyter.widget-view+json": {
       "model_id": "2c2b87a2b4014f69b584e0824a2e5235",
       "version_major": 2,
       "version_minor": 0
      },
      "text/plain": [
       "Downloading data:   0%|          | 0.00/33.5k [00:00<?, ?B/s]"
      ]
     },
     "metadata": {},
     "output_type": "display_data"
    },
    {
     "data": {
      "application/vnd.jupyter.widget-view+json": {
       "model_id": "de70533b65924215ba674fb7ad552acb",
       "version_major": 2,
       "version_minor": 0
      },
      "text/plain": [
       "Extracting data files:   0%|          | 0/1 [00:00<?, ?it/s]"
      ]
     },
     "metadata": {},
     "output_type": "display_data"
    },
    {
     "data": {
      "application/vnd.jupyter.widget-view+json": {
       "model_id": "5efe093e58a44e249bddbbb3a92f65fe",
       "version_major": 2,
       "version_minor": 0
      },
      "text/plain": [
       "Generating train split: 0 examples [00:00, ? examples/s]"
      ]
     },
     "metadata": {},
     "output_type": "display_data"
    },
    {
     "name": "stdout",
     "output_type": "stream",
     "text": [
      "Dataset json downloaded and prepared to /Users/harm.devries/.cache/huggingface/datasets/loubnabnl___json/loubnabnl--the-stack-inspection-data-869e8d652af0d562/0.0.0/e6070c77f18f01a5ad4551a8b7edfba20b8438b7cad4d94e6ad9378022ce4aab. Subsequent calls will reuse this data.\n"
     ]
    },
    {
     "name": "stderr",
     "output_type": "stream",
     "text": [
      "\n",
      "8it [00:00, 4454.33it/s]"
     ]
    },
    {
     "name": "stdout",
     "output_type": "stream",
     "text": [
      "253\n",
      "systemverilog\n",
      "sv\n"
     ]
    },
    {
     "name": "stderr",
     "output_type": "stream",
     "text": [
      "\n",
      "Using custom data configuration loubnabnl--the-stack-inspection-data-06a3e336b152c315\n"
     ]
    },
    {
     "name": "stdout",
     "output_type": "stream",
     "text": [
      "Downloading and preparing dataset json/loubnabnl--the-stack-inspection-data to /Users/harm.devries/.cache/huggingface/datasets/loubnabnl___json/loubnabnl--the-stack-inspection-data-06a3e336b152c315/0.0.0/e6070c77f18f01a5ad4551a8b7edfba20b8438b7cad4d94e6ad9378022ce4aab...\n"
     ]
    },
    {
     "data": {
      "application/vnd.jupyter.widget-view+json": {
       "model_id": "f67cafb2ebc0477db1ec415795ef5483",
       "version_major": 2,
       "version_minor": 0
      },
      "text/plain": [
       "Downloading data files:   0%|          | 0/1 [00:00<?, ?it/s]"
      ]
     },
     "metadata": {},
     "output_type": "display_data"
    },
    {
     "data": {
      "application/vnd.jupyter.widget-view+json": {
       "model_id": "1ccf991c27a54dfc99bf59f1c8138ea6",
       "version_major": 2,
       "version_minor": 0
      },
      "text/plain": [
       "Downloading data:   0%|          | 0.00/13.1M [00:00<?, ?B/s]"
      ]
     },
     "metadata": {},
     "output_type": "display_data"
    },
    {
     "data": {
      "application/vnd.jupyter.widget-view+json": {
       "model_id": "180ac678144f4c2ba7cedc846dbf096f",
       "version_major": 2,
       "version_minor": 0
      },
      "text/plain": [
       "Extracting data files:   0%|          | 0/1 [00:00<?, ?it/s]"
      ]
     },
     "metadata": {},
     "output_type": "display_data"
    },
    {
     "data": {
      "application/vnd.jupyter.widget-view+json": {
       "model_id": "effeb662c1d5489d9b9701082e7151a3",
       "version_major": 2,
       "version_minor": 0
      },
      "text/plain": [
       "Generating train split: 0 examples [00:00, ? examples/s]"
      ]
     },
     "metadata": {},
     "output_type": "display_data"
    },
    {
     "name": "stdout",
     "output_type": "stream",
     "text": [
      "Dataset json downloaded and prepared to /Users/harm.devries/.cache/huggingface/datasets/loubnabnl___json/loubnabnl--the-stack-inspection-data-06a3e336b152c315/0.0.0/e6070c77f18f01a5ad4551a8b7edfba20b8438b7cad4d94e6ad9378022ce4aab. Subsequent calls will reuse this data.\n"
     ]
    },
    {
     "name": "stderr",
     "output_type": "stream",
     "text": [
      "\n",
      "0it [00:00, ?it/s]\u001b[A\n",
      "273it [00:00, 2726.30it/s]\u001b[A\n",
      "557it [00:00, 2791.80it/s]\u001b[A\n",
      "1000it [00:00, 2640.10it/s][A\n"
     ]
    },
    {
     "name": "stdout",
     "output_type": "stream",
     "text": [
      "254\n",
      "systemverilog\n",
      "svh\n"
     ]
    },
    {
     "name": "stderr",
     "output_type": "stream",
     "text": [
      "Using custom data configuration loubnabnl--the-stack-inspection-data-444087614a9a84ec\n"
     ]
    },
    {
     "name": "stdout",
     "output_type": "stream",
     "text": [
      "Downloading and preparing dataset json/loubnabnl--the-stack-inspection-data to /Users/harm.devries/.cache/huggingface/datasets/loubnabnl___json/loubnabnl--the-stack-inspection-data-444087614a9a84ec/0.0.0/e6070c77f18f01a5ad4551a8b7edfba20b8438b7cad4d94e6ad9378022ce4aab...\n"
     ]
    },
    {
     "data": {
      "application/vnd.jupyter.widget-view+json": {
       "model_id": "e1f204660b1a40acb41afb749f3ed20d",
       "version_major": 2,
       "version_minor": 0
      },
      "text/plain": [
       "Downloading data files:   0%|          | 0/1 [00:00<?, ?it/s]"
      ]
     },
     "metadata": {},
     "output_type": "display_data"
    },
    {
     "data": {
      "application/vnd.jupyter.widget-view+json": {
       "model_id": "5932d7a3b1cc4e9c9fa5169b2cf54819",
       "version_major": 2,
       "version_minor": 0
      },
      "text/plain": [
       "Downloading data:   0%|          | 0.00/7.81M [00:00<?, ?B/s]"
      ]
     },
     "metadata": {},
     "output_type": "display_data"
    },
    {
     "data": {
      "application/vnd.jupyter.widget-view+json": {
       "model_id": "033aa66f2f1345fea9bd903726526692",
       "version_major": 2,
       "version_minor": 0
      },
      "text/plain": [
       "Extracting data files:   0%|          | 0/1 [00:00<?, ?it/s]"
      ]
     },
     "metadata": {},
     "output_type": "display_data"
    },
    {
     "data": {
      "application/vnd.jupyter.widget-view+json": {
       "model_id": "c05d67d828194618a839e7a39ee59748",
       "version_major": 2,
       "version_minor": 0
      },
      "text/plain": [
       "Generating train split: 0 examples [00:00, ? examples/s]"
      ]
     },
     "metadata": {},
     "output_type": "display_data"
    },
    {
     "name": "stdout",
     "output_type": "stream",
     "text": [
      "Dataset json downloaded and prepared to /Users/harm.devries/.cache/huggingface/datasets/loubnabnl___json/loubnabnl--the-stack-inspection-data-444087614a9a84ec/0.0.0/e6070c77f18f01a5ad4551a8b7edfba20b8438b7cad4d94e6ad9378022ce4aab. Subsequent calls will reuse this data.\n"
     ]
    },
    {
     "name": "stderr",
     "output_type": "stream",
     "text": [
      "\n",
      "0it [00:00, ?it/s]\u001b[A\n",
      "398it [00:00, 3962.56it/s]\u001b[A\n",
      "1000it [00:00, 3760.88it/s][A\n"
     ]
    },
    {
     "name": "stdout",
     "output_type": "stream",
     "text": [
      "255\n",
      "systemverilog\n",
      "vh\n"
     ]
    },
    {
     "name": "stderr",
     "output_type": "stream",
     "text": [
      "Using custom data configuration loubnabnl--the-stack-inspection-data-44fd1993cd8c164c\n"
     ]
    },
    {
     "name": "stdout",
     "output_type": "stream",
     "text": [
      "Downloading and preparing dataset json/loubnabnl--the-stack-inspection-data to /Users/harm.devries/.cache/huggingface/datasets/loubnabnl___json/loubnabnl--the-stack-inspection-data-44fd1993cd8c164c/0.0.0/e6070c77f18f01a5ad4551a8b7edfba20b8438b7cad4d94e6ad9378022ce4aab...\n"
     ]
    },
    {
     "data": {
      "application/vnd.jupyter.widget-view+json": {
       "model_id": "a2d1ac25fc534f13915e27911f3b9510",
       "version_major": 2,
       "version_minor": 0
      },
      "text/plain": [
       "Downloading data files:   0%|          | 0/1 [00:00<?, ?it/s]"
      ]
     },
     "metadata": {},
     "output_type": "display_data"
    },
    {
     "data": {
      "application/vnd.jupyter.widget-view+json": {
       "model_id": "548d442ecda14d57a1491fe582e0ab23",
       "version_major": 2,
       "version_minor": 0
      },
      "text/plain": [
       "Downloading data:   0%|          | 0.00/9.55M [00:00<?, ?B/s]"
      ]
     },
     "metadata": {},
     "output_type": "display_data"
    },
    {
     "data": {
      "application/vnd.jupyter.widget-view+json": {
       "model_id": "da645312770d486886ae94cc71dd04e3",
       "version_major": 2,
       "version_minor": 0
      },
      "text/plain": [
       "Extracting data files:   0%|          | 0/1 [00:00<?, ?it/s]"
      ]
     },
     "metadata": {},
     "output_type": "display_data"
    },
    {
     "data": {
      "application/vnd.jupyter.widget-view+json": {
       "model_id": "66576580619e463e9afcbd93496a066a",
       "version_major": 2,
       "version_minor": 0
      },
      "text/plain": [
       "Generating train split: 0 examples [00:00, ? examples/s]"
      ]
     },
     "metadata": {},
     "output_type": "display_data"
    },
    {
     "name": "stdout",
     "output_type": "stream",
     "text": [
      "Dataset json downloaded and prepared to /Users/harm.devries/.cache/huggingface/datasets/loubnabnl___json/loubnabnl--the-stack-inspection-data-44fd1993cd8c164c/0.0.0/e6070c77f18f01a5ad4551a8b7edfba20b8438b7cad4d94e6ad9378022ce4aab. Subsequent calls will reuse this data.\n"
     ]
    },
    {
     "name": "stderr",
     "output_type": "stream",
     "text": [
      "\n",
      "0it [00:00, ?it/s]\u001b[A\n",
      "253it [00:00, 2290.65it/s]\u001b[A\n",
      "615it [00:00, 2288.59it/s]\u001b[A\n"
     ]
    },
    {
     "name": "stdout",
     "output_type": "stream",
     "text": [
      "256\n",
      "tcl\n",
      "tcl\n"
     ]
    },
    {
     "name": "stderr",
     "output_type": "stream",
     "text": [
      "Using custom data configuration loubnabnl--the-stack-inspection-data-a7314ddb4aadec24\n"
     ]
    },
    {
     "name": "stdout",
     "output_type": "stream",
     "text": [
      "Downloading and preparing dataset json/loubnabnl--the-stack-inspection-data to /Users/harm.devries/.cache/huggingface/datasets/loubnabnl___json/loubnabnl--the-stack-inspection-data-a7314ddb4aadec24/0.0.0/e6070c77f18f01a5ad4551a8b7edfba20b8438b7cad4d94e6ad9378022ce4aab...\n"
     ]
    },
    {
     "data": {
      "application/vnd.jupyter.widget-view+json": {
       "model_id": "3027b1d9df1a47de903eef666adeb8eb",
       "version_major": 2,
       "version_minor": 0
      },
      "text/plain": [
       "Downloading data files:   0%|          | 0/1 [00:00<?, ?it/s]"
      ]
     },
     "metadata": {},
     "output_type": "display_data"
    },
    {
     "data": {
      "application/vnd.jupyter.widget-view+json": {
       "model_id": "b4f9683627574330bfaafd74c518d8aa",
       "version_major": 2,
       "version_minor": 0
      },
      "text/plain": [
       "Downloading data:   0%|          | 0.00/9.28M [00:00<?, ?B/s]"
      ]
     },
     "metadata": {},
     "output_type": "display_data"
    },
    {
     "data": {
      "application/vnd.jupyter.widget-view+json": {
       "model_id": "2465c675cf95418ab5b23afefe984242",
       "version_major": 2,
       "version_minor": 0
      },
      "text/plain": [
       "Extracting data files:   0%|          | 0/1 [00:00<?, ?it/s]"
      ]
     },
     "metadata": {},
     "output_type": "display_data"
    },
    {
     "data": {
      "application/vnd.jupyter.widget-view+json": {
       "model_id": "b96a0ad26f964b0492e602ed02c069a2",
       "version_major": 2,
       "version_minor": 0
      },
      "text/plain": [
       "Generating train split: 0 examples [00:00, ? examples/s]"
      ]
     },
     "metadata": {},
     "output_type": "display_data"
    },
    {
     "name": "stdout",
     "output_type": "stream",
     "text": [
      "Dataset json downloaded and prepared to /Users/harm.devries/.cache/huggingface/datasets/loubnabnl___json/loubnabnl--the-stack-inspection-data-a7314ddb4aadec24/0.0.0/e6070c77f18f01a5ad4551a8b7edfba20b8438b7cad4d94e6ad9378022ce4aab. Subsequent calls will reuse this data.\n"
     ]
    },
    {
     "name": "stderr",
     "output_type": "stream",
     "text": [
      "\n",
      "0it [00:00, ?it/s]\u001b[A\n",
      "346it [00:00, 3459.10it/s]\u001b[A\n",
      "1000it [00:00, 3358.97it/s][A\n"
     ]
    },
    {
     "name": "stdout",
     "output_type": "stream",
     "text": [
      "257\n",
      "tcl\n",
      "tm\n"
     ]
    },
    {
     "name": "stderr",
     "output_type": "stream",
     "text": [
      "Using custom data configuration loubnabnl--the-stack-inspection-data-1744af12c47efbc5\n"
     ]
    },
    {
     "name": "stdout",
     "output_type": "stream",
     "text": [
      "Downloading and preparing dataset json/loubnabnl--the-stack-inspection-data to /Users/harm.devries/.cache/huggingface/datasets/loubnabnl___json/loubnabnl--the-stack-inspection-data-1744af12c47efbc5/0.0.0/e6070c77f18f01a5ad4551a8b7edfba20b8438b7cad4d94e6ad9378022ce4aab...\n"
     ]
    },
    {
     "data": {
      "application/vnd.jupyter.widget-view+json": {
       "model_id": "f0fbee313a514ad39467be79995cbf8c",
       "version_major": 2,
       "version_minor": 0
      },
      "text/plain": [
       "Downloading data files:   0%|          | 0/1 [00:00<?, ?it/s]"
      ]
     },
     "metadata": {},
     "output_type": "display_data"
    },
    {
     "data": {
      "application/vnd.jupyter.widget-view+json": {
       "model_id": "660d6beb30b14499b28ae734aa012ebd",
       "version_major": 2,
       "version_minor": 0
      },
      "text/plain": [
       "Downloading data:   0%|          | 0.00/5.28M [00:00<?, ?B/s]"
      ]
     },
     "metadata": {},
     "output_type": "display_data"
    },
    {
     "data": {
      "application/vnd.jupyter.widget-view+json": {
       "model_id": "71e46509d0e2429f897a0edf20cab05b",
       "version_major": 2,
       "version_minor": 0
      },
      "text/plain": [
       "Extracting data files:   0%|          | 0/1 [00:00<?, ?it/s]"
      ]
     },
     "metadata": {},
     "output_type": "display_data"
    },
    {
     "data": {
      "application/vnd.jupyter.widget-view+json": {
       "model_id": "49e4b44de413415fb03f999e64fd6502",
       "version_major": 2,
       "version_minor": 0
      },
      "text/plain": [
       "Generating train split: 0 examples [00:00, ? examples/s]"
      ]
     },
     "metadata": {},
     "output_type": "display_data"
    },
    {
     "name": "stdout",
     "output_type": "stream",
     "text": [
      "Dataset json downloaded and prepared to /Users/harm.devries/.cache/huggingface/datasets/loubnabnl___json/loubnabnl--the-stack-inspection-data-1744af12c47efbc5/0.0.0/e6070c77f18f01a5ad4551a8b7edfba20b8438b7cad4d94e6ad9378022ce4aab. Subsequent calls will reuse this data.\n"
     ]
    },
    {
     "name": "stderr",
     "output_type": "stream",
     "text": [
      "\n",
      "0it [00:00, ?it/s]\u001b[A\n",
      "398it [00:00, 2739.01it/s]\u001b[A"
     ]
    },
    {
     "name": "stdout",
     "output_type": "stream",
     "text": [
      "258\n",
      "tcl\n",
      "adp\n"
     ]
    },
    {
     "name": "stderr",
     "output_type": "stream",
     "text": [
      "\n",
      "Using custom data configuration loubnabnl--the-stack-inspection-data-2bacb50a99993406\n"
     ]
    },
    {
     "name": "stdout",
     "output_type": "stream",
     "text": [
      "Downloading and preparing dataset json/loubnabnl--the-stack-inspection-data to /Users/harm.devries/.cache/huggingface/datasets/loubnabnl___json/loubnabnl--the-stack-inspection-data-2bacb50a99993406/0.0.0/e6070c77f18f01a5ad4551a8b7edfba20b8438b7cad4d94e6ad9378022ce4aab...\n"
     ]
    },
    {
     "data": {
      "application/vnd.jupyter.widget-view+json": {
       "model_id": "57a74768118b4ebcae0732fc42796564",
       "version_major": 2,
       "version_minor": 0
      },
      "text/plain": [
       "Downloading data files:   0%|          | 0/1 [00:00<?, ?it/s]"
      ]
     },
     "metadata": {},
     "output_type": "display_data"
    },
    {
     "data": {
      "application/vnd.jupyter.widget-view+json": {
       "model_id": "401b03e438574e36bc68e96be8c3d099",
       "version_major": 2,
       "version_minor": 0
      },
      "text/plain": [
       "Downloading data:   0%|          | 0.00/1.13M [00:00<?, ?B/s]"
      ]
     },
     "metadata": {},
     "output_type": "display_data"
    },
    {
     "data": {
      "application/vnd.jupyter.widget-view+json": {
       "model_id": "8bb32a08748e492585cc6c2995c95d74",
       "version_major": 2,
       "version_minor": 0
      },
      "text/plain": [
       "Extracting data files:   0%|          | 0/1 [00:00<?, ?it/s]"
      ]
     },
     "metadata": {},
     "output_type": "display_data"
    },
    {
     "data": {
      "application/vnd.jupyter.widget-view+json": {
       "model_id": "6f14679c22a3432dad52df1692021dc8",
       "version_major": 2,
       "version_minor": 0
      },
      "text/plain": [
       "Generating train split: 0 examples [00:00, ? examples/s]"
      ]
     },
     "metadata": {},
     "output_type": "display_data"
    },
    {
     "name": "stdout",
     "output_type": "stream",
     "text": [
      "Dataset json downloaded and prepared to /Users/harm.devries/.cache/huggingface/datasets/loubnabnl___json/loubnabnl--the-stack-inspection-data-2bacb50a99993406/0.0.0/e6070c77f18f01a5ad4551a8b7edfba20b8438b7cad4d94e6ad9378022ce4aab. Subsequent calls will reuse this data.\n"
     ]
    },
    {
     "name": "stderr",
     "output_type": "stream",
     "text": [
      "\n",
      "322it [00:00, 6072.72it/s]"
     ]
    },
    {
     "name": "stdout",
     "output_type": "stream",
     "text": [
      "259\n",
      "tcsh\n",
      "csh\n"
     ]
    },
    {
     "name": "stderr",
     "output_type": "stream",
     "text": [
      "\n",
      "Using custom data configuration loubnabnl--the-stack-inspection-data-f152d46f15b6807c\n"
     ]
    },
    {
     "name": "stdout",
     "output_type": "stream",
     "text": [
      "Downloading and preparing dataset json/loubnabnl--the-stack-inspection-data to /Users/harm.devries/.cache/huggingface/datasets/loubnabnl___json/loubnabnl--the-stack-inspection-data-f152d46f15b6807c/0.0.0/e6070c77f18f01a5ad4551a8b7edfba20b8438b7cad4d94e6ad9378022ce4aab...\n"
     ]
    },
    {
     "data": {
      "application/vnd.jupyter.widget-view+json": {
       "model_id": "8e68d3026f294141aabd202db19b34dc",
       "version_major": 2,
       "version_minor": 0
      },
      "text/plain": [
       "Downloading data files:   0%|          | 0/1 [00:00<?, ?it/s]"
      ]
     },
     "metadata": {},
     "output_type": "display_data"
    },
    {
     "data": {
      "application/vnd.jupyter.widget-view+json": {
       "model_id": "223aab61e1474fbcbbc3a35e556698d3",
       "version_major": 2,
       "version_minor": 0
      },
      "text/plain": [
       "Downloading data:   0%|          | 0.00/3.49M [00:00<?, ?B/s]"
      ]
     },
     "metadata": {},
     "output_type": "display_data"
    },
    {
     "data": {
      "application/vnd.jupyter.widget-view+json": {
       "model_id": "a8682580c7e54a15ac0ed25c9648a83f",
       "version_major": 2,
       "version_minor": 0
      },
      "text/plain": [
       "Extracting data files:   0%|          | 0/1 [00:00<?, ?it/s]"
      ]
     },
     "metadata": {},
     "output_type": "display_data"
    },
    {
     "data": {
      "application/vnd.jupyter.widget-view+json": {
       "model_id": "7877d184777d420591bd622e479a2b46",
       "version_major": 2,
       "version_minor": 0
      },
      "text/plain": [
       "Generating train split: 0 examples [00:00, ? examples/s]"
      ]
     },
     "metadata": {},
     "output_type": "display_data"
    },
    {
     "name": "stdout",
     "output_type": "stream",
     "text": [
      "Dataset json downloaded and prepared to /Users/harm.devries/.cache/huggingface/datasets/loubnabnl___json/loubnabnl--the-stack-inspection-data-f152d46f15b6807c/0.0.0/e6070c77f18f01a5ad4551a8b7edfba20b8438b7cad4d94e6ad9378022ce4aab. Subsequent calls will reuse this data.\n"
     ]
    },
    {
     "name": "stderr",
     "output_type": "stream",
     "text": [
      "\n",
      "0it [00:00, ?it/s]\u001b[A\n",
      "1000it [00:00, 6089.02it/s][A"
     ]
    },
    {
     "name": "stdout",
     "output_type": "stream",
     "text": [
      "260\n",
      "tcsh\n",
      "tcsh\n"
     ]
    },
    {
     "name": "stderr",
     "output_type": "stream",
     "text": [
      "\n",
      "Using custom data configuration loubnabnl--the-stack-inspection-data-d9c5c0aa310a3921\n"
     ]
    },
    {
     "name": "stdout",
     "output_type": "stream",
     "text": [
      "Downloading and preparing dataset json/loubnabnl--the-stack-inspection-data to /Users/harm.devries/.cache/huggingface/datasets/loubnabnl___json/loubnabnl--the-stack-inspection-data-d9c5c0aa310a3921/0.0.0/e6070c77f18f01a5ad4551a8b7edfba20b8438b7cad4d94e6ad9378022ce4aab...\n"
     ]
    },
    {
     "data": {
      "application/vnd.jupyter.widget-view+json": {
       "model_id": "0f0a2a96642246edb48ea07aa6bc61d0",
       "version_major": 2,
       "version_minor": 0
      },
      "text/plain": [
       "Downloading data files:   0%|          | 0/1 [00:00<?, ?it/s]"
      ]
     },
     "metadata": {},
     "output_type": "display_data"
    },
    {
     "data": {
      "application/vnd.jupyter.widget-view+json": {
       "model_id": "98b0b6012d3e4daf93c413832b9872b8",
       "version_major": 2,
       "version_minor": 0
      },
      "text/plain": [
       "Downloading data:   0%|          | 0.00/2.45M [00:00<?, ?B/s]"
      ]
     },
     "metadata": {},
     "output_type": "display_data"
    },
    {
     "data": {
      "application/vnd.jupyter.widget-view+json": {
       "model_id": "c2b447fcac874e1fba1bae565722ad4c",
       "version_major": 2,
       "version_minor": 0
      },
      "text/plain": [
       "Extracting data files:   0%|          | 0/1 [00:00<?, ?it/s]"
      ]
     },
     "metadata": {},
     "output_type": "display_data"
    },
    {
     "data": {
      "application/vnd.jupyter.widget-view+json": {
       "model_id": "ade9775baf2a4eadb3017d7ad9989695",
       "version_major": 2,
       "version_minor": 0
      },
      "text/plain": [
       "Generating train split: 0 examples [00:00, ? examples/s]"
      ]
     },
     "metadata": {},
     "output_type": "display_data"
    },
    {
     "name": "stdout",
     "output_type": "stream",
     "text": [
      "Dataset json downloaded and prepared to /Users/harm.devries/.cache/huggingface/datasets/loubnabnl___json/loubnabnl--the-stack-inspection-data-d9c5c0aa310a3921/0.0.0/e6070c77f18f01a5ad4551a8b7edfba20b8438b7cad4d94e6ad9378022ce4aab. Subsequent calls will reuse this data.\n"
     ]
    },
    {
     "name": "stderr",
     "output_type": "stream",
     "text": [
      "\n",
      "340it [00:00, 4248.19it/s]"
     ]
    },
    {
     "name": "stdout",
     "output_type": "stream",
     "text": [
      "261\n",
      "tex\n",
      "toc\n"
     ]
    },
    {
     "name": "stderr",
     "output_type": "stream",
     "text": [
      "\n",
      "Using custom data configuration loubnabnl--the-stack-inspection-data-97be5ab38222863d\n"
     ]
    },
    {
     "name": "stdout",
     "output_type": "stream",
     "text": [
      "Downloading and preparing dataset json/loubnabnl--the-stack-inspection-data to /Users/harm.devries/.cache/huggingface/datasets/loubnabnl___json/loubnabnl--the-stack-inspection-data-97be5ab38222863d/0.0.0/e6070c77f18f01a5ad4551a8b7edfba20b8438b7cad4d94e6ad9378022ce4aab...\n"
     ]
    },
    {
     "data": {
      "application/vnd.jupyter.widget-view+json": {
       "model_id": "9ca99698cf864c9285d577e1e5d52544",
       "version_major": 2,
       "version_minor": 0
      },
      "text/plain": [
       "Downloading data files:   0%|          | 0/1 [00:00<?, ?it/s]"
      ]
     },
     "metadata": {},
     "output_type": "display_data"
    },
    {
     "data": {
      "application/vnd.jupyter.widget-view+json": {
       "model_id": "2b29e4fdd25f4288a9f6a861ea76d884",
       "version_major": 2,
       "version_minor": 0
      },
      "text/plain": [
       "Downloading data:   0%|          | 0.00/18.2M [00:00<?, ?B/s]"
      ]
     },
     "metadata": {},
     "output_type": "display_data"
    },
    {
     "data": {
      "application/vnd.jupyter.widget-view+json": {
       "model_id": "8cb6046db2e9478382db41a916ad557d",
       "version_major": 2,
       "version_minor": 0
      },
      "text/plain": [
       "Extracting data files:   0%|          | 0/1 [00:00<?, ?it/s]"
      ]
     },
     "metadata": {},
     "output_type": "display_data"
    },
    {
     "data": {
      "application/vnd.jupyter.widget-view+json": {
       "model_id": "695c2c10a06040b698cab494e7a667ce",
       "version_major": 2,
       "version_minor": 0
      },
      "text/plain": [
       "Generating train split: 0 examples [00:00, ? examples/s]"
      ]
     },
     "metadata": {},
     "output_type": "display_data"
    },
    {
     "name": "stdout",
     "output_type": "stream",
     "text": [
      "Dataset json downloaded and prepared to /Users/harm.devries/.cache/huggingface/datasets/loubnabnl___json/loubnabnl--the-stack-inspection-data-97be5ab38222863d/0.0.0/e6070c77f18f01a5ad4551a8b7edfba20b8438b7cad4d94e6ad9378022ce4aab. Subsequent calls will reuse this data.\n"
     ]
    },
    {
     "name": "stderr",
     "output_type": "stream",
     "text": [
      "\n",
      "0it [00:00, ?it/s]\u001b[A\n",
      "86it [00:00, 809.65it/s]\u001b[A\n",
      "220it [00:00, 1113.47it/s]\u001b[A\n",
      "350it [00:00, 1194.02it/s]\u001b[A\n",
      "479it [00:00, 1145.45it/s]\u001b[A\n"
     ]
    },
    {
     "name": "stdout",
     "output_type": "stream",
     "text": [
      "262\n",
      "tex\n",
      "ltx\n"
     ]
    },
    {
     "name": "stderr",
     "output_type": "stream",
     "text": [
      "Using custom data configuration loubnabnl--the-stack-inspection-data-b9b34c5e3443ce01\n"
     ]
    },
    {
     "name": "stdout",
     "output_type": "stream",
     "text": [
      "Downloading and preparing dataset json/loubnabnl--the-stack-inspection-data to /Users/harm.devries/.cache/huggingface/datasets/loubnabnl___json/loubnabnl--the-stack-inspection-data-b9b34c5e3443ce01/0.0.0/e6070c77f18f01a5ad4551a8b7edfba20b8438b7cad4d94e6ad9378022ce4aab...\n"
     ]
    },
    {
     "data": {
      "application/vnd.jupyter.widget-view+json": {
       "model_id": "20ec5044eda44647a9045a79f0383138",
       "version_major": 2,
       "version_minor": 0
      },
      "text/plain": [
       "Downloading data files:   0%|          | 0/1 [00:00<?, ?it/s]"
      ]
     },
     "metadata": {},
     "output_type": "display_data"
    },
    {
     "data": {
      "application/vnd.jupyter.widget-view+json": {
       "model_id": "1c03c4521c3a4cc592fe111cec5537db",
       "version_major": 2,
       "version_minor": 0
      },
      "text/plain": [
       "Downloading data:   0%|          | 0.00/1.18M [00:00<?, ?B/s]"
      ]
     },
     "metadata": {},
     "output_type": "display_data"
    },
    {
     "data": {
      "application/vnd.jupyter.widget-view+json": {
       "model_id": "3ee9843966d54548a1264be6656e5893",
       "version_major": 2,
       "version_minor": 0
      },
      "text/plain": [
       "Extracting data files:   0%|          | 0/1 [00:00<?, ?it/s]"
      ]
     },
     "metadata": {},
     "output_type": "display_data"
    },
    {
     "data": {
      "application/vnd.jupyter.widget-view+json": {
       "model_id": "9c15b1fa18034805a12949b8369a94f8",
       "version_major": 2,
       "version_minor": 0
      },
      "text/plain": [
       "Generating train split: 0 examples [00:00, ? examples/s]"
      ]
     },
     "metadata": {},
     "output_type": "display_data"
    },
    {
     "name": "stdout",
     "output_type": "stream",
     "text": [
      "Dataset json downloaded and prepared to /Users/harm.devries/.cache/huggingface/datasets/loubnabnl___json/loubnabnl--the-stack-inspection-data-b9b34c5e3443ce01/0.0.0/e6070c77f18f01a5ad4551a8b7edfba20b8438b7cad4d94e6ad9378022ce4aab. Subsequent calls will reuse this data.\n"
     ]
    },
    {
     "name": "stderr",
     "output_type": "stream",
     "text": [
      "\n",
      "151it [00:00, 4127.61it/s]"
     ]
    },
    {
     "name": "stdout",
     "output_type": "stream",
     "text": [
      "263\n",
      "tex\n",
      "bib\n"
     ]
    },
    {
     "name": "stderr",
     "output_type": "stream",
     "text": [
      "\n",
      "Using custom data configuration loubnabnl--the-stack-inspection-data-908b37e9a7fd84b1\n"
     ]
    },
    {
     "name": "stdout",
     "output_type": "stream",
     "text": [
      "Downloading and preparing dataset json/loubnabnl--the-stack-inspection-data to /Users/harm.devries/.cache/huggingface/datasets/loubnabnl___json/loubnabnl--the-stack-inspection-data-908b37e9a7fd84b1/0.0.0/e6070c77f18f01a5ad4551a8b7edfba20b8438b7cad4d94e6ad9378022ce4aab...\n"
     ]
    },
    {
     "data": {
      "application/vnd.jupyter.widget-view+json": {
       "model_id": "67577c6dcf5a49c7923a6f5ddd496663",
       "version_major": 2,
       "version_minor": 0
      },
      "text/plain": [
       "Downloading data files:   0%|          | 0/1 [00:00<?, ?it/s]"
      ]
     },
     "metadata": {},
     "output_type": "display_data"
    },
    {
     "data": {
      "application/vnd.jupyter.widget-view+json": {
       "model_id": "bc95e556157c4ea5983fb3a1c6e4100f",
       "version_major": 2,
       "version_minor": 0
      },
      "text/plain": [
       "Downloading data:   0%|          | 0.00/18.7M [00:00<?, ?B/s]"
      ]
     },
     "metadata": {},
     "output_type": "display_data"
    },
    {
     "data": {
      "application/vnd.jupyter.widget-view+json": {
       "model_id": "4b2796e7e64840739cd98b2d7a986b8d",
       "version_major": 2,
       "version_minor": 0
      },
      "text/plain": [
       "Extracting data files:   0%|          | 0/1 [00:00<?, ?it/s]"
      ]
     },
     "metadata": {},
     "output_type": "display_data"
    },
    {
     "data": {
      "application/vnd.jupyter.widget-view+json": {
       "model_id": "6ed28fc03f474774876ee1a4a37de759",
       "version_major": 2,
       "version_minor": 0
      },
      "text/plain": [
       "Generating train split: 0 examples [00:00, ? examples/s]"
      ]
     },
     "metadata": {},
     "output_type": "display_data"
    },
    {
     "name": "stdout",
     "output_type": "stream",
     "text": [
      "Dataset json downloaded and prepared to /Users/harm.devries/.cache/huggingface/datasets/loubnabnl___json/loubnabnl--the-stack-inspection-data-908b37e9a7fd84b1/0.0.0/e6070c77f18f01a5ad4551a8b7edfba20b8438b7cad4d94e6ad9378022ce4aab. Subsequent calls will reuse this data.\n"
     ]
    },
    {
     "name": "stderr",
     "output_type": "stream",
     "text": [
      "\n",
      "0it [00:00, ?it/s]\u001b[A\n",
      "225it [00:00, 2248.03it/s]\u001b[A\n",
      "450it [00:00, 1881.53it/s]\u001b[A\n",
      "666it [00:00, 1995.25it/s]\u001b[A\n",
      "1000it [00:00, 1849.12it/s][A\n"
     ]
    },
    {
     "name": "stdout",
     "output_type": "stream",
     "text": [
      "264\n",
      "tex\n",
      "sty\n"
     ]
    },
    {
     "name": "stderr",
     "output_type": "stream",
     "text": [
      "Using custom data configuration loubnabnl--the-stack-inspection-data-35072b323d7bdd63\n"
     ]
    },
    {
     "name": "stdout",
     "output_type": "stream",
     "text": [
      "Downloading and preparing dataset json/loubnabnl--the-stack-inspection-data to /Users/harm.devries/.cache/huggingface/datasets/loubnabnl___json/loubnabnl--the-stack-inspection-data-35072b323d7bdd63/0.0.0/e6070c77f18f01a5ad4551a8b7edfba20b8438b7cad4d94e6ad9378022ce4aab...\n"
     ]
    },
    {
     "data": {
      "application/vnd.jupyter.widget-view+json": {
       "model_id": "70700aaa954b41c199ffdb2a3cf3f881",
       "version_major": 2,
       "version_minor": 0
      },
      "text/plain": [
       "Downloading data files:   0%|          | 0/1 [00:00<?, ?it/s]"
      ]
     },
     "metadata": {},
     "output_type": "display_data"
    },
    {
     "data": {
      "application/vnd.jupyter.widget-view+json": {
       "model_id": "6161db1416ac48d3ab4c229e9e7b3467",
       "version_major": 2,
       "version_minor": 0
      },
      "text/plain": [
       "Downloading data:   0%|          | 0.00/7.06M [00:00<?, ?B/s]"
      ]
     },
     "metadata": {},
     "output_type": "display_data"
    },
    {
     "data": {
      "application/vnd.jupyter.widget-view+json": {
       "model_id": "437b0573b6ad4f419e3dec93c964f3c5",
       "version_major": 2,
       "version_minor": 0
      },
      "text/plain": [
       "Extracting data files:   0%|          | 0/1 [00:00<?, ?it/s]"
      ]
     },
     "metadata": {},
     "output_type": "display_data"
    },
    {
     "data": {
      "application/vnd.jupyter.widget-view+json": {
       "model_id": "532ce132e7c147a6a3d92e76f72b4a52",
       "version_major": 2,
       "version_minor": 0
      },
      "text/plain": [
       "Generating train split: 0 examples [00:00, ? examples/s]"
      ]
     },
     "metadata": {},
     "output_type": "display_data"
    },
    {
     "name": "stdout",
     "output_type": "stream",
     "text": [
      "Dataset json downloaded and prepared to /Users/harm.devries/.cache/huggingface/datasets/loubnabnl___json/loubnabnl--the-stack-inspection-data-35072b323d7bdd63/0.0.0/e6070c77f18f01a5ad4551a8b7edfba20b8438b7cad4d94e6ad9378022ce4aab. Subsequent calls will reuse this data.\n"
     ]
    },
    {
     "name": "stderr",
     "output_type": "stream",
     "text": [
      "\n",
      "0it [00:00, ?it/s]\u001b[A\n",
      "281it [00:00, 2796.08it/s]\u001b[A\n",
      "611it [00:00, 2536.30it/s]\u001b[A\n"
     ]
    },
    {
     "name": "stdout",
     "output_type": "stream",
     "text": [
      "265\n",
      "tex\n",
      "tex\n"
     ]
    },
    {
     "name": "stderr",
     "output_type": "stream",
     "text": [
      "Using custom data configuration loubnabnl--the-stack-inspection-data-9b15a8c7b1500571\n"
     ]
    },
    {
     "name": "stdout",
     "output_type": "stream",
     "text": [
      "Downloading and preparing dataset json/loubnabnl--the-stack-inspection-data to /Users/harm.devries/.cache/huggingface/datasets/loubnabnl___json/loubnabnl--the-stack-inspection-data-9b15a8c7b1500571/0.0.0/e6070c77f18f01a5ad4551a8b7edfba20b8438b7cad4d94e6ad9378022ce4aab...\n"
     ]
    },
    {
     "data": {
      "application/vnd.jupyter.widget-view+json": {
       "model_id": "68df32493a284220bae49b0ac406b44c",
       "version_major": 2,
       "version_minor": 0
      },
      "text/plain": [
       "Downloading data files:   0%|          | 0/1 [00:00<?, ?it/s]"
      ]
     },
     "metadata": {},
     "output_type": "display_data"
    },
    {
     "data": {
      "application/vnd.jupyter.widget-view+json": {
       "model_id": "0b828c78756f4768b0cb77b5b67152d9",
       "version_major": 2,
       "version_minor": 0
      },
      "text/plain": [
       "Downloading data:   0%|          | 0.00/11.2M [00:00<?, ?B/s]"
      ]
     },
     "metadata": {},
     "output_type": "display_data"
    },
    {
     "data": {
      "application/vnd.jupyter.widget-view+json": {
       "model_id": "aa594b1b1dfd49eda560872730415459",
       "version_major": 2,
       "version_minor": 0
      },
      "text/plain": [
       "Extracting data files:   0%|          | 0/1 [00:00<?, ?it/s]"
      ]
     },
     "metadata": {},
     "output_type": "display_data"
    },
    {
     "data": {
      "application/vnd.jupyter.widget-view+json": {
       "model_id": "2a6455a8389b49679e12ada84452d999",
       "version_major": 2,
       "version_minor": 0
      },
      "text/plain": [
       "Generating train split: 0 examples [00:00, ? examples/s]"
      ]
     },
     "metadata": {},
     "output_type": "display_data"
    },
    {
     "name": "stdout",
     "output_type": "stream",
     "text": [
      "Dataset json downloaded and prepared to /Users/harm.devries/.cache/huggingface/datasets/loubnabnl___json/loubnabnl--the-stack-inspection-data-9b15a8c7b1500571/0.0.0/e6070c77f18f01a5ad4551a8b7edfba20b8438b7cad4d94e6ad9378022ce4aab. Subsequent calls will reuse this data.\n"
     ]
    },
    {
     "name": "stderr",
     "output_type": "stream",
     "text": [
      "\n",
      "0it [00:00, ?it/s]\u001b[A\n",
      "314it [00:00, 3132.36it/s]\u001b[A\n",
      "635it [00:00, 3174.82it/s]\u001b[A\n",
      "1000it [00:00, 2987.74it/s][A\n"
     ]
    },
    {
     "name": "stdout",
     "output_type": "stream",
     "text": [
      "266\n",
      "tex\n",
      "ins\n"
     ]
    },
    {
     "name": "stderr",
     "output_type": "stream",
     "text": [
      "Using custom data configuration loubnabnl--the-stack-inspection-data-722a501c903adec9\n"
     ]
    },
    {
     "name": "stdout",
     "output_type": "stream",
     "text": [
      "Downloading and preparing dataset json/loubnabnl--the-stack-inspection-data to /Users/harm.devries/.cache/huggingface/datasets/loubnabnl___json/loubnabnl--the-stack-inspection-data-722a501c903adec9/0.0.0/e6070c77f18f01a5ad4551a8b7edfba20b8438b7cad4d94e6ad9378022ce4aab...\n"
     ]
    },
    {
     "data": {
      "application/vnd.jupyter.widget-view+json": {
       "model_id": "44264806609b42b190681a37aa5688b2",
       "version_major": 2,
       "version_minor": 0
      },
      "text/plain": [
       "Downloading data files:   0%|          | 0/1 [00:00<?, ?it/s]"
      ]
     },
     "metadata": {},
     "output_type": "display_data"
    },
    {
     "data": {
      "application/vnd.jupyter.widget-view+json": {
       "model_id": "77618a10ee33410e9d786e5f10dcea73",
       "version_major": 2,
       "version_minor": 0
      },
      "text/plain": [
       "Downloading data:   0%|          | 0.00/172k [00:00<?, ?B/s]"
      ]
     },
     "metadata": {},
     "output_type": "display_data"
    },
    {
     "data": {
      "application/vnd.jupyter.widget-view+json": {
       "model_id": "eedcb637e2aa4bd685c0cdca7dc07e0f",
       "version_major": 2,
       "version_minor": 0
      },
      "text/plain": [
       "Extracting data files:   0%|          | 0/1 [00:00<?, ?it/s]"
      ]
     },
     "metadata": {},
     "output_type": "display_data"
    },
    {
     "data": {
      "application/vnd.jupyter.widget-view+json": {
       "model_id": "4ea244f1368c429f848da4ad511444cf",
       "version_major": 2,
       "version_minor": 0
      },
      "text/plain": [
       "Generating train split: 0 examples [00:00, ? examples/s]"
      ]
     },
     "metadata": {},
     "output_type": "display_data"
    },
    {
     "name": "stdout",
     "output_type": "stream",
     "text": [
      "Dataset json downloaded and prepared to /Users/harm.devries/.cache/huggingface/datasets/loubnabnl___json/loubnabnl--the-stack-inspection-data-722a501c903adec9/0.0.0/e6070c77f18f01a5ad4551a8b7edfba20b8438b7cad4d94e6ad9378022ce4aab. Subsequent calls will reuse this data.\n"
     ]
    },
    {
     "name": "stderr",
     "output_type": "stream",
     "text": [
      "\n",
      "44it [00:00, 5633.89it/s]"
     ]
    },
    {
     "name": "stdout",
     "output_type": "stream",
     "text": [
      "267\n",
      "tex\n",
      "dtx\n"
     ]
    },
    {
     "name": "stderr",
     "output_type": "stream",
     "text": [
      "\n",
      "Using custom data configuration loubnabnl--the-stack-inspection-data-891973aacbe0c6b7\n"
     ]
    },
    {
     "name": "stdout",
     "output_type": "stream",
     "text": [
      "Downloading and preparing dataset json/loubnabnl--the-stack-inspection-data to /Users/harm.devries/.cache/huggingface/datasets/loubnabnl___json/loubnabnl--the-stack-inspection-data-891973aacbe0c6b7/0.0.0/e6070c77f18f01a5ad4551a8b7edfba20b8438b7cad4d94e6ad9378022ce4aab...\n"
     ]
    },
    {
     "data": {
      "application/vnd.jupyter.widget-view+json": {
       "model_id": "446a321802224880a98ac11d38308c78",
       "version_major": 2,
       "version_minor": 0
      },
      "text/plain": [
       "Downloading data files:   0%|          | 0/1 [00:00<?, ?it/s]"
      ]
     },
     "metadata": {},
     "output_type": "display_data"
    },
    {
     "data": {
      "application/vnd.jupyter.widget-view+json": {
       "model_id": "67ad9064af7e4cadadc16caa04c7de21",
       "version_major": 2,
       "version_minor": 0
      },
      "text/plain": [
       "Downloading data:   0%|          | 0.00/10.0M [00:00<?, ?B/s]"
      ]
     },
     "metadata": {},
     "output_type": "display_data"
    },
    {
     "data": {
      "application/vnd.jupyter.widget-view+json": {
       "model_id": "9c8e88f704ac402e97472ebfc3db7f48",
       "version_major": 2,
       "version_minor": 0
      },
      "text/plain": [
       "Extracting data files:   0%|          | 0/1 [00:00<?, ?it/s]"
      ]
     },
     "metadata": {},
     "output_type": "display_data"
    },
    {
     "data": {
      "application/vnd.jupyter.widget-view+json": {
       "model_id": "9ccc955bf1de4639bee3045ca61abc80",
       "version_major": 2,
       "version_minor": 0
      },
      "text/plain": [
       "Generating train split: 0 examples [00:00, ? examples/s]"
      ]
     },
     "metadata": {},
     "output_type": "display_data"
    },
    {
     "name": "stdout",
     "output_type": "stream",
     "text": [
      "Dataset json downloaded and prepared to /Users/harm.devries/.cache/huggingface/datasets/loubnabnl___json/loubnabnl--the-stack-inspection-data-891973aacbe0c6b7/0.0.0/e6070c77f18f01a5ad4551a8b7edfba20b8438b7cad4d94e6ad9378022ce4aab. Subsequent calls will reuse this data.\n"
     ]
    },
    {
     "name": "stderr",
     "output_type": "stream",
     "text": [
      "\n",
      "0it [00:00, ?it/s]\u001b[A\n",
      "80it [00:00, 798.90it/s]\u001b[A\n",
      "174it [00:00, 694.51it/s]\u001b[A\n"
     ]
    },
    {
     "name": "stdout",
     "output_type": "stream",
     "text": [
      "268\n",
      "tex\n",
      "aux\n"
     ]
    },
    {
     "name": "stderr",
     "output_type": "stream",
     "text": [
      "Using custom data configuration loubnabnl--the-stack-inspection-data-ef11d809bc627708\n"
     ]
    },
    {
     "name": "stdout",
     "output_type": "stream",
     "text": [
      "Downloading and preparing dataset json/loubnabnl--the-stack-inspection-data to /Users/harm.devries/.cache/huggingface/datasets/loubnabnl___json/loubnabnl--the-stack-inspection-data-ef11d809bc627708/0.0.0/e6070c77f18f01a5ad4551a8b7edfba20b8438b7cad4d94e6ad9378022ce4aab...\n"
     ]
    },
    {
     "data": {
      "application/vnd.jupyter.widget-view+json": {
       "model_id": "5f860ff311734a6bba5834e0ef97405f",
       "version_major": 2,
       "version_minor": 0
      },
      "text/plain": [
       "Downloading data files:   0%|          | 0/1 [00:00<?, ?it/s]"
      ]
     },
     "metadata": {},
     "output_type": "display_data"
    },
    {
     "data": {
      "application/vnd.jupyter.widget-view+json": {
       "model_id": "d0883abf1f1d453b90a8d0a598725990",
       "version_major": 2,
       "version_minor": 0
      },
      "text/plain": [
       "Downloading data:   0%|          | 0.00/3.44M [00:00<?, ?B/s]"
      ]
     },
     "metadata": {},
     "output_type": "display_data"
    },
    {
     "data": {
      "application/vnd.jupyter.widget-view+json": {
       "model_id": "80a6bb86284445a293d3eb1815fea1f0",
       "version_major": 2,
       "version_minor": 0
      },
      "text/plain": [
       "Extracting data files:   0%|          | 0/1 [00:00<?, ?it/s]"
      ]
     },
     "metadata": {},
     "output_type": "display_data"
    },
    {
     "data": {
      "application/vnd.jupyter.widget-view+json": {
       "model_id": "a18453048fea4f83a6293bee3b5a8169",
       "version_major": 2,
       "version_minor": 0
      },
      "text/plain": [
       "Generating train split: 0 examples [00:00, ? examples/s]"
      ]
     },
     "metadata": {},
     "output_type": "display_data"
    },
    {
     "name": "stdout",
     "output_type": "stream",
     "text": [
      "Dataset json downloaded and prepared to /Users/harm.devries/.cache/huggingface/datasets/loubnabnl___json/loubnabnl--the-stack-inspection-data-ef11d809bc627708/0.0.0/e6070c77f18f01a5ad4551a8b7edfba20b8438b7cad4d94e6ad9378022ce4aab. Subsequent calls will reuse this data.\n"
     ]
    },
    {
     "name": "stderr",
     "output_type": "stream",
     "text": [
      "\n",
      "0it [00:00, ?it/s]\u001b[A\n",
      "438it [00:00, 4001.14it/s]\u001b[A"
     ]
    },
    {
     "name": "stdout",
     "output_type": "stream",
     "text": [
      "269\n",
      "tex\n",
      "mkii\n"
     ]
    },
    {
     "name": "stderr",
     "output_type": "stream",
     "text": [
      "\n",
      "Using custom data configuration loubnabnl--the-stack-inspection-data-685741b5ef2a6418\n"
     ]
    },
    {
     "name": "stdout",
     "output_type": "stream",
     "text": [
      "Downloading and preparing dataset json/loubnabnl--the-stack-inspection-data to /Users/harm.devries/.cache/huggingface/datasets/loubnabnl___json/loubnabnl--the-stack-inspection-data-685741b5ef2a6418/0.0.0/e6070c77f18f01a5ad4551a8b7edfba20b8438b7cad4d94e6ad9378022ce4aab...\n"
     ]
    },
    {
     "data": {
      "application/vnd.jupyter.widget-view+json": {
       "model_id": "779bbbeb3c7c4942a8cf4b65efa036ef",
       "version_major": 2,
       "version_minor": 0
      },
      "text/plain": [
       "Downloading data files:   0%|          | 0/1 [00:00<?, ?it/s]"
      ]
     },
     "metadata": {},
     "output_type": "display_data"
    },
    {
     "data": {
      "application/vnd.jupyter.widget-view+json": {
       "model_id": "4018b2bc17d74ff09796ebf1057f4f1e",
       "version_major": 2,
       "version_minor": 0
      },
      "text/plain": [
       "Downloading data:   0%|          | 0.00/149k [00:00<?, ?B/s]"
      ]
     },
     "metadata": {},
     "output_type": "display_data"
    },
    {
     "data": {
      "application/vnd.jupyter.widget-view+json": {
       "model_id": "b6f8126259684dcdb0b5f27c0a97af73",
       "version_major": 2,
       "version_minor": 0
      },
      "text/plain": [
       "Extracting data files:   0%|          | 0/1 [00:00<?, ?it/s]"
      ]
     },
     "metadata": {},
     "output_type": "display_data"
    },
    {
     "data": {
      "application/vnd.jupyter.widget-view+json": {
       "model_id": "d27c1d4daaee4cd59bb9e5cea445abbd",
       "version_major": 2,
       "version_minor": 0
      },
      "text/plain": [
       "Generating train split: 0 examples [00:00, ? examples/s]"
      ]
     },
     "metadata": {},
     "output_type": "display_data"
    },
    {
     "name": "stdout",
     "output_type": "stream",
     "text": [
      "Dataset json downloaded and prepared to /Users/harm.devries/.cache/huggingface/datasets/loubnabnl___json/loubnabnl--the-stack-inspection-data-685741b5ef2a6418/0.0.0/e6070c77f18f01a5ad4551a8b7edfba20b8438b7cad4d94e6ad9378022ce4aab. Subsequent calls will reuse this data.\n"
     ]
    },
    {
     "name": "stderr",
     "output_type": "stream",
     "text": [
      "\n",
      "12it [00:00, 2641.53it/s]"
     ]
    },
    {
     "name": "stdout",
     "output_type": "stream",
     "text": [
      "270\n",
      "tex\n",
      "bbx\n"
     ]
    },
    {
     "name": "stderr",
     "output_type": "stream",
     "text": [
      "\n",
      "Using custom data configuration loubnabnl--the-stack-inspection-data-8377753d3065de7f\n"
     ]
    },
    {
     "name": "stdout",
     "output_type": "stream",
     "text": [
      "Downloading and preparing dataset json/loubnabnl--the-stack-inspection-data to /Users/harm.devries/.cache/huggingface/datasets/loubnabnl___json/loubnabnl--the-stack-inspection-data-8377753d3065de7f/0.0.0/e6070c77f18f01a5ad4551a8b7edfba20b8438b7cad4d94e6ad9378022ce4aab...\n"
     ]
    },
    {
     "data": {
      "application/vnd.jupyter.widget-view+json": {
       "model_id": "4042d5edbea04fea96c8d76e51242b4f",
       "version_major": 2,
       "version_minor": 0
      },
      "text/plain": [
       "Downloading data files:   0%|          | 0/1 [00:00<?, ?it/s]"
      ]
     },
     "metadata": {},
     "output_type": "display_data"
    },
    {
     "data": {
      "application/vnd.jupyter.widget-view+json": {
       "model_id": "08df5ae95c254baebe2d7f4c5dab330e",
       "version_major": 2,
       "version_minor": 0
      },
      "text/plain": [
       "Downloading data:   0%|          | 0.00/166k [00:00<?, ?B/s]"
      ]
     },
     "metadata": {},
     "output_type": "display_data"
    },
    {
     "data": {
      "application/vnd.jupyter.widget-view+json": {
       "model_id": "b5a17c0abc1748a0bc78a63c87c9118a",
       "version_major": 2,
       "version_minor": 0
      },
      "text/plain": [
       "Extracting data files:   0%|          | 0/1 [00:00<?, ?it/s]"
      ]
     },
     "metadata": {},
     "output_type": "display_data"
    },
    {
     "data": {
      "application/vnd.jupyter.widget-view+json": {
       "model_id": "4f07f388d2294d119ac2cc01b54c00ff",
       "version_major": 2,
       "version_minor": 0
      },
      "text/plain": [
       "Generating train split: 0 examples [00:00, ? examples/s]"
      ]
     },
     "metadata": {},
     "output_type": "display_data"
    },
    {
     "name": "stdout",
     "output_type": "stream",
     "text": [
      "Dataset json downloaded and prepared to /Users/harm.devries/.cache/huggingface/datasets/loubnabnl___json/loubnabnl--the-stack-inspection-data-8377753d3065de7f/0.0.0/e6070c77f18f01a5ad4551a8b7edfba20b8438b7cad4d94e6ad9378022ce4aab. Subsequent calls will reuse this data.\n"
     ]
    },
    {
     "name": "stderr",
     "output_type": "stream",
     "text": [
      "\n",
      "15it [00:00, 2600.42it/s]"
     ]
    },
    {
     "name": "stdout",
     "output_type": "stream",
     "text": [
      "271\n",
      "tex\n",
      "lbx\n"
     ]
    },
    {
     "name": "stderr",
     "output_type": "stream",
     "text": [
      "\n",
      "Using custom data configuration loubnabnl--the-stack-inspection-data-5e27e8318b6f5ec8\n"
     ]
    },
    {
     "name": "stdout",
     "output_type": "stream",
     "text": [
      "Downloading and preparing dataset json/loubnabnl--the-stack-inspection-data to /Users/harm.devries/.cache/huggingface/datasets/loubnabnl___json/loubnabnl--the-stack-inspection-data-5e27e8318b6f5ec8/0.0.0/e6070c77f18f01a5ad4551a8b7edfba20b8438b7cad4d94e6ad9378022ce4aab...\n"
     ]
    },
    {
     "data": {
      "application/vnd.jupyter.widget-view+json": {
       "model_id": "af92a7638ff442d296b96362399a7098",
       "version_major": 2,
       "version_minor": 0
      },
      "text/plain": [
       "Downloading data files:   0%|          | 0/1 [00:00<?, ?it/s]"
      ]
     },
     "metadata": {},
     "output_type": "display_data"
    },
    {
     "data": {
      "application/vnd.jupyter.widget-view+json": {
       "model_id": "51daf896d3224790a8729e7fbecdac8c",
       "version_major": 2,
       "version_minor": 0
      },
      "text/plain": [
       "Downloading data:   0%|          | 0.00/51.0k [00:00<?, ?B/s]"
      ]
     },
     "metadata": {},
     "output_type": "display_data"
    },
    {
     "data": {
      "application/vnd.jupyter.widget-view+json": {
       "model_id": "b39b6c953865451e9f51d6282d6ce0d5",
       "version_major": 2,
       "version_minor": 0
      },
      "text/plain": [
       "Extracting data files:   0%|          | 0/1 [00:00<?, ?it/s]"
      ]
     },
     "metadata": {},
     "output_type": "display_data"
    },
    {
     "data": {
      "application/vnd.jupyter.widget-view+json": {
       "model_id": "dca72c9ed8fe45678a890f41b9b030fc",
       "version_major": 2,
       "version_minor": 0
      },
      "text/plain": [
       "Generating train split: 0 examples [00:00, ? examples/s]"
      ]
     },
     "metadata": {},
     "output_type": "display_data"
    },
    {
     "name": "stdout",
     "output_type": "stream",
     "text": [
      "Dataset json downloaded and prepared to /Users/harm.devries/.cache/huggingface/datasets/loubnabnl___json/loubnabnl--the-stack-inspection-data-5e27e8318b6f5ec8/0.0.0/e6070c77f18f01a5ad4551a8b7edfba20b8438b7cad4d94e6ad9378022ce4aab. Subsequent calls will reuse this data.\n"
     ]
    },
    {
     "name": "stderr",
     "output_type": "stream",
     "text": [
      "\n",
      "\n",
      "2it [00:00, 1251.66it/s]"
     ]
    },
    {
     "name": "stdout",
     "output_type": "stream",
     "text": [
      "272\n",
      "tex\n",
      "cbx\n"
     ]
    },
    {
     "name": "stderr",
     "output_type": "stream",
     "text": [
      "\n",
      "Using custom data configuration loubnabnl--the-stack-inspection-data-cad30253a469d5cf\n"
     ]
    },
    {
     "name": "stdout",
     "output_type": "stream",
     "text": [
      "Downloading and preparing dataset json/loubnabnl--the-stack-inspection-data to /Users/harm.devries/.cache/huggingface/datasets/loubnabnl___json/loubnabnl--the-stack-inspection-data-cad30253a469d5cf/0.0.0/e6070c77f18f01a5ad4551a8b7edfba20b8438b7cad4d94e6ad9378022ce4aab...\n"
     ]
    },
    {
     "data": {
      "application/vnd.jupyter.widget-view+json": {
       "model_id": "b6967b0c5fca4af5a978a140f227395b",
       "version_major": 2,
       "version_minor": 0
      },
      "text/plain": [
       "Downloading data files:   0%|          | 0/1 [00:00<?, ?it/s]"
      ]
     },
     "metadata": {},
     "output_type": "display_data"
    },
    {
     "data": {
      "application/vnd.jupyter.widget-view+json": {
       "model_id": "b89c0b2a0d4d4ac7924f17e67908e9e2",
       "version_major": 2,
       "version_minor": 0
      },
      "text/plain": [
       "Downloading data:   0%|          | 0.00/32.2k [00:00<?, ?B/s]"
      ]
     },
     "metadata": {},
     "output_type": "display_data"
    },
    {
     "data": {
      "application/vnd.jupyter.widget-view+json": {
       "model_id": "bfe217b5e755486ea2720da3051351f0",
       "version_major": 2,
       "version_minor": 0
      },
      "text/plain": [
       "Extracting data files:   0%|          | 0/1 [00:00<?, ?it/s]"
      ]
     },
     "metadata": {},
     "output_type": "display_data"
    },
    {
     "data": {
      "application/vnd.jupyter.widget-view+json": {
       "model_id": "835795081d7346c7b7dc2240cbbe1df6",
       "version_major": 2,
       "version_minor": 0
      },
      "text/plain": [
       "Generating train split: 0 examples [00:00, ? examples/s]"
      ]
     },
     "metadata": {},
     "output_type": "display_data"
    },
    {
     "name": "stdout",
     "output_type": "stream",
     "text": [
      "Dataset json downloaded and prepared to /Users/harm.devries/.cache/huggingface/datasets/loubnabnl___json/loubnabnl--the-stack-inspection-data-cad30253a469d5cf/0.0.0/e6070c77f18f01a5ad4551a8b7edfba20b8438b7cad4d94e6ad9378022ce4aab. Subsequent calls will reuse this data.\n"
     ]
    },
    {
     "name": "stderr",
     "output_type": "stream",
     "text": [
      "\n",
      "\n",
      "6it [00:00, 1437.06it/s]"
     ]
    },
    {
     "name": "stdout",
     "output_type": "stream",
     "text": [
      "273\n",
      "tex\n",
      "mkiv\n"
     ]
    },
    {
     "name": "stderr",
     "output_type": "stream",
     "text": [
      "\n",
      "Using custom data configuration loubnabnl--the-stack-inspection-data-92b9b3115bbddaf5\n"
     ]
    },
    {
     "name": "stdout",
     "output_type": "stream",
     "text": [
      "Downloading and preparing dataset json/loubnabnl--the-stack-inspection-data to /Users/harm.devries/.cache/huggingface/datasets/loubnabnl___json/loubnabnl--the-stack-inspection-data-92b9b3115bbddaf5/0.0.0/e6070c77f18f01a5ad4551a8b7edfba20b8438b7cad4d94e6ad9378022ce4aab...\n"
     ]
    },
    {
     "data": {
      "application/vnd.jupyter.widget-view+json": {
       "model_id": "02824cb8de634b2680e6543c4678e1f8",
       "version_major": 2,
       "version_minor": 0
      },
      "text/plain": [
       "Downloading data files:   0%|          | 0/1 [00:00<?, ?it/s]"
      ]
     },
     "metadata": {},
     "output_type": "display_data"
    },
    {
     "data": {
      "application/vnd.jupyter.widget-view+json": {
       "model_id": "9e3c5f49c4af4bcbb2f3edc8ce22bf8a",
       "version_major": 2,
       "version_minor": 0
      },
      "text/plain": [
       "Downloading data:   0%|          | 0.00/383k [00:00<?, ?B/s]"
      ]
     },
     "metadata": {},
     "output_type": "display_data"
    },
    {
     "data": {
      "application/vnd.jupyter.widget-view+json": {
       "model_id": "f1dc42f5b95e4b3f9b612c764ec92220",
       "version_major": 2,
       "version_minor": 0
      },
      "text/plain": [
       "Extracting data files:   0%|          | 0/1 [00:00<?, ?it/s]"
      ]
     },
     "metadata": {},
     "output_type": "display_data"
    },
    {
     "data": {
      "application/vnd.jupyter.widget-view+json": {
       "model_id": "efd91d478452483c943e0a92e9262036",
       "version_major": 2,
       "version_minor": 0
      },
      "text/plain": [
       "Generating train split: 0 examples [00:00, ? examples/s]"
      ]
     },
     "metadata": {},
     "output_type": "display_data"
    },
    {
     "name": "stdout",
     "output_type": "stream",
     "text": [
      "Dataset json downloaded and prepared to /Users/harm.devries/.cache/huggingface/datasets/loubnabnl___json/loubnabnl--the-stack-inspection-data-92b9b3115bbddaf5/0.0.0/e6070c77f18f01a5ad4551a8b7edfba20b8438b7cad4d94e6ad9378022ce4aab. Subsequent calls will reuse this data.\n"
     ]
    },
    {
     "name": "stderr",
     "output_type": "stream",
     "text": [
      "\n",
      "27it [00:00, 2030.96it/s]"
     ]
    },
    {
     "name": "stdout",
     "output_type": "stream",
     "text": [
      "274\n",
      "tex\n",
      "mkvi\n"
     ]
    },
    {
     "name": "stderr",
     "output_type": "stream",
     "text": [
      "\n",
      "Using custom data configuration loubnabnl--the-stack-inspection-data-56394844dc45c9ea\n"
     ]
    },
    {
     "name": "stdout",
     "output_type": "stream",
     "text": [
      "Downloading and preparing dataset json/loubnabnl--the-stack-inspection-data to /Users/harm.devries/.cache/huggingface/datasets/loubnabnl___json/loubnabnl--the-stack-inspection-data-56394844dc45c9ea/0.0.0/e6070c77f18f01a5ad4551a8b7edfba20b8438b7cad4d94e6ad9378022ce4aab...\n"
     ]
    },
    {
     "data": {
      "application/vnd.jupyter.widget-view+json": {
       "model_id": "6fb734b0f7454f06bd1149ebfd338f76",
       "version_major": 2,
       "version_minor": 0
      },
      "text/plain": [
       "Downloading data files:   0%|          | 0/1 [00:00<?, ?it/s]"
      ]
     },
     "metadata": {},
     "output_type": "display_data"
    },
    {
     "data": {
      "application/vnd.jupyter.widget-view+json": {
       "model_id": "1146e587c20a42229f7640cd045e3625",
       "version_major": 2,
       "version_minor": 0
      },
      "text/plain": [
       "Downloading data:   0%|          | 0.00/45.8k [00:00<?, ?B/s]"
      ]
     },
     "metadata": {},
     "output_type": "display_data"
    },
    {
     "data": {
      "application/vnd.jupyter.widget-view+json": {
       "model_id": "b1d67ce0a905456098ef418d424dd605",
       "version_major": 2,
       "version_minor": 0
      },
      "text/plain": [
       "Extracting data files:   0%|          | 0/1 [00:00<?, ?it/s]"
      ]
     },
     "metadata": {},
     "output_type": "display_data"
    },
    {
     "data": {
      "application/vnd.jupyter.widget-view+json": {
       "model_id": "1c26a2b115a44892b457879c1f6f0184",
       "version_major": 2,
       "version_minor": 0
      },
      "text/plain": [
       "Generating train split: 0 examples [00:00, ? examples/s]"
      ]
     },
     "metadata": {},
     "output_type": "display_data"
    },
    {
     "name": "stdout",
     "output_type": "stream",
     "text": [
      "Dataset json downloaded and prepared to /Users/harm.devries/.cache/huggingface/datasets/loubnabnl___json/loubnabnl--the-stack-inspection-data-56394844dc45c9ea/0.0.0/e6070c77f18f01a5ad4551a8b7edfba20b8438b7cad4d94e6ad9378022ce4aab. Subsequent calls will reuse this data.\n"
     ]
    },
    {
     "name": "stderr",
     "output_type": "stream",
     "text": [
      "\n",
      "3it [00:00, 1075.55it/s]"
     ]
    },
    {
     "name": "stdout",
     "output_type": "stream",
     "text": [
      "275\n",
      "thrift\n",
      "thrift\n"
     ]
    },
    {
     "name": "stderr",
     "output_type": "stream",
     "text": [
      "\n",
      "Using custom data configuration loubnabnl--the-stack-inspection-data-eee87030fc5be7ba\n"
     ]
    },
    {
     "name": "stdout",
     "output_type": "stream",
     "text": [
      "Downloading and preparing dataset json/loubnabnl--the-stack-inspection-data to /Users/harm.devries/.cache/huggingface/datasets/loubnabnl___json/loubnabnl--the-stack-inspection-data-eee87030fc5be7ba/0.0.0/e6070c77f18f01a5ad4551a8b7edfba20b8438b7cad4d94e6ad9378022ce4aab...\n"
     ]
    },
    {
     "data": {
      "application/vnd.jupyter.widget-view+json": {
       "model_id": "b29f8d9c523e4dfeb771b46fa889a0e8",
       "version_major": 2,
       "version_minor": 0
      },
      "text/plain": [
       "Downloading data files:   0%|          | 0/1 [00:00<?, ?it/s]"
      ]
     },
     "metadata": {},
     "output_type": "display_data"
    },
    {
     "data": {
      "application/vnd.jupyter.widget-view+json": {
       "model_id": "95f798ed010145ad85636075003c3808",
       "version_major": 2,
       "version_minor": 0
      },
      "text/plain": [
       "Downloading data:   0%|          | 0.00/7.10M [00:00<?, ?B/s]"
      ]
     },
     "metadata": {},
     "output_type": "display_data"
    },
    {
     "data": {
      "application/vnd.jupyter.widget-view+json": {
       "model_id": "89ec961f13f64a2c8d9cedb161bdb691",
       "version_major": 2,
       "version_minor": 0
      },
      "text/plain": [
       "Extracting data files:   0%|          | 0/1 [00:00<?, ?it/s]"
      ]
     },
     "metadata": {},
     "output_type": "display_data"
    },
    {
     "data": {
      "application/vnd.jupyter.widget-view+json": {
       "model_id": "867ba66f5ee9433b9f2efdc946b2d68c",
       "version_major": 2,
       "version_minor": 0
      },
      "text/plain": [
       "Generating train split: 0 examples [00:00, ? examples/s]"
      ]
     },
     "metadata": {},
     "output_type": "display_data"
    },
    {
     "name": "stdout",
     "output_type": "stream",
     "text": [
      "Dataset json downloaded and prepared to /Users/harm.devries/.cache/huggingface/datasets/loubnabnl___json/loubnabnl--the-stack-inspection-data-eee87030fc5be7ba/0.0.0/e6070c77f18f01a5ad4551a8b7edfba20b8438b7cad4d94e6ad9378022ce4aab. Subsequent calls will reuse this data.\n"
     ]
    },
    {
     "name": "stderr",
     "output_type": "stream",
     "text": [
      "1000it [00:00, 1178.05it/s]\n"
     ]
    },
    {
     "name": "stdout",
     "output_type": "stream",
     "text": [
      "276\n",
      "typescript\n",
      "ts\n"
     ]
    },
    {
     "name": "stderr",
     "output_type": "stream",
     "text": [
      "Using custom data configuration loubnabnl--the-stack-inspection-data-e95fc70fbf1b3d1b\n"
     ]
    },
    {
     "name": "stdout",
     "output_type": "stream",
     "text": [
      "Downloading and preparing dataset json/loubnabnl--the-stack-inspection-data to /Users/harm.devries/.cache/huggingface/datasets/loubnabnl___json/loubnabnl--the-stack-inspection-data-e95fc70fbf1b3d1b/0.0.0/e6070c77f18f01a5ad4551a8b7edfba20b8438b7cad4d94e6ad9378022ce4aab...\n"
     ]
    },
    {
     "data": {
      "application/vnd.jupyter.widget-view+json": {
       "model_id": "c28d2b3cd1394cd78655ec174d1afa52",
       "version_major": 2,
       "version_minor": 0
      },
      "text/plain": [
       "Downloading data files:   0%|          | 0/1 [00:00<?, ?it/s]"
      ]
     },
     "metadata": {},
     "output_type": "display_data"
    },
    {
     "data": {
      "application/vnd.jupyter.widget-view+json": {
       "model_id": "7c6e6b7325114788b0c399b08360a3e6",
       "version_major": 2,
       "version_minor": 0
      },
      "text/plain": [
       "Downloading data:   0%|          | 0.00/8.77M [00:00<?, ?B/s]"
      ]
     },
     "metadata": {},
     "output_type": "display_data"
    },
    {
     "data": {
      "application/vnd.jupyter.widget-view+json": {
       "model_id": "b90ef6d53bb446f096a4da47159af3fe",
       "version_major": 2,
       "version_minor": 0
      },
      "text/plain": [
       "Extracting data files:   0%|          | 0/1 [00:00<?, ?it/s]"
      ]
     },
     "metadata": {},
     "output_type": "display_data"
    },
    {
     "data": {
      "application/vnd.jupyter.widget-view+json": {
       "model_id": "5db3ec7fadcd4a2fbca937604cc1454b",
       "version_major": 2,
       "version_minor": 0
      },
      "text/plain": [
       "Generating train split: 0 examples [00:00, ? examples/s]"
      ]
     },
     "metadata": {},
     "output_type": "display_data"
    },
    {
     "name": "stdout",
     "output_type": "stream",
     "text": [
      "Dataset json downloaded and prepared to /Users/harm.devries/.cache/huggingface/datasets/loubnabnl___json/loubnabnl--the-stack-inspection-data-e95fc70fbf1b3d1b/0.0.0/e6070c77f18f01a5ad4551a8b7edfba20b8438b7cad4d94e6ad9378022ce4aab. Subsequent calls will reuse this data.\n"
     ]
    },
    {
     "name": "stderr",
     "output_type": "stream",
     "text": [
      "\n",
      "0it [00:00, ?it/s]\u001b[A\n",
      "426it [00:00, 4116.70it/s]\u001b[A\n",
      "1000it [00:00, 3858.93it/s][A\n"
     ]
    },
    {
     "name": "stdout",
     "output_type": "stream",
     "text": [
      "277\n",
      "typescript\n",
      "tsx\n"
     ]
    },
    {
     "name": "stderr",
     "output_type": "stream",
     "text": [
      "Using custom data configuration loubnabnl--the-stack-inspection-data-62edbec6f0dcc1e3\n"
     ]
    },
    {
     "name": "stdout",
     "output_type": "stream",
     "text": [
      "Downloading and preparing dataset json/loubnabnl--the-stack-inspection-data to /Users/harm.devries/.cache/huggingface/datasets/loubnabnl___json/loubnabnl--the-stack-inspection-data-62edbec6f0dcc1e3/0.0.0/e6070c77f18f01a5ad4551a8b7edfba20b8438b7cad4d94e6ad9378022ce4aab...\n"
     ]
    },
    {
     "data": {
      "application/vnd.jupyter.widget-view+json": {
       "model_id": "24fceb3f97154684bbac4876d8ed57f8",
       "version_major": 2,
       "version_minor": 0
      },
      "text/plain": [
       "Downloading data files:   0%|          | 0/1 [00:00<?, ?it/s]"
      ]
     },
     "metadata": {},
     "output_type": "display_data"
    },
    {
     "data": {
      "application/vnd.jupyter.widget-view+json": {
       "model_id": "98c764f95d6d46eaa9edd07c8d3f2d8b",
       "version_major": 2,
       "version_minor": 0
      },
      "text/plain": [
       "Downloading data:   0%|          | 0.00/3.95M [00:00<?, ?B/s]"
      ]
     },
     "metadata": {},
     "output_type": "display_data"
    },
    {
     "data": {
      "application/vnd.jupyter.widget-view+json": {
       "model_id": "7ebd406e15794fc2b4e493c9633ea160",
       "version_major": 2,
       "version_minor": 0
      },
      "text/plain": [
       "Extracting data files:   0%|          | 0/1 [00:00<?, ?it/s]"
      ]
     },
     "metadata": {},
     "output_type": "display_data"
    },
    {
     "data": {
      "application/vnd.jupyter.widget-view+json": {
       "model_id": "1b018c1b0c0f470bb036295382c741b5",
       "version_major": 2,
       "version_minor": 0
      },
      "text/plain": [
       "Generating train split: 0 examples [00:00, ? examples/s]"
      ]
     },
     "metadata": {},
     "output_type": "display_data"
    },
    {
     "name": "stdout",
     "output_type": "stream",
     "text": [
      "Dataset json downloaded and prepared to /Users/harm.devries/.cache/huggingface/datasets/loubnabnl___json/loubnabnl--the-stack-inspection-data-62edbec6f0dcc1e3/0.0.0/e6070c77f18f01a5ad4551a8b7edfba20b8438b7cad4d94e6ad9378022ce4aab. Subsequent calls will reuse this data.\n"
     ]
    },
    {
     "name": "stderr",
     "output_type": "stream",
     "text": [
      "\n",
      "0it [00:00, ?it/s]\u001b[A\n",
      "1000it [00:00, 5705.55it/s][A"
     ]
    },
    {
     "name": "stdout",
     "output_type": "stream",
     "text": [
      "278\n",
      "verilog\n",
      "veo\n"
     ]
    },
    {
     "name": "stderr",
     "output_type": "stream",
     "text": [
      "\n",
      "Using custom data configuration loubnabnl--the-stack-inspection-data-2f8bcb11c5760e91\n"
     ]
    },
    {
     "name": "stdout",
     "output_type": "stream",
     "text": [
      "Downloading and preparing dataset json/loubnabnl--the-stack-inspection-data to /Users/harm.devries/.cache/huggingface/datasets/loubnabnl___json/loubnabnl--the-stack-inspection-data-2f8bcb11c5760e91/0.0.0/e6070c77f18f01a5ad4551a8b7edfba20b8438b7cad4d94e6ad9378022ce4aab...\n"
     ]
    },
    {
     "data": {
      "application/vnd.jupyter.widget-view+json": {
       "model_id": "f08181d0377a4ee28bb2cfaae60aabde",
       "version_major": 2,
       "version_minor": 0
      },
      "text/plain": [
       "Downloading data files:   0%|          | 0/1 [00:00<?, ?it/s]"
      ]
     },
     "metadata": {},
     "output_type": "display_data"
    },
    {
     "data": {
      "application/vnd.jupyter.widget-view+json": {
       "model_id": "4117b38632434bf2af9a4d68fc5912c1",
       "version_major": 2,
       "version_minor": 0
      },
      "text/plain": [
       "Downloading data:   0%|          | 0.00/4.79M [00:00<?, ?B/s]"
      ]
     },
     "metadata": {},
     "output_type": "display_data"
    },
    {
     "data": {
      "application/vnd.jupyter.widget-view+json": {
       "model_id": "4813b467680d45338502eefc1eae5035",
       "version_major": 2,
       "version_minor": 0
      },
      "text/plain": [
       "Extracting data files:   0%|          | 0/1 [00:00<?, ?it/s]"
      ]
     },
     "metadata": {},
     "output_type": "display_data"
    },
    {
     "data": {
      "application/vnd.jupyter.widget-view+json": {
       "model_id": "64256cb518e14783af8f6eb98a08c330",
       "version_major": 2,
       "version_minor": 0
      },
      "text/plain": [
       "Generating train split: 0 examples [00:00, ? examples/s]"
      ]
     },
     "metadata": {},
     "output_type": "display_data"
    },
    {
     "name": "stdout",
     "output_type": "stream",
     "text": [
      "Dataset json downloaded and prepared to /Users/harm.devries/.cache/huggingface/datasets/loubnabnl___json/loubnabnl--the-stack-inspection-data-2f8bcb11c5760e91/0.0.0/e6070c77f18f01a5ad4551a8b7edfba20b8438b7cad4d94e6ad9378022ce4aab. Subsequent calls will reuse this data.\n"
     ]
    },
    {
     "name": "stderr",
     "output_type": "stream",
     "text": [
      "\n",
      "0it [00:00, ?it/s]\u001b[A\n",
      "444it [00:00, 4437.21it/s]\u001b[A\n",
      "1000it [00:00, 4542.13it/s][A\n"
     ]
    },
    {
     "name": "stdout",
     "output_type": "stream",
     "text": [
      "279\n",
      "vhdl\n",
      "vhd\n"
     ]
    },
    {
     "name": "stderr",
     "output_type": "stream",
     "text": [
      "Using custom data configuration loubnabnl--the-stack-inspection-data-8ed88fae1272495b\n"
     ]
    },
    {
     "name": "stdout",
     "output_type": "stream",
     "text": [
      "Downloading and preparing dataset json/loubnabnl--the-stack-inspection-data to /Users/harm.devries/.cache/huggingface/datasets/loubnabnl___json/loubnabnl--the-stack-inspection-data-8ed88fae1272495b/0.0.0/e6070c77f18f01a5ad4551a8b7edfba20b8438b7cad4d94e6ad9378022ce4aab...\n"
     ]
    },
    {
     "data": {
      "application/vnd.jupyter.widget-view+json": {
       "model_id": "0dd9ec7b1dc0484494fc9df42559ed1b",
       "version_major": 2,
       "version_minor": 0
      },
      "text/plain": [
       "Downloading data files:   0%|          | 0/1 [00:00<?, ?it/s]"
      ]
     },
     "metadata": {},
     "output_type": "display_data"
    },
    {
     "data": {
      "application/vnd.jupyter.widget-view+json": {
       "model_id": "41c7aaee959e4c66a9fb29eb9e87b4ee",
       "version_major": 2,
       "version_minor": 0
      },
      "text/plain": [
       "Downloading data:   0%|          | 0.00/13.6M [00:00<?, ?B/s]"
      ]
     },
     "metadata": {},
     "output_type": "display_data"
    },
    {
     "data": {
      "application/vnd.jupyter.widget-view+json": {
       "model_id": "79cff6809afc49b4be2a6145c601c508",
       "version_major": 2,
       "version_minor": 0
      },
      "text/plain": [
       "Extracting data files:   0%|          | 0/1 [00:00<?, ?it/s]"
      ]
     },
     "metadata": {},
     "output_type": "display_data"
    },
    {
     "data": {
      "application/vnd.jupyter.widget-view+json": {
       "model_id": "29c397f4d3bc465b83cb7a0448193c3f",
       "version_major": 2,
       "version_minor": 0
      },
      "text/plain": [
       "Generating train split: 0 examples [00:00, ? examples/s]"
      ]
     },
     "metadata": {},
     "output_type": "display_data"
    },
    {
     "name": "stdout",
     "output_type": "stream",
     "text": [
      "Dataset json downloaded and prepared to /Users/harm.devries/.cache/huggingface/datasets/loubnabnl___json/loubnabnl--the-stack-inspection-data-8ed88fae1272495b/0.0.0/e6070c77f18f01a5ad4551a8b7edfba20b8438b7cad4d94e6ad9378022ce4aab. Subsequent calls will reuse this data.\n"
     ]
    },
    {
     "name": "stderr",
     "output_type": "stream",
     "text": [
      "1000it [00:00, 2350.33it/s]\n"
     ]
    },
    {
     "name": "stdout",
     "output_type": "stream",
     "text": [
      "280\n",
      "vhdl\n",
      "vhdl\n"
     ]
    },
    {
     "name": "stderr",
     "output_type": "stream",
     "text": [
      "Using custom data configuration loubnabnl--the-stack-inspection-data-7db44dd196064a35\n"
     ]
    },
    {
     "name": "stdout",
     "output_type": "stream",
     "text": [
      "Downloading and preparing dataset json/loubnabnl--the-stack-inspection-data to /Users/harm.devries/.cache/huggingface/datasets/loubnabnl___json/loubnabnl--the-stack-inspection-data-7db44dd196064a35/0.0.0/e6070c77f18f01a5ad4551a8b7edfba20b8438b7cad4d94e6ad9378022ce4aab...\n"
     ]
    },
    {
     "data": {
      "application/vnd.jupyter.widget-view+json": {
       "model_id": "d35228715edb412ab88a7ee272abfdac",
       "version_major": 2,
       "version_minor": 0
      },
      "text/plain": [
       "Downloading data files:   0%|          | 0/1 [00:00<?, ?it/s]"
      ]
     },
     "metadata": {},
     "output_type": "display_data"
    },
    {
     "data": {
      "application/vnd.jupyter.widget-view+json": {
       "model_id": "02a6720b0edc4960aa959be2f5cd4aa2",
       "version_major": 2,
       "version_minor": 0
      },
      "text/plain": [
       "Downloading data:   0%|          | 0.00/82.6M [00:00<?, ?B/s]"
      ]
     },
     "metadata": {},
     "output_type": "display_data"
    },
    {
     "data": {
      "application/vnd.jupyter.widget-view+json": {
       "model_id": "6a3daa82ff20492284617aa8d5b9c8e7",
       "version_major": 2,
       "version_minor": 0
      },
      "text/plain": [
       "Extracting data files:   0%|          | 0/1 [00:00<?, ?it/s]"
      ]
     },
     "metadata": {},
     "output_type": "display_data"
    },
    {
     "data": {
      "application/vnd.jupyter.widget-view+json": {
       "model_id": "623dabc3e3e44fa8992e52d0ec3912d4",
       "version_major": 2,
       "version_minor": 0
      },
      "text/plain": [
       "Generating train split: 0 examples [00:00, ? examples/s]"
      ]
     },
     "metadata": {},
     "output_type": "display_data"
    },
    {
     "name": "stdout",
     "output_type": "stream",
     "text": [
      "Dataset json downloaded and prepared to /Users/harm.devries/.cache/huggingface/datasets/loubnabnl___json/loubnabnl--the-stack-inspection-data-7db44dd196064a35/0.0.0/e6070c77f18f01a5ad4551a8b7edfba20b8438b7cad4d94e6ad9378022ce4aab. Subsequent calls will reuse this data.\n"
     ]
    },
    {
     "name": "stderr",
     "output_type": "stream",
     "text": [
      "1000it [00:01, 503.71it/s]\n"
     ]
    },
    {
     "name": "stdout",
     "output_type": "stream",
     "text": [
      "281\n",
      "vhdl\n",
      "vho\n"
     ]
    },
    {
     "name": "stderr",
     "output_type": "stream",
     "text": [
      "Using custom data configuration loubnabnl--the-stack-inspection-data-87f58e8edf455800\n"
     ]
    },
    {
     "name": "stdout",
     "output_type": "stream",
     "text": [
      "Downloading and preparing dataset json/loubnabnl--the-stack-inspection-data to /Users/harm.devries/.cache/huggingface/datasets/loubnabnl___json/loubnabnl--the-stack-inspection-data-87f58e8edf455800/0.0.0/e6070c77f18f01a5ad4551a8b7edfba20b8438b7cad4d94e6ad9378022ce4aab...\n"
     ]
    },
    {
     "data": {
      "application/vnd.jupyter.widget-view+json": {
       "model_id": "db036d640c694bca893cfad3581c59d7",
       "version_major": 2,
       "version_minor": 0
      },
      "text/plain": [
       "Downloading data files:   0%|          | 0/1 [00:00<?, ?it/s]"
      ]
     },
     "metadata": {},
     "output_type": "display_data"
    },
    {
     "data": {
      "application/vnd.jupyter.widget-view+json": {
       "model_id": "c3d85cbab57a4d6ab6de93b53954b7ab",
       "version_major": 2,
       "version_minor": 0
      },
      "text/plain": [
       "Downloading data:   0%|          | 0.00/9.21M [00:00<?, ?B/s]"
      ]
     },
     "metadata": {},
     "output_type": "display_data"
    },
    {
     "data": {
      "application/vnd.jupyter.widget-view+json": {
       "model_id": "19e65233331c4ff2abeb3035bd906e48",
       "version_major": 2,
       "version_minor": 0
      },
      "text/plain": [
       "Extracting data files:   0%|          | 0/1 [00:00<?, ?it/s]"
      ]
     },
     "metadata": {},
     "output_type": "display_data"
    },
    {
     "data": {
      "application/vnd.jupyter.widget-view+json": {
       "model_id": "d3085adb25c34b03b78be9dcf837c98f",
       "version_major": 2,
       "version_minor": 0
      },
      "text/plain": [
       "Generating train split: 0 examples [00:00, ? examples/s]"
      ]
     },
     "metadata": {},
     "output_type": "display_data"
    },
    {
     "name": "stdout",
     "output_type": "stream",
     "text": [
      "Dataset json downloaded and prepared to /Users/harm.devries/.cache/huggingface/datasets/loubnabnl___json/loubnabnl--the-stack-inspection-data-87f58e8edf455800/0.0.0/e6070c77f18f01a5ad4551a8b7edfba20b8438b7cad4d94e6ad9378022ce4aab. Subsequent calls will reuse this data.\n"
     ]
    },
    {
     "name": "stderr",
     "output_type": "stream",
     "text": [
      "\n",
      "0it [00:00, ?it/s]\u001b[A\n",
      "121it [00:00, 1120.14it/s]\u001b[A\n",
      "309it [00:00, 1226.57it/s]\u001b[A\n"
     ]
    },
    {
     "name": "stdout",
     "output_type": "stream",
     "text": [
      "282\n",
      "vhdl\n",
      "vhi\n"
     ]
    },
    {
     "name": "stderr",
     "output_type": "stream",
     "text": [
      "Using custom data configuration loubnabnl--the-stack-inspection-data-3ed2cc8f189378c1\n"
     ]
    },
    {
     "name": "stdout",
     "output_type": "stream",
     "text": [
      "Downloading and preparing dataset json/loubnabnl--the-stack-inspection-data to /Users/harm.devries/.cache/huggingface/datasets/loubnabnl___json/loubnabnl--the-stack-inspection-data-3ed2cc8f189378c1/0.0.0/e6070c77f18f01a5ad4551a8b7edfba20b8438b7cad4d94e6ad9378022ce4aab...\n"
     ]
    },
    {
     "data": {
      "application/vnd.jupyter.widget-view+json": {
       "model_id": "c55ed9162edf45b4b86ea86b1a59f9df",
       "version_major": 2,
       "version_minor": 0
      },
      "text/plain": [
       "Downloading data files:   0%|          | 0/1 [00:00<?, ?it/s]"
      ]
     },
     "metadata": {},
     "output_type": "display_data"
    },
    {
     "data": {
      "application/vnd.jupyter.widget-view+json": {
       "model_id": "b23dbfbee34d428cb645a71005b92867",
       "version_major": 2,
       "version_minor": 0
      },
      "text/plain": [
       "Downloading data:   0%|          | 0.00/562k [00:00<?, ?B/s]"
      ]
     },
     "metadata": {},
     "output_type": "display_data"
    },
    {
     "data": {
      "application/vnd.jupyter.widget-view+json": {
       "model_id": "a1e701c7cd5445008903d280b9bc8cb7",
       "version_major": 2,
       "version_minor": 0
      },
      "text/plain": [
       "Extracting data files:   0%|          | 0/1 [00:00<?, ?it/s]"
      ]
     },
     "metadata": {},
     "output_type": "display_data"
    },
    {
     "data": {
      "application/vnd.jupyter.widget-view+json": {
       "model_id": "f7540054284d46928311ddfc4c7a3a39",
       "version_major": 2,
       "version_minor": 0
      },
      "text/plain": [
       "Generating train split: 0 examples [00:00, ? examples/s]"
      ]
     },
     "metadata": {},
     "output_type": "display_data"
    },
    {
     "name": "stdout",
     "output_type": "stream",
     "text": [
      "Dataset json downloaded and prepared to /Users/harm.devries/.cache/huggingface/datasets/loubnabnl___json/loubnabnl--the-stack-inspection-data-3ed2cc8f189378c1/0.0.0/e6070c77f18f01a5ad4551a8b7edfba20b8438b7cad4d94e6ad9378022ce4aab. Subsequent calls will reuse this data.\n"
     ]
    },
    {
     "name": "stderr",
     "output_type": "stream",
     "text": [
      "\n",
      "17it [00:00, 967.73it/s]"
     ]
    },
    {
     "name": "stdout",
     "output_type": "stream",
     "text": [
      "283\n",
      "vhdl\n",
      "vht\n"
     ]
    },
    {
     "name": "stderr",
     "output_type": "stream",
     "text": [
      "\n",
      "Using custom data configuration loubnabnl--the-stack-inspection-data-51122b435a49333f\n"
     ]
    },
    {
     "name": "stdout",
     "output_type": "stream",
     "text": [
      "Downloading and preparing dataset json/loubnabnl--the-stack-inspection-data to /Users/harm.devries/.cache/huggingface/datasets/loubnabnl___json/loubnabnl--the-stack-inspection-data-51122b435a49333f/0.0.0/e6070c77f18f01a5ad4551a8b7edfba20b8438b7cad4d94e6ad9378022ce4aab...\n"
     ]
    },
    {
     "data": {
      "application/vnd.jupyter.widget-view+json": {
       "model_id": "38e013ee5e194d70903a984c5b28665a",
       "version_major": 2,
       "version_minor": 0
      },
      "text/plain": [
       "Downloading data files:   0%|          | 0/1 [00:00<?, ?it/s]"
      ]
     },
     "metadata": {},
     "output_type": "display_data"
    },
    {
     "data": {
      "application/vnd.jupyter.widget-view+json": {
       "model_id": "97d6890a968e4bbe94e7def36995fb4e",
       "version_major": 2,
       "version_minor": 0
      },
      "text/plain": [
       "Downloading data:   0%|          | 0.00/513k [00:00<?, ?B/s]"
      ]
     },
     "metadata": {},
     "output_type": "display_data"
    },
    {
     "data": {
      "application/vnd.jupyter.widget-view+json": {
       "model_id": "40ee946c983747fb8df58615f534b704",
       "version_major": 2,
       "version_minor": 0
      },
      "text/plain": [
       "Extracting data files:   0%|          | 0/1 [00:00<?, ?it/s]"
      ]
     },
     "metadata": {},
     "output_type": "display_data"
    },
    {
     "data": {
      "application/vnd.jupyter.widget-view+json": {
       "model_id": "2908768b9a1f4c98b3208c9b884188c5",
       "version_major": 2,
       "version_minor": 0
      },
      "text/plain": [
       "Generating train split: 0 examples [00:00, ? examples/s]"
      ]
     },
     "metadata": {},
     "output_type": "display_data"
    },
    {
     "name": "stdout",
     "output_type": "stream",
     "text": [
      "Dataset json downloaded and prepared to /Users/harm.devries/.cache/huggingface/datasets/loubnabnl___json/loubnabnl--the-stack-inspection-data-51122b435a49333f/0.0.0/e6070c77f18f01a5ad4551a8b7edfba20b8438b7cad4d94e6ad9378022ce4aab. Subsequent calls will reuse this data.\n"
     ]
    },
    {
     "name": "stderr",
     "output_type": "stream",
     "text": [
      "\n",
      "75it [00:00, 3931.23it/s]"
     ]
    },
    {
     "name": "stdout",
     "output_type": "stream",
     "text": [
      "284\n",
      "vhdl\n",
      "vhf\n"
     ]
    },
    {
     "name": "stderr",
     "output_type": "stream",
     "text": [
      "\n",
      "Using custom data configuration loubnabnl--the-stack-inspection-data-70dd24d57b7ddac6\n"
     ]
    },
    {
     "name": "stdout",
     "output_type": "stream",
     "text": [
      "Downloading and preparing dataset json/loubnabnl--the-stack-inspection-data to /Users/harm.devries/.cache/huggingface/datasets/loubnabnl___json/loubnabnl--the-stack-inspection-data-70dd24d57b7ddac6/0.0.0/e6070c77f18f01a5ad4551a8b7edfba20b8438b7cad4d94e6ad9378022ce4aab...\n"
     ]
    },
    {
     "data": {
      "application/vnd.jupyter.widget-view+json": {
       "model_id": "ef41f5e847ae490eb75681636d9269d3",
       "version_major": 2,
       "version_minor": 0
      },
      "text/plain": [
       "Downloading data files:   0%|          | 0/1 [00:00<?, ?it/s]"
      ]
     },
     "metadata": {},
     "output_type": "display_data"
    },
    {
     "data": {
      "application/vnd.jupyter.widget-view+json": {
       "model_id": "017641db63b449b8ba23e41c4f979c1e",
       "version_major": 2,
       "version_minor": 0
      },
      "text/plain": [
       "Downloading data:   0%|          | 0.00/577k [00:00<?, ?B/s]"
      ]
     },
     "metadata": {},
     "output_type": "display_data"
    },
    {
     "data": {
      "application/vnd.jupyter.widget-view+json": {
       "model_id": "f5d60fbf420241a8826221274114a563",
       "version_major": 2,
       "version_minor": 0
      },
      "text/plain": [
       "Extracting data files:   0%|          | 0/1 [00:00<?, ?it/s]"
      ]
     },
     "metadata": {},
     "output_type": "display_data"
    },
    {
     "data": {
      "application/vnd.jupyter.widget-view+json": {
       "model_id": "d6fbdac7d4634f18b9162512f2011236",
       "version_major": 2,
       "version_minor": 0
      },
      "text/plain": [
       "Generating train split: 0 examples [00:00, ? examples/s]"
      ]
     },
     "metadata": {},
     "output_type": "display_data"
    },
    {
     "name": "stdout",
     "output_type": "stream",
     "text": [
      "Dataset json downloaded and prepared to /Users/harm.devries/.cache/huggingface/datasets/loubnabnl___json/loubnabnl--the-stack-inspection-data-70dd24d57b7ddac6/0.0.0/e6070c77f18f01a5ad4551a8b7edfba20b8438b7cad4d94e6ad9378022ce4aab. Subsequent calls will reuse this data.\n"
     ]
    },
    {
     "name": "stderr",
     "output_type": "stream",
     "text": [
      "\n",
      "33it [00:00, 1808.22it/s]"
     ]
    },
    {
     "name": "stdout",
     "output_type": "stream",
     "text": [
      "285\n",
      "vhdl\n",
      "vhw\n"
     ]
    },
    {
     "name": "stderr",
     "output_type": "stream",
     "text": [
      "\n",
      "Using custom data configuration loubnabnl--the-stack-inspection-data-8c46f54bac998e3a\n"
     ]
    },
    {
     "name": "stdout",
     "output_type": "stream",
     "text": [
      "Downloading and preparing dataset json/loubnabnl--the-stack-inspection-data to /Users/harm.devries/.cache/huggingface/datasets/loubnabnl___json/loubnabnl--the-stack-inspection-data-8c46f54bac998e3a/0.0.0/e6070c77f18f01a5ad4551a8b7edfba20b8438b7cad4d94e6ad9378022ce4aab...\n"
     ]
    },
    {
     "data": {
      "application/vnd.jupyter.widget-view+json": {
       "model_id": "d19a110c6c164b31924d03dc74f9e8d7",
       "version_major": 2,
       "version_minor": 0
      },
      "text/plain": [
       "Downloading data files:   0%|          | 0/1 [00:00<?, ?it/s]"
      ]
     },
     "metadata": {},
     "output_type": "display_data"
    },
    {
     "data": {
      "application/vnd.jupyter.widget-view+json": {
       "model_id": "5887108b5e9a4ff887113daf1145ea15",
       "version_major": 2,
       "version_minor": 0
      },
      "text/plain": [
       "Downloading data:   0%|          | 0.00/29.9k [00:00<?, ?B/s]"
      ]
     },
     "metadata": {},
     "output_type": "display_data"
    },
    {
     "data": {
      "application/vnd.jupyter.widget-view+json": {
       "model_id": "c1984503a3954a6b912f823f8035666b",
       "version_major": 2,
       "version_minor": 0
      },
      "text/plain": [
       "Extracting data files:   0%|          | 0/1 [00:00<?, ?it/s]"
      ]
     },
     "metadata": {},
     "output_type": "display_data"
    },
    {
     "data": {
      "application/vnd.jupyter.widget-view+json": {
       "model_id": "525708b25db044b99876919b79a6678d",
       "version_major": 2,
       "version_minor": 0
      },
      "text/plain": [
       "Generating train split: 0 examples [00:00, ? examples/s]"
      ]
     },
     "metadata": {},
     "output_type": "display_data"
    },
    {
     "name": "stdout",
     "output_type": "stream",
     "text": [
      "Dataset json downloaded and prepared to /Users/harm.devries/.cache/huggingface/datasets/loubnabnl___json/loubnabnl--the-stack-inspection-data-8c46f54bac998e3a/0.0.0/e6070c77f18f01a5ad4551a8b7edfba20b8438b7cad4d94e6ad9378022ce4aab. Subsequent calls will reuse this data.\n"
     ]
    },
    {
     "name": "stderr",
     "output_type": "stream",
     "text": [
      "\n",
      "5it [00:00, 3609.56it/s]"
     ]
    },
    {
     "name": "stdout",
     "output_type": "stream",
     "text": [
      "286\n",
      "visual-basic\n",
      "vb\n"
     ]
    },
    {
     "name": "stderr",
     "output_type": "stream",
     "text": [
      "\n",
      "Using custom data configuration loubnabnl--the-stack-inspection-data-5762789ee92c989a\n"
     ]
    },
    {
     "name": "stdout",
     "output_type": "stream",
     "text": [
      "Downloading and preparing dataset json/loubnabnl--the-stack-inspection-data to /Users/harm.devries/.cache/huggingface/datasets/loubnabnl___json/loubnabnl--the-stack-inspection-data-5762789ee92c989a/0.0.0/e6070c77f18f01a5ad4551a8b7edfba20b8438b7cad4d94e6ad9378022ce4aab...\n"
     ]
    },
    {
     "data": {
      "application/vnd.jupyter.widget-view+json": {
       "model_id": "406eb34386304bc8bf65ce3215e68919",
       "version_major": 2,
       "version_minor": 0
      },
      "text/plain": [
       "Downloading data files:   0%|          | 0/1 [00:00<?, ?it/s]"
      ]
     },
     "metadata": {},
     "output_type": "display_data"
    },
    {
     "data": {
      "application/vnd.jupyter.widget-view+json": {
       "model_id": "f9e1f281ed0e40e9888d6d699d0b897b",
       "version_major": 2,
       "version_minor": 0
      },
      "text/plain": [
       "Downloading data:   0%|          | 0.00/10.7M [00:00<?, ?B/s]"
      ]
     },
     "metadata": {},
     "output_type": "display_data"
    },
    {
     "data": {
      "application/vnd.jupyter.widget-view+json": {
       "model_id": "32ef2a64d02b4e098c2dcfb9d2093bf0",
       "version_major": 2,
       "version_minor": 0
      },
      "text/plain": [
       "Extracting data files:   0%|          | 0/1 [00:00<?, ?it/s]"
      ]
     },
     "metadata": {},
     "output_type": "display_data"
    },
    {
     "data": {
      "application/vnd.jupyter.widget-view+json": {
       "model_id": "65e132b9520d4fa9ba489422c79caec9",
       "version_major": 2,
       "version_minor": 0
      },
      "text/plain": [
       "Generating train split: 0 examples [00:00, ? examples/s]"
      ]
     },
     "metadata": {},
     "output_type": "display_data"
    },
    {
     "name": "stdout",
     "output_type": "stream",
     "text": [
      "Dataset json downloaded and prepared to /Users/harm.devries/.cache/huggingface/datasets/loubnabnl___json/loubnabnl--the-stack-inspection-data-5762789ee92c989a/0.0.0/e6070c77f18f01a5ad4551a8b7edfba20b8438b7cad4d94e6ad9378022ce4aab. Subsequent calls will reuse this data.\n"
     ]
    },
    {
     "name": "stderr",
     "output_type": "stream",
     "text": [
      "1000it [00:00, 3056.80it/s]\n"
     ]
    },
    {
     "name": "stdout",
     "output_type": "stream",
     "text": [
      "287\n",
      "visual-basic\n",
      "frm\n"
     ]
    },
    {
     "name": "stderr",
     "output_type": "stream",
     "text": [
      "Using custom data configuration loubnabnl--the-stack-inspection-data-4668c990a58e432d\n"
     ]
    },
    {
     "name": "stdout",
     "output_type": "stream",
     "text": [
      "Downloading and preparing dataset json/loubnabnl--the-stack-inspection-data to /Users/harm.devries/.cache/huggingface/datasets/loubnabnl___json/loubnabnl--the-stack-inspection-data-4668c990a58e432d/0.0.0/e6070c77f18f01a5ad4551a8b7edfba20b8438b7cad4d94e6ad9378022ce4aab...\n"
     ]
    },
    {
     "data": {
      "application/vnd.jupyter.widget-view+json": {
       "model_id": "b4d2dcd54faf4301b09be48151b144cc",
       "version_major": 2,
       "version_minor": 0
      },
      "text/plain": [
       "Downloading data files:   0%|          | 0/1 [00:00<?, ?it/s]"
      ]
     },
     "metadata": {},
     "output_type": "display_data"
    },
    {
     "data": {
      "application/vnd.jupyter.widget-view+json": {
       "model_id": "f626d0283ec946bab02f42edfe6d868c",
       "version_major": 2,
       "version_minor": 0
      },
      "text/plain": [
       "Downloading data:   0%|          | 0.00/5.40M [00:00<?, ?B/s]"
      ]
     },
     "metadata": {},
     "output_type": "display_data"
    },
    {
     "data": {
      "application/vnd.jupyter.widget-view+json": {
       "model_id": "087d8e4417b54e1f90e7e95984de6840",
       "version_major": 2,
       "version_minor": 0
      },
      "text/plain": [
       "Extracting data files:   0%|          | 0/1 [00:00<?, ?it/s]"
      ]
     },
     "metadata": {},
     "output_type": "display_data"
    },
    {
     "data": {
      "application/vnd.jupyter.widget-view+json": {
       "model_id": "156f28a3ccfa496380aaee197dc2a622",
       "version_major": 2,
       "version_minor": 0
      },
      "text/plain": [
       "Generating train split: 0 examples [00:00, ? examples/s]"
      ]
     },
     "metadata": {},
     "output_type": "display_data"
    },
    {
     "name": "stdout",
     "output_type": "stream",
     "text": [
      "Dataset json downloaded and prepared to /Users/harm.devries/.cache/huggingface/datasets/loubnabnl___json/loubnabnl--the-stack-inspection-data-4668c990a58e432d/0.0.0/e6070c77f18f01a5ad4551a8b7edfba20b8438b7cad4d94e6ad9378022ce4aab. Subsequent calls will reuse this data.\n"
     ]
    },
    {
     "name": "stderr",
     "output_type": "stream",
     "text": [
      "\n",
      "0it [00:00, ?it/s]\u001b[A\n",
      "455it [00:00, 4545.58it/s]\u001b[AIOStream.flush timed out\n",
      "\n",
      "639it [00:10, 49.58it/s]  \u001b[A\n",
      "1000it [00:10, 97.63it/s][A\n"
     ]
    },
    {
     "name": "stdout",
     "output_type": "stream",
     "text": [
      "288\n",
      "visual-basic\n",
      "bas\n"
     ]
    },
    {
     "name": "stderr",
     "output_type": "stream",
     "text": [
      "Using custom data configuration loubnabnl--the-stack-inspection-data-95c276c01b20d45e\n"
     ]
    },
    {
     "name": "stdout",
     "output_type": "stream",
     "text": [
      "Downloading and preparing dataset json/loubnabnl--the-stack-inspection-data to /Users/harm.devries/.cache/huggingface/datasets/loubnabnl___json/loubnabnl--the-stack-inspection-data-95c276c01b20d45e/0.0.0/e6070c77f18f01a5ad4551a8b7edfba20b8438b7cad4d94e6ad9378022ce4aab...\n"
     ]
    },
    {
     "data": {
      "application/vnd.jupyter.widget-view+json": {
       "model_id": "d4383da514b948d4b2cac0614f10c097",
       "version_major": 2,
       "version_minor": 0
      },
      "text/plain": [
       "Downloading data files:   0%|          | 0/1 [00:00<?, ?it/s]"
      ]
     },
     "metadata": {},
     "output_type": "display_data"
    },
    {
     "data": {
      "application/vnd.jupyter.widget-view+json": {
       "model_id": "2fd3f38e827944858d897f20ee28e705",
       "version_major": 2,
       "version_minor": 0
      },
      "text/plain": [
       "Downloading data:   0%|          | 0.00/9.94M [00:00<?, ?B/s]"
      ]
     },
     "metadata": {},
     "output_type": "display_data"
    },
    {
     "data": {
      "application/vnd.jupyter.widget-view+json": {
       "model_id": "efb48805dba747a68215fb31bd835d84",
       "version_major": 2,
       "version_minor": 0
      },
      "text/plain": [
       "Extracting data files:   0%|          | 0/1 [00:00<?, ?it/s]"
      ]
     },
     "metadata": {},
     "output_type": "display_data"
    },
    {
     "data": {
      "application/vnd.jupyter.widget-view+json": {
       "model_id": "fe282b235cf644ee9c93d085cdabc44f",
       "version_major": 2,
       "version_minor": 0
      },
      "text/plain": [
       "Generating train split: 0 examples [00:00, ? examples/s]"
      ]
     },
     "metadata": {},
     "output_type": "display_data"
    },
    {
     "name": "stdout",
     "output_type": "stream",
     "text": [
      "Dataset json downloaded and prepared to /Users/harm.devries/.cache/huggingface/datasets/loubnabnl___json/loubnabnl--the-stack-inspection-data-95c276c01b20d45e/0.0.0/e6070c77f18f01a5ad4551a8b7edfba20b8438b7cad4d94e6ad9378022ce4aab. Subsequent calls will reuse this data.\n"
     ]
    },
    {
     "name": "stderr",
     "output_type": "stream",
     "text": [
      "1000it [00:00, 3289.59it/s]\n"
     ]
    },
    {
     "name": "stdout",
     "output_type": "stream",
     "text": [
      "289\n",
      "visual-basic\n",
      "vbs\n"
     ]
    },
    {
     "name": "stderr",
     "output_type": "stream",
     "text": [
      "Using custom data configuration loubnabnl--the-stack-inspection-data-a1d45153fb5122fe\n"
     ]
    },
    {
     "name": "stdout",
     "output_type": "stream",
     "text": [
      "Downloading and preparing dataset json/loubnabnl--the-stack-inspection-data to /Users/harm.devries/.cache/huggingface/datasets/loubnabnl___json/loubnabnl--the-stack-inspection-data-a1d45153fb5122fe/0.0.0/e6070c77f18f01a5ad4551a8b7edfba20b8438b7cad4d94e6ad9378022ce4aab...\n"
     ]
    },
    {
     "data": {
      "application/vnd.jupyter.widget-view+json": {
       "model_id": "98faf57db4e840eeb2cd4f28cb8de1e5",
       "version_major": 2,
       "version_minor": 0
      },
      "text/plain": [
       "Downloading data files:   0%|          | 0/1 [00:00<?, ?it/s]"
      ]
     },
     "metadata": {},
     "output_type": "display_data"
    },
    {
     "data": {
      "application/vnd.jupyter.widget-view+json": {
       "model_id": "241964acfb6e49c19fbe846e224547d7",
       "version_major": 2,
       "version_minor": 0
      },
      "text/plain": [
       "Downloading data:   0%|          | 0.00/3.75M [00:00<?, ?B/s]"
      ]
     },
     "metadata": {},
     "output_type": "display_data"
    },
    {
     "data": {
      "application/vnd.jupyter.widget-view+json": {
       "model_id": "5304a042ed9843bfa7ed9cd8064ca29d",
       "version_major": 2,
       "version_minor": 0
      },
      "text/plain": [
       "Extracting data files:   0%|          | 0/1 [00:00<?, ?it/s]"
      ]
     },
     "metadata": {},
     "output_type": "display_data"
    },
    {
     "data": {
      "application/vnd.jupyter.widget-view+json": {
       "model_id": "64808b279a3b4823928967702ef6254a",
       "version_major": 2,
       "version_minor": 0
      },
      "text/plain": [
       "Generating train split: 0 examples [00:00, ? examples/s]"
      ]
     },
     "metadata": {},
     "output_type": "display_data"
    },
    {
     "name": "stdout",
     "output_type": "stream",
     "text": [
      "Dataset json downloaded and prepared to /Users/harm.devries/.cache/huggingface/datasets/loubnabnl___json/loubnabnl--the-stack-inspection-data-a1d45153fb5122fe/0.0.0/e6070c77f18f01a5ad4551a8b7edfba20b8438b7cad4d94e6ad9378022ce4aab. Subsequent calls will reuse this data.\n"
     ]
    },
    {
     "name": "stderr",
     "output_type": "stream",
     "text": [
      "\n",
      "0it [00:00, ?it/s]\u001b[A\n",
      "722it [00:00, 4916.72it/s]\u001b[A"
     ]
    },
    {
     "name": "stdout",
     "output_type": "stream",
     "text": [
      "290\n",
      "visual-basic\n",
      "vba\n"
     ]
    },
    {
     "name": "stderr",
     "output_type": "stream",
     "text": [
      "\n",
      "Using custom data configuration loubnabnl--the-stack-inspection-data-e21cff3b41d4a1b7\n"
     ]
    },
    {
     "name": "stdout",
     "output_type": "stream",
     "text": [
      "Downloading and preparing dataset json/loubnabnl--the-stack-inspection-data to /Users/harm.devries/.cache/huggingface/datasets/loubnabnl___json/loubnabnl--the-stack-inspection-data-e21cff3b41d4a1b7/0.0.0/e6070c77f18f01a5ad4551a8b7edfba20b8438b7cad4d94e6ad9378022ce4aab...\n"
     ]
    },
    {
     "data": {
      "application/vnd.jupyter.widget-view+json": {
       "model_id": "ef1f467fb864499c8d320eb253081883",
       "version_major": 2,
       "version_minor": 0
      },
      "text/plain": [
       "Downloading data files:   0%|          | 0/1 [00:00<?, ?it/s]"
      ]
     },
     "metadata": {},
     "output_type": "display_data"
    },
    {
     "data": {
      "application/vnd.jupyter.widget-view+json": {
       "model_id": "fc82b964414e4ebd97ce15f64a772be8",
       "version_major": 2,
       "version_minor": 0
      },
      "text/plain": [
       "Downloading data:   0%|          | 0.00/516k [00:00<?, ?B/s]"
      ]
     },
     "metadata": {},
     "output_type": "display_data"
    },
    {
     "data": {
      "application/vnd.jupyter.widget-view+json": {
       "model_id": "eed0bfdac8d64705b1e2df83ec63751b",
       "version_major": 2,
       "version_minor": 0
      },
      "text/plain": [
       "Extracting data files:   0%|          | 0/1 [00:00<?, ?it/s]"
      ]
     },
     "metadata": {},
     "output_type": "display_data"
    },
    {
     "data": {
      "application/vnd.jupyter.widget-view+json": {
       "model_id": "2f20e6e6012242d3a782b1adcecb66e7",
       "version_major": 2,
       "version_minor": 0
      },
      "text/plain": [
       "Generating train split: 0 examples [00:00, ? examples/s]"
      ]
     },
     "metadata": {},
     "output_type": "display_data"
    },
    {
     "name": "stdout",
     "output_type": "stream",
     "text": [
      "Dataset json downloaded and prepared to /Users/harm.devries/.cache/huggingface/datasets/loubnabnl___json/loubnabnl--the-stack-inspection-data-e21cff3b41d4a1b7/0.0.0/e6070c77f18f01a5ad4551a8b7edfba20b8438b7cad4d94e6ad9378022ce4aab. Subsequent calls will reuse this data.\n"
     ]
    },
    {
     "name": "stderr",
     "output_type": "stream",
     "text": [
      "\n",
      "77it [00:00, 4052.21it/s]"
     ]
    },
    {
     "name": "stdout",
     "output_type": "stream",
     "text": [
      "291\n",
      "visual-basic\n",
      "vbhtml\n"
     ]
    },
    {
     "name": "stderr",
     "output_type": "stream",
     "text": [
      "\n",
      "Using custom data configuration loubnabnl--the-stack-inspection-data-e41831af7c847d89\n"
     ]
    },
    {
     "name": "stdout",
     "output_type": "stream",
     "text": [
      "Downloading and preparing dataset json/loubnabnl--the-stack-inspection-data to /Users/harm.devries/.cache/huggingface/datasets/loubnabnl___json/loubnabnl--the-stack-inspection-data-e41831af7c847d89/0.0.0/e6070c77f18f01a5ad4551a8b7edfba20b8438b7cad4d94e6ad9378022ce4aab...\n"
     ]
    },
    {
     "data": {
      "application/vnd.jupyter.widget-view+json": {
       "model_id": "500396af1c8c497dab2d1d0cb5775a96",
       "version_major": 2,
       "version_minor": 0
      },
      "text/plain": [
       "Downloading data files:   0%|          | 0/1 [00:00<?, ?it/s]"
      ]
     },
     "metadata": {},
     "output_type": "display_data"
    },
    {
     "data": {
      "application/vnd.jupyter.widget-view+json": {
       "model_id": "2b1c015da33a45829b9d302d276404d4",
       "version_major": 2,
       "version_minor": 0
      },
      "text/plain": [
       "Downloading data:   0%|          | 0.00/203k [00:00<?, ?B/s]"
      ]
     },
     "metadata": {},
     "output_type": "display_data"
    },
    {
     "data": {
      "application/vnd.jupyter.widget-view+json": {
       "model_id": "076d2c8cff99475b99142099ac8b5709",
       "version_major": 2,
       "version_minor": 0
      },
      "text/plain": [
       "Extracting data files:   0%|          | 0/1 [00:00<?, ?it/s]"
      ]
     },
     "metadata": {},
     "output_type": "display_data"
    },
    {
     "data": {
      "application/vnd.jupyter.widget-view+json": {
       "model_id": "bb84eae2da804a3fbdc0d24d50ca1944",
       "version_major": 2,
       "version_minor": 0
      },
      "text/plain": [
       "Generating train split: 0 examples [00:00, ? examples/s]"
      ]
     },
     "metadata": {},
     "output_type": "display_data"
    },
    {
     "name": "stdout",
     "output_type": "stream",
     "text": [
      "Dataset json downloaded and prepared to /Users/harm.devries/.cache/huggingface/datasets/loubnabnl___json/loubnabnl--the-stack-inspection-data-e41831af7c847d89/0.0.0/e6070c77f18f01a5ad4551a8b7edfba20b8438b7cad4d94e6ad9378022ce4aab. Subsequent calls will reuse this data.\n"
     ]
    },
    {
     "name": "stderr",
     "output_type": "stream",
     "text": [
      "\n",
      "57it [00:00, 5159.16it/s]"
     ]
    },
    {
     "name": "stdout",
     "output_type": "stream",
     "text": [
      "292\n",
      "visual-basic\n",
      "frx\n"
     ]
    },
    {
     "name": "stderr",
     "output_type": "stream",
     "text": [
      "\n",
      "Using custom data configuration loubnabnl--the-stack-inspection-data-4a2bc51b0159163d\n"
     ]
    },
    {
     "name": "stdout",
     "output_type": "stream",
     "text": [
      "Downloading and preparing dataset json/loubnabnl--the-stack-inspection-data to /Users/harm.devries/.cache/huggingface/datasets/loubnabnl___json/loubnabnl--the-stack-inspection-data-4a2bc51b0159163d/0.0.0/e6070c77f18f01a5ad4551a8b7edfba20b8438b7cad4d94e6ad9378022ce4aab...\n"
     ]
    },
    {
     "data": {
      "application/vnd.jupyter.widget-view+json": {
       "model_id": "fe4b2804072c4318b37c76dc859a0209",
       "version_major": 2,
       "version_minor": 0
      },
      "text/plain": [
       "Downloading data files:   0%|          | 0/1 [00:00<?, ?it/s]"
      ]
     },
     "metadata": {},
     "output_type": "display_data"
    },
    {
     "data": {
      "application/vnd.jupyter.widget-view+json": {
       "model_id": "3718022571f243a7a2c0f46439a0536e",
       "version_major": 2,
       "version_minor": 0
      },
      "text/plain": [
       "Downloading data:   0%|          | 0.00/379k [00:00<?, ?B/s]"
      ]
     },
     "metadata": {},
     "output_type": "display_data"
    },
    {
     "data": {
      "application/vnd.jupyter.widget-view+json": {
       "model_id": "5dc34bbecd414331a03c53bbab986e7e",
       "version_major": 2,
       "version_minor": 0
      },
      "text/plain": [
       "Extracting data files:   0%|          | 0/1 [00:00<?, ?it/s]"
      ]
     },
     "metadata": {},
     "output_type": "display_data"
    },
    {
     "data": {
      "application/vnd.jupyter.widget-view+json": {
       "model_id": "54f9a494b1fc4b9194daa76d4254170a",
       "version_major": 2,
       "version_minor": 0
      },
      "text/plain": [
       "Generating train split: 0 examples [00:00, ? examples/s]"
      ]
     },
     "metadata": {},
     "output_type": "display_data"
    },
    {
     "name": "stdout",
     "output_type": "stream",
     "text": [
      "Dataset json downloaded and prepared to /Users/harm.devries/.cache/huggingface/datasets/loubnabnl___json/loubnabnl--the-stack-inspection-data-4a2bc51b0159163d/0.0.0/e6070c77f18f01a5ad4551a8b7edfba20b8438b7cad4d94e6ad9378022ce4aab. Subsequent calls will reuse this data.\n"
     ]
    },
    {
     "name": "stderr",
     "output_type": "stream",
     "text": [
      "\n",
      "38it [00:00, 7446.44it/s]"
     ]
    },
    {
     "name": "stdout",
     "output_type": "stream",
     "text": [
      "293\n",
      "xslt\n",
      "xsl\n"
     ]
    },
    {
     "name": "stderr",
     "output_type": "stream",
     "text": [
      "\n",
      "Using custom data configuration loubnabnl--the-stack-inspection-data-fd7a911b2bd3ce64\n"
     ]
    },
    {
     "name": "stdout",
     "output_type": "stream",
     "text": [
      "Downloading and preparing dataset json/loubnabnl--the-stack-inspection-data to /Users/harm.devries/.cache/huggingface/datasets/loubnabnl___json/loubnabnl--the-stack-inspection-data-fd7a911b2bd3ce64/0.0.0/e6070c77f18f01a5ad4551a8b7edfba20b8438b7cad4d94e6ad9378022ce4aab...\n"
     ]
    },
    {
     "data": {
      "application/vnd.jupyter.widget-view+json": {
       "model_id": "88cb61d4c72740fb9e86c8d5e2cbf100",
       "version_major": 2,
       "version_minor": 0
      },
      "text/plain": [
       "Downloading data files:   0%|          | 0/1 [00:00<?, ?it/s]"
      ]
     },
     "metadata": {},
     "output_type": "display_data"
    },
    {
     "data": {
      "application/vnd.jupyter.widget-view+json": {
       "model_id": "338e36c2d2db4fcb97fb78fbbc0429a8",
       "version_major": 2,
       "version_minor": 0
      },
      "text/plain": [
       "Downloading data:   0%|          | 0.00/21.1M [00:00<?, ?B/s]"
      ]
     },
     "metadata": {},
     "output_type": "display_data"
    },
    {
     "data": {
      "application/vnd.jupyter.widget-view+json": {
       "model_id": "59b99b1962e44a0a81cf15292426ff63",
       "version_major": 2,
       "version_minor": 0
      },
      "text/plain": [
       "Extracting data files:   0%|          | 0/1 [00:00<?, ?it/s]"
      ]
     },
     "metadata": {},
     "output_type": "display_data"
    },
    {
     "data": {
      "application/vnd.jupyter.widget-view+json": {
       "model_id": "6fc2a9d8e7bb4fb8a221280ca45087c6",
       "version_major": 2,
       "version_minor": 0
      },
      "text/plain": [
       "Generating train split: 0 examples [00:00, ? examples/s]"
      ]
     },
     "metadata": {},
     "output_type": "display_data"
    },
    {
     "name": "stdout",
     "output_type": "stream",
     "text": [
      "Dataset json downloaded and prepared to /Users/harm.devries/.cache/huggingface/datasets/loubnabnl___json/loubnabnl--the-stack-inspection-data-fd7a911b2bd3ce64/0.0.0/e6070c77f18f01a5ad4551a8b7edfba20b8438b7cad4d94e6ad9378022ce4aab. Subsequent calls will reuse this data.\n"
     ]
    },
    {
     "name": "stderr",
     "output_type": "stream",
     "text": [
      "1000it [00:00, 7669.88it/s]"
     ]
    },
    {
     "name": "stdout",
     "output_type": "stream",
     "text": [
      "294\n",
      "xslt\n",
      "xslt\n"
     ]
    },
    {
     "name": "stderr",
     "output_type": "stream",
     "text": [
      "\n",
      "Using custom data configuration loubnabnl--the-stack-inspection-data-ef2952e0ecda10a8\n"
     ]
    },
    {
     "name": "stdout",
     "output_type": "stream",
     "text": [
      "Downloading and preparing dataset json/loubnabnl--the-stack-inspection-data to /Users/harm.devries/.cache/huggingface/datasets/loubnabnl___json/loubnabnl--the-stack-inspection-data-ef2952e0ecda10a8/0.0.0/e6070c77f18f01a5ad4551a8b7edfba20b8438b7cad4d94e6ad9378022ce4aab...\n"
     ]
    },
    {
     "data": {
      "application/vnd.jupyter.widget-view+json": {
       "model_id": "e51de1ed7b054265a2e7e32def55a82a",
       "version_major": 2,
       "version_minor": 0
      },
      "text/plain": [
       "Downloading data files:   0%|          | 0/1 [00:00<?, ?it/s]"
      ]
     },
     "metadata": {},
     "output_type": "display_data"
    },
    {
     "data": {
      "application/vnd.jupyter.widget-view+json": {
       "model_id": "013f4f3788264dd7847e6a41ee40b317",
       "version_major": 2,
       "version_minor": 0
      },
      "text/plain": [
       "Downloading data:   0%|          | 0.00/24.3M [00:00<?, ?B/s]"
      ]
     },
     "metadata": {},
     "output_type": "display_data"
    },
    {
     "data": {
      "application/vnd.jupyter.widget-view+json": {
       "model_id": "d3ad86f3462743df8bafeda7fcfaf071",
       "version_major": 2,
       "version_minor": 0
      },
      "text/plain": [
       "Extracting data files:   0%|          | 0/1 [00:00<?, ?it/s]"
      ]
     },
     "metadata": {},
     "output_type": "display_data"
    },
    {
     "data": {
      "application/vnd.jupyter.widget-view+json": {
       "model_id": "bae8536dd1f144edb7565ee738edd567",
       "version_major": 2,
       "version_minor": 0
      },
      "text/plain": [
       "Generating train split: 0 examples [00:00, ? examples/s]"
      ]
     },
     "metadata": {},
     "output_type": "display_data"
    },
    {
     "name": "stdout",
     "output_type": "stream",
     "text": [
      "Dataset json downloaded and prepared to /Users/harm.devries/.cache/huggingface/datasets/loubnabnl___json/loubnabnl--the-stack-inspection-data-ef2952e0ecda10a8/0.0.0/e6070c77f18f01a5ad4551a8b7edfba20b8438b7cad4d94e6ad9378022ce4aab. Subsequent calls will reuse this data.\n"
     ]
    },
    {
     "name": "stderr",
     "output_type": "stream",
     "text": [
      "1000it [00:00, 7485.94it/s]"
     ]
    },
    {
     "name": "stdout",
     "output_type": "stream",
     "text": [
      "295\n",
      "yacc\n",
      "yy\n"
     ]
    },
    {
     "name": "stderr",
     "output_type": "stream",
     "text": [
      "\n",
      "Using custom data configuration loubnabnl--the-stack-inspection-data-908ca029cbb42eb1\n"
     ]
    },
    {
     "name": "stdout",
     "output_type": "stream",
     "text": [
      "Downloading and preparing dataset json/loubnabnl--the-stack-inspection-data to /Users/harm.devries/.cache/huggingface/datasets/loubnabnl___json/loubnabnl--the-stack-inspection-data-908ca029cbb42eb1/0.0.0/e6070c77f18f01a5ad4551a8b7edfba20b8438b7cad4d94e6ad9378022ce4aab...\n"
     ]
    },
    {
     "data": {
      "application/vnd.jupyter.widget-view+json": {
       "model_id": "c3bf00cb537e4c65a33e99de02b4d2f0",
       "version_major": 2,
       "version_minor": 0
      },
      "text/plain": [
       "Downloading data files:   0%|          | 0/1 [00:00<?, ?it/s]"
      ]
     },
     "metadata": {},
     "output_type": "display_data"
    },
    {
     "data": {
      "application/vnd.jupyter.widget-view+json": {
       "model_id": "4e20d1ed2b3547fa8e7063119575286d",
       "version_major": 2,
       "version_minor": 0
      },
      "text/plain": [
       "Downloading data:   0%|          | 0.00/5.56M [00:00<?, ?B/s]"
      ]
     },
     "metadata": {},
     "output_type": "display_data"
    },
    {
     "data": {
      "application/vnd.jupyter.widget-view+json": {
       "model_id": "7ab0e2f2a33c4f579d81e9a259d015f3",
       "version_major": 2,
       "version_minor": 0
      },
      "text/plain": [
       "Extracting data files:   0%|          | 0/1 [00:00<?, ?it/s]"
      ]
     },
     "metadata": {},
     "output_type": "display_data"
    },
    {
     "data": {
      "application/vnd.jupyter.widget-view+json": {
       "model_id": "f1a53901d21d4fae81bfe164c58a21ee",
       "version_major": 2,
       "version_minor": 0
      },
      "text/plain": [
       "Generating train split: 0 examples [00:00, ? examples/s]"
      ]
     },
     "metadata": {},
     "output_type": "display_data"
    },
    {
     "name": "stdout",
     "output_type": "stream",
     "text": [
      "Dataset json downloaded and prepared to /Users/harm.devries/.cache/huggingface/datasets/loubnabnl___json/loubnabnl--the-stack-inspection-data-908ca029cbb42eb1/0.0.0/e6070c77f18f01a5ad4551a8b7edfba20b8438b7cad4d94e6ad9378022ce4aab. Subsequent calls will reuse this data.\n"
     ]
    },
    {
     "name": "stderr",
     "output_type": "stream",
     "text": [
      "\n",
      "0it [00:00, ?it/s]\u001b[A\n",
      "1000it [00:00, 5060.17it/s][A\n"
     ]
    },
    {
     "name": "stdout",
     "output_type": "stream",
     "text": [
      "296\n",
      "yacc\n",
      "y\n"
     ]
    },
    {
     "name": "stderr",
     "output_type": "stream",
     "text": [
      "Using custom data configuration loubnabnl--the-stack-inspection-data-2ccd021bd7cd243b\n"
     ]
    },
    {
     "name": "stdout",
     "output_type": "stream",
     "text": [
      "Downloading and preparing dataset json/loubnabnl--the-stack-inspection-data to /Users/harm.devries/.cache/huggingface/datasets/loubnabnl___json/loubnabnl--the-stack-inspection-data-2ccd021bd7cd243b/0.0.0/e6070c77f18f01a5ad4551a8b7edfba20b8438b7cad4d94e6ad9378022ce4aab...\n"
     ]
    },
    {
     "data": {
      "application/vnd.jupyter.widget-view+json": {
       "model_id": "21475fd544b2476d948b323a15ad6a47",
       "version_major": 2,
       "version_minor": 0
      },
      "text/plain": [
       "Downloading data files:   0%|          | 0/1 [00:00<?, ?it/s]"
      ]
     },
     "metadata": {},
     "output_type": "display_data"
    },
    {
     "data": {
      "application/vnd.jupyter.widget-view+json": {
       "model_id": "1115dd34d24f451ab92bc2eaa7fa5f89",
       "version_major": 2,
       "version_minor": 0
      },
      "text/plain": [
       "Downloading data:   0%|          | 0.00/41.6M [00:00<?, ?B/s]"
      ]
     },
     "metadata": {},
     "output_type": "display_data"
    },
    {
     "data": {
      "application/vnd.jupyter.widget-view+json": {
       "model_id": "b26820db362e4901badcdad49e02e65f",
       "version_major": 2,
       "version_minor": 0
      },
      "text/plain": [
       "Extracting data files:   0%|          | 0/1 [00:00<?, ?it/s]"
      ]
     },
     "metadata": {},
     "output_type": "display_data"
    },
    {
     "data": {
      "application/vnd.jupyter.widget-view+json": {
       "model_id": "3ac31e1bf14e42cda942ec866a641297",
       "version_major": 2,
       "version_minor": 0
      },
      "text/plain": [
       "Generating train split: 0 examples [00:00, ? examples/s]"
      ]
     },
     "metadata": {},
     "output_type": "display_data"
    },
    {
     "name": "stdout",
     "output_type": "stream",
     "text": [
      "Dataset json downloaded and prepared to /Users/harm.devries/.cache/huggingface/datasets/loubnabnl___json/loubnabnl--the-stack-inspection-data-2ccd021bd7cd243b/0.0.0/e6070c77f18f01a5ad4551a8b7edfba20b8438b7cad4d94e6ad9378022ce4aab. Subsequent calls will reuse this data.\n"
     ]
    },
    {
     "name": "stderr",
     "output_type": "stream",
     "text": [
      "1000it [00:00, 1027.11it/s]\n"
     ]
    },
    {
     "name": "stdout",
     "output_type": "stream",
     "text": [
      "297\n",
      "yacc\n",
      "yacc\n"
     ]
    },
    {
     "name": "stderr",
     "output_type": "stream",
     "text": [
      "Using custom data configuration loubnabnl--the-stack-inspection-data-b2306f421a7fb582\n"
     ]
    },
    {
     "name": "stdout",
     "output_type": "stream",
     "text": [
      "Downloading and preparing dataset json/loubnabnl--the-stack-inspection-data to /Users/harm.devries/.cache/huggingface/datasets/loubnabnl___json/loubnabnl--the-stack-inspection-data-b2306f421a7fb582/0.0.0/e6070c77f18f01a5ad4551a8b7edfba20b8438b7cad4d94e6ad9378022ce4aab...\n"
     ]
    },
    {
     "data": {
      "application/vnd.jupyter.widget-view+json": {
       "model_id": "90118747b3c648579b283c6d7d5d3c73",
       "version_major": 2,
       "version_minor": 0
      },
      "text/plain": [
       "Downloading data files:   0%|          | 0/1 [00:00<?, ?it/s]"
      ]
     },
     "metadata": {},
     "output_type": "display_data"
    },
    {
     "data": {
      "application/vnd.jupyter.widget-view+json": {
       "model_id": "01c0c4b2adb5494d942e57f3ff6ee534",
       "version_major": 2,
       "version_minor": 0
      },
      "text/plain": [
       "Downloading data:   0%|          | 0.00/177k [00:00<?, ?B/s]"
      ]
     },
     "metadata": {},
     "output_type": "display_data"
    },
    {
     "data": {
      "application/vnd.jupyter.widget-view+json": {
       "model_id": "eeba4fe683984877854a4562b9cbb43e",
       "version_major": 2,
       "version_minor": 0
      },
      "text/plain": [
       "Extracting data files:   0%|          | 0/1 [00:00<?, ?it/s]"
      ]
     },
     "metadata": {},
     "output_type": "display_data"
    },
    {
     "data": {
      "application/vnd.jupyter.widget-view+json": {
       "model_id": "822ab97482394b3d92c750ccd2914f9a",
       "version_major": 2,
       "version_minor": 0
      },
      "text/plain": [
       "Generating train split: 0 examples [00:00, ? examples/s]"
      ]
     },
     "metadata": {},
     "output_type": "display_data"
    },
    {
     "name": "stdout",
     "output_type": "stream",
     "text": [
      "Dataset json downloaded and prepared to /Users/harm.devries/.cache/huggingface/datasets/loubnabnl___json/loubnabnl--the-stack-inspection-data-b2306f421a7fb582/0.0.0/e6070c77f18f01a5ad4551a8b7edfba20b8438b7cad4d94e6ad9378022ce4aab. Subsequent calls will reuse this data.\n"
     ]
    },
    {
     "name": "stderr",
     "output_type": "stream",
     "text": [
      "\n",
      "14it [00:00, 2164.16it/s]"
     ]
    },
    {
     "name": "stdout",
     "output_type": "stream",
     "text": [
      "298\n",
      "zig\n",
      "zig\n"
     ]
    },
    {
     "name": "stderr",
     "output_type": "stream",
     "text": [
      "\n",
      "Using custom data configuration loubnabnl--the-stack-inspection-data-633f792272fbe7f6\n"
     ]
    },
    {
     "name": "stdout",
     "output_type": "stream",
     "text": [
      "Downloading and preparing dataset json/loubnabnl--the-stack-inspection-data to /Users/harm.devries/.cache/huggingface/datasets/loubnabnl___json/loubnabnl--the-stack-inspection-data-633f792272fbe7f6/0.0.0/e6070c77f18f01a5ad4551a8b7edfba20b8438b7cad4d94e6ad9378022ce4aab...\n"
     ]
    },
    {
     "data": {
      "application/vnd.jupyter.widget-view+json": {
       "model_id": "3a146fc449d34c8e9d9f4d8765ab36d9",
       "version_major": 2,
       "version_minor": 0
      },
      "text/plain": [
       "Downloading data files:   0%|          | 0/1 [00:00<?, ?it/s]"
      ]
     },
     "metadata": {},
     "output_type": "display_data"
    },
    {
     "data": {
      "application/vnd.jupyter.widget-view+json": {
       "model_id": "9813bfac5cc445f9927a3f962da0285d",
       "version_major": 2,
       "version_minor": 0
      },
      "text/plain": [
       "Downloading data:   0%|          | 0.00/29.1M [00:00<?, ?B/s]"
      ]
     },
     "metadata": {},
     "output_type": "display_data"
    },
    {
     "data": {
      "application/vnd.jupyter.widget-view+json": {
       "model_id": "566a97c68ecc41dbb693c2355d894f1c",
       "version_major": 2,
       "version_minor": 0
      },
      "text/plain": [
       "Extracting data files:   0%|          | 0/1 [00:00<?, ?it/s]"
      ]
     },
     "metadata": {},
     "output_type": "display_data"
    },
    {
     "data": {
      "application/vnd.jupyter.widget-view+json": {
       "model_id": "31294e59763848b295055239302c4080",
       "version_major": 2,
       "version_minor": 0
      },
      "text/plain": [
       "Generating train split: 0 examples [00:00, ? examples/s]"
      ]
     },
     "metadata": {},
     "output_type": "display_data"
    },
    {
     "name": "stdout",
     "output_type": "stream",
     "text": [
      "Dataset json downloaded and prepared to /Users/harm.devries/.cache/huggingface/datasets/loubnabnl___json/loubnabnl--the-stack-inspection-data-633f792272fbe7f6/0.0.0/e6070c77f18f01a5ad4551a8b7edfba20b8438b7cad4d94e6ad9378022ce4aab. Subsequent calls will reuse this data.\n"
     ]
    },
    {
     "name": "stderr",
     "output_type": "stream",
     "text": [
      "1000it [00:00, 1312.98it/s]\n"
     ]
    }
   ],
   "source": [
    "import math\n",
    "# stats = list()\n",
    "for i in range(len(stats), len(df)):\n",
    "    language = df.loc[i]['language']\n",
    "    ext = df.loc[i]['extension']\n",
    "    print(i)\n",
    "    print(language)\n",
    "    print(ext)\n",
    "    result = None\n",
    "    if isinstance(ext, str):\n",
    "        result = get_lang_counter(language, ext)\n",
    "    stats.append((language, ext, result))"
   ]
  },
  {
   "cell_type": "code",
   "execution_count": 73,
   "id": "b2715c79",
   "metadata": {},
   "outputs": [],
   "source": [
    "import pickle \n",
    "\n",
    "pickle.dump(stats, open('stats.pkl', 'wb'))"
   ]
  },
  {
   "cell_type": "code",
   "execution_count": 2,
   "id": "0d5d6813",
   "metadata": {},
   "outputs": [
    {
     "name": "stdout",
     "output_type": "stream",
     "text": [
      "ada ada 0 2\n",
      "ada adb 75 4\n",
      "ada ads 0 12\n",
      "agda agda 0 1\n",
      "alloy als 0 2\n",
      "antlr g4 0 8\n",
      "applescript applescript 0 9\n",
      "applescript scpt 0 3\n",
      "assembly a51 0 0\n",
      "assembly asm 0 318\n",
      "assembly nasm 0 0\n",
      "augeas aug 19 6\n",
      "awk auk 0 0\n",
      "awk awk 2 27\n",
      "awk gawk 0 0\n",
      "awk mawk 0 0\n",
      "awk nawk 0 0\n",
      "batchfile bat 0 2\n",
      "batchfile cmd 0 3\n",
      "bison bison 0 0\n",
      "bluespec bsv 0 6\n",
      "c c 0 15\n",
      "c cats 0 1\n",
      "c h 0 5\n",
      "c w 0 1\n",
      "c++ c++ 0 1\n",
      "c++ cc 0 1\n",
      "c++ cp 0 0\n",
      "c++ cpp 0 6\n",
      "c++ cxx 0 0\n",
      "c++ h++ 0 0\n",
      "c++ hh 0 0\n",
      "c++ hpp 0 5\n",
      "c++ hxx 0 0\n",
      "c++ inl 0 1\n",
      "c++ ipp 0 2\n",
      "c++ tcc 0 0\n",
      "c++ tpp 0 0\n",
      "c-sharp cake 0 0\n",
      "c-sharp cs 0 0\n",
      "c-sharp cshtml 0 1\n",
      "c-sharp csx 0 0\n",
      "clojure boot 0 0\n",
      "clojure cl2 0 0\n",
      "clojure clj 0 11\n",
      "clojure cljc 0 4\n",
      "clojure cljs 0 4\n",
      "clojure cljx 0 0\n",
      "cmake cmake 0 0\n",
      "coffeescript _coffee 0 0\n",
      "coffeescript cjsx 0 0\n",
      "coffeescript coffee 1 7\n",
      "coffeescript cson 1 4\n",
      "coffeescript iced 0 0\n",
      "common-lisp asd 6 0\n",
      "common-lisp lisp 0 7\n",
      "common-lisp lsp 0 3\n",
      "common-lisp ny 0 0\n",
      "common-lisp sexp 0 8\n",
      "css css 0 0\n",
      "cuda cu 0 1\n",
      "cuda cuh 0 3\n",
      "dart dart 0 0\n",
      "dockerfile 1 0 0\n",
      "dockerfile 3 0 0\n",
      "dockerfile dockerfile 0 0\n",
      "dockerfile mustache 0 0\n",
      "dockerfile nan 0 0\n",
      "elixir ex 0 1\n",
      "elixir exs 0 1\n",
      "elm elm 0 16\n",
      "emacs-lisp el 0 3\n",
      "emacs-lisp emacs 0 0\n",
      "erlang erl 0 9\n",
      "erlang escript 0 0\n",
      "erlang hrl 1 13\n",
      "erlang xrl 0 0\n",
      "erlang yrl 0 0\n",
      "f-sharp fs 0 8\n",
      "f-sharp fsi 0 1\n",
      "f-sharp fsx 0 4\n",
      "fortran f 0 25\n",
      "fortran f03 0 0\n",
      "fortran f08 0 0\n",
      "fortran f77 0 0\n",
      "fortran f90 0 16\n",
      "fortran f95 0 1\n",
      "fortran for 0 8\n",
      "fortran fpp 0 2\n",
      "glsl fp 1 87\n",
      "glsl frag 21 4\n",
      "glsl frg 0 25\n",
      "glsl fsh 0 1\n",
      "glsl fshader 0 0\n",
      "glsl geo 0 33\n",
      "glsl geom 1 7\n",
      "glsl glsl 0 11\n",
      "glsl glslv 0 0\n",
      "glsl shader 0 0\n",
      "glsl vert 0 2\n",
      "glsl vrx 2 0\n",
      "glsl vsh 0 0\n",
      "glsl vshader 0 0\n",
      "go go 1 1\n",
      "groovy groovy 0 2\n",
      "groovy grt 0 2\n",
      "groovy gtpl 0 0\n",
      "groovy gvy 0 0\n",
      "haskell hs 6 3\n",
      "haskell hsc 0 0\n",
      "html htm 13 4\n",
      "html html 14 3\n",
      "html xht 1 0\n",
      "html xhtml 75 0\n",
      "idris idr 0 1\n",
      "idris lidr 0 0\n",
      "isabelle thy 2 2\n",
      "java java 0 0\n",
      "java-server-pages jsp 4 2\n",
      "javascript es6 0 0\n",
      "javascript js 0 13\n",
      "javascript jsm 0 0\n",
      "javascript pac 0 0\n",
      "javascript sjs 0 0\n",
      "javascript xsjslib 0 0\n",
      "julia jl 0 5\n",
      "kotlin kt 0 1\n",
      "kotlin kts 0 15\n",
      "lean hlean 0 0\n",
      "lean lean 0 0\n",
      "literate-agda lagda 0 1\n",
      "literate-coffeescript litcoffee 0 2\n",
      "literate-haskell lhs 0 1\n",
      "lua lua 0 10\n",
      "lua nse 0 0\n",
      "lua wlua 0 1\n",
      "makefile cmake 0 0\n",
      "makefile mak 0 1\n",
      "makefile mk 0 6\n",
      "makefile nan 0 0\n",
      "makefile txt 0 0\n",
      "maple mpl 544 10\n",
      "markdown markdown 0 0\n",
      "markdown md 0 2\n",
      "markdown mkd 0 0\n",
      "markdown mkdn 0 0\n",
      "markdown ron 0 0\n",
      "mathematica cdf 2 188\n",
      "mathematica ma 0 120\n",
      "mathematica mathematica 0 0\n",
      "mathematica mt 2 54\n",
      "mathematica nb 0 81\n",
      "mathematica nbp 0 0\n",
      "mathematica wl 0 16\n",
      "mathematica wlt 0 3\n",
      "matlab matlab 0 918\n",
      "ocaml eliom 0 0\n",
      "ocaml eliomi 0 0\n",
      "ocaml ml 0 26\n",
      "ocaml ml4 0 0\n",
      "ocaml mli 0 1\n",
      "ocaml mll 0 3\n",
      "ocaml mly 0 0\n",
      "pascal dfm 1 65\n",
      "pascal dpr 0 0\n",
      "pascal lpr 10 0\n",
      "pascal pas 0 6\n",
      "perl al 1 225\n",
      "perl perl 0 2\n",
      "perl ph 0 1\n",
      "perl pl 0 32\n",
      "perl plx 13 0\n",
      "perl pm 0 10\n",
      "perl psgi 0 0\n",
      "perl t 0 12\n",
      "php ctp 0 0\n",
      "php php 0 6\n",
      "php phpt 0 0\n",
      "powershell ps1 0 2\n",
      "powershell psd1 0 1\n",
      "powershell psm1 1 2\n",
      "prolog prolog 0 5\n",
      "prolog yap 0 17\n",
      "protocol-buffer proto 0 25\n",
      "python bzl 0 0\n",
      "python gyp 0 0\n",
      "python py 0 2\n",
      "python pyde 0 0\n",
      "python pyw 0 0\n",
      "r r 1 23\n",
      "r rd 16 11\n",
      "r rsx 0 1\n",
      "racket rktd 0 60\n",
      "racket rktl 0 24\n",
      "racket scrbl 0 0\n",
      "restructuredtext rest 0 0\n",
      "restructuredtext rst 3 13\n",
      "rmarkdown rmd 0 1\n",
      "ruby builder 0 0\n",
      "ruby gemspec 0 0\n",
      "ruby jbuilder 0 0\n",
      "ruby podspec 0 0\n",
      "ruby rabl 0 0\n",
      "ruby rake 0 0\n",
      "ruby rb 0 0\n",
      "ruby rbw 0 0\n",
      "ruby ru 0 1\n",
      "ruby ruby 0 0\n",
      "ruby thor 0 0\n",
      "rust rs 0 1\n",
      "sas sas 0 210\n",
      "scala sbt 4 1\n",
      "scala scala 0 0\n",
      "scheme scm 3 20\n",
      "scheme sld 521 34\n",
      "scheme sps 64 25\n",
      "shell bash 0 1\n",
      "shell bats 0 0\n",
      "shell command 0 0\n",
      "shell ksh 0 0\n",
      "shell sh 0 0\n",
      "shell tmux 0 0\n",
      "shell tool 0 0\n",
      "shell zsh 0 0\n",
      "smalltalk st 0 2\n",
      "solidity sol 0 25\n",
      "sparql rq 0 4\n",
      "sparql sparql 0 6\n",
      "sql cql 0 0\n",
      "sql db2 0 0\n",
      "sql ddl 0 4\n",
      "sql pck 0 1\n",
      "sql pkb 0 0\n",
      "sql pks 0 0\n",
      "sql plb 0 0\n",
      "sql pls 0 1\n",
      "sql plsql 0 0\n",
      "sql prc 0 2\n",
      "sql sql 0 12\n",
      "sql tab 2 107\n",
      "sql udf 0 0\n",
      "standard-ml fun 0 4\n",
      "standard-ml sig 1 235\n",
      "standard-ml sml 1 13\n",
      "stata ado 231 62\n",
      "stata do 0 8\n",
      "stata doh 0 0\n",
      "stata ihlp 0 1\n",
      "stata mata 0 0\n",
      "stata matah 0 0\n",
      "stata sthlp 0 0\n",
      "systemverilog sv 0 9\n",
      "systemverilog svh 0 18\n",
      "systemverilog vh 0 30\n",
      "tcl adp 2 2\n",
      "tcl tcl 0 3\n",
      "tcl tm 13 14\n",
      "tcsh csh 0 2\n",
      "tcsh tcsh 0 0\n",
      "tex aux 0 0\n",
      "tex bbx 0 1\n",
      "tex bib 0 0\n",
      "tex cbx 1 0\n",
      "tex dtx 3 0\n",
      "tex ins 0 10\n",
      "tex lbx 0 0\n",
      "tex ltx 0 3\n",
      "tex mkii 0 0\n",
      "tex mkiv 0 0\n",
      "tex mkvi 0 0\n",
      "tex sty 2 0\n",
      "tex tex 1 32\n",
      "tex toc 0 4\n",
      "thrift thrift 0 2\n",
      "typescript ts 20 3\n",
      "typescript tsx 3 22\n",
      "verilog veo 0 0\n",
      "vhdl vhd 0 15\n",
      "vhdl vhdl 0 2\n",
      "vhdl vhf 0 0\n",
      "vhdl vhi 0 0\n",
      "vhdl vho 0 0\n",
      "vhdl vht 0 0\n",
      "vhdl vhw 0 0\n",
      "visual-basic bas 0 19\n",
      "visual-basic frm 1 3\n",
      "visual-basic frx 27 2\n",
      "visual-basic vb 0 0\n",
      "visual-basic vba 0 0\n",
      "visual-basic vbhtml 0 0\n",
      "visual-basic vbs 0 0\n",
      "xslt xsl 861 0\n",
      "xslt xslt 852 1\n",
      "yacc y 1 115\n",
      "yacc yacc 0 0\n",
      "yacc yy 0 16\n",
      "zig zig 0 2\n"
     ]
    }
   ],
   "source": [
    "import pickle\n",
    "saved_stats = pickle.load(open('stats.pkl', 'rb'))\n",
    "\n",
    "languages = list()\n",
    "for row in saved_stats:\n",
    "    if row[0] not in languages and row[0] != 'stan':\n",
    "        languages.append(row[0])\n",
    "        \n",
    "for lang in languages:\n",
    "    exts = [row for row in saved_stats if row[0] == lang]\n",
    "    exts = sorted(exts, key=lambda x: str(x[1]))\n",
    "    \n",
    "    for ext in exts:\n",
    "        if ext[2] is not None:\n",
    "            print(ext[0], ext[1], ext[2]['xml'], ext[2]['data'])\n",
    "        else:\n",
    "            print(ext[0], ext[1], 0, 0)\n",
    "# for row in stats2:\n",
    "#     if row[2] is not None:\n",
    "#         print(row[1], row[2]['xml'], row[2]['data'])\n",
    "#     else:\n",
    "#         print(row[1], 0, 0)"
   ]
  },
  {
   "cell_type": "code",
   "execution_count": 45,
   "id": "0bdb2015",
   "metadata": {},
   "outputs": [
    {
     "data": {
      "text/plain": [
       "[('pascal', 'dfm', {'xml': 1, 'data': 65, 'unknown': 934}),\n",
       " ('html', 'xhtml', {'xml': 75, 'data': 0, 'unknown': 74}),\n",
       " ('ada', 'adb', {'xml': 75, 'data': 4, 'unknown': 921}),\n",
       " ('mathematica', 'nb', {'xml': 0, 'data': 81, 'unknown': 919}),\n",
       " ('glsl', 'fp', {'xml': 1, 'data': 87, 'unknown': 133}),\n",
       " ('scheme', 'sps', {'xml': 64, 'data': 25, 'unknown': 357}),\n",
       " ('sql', 'tab', {'xml': 2, 'data': 107, 'unknown': 158}),\n",
       " ('yacc', 'y', {'xml': 1, 'data': 115, 'unknown': 884}),\n",
       " ('mathematica', 'ma', {'xml': 0, 'data': 120, 'unknown': 619}),\n",
       " ('mathematica', 'cdf', {'xml': 2, 'data': 188, 'unknown': 420}),\n",
       " ('sas', 'sas', {'xml': 0, 'data': 210, 'unknown': 790}),\n",
       " ('perl', 'al', {'xml': 1, 'data': 225, 'unknown': 562}),\n",
       " ('standard-ml', 'sig', {'xml': 1, 'data': 235, 'unknown': 764}),\n",
       " ('stata', 'ado', {'xml': 231, 'data': 62, 'unknown': 707}),\n",
       " ('assembly', 'asm', {'xml': 0, 'data': 318, 'unknown': 682}),\n",
       " ('maple', 'mpl', {'xml': 544, 'data': 10, 'unknown': 446}),\n",
       " ('scheme', 'sld', {'xml': 521, 'data': 34, 'unknown': 445}),\n",
       " ('xslt', 'xslt', {'xml': 852, 'data': 1, 'unknown': 147}),\n",
       " ('xslt', 'xsl', {'xml': 861, 'data': 0, 'unknown': 139}),\n",
       " ('matlab', 'matlab', {'xml': 0, 'data': 918, 'unknown': 82})]"
      ]
     },
     "execution_count": 45,
     "metadata": {},
     "output_type": "execute_result"
    }
   ],
   "source": [
    "sorted_stats = exts = sorted(saved_stats, key=lambda x: (x[2]['xml']+x[2]['data'] if x[2] != None else 0))\n",
    "sorted_stats[-20:]"
   ]
  }
 ],
 "metadata": {
  "kernelspec": {
   "display_name": "Python 3 (ipykernel)",
   "language": "python",
   "name": "python3"
  },
  "language_info": {
   "codemirror_mode": {
    "name": "ipython",
    "version": 3
   },
   "file_extension": ".py",
   "mimetype": "text/x-python",
   "name": "python",
   "nbconvert_exporter": "python",
   "pygments_lexer": "ipython3",
   "version": "3.9.12"
  }
 },
 "nbformat": 4,
 "nbformat_minor": 5
}
