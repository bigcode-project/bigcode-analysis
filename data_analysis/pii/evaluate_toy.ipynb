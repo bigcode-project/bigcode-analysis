{
 "cells": [
  {
   "cell_type": "code",
   "execution_count": 1,
   "id": "e7e6106d",
   "metadata": {},
   "outputs": [],
   "source": [
    "from evaluate import evaluate_pii_metrics\n",
    "from evaluate_loubna import evaluate_pii_ds"
   ]
  },
  {
   "cell_type": "code",
   "execution_count": 12,
   "id": "15a4e656",
   "metadata": {},
   "outputs": [],
   "source": [
    "import json\n",
    "pii = [{'tag': 'KEY', 'start': 99, 'end': 110}, {'tag': 'EMAIL', 'start': 0, 'end': 7},\n",
    "           {'tag': 'EMAIL', 'start': 10, 'end': 20}]\n",
    "secrets = [{'tag': 'KEY', 'start': 99, 'end': 109}, {'tag': 'EMAIL', 'start': 10, 'end': 21}]"
   ]
  },
  {
   "cell_type": "code",
   "execution_count": 13,
   "id": "0589f003",
   "metadata": {},
   "outputs": [],
   "source": [
    "dataset = [\n",
    "    {\n",
    "        'file': 'hello_wold.py',\n",
    "        'secrets': json.dumps(secrets),\n",
    "        'pii': json.dumps(pii),\n",
    "        \n",
    "    },\n",
    "    {\n",
    "        'file': 'hello_wold.py',\n",
    "        'secrets': json.dumps(pii),\n",
    "        'pii': json.dumps(secrets[:1]),\n",
    "        \n",
    "    }\n",
    "]"
   ]
  },
  {
   "cell_type": "code",
   "execution_count": 14,
   "id": "2df1ca65",
   "metadata": {},
   "outputs": [
    {
     "data": {
      "text/plain": [
       "{'EMAIL': {'TP_pred': [{'tag': 'EMAIL', 'start': 10, 'end': 20}],\n",
       "  'TP_ref': [{'tag': 'EMAIL', 'start': 10, 'end': 21}],\n",
       "  'FN': [],\n",
       "  'FP': [{'tag': 'EMAIL', 'start': 0, 'end': 7}]},\n",
       " 'IP_ADDRESS': {'TP_pred': [], 'TP_ref': [], 'FN': [], 'FP': []},\n",
       " 'KEY': {'TP_pred': [{'tag': 'KEY', 'start': 99, 'end': 110}],\n",
       "  'TP_ref': [{'tag': 'KEY', 'start': 99, 'end': 109}],\n",
       "  'FN': [],\n",
       "  'FP': []}}"
      ]
     },
     "execution_count": 14,
     "metadata": {},
     "output_type": "execute_result"
    }
   ],
   "source": [
    "_, _, d = evaluate_pii_ds(dataset, return_details=True)\n",
    "d[0]"
   ]
  },
  {
   "cell_type": "code",
   "execution_count": 6,
   "id": "cc8fa485",
   "metadata": {},
   "outputs": [
    {
     "data": {
      "text/html": [
       "<div>\n",
       "<style scoped>\n",
       "    .dataframe tbody tr th:only-of-type {\n",
       "        vertical-align: middle;\n",
       "    }\n",
       "\n",
       "    .dataframe tbody tr th {\n",
       "        vertical-align: top;\n",
       "    }\n",
       "\n",
       "    .dataframe thead th {\n",
       "        text-align: right;\n",
       "    }\n",
       "</style>\n",
       "<table border=\"1\" class=\"dataframe\">\n",
       "  <thead>\n",
       "    <tr style=\"text-align: right;\">\n",
       "      <th></th>\n",
       "      <th>TP_ref</th>\n",
       "      <th>TP_pred</th>\n",
       "      <th>FN</th>\n",
       "      <th>FP</th>\n",
       "    </tr>\n",
       "  </thead>\n",
       "  <tbody>\n",
       "    <tr>\n",
       "      <th>EMAIL</th>\n",
       "      <td>2</td>\n",
       "      <td>1</td>\n",
       "      <td>0</td>\n",
       "      <td>2</td>\n",
       "    </tr>\n",
       "    <tr>\n",
       "      <th>IP_ADDRESS</th>\n",
       "      <td>0</td>\n",
       "      <td>0</td>\n",
       "      <td>0</td>\n",
       "      <td>0</td>\n",
       "    </tr>\n",
       "    <tr>\n",
       "      <th>SSH_KEY</th>\n",
       "      <td>0</td>\n",
       "      <td>0</td>\n",
       "      <td>0</td>\n",
       "      <td>0</td>\n",
       "    </tr>\n",
       "    <tr>\n",
       "      <th>API_KEY</th>\n",
       "      <td>2</td>\n",
       "      <td>2</td>\n",
       "      <td>0</td>\n",
       "      <td>0</td>\n",
       "    </tr>\n",
       "    <tr>\n",
       "      <th>NAME</th>\n",
       "      <td>0</td>\n",
       "      <td>0</td>\n",
       "      <td>0</td>\n",
       "      <td>0</td>\n",
       "    </tr>\n",
       "    <tr>\n",
       "      <th>USERNAME</th>\n",
       "      <td>0</td>\n",
       "      <td>0</td>\n",
       "      <td>0</td>\n",
       "      <td>0</td>\n",
       "    </tr>\n",
       "    <tr>\n",
       "      <th>PASSWORD</th>\n",
       "      <td>0</td>\n",
       "      <td>0</td>\n",
       "      <td>0</td>\n",
       "      <td>0</td>\n",
       "    </tr>\n",
       "    <tr>\n",
       "      <th>AMBIGUOUS</th>\n",
       "      <td>0</td>\n",
       "      <td>0</td>\n",
       "      <td>0</td>\n",
       "      <td>0</td>\n",
       "    </tr>\n",
       "  </tbody>\n",
       "</table>\n",
       "</div>"
      ],
      "text/plain": [
       "            TP_ref  TP_pred  FN  FP\n",
       "EMAIL            2        1   0   2\n",
       "IP_ADDRESS       0        0   0   0\n",
       "SSH_KEY          0        0   0   0\n",
       "API_KEY          2        2   0   0\n",
       "NAME             0        0   0   0\n",
       "USERNAME         0        0   0   0\n",
       "PASSWORD         0        0   0   0\n",
       "AMBIGUOUS        0        0   0   0"
      ]
     },
     "execution_count": 6,
     "metadata": {},
     "output_type": "execute_result"
    }
   ],
   "source": [
    "import pandas as pd\n",
    "df = evaluate_pii_metrics(dataset)\n",
    "summary = df.sum()\n",
    "df"
   ]
  },
  {
   "cell_type": "code",
   "execution_count": 7,
   "id": "eaa3f480",
   "metadata": {},
   "outputs": [],
   "source": [
    "metric_df, detail_metrics, details = evaluate_pii_metrics(dataset, return_details=True)"
   ]
  },
  {
   "cell_type": "code",
   "execution_count": 11,
   "id": "ea791d65",
   "metadata": {},
   "outputs": [
    {
     "name": "stdout",
     "output_type": "stream",
     "text": [
      "Precision  0.6\n",
      "Recall  1.0\n"
     ]
    }
   ],
   "source": [
    "print('Precision ', summary['TP_pred'] / (summary['TP_pred'] + summary['FP']))\n",
    "print('Recall ', summary['TP_ref'] / (summary['TP_ref'] +  summary['FN']))"
   ]
  },
  {
   "cell_type": "code",
   "execution_count": 12,
   "id": "446e0594",
   "metadata": {},
   "outputs": [
    {
     "data": {
      "text/html": [
       "<div>\n",
       "<style scoped>\n",
       "    .dataframe tbody tr th:only-of-type {\n",
       "        vertical-align: middle;\n",
       "    }\n",
       "\n",
       "    .dataframe tbody tr th {\n",
       "        vertical-align: top;\n",
       "    }\n",
       "\n",
       "    .dataframe thead tr th {\n",
       "        text-align: left;\n",
       "    }\n",
       "</style>\n",
       "<table border=\"1\" class=\"dataframe\">\n",
       "  <thead>\n",
       "    <tr>\n",
       "      <th></th>\n",
       "      <th colspan=\"4\" halign=\"left\">EMAIL</th>\n",
       "      <th colspan=\"4\" halign=\"left\">IP_ADDRESS</th>\n",
       "      <th colspan=\"2\" halign=\"left\">SSH_KEY</th>\n",
       "      <th>...</th>\n",
       "      <th colspan=\"2\" halign=\"left\">USERNAME</th>\n",
       "      <th colspan=\"4\" halign=\"left\">PASSWORD</th>\n",
       "      <th colspan=\"4\" halign=\"left\">AMBIGUOUS</th>\n",
       "    </tr>\n",
       "    <tr>\n",
       "      <th></th>\n",
       "      <th>TP_ref</th>\n",
       "      <th>TP_pred</th>\n",
       "      <th>FN</th>\n",
       "      <th>FP</th>\n",
       "      <th>TP_ref</th>\n",
       "      <th>TP_pred</th>\n",
       "      <th>FN</th>\n",
       "      <th>FP</th>\n",
       "      <th>TP_ref</th>\n",
       "      <th>TP_pred</th>\n",
       "      <th>...</th>\n",
       "      <th>FN</th>\n",
       "      <th>FP</th>\n",
       "      <th>TP_ref</th>\n",
       "      <th>TP_pred</th>\n",
       "      <th>FN</th>\n",
       "      <th>FP</th>\n",
       "      <th>TP_ref</th>\n",
       "      <th>TP_pred</th>\n",
       "      <th>FN</th>\n",
       "      <th>FP</th>\n",
       "    </tr>\n",
       "  </thead>\n",
       "  <tbody>\n",
       "    <tr>\n",
       "      <th>0</th>\n",
       "      <td>2</td>\n",
       "      <td>1</td>\n",
       "      <td>0</td>\n",
       "      <td>0</td>\n",
       "      <td>0</td>\n",
       "      <td>0</td>\n",
       "      <td>0</td>\n",
       "      <td>0</td>\n",
       "      <td>0</td>\n",
       "      <td>0</td>\n",
       "      <td>...</td>\n",
       "      <td>0</td>\n",
       "      <td>0</td>\n",
       "      <td>0</td>\n",
       "      <td>0</td>\n",
       "      <td>0</td>\n",
       "      <td>0</td>\n",
       "      <td>0</td>\n",
       "      <td>0</td>\n",
       "      <td>0</td>\n",
       "      <td>0</td>\n",
       "    </tr>\n",
       "    <tr>\n",
       "      <th>1</th>\n",
       "      <td>0</td>\n",
       "      <td>0</td>\n",
       "      <td>0</td>\n",
       "      <td>2</td>\n",
       "      <td>0</td>\n",
       "      <td>0</td>\n",
       "      <td>0</td>\n",
       "      <td>0</td>\n",
       "      <td>0</td>\n",
       "      <td>0</td>\n",
       "      <td>...</td>\n",
       "      <td>0</td>\n",
       "      <td>0</td>\n",
       "      <td>0</td>\n",
       "      <td>0</td>\n",
       "      <td>0</td>\n",
       "      <td>0</td>\n",
       "      <td>0</td>\n",
       "      <td>0</td>\n",
       "      <td>0</td>\n",
       "      <td>0</td>\n",
       "    </tr>\n",
       "  </tbody>\n",
       "</table>\n",
       "<p>2 rows × 32 columns</p>\n",
       "</div>"
      ],
      "text/plain": [
       "   EMAIL               IP_ADDRESS               SSH_KEY          ... USERNAME  \\\n",
       "  TP_ref TP_pred FN FP     TP_ref TP_pred FN FP  TP_ref TP_pred  ...       FN   \n",
       "0      2       1  0  0          0       0  0  0       0       0  ...        0   \n",
       "1      0       0  0  2          0       0  0  0       0       0  ...        0   \n",
       "\n",
       "     PASSWORD               AMBIGUOUS                \n",
       "  FP   TP_ref TP_pred FN FP    TP_ref TP_pred FN FP  \n",
       "0  0        0       0  0  0         0       0  0  0  \n",
       "1  0        0       0  0  0         0       0  0  0  \n",
       "\n",
       "[2 rows x 32 columns]"
      ]
     },
     "execution_count": 12,
     "metadata": {},
     "output_type": "execute_result"
    }
   ],
   "source": [
    "# show detail metrics for each tag and sample\n",
    "pd.concat(detail_metrics).T"
   ]
  },
  {
   "cell_type": "code",
   "execution_count": 13,
   "id": "902d44a2",
   "metadata": {},
   "outputs": [
    {
     "data": {
      "text/plain": [
       "{'TP_ref': [{'tag': 'EMAIL', 'start': 0, 'end': 7},\n",
       "  {'tag': 'EMAIL', 'start': 10, 'end': 20}],\n",
       " 'TP_pred': [{'tag': 'EMAIL', 'start': 0, 'end': 119}],\n",
       " 'FN': [],\n",
       " 'FP': []}"
      ]
     },
     "execution_count": 13,
     "metadata": {},
     "output_type": "execute_result"
    }
   ],
   "source": [
    "# show evaluation details for sample 0\n",
    "details[0]['EMAIL']"
   ]
  },
  {
   "cell_type": "code",
   "execution_count": null,
   "id": "b9a2b512",
   "metadata": {},
   "outputs": [],
   "source": []
  }
 ],
 "metadata": {
  "kernelspec": {
   "display_name": "Python 3 (ipykernel)",
   "language": "python",
   "name": "python3"
  },
  "language_info": {
   "codemirror_mode": {
    "name": "ipython",
    "version": 3
   },
   "file_extension": ".py",
   "mimetype": "text/x-python",
   "name": "python",
   "nbconvert_exporter": "python",
   "pygments_lexer": "ipython3",
   "version": "3.10.6"
  }
 },
 "nbformat": 4,
 "nbformat_minor": 5
}
